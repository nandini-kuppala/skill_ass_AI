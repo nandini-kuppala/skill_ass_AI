{
 "cells": [
  {
   "cell_type": "code",
   "execution_count": 1,
   "metadata": {},
   "outputs": [
    {
     "name": "stdout",
     "output_type": "stream",
     "text": [
      "Requirement already satisfied: crewai in c:\\users\\knand\\onedrive\\desktop\\skill ass\\skill_ass\\lib\\site-packages (0.108.0)\n",
      "Requirement already satisfied: python-dotenv in c:\\users\\knand\\onedrive\\desktop\\skill ass\\skill_ass\\lib\\site-packages (1.1.0)\n",
      "Requirement already satisfied: PyPDF2 in c:\\users\\knand\\onedrive\\desktop\\skill ass\\skill_ass\\lib\\site-packages (3.0.1)\n",
      "Requirement already satisfied: python-docx in c:\\users\\knand\\onedrive\\desktop\\skill ass\\skill_ass\\lib\\site-packages (1.1.2)\n",
      "Requirement already satisfied: PyMuPDF in c:\\users\\knand\\onedrive\\desktop\\skill ass\\skill_ass\\lib\\site-packages (1.25.4)\n",
      "Requirement already satisfied: langchain in c:\\users\\knand\\onedrive\\desktop\\skill ass\\skill_ass\\lib\\site-packages (0.3.21)\n",
      "Requirement already satisfied: langchain-google-genai in c:\\users\\knand\\onedrive\\desktop\\skill ass\\skill_ass\\lib\\site-packages (2.0.10)\n",
      "Requirement already satisfied: google-generativeai in c:\\users\\knand\\onedrive\\desktop\\skill ass\\skill_ass\\lib\\site-packages (0.8.4)\n",
      "Requirement already satisfied: beautifulsoup4 in c:\\users\\knand\\onedrive\\desktop\\skill ass\\skill_ass\\lib\\site-packages (4.13.3)\n",
      "Requirement already satisfied: requests in c:\\users\\knand\\onedrive\\desktop\\skill ass\\skill_ass\\lib\\site-packages (2.32.3)\n",
      "Requirement already satisfied: opencv-python in c:\\users\\knand\\onedrive\\desktop\\skill ass\\skill_ass\\lib\\site-packages (4.11.0.86)\n",
      "Requirement already satisfied: numpy in c:\\users\\knand\\onedrive\\desktop\\skill ass\\skill_ass\\lib\\site-packages (2.2.4)\n",
      "Requirement already satisfied: pytesseract in c:\\users\\knand\\onedrive\\desktop\\skill ass\\skill_ass\\lib\\site-packages (0.3.13)\n",
      "Requirement already satisfied: Pillow in c:\\users\\knand\\onedrive\\desktop\\skill ass\\skill_ass\\lib\\site-packages (11.1.0)\n",
      "Requirement already satisfied: pyzbar in c:\\users\\knand\\onedrive\\desktop\\skill ass\\skill_ass\\lib\\site-packages (0.1.9)\n",
      "Requirement already satisfied: appdirs>=1.4.4 in c:\\users\\knand\\onedrive\\desktop\\skill ass\\skill_ass\\lib\\site-packages (from crewai) (1.4.4)\n",
      "Requirement already satisfied: auth0-python>=4.7.1 in c:\\users\\knand\\onedrive\\desktop\\skill ass\\skill_ass\\lib\\site-packages (from crewai) (4.8.1)\n",
      "Requirement already satisfied: blinker>=1.9.0 in c:\\users\\knand\\onedrive\\desktop\\skill ass\\skill_ass\\lib\\site-packages (from crewai) (1.9.0)\n",
      "Requirement already satisfied: chromadb>=0.5.23 in c:\\users\\knand\\onedrive\\desktop\\skill ass\\skill_ass\\lib\\site-packages (from crewai) (0.6.3)\n",
      "Requirement already satisfied: click>=8.1.7 in c:\\users\\knand\\onedrive\\desktop\\skill ass\\skill_ass\\lib\\site-packages (from crewai) (8.1.8)\n",
      "Requirement already satisfied: instructor>=1.3.3 in c:\\users\\knand\\onedrive\\desktop\\skill ass\\skill_ass\\lib\\site-packages (from crewai) (1.7.7)\n",
      "Requirement already satisfied: json-repair>=0.25.2 in c:\\users\\knand\\onedrive\\desktop\\skill ass\\skill_ass\\lib\\site-packages (from crewai) (0.39.1)\n",
      "Requirement already satisfied: json5>=0.10.0 in c:\\users\\knand\\onedrive\\desktop\\skill ass\\skill_ass\\lib\\site-packages (from crewai) (0.10.0)\n",
      "Requirement already satisfied: jsonref>=1.1.0 in c:\\users\\knand\\onedrive\\desktop\\skill ass\\skill_ass\\lib\\site-packages (from crewai) (1.1.0)\n",
      "Requirement already satisfied: litellm==1.60.2 in c:\\users\\knand\\onedrive\\desktop\\skill ass\\skill_ass\\lib\\site-packages (from crewai) (1.60.2)\n",
      "Requirement already satisfied: openai>=1.13.3 in c:\\users\\knand\\onedrive\\desktop\\skill ass\\skill_ass\\lib\\site-packages (from crewai) (1.66.5)\n",
      "Requirement already satisfied: openpyxl>=3.1.5 in c:\\users\\knand\\onedrive\\desktop\\skill ass\\skill_ass\\lib\\site-packages (from crewai) (3.1.5)\n",
      "Requirement already satisfied: opentelemetry-api>=1.22.0 in c:\\users\\knand\\onedrive\\desktop\\skill ass\\skill_ass\\lib\\site-packages (from crewai) (1.31.0)\n",
      "Requirement already satisfied: opentelemetry-exporter-otlp-proto-http>=1.22.0 in c:\\users\\knand\\onedrive\\desktop\\skill ass\\skill_ass\\lib\\site-packages (from crewai) (1.31.0)\n",
      "Requirement already satisfied: opentelemetry-sdk>=1.22.0 in c:\\users\\knand\\onedrive\\desktop\\skill ass\\skill_ass\\lib\\site-packages (from crewai) (1.31.0)\n",
      "Requirement already satisfied: pdfplumber>=0.11.4 in c:\\users\\knand\\onedrive\\desktop\\skill ass\\skill_ass\\lib\\site-packages (from crewai) (0.11.5)\n",
      "Requirement already satisfied: pydantic>=2.4.2 in c:\\users\\knand\\onedrive\\desktop\\skill ass\\skill_ass\\lib\\site-packages (from crewai) (2.10.6)\n",
      "Requirement already satisfied: pyvis>=0.3.2 in c:\\users\\knand\\onedrive\\desktop\\skill ass\\skill_ass\\lib\\site-packages (from crewai) (0.3.2)\n",
      "Requirement already satisfied: regex>=2024.9.11 in c:\\users\\knand\\onedrive\\desktop\\skill ass\\skill_ass\\lib\\site-packages (from crewai) (2024.11.6)\n",
      "Requirement already satisfied: tomli-w>=1.1.0 in c:\\users\\knand\\onedrive\\desktop\\skill ass\\skill_ass\\lib\\site-packages (from crewai) (1.2.0)\n",
      "Requirement already satisfied: tomli>=2.0.2 in c:\\users\\knand\\onedrive\\desktop\\skill ass\\skill_ass\\lib\\site-packages (from crewai) (2.2.1)\n",
      "Requirement already satisfied: uv>=0.4.25 in c:\\users\\knand\\onedrive\\desktop\\skill ass\\skill_ass\\lib\\site-packages (from crewai) (0.6.8)\n",
      "Requirement already satisfied: aiohttp in c:\\users\\knand\\onedrive\\desktop\\skill ass\\skill_ass\\lib\\site-packages (from litellm==1.60.2->crewai) (3.11.14)\n",
      "Requirement already satisfied: httpx<0.28.0,>=0.23.0 in c:\\users\\knand\\onedrive\\desktop\\skill ass\\skill_ass\\lib\\site-packages (from litellm==1.60.2->crewai) (0.27.2)\n",
      "Requirement already satisfied: importlib-metadata>=6.8.0 in c:\\users\\knand\\onedrive\\desktop\\skill ass\\skill_ass\\lib\\site-packages (from litellm==1.60.2->crewai) (8.6.1)\n",
      "Requirement already satisfied: jinja2<4.0.0,>=3.1.2 in c:\\users\\knand\\onedrive\\desktop\\skill ass\\skill_ass\\lib\\site-packages (from litellm==1.60.2->crewai) (3.1.6)\n",
      "Requirement already satisfied: jsonschema<5.0.0,>=4.22.0 in c:\\users\\knand\\onedrive\\desktop\\skill ass\\skill_ass\\lib\\site-packages (from litellm==1.60.2->crewai) (4.23.0)\n",
      "Requirement already satisfied: tiktoken>=0.7.0 in c:\\users\\knand\\onedrive\\desktop\\skill ass\\skill_ass\\lib\\site-packages (from litellm==1.60.2->crewai) (0.9.0)\n",
      "Requirement already satisfied: tokenizers in c:\\users\\knand\\onedrive\\desktop\\skill ass\\skill_ass\\lib\\site-packages (from litellm==1.60.2->crewai) (0.21.1)\n",
      "Requirement already satisfied: lxml>=3.1.0 in c:\\users\\knand\\onedrive\\desktop\\skill ass\\skill_ass\\lib\\site-packages (from python-docx) (5.3.1)\n",
      "Requirement already satisfied: typing-extensions>=4.9.0 in c:\\users\\knand\\onedrive\\desktop\\skill ass\\skill_ass\\lib\\site-packages (from python-docx) (4.12.2)\n",
      "Requirement already satisfied: langchain-core<1.0.0,>=0.3.45 in c:\\users\\knand\\onedrive\\desktop\\skill ass\\skill_ass\\lib\\site-packages (from langchain) (0.3.49)\n",
      "Requirement already satisfied: langchain-text-splitters<1.0.0,>=0.3.7 in c:\\users\\knand\\onedrive\\desktop\\skill ass\\skill_ass\\lib\\site-packages (from langchain) (0.3.7)\n",
      "Requirement already satisfied: langsmith<0.4,>=0.1.17 in c:\\users\\knand\\onedrive\\desktop\\skill ass\\skill_ass\\lib\\site-packages (from langchain) (0.3.16)\n",
      "Requirement already satisfied: SQLAlchemy<3,>=1.4 in c:\\users\\knand\\onedrive\\desktop\\skill ass\\skill_ass\\lib\\site-packages (from langchain) (2.0.39)\n",
      "Requirement already satisfied: PyYAML>=5.3 in c:\\users\\knand\\onedrive\\desktop\\skill ass\\skill_ass\\lib\\site-packages (from langchain) (6.0.2)\n",
      "Requirement already satisfied: filetype<2.0.0,>=1.2.0 in c:\\users\\knand\\onedrive\\desktop\\skill ass\\skill_ass\\lib\\site-packages (from langchain-google-genai) (1.2.0)\n",
      "Requirement already satisfied: google-ai-generativelanguage==0.6.15 in c:\\users\\knand\\onedrive\\desktop\\skill ass\\skill_ass\\lib\\site-packages (from google-generativeai) (0.6.15)\n",
      "Requirement already satisfied: google-api-core in c:\\users\\knand\\onedrive\\desktop\\skill ass\\skill_ass\\lib\\site-packages (from google-generativeai) (2.24.2)\n",
      "Requirement already satisfied: google-api-python-client in c:\\users\\knand\\onedrive\\desktop\\skill ass\\skill_ass\\lib\\site-packages (from google-generativeai) (2.166.0)\n",
      "Requirement already satisfied: google-auth>=2.15.0 in c:\\users\\knand\\onedrive\\desktop\\skill ass\\skill_ass\\lib\\site-packages (from google-generativeai) (2.38.0)\n",
      "Requirement already satisfied: protobuf in c:\\users\\knand\\onedrive\\desktop\\skill ass\\skill_ass\\lib\\site-packages (from google-generativeai) (5.29.3)\n",
      "Requirement already satisfied: tqdm in c:\\users\\knand\\onedrive\\desktop\\skill ass\\skill_ass\\lib\\site-packages (from google-generativeai) (4.67.1)\n",
      "Requirement already satisfied: proto-plus<2.0.0dev,>=1.22.3 in c:\\users\\knand\\onedrive\\desktop\\skill ass\\skill_ass\\lib\\site-packages (from google-ai-generativelanguage==0.6.15->google-generativeai) (1.26.1)\n",
      "Requirement already satisfied: soupsieve>1.2 in c:\\users\\knand\\onedrive\\desktop\\skill ass\\skill_ass\\lib\\site-packages (from beautifulsoup4) (2.6)\n",
      "Requirement already satisfied: charset-normalizer<4,>=2 in c:\\users\\knand\\onedrive\\desktop\\skill ass\\skill_ass\\lib\\site-packages (from requests) (3.4.1)\n",
      "Requirement already satisfied: idna<4,>=2.5 in c:\\users\\knand\\onedrive\\desktop\\skill ass\\skill_ass\\lib\\site-packages (from requests) (3.10)\n",
      "Requirement already satisfied: urllib3<3,>=1.21.1 in c:\\users\\knand\\onedrive\\desktop\\skill ass\\skill_ass\\lib\\site-packages (from requests) (2.3.0)\n",
      "Requirement already satisfied: certifi>=2017.4.17 in c:\\users\\knand\\onedrive\\desktop\\skill ass\\skill_ass\\lib\\site-packages (from requests) (2025.1.31)\n",
      "Requirement already satisfied: packaging>=21.3 in c:\\users\\knand\\onedrive\\desktop\\skill ass\\skill_ass\\lib\\site-packages (from pytesseract) (24.2)\n",
      "Requirement already satisfied: cryptography>=43.0.1 in c:\\users\\knand\\onedrive\\desktop\\skill ass\\skill_ass\\lib\\site-packages (from auth0-python>=4.7.1->crewai) (44.0.2)\n",
      "Requirement already satisfied: pyjwt>=2.8.0 in c:\\users\\knand\\onedrive\\desktop\\skill ass\\skill_ass\\lib\\site-packages (from auth0-python>=4.7.1->crewai) (2.10.1)\n",
      "Requirement already satisfied: build>=1.0.3 in c:\\users\\knand\\onedrive\\desktop\\skill ass\\skill_ass\\lib\\site-packages (from chromadb>=0.5.23->crewai) (1.2.2.post1)\n",
      "Requirement already satisfied: chroma-hnswlib==0.7.6 in c:\\users\\knand\\onedrive\\desktop\\skill ass\\skill_ass\\lib\\site-packages (from chromadb>=0.5.23->crewai) (0.7.6)\n",
      "Requirement already satisfied: fastapi>=0.95.2 in c:\\users\\knand\\onedrive\\desktop\\skill ass\\skill_ass\\lib\\site-packages (from chromadb>=0.5.23->crewai) (0.115.11)\n",
      "Requirement already satisfied: uvicorn>=0.18.3 in c:\\users\\knand\\onedrive\\desktop\\skill ass\\skill_ass\\lib\\site-packages (from uvicorn[standard]>=0.18.3->chromadb>=0.5.23->crewai) (0.34.0)\n",
      "Requirement already satisfied: posthog>=2.4.0 in c:\\users\\knand\\onedrive\\desktop\\skill ass\\skill_ass\\lib\\site-packages (from chromadb>=0.5.23->crewai) (3.21.0)\n",
      "Requirement already satisfied: onnxruntime>=1.14.1 in c:\\users\\knand\\onedrive\\desktop\\skill ass\\skill_ass\\lib\\site-packages (from chromadb>=0.5.23->crewai) (1.21.0)\n",
      "Requirement already satisfied: opentelemetry-exporter-otlp-proto-grpc>=1.2.0 in c:\\users\\knand\\onedrive\\desktop\\skill ass\\skill_ass\\lib\\site-packages (from chromadb>=0.5.23->crewai) (1.31.0)\n",
      "Requirement already satisfied: opentelemetry-instrumentation-fastapi>=0.41b0 in c:\\users\\knand\\onedrive\\desktop\\skill ass\\skill_ass\\lib\\site-packages (from chromadb>=0.5.23->crewai) (0.52b0)\n",
      "Requirement already satisfied: pypika>=0.48.9 in c:\\users\\knand\\onedrive\\desktop\\skill ass\\skill_ass\\lib\\site-packages (from chromadb>=0.5.23->crewai) (0.48.9)\n",
      "Requirement already satisfied: overrides>=7.3.1 in c:\\users\\knand\\onedrive\\desktop\\skill ass\\skill_ass\\lib\\site-packages (from chromadb>=0.5.23->crewai) (7.7.0)\n",
      "Requirement already satisfied: importlib-resources in c:\\users\\knand\\onedrive\\desktop\\skill ass\\skill_ass\\lib\\site-packages (from chromadb>=0.5.23->crewai) (6.5.2)\n",
      "Requirement already satisfied: grpcio>=1.58.0 in c:\\users\\knand\\onedrive\\desktop\\skill ass\\skill_ass\\lib\\site-packages (from chromadb>=0.5.23->crewai) (1.71.0)\n",
      "Requirement already satisfied: bcrypt>=4.0.1 in c:\\users\\knand\\onedrive\\desktop\\skill ass\\skill_ass\\lib\\site-packages (from chromadb>=0.5.23->crewai) (4.3.0)\n",
      "Requirement already satisfied: typer>=0.9.0 in c:\\users\\knand\\onedrive\\desktop\\skill ass\\skill_ass\\lib\\site-packages (from chromadb>=0.5.23->crewai) (0.15.2)\n",
      "Requirement already satisfied: kubernetes>=28.1.0 in c:\\users\\knand\\onedrive\\desktop\\skill ass\\skill_ass\\lib\\site-packages (from chromadb>=0.5.23->crewai) (32.0.1)\n",
      "Requirement already satisfied: tenacity>=8.2.3 in c:\\users\\knand\\onedrive\\desktop\\skill ass\\skill_ass\\lib\\site-packages (from chromadb>=0.5.23->crewai) (9.0.0)\n",
      "Requirement already satisfied: mmh3>=4.0.1 in c:\\users\\knand\\onedrive\\desktop\\skill ass\\skill_ass\\lib\\site-packages (from chromadb>=0.5.23->crewai) (5.1.0)\n",
      "Requirement already satisfied: orjson>=3.9.12 in c:\\users\\knand\\onedrive\\desktop\\skill ass\\skill_ass\\lib\\site-packages (from chromadb>=0.5.23->crewai) (3.10.15)\n",
      "Requirement already satisfied: rich>=10.11.0 in c:\\users\\knand\\onedrive\\desktop\\skill ass\\skill_ass\\lib\\site-packages (from chromadb>=0.5.23->crewai) (13.9.4)\n",
      "Requirement already satisfied: colorama in c:\\users\\knand\\onedrive\\desktop\\skill ass\\skill_ass\\lib\\site-packages (from click>=8.1.7->crewai) (0.4.6)\n",
      "Requirement already satisfied: googleapis-common-protos<2.0.0,>=1.56.2 in c:\\users\\knand\\onedrive\\desktop\\skill ass\\skill_ass\\lib\\site-packages (from google-api-core->google-generativeai) (1.69.2)\n",
      "Requirement already satisfied: cachetools<6.0,>=2.0.0 in c:\\users\\knand\\onedrive\\desktop\\skill ass\\skill_ass\\lib\\site-packages (from google-auth>=2.15.0->google-generativeai) (5.5.2)\n",
      "Requirement already satisfied: pyasn1-modules>=0.2.1 in c:\\users\\knand\\onedrive\\desktop\\skill ass\\skill_ass\\lib\\site-packages (from google-auth>=2.15.0->google-generativeai) (0.4.1)\n",
      "Requirement already satisfied: rsa<5,>=3.1.4 in c:\\users\\knand\\onedrive\\desktop\\skill ass\\skill_ass\\lib\\site-packages (from google-auth>=2.15.0->google-generativeai) (4.9)\n",
      "Requirement already satisfied: docstring-parser<1.0,>=0.16 in c:\\users\\knand\\onedrive\\desktop\\skill ass\\skill_ass\\lib\\site-packages (from instructor>=1.3.3->crewai) (0.16)\n",
      "Requirement already satisfied: jiter<0.9,>=0.6.1 in c:\\users\\knand\\onedrive\\desktop\\skill ass\\skill_ass\\lib\\site-packages (from instructor>=1.3.3->crewai) (0.8.2)\n",
      "Requirement already satisfied: pydantic-core<3.0.0,>=2.18.0 in c:\\users\\knand\\onedrive\\desktop\\skill ass\\skill_ass\\lib\\site-packages (from instructor>=1.3.3->crewai) (2.27.2)\n",
      "Requirement already satisfied: jsonpatch<2.0,>=1.33 in c:\\users\\knand\\onedrive\\desktop\\skill ass\\skill_ass\\lib\\site-packages (from langchain-core<1.0.0,>=0.3.45->langchain) (1.33)\n",
      "Requirement already satisfied: requests-toolbelt<2.0.0,>=1.0.0 in c:\\users\\knand\\onedrive\\desktop\\skill ass\\skill_ass\\lib\\site-packages (from langsmith<0.4,>=0.1.17->langchain) (1.0.0)\n",
      "Requirement already satisfied: zstandard<0.24.0,>=0.23.0 in c:\\users\\knand\\onedrive\\desktop\\skill ass\\skill_ass\\lib\\site-packages (from langsmith<0.4,>=0.1.17->langchain) (0.23.0)\n",
      "Requirement already satisfied: anyio<5,>=3.5.0 in c:\\users\\knand\\onedrive\\desktop\\skill ass\\skill_ass\\lib\\site-packages (from openai>=1.13.3->crewai) (4.9.0)\n",
      "Requirement already satisfied: distro<2,>=1.7.0 in c:\\users\\knand\\onedrive\\desktop\\skill ass\\skill_ass\\lib\\site-packages (from openai>=1.13.3->crewai) (1.9.0)\n",
      "Requirement already satisfied: sniffio in c:\\users\\knand\\onedrive\\desktop\\skill ass\\skill_ass\\lib\\site-packages (from openai>=1.13.3->crewai) (1.3.1)\n",
      "Requirement already satisfied: et-xmlfile in c:\\users\\knand\\onedrive\\desktop\\skill ass\\skill_ass\\lib\\site-packages (from openpyxl>=3.1.5->crewai) (2.0.0)\n",
      "Requirement already satisfied: deprecated>=1.2.6 in c:\\users\\knand\\onedrive\\desktop\\skill ass\\skill_ass\\lib\\site-packages (from opentelemetry-api>=1.22.0->crewai) (1.2.18)\n",
      "Requirement already satisfied: opentelemetry-exporter-otlp-proto-common==1.31.0 in c:\\users\\knand\\onedrive\\desktop\\skill ass\\skill_ass\\lib\\site-packages (from opentelemetry-exporter-otlp-proto-http>=1.22.0->crewai) (1.31.0)\n",
      "Requirement already satisfied: opentelemetry-proto==1.31.0 in c:\\users\\knand\\onedrive\\desktop\\skill ass\\skill_ass\\lib\\site-packages (from opentelemetry-exporter-otlp-proto-http>=1.22.0->crewai) (1.31.0)\n",
      "Requirement already satisfied: opentelemetry-semantic-conventions==0.52b0 in c:\\users\\knand\\onedrive\\desktop\\skill ass\\skill_ass\\lib\\site-packages (from opentelemetry-sdk>=1.22.0->crewai) (0.52b0)\n",
      "Requirement already satisfied: pdfminer.six==20231228 in c:\\users\\knand\\onedrive\\desktop\\skill ass\\skill_ass\\lib\\site-packages (from pdfplumber>=0.11.4->crewai) (20231228)\n",
      "Requirement already satisfied: pypdfium2>=4.18.0 in c:\\users\\knand\\onedrive\\desktop\\skill ass\\skill_ass\\lib\\site-packages (from pdfplumber>=0.11.4->crewai) (4.30.1)\n",
      "Requirement already satisfied: annotated-types>=0.6.0 in c:\\users\\knand\\onedrive\\desktop\\skill ass\\skill_ass\\lib\\site-packages (from pydantic>=2.4.2->crewai) (0.7.0)\n",
      "Requirement already satisfied: ipython>=5.3.0 in c:\\users\\knand\\onedrive\\desktop\\skill ass\\skill_ass\\lib\\site-packages (from pyvis>=0.3.2->crewai) (9.0.2)\n",
      "Requirement already satisfied: jsonpickle>=1.4.1 in c:\\users\\knand\\onedrive\\desktop\\skill ass\\skill_ass\\lib\\site-packages (from pyvis>=0.3.2->crewai) (4.0.2)\n",
      "Requirement already satisfied: networkx>=1.11 in c:\\users\\knand\\onedrive\\desktop\\skill ass\\skill_ass\\lib\\site-packages (from pyvis>=0.3.2->crewai) (3.4.2)\n",
      "Requirement already satisfied: greenlet!=0.4.17 in c:\\users\\knand\\onedrive\\desktop\\skill ass\\skill_ass\\lib\\site-packages (from SQLAlchemy<3,>=1.4->langchain) (3.1.1)\n",
      "Requirement already satisfied: httplib2<1.0.0,>=0.19.0 in c:\\users\\knand\\onedrive\\desktop\\skill ass\\skill_ass\\lib\\site-packages (from google-api-python-client->google-generativeai) (0.22.0)\n",
      "Requirement already satisfied: google-auth-httplib2<1.0.0,>=0.2.0 in c:\\users\\knand\\onedrive\\desktop\\skill ass\\skill_ass\\lib\\site-packages (from google-api-python-client->google-generativeai) (0.2.0)\n",
      "Requirement already satisfied: uritemplate<5,>=3.0.1 in c:\\users\\knand\\onedrive\\desktop\\skill ass\\skill_ass\\lib\\site-packages (from google-api-python-client->google-generativeai) (4.1.1)\n",
      "Requirement already satisfied: aiohappyeyeballs>=2.3.0 in c:\\users\\knand\\onedrive\\desktop\\skill ass\\skill_ass\\lib\\site-packages (from aiohttp->litellm==1.60.2->crewai) (2.6.1)\n",
      "Requirement already satisfied: aiosignal>=1.1.2 in c:\\users\\knand\\onedrive\\desktop\\skill ass\\skill_ass\\lib\\site-packages (from aiohttp->litellm==1.60.2->crewai) (1.3.2)\n",
      "Requirement already satisfied: attrs>=17.3.0 in c:\\users\\knand\\onedrive\\desktop\\skill ass\\skill_ass\\lib\\site-packages (from aiohttp->litellm==1.60.2->crewai) (25.3.0)\n",
      "Requirement already satisfied: frozenlist>=1.1.1 in c:\\users\\knand\\onedrive\\desktop\\skill ass\\skill_ass\\lib\\site-packages (from aiohttp->litellm==1.60.2->crewai) (1.5.0)\n",
      "Requirement already satisfied: multidict<7.0,>=4.5 in c:\\users\\knand\\onedrive\\desktop\\skill ass\\skill_ass\\lib\\site-packages (from aiohttp->litellm==1.60.2->crewai) (6.2.0)\n",
      "Requirement already satisfied: propcache>=0.2.0 in c:\\users\\knand\\onedrive\\desktop\\skill ass\\skill_ass\\lib\\site-packages (from aiohttp->litellm==1.60.2->crewai) (0.3.0)\n",
      "Requirement already satisfied: yarl<2.0,>=1.17.0 in c:\\users\\knand\\onedrive\\desktop\\skill ass\\skill_ass\\lib\\site-packages (from aiohttp->litellm==1.60.2->crewai) (1.18.3)\n",
      "Requirement already satisfied: pyproject_hooks in c:\\users\\knand\\onedrive\\desktop\\skill ass\\skill_ass\\lib\\site-packages (from build>=1.0.3->chromadb>=0.5.23->crewai) (1.2.0)\n",
      "Requirement already satisfied: cffi>=1.12 in c:\\users\\knand\\onedrive\\desktop\\skill ass\\skill_ass\\lib\\site-packages (from cryptography>=43.0.1->auth0-python>=4.7.1->crewai) (1.17.1)\n",
      "Requirement already satisfied: wrapt<2,>=1.10 in c:\\users\\knand\\onedrive\\desktop\\skill ass\\skill_ass\\lib\\site-packages (from deprecated>=1.2.6->opentelemetry-api>=1.22.0->crewai) (1.17.2)\n",
      "Requirement already satisfied: starlette<0.47.0,>=0.40.0 in c:\\users\\knand\\onedrive\\desktop\\skill ass\\skill_ass\\lib\\site-packages (from fastapi>=0.95.2->chromadb>=0.5.23->crewai) (0.46.1)\n",
      "Requirement already satisfied: grpcio-status<2.0.dev0,>=1.33.2 in c:\\users\\knand\\onedrive\\desktop\\skill ass\\skill_ass\\lib\\site-packages (from google-api-core[grpc]!=2.0.*,!=2.1.*,!=2.10.*,!=2.2.*,!=2.3.*,!=2.4.*,!=2.5.*,!=2.6.*,!=2.7.*,!=2.8.*,!=2.9.*,<3.0.0dev,>=1.34.1->google-ai-generativelanguage==0.6.15->google-generativeai) (1.71.0)\n",
      "Requirement already satisfied: pyparsing!=3.0.0,!=3.0.1,!=3.0.2,!=3.0.3,<4,>=2.4.2 in c:\\users\\knand\\onedrive\\desktop\\skill ass\\skill_ass\\lib\\site-packages (from httplib2<1.0.0,>=0.19.0->google-api-python-client->google-generativeai) (3.2.3)\n",
      "Requirement already satisfied: httpcore==1.* in c:\\users\\knand\\onedrive\\desktop\\skill ass\\skill_ass\\lib\\site-packages (from httpx<0.28.0,>=0.23.0->litellm==1.60.2->crewai) (1.0.7)\n",
      "Requirement already satisfied: h11<0.15,>=0.13 in c:\\users\\knand\\onedrive\\desktop\\skill ass\\skill_ass\\lib\\site-packages (from httpcore==1.*->httpx<0.28.0,>=0.23.0->litellm==1.60.2->crewai) (0.14.0)\n",
      "Requirement already satisfied: zipp>=3.20 in c:\\users\\knand\\onedrive\\desktop\\skill ass\\skill_ass\\lib\\site-packages (from importlib-metadata>=6.8.0->litellm==1.60.2->crewai) (3.21.0)\n",
      "Requirement already satisfied: decorator in c:\\users\\knand\\onedrive\\desktop\\skill ass\\skill_ass\\lib\\site-packages (from ipython>=5.3.0->pyvis>=0.3.2->crewai) (5.2.1)\n",
      "Requirement already satisfied: ipython-pygments-lexers in c:\\users\\knand\\onedrive\\desktop\\skill ass\\skill_ass\\lib\\site-packages (from ipython>=5.3.0->pyvis>=0.3.2->crewai) (1.1.1)\n",
      "Requirement already satisfied: jedi>=0.16 in c:\\users\\knand\\onedrive\\desktop\\skill ass\\skill_ass\\lib\\site-packages (from ipython>=5.3.0->pyvis>=0.3.2->crewai) (0.19.2)\n",
      "Requirement already satisfied: matplotlib-inline in c:\\users\\knand\\onedrive\\desktop\\skill ass\\skill_ass\\lib\\site-packages (from ipython>=5.3.0->pyvis>=0.3.2->crewai) (0.1.7)\n",
      "Requirement already satisfied: prompt_toolkit<3.1.0,>=3.0.41 in c:\\users\\knand\\onedrive\\desktop\\skill ass\\skill_ass\\lib\\site-packages (from ipython>=5.3.0->pyvis>=0.3.2->crewai) (3.0.50)\n",
      "Requirement already satisfied: pygments>=2.4.0 in c:\\users\\knand\\onedrive\\desktop\\skill ass\\skill_ass\\lib\\site-packages (from ipython>=5.3.0->pyvis>=0.3.2->crewai) (2.19.1)\n",
      "Requirement already satisfied: stack_data in c:\\users\\knand\\onedrive\\desktop\\skill ass\\skill_ass\\lib\\site-packages (from ipython>=5.3.0->pyvis>=0.3.2->crewai) (0.6.3)\n",
      "Requirement already satisfied: traitlets>=5.13.0 in c:\\users\\knand\\onedrive\\desktop\\skill ass\\skill_ass\\lib\\site-packages (from ipython>=5.3.0->pyvis>=0.3.2->crewai) (5.14.3)\n",
      "Requirement already satisfied: MarkupSafe>=2.0 in c:\\users\\knand\\onedrive\\desktop\\skill ass\\skill_ass\\lib\\site-packages (from jinja2<4.0.0,>=3.1.2->litellm==1.60.2->crewai) (3.0.2)\n",
      "Requirement already satisfied: jsonpointer>=1.9 in c:\\users\\knand\\onedrive\\desktop\\skill ass\\skill_ass\\lib\\site-packages (from jsonpatch<2.0,>=1.33->langchain-core<1.0.0,>=0.3.45->langchain) (3.0.0)\n",
      "Requirement already satisfied: jsonschema-specifications>=2023.03.6 in c:\\users\\knand\\onedrive\\desktop\\skill ass\\skill_ass\\lib\\site-packages (from jsonschema<5.0.0,>=4.22.0->litellm==1.60.2->crewai) (2024.10.1)\n",
      "Requirement already satisfied: referencing>=0.28.4 in c:\\users\\knand\\onedrive\\desktop\\skill ass\\skill_ass\\lib\\site-packages (from jsonschema<5.0.0,>=4.22.0->litellm==1.60.2->crewai) (0.36.2)\n",
      "Requirement already satisfied: rpds-py>=0.7.1 in c:\\users\\knand\\onedrive\\desktop\\skill ass\\skill_ass\\lib\\site-packages (from jsonschema<5.0.0,>=4.22.0->litellm==1.60.2->crewai) (0.23.1)\n",
      "Requirement already satisfied: six>=1.9.0 in c:\\users\\knand\\onedrive\\desktop\\skill ass\\skill_ass\\lib\\site-packages (from kubernetes>=28.1.0->chromadb>=0.5.23->crewai) (1.17.0)\n",
      "Requirement already satisfied: python-dateutil>=2.5.3 in c:\\users\\knand\\onedrive\\desktop\\skill ass\\skill_ass\\lib\\site-packages (from kubernetes>=28.1.0->chromadb>=0.5.23->crewai) (2.9.0.post0)\n",
      "Requirement already satisfied: websocket-client!=0.40.0,!=0.41.*,!=0.42.*,>=0.32.0 in c:\\users\\knand\\onedrive\\desktop\\skill ass\\skill_ass\\lib\\site-packages (from kubernetes>=28.1.0->chromadb>=0.5.23->crewai) (1.8.0)\n",
      "Requirement already satisfied: requests-oauthlib in c:\\users\\knand\\onedrive\\desktop\\skill ass\\skill_ass\\lib\\site-packages (from kubernetes>=28.1.0->chromadb>=0.5.23->crewai) (2.0.0)\n",
      "Requirement already satisfied: oauthlib>=3.2.2 in c:\\users\\knand\\onedrive\\desktop\\skill ass\\skill_ass\\lib\\site-packages (from kubernetes>=28.1.0->chromadb>=0.5.23->crewai) (3.2.2)\n",
      "Requirement already satisfied: durationpy>=0.7 in c:\\users\\knand\\onedrive\\desktop\\skill ass\\skill_ass\\lib\\site-packages (from kubernetes>=28.1.0->chromadb>=0.5.23->crewai) (0.9)\n",
      "Requirement already satisfied: coloredlogs in c:\\users\\knand\\onedrive\\desktop\\skill ass\\skill_ass\\lib\\site-packages (from onnxruntime>=1.14.1->chromadb>=0.5.23->crewai) (15.0.1)\n",
      "Requirement already satisfied: flatbuffers in c:\\users\\knand\\onedrive\\desktop\\skill ass\\skill_ass\\lib\\site-packages (from onnxruntime>=1.14.1->chromadb>=0.5.23->crewai) (25.2.10)\n",
      "Requirement already satisfied: sympy in c:\\users\\knand\\onedrive\\desktop\\skill ass\\skill_ass\\lib\\site-packages (from onnxruntime>=1.14.1->chromadb>=0.5.23->crewai) (1.13.3)\n",
      "Requirement already satisfied: opentelemetry-instrumentation-asgi==0.52b0 in c:\\users\\knand\\onedrive\\desktop\\skill ass\\skill_ass\\lib\\site-packages (from opentelemetry-instrumentation-fastapi>=0.41b0->chromadb>=0.5.23->crewai) (0.52b0)\n",
      "Requirement already satisfied: opentelemetry-instrumentation==0.52b0 in c:\\users\\knand\\onedrive\\desktop\\skill ass\\skill_ass\\lib\\site-packages (from opentelemetry-instrumentation-fastapi>=0.41b0->chromadb>=0.5.23->crewai) (0.52b0)\n",
      "Requirement already satisfied: opentelemetry-util-http==0.52b0 in c:\\users\\knand\\onedrive\\desktop\\skill ass\\skill_ass\\lib\\site-packages (from opentelemetry-instrumentation-fastapi>=0.41b0->chromadb>=0.5.23->crewai) (0.52b0)\n",
      "Requirement already satisfied: asgiref~=3.0 in c:\\users\\knand\\onedrive\\desktop\\skill ass\\skill_ass\\lib\\site-packages (from opentelemetry-instrumentation-asgi==0.52b0->opentelemetry-instrumentation-fastapi>=0.41b0->chromadb>=0.5.23->crewai) (3.8.1)\n",
      "Requirement already satisfied: monotonic>=1.5 in c:\\users\\knand\\onedrive\\desktop\\skill ass\\skill_ass\\lib\\site-packages (from posthog>=2.4.0->chromadb>=0.5.23->crewai) (1.6)\n",
      "Requirement already satisfied: backoff>=1.10.0 in c:\\users\\knand\\onedrive\\desktop\\skill ass\\skill_ass\\lib\\site-packages (from posthog>=2.4.0->chromadb>=0.5.23->crewai) (2.2.1)\n",
      "Requirement already satisfied: pyasn1<0.7.0,>=0.4.6 in c:\\users\\knand\\onedrive\\desktop\\skill ass\\skill_ass\\lib\\site-packages (from pyasn1-modules>=0.2.1->google-auth>=2.15.0->google-generativeai) (0.6.1)\n",
      "Requirement already satisfied: markdown-it-py>=2.2.0 in c:\\users\\knand\\onedrive\\desktop\\skill ass\\skill_ass\\lib\\site-packages (from rich>=10.11.0->chromadb>=0.5.23->crewai) (3.0.0)\n",
      "Requirement already satisfied: huggingface-hub<1.0,>=0.16.4 in c:\\users\\knand\\onedrive\\desktop\\skill ass\\skill_ass\\lib\\site-packages (from tokenizers->litellm==1.60.2->crewai) (0.29.3)\n",
      "Requirement already satisfied: shellingham>=1.3.0 in c:\\users\\knand\\onedrive\\desktop\\skill ass\\skill_ass\\lib\\site-packages (from typer>=0.9.0->chromadb>=0.5.23->crewai) (1.5.4)\n",
      "Requirement already satisfied: httptools>=0.6.3 in c:\\users\\knand\\onedrive\\desktop\\skill ass\\skill_ass\\lib\\site-packages (from uvicorn[standard]>=0.18.3->chromadb>=0.5.23->crewai) (0.6.4)\n",
      "Requirement already satisfied: watchfiles>=0.13 in c:\\users\\knand\\onedrive\\desktop\\skill ass\\skill_ass\\lib\\site-packages (from uvicorn[standard]>=0.18.3->chromadb>=0.5.23->crewai) (1.0.4)\n",
      "Requirement already satisfied: websockets>=10.4 in c:\\users\\knand\\onedrive\\desktop\\skill ass\\skill_ass\\lib\\site-packages (from uvicorn[standard]>=0.18.3->chromadb>=0.5.23->crewai) (15.0.1)\n",
      "Requirement already satisfied: pycparser in c:\\users\\knand\\onedrive\\desktop\\skill ass\\skill_ass\\lib\\site-packages (from cffi>=1.12->cryptography>=43.0.1->auth0-python>=4.7.1->crewai) (2.22)\n",
      "Requirement already satisfied: filelock in c:\\users\\knand\\onedrive\\desktop\\skill ass\\skill_ass\\lib\\site-packages (from huggingface-hub<1.0,>=0.16.4->tokenizers->litellm==1.60.2->crewai) (3.18.0)\n",
      "Requirement already satisfied: fsspec>=2023.5.0 in c:\\users\\knand\\onedrive\\desktop\\skill ass\\skill_ass\\lib\\site-packages (from huggingface-hub<1.0,>=0.16.4->tokenizers->litellm==1.60.2->crewai) (2025.3.0)\n",
      "Requirement already satisfied: parso<0.9.0,>=0.8.4 in c:\\users\\knand\\onedrive\\desktop\\skill ass\\skill_ass\\lib\\site-packages (from jedi>=0.16->ipython>=5.3.0->pyvis>=0.3.2->crewai) (0.8.4)\n",
      "Requirement already satisfied: mdurl~=0.1 in c:\\users\\knand\\onedrive\\desktop\\skill ass\\skill_ass\\lib\\site-packages (from markdown-it-py>=2.2.0->rich>=10.11.0->chromadb>=0.5.23->crewai) (0.1.2)\n",
      "Requirement already satisfied: wcwidth in c:\\users\\knand\\onedrive\\desktop\\skill ass\\skill_ass\\lib\\site-packages (from prompt_toolkit<3.1.0,>=3.0.41->ipython>=5.3.0->pyvis>=0.3.2->crewai) (0.2.13)\n",
      "Requirement already satisfied: humanfriendly>=9.1 in c:\\users\\knand\\onedrive\\desktop\\skill ass\\skill_ass\\lib\\site-packages (from coloredlogs->onnxruntime>=1.14.1->chromadb>=0.5.23->crewai) (10.0)\n",
      "Requirement already satisfied: executing>=1.2.0 in c:\\users\\knand\\onedrive\\desktop\\skill ass\\skill_ass\\lib\\site-packages (from stack_data->ipython>=5.3.0->pyvis>=0.3.2->crewai) (2.2.0)\n",
      "Requirement already satisfied: asttokens>=2.1.0 in c:\\users\\knand\\onedrive\\desktop\\skill ass\\skill_ass\\lib\\site-packages (from stack_data->ipython>=5.3.0->pyvis>=0.3.2->crewai) (3.0.0)\n",
      "Requirement already satisfied: pure-eval in c:\\users\\knand\\onedrive\\desktop\\skill ass\\skill_ass\\lib\\site-packages (from stack_data->ipython>=5.3.0->pyvis>=0.3.2->crewai) (0.2.3)\n",
      "Requirement already satisfied: mpmath<1.4,>=1.1.0 in c:\\users\\knand\\onedrive\\desktop\\skill ass\\skill_ass\\lib\\site-packages (from sympy->onnxruntime>=1.14.1->chromadb>=0.5.23->crewai) (1.3.0)\n",
      "Requirement already satisfied: pyreadline3 in c:\\users\\knand\\onedrive\\desktop\\skill ass\\skill_ass\\lib\\site-packages (from humanfriendly>=9.1->coloredlogs->onnxruntime>=1.14.1->chromadb>=0.5.23->crewai) (3.5.4)\n"
     ]
    },
    {
     "name": "stderr",
     "output_type": "stream",
     "text": [
      "\n",
      "[notice] A new release of pip is available: 24.0 -> 25.0.1\n",
      "[notice] To update, run: python.exe -m pip install --upgrade pip\n"
     ]
    }
   ],
   "source": [
    "!pip install crewai python-dotenv PyPDF2 python-docx PyMuPDF langchain langchain-google-genai google-generativeai beautifulsoup4 requests opencv-python numpy pytesseract PyMuPDF Pillow pyzbar \n"
   ]
  },
  {
   "cell_type": "code",
   "execution_count": 2,
   "metadata": {},
   "outputs": [
    {
     "name": "stderr",
     "output_type": "stream",
     "text": [
      "c:\\Users\\knand\\OneDrive\\Desktop\\skill ass\\skill_ass\\Lib\\site-packages\\tqdm\\auto.py:21: TqdmWarning: IProgress not found. Please update jupyter and ipywidgets. See https://ipywidgets.readthedocs.io/en/stable/user_install.html\n",
      "  from .autonotebook import tqdm as notebook_tqdm\n"
     ]
    }
   ],
   "source": [
    "import os\n",
    "from dotenv import load_dotenv\n",
    "import json\n",
    "import re\n",
    "import pandas as pd\n",
    "from typing import List, Dict, Any, Optional\n",
    "\n",
    "import traceback\n",
    "from urllib.parse import quote_plus\n",
    "import PyPDF2\n",
    "import docx\n",
    "import fitz  # PyMuPDF\n",
    "import base64\n",
    "from io import BytesIO\n",
    "\n",
    "# For web scraping\n",
    "import requests\n",
    "from bs4 import BeautifulSoup\n",
    "\n",
    "# For LLM integrations\n",
    "import google.generativeai as genai\n",
    "from langchain_google_genai import ChatGoogleGenerativeAI as GoogleGenerativeAI\n",
    "from langchain.chains import LLMChain\n",
    "from langchain_google_genai import ChatGoogleGenerativeAI\n",
    "from langchain.text_splitter import RecursiveCharacterTextSplitter\n",
    "from langchain_community.chat_models import ChatLiteLLM\n",
    "\n",
    "# For Crew AI\n",
    "from crewai import Agent, Task, Process, Crew\n",
    "from crewai.tools.base_tool import BaseTool as Tool\n",
    "\n",
    "\n",
    "import cv2\n",
    "import io\n",
    "import numpy as np\n",
    "import pytesseract\n",
    "import re\n",
    "import fitz  # PyMuPDF\n",
    "from PIL import Image\n",
    "from pyzbar.pyzbar import decode\n",
    "from urllib.parse import urlparse"
   ]
  },
  {
   "cell_type": "code",
   "execution_count": 3,
   "metadata": {},
   "outputs": [
    {
     "name": "stdout",
     "output_type": "stream",
     "text": [
      "SERPER_API_KEY loaded: Yes\n",
      "GEMINI_API_KEY loaded: Yes\n"
     ]
    }
   ],
   "source": [
    "# Load environment variables\n",
    "load_dotenv()\n",
    "\n",
    "# Configure API keys\n",
    "SERPER_API_KEY = os.getenv(\"SERPER_API_KEY\")\n",
    "GEMINI_API_KEY = os.getenv(\"GEMINI_API_KEY\")\n",
    "\n",
    "# Verify API keys are loaded\n",
    "print(f\"SERPER_API_KEY loaded: {'Yes' if SERPER_API_KEY else 'No'}\")\n",
    "print(f\"GEMINI_API_KEY loaded: {'Yes' if GEMINI_API_KEY else 'No'}\")\n"
   ]
  },
  {
   "cell_type": "code",
   "execution_count": 4,
   "metadata": {},
   "outputs": [
    {
     "name": "stdout",
     "output_type": "stream",
     "text": [
      "Environment and API configurations loaded successfully.\n"
     ]
    }
   ],
   "source": [
    "# Configure Gemini API\n",
    "genai.configure(api_key=GEMINI_API_KEY)\n",
    "gemini_pro = genai.GenerativeModel('gemini-1.5-flash')\n",
    "print(\"Environment and API configurations loaded successfully.\")\n"
   ]
  },
  {
   "cell_type": "code",
   "execution_count": 5,
   "metadata": {},
   "outputs": [],
   "source": [
    "class SearchTool(Tool):\n",
    "    name: str = \"Search Tool\"\n",
    "    description: str = \"Useful for searching information about technologies, companies, or people online.\"\n",
    "    \n",
    "    def _run(self, query: str) -> str:  # Added self parameter\n",
    "        try:\n",
    "            url = \"https://google.serper.dev/search\"\n",
    "            payload = json.dumps({\"q\": query})\n",
    "            headers = {\n",
    "                'X-API-KEY': SERPER_API_KEY,\n",
    "                'Content-Type': 'application/json'\n",
    "            }\n",
    "            response = requests.request(\"POST\", url, headers=headers, data=payload)\n",
    "            return response.text\n",
    "        except Exception as e:\n",
    "            return f\"Error during search: {str(e)}\""
   ]
  },
  {
   "cell_type": "code",
   "execution_count": 6,
   "metadata": {},
   "outputs": [],
   "source": [
    "# 4.2 GitHub Profile Scraper\n",
    "class GitHubProfileScraper(Tool):\n",
    "    name: str = \"GitHub Profile Scraper\"\n",
    "    description: str = \"Scrapes a GitHub profile to gather information about repositories, contributions, and skills.\"\n",
    "    \n",
    "    def _run(self, github_username: str) -> str:  # Added self parameter\n",
    "        try:\n",
    "            # Rest of the method stays the same\n",
    "            profile_url = f\"https://api.github.com/users/{github_username}\"\n",
    "            repos_url = f\"https://api.github.com/users/{github_username}/repos\"\n",
    "            \n",
    "            # Get profile information\n",
    "            profile_response = requests.get(profile_url)\n",
    "\n",
    "            if profile_response.status_code != 200:\n",
    "                return f\"Error: Could not retrieve GitHub profile for {github_username}.\"\n",
    "            \n",
    "            profile_data = profile_response.json()\n",
    "            \n",
    "            # Get repositories information\n",
    "            repos_response = requests.get(repos_url)\n",
    "            if repos_response.status_code != 200:\n",
    "                return f\"Error: Could not retrieve repositories for {github_username}.\"\n",
    "            \n",
    "            repos_data = repos_response.json()\n",
    "            \n",
    "            # Extract relevant information\n",
    "            total_repos = len(repos_data)\n",
    "            languages_used = {}\n",
    "            starred_repos = 0\n",
    "            forks = 0\n",
    "            \n",
    "            for repo in repos_data:\n",
    "                forks += repo['forks_count']\n",
    "                starred_repos += repo['stargazers_count']\n",
    "                \n",
    "                # Get languages used in each repository\n",
    "                if not repo['fork']:  # Only consider non-forked repos\n",
    "                    lang_url = repo['languages_url']\n",
    "                    lang_response = requests.get(lang_url)\n",
    "                    if lang_response.status_code == 200:\n",
    "                        langs = lang_response.json()\n",
    "                        for lang, bytes_of_code in langs.items():\n",
    "                            if lang in languages_used:\n",
    "                                languages_used[lang] += bytes_of_code\n",
    "                            else:\n",
    "                                languages_used[lang] = bytes_of_code\n",
    "            \n",
    "            # Sort languages by bytes of code\n",
    "            sorted_languages = sorted(languages_used.items(), key=lambda x: x[1], reverse=True)\n",
    "            top_languages = [lang for lang, _ in sorted_languages[:5]]\n",
    "            \n",
    "            # Format the results\n",
    "            result = {\n",
    "                \"username\": github_username,\n",
    "                \"name\": profile_data.get('name', 'Not available'),\n",
    "                \"bio\": profile_data.get('bio', 'Not available'),\n",
    "                \"public_repos\": total_repos,\n",
    "                \"followers\": profile_data.get('followers', 0),\n",
    "                \"following\": profile_data.get('following', 0),\n",
    "                \"top_languages\": top_languages,\n",
    "                \"starred_repos_count\": starred_repos,\n",
    "                \"forks_count\": forks,\n",
    "                \"profile_created_at\": profile_data.get('created_at', 'Not available')\n",
    "            }\n",
    "            \n",
    "            return json.dumps(result, indent=2)\n",
    "        except Exception as e:\n",
    "            return f\"Error scraping GitHub profile: {str(e)}\\n{traceback.format_exc()}\"\n"
   ]
  },
  {
   "cell_type": "code",
   "execution_count": 7,
   "metadata": {},
   "outputs": [],
   "source": [
    "# 4.3 LeetCode Profile Scraper\n",
    "class LeetCodeProfileScraper(Tool):\n",
    "    name: str = \"LeetCode Profile Scraper\"\n",
    "    description: str = \"Scrapes a LeetCode profile to gather information about solved problems and contest ratings.\"\n",
    "    \n",
    "    def _run(self, leetcode_username: str) -> str:  # Added self parameter\n",
    "        try:\n",
    "            # Using public GraphQL API for LeetCode\n",
    "            url = \"https://leetcode.com/graphql\"\n",
    "            \n",
    "            # Query to get user profile information\n",
    "            query = \"\"\"\n",
    "            query userPublicProfile($username: String!) {\n",
    "              matchedUser(username: $username) {\n",
    "                username\n",
    "                submitStats: submitStatsGlobal {\n",
    "                  acSubmissionNum {\n",
    "                    difficulty\n",
    "                    count\n",
    "                    submissions\n",
    "                  }\n",
    "                }\n",
    "                profile {\n",
    "                  ranking\n",
    "                  reputation\n",
    "                  starRating\n",
    "                }\n",
    "                badges {\n",
    "                  id\n",
    "                  name\n",
    "                  icon\n",
    "                }\n",
    "              }\n",
    "            }\n",
    "            \"\"\"\n",
    "            \n",
    "            variables = {\"username\": leetcode_username}\n",
    "            payload = {\"query\": query, \"variables\": variables}\n",
    "            headers = {\n",
    "                \"Content-Type\": \"application/json\",\n",
    "                \"Referer\": f\"https://leetcode.com/{leetcode_username}/\"\n",
    "            }\n",
    "            \n",
    "            response = requests.post(url, headers=headers, json=payload)\n",
    "            \n",
    "            if response.status_code != 200:\n",
    "                return f\"Error: Could not retrieve LeetCode profile for {leetcode_username}.\"\n",
    "            \n",
    "            data = response.json()\n",
    "            \n",
    "            if not data.get('data', {}).get('matchedUser'):\n",
    "                return f\"Error: LeetCode user {leetcode_username} not found.\"\n",
    "            \n",
    "            user_data = data['data']['matchedUser']\n",
    "            \n",
    "            # Extract relevant information\n",
    "            submission_stats = user_data['submitStats']['acSubmissionNum']\n",
    "            problem_counts = {}\n",
    "            \n",
    "            for stat in submission_stats:\n",
    "                problem_counts[stat['difficulty']] = stat['count']\n",
    "            \n",
    "            total_solved = sum(problem_counts.values())\n",
    "            \n",
    "            # Format the results\n",
    "            result = {\n",
    "                \"username\": leetcode_username,\n",
    "                \"total_problems_solved\": total_solved,\n",
    "                \"problems_by_difficulty\": problem_counts,\n",
    "                \"ranking\": user_data['profile'].get('ranking', 'Not available'),\n",
    "                \"reputation\": user_data['profile'].get('reputation', 'Not available'),\n",
    "                \"badges\": [badge['name'] for badge in user_data.get('badges', [])]\n",
    "            }\n",
    "            \n",
    "            return json.dumps(result, indent=2)\n",
    "        except Exception as e:\n",
    "            return f\"Error scraping LeetCode profile: {str(e)}\\n{traceback.format_exc()}\"\n"
   ]
  },
  {
   "cell_type": "code",
   "execution_count": 8,
   "metadata": {},
   "outputs": [],
   "source": [
    "\n",
    "class CertificateVerificationTool(Tool):\n",
    "    name: str = \"Certificate Verification Tool\"\n",
    "    description: str = \"Verifies certificates by analyzing certificate URLs, extracting text via OCR, detecting QR codes, and validating candidate credentials.\"\n",
    "    \n",
    "    def _run(self, certificate_url: str) -> str:\n",
    "        \"\"\"Verifies a certificate by analyzing its URL and content.\"\"\"\n",
    "        try:\n",
    "            # Check if the URL is valid\n",
    "            if not self._is_valid_url(certificate_url):\n",
    "                return json.dumps({\n",
    "                    \"status\": \"failed\",\n",
    "                    \"reason\": \"Invalid URL format\",\n",
    "                    \"url\": certificate_url\n",
    "                })\n",
    "                \n",
    "            # Download the certificate image or PDF\n",
    "            content, content_type = self._download_content(certificate_url)\n",
    "            if content is None:\n",
    "                return json.dumps({\n",
    "                    \"status\": \"failed\",\n",
    "                    \"reason\": \"Could not download content\",\n",
    "                    \"url\": certificate_url\n",
    "                })\n",
    "            \n",
    "            # Extract text and analyze certificate\n",
    "            result = self._analyze_certificate(content, content_type, certificate_url)\n",
    "            return json.dumps(result, indent=2)\n",
    "            \n",
    "        except Exception as e:\n",
    "            return json.dumps({\n",
    "                \"status\": \"error\",\n",
    "                \"message\": str(e),\n",
    "                \"url\": certificate_url\n",
    "            })\n",
    "    \n",
    "    def _is_valid_url(self, url: str) -> bool:\n",
    "        \"\"\"Check if the URL is valid.\"\"\"\n",
    "        try:\n",
    "            result = urlparse(url)\n",
    "            return all([result.scheme, result.netloc])\n",
    "        except:\n",
    "            return False\n",
    "    \n",
    "    def _download_content(self, url: str):\n",
    "        \"\"\"Download content from URL and determine its type.\"\"\"\n",
    "        try:\n",
    "            response = requests.get(url, stream=True)\n",
    "            if response.status_code != 200:\n",
    "                return None, None\n",
    "                \n",
    "            content_type = response.headers.get('Content-Type', '').lower()\n",
    "            \n",
    "            if 'application/pdf' in content_type:\n",
    "                return response.content, 'pdf'\n",
    "            elif any(img_type in content_type for img_type in ['image/jpeg', 'image/png', 'image/jpg']):\n",
    "                return response.content, 'image'\n",
    "            else:\n",
    "                # Try to determine based on URL\n",
    "                if url.lower().endswith(('.pdf')):\n",
    "                    return response.content, 'pdf'\n",
    "                elif url.lower().endswith(('.jpg', '.jpeg', '.png')):\n",
    "                    return response.content, 'image'\n",
    "                else:\n",
    "                    # Default to binary\n",
    "                    return response.content, 'unknown'\n",
    "                    \n",
    "        except Exception as e:\n",
    "            print(f\"Error downloading content: {str(e)}\")\n",
    "            return None, None\n",
    "    \n",
    "    def _analyze_certificate(self, content, content_type, url):\n",
    "        \"\"\"Analyze certificate content to extract information and verify it.\"\"\"\n",
    "        extracted_text = \"\"\n",
    "        qr_data = []\n",
    "        issuer = \"Unknown\"\n",
    "        cert_name = \"Unknown\"\n",
    "        \n",
    "        # Extract text based on content type\n",
    "        if content_type == 'pdf':\n",
    "            extracted_text, qr_data = self._analyze_pdf(content)\n",
    "        elif content_type == 'image':\n",
    "            extracted_text, qr_data = self._analyze_image(content)\n",
    "        else:\n",
    "            return {\n",
    "                \"status\": \"failed\",\n",
    "                \"reason\": \"Unsupported content type\",\n",
    "                \"url\": url\n",
    "            }\n",
    "        \n",
    "        # Process the extracted text\n",
    "        if extracted_text:\n",
    "            # Extract certificate info\n",
    "            cert_info = self._extract_certificate_info(extracted_text, url)\n",
    "            cert_name = cert_info.get(\"certificate_name\", \"Unknown\")\n",
    "            issuer = cert_info.get(\"issuer\", \"Unknown\")\n",
    "            \n",
    "            # Determine verification status\n",
    "            verification_status = \"verified\" if cert_info.get(\"verified\", False) else \"unverified\"\n",
    "            \n",
    "            return {\n",
    "                \"status\": verification_status,\n",
    "                \"url\": url,\n",
    "                \"certificate_name\": cert_name,\n",
    "                \"issuer\": issuer,\n",
    "                \"recipient_name\": cert_info.get(\"recipient_name\", \"Not found\"),\n",
    "                \"issue_date\": cert_info.get(\"issue_date\", \"Not found\"),\n",
    "                \"expiry_date\": cert_info.get(\"expiry_date\", \"Not found\"),\n",
    "                \"qr_links\": qr_data,\n",
    "                \"skills\": cert_info.get(\"skills\", []),\n",
    "                \"confidence\": cert_info.get(\"confidence\", \"low\")\n",
    "            }\n",
    "        else:\n",
    "            return {\n",
    "                \"status\": \"failed\",\n",
    "                \"reason\": \"Could not extract text from certificate\",\n",
    "                \"url\": url\n",
    "            }\n",
    "    \n",
    "    def _analyze_pdf(self, content):\n",
    "        \"\"\"Extract text and QR codes from PDF.\"\"\"\n",
    "        extracted_text = \"\"\n",
    "        qr_data = []\n",
    "        \n",
    "        try:\n",
    "            # Load PDF\n",
    "            pdf_document = fitz.open(stream=content, filetype=\"pdf\")\n",
    "            \n",
    "            # Process each page\n",
    "            for page_num in range(len(pdf_document)):\n",
    "                page = pdf_document[page_num]\n",
    "                \n",
    "                # Extract text\n",
    "                page_text = page.get_text()\n",
    "                extracted_text += page_text + \"\\n\"\n",
    "                \n",
    "                # Extract images for QR detection\n",
    "                image_list = page.get_images(full=True)\n",
    "                for img_index, img in enumerate(image_list):\n",
    "                    xref = img[0]\n",
    "                    base_image = pdf_document.extract_image(xref)\n",
    "                    image_bytes = base_image[\"image\"]\n",
    "                    \n",
    "                    # Try to decode QR\n",
    "                    try:\n",
    "                        pil_image = Image.open(io.BytesIO(image_bytes))\n",
    "                        codes = decode(pil_image)\n",
    "                        for code in codes:\n",
    "                            qr_data.append(code.data.decode('utf-8'))\n",
    "                    except Exception as e:\n",
    "                        print(f\"Error decoding QR from PDF image: {str(e)}\")\n",
    "            \n",
    "            return extracted_text, qr_data\n",
    "            \n",
    "        except Exception as e:\n",
    "            print(f\"Error analyzing PDF: {str(e)}\")\n",
    "            return \"\", []\n",
    "    \n",
    "    def _analyze_image(self, content):\n",
    "        \"\"\"Extract text and QR codes from image.\"\"\"\n",
    "        extracted_text = \"\"\n",
    "        qr_data = []\n",
    "        \n",
    "        try:\n",
    "            # Convert to numpy array for OpenCV\n",
    "            nparr = np.frombuffer(content, np.uint8)\n",
    "            image = cv2.imdecode(nparr, cv2.IMREAD_COLOR)\n",
    "            \n",
    "            # Convert to grayscale for better OCR\n",
    "            gray = cv2.cvtColor(image, cv2.COLOR_BGR2GRAY)\n",
    "            \n",
    "            # Apply pre-processing for better OCR\n",
    "            thresh = cv2.threshold(gray, 0, 255, cv2.THRESH_BINARY | cv2.THRESH_OTSU)[1]\n",
    "            \n",
    "            # Extract text with PyTesseract\n",
    "            extracted_text = pytesseract.image_to_string(thresh)\n",
    "            \n",
    "            # Detect QR codes\n",
    "            pil_image = Image.open(io.BytesIO(content))\n",
    "            codes = decode(pil_image)\n",
    "            for code in codes:\n",
    "                qr_data.append(code.data.decode('utf-8'))\n",
    "                \n",
    "            return extracted_text, qr_data\n",
    "            \n",
    "        except Exception as e:\n",
    "            print(f\"Error analyzing image: {str(e)}\")\n",
    "            return \"\", []\n",
    "    \n",
    "    def _extract_certificate_info(self, text, url):\n",
    "        \"\"\"Extract certificate information from text.\"\"\"\n",
    "        info = {\n",
    "            \"certificate_name\": \"Unknown\",\n",
    "            \"issuer\": \"Unknown\",\n",
    "            \"recipient_name\": \"Not found\",\n",
    "            \"issue_date\": \"Not found\",\n",
    "            \"expiry_date\": \"Not found\",\n",
    "            \"verified\": False,\n",
    "            \"skills\": [],\n",
    "            \"confidence\": \"low\"\n",
    "        }\n",
    "        \n",
    "        # Common certificate issuers\n",
    "        issuers = [\n",
    "            \"Coursera\", \"Udemy\", \"edX\", \"LinkedIn Learning\", \"Microsoft\", \"IBM\", \n",
    "            \"Google\", \"Amazon AWS\", \"Oracle\", \"Udacity\", \"Pluralsight\", \n",
    "            \"FreeCodeCamp\", \"DataCamp\", \"HackerRank\", \"SoloLearn\"\n",
    "        ]\n",
    "        \n",
    "        # Find issuer\n",
    "        for issuer in issuers:\n",
    "            if re.search(issuer, text, re.IGNORECASE):\n",
    "                info[\"issuer\"] = issuer\n",
    "                break\n",
    "                \n",
    "        # Try to determine if the URL indicates the issuer\n",
    "        domain = urlparse(url).netloc.lower()\n",
    "        for issuer in issuers:\n",
    "            if issuer.lower().replace(\" \", \"\") in domain:\n",
    "                info[\"issuer\"] = issuer\n",
    "                break\n",
    "        \n",
    "        # Find certificate name\n",
    "        cert_patterns = [\n",
    "            r\"certificate (?:of|in|for) ([^\\n.]+)\",\n",
    "            r\"certified ([^\\n.]+) (?:specialist|professional|developer|architect)\",\n",
    "            r\"([^\\n.]+) certification\",\n",
    "            r\"([^\\n.]+) certificate\"\n",
    "        ]\n",
    "        \n",
    "        for pattern in cert_patterns:\n",
    "            matches = re.search(pattern, text, re.IGNORECASE)\n",
    "            if matches:\n",
    "                info[\"certificate_name\"] = matches.group(1).strip()\n",
    "                break\n",
    "        \n",
    "        # Extract recipient name (common patterns in certificates)\n",
    "        name_patterns = [\n",
    "            r\"(?:presented to|awarded to|issued to|certifies that|this is to certify that|granted to) ([A-Z][a-z]+ [A-Z][a-z]+)\",\n",
    "            r\"(?:name|participant|recipient)[:\\s]+([A-Z][a-z]+ [A-Z][a-z]+)\",\n",
    "            r\"([A-Z][a-z]+ [A-Z][a-z]+) has (?:successfully completed|achieved|earned|passed)\"\n",
    "        ]\n",
    "        \n",
    "        for pattern in name_patterns:\n",
    "            matches = re.search(pattern, text, re.IGNORECASE)\n",
    "            if matches:\n",
    "                info[\"recipient_name\"] = matches.group(1).strip()\n",
    "                break\n",
    "        \n",
    "        # Extract dates\n",
    "        date_patterns = [\n",
    "            r\"(?:issued|dated|date|awarded on)[:\\s]+(\\d{1,2}[/-]\\d{1,2}[/-]\\d{2,4})\",\n",
    "            r\"(?:issued|dated|date|awarded on)[:\\s]+(\\w+ \\d{1,2},? \\d{4})\",\n",
    "            r\"(\\d{1,2} \\w+ \\d{4})\"\n",
    "        ]\n",
    "        \n",
    "        expiry_patterns = [\n",
    "            r\"(?:valid until|expires on|expiry date|valid through)[:\\s]+(\\d{1,2}[/-]\\d{1,2}[/-]\\d{2,4})\",\n",
    "            r\"(?:valid until|expires on|expiry date|valid through)[:\\s]+(\\w+ \\d{1,2},? \\d{4})\",\n",
    "        ]\n",
    "        \n",
    "        # Find issue date\n",
    "        for pattern in date_patterns:\n",
    "            matches = re.search(pattern, text, re.IGNORECASE)\n",
    "            if matches:\n",
    "                info[\"issue_date\"] = matches.group(1).strip()\n",
    "                break\n",
    "        \n",
    "        # Find expiry date if available\n",
    "        for pattern in expiry_patterns:\n",
    "            matches = re.search(pattern, text, re.IGNORECASE)\n",
    "            if matches:\n",
    "                info[\"expiry_date\"] = matches.group(1).strip()\n",
    "                break\n",
    "        \n",
    "        # Common skill keywords associated with certificates\n",
    "        skill_keywords = {\n",
    "            \"Programming\": [\"Python\", \"Java\", \"JavaScript\", \"C++\", \"Ruby\", \"PHP\", \"C#\", \"Swift\", \"Go\"],\n",
    "            \"Web Development\": [\"HTML\", \"CSS\", \"React\", \"Angular\", \"Vue\", \"Node.js\", \"Django\", \"Flask\", \"Express\", \"Laravel\", \"Spring\"],\n",
    "            \"Data\": [\"SQL\", \"MySQL\", \"PostgreSQL\", \"MongoDB\", \"NoSQL\", \"Data Science\", \"Machine Learning\", \"AI\", \"Deep Learning\", \"NLP\", \"Computer Vision\"],\n",
    "            \"Cloud\": [\"AWS\", \"Azure\", \"Google Cloud\", \"GCP\", \"Docker\", \"Kubernetes\", \"Terraform\", \"DevOps\", \"CI/CD\", \"Lambda\"],\n",
    "            \"Other\": [\"Project Management\", \"Agile\", \"Scrum\", \"Security\", \"Ethical Hacking\", \"Network\", \"Linux\", \"Big Data\", \"Hadoop\", \"Spark\"]\n",
    "        }\n",
    "        \n",
    "        # Extract skills from certificate text\n",
    "        extracted_skills = []\n",
    "        for category, skills in skill_keywords.items():\n",
    "            for skill in skills:\n",
    "                if re.search(r'\\b' + re.escape(skill) + r'\\b', text, re.IGNORECASE):\n",
    "                    extracted_skills.append(skill)\n",
    "        \n",
    "        info[\"skills\"] = extracted_skills\n",
    "        \n",
    "        # Verify if a recipient name was found\n",
    "        if info[\"recipient_name\"] != \"Not found\":\n",
    "            info[\"verified\"] = True\n",
    "            info[\"confidence\"] = \"medium\"\n",
    "            \n",
    "            # Increase confidence if multiple pieces of information are found\n",
    "            confidence_score = 0\n",
    "            if info[\"certificate_name\"] != \"Unknown\":\n",
    "                confidence_score += 1\n",
    "            if info[\"issuer\"] != \"Unknown\":\n",
    "                confidence_score += 1\n",
    "            if info[\"issue_date\"] != \"Not found\":\n",
    "                confidence_score += 1\n",
    "            if len(info[\"skills\"]) > 0:\n",
    "                confidence_score += 1\n",
    "                \n",
    "            if confidence_score >= 3:\n",
    "                info[\"confidence\"] = \"high\"\n",
    "        \n",
    "        return info\n",
    "\n",
    "class SkillMappingTool(Tool):\n",
    "    name: str = \"Skill Mapping Tool\"\n",
    "    description: str = \"Maps certifications to relevant technical skills with proficiency levels.\"\n",
    "    \n",
    "    def _run(self, certification_data: str) -> str:\n",
    "        \"\"\"Maps certifications to skills with estimated proficiency levels.\"\"\"\n",
    "        try:\n",
    "            certifications = json.loads(certification_data)\n",
    "            \n",
    "            skill_mappings = self._map_certifications_to_skills(certifications)\n",
    "            \n",
    "            return json.dumps({\"skill_mappings\": skill_mappings}, indent=2)\n",
    "            \n",
    "        except Exception as e:\n",
    "            return json.dumps({\n",
    "                \"status\": \"error\",\n",
    "                \"message\": str(e)\n",
    "            })\n",
    "    \n",
    "    def _map_certifications_to_skills(self, certifications):\n",
    "        \"\"\"Map certifications to skills with estimated proficiency levels.\"\"\"\n",
    "        skill_mappings = {}\n",
    "        \n",
    "        # Certification level to skill proficiency mappings\n",
    "        certification_levels = {\n",
    "            \"basic\": {\"level\": 3, \"description\": \"Foundational knowledge\"},\n",
    "            \"beginner\": {\"level\": 3, \"description\": \"Foundational knowledge\"},\n",
    "            \"intermediate\": {\"level\": 5, \"description\": \"Working proficiency\"},\n",
    "            \"advanced\": {\"level\": 7, \"description\": \"Advanced proficiency\"},\n",
    "            \"expert\": {\"level\": 9, \"description\": \"Expert level knowledge\"}\n",
    "        }\n",
    "        \n",
    "        # Common certification issuers and their typical quality score (1-10)\n",
    "        issuer_quality = {\n",
    "            \"Microsoft\": 8,\n",
    "            \"AWS\": 8,\n",
    "            \"Google\": 8,\n",
    "            \"Oracle\": 8,\n",
    "            \"Cisco\": 8,\n",
    "            \"CompTIA\": 7,\n",
    "            \"IBM\": 7,\n",
    "            \"Salesforce\": 7,\n",
    "            \"Adobe\": 7,\n",
    "            \"PMI\": 8,\n",
    "            \"Coursera\": 6,\n",
    "            \"Udemy\": 5,\n",
    "            \"edX\": 6,\n",
    "            \"LinkedIn Learning\": 5,\n",
    "            \"Udacity\": 6,\n",
    "            \"Pluralsight\": 5,\n",
    "            \"HackerRank\": 6,\n",
    "            \"FreeCodeCamp\": 5,\n",
    "            \"DataCamp\": 6,\n",
    "            \"SoloLearn\": 4\n",
    "        }\n",
    "        \n",
    "        # Common certification prefixes that indicate level\n",
    "        level_indicators = {\n",
    "            \"fundamentals\": \"basic\",\n",
    "            \"foundation\": \"basic\",\n",
    "            \"associate\": \"intermediate\",\n",
    "            \"professional\": \"advanced\",\n",
    "            \"expert\": \"expert\",\n",
    "            \"master\": \"expert\",\n",
    "            \"specialization\": \"advanced\",\n",
    "            \"specialist\": \"intermediate\",\n",
    "            \"practitioner\": \"intermediate\",\n",
    "            \"advanced\": \"advanced\",\n",
    "            \"beginner\": \"basic\",\n",
    "            \"introduction\": \"basic\"\n",
    "        }\n",
    "        \n",
    "        # Certification to skills mapping\n",
    "        cert_skill_mappings = {\n",
    "            # AWS\n",
    "            \"AWS Certified Solutions Architect\": [\"AWS\", \"Cloud Architecture\", \"EC2\", \"S3\", \"IAM\", \"VPC\", \"RDS\"],\n",
    "            \"AWS Certified Developer\": [\"AWS\", \"Lambda\", \"DynamoDB\", \"API Gateway\", \"CloudFormation\", \"CI/CD\"],\n",
    "            \"AWS Certified DevOps Engineer\": [\"AWS\", \"DevOps\", \"CloudFormation\", \"CI/CD\", \"Docker\", \"Monitoring\"],\n",
    "            \n",
    "            # Microsoft\n",
    "            \"Microsoft Certified: Azure\": [\"Azure\", \"Cloud Computing\"],\n",
    "            \"Microsoft Certified: Data\": [\"SQL Server\", \"Data Engineering\", \"Data Analytics\"],\n",
    "            \"Microsoft Certified: Azure Solutions Architect\": [\"Azure\", \"Cloud Architecture\", \"Azure Resources\", \"Security\"],\n",
    "            \"Microsoft Certified: Azure Developer\": [\"Azure\", \".NET\", \"Azure Functions\", \"Azure App Service\", \"Cosmos DB\"],\n",
    "            \n",
    "            # Google\n",
    "            \"Google Cloud Certified\": [\"Google Cloud\", \"Cloud Computing\"],\n",
    "            \"Google Associate Cloud Engineer\": [\"Google Cloud\", \"GCE\", \"GKE\", \"Cloud Storage\", \"IAM\"],\n",
    "            \"Google Professional Cloud Architect\": [\"Google Cloud\", \"Cloud Architecture\", \"GCP Solutions\", \"Security\"],\n",
    "            \"Google Professional Data Engineer\": [\"BigQuery\", \"Dataflow\", \"Machine Learning\", \"Data Processing\"],\n",
    "            \n",
    "            # Programming\n",
    "            \"Python\": [\"Python\", \"Programming\"],\n",
    "            \"Java\": [\"Java\", \"Programming\", \"OOP\"],\n",
    "            \"JavaScript\": [\"JavaScript\", \"Web Development\", \"Frontend\"],\n",
    "            \"React\": [\"React\", \"Frontend\", \"JavaScript\", \"Web Development\"],\n",
    "            \"Angular\": [\"Angular\", \"Frontend\", \"TypeScript\", \"Web Development\"],\n",
    "            \"Node.js\": [\"Node.js\", \"JavaScript\", \"Backend\", \"Web Development\"],\n",
    "            \"Full Stack\": [\"Frontend\", \"Backend\", \"Database\", \"Web Development\"],\n",
    "            \n",
    "            # Data Science\n",
    "            \"Data Science\": [\"Python\", \"Statistics\", \"Machine Learning\", \"Data Analysis\"],\n",
    "            \"Machine Learning\": [\"Python\", \"Machine Learning\", \"Data Modeling\", \"Algorithms\"],\n",
    "            \"Deep Learning\": [\"Neural Networks\", \"TensorFlow\", \"PyTorch\", \"Computer Vision\", \"NLP\"],\n",
    "            \"TensorFlow\": [\"TensorFlow\", \"Machine Learning\", \"Neural Networks\"],\n",
    "            \n",
    "            # Misc\n",
    "            \"Project Management\": [\"Project Management\", \"Agile\", \"Scrum\"],\n",
    "            \"Scrum\": [\"Agile\", \"Scrum\", \"Project Management\"],\n",
    "            \"Kubernetes\": [\"Kubernetes\", \"Container Orchestration\", \"Docker\", \"DevOps\"],\n",
    "            \"Docker\": [\"Docker\", \"Containers\", \"DevOps\"],\n",
    "            \"Cybersecurity\": [\"Security\", \"Network Security\", \"Ethical Hacking\", \"Threat Analysis\"]\n",
    "        }\n",
    "        \n",
    "        for cert in certifications:\n",
    "            cert_name = cert.get(\"certificate_name\", \"\").strip()\n",
    "            if not cert_name or cert_name == \"Unknown\":\n",
    "                continue\n",
    "                \n",
    "            issuer = cert.get(\"issuer\", \"Unknown\").strip()\n",
    "            status = cert.get(\"status\", \"unverified\").lower()\n",
    "            confidence = cert.get(\"confidence\", \"low\").lower()\n",
    "            skills = cert.get(\"skills\", [])\n",
    "            \n",
    "            # Skip unverified certificates\n",
    "            if status != \"verified\":\n",
    "                continue\n",
    "                \n",
    "            # Determine certificate level\n",
    "            cert_level = \"intermediate\"  # Default level\n",
    "            for indicator, level in level_indicators.items():\n",
    "                if indicator.lower() in cert_name.lower():\n",
    "                    cert_level = level\n",
    "                    break\n",
    "                    \n",
    "            # Base proficiency level from certificate level\n",
    "            base_proficiency = certification_levels.get(cert_level, {\"level\": 5})[\"level\"]\n",
    "            \n",
    "            # Adjust by issuer quality\n",
    "            issuer_bonus = issuer_quality.get(issuer, 5) / 10\n",
    "            \n",
    "            # Adjust by confidence level\n",
    "            confidence_multiplier = {\n",
    "                \"high\": 1.0,\n",
    "                \"medium\": 0.8,\n",
    "                \"low\": 0.6\n",
    "            }.get(confidence, 0.7)\n",
    "            \n",
    "            # Find matching skills based on certificate name\n",
    "            matched_skills = []\n",
    "            \n",
    "            # First try exact matches\n",
    "            for cert_pattern, related_skills in cert_skill_mappings.items():\n",
    "                if cert_pattern.lower() in cert_name.lower():\n",
    "                    matched_skills.extend(related_skills)\n",
    "            \n",
    "            # Add skills explicitly mentioned in the certificate\n",
    "            matched_skills.extend(skills)\n",
    "            \n",
    "            # Remove duplicates\n",
    "            matched_skills = list(set(matched_skills))\n",
    "            \n",
    "            # Calculate proficiency for each skill\n",
    "            for skill in matched_skills:\n",
    "                proficiency = round(base_proficiency * issuer_bonus * confidence_multiplier)\n",
    "                proficiency = max(1, min(10, proficiency))  # Ensure between 1-10\n",
    "                \n",
    "                if skill in skill_mappings:\n",
    "                    # Take the highest proficiency level if the skill appears in multiple certificates\n",
    "                    skill_mappings[skill] = max(skill_mappings[skill], proficiency)\n",
    "                else:\n",
    "                    skill_mappings[skill] = proficiency\n",
    "        \n",
    "        return skill_mappings"
   ]
  },
  {
   "cell_type": "code",
   "execution_count": 9,
   "metadata": {},
   "outputs": [],
   "source": [
    "def extract_text_from_pdf(pdf_file):\n",
    "        \"\"\"Extract text from a PDF file using multiple extraction methods for redundancy.\"\"\"\n",
    "        text = \"\"\n",
    "        temp_file_path = None\n",
    "        \n",
    "        try:\n",
    "            # First attempt: Use PyMuPDF (fitz) for better text extraction\n",
    "            pdf_document = fitz.open(stream=pdf_file.read(), filetype=\"pdf\")\n",
    "            \n",
    "            # Extract text page by page\n",
    "            for page_num in range(len(pdf_document)):\n",
    "                page = pdf_document[page_num]\n",
    "                page_text = page.get_text()\n",
    "                text += page_text\n",
    "                \n",
    "                # Extract links from annotations\n",
    "                links = page.get_links()\n",
    "                for link in links:\n",
    "                    if 'uri' in link:\n",
    "                        text += f\"\\nLink: {link['uri']}\\n\"\n",
    "            \n",
    "            pdf_document.close()\n",
    "            \n",
    "            # If text extraction yielded minimal results, try OCR fallback\n",
    "            if len(text.strip()) < 100:\n",
    "                print(\"Minimal text extracted. PDF might be scanned or secured.\")\n",
    "                # Here you could implement OCR using pytesseract\n",
    "                pass\n",
    "                \n",
    "        except Exception as e:\n",
    "            print(f\"Error extracting text with PyMuPDF: {str(e)}\")\n",
    "            \n",
    "            # Fallback to PyPDF2\n",
    "            try:\n",
    "                pdf_file.seek(0)\n",
    "                pdf_reader = PyPDF2.PdfReader(pdf_file)\n",
    "                for page in pdf_reader.pages:\n",
    "                    page_text = page.extract_text() or \"\"\n",
    "                    text += page_text\n",
    "            except Exception as e2:\n",
    "                print(f\"Error with fallback PDF extraction: {str(e2)}\")\n",
    "                \n",
    "        return text\n"
   ]
  },
  {
   "cell_type": "code",
   "execution_count": 10,
   "metadata": {},
   "outputs": [],
   "source": [
    "def extract_text_from_docx(docx_file):\n",
    "        \n",
    "        \"\"\"Extract text from a DOCX file including hyperlinks.\"\"\"\n",
    "        text = \"\"\n",
    "        try:\n",
    "            doc = docx.Document(docx_file)\n",
    "            \n",
    "            # Extract text from paragraphs\n",
    "            for para in doc.paragraphs:\n",
    "                text += para.text + \"\\n\"\n",
    "                \n",
    "                # Extract hyperlinks from paragraph runs\n",
    "                for run in para.runs:\n",
    "                    if run.element.findall('.//w:hyperlink', {'w': 'http://schemas.openxmlformats.org/wordprocessingml/2006/main'}):\n",
    "                        for hyperlink in run.element.findall('.//w:hyperlink', {'w': 'http://schemas.openxmlformats.org/wordprocessingml/2006/main'}):\n",
    "                            for relationship_id in hyperlink.attrib.values():\n",
    "                                # This is a simple approach - a more robust solution would look up the relationship ID\n",
    "                                # in the document's relationships to get the actual URL\n",
    "                                text += f\"\\nHyperlink: {relationship_id}\\n\"\n",
    "            \n",
    "            # Extract text from tables\n",
    "            for table in doc.tables:\n",
    "                for row in table.rows:\n",
    "                    for cell in row.cells:\n",
    "                        text += cell.text + \" | \"\n",
    "                    text += \"\\n\"\n",
    "                    \n",
    "        except Exception as e:\n",
    "            print(f\"Error extracting text from DOCX: {str(e)}\")\n",
    "            \n",
    "        return text"
   ]
  },
  {
   "cell_type": "code",
   "execution_count": 11,
   "metadata": {},
   "outputs": [],
   "source": [
    "def extract_text_from_document(file):\n",
    "        \"\"\"Extract text from various document formats with enhanced link extraction.\"\"\"\n",
    "        try:\n",
    "            # Get file extension\n",
    "            file_name = file.name.lower() if hasattr(file, 'name') else \"unknown_file\"\n",
    "            \n",
    "            if file_name.endswith('.pdf'):\n",
    "                return extract_text_from_pdf(file)\n",
    "            elif file_name.endswith('.docx'):\n",
    "                return extract_text_from_docx(file)\n",
    "            elif file_name.endswith('.txt'):\n",
    "                return file.read().decode('utf-8')\n",
    "            else:\n",
    "                return f\"Unsupported file format: {file_name.split('.')[-1]}\"\n",
    "                \n",
    "        except Exception as e:\n",
    "            print(f\"Error processing document: {str(e)}\")\n",
    "            return f\"Error processing document: {str(e)}\""
   ]
  },
  {
   "cell_type": "code",
   "execution_count": 12,
   "metadata": {},
   "outputs": [],
   "source": [
    "def extract_name_from_resume(resume_data):\n",
    "    \"\"\"Extract candidate name from parsed resume data.\"\"\"\n",
    "    if isinstance(resume_data, dict):\n",
    "        # Try to find name in personal_information section first\n",
    "        if \"personal_information\" in resume_data and \"name\" in resume_data[\"personal_information\"]:\n",
    "            return resume_data[\"personal_information\"][\"name\"]\n",
    "        \n",
    "        # Look for name in other common locations\n",
    "        if \"name\" in resume_data:\n",
    "            return resume_data[\"name\"]\n",
    "        if \"basic_info\" in resume_data and \"name\" in resume_data[\"basic_info\"]:\n",
    "            return resume_data[\"basic_info\"][\"name\"]\n",
    "        \n",
    "        # Try to find any keys that might contain name\n",
    "        for key in resume_data:\n",
    "            if isinstance(resume_data[key], dict) and \"name\" in resume_data[key]:\n",
    "                return resume_data[key][\"name\"]\n",
    "    \n",
    "    # Default if we can't find a specific name\n",
    "    return \"Candidate\""
   ]
  },
  {
   "cell_type": "code",
   "execution_count": 13,
   "metadata": {},
   "outputs": [],
   "source": [
    "import re\n",
    "import json\n",
    "\n",
    "def extract_profile_links(text):\n",
    "    \"\"\"Extract coding profile links and other professional profile links from text.\"\"\"\n",
    "    profiles = {}\n",
    "    \n",
    "    # GitHub profile patterns - enhanced with multiple formats\n",
    "    github_patterns = [\n",
    "        r'github\\.com/([a-zA-Z0-9_-]+)',\n",
    "        r'github:?\\s*:?\\s*([a-zA-Z0-9_-]+)',\n",
    "        r'GitHub\\s*Profile:?\\s*([a-zA-Z0-9_-]+)',\n",
    "        r'[Gg][Ii][Tt][Hh][Uu][Bb][:\\s]+\\s*([a-zA-Z0-9_-]+)',\n",
    "        r'[Gg][Ii][Tt][Hh][Uu][Bb].*?[:/]([a-zA-Z0-9_-]+)',\n",
    "    ]\n",
    "    \n",
    "    # LeetCode profile patterns - enhanced with multiple formats\n",
    "    leetcode_patterns = [\n",
    "        r'leetcode\\.com/([a-zA-Z0-9_-]+)',\n",
    "        r'leetcode:?\\s*:?\\s*([a-zA-Z0-9_-]+)',\n",
    "        r'LeetCode\\s*Profile:?\\s*([a-zA-Z0-9_-]+)',\n",
    "        r'[Ll][Ee][Ee][Tt][Cc][Oo][Dd][Ee][:\\s]+\\s*([a-zA-Z0-9_-]+)',\n",
    "        r'[Ll][Ee][Ee][Tt][Cc][Oo][Dd][Ee].*?[:/]([a-zA-Z0-9_-]+)',\n",
    "    ]\n",
    "    \n",
    "    # Certification link patterns\n",
    "    certification_patterns = [\n",
    "        r'certification:?\\s*[^\\n]*?(https?://[^\\s]+)',\n",
    "        r'certificate:?\\s*[^\\n]*?(https?://[^\\s]+)',\n",
    "        r'(https?://[^\\s]*certificate[^\\s]*)',\n",
    "        r'(https?://[^\\s]*certify[^\\s]*)',\n",
    "        r'(https?://[^\\s]*verify[^\\s]*)',\n",
    "        r'(https?://[^\\s]*credential[^\\s]*)',\n",
    "    ]\n",
    "    \n",
    "    # Project link patterns\n",
    "    project_patterns = [\n",
    "        r'project:?\\s*[^\\n]*?(https?://[^\\s]+)',\n",
    "        r'(https?://github\\.com/[^\\s]+/[^\\s]+)',\n",
    "        r'(https?://gitlab\\.com/[^\\s]+/[^\\s]+)',\n",
    "        r'(https?://bitbucket\\.org/[^\\s]+/[^\\s]+)',\n",
    "    ]\n",
    "    \n",
    "    # Extract GitHub username\n",
    "    for pattern in github_patterns:\n",
    "        matches = re.findall(pattern, text)\n",
    "        if matches:\n",
    "            # Clean up the username (remove trailing punctuation, etc.)\n",
    "            username = re.sub(r'[^a-zA-Z0-9_-]', '', matches[0])\n",
    "            profiles['github'] = username\n",
    "            break\n",
    "    \n",
    "    # Extract LeetCode username\n",
    "    for pattern in leetcode_patterns:\n",
    "        matches = re.findall(pattern, text)\n",
    "        if matches:\n",
    "            # Clean up the username\n",
    "            username = re.sub(r'[^a-zA-Z0-9_-]', '', matches[0])\n",
    "            profiles['leetcode'] = username\n",
    "            break\n",
    "    \n",
    "    # Extract certification links\n",
    "    certification_links = []\n",
    "    for pattern in certification_patterns:\n",
    "        matches = re.findall(pattern, text)\n",
    "        for match in matches:\n",
    "            # Clean up the URL\n",
    "            url = match.rstrip(',.;:()[]{}\"\\'')\n",
    "            certification_links.append(url)\n",
    "    \n",
    "    if certification_links:\n",
    "        profiles['certifications'] = certification_links\n",
    "    \n",
    "    # Extract project links\n",
    "    project_links = []\n",
    "    for pattern in project_patterns:\n",
    "        matches = re.findall(pattern, text)\n",
    "        for match in matches:\n",
    "            # Clean up the URL\n",
    "            url = match.rstrip(',.;:()[]{}\"\\'')\n",
    "            project_links.append(url)\n",
    "    \n",
    "    if project_links:\n",
    "        profiles['projects'] = project_links\n",
    "    \n",
    "    return profiles\n",
    "\n",
    "def extract_certifications(text):\n",
    "    \"\"\"Extract certification information from text.\"\"\"\n",
    "    certifications = []\n",
    "    \n",
    "    # Look for certification sections\n",
    "    cert_section_patterns = [\n",
    "        r'(?:CERTIFICATIONS?|CERTIFICATES?|QUALIFICATIONS?)[:\\s]*(.*?)(?:EDUCATION|EXPERIENCE|SKILLS|PROJECTS|\\Z)',\n",
    "        r'(?:CERTIFICATIONS?|CERTIFICATES?)[^\\n]*\\n(.*?)(?:\\n\\s*\\n|\\Z)',\n",
    "    ]\n",
    "    \n",
    "    cert_text = \"\"\n",
    "    for pattern in cert_section_patterns:\n",
    "        matches = re.findall(pattern, text, re.DOTALL | re.IGNORECASE)\n",
    "        if matches:\n",
    "            cert_text = matches[0]\n",
    "            break\n",
    "    \n",
    "    if not cert_text:\n",
    "        # Try to find individual certifications if no section was found\n",
    "        individual_cert_pattern = r'(?:certified|certification|certificate)[\\s:]+([^\\n,]+)'\n",
    "        matches = re.findall(individual_cert_pattern, text, re.IGNORECASE)\n",
    "        for match in matches:\n",
    "            certifications.append({\n",
    "                \"name\": match.strip(),\n",
    "                \"issuer\": \"Unknown\",\n",
    "                \"date\": \"Unknown\",\n",
    "                \"link\": None\n",
    "            })\n",
    "        return certifications\n",
    "    \n",
    "    # Split certification text into individual certifications\n",
    "    cert_entries = re.split(r'\\n+', cert_text)\n",
    "    for entry in cert_entries:\n",
    "        if len(entry.strip()) < 5:  # Skip very short lines\n",
    "            continue\n",
    "            \n",
    "        cert = {\n",
    "            \"name\": entry.strip(),\n",
    "            \"issuer\": \"Unknown\",\n",
    "            \"date\": \"Unknown\",\n",
    "            \"link\": None\n",
    "        }\n",
    "        \n",
    "        # Try to extract issuer\n",
    "        issuer_match = re.search(r'(?:from|by|issued by|through)\\s+([^,\\n]+)', entry, re.IGNORECASE)\n",
    "        if issuer_match:\n",
    "            cert[\"issuer\"] = issuer_match.group(1).strip()\n",
    "        \n",
    "        # Try to extract date\n",
    "        date_match = re.search(r'(?:issued|completed|received)?\\s*(?:in|on)?\\s*(\\d{1,2}/\\d{1,2}/\\d{2,4}|\\w+\\s+\\d{4}|\\d{4})', entry, re.IGNORECASE)\n",
    "        if date_match:\n",
    "            cert[\"date\"] = date_match.group(1).strip()\n",
    "        \n",
    "        # Try to extract link\n",
    "        link_match = re.search(r'(https?://[^\\s]+)', entry)\n",
    "        if link_match:\n",
    "            cert[\"link\"] = link_match.group(1).strip(',.;:()\"\\'[]{}')\n",
    "        \n",
    "        certifications.append(cert)\n",
    "    \n",
    "    return certifications"
   ]
  },
  {
   "cell_type": "code",
   "execution_count": 14,
   "metadata": {},
   "outputs": [],
   "source": [
    "def create_document_parser_agent():\n",
    "    \"\"\"Create an improved document parser agent with enhanced profile extraction capabilities.\"\"\"\n",
    "    llm = ChatLiteLLM(\n",
    "        model=\"gemini/gemini-1.5-flash\",\n",
    "        api_key=GEMINI_API_KEY,\n",
    "        temperature=0.2\n",
    "    )\n",
    "    return Agent(\n",
    "        role=\"Document Parser Specialist\",\n",
    "        goal=\"Extract comprehensive structured information from candidate resumes with a focus on profile links\",\n",
    "        backstory=\"\"\"You are an AI specialist in parsing and extracting structured information from resume documents.\n",
    "        Your expertise allows you to identify key elements like personal information, skills, experience, education,\n",
    "        and public coding profiles from various document formats. You have a particular talent for finding and\n",
    "        extracting URLs and profile links that may be embedded in the document, even when they are not explicitly\n",
    "        labeled. You understand various resume formats and can identify GitHub, LeetCode, and certification links\n",
    "        regardless of how they're presented.\"\"\",\n",
    "        verbose=True,\n",
    "        allow_delegation=True,\n",
    "        tools=[],\n",
    "        llm=llm\n",
    "    )"
   ]
  },
  {
   "cell_type": "code",
   "execution_count": 15,
   "metadata": {},
   "outputs": [],
   "source": [
    "def create_profile_scraper_agent():\n",
    "    \"\"\"Create an improved profile scraper agent.\"\"\"\n",
    "    llm = ChatLiteLLM(\n",
    "        model=\"gemini/gemini-1.5-flash\",\n",
    "        api_key=GEMINI_API_KEY,\n",
    "        temperature=0.2\n",
    "    )\n",
    "    return Agent(\n",
    "        role=\"Profile Data Collector\",\n",
    "        goal=\"Gather comprehensive data from candidates' public coding profiles\",\n",
    "        backstory=\"\"\"You specialize in collecting data from coding platforms like GitHub and LeetCode.\n",
    "        Your work provides evidence of candidates' technical abilities beyond what they claim in resumes.\n",
    "        You thoroughly analyze repositories, contributions, and problem-solving patterns to assess real-world\n",
    "        coding abilities. You know how to extract information about languages used, project complexity,\n",
    "        and development patterns from code repositories. For competitive programming profiles, you identify\n",
    "        problem-solving skills and algorithmic thinking capabilities.\"\"\",\n",
    "        verbose=True,\n",
    "        allow_delegation=True,\n",
    "        tools=[\n",
    "            GitHubProfileScraper(),\n",
    "            LeetCodeProfileScraper(),\n",
    "            SearchTool()\n",
    "        ],\n",
    "        llm=llm\n",
    "    )"
   ]
  },
  {
   "cell_type": "code",
   "execution_count": 16,
   "metadata": {},
   "outputs": [],
   "source": [
    "def create_certification_verification_agent():\n",
    "    \"\"\"Create an enhanced agent for verifying certifications.\"\"\"\n",
    "    llm = ChatLiteLLM(\n",
    "        model=\"gemini/gemini-1.5-flash\",\n",
    "        api_key=GEMINI_API_KEY,\n",
    "        temperature=0.2\n",
    "    )\n",
    "    return Agent(\n",
    "        role=\"Certification Verification Specialist\",\n",
    "        goal=\"Verify the authenticity and relevance of candidate certifications and map them to skills\",\n",
    "        backstory=\"\"\"You are an expert in verifying technical certifications and credentials. \n",
    "        You know how to validate certification claims by checking certification URLs, verifying \n",
    "        credential IDs, and analyzing issuer information. You use OCR to extract text from \n",
    "        certificate images and PDFs, verify the candidate's name on certificates, and decode \n",
    "        QR codes for additional verification. You understand the significance of different \n",
    "        technical certifications across industries and can evaluate their relevance to specific \n",
    "        job roles. You can distinguish between basic completion certificates and rigorous, \n",
    "        industry-recognized credentials, providing context on the skills each certification represents.\"\"\",\n",
    "        verbose=True,\n",
    "        allow_delegation=True,\n",
    "        tools=[\n",
    "            SearchTool(),\n",
    "            CertificateVerificationTool(),\n",
    "            SkillMappingTool()\n",
    "        ],\n",
    "        llm=llm\n",
    "    )"
   ]
  },
  {
   "cell_type": "code",
   "execution_count": 17,
   "metadata": {},
   "outputs": [],
   "source": [
    "def create_technical_evaluator_agent():\n",
    "    \"\"\"Create an improved technical evaluator agent.\"\"\"\n",
    "    llm = ChatLiteLLM(\n",
    "        model=\"gemini/gemini-1.5-flash\",\n",
    "        api_key=GEMINI_API_KEY,\n",
    "        temperature=0.2\n",
    "    )\n",
    "    return Agent(\n",
    "        role=\"Technical Skills Evaluator\",\n",
    "        goal=\"Assess technical proficiency based on resume claims, coding profiles, and certification evidence\",\n",
    "        backstory=\"\"\"You are an experienced technical evaluator with deep knowledge across programming languages, frameworks,\n",
    "        and software development practices. You can assess a candidate's real technical abilities by analyzing their\n",
    "        coding projects, contributions, problem-solving approaches, and verified certifications. You understand the\n",
    "        difference between claimed skills and demonstrated expertise, and can identify when a candidate has practical\n",
    "        experience versus theoretical knowledge. You evaluate technical depth, code quality, project complexity, and \n",
    "        best practices implementation to provide a comprehensive assessment of a candidate's capabilities.\"\"\",\n",
    "        verbose=True,\n",
    "        allow_delegation=True,\n",
    "        tools=[SearchTool()],\n",
    "        llm=llm\n",
    "    )"
   ]
  },
  {
   "cell_type": "code",
   "execution_count": 18,
   "metadata": {},
   "outputs": [],
   "source": [
    "def create_job_alignment_agent():\n",
    "    \"\"\"Create an improved job alignment agent.\"\"\"\n",
    "    llm = ChatLiteLLM(\n",
    "        model=\"gemini/gemini-1.5-flash\",\n",
    "        api_key=GEMINI_API_KEY,\n",
    "        temperature=0.2\n",
    "    )\n",
    "    return Agent(\n",
    "        role=\"Job Requirements Specialist\",\n",
    "        goal=\"Determine how well a candidate matches the specific technical requirements of a job\",\n",
    "        backstory=\"\"\"With your expertise in technical recruitment, you excel at mapping candidate skills against job\n",
    "        requirements. You understand both what companies need and how candidate abilities translate to on-the-job performance.\n",
    "        You can identify both direct skill matches and transferable skills that might not be explicitly mentioned but are\n",
    "        relevant to the role. You understand the difference between critical requirements and nice-to-have qualifications,\n",
    "        weighing them appropriately in your assessment. You know how to evaluate cultural fit indicators and growth potential\n",
    "        based on career progression and learning patterns shown in the candidate's profile.\"\"\",\n",
    "        verbose=True,\n",
    "        allow_delegation=True,\n",
    "        tools=[],\n",
    "        llm=llm\n",
    "    )"
   ]
  },
  {
   "cell_type": "code",
   "execution_count": 19,
   "metadata": {},
   "outputs": [],
   "source": [
    "def create_interview_question_generator_agent():\n",
    "    \"\"\"Create an improved interview question generator agent.\"\"\"\n",
    "    llm = ChatLiteLLM(\n",
    "        model=\"gemini/gemini-1.5-flash\",  \n",
    "        api_key=GEMINI_API_KEY,\n",
    "        temperature=0.3  # Slightly higher for creative questions\n",
    "    )\n",
    "    return Agent(\n",
    "        role=\"Technical Interview Question Generator\",\n",
    "        goal=\"Create tailored technical interview questions based on candidate's profile and identified gaps\",\n",
    "        backstory=\"\"\"You are an expert at crafting technical interview questions that explore the depths of a candidate's knowledge.\n",
    "        Your questions help reveal actual understanding rather than memorized answers by targeting specific technologies and\n",
    "        projects the candidate has worked with. You know how to design questions that assess both technical competence and\n",
    "        problem-solving approach. You create a mix of questions that verify claimed expertise, explore potential skill gaps,\n",
    "        and evaluate the candidate's ability to apply their knowledge in real-world scenarios. Your questions go beyond basics\n",
    "        to probe depth of understanding while remaining fair and relevant to the role.\"\"\",\n",
    "        verbose=True,\n",
    "        allow_delegation=True,\n",
    "        tools=[SearchTool()],\n",
    "        llm=llm\n",
    "    )"
   ]
  },
  {
   "cell_type": "code",
   "execution_count": 20,
   "metadata": {},
   "outputs": [],
   "source": [
    "def create_evaluation_pipeline_agent():\n",
    "    \"\"\"Create a new agent for implementing the stage-by-stage evaluation pipeline.\"\"\"\n",
    "    llm = ChatLiteLLM(\n",
    "        model=\"gemini/gemini-1.5-flash\",\n",
    "        api_key=GEMINI_API_KEY,\n",
    "        temperature=0.2\n",
    "    )\n",
    "    return Agent(\n",
    "        role=\"Evaluation Pipeline Manager\",\n",
    "        goal=\"Implement a comprehensive stage-by-stage evaluation process and produce a final numerical score\",\n",
    "        backstory=\"\"\"You are a specialist in systematic candidate evaluation processes. You implement a structured\n",
    "        evaluation pipeline that breaks down candidate assessment into distinct stages, each with clear criteria\n",
    "        and scoring mechanisms. You understand how to weigh different aspects of a candidate's profile according\n",
    "        to their relevance to the job. You produce objective, reproducible scoring that helps reduce bias in the\n",
    "        hiring process while identifying candidates with the highest potential for success in the role.\"\"\",\n",
    "        verbose=True,\n",
    "        allow_delegation=True,\n",
    "        tools=[],\n",
    "        llm=llm\n",
    "    )"
   ]
  },
  {
   "cell_type": "code",
   "execution_count": 21,
   "metadata": {},
   "outputs": [],
   "source": [
    "def create_summary_generator_agent():\n",
    "    \"\"\"Create an improved summary generator agent.\"\"\"\n",
    "    llm = ChatLiteLLM(\n",
    "        model=\"gemini/gemini-1.5-flash\",  # Using Pro for better quality summaries\n",
    "        api_key=GEMINI_API_KEY,\n",
    "        temperature=0.2\n",
    "    )\n",
    "    return Agent(\n",
    "        role=\"Assessment Summary Specialist\",\n",
    "        goal=\"Create engaging, concise, and visually appealing assessment reports for hiring managers\",\n",
    "        backstory=\"\"\"You excel at synthesizing complex technical evaluations into clear, actionable, and visually engaging summaries.\n",
    "        Your reports highlight candidate strengths, potential areas for growth, and relevance to specific roles\n",
    "        in ways that help hiring managers make informed decisions. You have a talent for presenting information\n",
    "        clearly and concisely, using visual elements like icons and rating scales to make reports easy to scan\n",
    "        while still being comprehensive. You know how to create reports that are both professional and engaging,\n",
    "        focusing on the most relevant insights while avoiding unnecessary details.\"\"\",\n",
    "        verbose=True,\n",
    "        allow_delegation=True,\n",
    "        tools=[],\n",
    "        llm=llm\n",
    "    )\n"
   ]
  },
  {
   "cell_type": "code",
   "execution_count": 22,
   "metadata": {},
   "outputs": [],
   "source": [
    "def create_parse_resume_task(document_parser_agent, resume_text):\n",
    "    \"\"\"Create an improved resume parsing task with focus on profile link extraction.\"\"\"\n",
    "    return Task(\n",
    "        description=f\"\"\"\n",
    "        Analyze the following resume text and extract structured information including:\n",
    "        1. Personal information (name, contact details)\n",
    "        2. Skills (programming languages, frameworks, tools)\n",
    "        3. Work experience (companies, roles, responsibilities, achievements)\n",
    "        4. Education (degrees, institutions, graduation dates)\n",
    "        5. Projects (descriptions, technologies used)\n",
    "        6. ALL public coding profile links (GitHub, LeetCode, Stack Overflow, etc.)\n",
    "        7. ALL certification links, certification names, and credential IDs\n",
    "        \n",
    "        IMPORTANT: Search carefully for URLs and usernames that might indicate profiles on:\n",
    "        - GitHub (look for github.com URLs or GitHub username mentions)\n",
    "        - LeetCode (look for leetcode.com URLs or LeetCode username mentions)\n",
    "        - Any certification platforms (Coursera, Udemy, AWS, Microsoft, etc.)\n",
    "        \n",
    "        Even if links are not explicitly labeled as profiles, extract any URLs or username mentions\n",
    "        that might lead to coding profiles or certifications. Consider different text formats and\n",
    "        look anywhere in the document, including headers, footers, and contact sections.\n",
    "        \n",
    "        Resume Text:\n",
    "        {resume_text}\n",
    "        \n",
    "        Return the information in a structured JSON format with a dedicated \"profiles\" section\n",
    "        and \"certifications\" section.\n",
    "        \"\"\",\n",
    "        agent=document_parser_agent,\n",
    "        expected_output=\"A structured JSON with parsed resume information, identified coding profiles, and certifications\"\n",
    "    )\n",
    "\n"
   ]
  },
  {
   "cell_type": "code",
   "execution_count": 23,
   "metadata": {},
   "outputs": [],
   "source": [
    "def create_scrape_profiles_task(profile_scraper_agent, profile_links):\n",
    "    \"\"\"Create an improved profile scraping task.\"\"\"\n",
    "    return Task(\n",
    "        description=f\"\"\"\n",
    "        Collect detailed information from the following coding profiles:\n",
    "        {json.dumps(profile_links, indent=2)}\n",
    "        \n",
    "        For each profile:\n",
    "        1. Gather comprehensive data about the candidate's activity\n",
    "        2. Identify key technical metrics (languages used, projects, contributions, problem-solving ability)\n",
    "        3. Look for evidence of skills claimed in their resume\n",
    "        4. Analyze code quality, project complexity, and development patterns\n",
    "        5. Determine the candidate's activity level and consistency of contributions\n",
    "        6. Identify collaborative behaviors (such as pull requests, code reviews, etc.)\n",
    "        \n",
    "        For GitHub:\n",
    "        - Analyze repository quality beyond just counting them\n",
    "        - Examine commit patterns and contribution history\n",
    "        - Check for meaningful projects vs forks or tutorial code\n",
    "        - Look at code complexity and quality when possible\n",
    "        \n",
    "        For LeetCode:\n",
    "        - Assess problem difficulty distribution (easy/medium/hard)\n",
    "        - Identify algorithmic strengths and weaknesses\n",
    "        - Analyze solution quality if available\n",
    "        \n",
    "        Return the collected information in a structured JSON format with separate sections for each platform.\n",
    "        \"\"\",\n",
    "        agent=profile_scraper_agent,\n",
    "        expected_output=\"A structured JSON with detailed profile data from each platform\"\n",
    "    )\n"
   ]
  },
  {
   "cell_type": "code",
   "execution_count": 24,
   "metadata": {},
   "outputs": [],
   "source": [
    "def create_verify_certifications_task(certification_verification_agent, certifications, candidate_name):\n",
    "    \"\"\"Create an enhanced task for verifying certifications.\"\"\"\n",
    "    return Task(\n",
    "        description=f\"\"\"\n",
    "        Verify the following certifications claimed by the candidate {candidate_name}:\n",
    "        {json.dumps(certifications, indent=2)}\n",
    "        \n",
    "        For each certification:\n",
    "        1. If a URL is provided, use the CertificateVerificationTool to:\n",
    "           - Extract text from the certificate using OCR\n",
    "           - Verify if the candidate's name ({candidate_name}) appears on the certificate\n",
    "           - Detect and decode any QR codes on the certificate\n",
    "           - Determine the issuer and legitimate skills represented by the certificate\n",
    "        \n",
    "        2. If no URL is provided, use the SearchTool to:\n",
    "           - Research the certification to validate it exists\n",
    "           - Determine what skills it typically represents\n",
    "           - Identify the typical issuer and their credibility\n",
    "        \n",
    "        3. For each verified certification:\n",
    "           - Provide a verification status (verified/unverified)\n",
    "           - Include the confidence level of verification (high/medium/low)\n",
    "           - List the skills demonstrated by the certification\n",
    "           - Note the issuer and their credibility in the industry\n",
    "           - Include issue date and expiration date if available\n",
    "        \n",
    "        4. After verifying all certificates, use the SkillMappingTool to map the verified certifications \n",
    "           to specific technical skills with estimated proficiency levels.\n",
    "        \n",
    "        Return your findings in a structured JSON format with:\n",
    "        - A \"certifications\" section containing verification details for each certificate\n",
    "        - A \"skills_assessment\" section mapping certificates to technical skills with proficiency ratings (1-10)\n",
    "        - A \"summary\" section with overall assessment of the candidate's certified skills\n",
    "        \"\"\",\n",
    "        agent=certification_verification_agent,\n",
    "        expected_output=\"A structured JSON with verification results for each certification and mapped skills\"\n",
    "    )\n"
   ]
  },
  {
   "cell_type": "code",
   "execution_count": 25,
   "metadata": {},
   "outputs": [],
   "source": [
    "def create_evaluate_skills_task(technical_evaluator_agent, resume_data, profile_data, certification_data):\n",
    "    \"\"\"Create an improved skill evaluation task.\"\"\"\n",
    "    return Task(\n",
    "        description=f\"\"\"\n",
    "        Evaluate the candidate's technical skills based on:\n",
    "        \n",
    "        Resume Information:\n",
    "        {json.dumps(resume_data, indent=2)}\n",
    "        \n",
    "        Profile Data:\n",
    "        {json.dumps(profile_data, indent=2)}\n",
    "        \n",
    "        Certification Data:\n",
    "        {json.dumps(certification_data, indent=2)}\n",
    "        \n",
    "        Provide an objective assessment of:\n",
    "        1. Technical skill levels in each language/framework/tool with a 1-10 rating\n",
    "        2. Evidence of practical application of claimed skills\n",
    "        3. Depth of knowledge in primary areas\n",
    "        4. Learning ability and adaptability based on skill acquisition timeline\n",
    "        5. Areas of technical strength with specific evidence from resume/profiles/certifications\n",
    "        6. Potential growth areas or skill gaps\n",
    "        7. Specialization vs. generalist assessment\n",
    "        \n",
    "        For each skill:\n",
    "        - Distinguish between claimed skills and demonstrated skills\n",
    "        - Consider both experience (years) and evidence of mastery\n",
    "        - Weigh profile evidence more heavily than resume claims\n",
    "        - Consider certification difficulty and relevance\n",
    "        \n",
    "        Return your evaluation in a structured JSON format with skills grouped by category\n",
    "        (languages, frameworks, tools, etc.) and each assigned a numerical rating.\n",
    "        \"\"\",\n",
    "        agent=technical_evaluator_agent,\n",
    "        expected_output=\"A structured JSON with detailed technical skill evaluation\"\n",
    "    )\n",
    "\n"
   ]
  },
  {
   "cell_type": "code",
   "execution_count": 26,
   "metadata": {},
   "outputs": [],
   "source": [
    "def create_job_match_task(job_alignment_agent, skill_evaluation, job_requirements):\n",
    "    \"\"\"Create an improved job match task.\"\"\"\n",
    "    return Task(\n",
    "        description=f\"\"\"\n",
    "        Determine how well the candidate matches the following job requirements:\n",
    "        {job_requirements}\n",
    "        \n",
    "        Using their skill evaluation:\n",
    "        {json.dumps(skill_evaluation, indent=2)}\n",
    "        \n",
    "        Assess:\n",
    "        1. Essential requirements match (must-have skills)\n",
    "        2. Preferred requirements match (nice-to-have skills)\n",
    "        3. Experience level alignment\n",
    "        4. Cultural fit indicators\n",
    "        5. Growth potential for the role\n",
    "        \n",
    "        For each requirement:\n",
    "        - Identify if it's satisfied directly or through a transferable skill\n",
    "        - Consider not just the presence of a skill but its rated level\n",
    "        - Note where the candidate exceeds requirements\n",
    "        - Note where the candidate falls short but may be able to learn\n",
    "        - Note where critical gaps exist\n",
    "        \n",
    "        Provide a match percentage (0-100%) and detailed explanation for each major requirement.\n",
    "        Also calculate an overall match percentage that weights essential requirements more heavily.\n",
    "        Return your assessment in a structured JSON format.\n",
    "        \"\"\",\n",
    "        agent=job_alignment_agent,\n",
    "        expected_output=\"A structured JSON with detailed job requirement matches\"\n",
    "    )\n",
    "\n"
   ]
  },
  {
   "cell_type": "code",
   "execution_count": 27,
   "metadata": {},
   "outputs": [],
   "source": [
    "def create_evaluation_pipeline_task(evaluation_pipeline_agent, resume_data, profile_data, certification_data, skill_evaluation, job_match):\n",
    "    \"\"\"Create a new task for the stage-by-stage evaluation pipeline.\"\"\"\n",
    "    return Task(\n",
    "        description=f\"\"\"\n",
    "        Implement a comprehensive evaluation pipeline with the following stages, using:\n",
    "        \n",
    "        Resume Information:\n",
    "        {json.dumps(resume_data, indent=2)}\n",
    "        \n",
    "        Profile Data:\n",
    "        {json.dumps(profile_data, indent=2)}\n",
    "        \n",
    "        Certification Data:\n",
    "        {json.dumps(certification_data, indent=2)}\n",
    "        \n",
    "        Skill Evaluation:\n",
    "        {json.dumps(skill_evaluation, indent=2)}\n",
    "        \n",
    "        Job Match Assessment:\n",
    "        {json.dumps(job_match, indent=2)}\n",
    "        \n",
    "        **Stage 1: Basic Eligibility Check** (20 points)\n",
    "        - Extract and verify: education, years of experience, certifications, location (if required)\n",
    "        - Calculate points based on minimum requirements being met\n",
    "        \n",
    "        **Stage 2: Skill Match Evaluation** (40 points)\n",
    "        - Use the skill evaluation and job match data\n",
    "        - Classify: Matched Skills, Missing Skills, Bonus Skills\n",
    "        - Weight essential skills higher than preferred skills\n",
    "        \n",
    "        **Stage 3: Domain-Specific Experience Check** (15 points)\n",
    "        - Identify domain-related keywords from the job requirements\n",
    "        - Score based on evidence of domain experience in resume and profiles\n",
    "        \n",
    "        **Stage 4: Role Fit and Achievements Alignment** (25 points)\n",
    "        - Assess alignment of resume achievements with job responsibilities\n",
    "        - Prioritize impact-driven achievements and leadership experience if relevant\n",
    "        \n",
    "        For each stage:\n",
    "        - Provide a numeric score\n",
    "        - Include a justification for the score\n",
    "        - Highlight key factors that influenced the score\n",
    "        \n",
    "        Finally:\n",
    "        - Calculate a total score out of 100\n",
    "        - Provide a final recommendation: Proceed to interview / Hold / Reject\n",
    "          (Proceed: 70+, Hold: 50-69, Reject: <50)\n",
    "        \n",
    "        Return a structured JSON with results for each stage, total score, and recommendation.\n",
    "        \"\"\",\n",
    "        agent=evaluation_pipeline_agent,\n",
    "        expected_output=\"A structured JSON containing scores and evaluations for each stage of the pipeline\"\n",
    "    )\n",
    "\n"
   ]
  },
  {
   "cell_type": "code",
   "execution_count": 28,
   "metadata": {},
   "outputs": [],
   "source": [
    "def create_generate_questions_task(interview_question_generator, resume_data, profile_data, skill_evaluation, job_match):\n",
    "    \"\"\"Create an improved interview question generation task.\"\"\"\n",
    "    return Task(\n",
    "        description=f\"\"\"\n",
    "        Generate strategic technical interview questions based on:\n",
    "        \n",
    "        Resume Information:\n",
    "        {json.dumps(resume_data, indent=2)}\n",
    "        \n",
    "        Profile Data:\n",
    "        {json.dumps(profile_data, indent=2)}\n",
    "        \n",
    "        Skill Evaluation:\n",
    "        {json.dumps(skill_evaluation, indent=2)}\n",
    "        \n",
    "        Job Match Assessment:\n",
    "        {json.dumps(job_match, indent=2)}\n",
    "        \n",
    "        Create 5-7 tailored questions that:\n",
    "        1. Verify depth of knowledge in claimed expertise areas\n",
    "        2. Explore specific projects mentioned in resume or profiles\n",
    "        3. Address identified skill gaps relevant to the job requirements\n",
    "        4. Include at least one system design question related to their experience\n",
    "        5. Include at least one problem-solving question that relates to their domain\n",
    "        6. Test adaptability by asking about unfamiliar but related technologies\n",
    "        \n",
    "        For each question:\n",
    "        - Make it specific to this candidate (reference specific projects or experience)\n",
    "        - Clearly state what you're assessing with this question\n",
    "        - Provide guidance on what a good answer would include\n",
    "        - Structure questions that reveal thinking process, not just knowledge\n",
    "        - Include difficulty level (Basic, Intermediate, Advanced)\n",
    "        \n",
    "        Return the questions in a structured JSON format.\n",
    "        \"\"\",\n",
    "        agent=interview_question_generator,\n",
    "        expected_output=\"A structured JSON with tailored technical interview questions\"\n",
    "    )\n",
    "\n"
   ]
  },
  {
   "cell_type": "code",
   "execution_count": 29,
   "metadata": {},
   "outputs": [],
   "source": [
    "def create_summary_task(summary_generator, resume_data, profile_data, skill_evaluation, job_match, interview_questions, evaluation_results):\n",
    "    \"\"\"Create an improved summary generation task with focus on readability and visual appeal.\"\"\"\n",
    "    return Task(\n",
    "        description=f\"\"\"\n",
    "        Create a compelling, visually engaging, and concise assessment summary based on:\n",
    "        \n",
    "        Resume Information:\n",
    "        {json.dumps(resume_data, indent=2)}\n",
    "        \n",
    "        Profile Data:\n",
    "        {json.dumps(profile_data, indent=2)}\n",
    "        \n",
    "        Skill Evaluation:\n",
    "        {json.dumps(skill_evaluation, indent=2)}\n",
    "        \n",
    "        Job Match Assessment:\n",
    "        {json.dumps(job_match, indent=2)}\n",
    "        \n",
    "        Suggested Interview Questions:\n",
    "        {json.dumps(interview_questions, indent=2)}\n",
    "        \n",
    "        Evaluation Results:\n",
    "        {json.dumps(evaluation_results, indent=2)}\n",
    "        \n",
    "        Create a summary that:\n",
    "        1. Starts with a brief candidate overview (name, current role, years of experience)\n",
    "        2. Includes a visually appealing score card with the overall evaluation score\n",
    "        3. Highlights 3-5 key strengths with evidence from their resume and profiles\n",
    "        4. Notes 2-3 potential areas for growth relevant to the job\n",
    "        5. Summarizes overall job match with a clear recommendation\n",
    "        6. Uses visually engaging elements like:\n",
    "           - Star ratings (★★★★☆) for key skills\n",
    "           - Emojis as bullet points for visual scanning\n",
    "           - Rating scales for key metrics\n",
    "           - Clear headings and subheadings\n",
    "        \n",
    "        The summary should be scannable in 30 seconds while providing valuable insights.\n",
    "        Format in visually appealing markdown, optimized for a hiring manager who has limited time.\n",
    "        Keep the entire summary under 2 pages when printed.\n",
    "        \"\"\",\n",
    "        agent=summary_generator,\n",
    "        expected_output=\"A concise, visually engaging markdown assessment summary\"\n",
    "    )\n",
    "\n"
   ]
  },
  {
   "cell_type": "code",
   "execution_count": 30,
   "metadata": {},
   "outputs": [],
   "source": [
    "def run_skill_assessment(resume_file, job_requirements):\n",
    "    print(\"Starting enhanced skill assessment process...\")\n",
    "    \n",
    "    # Step 1: Extract text from resume document\n",
    "    print(\"Extracting text from resume...\")\n",
    "    resume_text = extract_text_from_document(resume_file)\n",
    "    \n",
    "    # Step 2: Create agents\n",
    "    print(\"Creating specialized agents...\")\n",
    "    document_parser_agent = create_document_parser_agent()\n",
    "    profile_scraper_agent = create_profile_scraper_agent()\n",
    "    certification_verification_agent = create_certification_verification_agent()\n",
    "    technical_evaluator_agent = create_technical_evaluator_agent()\n",
    "    job_alignment_agent = create_job_alignment_agent()\n",
    "    evaluation_pipeline_agent = create_evaluation_pipeline_agent()\n",
    "    interview_question_generator = create_interview_question_generator_agent()\n",
    "    summary_generator_agent = create_summary_generator_agent()\n",
    "    \n",
    "    # Step 3: Define tasks and create parsing crew\n",
    "    print(\"Creating assessment tasks...\")\n",
    "    parse_resume_task = create_parse_resume_task(document_parser_agent, resume_text)\n",
    "    \n",
    "    # Step 4: Create crew and execute\n",
    "    print(\"Executing document parsing...\")\n",
    "    parsing_crew = Crew(\n",
    "        agents=[document_parser_agent],\n",
    "        tasks=[parse_resume_task],\n",
    "        verbose=True,\n",
    "        process=Process.sequential\n",
    "    )\n",
    "    \n",
    "    resume_result = parsing_crew.kickoff()\n",
    "    print(\"\\nResume parsing complete!\")\n",
    "    \n",
    "    try:\n",
    "        # Access the actual string value from the CrewOutput object\n",
    "        resume_result_str = str(resume_result)\n",
    "        resume_data = json.loads(resume_result_str)\n",
    "    except json.JSONDecodeError:\n",
    "        # Try to extract JSON from text if the result isn't directly parseable\n",
    "        try:\n",
    "            json_match = re.search(r'```json\\n(.*?)\\n```', resume_result_str, re.DOTALL)\n",
    "            if json_match:\n",
    "                resume_data = json.loads(json_match.group(1))\n",
    "            else:\n",
    "                print(\"Warning: Could not parse resume result as JSON. Using raw text.\")\n",
    "                resume_data = {\"raw_result\": resume_result_str}\n",
    "        except Exception as e:\n",
    "            print(f\"Error parsing resume JSON: {str(e)}\")\n",
    "            resume_data = {\"raw_result\": resume_result_str}\n",
    "    \n",
    "    # Extract candidate name for certificate verification\n",
    "    candidate_name = extract_name_from_resume(resume_data)\n",
    "    print(f\"\\nCandidate name identified: {candidate_name}\")\n",
    "    \n",
    "    # Step 5: Extract profile links and scrape profiles\n",
    "    print(\"\\nExtracting profile links...\")\n",
    "    if isinstance(resume_data, dict) and \"raw_result\" not in resume_data:\n",
    "        # Use the structured data if available\n",
    "        profile_links = resume_data.get(\"profiles\", {})\n",
    "        if not profile_links:\n",
    "            # Try to find links in the structured data\n",
    "            profile_links = extract_profile_links(str(resume_data))\n",
    "    else:\n",
    "        # Use the raw text for extraction\n",
    "        profile_links = extract_profile_links(resume_text)\n",
    "    \n",
    "    print(f\"Found profile links: {profile_links}\")\n",
    "    \n",
    "    if profile_links:\n",
    "        print(\"\\nScraping coding profiles...\")\n",
    "        scrape_profiles_task = create_scrape_profiles_task(profile_scraper_agent, profile_links)\n",
    "        \n",
    "        profile_crew = Crew(\n",
    "            agents=[profile_scraper_agent],\n",
    "            tasks=[scrape_profiles_task],\n",
    "            verbose=True,\n",
    "            process=Process.sequential\n",
    "        )\n",
    "        \n",
    "        profile_result = profile_crew.kickoff()\n",
    "        print(\"\\nProfile scraping complete!\")\n",
    "        \n",
    "        try:\n",
    "            # Convert CrewOutput to string before parsing as JSON\n",
    "            profile_result_str = str(profile_result)\n",
    "            profile_data = json.loads(profile_result_str)\n",
    "        except json.JSONDecodeError:\n",
    "            # Try to extract JSON from text\n",
    "            try:\n",
    "                json_match = re.search(r'```json\\n(.*?)\\n```', profile_result_str, re.DOTALL)\n",
    "                if json_match:\n",
    "                    profile_data = json.loads(json_match.group(1))\n",
    "                else:\n",
    "                    print(\"Warning: Could not parse profile result as JSON. Using raw text.\")\n",
    "                    profile_data = {\"raw_result\": profile_result_str}\n",
    "            except Exception as e:\n",
    "                print(f\"Error parsing profile JSON: {str(e)}\")\n",
    "                profile_data = {\"raw_result\": profile_result_str}\n",
    "    else:\n",
    "        print(\"No coding profiles found. Proceeding with resume data only.\")\n",
    "        profile_data = {}\n",
    "    \n",
    "    # Step 6: Process and verify certifications\n",
    "    print(\"\\nExtracting certification information...\")\n",
    "    certifications = []\n",
    "    \n",
    "    # First check for structured certification data in resume_data\n",
    "    if isinstance(resume_data, dict) and \"certifications\" in resume_data:\n",
    "        cert_data = resume_data[\"certifications\"]\n",
    "        if isinstance(cert_data, list):\n",
    "            certifications = cert_data\n",
    "        elif isinstance(cert_data, dict):\n",
    "            # Convert dict to list if needed\n",
    "            certifications = [cert_data] if cert_data else []\n",
    "    \n",
    "    # If no structured data, try to extract from raw text\n",
    "    if not certifications:\n",
    "        certifications = extract_certifications(resume_text)\n",
    "    \n",
    "    print(f\"Found {len(certifications)} certifications\")\n",
    "    \n",
    "    if certifications:\n",
    "        print(\"\\nVerifying certifications...\")\n",
    "        verify_certifications_task = create_verify_certifications_task(\n",
    "            certification_verification_agent, \n",
    "            certifications,\n",
    "            candidate_name\n",
    "        )\n",
    "        \n",
    "        certification_crew = Crew(\n",
    "            agents=[certification_verification_agent],\n",
    "            tasks=[verify_certifications_task],\n",
    "            verbose=True,\n",
    "            process=Process.sequential\n",
    "        )\n",
    "        \n",
    "        certification_result = certification_crew.kickoff()\n",
    "        print(\"\\nCertification verification complete!\")\n",
    "        \n",
    "        try:\n",
    "            certification_result_str = str(certification_result)\n",
    "            certification_data = json.loads(certification_result_str)\n",
    "        except json.JSONDecodeError:\n",
    "            try:\n",
    "                json_match = re.search(r'```json\\n(.*?)\\n```', certification_result_str, re.DOTALL)\n",
    "                if json_match:\n",
    "                    certification_data = json.loads(json_match.group(1))\n",
    "                else:\n",
    "                    print(\"Warning: Could not parse certification result as JSON. Using raw text.\")\n",
    "                    certification_data = {\"raw_result\": certification_result_str}\n",
    "            except Exception as e:\n",
    "                print(f\"Error parsing certification JSON: {str(e)}\")\n",
    "                certification_data = {\"raw_result\": certification_result_str}\n",
    "    else:\n",
    "        print(\"No certifications found. Proceeding without certification verification.\")\n",
    "        certification_data = {}\n",
    "    \n",
    "    # Step 7: Evaluate technical skills\n",
    "    print(\"\\nEvaluating technical skills...\")\n",
    "    evaluate_skills_task = create_evaluate_skills_task(technical_evaluator_agent, resume_data, profile_data, certification_data)\n",
    "    \n",
    "    skills_crew = Crew(\n",
    "        agents=[technical_evaluator_agent],\n",
    "        tasks=[evaluate_skills_task],\n",
    "        verbose=True,\n",
    "        process=Process.sequential\n",
    "    )\n",
    "    \n",
    "    skills_result = skills_crew.kickoff()\n",
    "    print(\"\\nSkill evaluation complete!\")\n",
    "    \n",
    "    try:\n",
    "        # Convert CrewOutput to string before parsing as JSON\n",
    "        skills_result_str = str(skills_result)\n",
    "        skill_evaluation = json.loads(skills_result_str)\n",
    "    except json.JSONDecodeError:\n",
    "        # Try to extract JSON from text\n",
    "        try:\n",
    "            json_match = re.search(r'```json\\n(.*?)\\n```', skills_result_str, re.DOTALL)\n",
    "            if json_match:\n",
    "                skill_evaluation = json.loads(json_match.group(1))\n",
    "            else:\n",
    "                print(\"Warning: Could not parse skill evaluation as JSON. Using raw text.\")\n",
    "                skill_evaluation = {\"raw_result\": skills_result_str}\n",
    "        except Exception as e:\n",
    "            print(f\"Error parsing skill evaluation JSON: {str(e)}\")\n",
    "            skill_evaluation = {\"raw_result\": skills_result_str}\n",
    "    \n",
    "    # Step 8: Assess job match\n",
    "    print(\"\\nAssessing job match...\")\n",
    "    job_match_task = create_job_match_task(job_alignment_agent, skill_evaluation, job_requirements)\n",
    "    \n",
    "    job_match_crew = Crew(\n",
    "        agents=[job_alignment_agent],\n",
    "        tasks=[job_match_task],\n",
    "        verbose=True,\n",
    "        process=Process.sequential\n",
    "    )\n",
    "    \n",
    "    job_match_result = job_match_crew.kickoff()\n",
    "    print(\"\\nJob match assessment complete!\")\n",
    "    \n",
    "    try:\n",
    "        # Convert CrewOutput to string before parsing as JSON\n",
    "        job_match_result_str = str(job_match_result)\n",
    "        job_match = json.loads(job_match_result_str)\n",
    "    except json.JSONDecodeError:\n",
    "        # Try to extract JSON from text\n",
    "        try:\n",
    "            json_match = re.search(r'```json\\n(.*?)\\n```', job_match_result_str, re.DOTALL)\n",
    "            if json_match:\n",
    "                job_match = json.loads(json_match.group(1))\n",
    "            else:\n",
    "                print(\"Warning: Could not parse job match as JSON. Using raw text.\")\n",
    "                job_match = {\"raw_result\": job_match_result_str}\n",
    "        except Exception as e:\n",
    "            print(f\"Error parsing job match JSON: {str(e)}\")\n",
    "            job_match = {\"raw_result\": job_match_result_str}\n",
    "    \n",
    "    # Step 9: Run the evaluation pipeline\n",
    "    print(\"\\nRunning evaluation pipeline...\")\n",
    "    evaluation_pipeline_task = create_evaluation_pipeline_task(\n",
    "        evaluation_pipeline_agent,\n",
    "        resume_data,\n",
    "        profile_data,\n",
    "        certification_data,\n",
    "        skill_evaluation,\n",
    "        job_match\n",
    "    )\n",
    "    \n",
    "    evaluation_crew = Crew(\n",
    "        agents=[evaluation_pipeline_agent],\n",
    "        tasks=[evaluation_pipeline_task],\n",
    "        verbose=True,\n",
    "        process=Process.sequential\n",
    "    )\n",
    "    \n",
    "    evaluation_result = evaluation_crew.kickoff()\n",
    "    print(\"\\nEvaluation pipeline complete!\")\n",
    "    \n",
    "    try:\n",
    "        evaluation_result_str = str(evaluation_result)\n",
    "        evaluation_results = json.loads(evaluation_result_str)\n",
    "    except json.JSONDecodeError:\n",
    "        try:\n",
    "            json_match = re.search(r'```json\\n(.*?)\\n```', evaluation_result_str, re.DOTALL)\n",
    "            if json_match:\n",
    "                evaluation_results = json.loads(json_match.group(1))\n",
    "            else:\n",
    "                print(\"Warning: Could not parse evaluation results as JSON. Using raw text.\")\n",
    "                evaluation_results = {\"raw_result\": evaluation_result_str}\n",
    "        except Exception as e:\n",
    "            print(f\"Error parsing evaluation results JSON: {str(e)}\")\n",
    "            evaluation_results = {\"raw_result\": evaluation_result_str}\n",
    "    \n",
    "    # Step 10: Generate interview questions\n",
    "    print(\"\\nGenerating interview questions...\")\n",
    "    questions_task = create_generate_questions_task(\n",
    "        interview_question_generator, \n",
    "        resume_data, \n",
    "        profile_data,\n",
    "        skill_evaluation,\n",
    "        job_match\n",
    "    )\n",
    "    \n",
    "    questions_crew = Crew(\n",
    "        agents=[interview_question_generator],\n",
    "        tasks=[questions_task],\n",
    "        verbose=True,\n",
    "        process=Process.sequential\n",
    "    )\n",
    "    \n",
    "    questions_result = questions_crew.kickoff()\n",
    "    print(\"\\nInterview questions generated!\")\n",
    "    \n",
    "    try:\n",
    "        # Convert CrewOutput to string before parsing as JSON\n",
    "        questions_result_str = str(questions_result)\n",
    "        interview_questions = json.loads(questions_result_str)\n",
    "    except json.JSONDecodeError:\n",
    "        # Try to extract JSON from text\n",
    "        try:\n",
    "            json_match = re.search(r'```json\\n(.*?)\\n```', questions_result_str, re.DOTALL)\n",
    "            if json_match:\n",
    "                interview_questions = json.loads(json_match.group(1))\n",
    "            else:\n",
    "                print(\"Warning: Could not parse interview questions as JSON. Using raw text.\")\n",
    "                interview_questions = {\"raw_result\": questions_result_str}\n",
    "        except Exception as e:\n",
    "            print(f\"Error parsing interview questions JSON: {str(e)}\")\n",
    "            interview_questions = {\"raw_result\": questions_result_str}\n",
    "    \n",
    "    # Step 11: Generate final summary\n",
    "    print(\"\\nGenerating final assessment summary...\")\n",
    "    summary_task = create_summary_task(\n",
    "        summary_generator_agent,\n",
    "        resume_data,\n",
    "        profile_data,\n",
    "        skill_evaluation,\n",
    "        job_match,\n",
    "        interview_questions,\n",
    "        evaluation_results\n",
    "    )\n",
    "    \n",
    "    summary_crew = Crew(\n",
    "        agents=[summary_generator_agent],\n",
    "        tasks=[summary_task],\n",
    "        verbose=True,\n",
    "        process=Process.sequential\n",
    "    )\n",
    "    \n",
    "    summary_result = summary_crew.kickoff()\n",
    "    print(\"\\nFinal assessment summary generated!\")\n",
    "    \n",
    "    # Step 12: Return all results\n",
    "    results = {\n",
    "        \"resume_data\": resume_data,\n",
    "        \"profile_data\": profile_data,\n",
    "        \"certification_data\": certification_data,\n",
    "        \"skill_evaluation\": skill_evaluation,\n",
    "        \"job_match\": job_match,\n",
    "        \"evaluation_results\": evaluation_results,\n",
    "        \"interview_questions\": interview_questions,\n",
    "        \"summary\": summary_result\n",
    "    }\n",
    "    \n",
    "    return results"
   ]
  },
  {
   "cell_type": "code",
   "execution_count": 31,
   "metadata": {},
   "outputs": [],
   "source": [
    "\n",
    "# Create sample job requirements\n",
    "sample_job_requirements = \"\"\"\n",
    "Job Title: Senior Full Stack Developer\n",
    "\n",
    "Essential Requirements:\n",
    "- 5+ years of experience in software development\n",
    "- Strong proficiency in Python and JavaScript\n",
    "- Experience with React.js and Django\n",
    "- Knowledge of RESTful API design and implementation\n",
    "- Experience with cloud platforms (AWS or Azure)\n",
    "- Understanding of CI/CD pipelines and DevOps practices\n",
    "\n",
    "Preferred Skills:\n",
    "- Experience with TypeScript and Node.js\n",
    "- Knowledge of container technologies (Docker, Kubernetes)\n",
    "- Experience with database design and optimization\n",
    "- Familiarity with microservices architecture\n",
    "- Experience mentoring junior developers\n",
    "\n",
    "Responsibilities:\n",
    "- Design, develop, and maintain web applications\n",
    "- Collaborate with cross-functional teams to define and implement new features\n",
    "- Write clean, maintainable, and efficient code\n",
    "- Participate in code reviews and provide constructive feedback\n",
    "- Troubleshoot production issues and optimize application performance\n",
    "- Stay up-to-date with emerging trends and technologies\n",
    "\"\"\""
   ]
  },
  {
   "cell_type": "code",
   "execution_count": 32,
   "metadata": {},
   "outputs": [
    {
     "name": "stdout",
     "output_type": "stream",
     "text": [
      "Starting enhanced skill assessment process...\n",
      "Extracting text from resume...\n",
      "Creating specialized agents...\n",
      "Creating assessment tasks...\n",
      "Executing document parsing...\n"
     ]
    },
    {
     "data": {
      "text/html": [
       "<pre style=\"white-space:pre;overflow-x:auto;line-height:normal;font-family:Menlo,'DejaVu Sans Mono',consolas,'Courier New',monospace\"><span style=\"color: #008080; text-decoration-color: #008080\">╭──────────────────────────────────────────── Crew Execution Started ─────────────────────────────────────────────╮</span>\n",
       "<span style=\"color: #008080; text-decoration-color: #008080\">│</span>                                                                                                                 <span style=\"color: #008080; text-decoration-color: #008080\">│</span>\n",
       "<span style=\"color: #008080; text-decoration-color: #008080\">│</span>  <span style=\"color: #008080; text-decoration-color: #008080; font-weight: bold\">Crew Execution Started</span>                                                                                         <span style=\"color: #008080; text-decoration-color: #008080\">│</span>\n",
       "<span style=\"color: #008080; text-decoration-color: #008080\">│</span>  <span style=\"color: #c0c0c0; text-decoration-color: #c0c0c0\">Name: </span><span style=\"color: #008080; text-decoration-color: #008080\">crew</span>                                                                                                     <span style=\"color: #008080; text-decoration-color: #008080\">│</span>\n",
       "<span style=\"color: #008080; text-decoration-color: #008080\">│</span>  <span style=\"color: #c0c0c0; text-decoration-color: #c0c0c0\">ID: </span><span style=\"color: #008080; text-decoration-color: #008080\">a9861f53-02a1-4ddc-91bd-b21c1d7b3bf2</span>                                                                       <span style=\"color: #008080; text-decoration-color: #008080\">│</span>\n",
       "<span style=\"color: #008080; text-decoration-color: #008080\">│</span>                                                                                                                 <span style=\"color: #008080; text-decoration-color: #008080\">│</span>\n",
       "<span style=\"color: #008080; text-decoration-color: #008080\">│</span>                                                                                                                 <span style=\"color: #008080; text-decoration-color: #008080\">│</span>\n",
       "<span style=\"color: #008080; text-decoration-color: #008080\">╰─────────────────────────────────────────────────────────────────────────────────────────────────────────────────╯</span>\n",
       "</pre>\n"
      ],
      "text/plain": [
       "\u001b[36m╭─\u001b[0m\u001b[36m───────────────────────────────────────────\u001b[0m\u001b[36m Crew Execution Started \u001b[0m\u001b[36m────────────────────────────────────────────\u001b[0m\u001b[36m─╮\u001b[0m\n",
       "\u001b[36m│\u001b[0m                                                                                                                 \u001b[36m│\u001b[0m\n",
       "\u001b[36m│\u001b[0m  \u001b[1;36mCrew Execution Started\u001b[0m                                                                                         \u001b[36m│\u001b[0m\n",
       "\u001b[36m│\u001b[0m  \u001b[37mName: \u001b[0m\u001b[36mcrew\u001b[0m                                                                                                     \u001b[36m│\u001b[0m\n",
       "\u001b[36m│\u001b[0m  \u001b[37mID: \u001b[0m\u001b[36ma9861f53-02a1-4ddc-91bd-b21c1d7b3bf2\u001b[0m                                                                       \u001b[36m│\u001b[0m\n",
       "\u001b[36m│\u001b[0m                                                                                                                 \u001b[36m│\u001b[0m\n",
       "\u001b[36m│\u001b[0m                                                                                                                 \u001b[36m│\u001b[0m\n",
       "\u001b[36m╰─────────────────────────────────────────────────────────────────────────────────────────────────────────────────╯\u001b[0m\n"
      ]
     },
     "metadata": {},
     "output_type": "display_data"
    },
    {
     "data": {
      "text/html": [
       "<pre style=\"white-space:pre;overflow-x:auto;line-height:normal;font-family:Menlo,'DejaVu Sans Mono',consolas,'Courier New',monospace\">\n",
       "</pre>\n"
      ],
      "text/plain": [
       "\n"
      ]
     },
     "metadata": {},
     "output_type": "display_data"
    },
    {
     "data": {
      "text/html": [
       "<pre style=\"white-space:pre;overflow-x:auto;line-height:normal;font-family:Menlo,'DejaVu Sans Mono',consolas,'Courier New',monospace\"><span style=\"color: #008080; text-decoration-color: #008080; font-weight: bold\">🚀 Crew: crew</span>\n",
       "└── <span style=\"color: #808000; text-decoration-color: #808000; font-weight: bold\">📋 Task: 07919dd7-7602-490e-8191-3195229525d8</span>\n",
       "    <span style=\"color: #c0c0c0; text-decoration-color: #c0c0c0\">   Status: </span><span style=\"color: #bfbf7f; text-decoration-color: #bfbf7f\">Executing Task...</span>\n",
       "</pre>\n"
      ],
      "text/plain": [
       "\u001b[1;36m🚀 Crew: \u001b[0m\u001b[1;36mcrew\u001b[0m\n",
       "└── \u001b[1;33m📋 Task: 07919dd7-7602-490e-8191-3195229525d8\u001b[0m\n",
       "    \u001b[37m   Status: \u001b[0m\u001b[2;33mExecuting Task...\u001b[0m\n"
      ]
     },
     "metadata": {},
     "output_type": "display_data"
    },
    {
     "data": {
      "text/html": [
       "<pre style=\"white-space:pre;overflow-x:auto;line-height:normal;font-family:Menlo,'DejaVu Sans Mono',consolas,'Courier New',monospace\">\n",
       "</pre>\n"
      ],
      "text/plain": [
       "\n"
      ]
     },
     "metadata": {},
     "output_type": "display_data"
    },
    {
     "data": {
      "text/html": [
       "<pre style=\"white-space:pre;overflow-x:auto;line-height:normal;font-family:Menlo,'DejaVu Sans Mono',consolas,'Courier New',monospace\"><span style=\"color: #008080; text-decoration-color: #008080; font-weight: bold\">🚀 Crew: crew</span>\n",
       "└── <span style=\"color: #808000; text-decoration-color: #808000; font-weight: bold\">📋 Task: 07919dd7-7602-490e-8191-3195229525d8</span>\n",
       "    <span style=\"color: #c0c0c0; text-decoration-color: #c0c0c0\">   Status: </span><span style=\"color: #bfbf7f; text-decoration-color: #bfbf7f\">Executing Task...</span>\n",
       "    └── <span style=\"color: #008000; text-decoration-color: #008000; font-weight: bold\">🤖 Agent: </span><span style=\"color: #008000; text-decoration-color: #008000\">Document Parser Specialist</span>\n",
       "        <span style=\"color: #c0c0c0; text-decoration-color: #c0c0c0\">    Status: </span><span style=\"color: #008000; text-decoration-color: #008000; font-weight: bold\">In Progress</span>\n",
       "</pre>\n"
      ],
      "text/plain": [
       "\u001b[1;36m🚀 Crew: \u001b[0m\u001b[1;36mcrew\u001b[0m\n",
       "└── \u001b[1;33m📋 Task: 07919dd7-7602-490e-8191-3195229525d8\u001b[0m\n",
       "    \u001b[37m   Status: \u001b[0m\u001b[2;33mExecuting Task...\u001b[0m\n",
       "    └── \u001b[1;32m🤖 Agent: \u001b[0m\u001b[32mDocument Parser Specialist\u001b[0m\n",
       "        \u001b[37m    Status: \u001b[0m\u001b[1;32mIn Progress\u001b[0m\n"
      ]
     },
     "metadata": {},
     "output_type": "display_data"
    },
    {
     "data": {
      "text/html": [
       "<pre style=\"white-space:pre;overflow-x:auto;line-height:normal;font-family:Menlo,'DejaVu Sans Mono',consolas,'Courier New',monospace\">\n",
       "</pre>\n"
      ],
      "text/plain": [
       "\n"
      ]
     },
     "metadata": {},
     "output_type": "display_data"
    },
    {
     "name": "stdout",
     "output_type": "stream",
     "text": [
      "\u001b[1m\u001b[95m# Agent:\u001b[00m \u001b[1m\u001b[92mDocument Parser Specialist\u001b[00m\n",
      "\u001b[95m## Task:\u001b[00m \u001b[92m\n",
      "        Analyze the following resume text and extract structured information including:\n",
      "        1. Personal information (name, contact details)\n",
      "        2. Skills (programming languages, frameworks, tools)\n",
      "        3. Work experience (companies, roles, responsibilities, achievements)\n",
      "        4. Education (degrees, institutions, graduation dates)\n",
      "        5. Projects (descriptions, technologies used)\n",
      "        6. ALL public coding profile links (GitHub, LeetCode, Stack Overflow, etc.)\n",
      "        7. ALL certification links, certification names, and credential IDs\n",
      "\n",
      "        IMPORTANT: Search carefully for URLs and usernames that might indicate profiles on:\n",
      "        - GitHub (look for github.com URLs or GitHub username mentions)\n",
      "        - LeetCode (look for leetcode.com URLs or LeetCode username mentions)\n",
      "        - Any certification platforms (Coursera, Udemy, AWS, Microsoft, etc.)\n",
      "\n",
      "        Even if links are not explicitly labeled as profiles, extract any URLs or username mentions\n",
      "        that might lead to coding profiles or certifications. Consider different text formats and\n",
      "        look anywhere in the document, including headers, footers, and contact sections.\n",
      "\n",
      "        Resume Text:\n",
      "        NANDINI KUPPALA\n",
      "+91 7569056212 | knandini7816@gmail.com | LinkedIn | GitHub | LeetCode | GeeksForGeeks | HackerRank\n",
      "EDUCATION\n",
      "Amrita Vishwa Vidyapeetham\n",
      "Coimbatore, Tamil Nadu\n",
      "Bachelor of Engineering in Artificial Intelligence CGPA: 8.02\n",
      "2022 – 2026\n",
      "EXPERIENCE\n",
      "Infosys Springboard Internship 5.O (AI Project Intern)\n",
      "Dececmber 2024 - Present\n",
      "• Led a team of five interns and built an AI system using NLP to automate ticket classification and responses.\n",
      "• Integrated with helpdesk platforms to enhance efficiency and reduce resolution time.\n",
      "Research Experience: Machine Learning, Remote Sensing, Image Processing\n",
      "October 2023 – Present\n",
      "Mentors: Dr. Ramesh Sivanpillai (University of Wyoming), Dr. Sajith Variyar (Amrita School of AI)\n",
      "• Worked on real-time machine learning projects using LANDSAT data to monitor rangeland vegetation.\n",
      "• Contributed to a 30% increase in profitability for Wyoming farmers.\n",
      "Campus Ambassador (E-Cell IIT Bombay)\n",
      "August 2024 – Dececmber 2024\n",
      "• Organized events and competitions reaching over 200 participants, promoting entrepreneurship in college.\n",
      "Security and Software Testing Intern (Baavlibuch)\n",
      "February 2024 – April 2024\n",
      "• Automated testing procedures, reducing manual testing effort by 40% and accelerating test case execution by 25%.\n",
      "• Debugged and fixed critical application bugs, enhancing stability and performance by 30%.\n",
      "• Implemented and managed testing environments in Linux, significantly improving security and data protection.\n",
      "PROJECTS\n",
      "NurtureSync: A Health Care Companion\n",
      "Link\n",
      "• Developed a mobile and web app platform to manage chronic diseases like thyroid and diabetes.\n",
      "• Features include personalized feedback, medical report analysis, health tracking, and a healthcare community.\n",
      "• Tech stack: Web – Streamlit, MongoDB, Firebase, Flask; Mobile – Flutter, Firebase, MongoDB.\n",
      "DeepFake Video Detection\n",
      "GitHub\n",
      "• Improved the model’s accuracy by 15% in detecting DeepFake videos using a pipeline of MTCNN for face detection, ResNet\n",
      "for feature extraction, and LSTM for temporal analysis.\n",
      "• Developed a Chrome extension for DeepFake image detection and working towards real-time video detection\n",
      "SKILLS\n",
      "• Languages and Frameworks: Python, Dart, JavaScript, C, Flutter, Flask, Streamlit.\n",
      "• Tools and Databases: Git, Docker, Selenium, Firebase, MySQL, MongoDB, Linux.\n",
      "• AI and Development: Generative AI, ML, DL, NLP, Computer Vision, Data Structures, Agile, Testing.\n",
      "• Soft Skills: Adaptability, Leadership, Communication, Problem-Solving, Innovation, Entrepreneurship.\n",
      "ACHIEVEMENTS\n",
      "• Finalist at the Health Hackathon by Johns Hopkins University at VIT Bhopal, selected from 232 teams and over 1,300\n",
      "participants for the project NurtureSync.\n",
      "PUBLICATIONS\n",
      "• Published research titled ”Mapping Vegetation Dynamics in Wyoming: A Multi-Temporal Analysis Using Landsat NDVI and\n",
      "Clustering” in the ASPRS International Technical Symposium 2024.\n",
      "• Published research titled ”Preterm Birth Prediction Using GraphSAGE and Electrohysterogram Data” in the IEEE Eleventh\n",
      "International Conference on Biosignals, Images, and Instrumentation (ICBSII).\n",
      "\n",
      "Link: mailto:knandini7816@gmail.com\n",
      "\n",
      "Link: https://www.linkedin.com/in/nandini-kuppala/\n",
      "\n",
      "Link: https://github.com/nandini-kuppala\n",
      "\n",
      "Link: https://leetcode.com/u/Nandini_Queen/\n",
      "\n",
      "Link: https://www.geeksforgeeks.org/user/knandin8fsf/\n",
      "\n",
      "Link: https://www.hackerrank.com/profile/knandini7816\n",
      "\n",
      "Link: https://nurturesynchealth.streamlit.app/\n",
      "\n",
      "Link: https://github.com/nandini-queen-of-my-world/Deepfake-detection\n",
      "\n",
      "Link: https://isprs-archives.copernicus.org/articles/XLVIII-M-5-2024/87/2025/\n",
      "\n",
      "Link: https://isprs-archives.copernicus.org/articles/XLVIII-M-5-2024/87/2025/\n",
      "CERTIFICATIONS\n",
      "• Artificial Intelligence Course Series (118 hr length) : Infosys Springboard\n",
      "• Agile Scrum in Practice : Infosys Springboard\n",
      "• Data Structures and Performance : Coursera\n",
      "• Python Basic, Problem Solving Basic : Hacker Rank\n",
      "\n",
      "Link: https://infyspringboard.onwingspan.com/web/en/app/profile/competency/certificate\n",
      "\n",
      "Link: https://www.linkedin.com/in/nandini-kuppala/\n",
      "\n",
      "Link: https://coursera.org/share/1d4edbf7bd94d9c9409693f3ed34623e\n",
      "\n",
      "Link: https://www.hackerrank.com/certificates/29cd025a29fc\n",
      "\n",
      "\n",
      "        Return the information in a structured JSON format with a dedicated \"profiles\" section\n",
      "        and \"certifications\" section.\n",
      "        \u001b[00m\n"
     ]
    },
    {
     "data": {
      "text/html": [
       "<pre style=\"white-space:pre;overflow-x:auto;line-height:normal;font-family:Menlo,'DejaVu Sans Mono',consolas,'Courier New',monospace\"><span style=\"color: #008080; text-decoration-color: #008080; font-weight: bold\">🚀 Crew: crew</span>\n",
       "└── <span style=\"color: #808000; text-decoration-color: #808000; font-weight: bold\">📋 Task: 07919dd7-7602-490e-8191-3195229525d8</span>\n",
       "    <span style=\"color: #c0c0c0; text-decoration-color: #c0c0c0\">   Status: </span><span style=\"color: #bfbf7f; text-decoration-color: #bfbf7f\">Executing Task...</span>\n",
       "    └── <span style=\"color: #008000; text-decoration-color: #008000; font-weight: bold\">🤖 Agent: </span><span style=\"color: #008000; text-decoration-color: #008000\">Document Parser Specialist</span>\n",
       "        <span style=\"color: #c0c0c0; text-decoration-color: #c0c0c0\">    Status: </span><span style=\"color: #008000; text-decoration-color: #008000; font-weight: bold\">In Progress</span>\n",
       "        └── <span style=\"color: #000080; text-decoration-color: #000080; font-weight: bold\">🧠 </span><span style=\"color: #000080; text-decoration-color: #000080\">Thinking...</span>\n",
       "</pre>\n"
      ],
      "text/plain": [
       "\u001b[1;36m🚀 Crew: \u001b[0m\u001b[1;36mcrew\u001b[0m\n",
       "└── \u001b[1;33m📋 Task: 07919dd7-7602-490e-8191-3195229525d8\u001b[0m\n",
       "    \u001b[37m   Status: \u001b[0m\u001b[2;33mExecuting Task...\u001b[0m\n",
       "    └── \u001b[1;32m🤖 Agent: \u001b[0m\u001b[32mDocument Parser Specialist\u001b[0m\n",
       "        \u001b[37m    Status: \u001b[0m\u001b[1;32mIn Progress\u001b[0m\n",
       "        └── \u001b[1;34m🧠 \u001b[0m\u001b[34mThinking...\u001b[0m\n"
      ]
     },
     "metadata": {},
     "output_type": "display_data"
    },
    {
     "data": {
      "text/html": [
       "<pre style=\"white-space:pre;overflow-x:auto;line-height:normal;font-family:Menlo,'DejaVu Sans Mono',consolas,'Courier New',monospace\">\n",
       "</pre>\n"
      ],
      "text/plain": [
       "\n"
      ]
     },
     "metadata": {},
     "output_type": "display_data"
    },
    {
     "data": {
      "text/html": [
       "<pre style=\"white-space:pre;overflow-x:auto;line-height:normal;font-family:Menlo,'DejaVu Sans Mono',consolas,'Courier New',monospace\"><span style=\"color: #008080; text-decoration-color: #008080; font-weight: bold\">🚀 Crew: crew</span>\n",
       "└── <span style=\"color: #808000; text-decoration-color: #808000; font-weight: bold\">📋 Task: 07919dd7-7602-490e-8191-3195229525d8</span>\n",
       "    <span style=\"color: #c0c0c0; text-decoration-color: #c0c0c0\">   Status: </span><span style=\"color: #bfbf7f; text-decoration-color: #bfbf7f\">Executing Task...</span>\n",
       "    └── <span style=\"color: #008000; text-decoration-color: #008000; font-weight: bold\">🤖 Agent: </span><span style=\"color: #008000; text-decoration-color: #008000\">Document Parser Specialist</span>\n",
       "        <span style=\"color: #c0c0c0; text-decoration-color: #c0c0c0\">    Status: </span><span style=\"color: #008000; text-decoration-color: #008000; font-weight: bold\">In Progress</span>\n",
       "</pre>\n"
      ],
      "text/plain": [
       "\u001b[1;36m🚀 Crew: \u001b[0m\u001b[1;36mcrew\u001b[0m\n",
       "└── \u001b[1;33m📋 Task: 07919dd7-7602-490e-8191-3195229525d8\u001b[0m\n",
       "    \u001b[37m   Status: \u001b[0m\u001b[2;33mExecuting Task...\u001b[0m\n",
       "    └── \u001b[1;32m🤖 Agent: \u001b[0m\u001b[32mDocument Parser Specialist\u001b[0m\n",
       "        \u001b[37m    Status: \u001b[0m\u001b[1;32mIn Progress\u001b[0m\n"
      ]
     },
     "metadata": {},
     "output_type": "display_data"
    },
    {
     "data": {
      "text/html": [
       "<pre style=\"white-space:pre;overflow-x:auto;line-height:normal;font-family:Menlo,'DejaVu Sans Mono',consolas,'Courier New',monospace\">\n",
       "</pre>\n"
      ],
      "text/plain": [
       "\n"
      ]
     },
     "metadata": {},
     "output_type": "display_data"
    },
    {
     "name": "stdout",
     "output_type": "stream",
     "text": [
      "\n",
      "\n",
      "\u001b[1m\u001b[95m# Agent:\u001b[00m \u001b[1m\u001b[92mDocument Parser Specialist\u001b[00m\n",
      "\u001b[95m## Final Answer:\u001b[00m \u001b[92m\n",
      "```json\n",
      "{\n",
      "  \"personal_information\": {\n",
      "    \"name\": \"NANDINI KUPPALA\",\n",
      "    \"contact\": {\n",
      "      \"phone\": \"+91 7569056212\",\n",
      "      \"email\": \"knandini7816@gmail.com\",\n",
      "      \"linkedin\": \"https://www.linkedin.com/in/nandini-kuppala/\",\n",
      "      \"github\": \"https://github.com/nandini-kuppala\"\n",
      "    }\n",
      "  },\n",
      "  \"skills\": {\n",
      "    \"languages\": [\"Python\", \"Dart\", \"JavaScript\", \"C\"],\n",
      "    \"frameworks\": [\"Flutter\", \"Flask\", \"Streamlit\"],\n",
      "    \"tools\": [\"Git\", \"Docker\", \"Selenium\", \"Firebase\", \"MySQL\", \"MongoDB\", \"Linux\"],\n",
      "    \"ai_and_development\": [\"Generative AI\", \"ML\", \"DL\", \"NLP\", \"Computer Vision\", \"Data Structures\", \"Agile\", \"Testing\"]\n",
      "  },\n",
      "  \"work_experience\": [\n",
      "    {\n",
      "      \"title\": \"Infosys Springboard Internship 5.O (AI Project Intern)\",\n",
      "      \"company\": \"Infosys\",\n",
      "      \"dates\": \"December 2024 - Present\",\n",
      "      \"responsibilities\": [\n",
      "        \"Led a team of five interns and built an AI system using NLP to automate ticket classification and responses.\",\n",
      "        \"Integrated with helpdesk platforms to enhance efficiency and reduce resolution time.\"\n",
      "      ]\n",
      "    },\n",
      "    {\n",
      "      \"title\": \"Research Experience\",\n",
      "      \"company\": null,\n",
      "      \"dates\": \"October 2023 – Present\",\n",
      "      \"responsibilities\": [\n",
      "        \"Worked on real-time machine learning projects using LANDSAT data to monitor rangeland vegetation.\",\n",
      "        \"Contributed to a 30% increase in profitability for Wyoming farmers.\"\n",
      "      ],\n",
      "      \"mentors\": [\"Dr. Ramesh Sivanpillai (University of Wyoming)\", \"Dr. Sajith Variyar (Amrita School of AI)\"]\n",
      "    },\n",
      "    {\n",
      "      \"title\": \"Campus Ambassador\",\n",
      "      \"company\": \"E-Cell IIT Bombay\",\n",
      "      \"dates\": \"August 2024 – December 2024\",\n",
      "      \"responsibilities\": [\n",
      "        \"Organized events and competitions reaching over 200 participants, promoting entrepreneurship in college.\"\n",
      "      ]\n",
      "    },\n",
      "    {\n",
      "      \"title\": \"Security and Software Testing Intern\",\n",
      "      \"company\": \"Baavlibuch\",\n",
      "      \"dates\": \"February 2024 – April 2024\",\n",
      "      \"responsibilities\": [\n",
      "        \"Automated testing procedures, reducing manual testing effort by 40% and accelerating test case execution by 25%.\",\n",
      "        \"Debugged and fixed critical application bugs, enhancing stability and performance by 30%.\",\n",
      "        \"Implemented and managed testing environments in Linux, significantly improving security and data protection.\"\n",
      "      ]\n",
      "    }\n",
      "  ],\n",
      "  \"education\": {\n",
      "    \"degree\": \"Bachelor of Engineering in Artificial Intelligence\",\n",
      "    \"institution\": \"Amrita Vishwa Vidyapeetham\",\n",
      "    \"location\": \"Coimbatore, Tamil Nadu\",\n",
      "    \"cgpa\": \"8.02\",\n",
      "    \"dates\": \"2022 – 2026\"\n",
      "  },\n",
      "  \"projects\": [\n",
      "    {\n",
      "      \"name\": \"NurtureSync: A Health Care Companion\",\n",
      "      \"description\": \"Developed a mobile and web app platform to manage chronic diseases like thyroid and diabetes. Features include personalized feedback, medical report analysis, health tracking, and a healthcare community.\",\n",
      "      \"technologies\": [\"Web – Streamlit, MongoDB, Firebase, Flask; Mobile – Flutter, Firebase, MongoDB\"],\n",
      "      \"link\": \"https://nurturesynchealth.streamlit.app/\"\n",
      "    },\n",
      "    {\n",
      "      \"name\": \"DeepFake Video Detection\",\n",
      "      \"description\": \"Improved the model’s accuracy by 15% in detecting DeepFake videos using a pipeline of MTCNN for face detection, ResNet for feature extraction, and LSTM for temporal analysis. Developed a Chrome extension for DeepFake image detection and working towards real-time video detection\",\n",
      "      \"technologies\": [\"MTCNN\", \"ResNet\", \"LSTM\"],\n",
      "      \"link\": \"https://github.com/nandini-queen-of-my-world/Deepfake-detection\"\n",
      "    }\n",
      "  ],\n",
      "  \"achievements\": [\n",
      "    \"Finalist at the Health Hackathon by Johns Hopkins University at VIT Bhopal, selected from 232 teams and over 1,300 participants for the project NurtureSync.\"\n",
      "  ],\n",
      "  \"publications\": [\n",
      "    {\n",
      "      \"title\": \"Mapping Vegetation Dynamics in Wyoming: A Multi-Temporal Analysis Using Landsat NDVI and Clustering\",\n",
      "      \"venue\": \"ASPRS International Technical Symposium 2024\",\n",
      "      \"link\": \"https://isprs-archives.copernicus.org/articles/XLVIII-M-5-2024/87/2025/\"\n",
      "    },\n",
      "    {\n",
      "      \"title\": \"Preterm Birth Prediction Using GraphSAGE and Electrohysterogram Data\",\n",
      "      \"venue\": \"IEEE Eleventh International Conference on Biosignals, Images, and Instrumentation (ICBSII)\",\n",
      "      \"link\": \"https://isprs-archives.copernicus.org/articles/XLVIII-M-5-2024/87/2025/\"\n",
      "    }\n",
      "  ],\n",
      "  \"profiles\": {\n",
      "    \"leetcode\": \"https://leetcode.com/u/Nandini_Queen/\",\n",
      "    \"geeksforgeeks\": \"https://www.geeksforgeeks.org/user/knandin8fsf/\",\n",
      "    \"hackerrank\": \"https://www.hackerrank.com/profile/knandini7816\"\n",
      "  },\n",
      "  \"certifications\": [\n",
      "    {\n",
      "      \"name\": \"Artificial Intelligence Course Series (118 hr length)\",\n",
      "      \"provider\": \"Infosys Springboard\",\n",
      "      \"link\": \"https://infyspringboard.onwingspan.com/web/en/app/profile/competency/certificate\"\n",
      "    },\n",
      "    {\n",
      "      \"name\": \"Agile Scrum in Practice\",\n",
      "      \"provider\": \"Infosys Springboard\",\n",
      "      \"link\": \"https://infyspringboard.onwingspan.com/web/en/app/profile/competency/certificate\"\n",
      "    },\n",
      "    {\n",
      "      \"name\": \"Data Structures and Performance\",\n",
      "      \"provider\": \"Coursera\",\n",
      "      \"link\": \"https://coursera.org/share/1d4edbf7bd94d9c9409693f3ed34623e\"\n",
      "    },\n",
      "    {\n",
      "      \"name\": \"Python Basic, Problem Solving Basic\",\n",
      "      \"provider\": \"Hacker Rank\",\n",
      "      \"link\": \"https://www.hackerrank.com/certificates/29cd025a29fc\"\n",
      "    }\n",
      "  ]\n",
      "}\n",
      "```\u001b[00m\n",
      "\n",
      "\n"
     ]
    },
    {
     "data": {
      "text/html": [
       "<pre style=\"white-space:pre;overflow-x:auto;line-height:normal;font-family:Menlo,'DejaVu Sans Mono',consolas,'Courier New',monospace\"><span style=\"color: #008080; text-decoration-color: #008080; font-weight: bold\">🚀 Crew: crew</span>\n",
       "└── <span style=\"color: #808000; text-decoration-color: #808000; font-weight: bold\">📋 Task: 07919dd7-7602-490e-8191-3195229525d8</span>\n",
       "    <span style=\"color: #c0c0c0; text-decoration-color: #c0c0c0\">   Status: </span><span style=\"color: #bfbf7f; text-decoration-color: #bfbf7f\">Executing Task...</span>\n",
       "    └── <span style=\"color: #008000; text-decoration-color: #008000; font-weight: bold\">🤖 Agent: </span><span style=\"color: #008000; text-decoration-color: #008000\">Document Parser Specialist</span>\n",
       "        <span style=\"color: #c0c0c0; text-decoration-color: #c0c0c0\">    Status: </span><span style=\"color: #008000; text-decoration-color: #008000; font-weight: bold\">✅ Completed</span>\n",
       "</pre>\n"
      ],
      "text/plain": [
       "\u001b[1;36m🚀 Crew: \u001b[0m\u001b[1;36mcrew\u001b[0m\n",
       "└── \u001b[1;33m📋 Task: 07919dd7-7602-490e-8191-3195229525d8\u001b[0m\n",
       "    \u001b[37m   Status: \u001b[0m\u001b[2;33mExecuting Task...\u001b[0m\n",
       "    └── \u001b[1;32m🤖 Agent: \u001b[0m\u001b[32mDocument Parser Specialist\u001b[0m\n",
       "        \u001b[37m    Status: \u001b[0m\u001b[1;32m✅ Completed\u001b[0m\n"
      ]
     },
     "metadata": {},
     "output_type": "display_data"
    },
    {
     "data": {
      "text/html": [
       "<pre style=\"white-space:pre;overflow-x:auto;line-height:normal;font-family:Menlo,'DejaVu Sans Mono',consolas,'Courier New',monospace\">\n",
       "</pre>\n"
      ],
      "text/plain": [
       "\n"
      ]
     },
     "metadata": {},
     "output_type": "display_data"
    },
    {
     "data": {
      "text/html": [
       "<pre style=\"white-space:pre;overflow-x:auto;line-height:normal;font-family:Menlo,'DejaVu Sans Mono',consolas,'Courier New',monospace\"><span style=\"color: #008080; text-decoration-color: #008080; font-weight: bold\">🚀 Crew: crew</span>\n",
       "└── <span style=\"color: #008000; text-decoration-color: #008000; font-weight: bold\">📋 Task: 07919dd7-7602-490e-8191-3195229525d8</span>\n",
       "    <span style=\"color: #c0c0c0; text-decoration-color: #c0c0c0\">   Assigned to: </span><span style=\"color: #008000; text-decoration-color: #008000\">Document Parser Specialist</span>\n",
       "    <span style=\"color: #c0c0c0; text-decoration-color: #c0c0c0\">   Status: </span><span style=\"color: #008000; text-decoration-color: #008000; font-weight: bold\">✅ Completed</span>\n",
       "    └── <span style=\"color: #008000; text-decoration-color: #008000; font-weight: bold\">🤖 Agent: </span><span style=\"color: #008000; text-decoration-color: #008000\">Document Parser Specialist</span>\n",
       "        <span style=\"color: #c0c0c0; text-decoration-color: #c0c0c0\">    Status: </span><span style=\"color: #008000; text-decoration-color: #008000; font-weight: bold\">✅ Completed</span>\n",
       "</pre>\n"
      ],
      "text/plain": [
       "\u001b[1;36m🚀 Crew: \u001b[0m\u001b[1;36mcrew\u001b[0m\n",
       "└── \u001b[1;32m📋 Task: 07919dd7-7602-490e-8191-3195229525d8\u001b[0m\n",
       "    \u001b[37m   Assigned to: \u001b[0m\u001b[32mDocument Parser Specialist\u001b[0m\n",
       "    \u001b[37m   Status: \u001b[0m\u001b[1;32m✅ Completed\u001b[0m\n",
       "    └── \u001b[1;32m🤖 Agent: \u001b[0m\u001b[32mDocument Parser Specialist\u001b[0m\n",
       "        \u001b[37m    Status: \u001b[0m\u001b[1;32m✅ Completed\u001b[0m\n"
      ]
     },
     "metadata": {},
     "output_type": "display_data"
    },
    {
     "data": {
      "text/html": [
       "<pre style=\"white-space:pre;overflow-x:auto;line-height:normal;font-family:Menlo,'DejaVu Sans Mono',consolas,'Courier New',monospace\"><span style=\"color: #008000; text-decoration-color: #008000\">╭──────────────────────────────────────────────── Task Completion ────────────────────────────────────────────────╮</span>\n",
       "<span style=\"color: #008000; text-decoration-color: #008000\">│</span>                                                                                                                 <span style=\"color: #008000; text-decoration-color: #008000\">│</span>\n",
       "<span style=\"color: #008000; text-decoration-color: #008000\">│</span>  <span style=\"color: #008000; text-decoration-color: #008000; font-weight: bold\">Task Completed</span>                                                                                                 <span style=\"color: #008000; text-decoration-color: #008000\">│</span>\n",
       "<span style=\"color: #008000; text-decoration-color: #008000\">│</span>  <span style=\"color: #c0c0c0; text-decoration-color: #c0c0c0\">Name: </span><span style=\"color: #008000; text-decoration-color: #008000\">07919dd7-7602-490e-8191-3195229525d8</span>                                                                     <span style=\"color: #008000; text-decoration-color: #008000\">│</span>\n",
       "<span style=\"color: #008000; text-decoration-color: #008000\">│</span>  <span style=\"color: #c0c0c0; text-decoration-color: #c0c0c0\">Agent: </span><span style=\"color: #008000; text-decoration-color: #008000\">Document Parser Specialist</span>                                                                              <span style=\"color: #008000; text-decoration-color: #008000\">│</span>\n",
       "<span style=\"color: #008000; text-decoration-color: #008000\">│</span>                                                                                                                 <span style=\"color: #008000; text-decoration-color: #008000\">│</span>\n",
       "<span style=\"color: #008000; text-decoration-color: #008000\">│</span>                                                                                                                 <span style=\"color: #008000; text-decoration-color: #008000\">│</span>\n",
       "<span style=\"color: #008000; text-decoration-color: #008000\">╰─────────────────────────────────────────────────────────────────────────────────────────────────────────────────╯</span>\n",
       "</pre>\n"
      ],
      "text/plain": [
       "\u001b[32m╭─\u001b[0m\u001b[32m───────────────────────────────────────────────\u001b[0m\u001b[32m Task Completion \u001b[0m\u001b[32m───────────────────────────────────────────────\u001b[0m\u001b[32m─╮\u001b[0m\n",
       "\u001b[32m│\u001b[0m                                                                                                                 \u001b[32m│\u001b[0m\n",
       "\u001b[32m│\u001b[0m  \u001b[1;32mTask Completed\u001b[0m                                                                                                 \u001b[32m│\u001b[0m\n",
       "\u001b[32m│\u001b[0m  \u001b[37mName: \u001b[0m\u001b[32m07919dd7-7602-490e-8191-3195229525d8\u001b[0m                                                                     \u001b[32m│\u001b[0m\n",
       "\u001b[32m│\u001b[0m  \u001b[37mAgent: \u001b[0m\u001b[32mDocument Parser Specialist\u001b[0m                                                                              \u001b[32m│\u001b[0m\n",
       "\u001b[32m│\u001b[0m                                                                                                                 \u001b[32m│\u001b[0m\n",
       "\u001b[32m│\u001b[0m                                                                                                                 \u001b[32m│\u001b[0m\n",
       "\u001b[32m╰─────────────────────────────────────────────────────────────────────────────────────────────────────────────────╯\u001b[0m\n"
      ]
     },
     "metadata": {},
     "output_type": "display_data"
    },
    {
     "data": {
      "text/html": [
       "<pre style=\"white-space:pre;overflow-x:auto;line-height:normal;font-family:Menlo,'DejaVu Sans Mono',consolas,'Courier New',monospace\">\n",
       "</pre>\n"
      ],
      "text/plain": [
       "\n"
      ]
     },
     "metadata": {},
     "output_type": "display_data"
    },
    {
     "data": {
      "text/html": [
       "<pre style=\"white-space:pre;overflow-x:auto;line-height:normal;font-family:Menlo,'DejaVu Sans Mono',consolas,'Courier New',monospace\"><span style=\"color: #008000; text-decoration-color: #008000\">╭──────────────────────────────────────────────── Crew Completion ────────────────────────────────────────────────╮</span>\n",
       "<span style=\"color: #008000; text-decoration-color: #008000\">│</span>                                                                                                                 <span style=\"color: #008000; text-decoration-color: #008000\">│</span>\n",
       "<span style=\"color: #008000; text-decoration-color: #008000\">│</span>  <span style=\"color: #008000; text-decoration-color: #008000; font-weight: bold\">Crew Execution Completed</span>                                                                                       <span style=\"color: #008000; text-decoration-color: #008000\">│</span>\n",
       "<span style=\"color: #008000; text-decoration-color: #008000\">│</span>  <span style=\"color: #c0c0c0; text-decoration-color: #c0c0c0\">Name: </span><span style=\"color: #008000; text-decoration-color: #008000\">crew</span>                                                                                                     <span style=\"color: #008000; text-decoration-color: #008000\">│</span>\n",
       "<span style=\"color: #008000; text-decoration-color: #008000\">│</span>  <span style=\"color: #c0c0c0; text-decoration-color: #c0c0c0\">ID: </span><span style=\"color: #008000; text-decoration-color: #008000\">a9861f53-02a1-4ddc-91bd-b21c1d7b3bf2</span>                                                                       <span style=\"color: #008000; text-decoration-color: #008000\">│</span>\n",
       "<span style=\"color: #008000; text-decoration-color: #008000\">│</span>                                                                                                                 <span style=\"color: #008000; text-decoration-color: #008000\">│</span>\n",
       "<span style=\"color: #008000; text-decoration-color: #008000\">│</span>                                                                                                                 <span style=\"color: #008000; text-decoration-color: #008000\">│</span>\n",
       "<span style=\"color: #008000; text-decoration-color: #008000\">╰─────────────────────────────────────────────────────────────────────────────────────────────────────────────────╯</span>\n",
       "</pre>\n"
      ],
      "text/plain": [
       "\u001b[32m╭─\u001b[0m\u001b[32m───────────────────────────────────────────────\u001b[0m\u001b[32m Crew Completion \u001b[0m\u001b[32m───────────────────────────────────────────────\u001b[0m\u001b[32m─╮\u001b[0m\n",
       "\u001b[32m│\u001b[0m                                                                                                                 \u001b[32m│\u001b[0m\n",
       "\u001b[32m│\u001b[0m  \u001b[1;32mCrew Execution Completed\u001b[0m                                                                                       \u001b[32m│\u001b[0m\n",
       "\u001b[32m│\u001b[0m  \u001b[37mName: \u001b[0m\u001b[32mcrew\u001b[0m                                                                                                     \u001b[32m│\u001b[0m\n",
       "\u001b[32m│\u001b[0m  \u001b[37mID: \u001b[0m\u001b[32ma9861f53-02a1-4ddc-91bd-b21c1d7b3bf2\u001b[0m                                                                       \u001b[32m│\u001b[0m\n",
       "\u001b[32m│\u001b[0m                                                                                                                 \u001b[32m│\u001b[0m\n",
       "\u001b[32m│\u001b[0m                                                                                                                 \u001b[32m│\u001b[0m\n",
       "\u001b[32m╰─────────────────────────────────────────────────────────────────────────────────────────────────────────────────╯\u001b[0m\n"
      ]
     },
     "metadata": {},
     "output_type": "display_data"
    },
    {
     "data": {
      "text/html": [
       "<pre style=\"white-space:pre;overflow-x:auto;line-height:normal;font-family:Menlo,'DejaVu Sans Mono',consolas,'Courier New',monospace\">\n",
       "</pre>\n"
      ],
      "text/plain": [
       "\n"
      ]
     },
     "metadata": {},
     "output_type": "display_data"
    },
    {
     "name": "stdout",
     "output_type": "stream",
     "text": [
      "\n",
      "Resume parsing complete!\n",
      "\n",
      "Candidate name identified: NANDINI KUPPALA\n",
      "\n",
      "Extracting profile links...\n",
      "Found profile links: {'leetcode': 'https://leetcode.com/u/Nandini_Queen/', 'geeksforgeeks': 'https://www.geeksforgeeks.org/user/knandin8fsf/', 'hackerrank': 'https://www.hackerrank.com/profile/knandini7816'}\n",
      "\n",
      "Scraping coding profiles...\n"
     ]
    },
    {
     "data": {
      "text/html": [
       "<pre style=\"white-space:pre;overflow-x:auto;line-height:normal;font-family:Menlo,'DejaVu Sans Mono',consolas,'Courier New',monospace\"><span style=\"color: #008080; text-decoration-color: #008080\">╭──────────────────────────────────────────── Crew Execution Started ─────────────────────────────────────────────╮</span>\n",
       "<span style=\"color: #008080; text-decoration-color: #008080\">│</span>                                                                                                                 <span style=\"color: #008080; text-decoration-color: #008080\">│</span>\n",
       "<span style=\"color: #008080; text-decoration-color: #008080\">│</span>  <span style=\"color: #008080; text-decoration-color: #008080; font-weight: bold\">Crew Execution Started</span>                                                                                         <span style=\"color: #008080; text-decoration-color: #008080\">│</span>\n",
       "<span style=\"color: #008080; text-decoration-color: #008080\">│</span>  <span style=\"color: #c0c0c0; text-decoration-color: #c0c0c0\">Name: </span><span style=\"color: #008080; text-decoration-color: #008080\">crew</span>                                                                                                     <span style=\"color: #008080; text-decoration-color: #008080\">│</span>\n",
       "<span style=\"color: #008080; text-decoration-color: #008080\">│</span>  <span style=\"color: #c0c0c0; text-decoration-color: #c0c0c0\">ID: </span><span style=\"color: #008080; text-decoration-color: #008080\">32639b02-00de-45c0-a884-b4070d037711</span>                                                                       <span style=\"color: #008080; text-decoration-color: #008080\">│</span>\n",
       "<span style=\"color: #008080; text-decoration-color: #008080\">│</span>                                                                                                                 <span style=\"color: #008080; text-decoration-color: #008080\">│</span>\n",
       "<span style=\"color: #008080; text-decoration-color: #008080\">│</span>                                                                                                                 <span style=\"color: #008080; text-decoration-color: #008080\">│</span>\n",
       "<span style=\"color: #008080; text-decoration-color: #008080\">╰─────────────────────────────────────────────────────────────────────────────────────────────────────────────────╯</span>\n",
       "</pre>\n"
      ],
      "text/plain": [
       "\u001b[36m╭─\u001b[0m\u001b[36m───────────────────────────────────────────\u001b[0m\u001b[36m Crew Execution Started \u001b[0m\u001b[36m────────────────────────────────────────────\u001b[0m\u001b[36m─╮\u001b[0m\n",
       "\u001b[36m│\u001b[0m                                                                                                                 \u001b[36m│\u001b[0m\n",
       "\u001b[36m│\u001b[0m  \u001b[1;36mCrew Execution Started\u001b[0m                                                                                         \u001b[36m│\u001b[0m\n",
       "\u001b[36m│\u001b[0m  \u001b[37mName: \u001b[0m\u001b[36mcrew\u001b[0m                                                                                                     \u001b[36m│\u001b[0m\n",
       "\u001b[36m│\u001b[0m  \u001b[37mID: \u001b[0m\u001b[36m32639b02-00de-45c0-a884-b4070d037711\u001b[0m                                                                       \u001b[36m│\u001b[0m\n",
       "\u001b[36m│\u001b[0m                                                                                                                 \u001b[36m│\u001b[0m\n",
       "\u001b[36m│\u001b[0m                                                                                                                 \u001b[36m│\u001b[0m\n",
       "\u001b[36m╰─────────────────────────────────────────────────────────────────────────────────────────────────────────────────╯\u001b[0m\n"
      ]
     },
     "metadata": {},
     "output_type": "display_data"
    },
    {
     "data": {
      "text/html": [
       "<pre style=\"white-space:pre;overflow-x:auto;line-height:normal;font-family:Menlo,'DejaVu Sans Mono',consolas,'Courier New',monospace\">\n",
       "</pre>\n"
      ],
      "text/plain": [
       "\n"
      ]
     },
     "metadata": {},
     "output_type": "display_data"
    },
    {
     "data": {
      "text/html": [
       "<pre style=\"white-space:pre;overflow-x:auto;line-height:normal;font-family:Menlo,'DejaVu Sans Mono',consolas,'Courier New',monospace\"><span style=\"color: #008080; text-decoration-color: #008080; font-weight: bold\">🚀 Crew: crew</span>\n",
       "└── <span style=\"color: #808000; text-decoration-color: #808000; font-weight: bold\">📋 Task: b7199b89-7af4-442a-84c4-f3c640c8ffac</span>\n",
       "    <span style=\"color: #c0c0c0; text-decoration-color: #c0c0c0\">   Status: </span><span style=\"color: #bfbf7f; text-decoration-color: #bfbf7f\">Executing Task...</span>\n",
       "</pre>\n"
      ],
      "text/plain": [
       "\u001b[1;36m🚀 Crew: \u001b[0m\u001b[1;36mcrew\u001b[0m\n",
       "└── \u001b[1;33m📋 Task: b7199b89-7af4-442a-84c4-f3c640c8ffac\u001b[0m\n",
       "    \u001b[37m   Status: \u001b[0m\u001b[2;33mExecuting Task...\u001b[0m\n"
      ]
     },
     "metadata": {},
     "output_type": "display_data"
    },
    {
     "data": {
      "text/html": [
       "<pre style=\"white-space:pre;overflow-x:auto;line-height:normal;font-family:Menlo,'DejaVu Sans Mono',consolas,'Courier New',monospace\">\n",
       "</pre>\n"
      ],
      "text/plain": [
       "\n"
      ]
     },
     "metadata": {},
     "output_type": "display_data"
    },
    {
     "data": {
      "text/html": [
       "<pre style=\"white-space:pre;overflow-x:auto;line-height:normal;font-family:Menlo,'DejaVu Sans Mono',consolas,'Courier New',monospace\"><span style=\"color: #008080; text-decoration-color: #008080; font-weight: bold\">🚀 Crew: crew</span>\n",
       "└── <span style=\"color: #808000; text-decoration-color: #808000; font-weight: bold\">📋 Task: b7199b89-7af4-442a-84c4-f3c640c8ffac</span>\n",
       "    <span style=\"color: #c0c0c0; text-decoration-color: #c0c0c0\">   Status: </span><span style=\"color: #bfbf7f; text-decoration-color: #bfbf7f\">Executing Task...</span>\n",
       "    └── <span style=\"color: #008000; text-decoration-color: #008000; font-weight: bold\">🤖 Agent: </span><span style=\"color: #008000; text-decoration-color: #008000\">Profile Data Collector</span>\n",
       "        <span style=\"color: #c0c0c0; text-decoration-color: #c0c0c0\">    Status: </span><span style=\"color: #008000; text-decoration-color: #008000; font-weight: bold\">In Progress</span>\n",
       "</pre>\n"
      ],
      "text/plain": [
       "\u001b[1;36m🚀 Crew: \u001b[0m\u001b[1;36mcrew\u001b[0m\n",
       "└── \u001b[1;33m📋 Task: b7199b89-7af4-442a-84c4-f3c640c8ffac\u001b[0m\n",
       "    \u001b[37m   Status: \u001b[0m\u001b[2;33mExecuting Task...\u001b[0m\n",
       "    └── \u001b[1;32m🤖 Agent: \u001b[0m\u001b[32mProfile Data Collector\u001b[0m\n",
       "        \u001b[37m    Status: \u001b[0m\u001b[1;32mIn Progress\u001b[0m\n"
      ]
     },
     "metadata": {},
     "output_type": "display_data"
    },
    {
     "data": {
      "text/html": [
       "<pre style=\"white-space:pre;overflow-x:auto;line-height:normal;font-family:Menlo,'DejaVu Sans Mono',consolas,'Courier New',monospace\">\n",
       "</pre>\n"
      ],
      "text/plain": [
       "\n"
      ]
     },
     "metadata": {},
     "output_type": "display_data"
    },
    {
     "name": "stdout",
     "output_type": "stream",
     "text": [
      "\u001b[1m\u001b[95m# Agent:\u001b[00m \u001b[1m\u001b[92mProfile Data Collector\u001b[00m\n",
      "\u001b[95m## Task:\u001b[00m \u001b[92m\n",
      "        Collect detailed information from the following coding profiles:\n",
      "        {\n",
      "  \"leetcode\": \"https://leetcode.com/u/Nandini_Queen/\",\n",
      "  \"geeksforgeeks\": \"https://www.geeksforgeeks.org/user/knandin8fsf/\",\n",
      "  \"hackerrank\": \"https://www.hackerrank.com/profile/knandini7816\"\n",
      "}\n",
      "\n",
      "        For each profile:\n",
      "        1. Gather comprehensive data about the candidate's activity\n",
      "        2. Identify key technical metrics (languages used, projects, contributions, problem-solving ability)\n",
      "        3. Look for evidence of skills claimed in their resume\n",
      "        4. Analyze code quality, project complexity, and development patterns\n",
      "        5. Determine the candidate's activity level and consistency of contributions\n",
      "        6. Identify collaborative behaviors (such as pull requests, code reviews, etc.)\n",
      "\n",
      "        For GitHub:\n",
      "        - Analyze repository quality beyond just counting them\n",
      "        - Examine commit patterns and contribution history\n",
      "        - Check for meaningful projects vs forks or tutorial code\n",
      "        - Look at code complexity and quality when possible\n",
      "\n",
      "        For LeetCode:\n",
      "        - Assess problem difficulty distribution (easy/medium/hard)\n",
      "        - Identify algorithmic strengths and weaknesses\n",
      "        - Analyze solution quality if available\n",
      "\n",
      "        Return the collected information in a structured JSON format with separate sections for each platform.\n",
      "        \u001b[00m\n"
     ]
    },
    {
     "data": {
      "text/html": [
       "<pre style=\"white-space:pre;overflow-x:auto;line-height:normal;font-family:Menlo,'DejaVu Sans Mono',consolas,'Courier New',monospace\"><span style=\"color: #008080; text-decoration-color: #008080; font-weight: bold\">🚀 Crew: crew</span>\n",
       "└── <span style=\"color: #808000; text-decoration-color: #808000; font-weight: bold\">📋 Task: b7199b89-7af4-442a-84c4-f3c640c8ffac</span>\n",
       "    <span style=\"color: #c0c0c0; text-decoration-color: #c0c0c0\">   Status: </span><span style=\"color: #bfbf7f; text-decoration-color: #bfbf7f\">Executing Task...</span>\n",
       "    └── <span style=\"color: #008000; text-decoration-color: #008000; font-weight: bold\">🤖 Agent: </span><span style=\"color: #008000; text-decoration-color: #008000\">Profile Data Collector</span>\n",
       "        <span style=\"color: #c0c0c0; text-decoration-color: #c0c0c0\">    Status: </span><span style=\"color: #008000; text-decoration-color: #008000; font-weight: bold\">In Progress</span>\n",
       "        └── <span style=\"color: #000080; text-decoration-color: #000080; font-weight: bold\">🧠 </span><span style=\"color: #000080; text-decoration-color: #000080\">Thinking...</span>\n",
       "</pre>\n"
      ],
      "text/plain": [
       "\u001b[1;36m🚀 Crew: \u001b[0m\u001b[1;36mcrew\u001b[0m\n",
       "└── \u001b[1;33m📋 Task: b7199b89-7af4-442a-84c4-f3c640c8ffac\u001b[0m\n",
       "    \u001b[37m   Status: \u001b[0m\u001b[2;33mExecuting Task...\u001b[0m\n",
       "    └── \u001b[1;32m🤖 Agent: \u001b[0m\u001b[32mProfile Data Collector\u001b[0m\n",
       "        \u001b[37m    Status: \u001b[0m\u001b[1;32mIn Progress\u001b[0m\n",
       "        └── \u001b[1;34m🧠 \u001b[0m\u001b[34mThinking...\u001b[0m\n"
      ]
     },
     "metadata": {},
     "output_type": "display_data"
    },
    {
     "data": {
      "text/html": [
       "<pre style=\"white-space:pre;overflow-x:auto;line-height:normal;font-family:Menlo,'DejaVu Sans Mono',consolas,'Courier New',monospace\">\n",
       "</pre>\n"
      ],
      "text/plain": [
       "\n"
      ]
     },
     "metadata": {},
     "output_type": "display_data"
    },
    {
     "data": {
      "text/html": [
       "<pre style=\"white-space:pre;overflow-x:auto;line-height:normal;font-family:Menlo,'DejaVu Sans Mono',consolas,'Courier New',monospace\"><span style=\"color: #008080; text-decoration-color: #008080; font-weight: bold\">🚀 Crew: crew</span>\n",
       "└── <span style=\"color: #808000; text-decoration-color: #808000; font-weight: bold\">📋 Task: b7199b89-7af4-442a-84c4-f3c640c8ffac</span>\n",
       "    <span style=\"color: #c0c0c0; text-decoration-color: #c0c0c0\">   Status: </span><span style=\"color: #bfbf7f; text-decoration-color: #bfbf7f\">Executing Task...</span>\n",
       "    └── <span style=\"color: #008000; text-decoration-color: #008000; font-weight: bold\">🤖 Agent: </span><span style=\"color: #008000; text-decoration-color: #008000\">Profile Data Collector</span>\n",
       "        <span style=\"color: #c0c0c0; text-decoration-color: #c0c0c0\">    Status: </span><span style=\"color: #008000; text-decoration-color: #008000; font-weight: bold\">In Progress</span>\n",
       "</pre>\n"
      ],
      "text/plain": [
       "\u001b[1;36m🚀 Crew: \u001b[0m\u001b[1;36mcrew\u001b[0m\n",
       "└── \u001b[1;33m📋 Task: b7199b89-7af4-442a-84c4-f3c640c8ffac\u001b[0m\n",
       "    \u001b[37m   Status: \u001b[0m\u001b[2;33mExecuting Task...\u001b[0m\n",
       "    └── \u001b[1;32m🤖 Agent: \u001b[0m\u001b[32mProfile Data Collector\u001b[0m\n",
       "        \u001b[37m    Status: \u001b[0m\u001b[1;32mIn Progress\u001b[0m\n"
      ]
     },
     "metadata": {},
     "output_type": "display_data"
    },
    {
     "data": {
      "text/html": [
       "<pre style=\"white-space:pre;overflow-x:auto;line-height:normal;font-family:Menlo,'DejaVu Sans Mono',consolas,'Courier New',monospace\">\n",
       "</pre>\n"
      ],
      "text/plain": [
       "\n"
      ]
     },
     "metadata": {},
     "output_type": "display_data"
    },
    {
     "data": {
      "text/html": [
       "<pre style=\"white-space:pre;overflow-x:auto;line-height:normal;font-family:Menlo,'DejaVu Sans Mono',consolas,'Courier New',monospace\"><span style=\"color: #008080; text-decoration-color: #008080; font-weight: bold\">🚀 Crew: crew</span>\n",
       "└── <span style=\"color: #808000; text-decoration-color: #808000; font-weight: bold\">📋 Task: b7199b89-7af4-442a-84c4-f3c640c8ffac</span>\n",
       "    <span style=\"color: #c0c0c0; text-decoration-color: #c0c0c0\">   Status: </span><span style=\"color: #bfbf7f; text-decoration-color: #bfbf7f\">Executing Task...</span>\n",
       "    └── <span style=\"color: #008000; text-decoration-color: #008000; font-weight: bold\">🤖 Agent: </span><span style=\"color: #008000; text-decoration-color: #008000\">Profile Data Collector</span>\n",
       "        <span style=\"color: #c0c0c0; text-decoration-color: #c0c0c0\">    Status: </span><span style=\"color: #008000; text-decoration-color: #008000; font-weight: bold\">In Progress</span>\n",
       "        └── <span style=\"color: #808000; text-decoration-color: #808000; font-weight: bold\">🔧 </span><span style=\"color: #808000; text-decoration-color: #808000\">Using Search Tool (1)</span>\n",
       "</pre>\n"
      ],
      "text/plain": [
       "\u001b[1;36m🚀 Crew: \u001b[0m\u001b[1;36mcrew\u001b[0m\n",
       "└── \u001b[1;33m📋 Task: b7199b89-7af4-442a-84c4-f3c640c8ffac\u001b[0m\n",
       "    \u001b[37m   Status: \u001b[0m\u001b[2;33mExecuting Task...\u001b[0m\n",
       "    └── \u001b[1;32m🤖 Agent: \u001b[0m\u001b[32mProfile Data Collector\u001b[0m\n",
       "        \u001b[37m    Status: \u001b[0m\u001b[1;32mIn Progress\u001b[0m\n",
       "        └── \u001b[1;33m🔧 \u001b[0m\u001b[33mUsing Search Tool (1)\u001b[0m\n"
      ]
     },
     "metadata": {},
     "output_type": "display_data"
    },
    {
     "data": {
      "text/html": [
       "<pre style=\"white-space:pre;overflow-x:auto;line-height:normal;font-family:Menlo,'DejaVu Sans Mono',consolas,'Courier New',monospace\">\n",
       "</pre>\n"
      ],
      "text/plain": [
       "\n"
      ]
     },
     "metadata": {},
     "output_type": "display_data"
    },
    {
     "data": {
      "text/html": [
       "<pre style=\"white-space:pre;overflow-x:auto;line-height:normal;font-family:Menlo,'DejaVu Sans Mono',consolas,'Courier New',monospace\"><span style=\"color: #008080; text-decoration-color: #008080; font-weight: bold\">🚀 Crew: crew</span>\n",
       "└── <span style=\"color: #808000; text-decoration-color: #808000; font-weight: bold\">📋 Task: b7199b89-7af4-442a-84c4-f3c640c8ffac</span>\n",
       "    <span style=\"color: #c0c0c0; text-decoration-color: #c0c0c0\">   Status: </span><span style=\"color: #bfbf7f; text-decoration-color: #bfbf7f\">Executing Task...</span>\n",
       "    └── <span style=\"color: #008000; text-decoration-color: #008000; font-weight: bold\">🤖 Agent: </span><span style=\"color: #008000; text-decoration-color: #008000\">Profile Data Collector</span>\n",
       "        <span style=\"color: #c0c0c0; text-decoration-color: #c0c0c0\">    Status: </span><span style=\"color: #008000; text-decoration-color: #008000; font-weight: bold\">In Progress</span>\n",
       "        └── <span style=\"color: #008000; text-decoration-color: #008000; font-weight: bold\">🔧 </span><span style=\"color: #008000; text-decoration-color: #008000\">Used Search Tool (1)</span>\n",
       "</pre>\n"
      ],
      "text/plain": [
       "\u001b[1;36m🚀 Crew: \u001b[0m\u001b[1;36mcrew\u001b[0m\n",
       "└── \u001b[1;33m📋 Task: b7199b89-7af4-442a-84c4-f3c640c8ffac\u001b[0m\n",
       "    \u001b[37m   Status: \u001b[0m\u001b[2;33mExecuting Task...\u001b[0m\n",
       "    └── \u001b[1;32m🤖 Agent: \u001b[0m\u001b[32mProfile Data Collector\u001b[0m\n",
       "        \u001b[37m    Status: \u001b[0m\u001b[1;32mIn Progress\u001b[0m\n",
       "        └── \u001b[1;32m🔧 \u001b[0m\u001b[32mUsed Search Tool (1)\u001b[0m\n"
      ]
     },
     "metadata": {},
     "output_type": "display_data"
    },
    {
     "data": {
      "text/html": [
       "<pre style=\"white-space:pre;overflow-x:auto;line-height:normal;font-family:Menlo,'DejaVu Sans Mono',consolas,'Courier New',monospace\">\n",
       "</pre>\n"
      ],
      "text/plain": [
       "\n"
      ]
     },
     "metadata": {},
     "output_type": "display_data"
    },
    {
     "name": "stdout",
     "output_type": "stream",
     "text": [
      "\n",
      "\n",
      "\u001b[1m\u001b[95m# Agent:\u001b[00m \u001b[1m\u001b[92mProfile Data Collector\u001b[00m\n",
      "\u001b[95m## Using tool:\u001b[00m \u001b[92mSearch Tool\u001b[00m\n",
      "\u001b[95m## Tool Input:\u001b[00m \u001b[92m\n",
      "\"{\\\"query\\\": \\\"extract usernames from urls https://leetcode.com/u/Nandini_Queen/ https://www.geeksforgeeks.org/user/knandin8fsf/ https://www.hackerrank.com/profile/knandini7816\\\"}\"\u001b[00m\n",
      "\u001b[95m## Tool Output:\u001b[00m \u001b[92m\n",
      "{\"searchParameters\":{\"q\":\"extract usernames from urls https://leetcode.com/u/Nandini_Queen/ https://www.geeksforgeeks.org/user/knandin8fsf/ https://www.hackerrank.com/profile/knandini7816\",\"type\":\"search\",\"engine\":\"google\"},\"organic\":[],\"credits\":1}\u001b[00m\n"
     ]
    },
    {
     "data": {
      "text/html": [
       "<pre style=\"white-space:pre;overflow-x:auto;line-height:normal;font-family:Menlo,'DejaVu Sans Mono',consolas,'Courier New',monospace\"><span style=\"color: #008080; text-decoration-color: #008080; font-weight: bold\">🚀 Crew: crew</span>\n",
       "└── <span style=\"color: #808000; text-decoration-color: #808000; font-weight: bold\">📋 Task: b7199b89-7af4-442a-84c4-f3c640c8ffac</span>\n",
       "    <span style=\"color: #c0c0c0; text-decoration-color: #c0c0c0\">   Status: </span><span style=\"color: #bfbf7f; text-decoration-color: #bfbf7f\">Executing Task...</span>\n",
       "    └── <span style=\"color: #008000; text-decoration-color: #008000; font-weight: bold\">🤖 Agent: </span><span style=\"color: #008000; text-decoration-color: #008000\">Profile Data Collector</span>\n",
       "        <span style=\"color: #c0c0c0; text-decoration-color: #c0c0c0\">    Status: </span><span style=\"color: #008000; text-decoration-color: #008000; font-weight: bold\">In Progress</span>\n",
       "        ├── <span style=\"color: #008000; text-decoration-color: #008000; font-weight: bold\">🔧 </span><span style=\"color: #008000; text-decoration-color: #008000\">Used Search Tool (1)</span>\n",
       "        └── <span style=\"color: #000080; text-decoration-color: #000080; font-weight: bold\">🧠 </span><span style=\"color: #000080; text-decoration-color: #000080\">Thinking...</span>\n",
       "</pre>\n"
      ],
      "text/plain": [
       "\u001b[1;36m🚀 Crew: \u001b[0m\u001b[1;36mcrew\u001b[0m\n",
       "└── \u001b[1;33m📋 Task: b7199b89-7af4-442a-84c4-f3c640c8ffac\u001b[0m\n",
       "    \u001b[37m   Status: \u001b[0m\u001b[2;33mExecuting Task...\u001b[0m\n",
       "    └── \u001b[1;32m🤖 Agent: \u001b[0m\u001b[32mProfile Data Collector\u001b[0m\n",
       "        \u001b[37m    Status: \u001b[0m\u001b[1;32mIn Progress\u001b[0m\n",
       "        ├── \u001b[1;32m🔧 \u001b[0m\u001b[32mUsed Search Tool (1)\u001b[0m\n",
       "        └── \u001b[1;34m🧠 \u001b[0m\u001b[34mThinking...\u001b[0m\n"
      ]
     },
     "metadata": {},
     "output_type": "display_data"
    },
    {
     "data": {
      "text/html": [
       "<pre style=\"white-space:pre;overflow-x:auto;line-height:normal;font-family:Menlo,'DejaVu Sans Mono',consolas,'Courier New',monospace\">\n",
       "</pre>\n"
      ],
      "text/plain": [
       "\n"
      ]
     },
     "metadata": {},
     "output_type": "display_data"
    },
    {
     "data": {
      "text/html": [
       "<pre style=\"white-space:pre;overflow-x:auto;line-height:normal;font-family:Menlo,'DejaVu Sans Mono',consolas,'Courier New',monospace\"><span style=\"color: #008080; text-decoration-color: #008080; font-weight: bold\">🚀 Crew: crew</span>\n",
       "└── <span style=\"color: #808000; text-decoration-color: #808000; font-weight: bold\">📋 Task: b7199b89-7af4-442a-84c4-f3c640c8ffac</span>\n",
       "    <span style=\"color: #c0c0c0; text-decoration-color: #c0c0c0\">   Status: </span><span style=\"color: #bfbf7f; text-decoration-color: #bfbf7f\">Executing Task...</span>\n",
       "    └── <span style=\"color: #008000; text-decoration-color: #008000; font-weight: bold\">🤖 Agent: </span><span style=\"color: #008000; text-decoration-color: #008000\">Profile Data Collector</span>\n",
       "        <span style=\"color: #c0c0c0; text-decoration-color: #c0c0c0\">    Status: </span><span style=\"color: #008000; text-decoration-color: #008000; font-weight: bold\">In Progress</span>\n",
       "        └── <span style=\"color: #008000; text-decoration-color: #008000; font-weight: bold\">🔧 </span><span style=\"color: #008000; text-decoration-color: #008000\">Used Search Tool (1)</span>\n",
       "</pre>\n"
      ],
      "text/plain": [
       "\u001b[1;36m🚀 Crew: \u001b[0m\u001b[1;36mcrew\u001b[0m\n",
       "└── \u001b[1;33m📋 Task: b7199b89-7af4-442a-84c4-f3c640c8ffac\u001b[0m\n",
       "    \u001b[37m   Status: \u001b[0m\u001b[2;33mExecuting Task...\u001b[0m\n",
       "    └── \u001b[1;32m🤖 Agent: \u001b[0m\u001b[32mProfile Data Collector\u001b[0m\n",
       "        \u001b[37m    Status: \u001b[0m\u001b[1;32mIn Progress\u001b[0m\n",
       "        └── \u001b[1;32m🔧 \u001b[0m\u001b[32mUsed Search Tool (1)\u001b[0m\n"
      ]
     },
     "metadata": {},
     "output_type": "display_data"
    },
    {
     "data": {
      "text/html": [
       "<pre style=\"white-space:pre;overflow-x:auto;line-height:normal;font-family:Menlo,'DejaVu Sans Mono',consolas,'Courier New',monospace\">\n",
       "</pre>\n"
      ],
      "text/plain": [
       "\n"
      ]
     },
     "metadata": {},
     "output_type": "display_data"
    },
    {
     "data": {
      "text/html": [
       "<pre style=\"white-space:pre;overflow-x:auto;line-height:normal;font-family:Menlo,'DejaVu Sans Mono',consolas,'Courier New',monospace\"><span style=\"color: #008080; text-decoration-color: #008080; font-weight: bold\">🚀 Crew: crew</span>\n",
       "└── <span style=\"color: #808000; text-decoration-color: #808000; font-weight: bold\">📋 Task: b7199b89-7af4-442a-84c4-f3c640c8ffac</span>\n",
       "    <span style=\"color: #c0c0c0; text-decoration-color: #c0c0c0\">   Status: </span><span style=\"color: #bfbf7f; text-decoration-color: #bfbf7f\">Executing Task...</span>\n",
       "    └── <span style=\"color: #008000; text-decoration-color: #008000; font-weight: bold\">🤖 Agent: </span><span style=\"color: #008000; text-decoration-color: #008000\">Profile Data Collector</span>\n",
       "        <span style=\"color: #c0c0c0; text-decoration-color: #c0c0c0\">    Status: </span><span style=\"color: #008000; text-decoration-color: #008000; font-weight: bold\">In Progress</span>\n",
       "        ├── <span style=\"color: #008000; text-decoration-color: #008000; font-weight: bold\">🔧 </span><span style=\"color: #008000; text-decoration-color: #008000\">Used Search Tool (1)</span>\n",
       "        └── <span style=\"color: #808000; text-decoration-color: #808000; font-weight: bold\">🔧 </span><span style=\"color: #808000; text-decoration-color: #808000\">Using LeetCode Profile Scraper (1)</span>\n",
       "</pre>\n"
      ],
      "text/plain": [
       "\u001b[1;36m🚀 Crew: \u001b[0m\u001b[1;36mcrew\u001b[0m\n",
       "└── \u001b[1;33m📋 Task: b7199b89-7af4-442a-84c4-f3c640c8ffac\u001b[0m\n",
       "    \u001b[37m   Status: \u001b[0m\u001b[2;33mExecuting Task...\u001b[0m\n",
       "    └── \u001b[1;32m🤖 Agent: \u001b[0m\u001b[32mProfile Data Collector\u001b[0m\n",
       "        \u001b[37m    Status: \u001b[0m\u001b[1;32mIn Progress\u001b[0m\n",
       "        ├── \u001b[1;32m🔧 \u001b[0m\u001b[32mUsed Search Tool (1)\u001b[0m\n",
       "        └── \u001b[1;33m🔧 \u001b[0m\u001b[33mUsing LeetCode Profile Scraper (1)\u001b[0m\n"
      ]
     },
     "metadata": {},
     "output_type": "display_data"
    },
    {
     "data": {
      "text/html": [
       "<pre style=\"white-space:pre;overflow-x:auto;line-height:normal;font-family:Menlo,'DejaVu Sans Mono',consolas,'Courier New',monospace\">\n",
       "</pre>\n"
      ],
      "text/plain": [
       "\n"
      ]
     },
     "metadata": {},
     "output_type": "display_data"
    },
    {
     "data": {
      "text/html": [
       "<pre style=\"white-space:pre;overflow-x:auto;line-height:normal;font-family:Menlo,'DejaVu Sans Mono',consolas,'Courier New',monospace\"><span style=\"color: #008080; text-decoration-color: #008080; font-weight: bold\">🚀 Crew: crew</span>\n",
       "└── <span style=\"color: #808000; text-decoration-color: #808000; font-weight: bold\">📋 Task: b7199b89-7af4-442a-84c4-f3c640c8ffac</span>\n",
       "    <span style=\"color: #c0c0c0; text-decoration-color: #c0c0c0\">   Status: </span><span style=\"color: #bfbf7f; text-decoration-color: #bfbf7f\">Executing Task...</span>\n",
       "    └── <span style=\"color: #008000; text-decoration-color: #008000; font-weight: bold\">🤖 Agent: </span><span style=\"color: #008000; text-decoration-color: #008000\">Profile Data Collector</span>\n",
       "        <span style=\"color: #c0c0c0; text-decoration-color: #c0c0c0\">    Status: </span><span style=\"color: #008000; text-decoration-color: #008000; font-weight: bold\">In Progress</span>\n",
       "        ├── <span style=\"color: #008000; text-decoration-color: #008000; font-weight: bold\">🔧 </span><span style=\"color: #008000; text-decoration-color: #008000\">Used Search Tool (1)</span>\n",
       "        └── <span style=\"color: #008000; text-decoration-color: #008000; font-weight: bold\">🔧 </span><span style=\"color: #008000; text-decoration-color: #008000\">Used LeetCode Profile Scraper (1)</span>\n",
       "</pre>\n"
      ],
      "text/plain": [
       "\u001b[1;36m🚀 Crew: \u001b[0m\u001b[1;36mcrew\u001b[0m\n",
       "└── \u001b[1;33m📋 Task: b7199b89-7af4-442a-84c4-f3c640c8ffac\u001b[0m\n",
       "    \u001b[37m   Status: \u001b[0m\u001b[2;33mExecuting Task...\u001b[0m\n",
       "    └── \u001b[1;32m🤖 Agent: \u001b[0m\u001b[32mProfile Data Collector\u001b[0m\n",
       "        \u001b[37m    Status: \u001b[0m\u001b[1;32mIn Progress\u001b[0m\n",
       "        ├── \u001b[1;32m🔧 \u001b[0m\u001b[32mUsed Search Tool (1)\u001b[0m\n",
       "        └── \u001b[1;32m🔧 \u001b[0m\u001b[32mUsed LeetCode Profile Scraper (1)\u001b[0m\n"
      ]
     },
     "metadata": {},
     "output_type": "display_data"
    },
    {
     "data": {
      "text/html": [
       "<pre style=\"white-space:pre;overflow-x:auto;line-height:normal;font-family:Menlo,'DejaVu Sans Mono',consolas,'Courier New',monospace\">\n",
       "</pre>\n"
      ],
      "text/plain": [
       "\n"
      ]
     },
     "metadata": {},
     "output_type": "display_data"
    },
    {
     "name": "stdout",
     "output_type": "stream",
     "text": [
      "\n",
      "\n",
      "\u001b[1m\u001b[95m# Agent:\u001b[00m \u001b[1m\u001b[92mProfile Data Collector\u001b[00m\n",
      "\u001b[95m## Using tool:\u001b[00m \u001b[92mLeetCode Profile Scraper\u001b[00m\n",
      "\u001b[95m## Tool Input:\u001b[00m \u001b[92m\n",
      "\"{\\\"leetcode_username\\\": \\\"Nandini_Queen\\\"}\"\u001b[00m\n",
      "\u001b[95m## Tool Output:\u001b[00m \u001b[92m\n",
      "{\n",
      "  \"username\": \"Nandini_Queen\",\n",
      "  \"total_problems_solved\": 272,\n",
      "  \"problems_by_difficulty\": {\n",
      "    \"All\": 136,\n",
      "    \"Easy\": 58,\n",
      "    \"Medium\": 68,\n",
      "    \"Hard\": 10\n",
      "  },\n",
      "  \"ranking\": 883997,\n",
      "  \"reputation\": 0,\n",
      "  \"badges\": [\n",
      "    \"Study Plan V2 Award\"\n",
      "  ]\n",
      "}\u001b[00m\n"
     ]
    },
    {
     "data": {
      "text/html": [
       "<pre style=\"white-space:pre;overflow-x:auto;line-height:normal;font-family:Menlo,'DejaVu Sans Mono',consolas,'Courier New',monospace\"><span style=\"color: #008080; text-decoration-color: #008080; font-weight: bold\">🚀 Crew: crew</span>\n",
       "└── <span style=\"color: #808000; text-decoration-color: #808000; font-weight: bold\">📋 Task: b7199b89-7af4-442a-84c4-f3c640c8ffac</span>\n",
       "    <span style=\"color: #c0c0c0; text-decoration-color: #c0c0c0\">   Status: </span><span style=\"color: #bfbf7f; text-decoration-color: #bfbf7f\">Executing Task...</span>\n",
       "    └── <span style=\"color: #008000; text-decoration-color: #008000; font-weight: bold\">🤖 Agent: </span><span style=\"color: #008000; text-decoration-color: #008000\">Profile Data Collector</span>\n",
       "        <span style=\"color: #c0c0c0; text-decoration-color: #c0c0c0\">    Status: </span><span style=\"color: #008000; text-decoration-color: #008000; font-weight: bold\">In Progress</span>\n",
       "        ├── <span style=\"color: #008000; text-decoration-color: #008000; font-weight: bold\">🔧 </span><span style=\"color: #008000; text-decoration-color: #008000\">Used Search Tool (1)</span>\n",
       "        ├── <span style=\"color: #008000; text-decoration-color: #008000; font-weight: bold\">🔧 </span><span style=\"color: #008000; text-decoration-color: #008000\">Used LeetCode Profile Scraper (1)</span>\n",
       "        └── <span style=\"color: #000080; text-decoration-color: #000080; font-weight: bold\">🧠 </span><span style=\"color: #000080; text-decoration-color: #000080\">Thinking...</span>\n",
       "</pre>\n"
      ],
      "text/plain": [
       "\u001b[1;36m🚀 Crew: \u001b[0m\u001b[1;36mcrew\u001b[0m\n",
       "└── \u001b[1;33m📋 Task: b7199b89-7af4-442a-84c4-f3c640c8ffac\u001b[0m\n",
       "    \u001b[37m   Status: \u001b[0m\u001b[2;33mExecuting Task...\u001b[0m\n",
       "    └── \u001b[1;32m🤖 Agent: \u001b[0m\u001b[32mProfile Data Collector\u001b[0m\n",
       "        \u001b[37m    Status: \u001b[0m\u001b[1;32mIn Progress\u001b[0m\n",
       "        ├── \u001b[1;32m🔧 \u001b[0m\u001b[32mUsed Search Tool (1)\u001b[0m\n",
       "        ├── \u001b[1;32m🔧 \u001b[0m\u001b[32mUsed LeetCode Profile Scraper (1)\u001b[0m\n",
       "        └── \u001b[1;34m🧠 \u001b[0m\u001b[34mThinking...\u001b[0m\n"
      ]
     },
     "metadata": {},
     "output_type": "display_data"
    },
    {
     "data": {
      "text/html": [
       "<pre style=\"white-space:pre;overflow-x:auto;line-height:normal;font-family:Menlo,'DejaVu Sans Mono',consolas,'Courier New',monospace\">\n",
       "</pre>\n"
      ],
      "text/plain": [
       "\n"
      ]
     },
     "metadata": {},
     "output_type": "display_data"
    },
    {
     "data": {
      "text/html": [
       "<pre style=\"white-space:pre;overflow-x:auto;line-height:normal;font-family:Menlo,'DejaVu Sans Mono',consolas,'Courier New',monospace\"><span style=\"color: #008080; text-decoration-color: #008080; font-weight: bold\">🚀 Crew: crew</span>\n",
       "└── <span style=\"color: #808000; text-decoration-color: #808000; font-weight: bold\">📋 Task: b7199b89-7af4-442a-84c4-f3c640c8ffac</span>\n",
       "    <span style=\"color: #c0c0c0; text-decoration-color: #c0c0c0\">   Status: </span><span style=\"color: #bfbf7f; text-decoration-color: #bfbf7f\">Executing Task...</span>\n",
       "    └── <span style=\"color: #008000; text-decoration-color: #008000; font-weight: bold\">🤖 Agent: </span><span style=\"color: #008000; text-decoration-color: #008000\">Profile Data Collector</span>\n",
       "        <span style=\"color: #c0c0c0; text-decoration-color: #c0c0c0\">    Status: </span><span style=\"color: #008000; text-decoration-color: #008000; font-weight: bold\">In Progress</span>\n",
       "        ├── <span style=\"color: #008000; text-decoration-color: #008000; font-weight: bold\">🔧 </span><span style=\"color: #008000; text-decoration-color: #008000\">Used Search Tool (1)</span>\n",
       "        └── <span style=\"color: #008000; text-decoration-color: #008000; font-weight: bold\">🔧 </span><span style=\"color: #008000; text-decoration-color: #008000\">Used LeetCode Profile Scraper (1)</span>\n",
       "</pre>\n"
      ],
      "text/plain": [
       "\u001b[1;36m🚀 Crew: \u001b[0m\u001b[1;36mcrew\u001b[0m\n",
       "└── \u001b[1;33m📋 Task: b7199b89-7af4-442a-84c4-f3c640c8ffac\u001b[0m\n",
       "    \u001b[37m   Status: \u001b[0m\u001b[2;33mExecuting Task...\u001b[0m\n",
       "    └── \u001b[1;32m🤖 Agent: \u001b[0m\u001b[32mProfile Data Collector\u001b[0m\n",
       "        \u001b[37m    Status: \u001b[0m\u001b[1;32mIn Progress\u001b[0m\n",
       "        ├── \u001b[1;32m🔧 \u001b[0m\u001b[32mUsed Search Tool (1)\u001b[0m\n",
       "        └── \u001b[1;32m🔧 \u001b[0m\u001b[32mUsed LeetCode Profile Scraper (1)\u001b[0m\n"
      ]
     },
     "metadata": {},
     "output_type": "display_data"
    },
    {
     "data": {
      "text/html": [
       "<pre style=\"white-space:pre;overflow-x:auto;line-height:normal;font-family:Menlo,'DejaVu Sans Mono',consolas,'Courier New',monospace\">\n",
       "</pre>\n"
      ],
      "text/plain": [
       "\n"
      ]
     },
     "metadata": {},
     "output_type": "display_data"
    },
    {
     "data": {
      "text/html": [
       "<pre style=\"white-space:pre;overflow-x:auto;line-height:normal;font-family:Menlo,'DejaVu Sans Mono',consolas,'Courier New',monospace\"><span style=\"color: #008080; text-decoration-color: #008080; font-weight: bold\">🚀 Crew: crew</span>\n",
       "└── <span style=\"color: #808000; text-decoration-color: #808000; font-weight: bold\">📋 Task: b7199b89-7af4-442a-84c4-f3c640c8ffac</span>\n",
       "    <span style=\"color: #c0c0c0; text-decoration-color: #c0c0c0\">   Status: </span><span style=\"color: #bfbf7f; text-decoration-color: #bfbf7f\">Executing Task...</span>\n",
       "    └── <span style=\"color: #008000; text-decoration-color: #008000; font-weight: bold\">🤖 Agent: </span><span style=\"color: #008000; text-decoration-color: #008000\">Profile Data Collector</span>\n",
       "        <span style=\"color: #c0c0c0; text-decoration-color: #c0c0c0\">    Status: </span><span style=\"color: #008000; text-decoration-color: #008000; font-weight: bold\">In Progress</span>\n",
       "        ├── <span style=\"color: #808000; text-decoration-color: #808000; font-weight: bold\">🔧 </span><span style=\"color: #808000; text-decoration-color: #808000\">Using Search Tool (2)</span>\n",
       "        └── <span style=\"color: #008000; text-decoration-color: #008000; font-weight: bold\">🔧 </span><span style=\"color: #008000; text-decoration-color: #008000\">Used LeetCode Profile Scraper (1)</span>\n",
       "</pre>\n"
      ],
      "text/plain": [
       "\u001b[1;36m🚀 Crew: \u001b[0m\u001b[1;36mcrew\u001b[0m\n",
       "└── \u001b[1;33m📋 Task: b7199b89-7af4-442a-84c4-f3c640c8ffac\u001b[0m\n",
       "    \u001b[37m   Status: \u001b[0m\u001b[2;33mExecuting Task...\u001b[0m\n",
       "    └── \u001b[1;32m🤖 Agent: \u001b[0m\u001b[32mProfile Data Collector\u001b[0m\n",
       "        \u001b[37m    Status: \u001b[0m\u001b[1;32mIn Progress\u001b[0m\n",
       "        ├── \u001b[1;33m🔧 \u001b[0m\u001b[33mUsing Search Tool (2)\u001b[0m\n",
       "        └── \u001b[1;32m🔧 \u001b[0m\u001b[32mUsed LeetCode Profile Scraper (1)\u001b[0m\n"
      ]
     },
     "metadata": {},
     "output_type": "display_data"
    },
    {
     "data": {
      "text/html": [
       "<pre style=\"white-space:pre;overflow-x:auto;line-height:normal;font-family:Menlo,'DejaVu Sans Mono',consolas,'Courier New',monospace\">\n",
       "</pre>\n"
      ],
      "text/plain": [
       "\n"
      ]
     },
     "metadata": {},
     "output_type": "display_data"
    },
    {
     "data": {
      "text/html": [
       "<pre style=\"white-space:pre;overflow-x:auto;line-height:normal;font-family:Menlo,'DejaVu Sans Mono',consolas,'Courier New',monospace\"><span style=\"color: #008080; text-decoration-color: #008080; font-weight: bold\">🚀 Crew: crew</span>\n",
       "└── <span style=\"color: #808000; text-decoration-color: #808000; font-weight: bold\">📋 Task: b7199b89-7af4-442a-84c4-f3c640c8ffac</span>\n",
       "    <span style=\"color: #c0c0c0; text-decoration-color: #c0c0c0\">   Status: </span><span style=\"color: #bfbf7f; text-decoration-color: #bfbf7f\">Executing Task...</span>\n",
       "    └── <span style=\"color: #008000; text-decoration-color: #008000; font-weight: bold\">🤖 Agent: </span><span style=\"color: #008000; text-decoration-color: #008000\">Profile Data Collector</span>\n",
       "        <span style=\"color: #c0c0c0; text-decoration-color: #c0c0c0\">    Status: </span><span style=\"color: #008000; text-decoration-color: #008000; font-weight: bold\">In Progress</span>\n",
       "        ├── <span style=\"color: #008000; text-decoration-color: #008000; font-weight: bold\">🔧 </span><span style=\"color: #008000; text-decoration-color: #008000\">Used Search Tool (2)</span>\n",
       "        └── <span style=\"color: #008000; text-decoration-color: #008000; font-weight: bold\">🔧 </span><span style=\"color: #008000; text-decoration-color: #008000\">Used LeetCode Profile Scraper (1)</span>\n",
       "</pre>\n"
      ],
      "text/plain": [
       "\u001b[1;36m🚀 Crew: \u001b[0m\u001b[1;36mcrew\u001b[0m\n",
       "└── \u001b[1;33m📋 Task: b7199b89-7af4-442a-84c4-f3c640c8ffac\u001b[0m\n",
       "    \u001b[37m   Status: \u001b[0m\u001b[2;33mExecuting Task...\u001b[0m\n",
       "    └── \u001b[1;32m🤖 Agent: \u001b[0m\u001b[32mProfile Data Collector\u001b[0m\n",
       "        \u001b[37m    Status: \u001b[0m\u001b[1;32mIn Progress\u001b[0m\n",
       "        ├── \u001b[1;32m🔧 \u001b[0m\u001b[32mUsed Search Tool (2)\u001b[0m\n",
       "        └── \u001b[1;32m🔧 \u001b[0m\u001b[32mUsed LeetCode Profile Scraper (1)\u001b[0m\n"
      ]
     },
     "metadata": {},
     "output_type": "display_data"
    },
    {
     "data": {
      "text/html": [
       "<pre style=\"white-space:pre;overflow-x:auto;line-height:normal;font-family:Menlo,'DejaVu Sans Mono',consolas,'Courier New',monospace\">\n",
       "</pre>\n"
      ],
      "text/plain": [
       "\n"
      ]
     },
     "metadata": {},
     "output_type": "display_data"
    },
    {
     "name": "stdout",
     "output_type": "stream",
     "text": [
      "\n",
      "\n",
      "\u001b[1m\u001b[95m# Agent:\u001b[00m \u001b[1m\u001b[92mProfile Data Collector\u001b[00m\n",
      "\u001b[95m## Using tool:\u001b[00m \u001b[92mSearch Tool\u001b[00m\n",
      "\u001b[95m## Tool Input:\u001b[00m \u001b[92m\n",
      "\"{\\\"query\\\": \\\"GeeksforGeeks API for user data\\\"}\"\u001b[00m\n",
      "\u001b[95m## Tool Output:\u001b[00m \u001b[92m\n",
      "{\"searchParameters\":{\"q\":\"GeeksforGeeks API for user data\",\"type\":\"search\",\"engine\":\"google\"},\"organic\":[{\"title\":\"pratham1singh/API-To-Fetch-GFG-user-Data - GitHub\",\"link\":\"https://github.com/pratham1singh/API-To-Fetch-GFG-user-Data\",\"snippet\":\"GeeksforGeeks User Data API  This API allows you to fetch user data from GeeksforGeeks, including the number of problems solved, ranking, college name, monthly score, overall score, and names of problems solved category-wise.\",\"position\":1},{\"title\":\"How To Use an API? The Complete Guide | GeeksforGeeks\",\"link\":\"https://www.geeksforgeeks.org/how-to-use-an-api-the-complete-guide/\",\"snippet\":\"An API is a set of rules and protocols that allow one software application to interact with another. It defines the methods and data formats ...\",\"date\":\"Jul 31, 2024\",\"position\":2},{\"title\":\"arnoob16/GeeksForGeeksAPI: Unofficial GeeksForGeeks API - GitHub\",\"link\":\"https://github.com/arnoob16/GeeksForGeeksAPI\",\"snippet\":\"Unofficial GFG API. An unofficial API for GeeksForGeeks for developers to make cool stuff using GFG profile data.\",\"position\":3},{\"title\":\"REST API Introduction | GeeksforGeeks\",\"link\":\"https://www.geeksforgeeks.org/rest-api-introduction/\",\"snippet\":\"It is a type of API (Application Programming Interface) that allows communication between different systems over the internet. REST APIs work by ...\",\"date\":\"Apr 8, 2025\",\"sitelinks\":[{\"title\":\"What is an API Endpoint\",\"link\":\"https://www.geeksforgeeks.org/what-is-an-api-endpoint/\"},{\"title\":\"REST API Architectural...\",\"link\":\"https://www.geeksforgeeks.org/rest-api-architectural-constraints/\"},{\"title\":\"What is GraphQL?\",\"link\":\"https://www.geeksforgeeks.org/what-is-graphql/\"}],\"position\":4},{\"title\":\"Geeks For Geeks API to build a search index : r/geeksforgeeks\",\"link\":\"https://www.reddit.com/r/geeksforgeeks/comments/rv6f66/geeks_for_geeks_api_to_build_a_search_index/\",\"snippet\":\"Is there an API for geeks for geeks? I would like to build a search api for the website !! And one more thing is there any approximate for ...\",\"date\":\"Jan 3, 2022\",\"position\":5},{\"title\":\"GeeksforGeeks' Post - LinkedIn\",\"link\":\"https://www.linkedin.com/posts/geeksforgeeks_api-software-developer-activity-7202617380957556736-zdTA\",\"snippet\":\"Basically, API is only the way to request data from a built function, in contrast, SDK allows you to modify the function. View profile for ...\",\"date\":\"Jun 1, 2024\",\"position\":6},{\"title\":\"Dealing with Users and User-Owned Data in an API\",\"link\":\"https://softwareengineering.stackexchange.com/questions/263951/dealing-with-users-and-user-owned-data-in-an-api\",\"snippet\":\"It looks like you are confusing your underlying model objects with your API resources, they are not necessarily mutually exclusive.\",\"date\":\"Nov 27, 2014\",\"position\":7},{\"title\":\"Scraping GeeksforGeeks User Profiles with Node.js - DEV Community\",\"link\":\"https://dev.to/joeljaison394/scraping-geeksforgeeks-user-profiles-with-nodejs-16mk\",\"snippet\":\"To scrape user profiles on GeeksforGeeks, we'll use Axios to make HTTP requests and Cheerio to parse the HTML response. Within the /profile/: ...\",\"date\":\"Jun 9, 2023\",\"position\":8},{\"title\":\"GeeksforGeeks - Learn To Code - Apps on Google Play\",\"link\":\"https://play.google.com/store/apps/details?id=free.programming.programming&hl=en_US\",\"snippet\":\"Learn Data Structures Algorithms, C Programming, C++, Java, Python, JS, Aptitude.\",\"date\":\"Mar 24, 2025\",\"position\":9},{\"title\":\"Geeksforgeeks not a good place to get started with programming\",\"link\":\"https://www.reddit.com/r/learnprogramming/comments/lot6ah/geeksforgeeks_not_a_good_place_to_get_started/\",\"snippet\":\"I have seen many people recommending GeeksforGeeks to get started with programming. But the truth is, many article is very poorly written, along with poor UI/ ...\",\"date\":\"Feb 21, 2021\",\"position\":10}],\"relatedSearches\":[{\"query\":\"geeks for geeks api\"},{\"query\":\"rest api example\"},{\"query\":\"rest api full form\"},{\"query\":\"rest api w3schools\"},{\"query\":\"difference between api and rest api\"},{\"query\":\"gfg profile api\"},{\"query\":\"rest api tutorial\"},{\"query\":\"restful api dev\"}],\"credits\":1}\n",
      "\n",
      "\n",
      "You ONLY have access to the following tools, and should NEVER make up tools that are not listed here:\n",
      "\n",
      "Tool Name: GitHub Profile Scraper\n",
      "Tool Arguments: {'github_username': {'description': None, 'type': 'str'}}\n",
      "Tool Description: Scrapes a GitHub profile to gather information about repositories, contributions, and skills.\n",
      "Tool Name: LeetCode Profile Scraper\n",
      "Tool Arguments: {'leetcode_username': {'description': None, 'type': 'str'}}\n",
      "Tool Description: Scrapes a LeetCode profile to gather information about solved problems and contest ratings.\n",
      "Tool Name: Search Tool\n",
      "Tool Arguments: {'query': {'description': None, 'type': 'str'}}\n",
      "Tool Description: Useful for searching information about technologies, companies, or people online.\n",
      "\n",
      "IMPORTANT: Use the following format in your response:\n",
      "\n",
      "```\n",
      "Thought: you should always think about what to do\n",
      "Action: the action to take, only one name of [GitHub Profile Scraper, LeetCode Profile Scraper, Search Tool], just the name, exactly as it's written.\n",
      "Action Input: the input to the action, just a simple JSON object, enclosed in curly braces, using \" to wrap keys and values.\n",
      "Observation: the result of the action\n",
      "```\n",
      "\n",
      "Once all necessary information is gathered, return the following format:\n",
      "\n",
      "```\n",
      "Thought: I now know the final answer\n",
      "Final Answer: the final answer to the original input question\n",
      "```\u001b[00m\n"
     ]
    },
    {
     "data": {
      "text/html": [
       "<pre style=\"white-space:pre;overflow-x:auto;line-height:normal;font-family:Menlo,'DejaVu Sans Mono',consolas,'Courier New',monospace\"><span style=\"color: #008080; text-decoration-color: #008080; font-weight: bold\">🚀 Crew: crew</span>\n",
       "└── <span style=\"color: #808000; text-decoration-color: #808000; font-weight: bold\">📋 Task: b7199b89-7af4-442a-84c4-f3c640c8ffac</span>\n",
       "    <span style=\"color: #c0c0c0; text-decoration-color: #c0c0c0\">   Status: </span><span style=\"color: #bfbf7f; text-decoration-color: #bfbf7f\">Executing Task...</span>\n",
       "    └── <span style=\"color: #008000; text-decoration-color: #008000; font-weight: bold\">🤖 Agent: </span><span style=\"color: #008000; text-decoration-color: #008000\">Profile Data Collector</span>\n",
       "        <span style=\"color: #c0c0c0; text-decoration-color: #c0c0c0\">    Status: </span><span style=\"color: #008000; text-decoration-color: #008000; font-weight: bold\">In Progress</span>\n",
       "        ├── <span style=\"color: #008000; text-decoration-color: #008000; font-weight: bold\">🔧 </span><span style=\"color: #008000; text-decoration-color: #008000\">Used Search Tool (2)</span>\n",
       "        ├── <span style=\"color: #008000; text-decoration-color: #008000; font-weight: bold\">🔧 </span><span style=\"color: #008000; text-decoration-color: #008000\">Used LeetCode Profile Scraper (1)</span>\n",
       "        └── <span style=\"color: #000080; text-decoration-color: #000080; font-weight: bold\">🧠 </span><span style=\"color: #000080; text-decoration-color: #000080\">Thinking...</span>\n",
       "</pre>\n"
      ],
      "text/plain": [
       "\u001b[1;36m🚀 Crew: \u001b[0m\u001b[1;36mcrew\u001b[0m\n",
       "└── \u001b[1;33m📋 Task: b7199b89-7af4-442a-84c4-f3c640c8ffac\u001b[0m\n",
       "    \u001b[37m   Status: \u001b[0m\u001b[2;33mExecuting Task...\u001b[0m\n",
       "    └── \u001b[1;32m🤖 Agent: \u001b[0m\u001b[32mProfile Data Collector\u001b[0m\n",
       "        \u001b[37m    Status: \u001b[0m\u001b[1;32mIn Progress\u001b[0m\n",
       "        ├── \u001b[1;32m🔧 \u001b[0m\u001b[32mUsed Search Tool (2)\u001b[0m\n",
       "        ├── \u001b[1;32m🔧 \u001b[0m\u001b[32mUsed LeetCode Profile Scraper (1)\u001b[0m\n",
       "        └── \u001b[1;34m🧠 \u001b[0m\u001b[34mThinking...\u001b[0m\n"
      ]
     },
     "metadata": {},
     "output_type": "display_data"
    },
    {
     "data": {
      "text/html": [
       "<pre style=\"white-space:pre;overflow-x:auto;line-height:normal;font-family:Menlo,'DejaVu Sans Mono',consolas,'Courier New',monospace\">\n",
       "</pre>\n"
      ],
      "text/plain": [
       "\n"
      ]
     },
     "metadata": {},
     "output_type": "display_data"
    },
    {
     "data": {
      "text/html": [
       "<pre style=\"white-space:pre;overflow-x:auto;line-height:normal;font-family:Menlo,'DejaVu Sans Mono',consolas,'Courier New',monospace\"><span style=\"color: #008080; text-decoration-color: #008080; font-weight: bold\">🚀 Crew: crew</span>\n",
       "└── <span style=\"color: #808000; text-decoration-color: #808000; font-weight: bold\">📋 Task: b7199b89-7af4-442a-84c4-f3c640c8ffac</span>\n",
       "    <span style=\"color: #c0c0c0; text-decoration-color: #c0c0c0\">   Status: </span><span style=\"color: #bfbf7f; text-decoration-color: #bfbf7f\">Executing Task...</span>\n",
       "    └── <span style=\"color: #008000; text-decoration-color: #008000; font-weight: bold\">🤖 Agent: </span><span style=\"color: #008000; text-decoration-color: #008000\">Profile Data Collector</span>\n",
       "        <span style=\"color: #c0c0c0; text-decoration-color: #c0c0c0\">    Status: </span><span style=\"color: #008000; text-decoration-color: #008000; font-weight: bold\">In Progress</span>\n",
       "        ├── <span style=\"color: #008000; text-decoration-color: #008000; font-weight: bold\">🔧 </span><span style=\"color: #008000; text-decoration-color: #008000\">Used Search Tool (2)</span>\n",
       "        └── <span style=\"color: #008000; text-decoration-color: #008000; font-weight: bold\">🔧 </span><span style=\"color: #008000; text-decoration-color: #008000\">Used LeetCode Profile Scraper (1)</span>\n",
       "</pre>\n"
      ],
      "text/plain": [
       "\u001b[1;36m🚀 Crew: \u001b[0m\u001b[1;36mcrew\u001b[0m\n",
       "└── \u001b[1;33m📋 Task: b7199b89-7af4-442a-84c4-f3c640c8ffac\u001b[0m\n",
       "    \u001b[37m   Status: \u001b[0m\u001b[2;33mExecuting Task...\u001b[0m\n",
       "    └── \u001b[1;32m🤖 Agent: \u001b[0m\u001b[32mProfile Data Collector\u001b[0m\n",
       "        \u001b[37m    Status: \u001b[0m\u001b[1;32mIn Progress\u001b[0m\n",
       "        ├── \u001b[1;32m🔧 \u001b[0m\u001b[32mUsed Search Tool (2)\u001b[0m\n",
       "        └── \u001b[1;32m🔧 \u001b[0m\u001b[32mUsed LeetCode Profile Scraper (1)\u001b[0m\n"
      ]
     },
     "metadata": {},
     "output_type": "display_data"
    },
    {
     "data": {
      "text/html": [
       "<pre style=\"white-space:pre;overflow-x:auto;line-height:normal;font-family:Menlo,'DejaVu Sans Mono',consolas,'Courier New',monospace\">\n",
       "</pre>\n"
      ],
      "text/plain": [
       "\n"
      ]
     },
     "metadata": {},
     "output_type": "display_data"
    },
    {
     "data": {
      "text/html": [
       "<pre style=\"white-space:pre;overflow-x:auto;line-height:normal;font-family:Menlo,'DejaVu Sans Mono',consolas,'Courier New',monospace\"><span style=\"color: #008080; text-decoration-color: #008080; font-weight: bold\">🚀 Crew: crew</span>\n",
       "└── <span style=\"color: #808000; text-decoration-color: #808000; font-weight: bold\">📋 Task: b7199b89-7af4-442a-84c4-f3c640c8ffac</span>\n",
       "    <span style=\"color: #c0c0c0; text-decoration-color: #c0c0c0\">   Status: </span><span style=\"color: #bfbf7f; text-decoration-color: #bfbf7f\">Executing Task...</span>\n",
       "    └── <span style=\"color: #008000; text-decoration-color: #008000; font-weight: bold\">🤖 Agent: </span><span style=\"color: #008000; text-decoration-color: #008000\">Profile Data Collector</span>\n",
       "        <span style=\"color: #c0c0c0; text-decoration-color: #c0c0c0\">    Status: </span><span style=\"color: #008000; text-decoration-color: #008000; font-weight: bold\">In Progress</span>\n",
       "        ├── <span style=\"color: #808000; text-decoration-color: #808000; font-weight: bold\">🔧 </span><span style=\"color: #808000; text-decoration-color: #808000\">Using Search Tool (3)</span>\n",
       "        └── <span style=\"color: #008000; text-decoration-color: #008000; font-weight: bold\">🔧 </span><span style=\"color: #008000; text-decoration-color: #008000\">Used LeetCode Profile Scraper (1)</span>\n",
       "</pre>\n"
      ],
      "text/plain": [
       "\u001b[1;36m🚀 Crew: \u001b[0m\u001b[1;36mcrew\u001b[0m\n",
       "└── \u001b[1;33m📋 Task: b7199b89-7af4-442a-84c4-f3c640c8ffac\u001b[0m\n",
       "    \u001b[37m   Status: \u001b[0m\u001b[2;33mExecuting Task...\u001b[0m\n",
       "    └── \u001b[1;32m🤖 Agent: \u001b[0m\u001b[32mProfile Data Collector\u001b[0m\n",
       "        \u001b[37m    Status: \u001b[0m\u001b[1;32mIn Progress\u001b[0m\n",
       "        ├── \u001b[1;33m🔧 \u001b[0m\u001b[33mUsing Search Tool (3)\u001b[0m\n",
       "        └── \u001b[1;32m🔧 \u001b[0m\u001b[32mUsed LeetCode Profile Scraper (1)\u001b[0m\n"
      ]
     },
     "metadata": {},
     "output_type": "display_data"
    },
    {
     "data": {
      "text/html": [
       "<pre style=\"white-space:pre;overflow-x:auto;line-height:normal;font-family:Menlo,'DejaVu Sans Mono',consolas,'Courier New',monospace\">\n",
       "</pre>\n"
      ],
      "text/plain": [
       "\n"
      ]
     },
     "metadata": {},
     "output_type": "display_data"
    },
    {
     "data": {
      "text/html": [
       "<pre style=\"white-space:pre;overflow-x:auto;line-height:normal;font-family:Menlo,'DejaVu Sans Mono',consolas,'Courier New',monospace\"><span style=\"color: #008080; text-decoration-color: #008080; font-weight: bold\">🚀 Crew: crew</span>\n",
       "└── <span style=\"color: #808000; text-decoration-color: #808000; font-weight: bold\">📋 Task: b7199b89-7af4-442a-84c4-f3c640c8ffac</span>\n",
       "    <span style=\"color: #c0c0c0; text-decoration-color: #c0c0c0\">   Status: </span><span style=\"color: #bfbf7f; text-decoration-color: #bfbf7f\">Executing Task...</span>\n",
       "    └── <span style=\"color: #008000; text-decoration-color: #008000; font-weight: bold\">🤖 Agent: </span><span style=\"color: #008000; text-decoration-color: #008000\">Profile Data Collector</span>\n",
       "        <span style=\"color: #c0c0c0; text-decoration-color: #c0c0c0\">    Status: </span><span style=\"color: #008000; text-decoration-color: #008000; font-weight: bold\">In Progress</span>\n",
       "        ├── <span style=\"color: #008000; text-decoration-color: #008000; font-weight: bold\">🔧 </span><span style=\"color: #008000; text-decoration-color: #008000\">Used Search Tool (3)</span>\n",
       "        └── <span style=\"color: #008000; text-decoration-color: #008000; font-weight: bold\">🔧 </span><span style=\"color: #008000; text-decoration-color: #008000\">Used LeetCode Profile Scraper (1)</span>\n",
       "</pre>\n"
      ],
      "text/plain": [
       "\u001b[1;36m🚀 Crew: \u001b[0m\u001b[1;36mcrew\u001b[0m\n",
       "└── \u001b[1;33m📋 Task: b7199b89-7af4-442a-84c4-f3c640c8ffac\u001b[0m\n",
       "    \u001b[37m   Status: \u001b[0m\u001b[2;33mExecuting Task...\u001b[0m\n",
       "    └── \u001b[1;32m🤖 Agent: \u001b[0m\u001b[32mProfile Data Collector\u001b[0m\n",
       "        \u001b[37m    Status: \u001b[0m\u001b[1;32mIn Progress\u001b[0m\n",
       "        ├── \u001b[1;32m🔧 \u001b[0m\u001b[32mUsed Search Tool (3)\u001b[0m\n",
       "        └── \u001b[1;32m🔧 \u001b[0m\u001b[32mUsed LeetCode Profile Scraper (1)\u001b[0m\n"
      ]
     },
     "metadata": {},
     "output_type": "display_data"
    },
    {
     "data": {
      "text/html": [
       "<pre style=\"white-space:pre;overflow-x:auto;line-height:normal;font-family:Menlo,'DejaVu Sans Mono',consolas,'Courier New',monospace\">\n",
       "</pre>\n"
      ],
      "text/plain": [
       "\n"
      ]
     },
     "metadata": {},
     "output_type": "display_data"
    },
    {
     "name": "stdout",
     "output_type": "stream",
     "text": [
      "\n",
      "\n",
      "\u001b[1m\u001b[95m# Agent:\u001b[00m \u001b[1m\u001b[92mProfile Data Collector\u001b[00m\n",
      "\u001b[95m## Using tool:\u001b[00m \u001b[92mSearch Tool\u001b[00m\n",
      "\u001b[95m## Tool Input:\u001b[00m \u001b[92m\n",
      "\"{\\\"query\\\": \\\"Nandini_Queen coding profile geeksforgeeks hackerrank\\\"}\"\u001b[00m\n",
      "\u001b[95m## Tool Output:\u001b[00m \u001b[92m\n",
      "{\"searchParameters\":{\"q\":\"Nandini_Queen coding profile geeksforgeeks hackerrank\",\"type\":\"search\",\"engine\":\"google\"},\"organic\":[{\"title\":\"Nandini Jakkam - gfg160 #geekstreak2024 #geeksforgeeks - LinkedIn\",\"link\":\"https://www.linkedin.com/posts/nandini-jakkam-219a87270_gfg160-geekstreak2024-geeksforgeeks-activity-7272993325039665152-7Uey\",\"snippet\":\"Nandini Jakkam's Post. View profile for Nandini Jakkam, graphic · Nandini Jakkam ... Hackerrank Solver. 6d. Report this post; Close menu. Day-25 ...\",\"date\":\"Dec 12, 2024\",\"position\":1},{\"title\":\"Nandini Nema - Jaypee Institute of Information Technology, Noida ...\",\"link\":\"https://www.geeksforgeeks.org/user/nandini%20nema/\",\"snippet\":\"11 Rank. Institute Rank. Language Used. C++, Java. Coding Score. 2543. icon ... GeeksforGeeks Videos · DSA · Python · Java · C++ · Web Development · Data Science ...\",\"position\":2},{\"title\":\"Nandini Sharma's Post - LinkedIn\",\"link\":\"https://www.linkedin.com/posts/nandinisharma1324_gfg-dsa-learningjourney-activity-7270773796712693760-dMlu\",\"snippet\":\"Nandini Sharma's Post. View profile for Nandini Sharma. Nandini Sharma. 5 @ HackerRank ... #100DaysOfCode #geekstreak2024 #geeksforgeeks # ...\",\"date\":\"Dec 6, 2024\",\"position\":3},{\"title\":\"Nandini | GeeksforGeeks Profile\",\"link\":\"https://www.geeksforgeeks.org/user/nandinidey/\",\"snippet\":\"Missing: Nandini_Queen hackerrank\",\"position\":4}],\"credits\":1}\u001b[00m\n"
     ]
    },
    {
     "data": {
      "text/html": [
       "<pre style=\"white-space:pre;overflow-x:auto;line-height:normal;font-family:Menlo,'DejaVu Sans Mono',consolas,'Courier New',monospace\"><span style=\"color: #008080; text-decoration-color: #008080; font-weight: bold\">🚀 Crew: crew</span>\n",
       "└── <span style=\"color: #808000; text-decoration-color: #808000; font-weight: bold\">📋 Task: b7199b89-7af4-442a-84c4-f3c640c8ffac</span>\n",
       "    <span style=\"color: #c0c0c0; text-decoration-color: #c0c0c0\">   Status: </span><span style=\"color: #bfbf7f; text-decoration-color: #bfbf7f\">Executing Task...</span>\n",
       "    └── <span style=\"color: #008000; text-decoration-color: #008000; font-weight: bold\">🤖 Agent: </span><span style=\"color: #008000; text-decoration-color: #008000\">Profile Data Collector</span>\n",
       "        <span style=\"color: #c0c0c0; text-decoration-color: #c0c0c0\">    Status: </span><span style=\"color: #008000; text-decoration-color: #008000; font-weight: bold\">In Progress</span>\n",
       "        ├── <span style=\"color: #008000; text-decoration-color: #008000; font-weight: bold\">🔧 </span><span style=\"color: #008000; text-decoration-color: #008000\">Used Search Tool (3)</span>\n",
       "        ├── <span style=\"color: #008000; text-decoration-color: #008000; font-weight: bold\">🔧 </span><span style=\"color: #008000; text-decoration-color: #008000\">Used LeetCode Profile Scraper (1)</span>\n",
       "        └── <span style=\"color: #000080; text-decoration-color: #000080; font-weight: bold\">🧠 </span><span style=\"color: #000080; text-decoration-color: #000080\">Thinking...</span>\n",
       "</pre>\n"
      ],
      "text/plain": [
       "\u001b[1;36m🚀 Crew: \u001b[0m\u001b[1;36mcrew\u001b[0m\n",
       "└── \u001b[1;33m📋 Task: b7199b89-7af4-442a-84c4-f3c640c8ffac\u001b[0m\n",
       "    \u001b[37m   Status: \u001b[0m\u001b[2;33mExecuting Task...\u001b[0m\n",
       "    └── \u001b[1;32m🤖 Agent: \u001b[0m\u001b[32mProfile Data Collector\u001b[0m\n",
       "        \u001b[37m    Status: \u001b[0m\u001b[1;32mIn Progress\u001b[0m\n",
       "        ├── \u001b[1;32m🔧 \u001b[0m\u001b[32mUsed Search Tool (3)\u001b[0m\n",
       "        ├── \u001b[1;32m🔧 \u001b[0m\u001b[32mUsed LeetCode Profile Scraper (1)\u001b[0m\n",
       "        └── \u001b[1;34m🧠 \u001b[0m\u001b[34mThinking...\u001b[0m\n"
      ]
     },
     "metadata": {},
     "output_type": "display_data"
    },
    {
     "data": {
      "text/html": [
       "<pre style=\"white-space:pre;overflow-x:auto;line-height:normal;font-family:Menlo,'DejaVu Sans Mono',consolas,'Courier New',monospace\">\n",
       "</pre>\n"
      ],
      "text/plain": [
       "\n"
      ]
     },
     "metadata": {},
     "output_type": "display_data"
    },
    {
     "data": {
      "text/html": [
       "<pre style=\"white-space:pre;overflow-x:auto;line-height:normal;font-family:Menlo,'DejaVu Sans Mono',consolas,'Courier New',monospace\"><span style=\"color: #008080; text-decoration-color: #008080; font-weight: bold\">🚀 Crew: crew</span>\n",
       "└── <span style=\"color: #808000; text-decoration-color: #808000; font-weight: bold\">📋 Task: b7199b89-7af4-442a-84c4-f3c640c8ffac</span>\n",
       "    <span style=\"color: #c0c0c0; text-decoration-color: #c0c0c0\">   Status: </span><span style=\"color: #bfbf7f; text-decoration-color: #bfbf7f\">Executing Task...</span>\n",
       "    └── <span style=\"color: #008000; text-decoration-color: #008000; font-weight: bold\">🤖 Agent: </span><span style=\"color: #008000; text-decoration-color: #008000\">Profile Data Collector</span>\n",
       "        <span style=\"color: #c0c0c0; text-decoration-color: #c0c0c0\">    Status: </span><span style=\"color: #008000; text-decoration-color: #008000; font-weight: bold\">In Progress</span>\n",
       "        ├── <span style=\"color: #008000; text-decoration-color: #008000; font-weight: bold\">🔧 </span><span style=\"color: #008000; text-decoration-color: #008000\">Used Search Tool (3)</span>\n",
       "        └── <span style=\"color: #008000; text-decoration-color: #008000; font-weight: bold\">🔧 </span><span style=\"color: #008000; text-decoration-color: #008000\">Used LeetCode Profile Scraper (1)</span>\n",
       "</pre>\n"
      ],
      "text/plain": [
       "\u001b[1;36m🚀 Crew: \u001b[0m\u001b[1;36mcrew\u001b[0m\n",
       "└── \u001b[1;33m📋 Task: b7199b89-7af4-442a-84c4-f3c640c8ffac\u001b[0m\n",
       "    \u001b[37m   Status: \u001b[0m\u001b[2;33mExecuting Task...\u001b[0m\n",
       "    └── \u001b[1;32m🤖 Agent: \u001b[0m\u001b[32mProfile Data Collector\u001b[0m\n",
       "        \u001b[37m    Status: \u001b[0m\u001b[1;32mIn Progress\u001b[0m\n",
       "        ├── \u001b[1;32m🔧 \u001b[0m\u001b[32mUsed Search Tool (3)\u001b[0m\n",
       "        └── \u001b[1;32m🔧 \u001b[0m\u001b[32mUsed LeetCode Profile Scraper (1)\u001b[0m\n"
      ]
     },
     "metadata": {},
     "output_type": "display_data"
    },
    {
     "data": {
      "text/html": [
       "<pre style=\"white-space:pre;overflow-x:auto;line-height:normal;font-family:Menlo,'DejaVu Sans Mono',consolas,'Courier New',monospace\">\n",
       "</pre>\n"
      ],
      "text/plain": [
       "\n"
      ]
     },
     "metadata": {},
     "output_type": "display_data"
    },
    {
     "name": "stdout",
     "output_type": "stream",
     "text": [
      "\n",
      "\n",
      "\u001b[1m\u001b[95m# Agent:\u001b[00m \u001b[1m\u001b[92mProfile Data Collector\u001b[00m\n",
      "\u001b[95m## Final Answer:\u001b[00m \u001b[92m\n",
      "{\n",
      "  \"leetcode\": {\n",
      "    \"username\": \"Nandini_Queen\",\n",
      "    \"total_problems_solved\": 272,\n",
      "    \"problems_by_difficulty\": {\n",
      "      \"All\": 136,\n",
      "      \"Easy\": 58,\n",
      "      \"Medium\": 68,\n",
      "      \"Hard\": 10\n",
      "    },\n",
      "    \"ranking\": 883997,\n",
      "    \"reputation\": 0,\n",
      "    \"badges\": [\n",
      "      \"Study Plan V2 Award\"\n",
      "    ]\n",
      "  },\n",
      "  \"geeksforgeeks\": {\n",
      "    \"notes\": \"Partial information found through search.  Multiple users with similar names exist.  Unable to definitively link to a specific profile with the available tools.\"\n",
      "  },\n",
      "  \"hackerrank\": {\n",
      "    \"notes\": \"No profile found using available tools and search.  Further investigation may be needed.\"\n",
      "  }\n",
      "}\u001b[00m\n",
      "\n",
      "\n"
     ]
    },
    {
     "data": {
      "text/html": [
       "<pre style=\"white-space:pre;overflow-x:auto;line-height:normal;font-family:Menlo,'DejaVu Sans Mono',consolas,'Courier New',monospace\"><span style=\"color: #008080; text-decoration-color: #008080; font-weight: bold\">🚀 Crew: crew</span>\n",
       "└── <span style=\"color: #808000; text-decoration-color: #808000; font-weight: bold\">📋 Task: b7199b89-7af4-442a-84c4-f3c640c8ffac</span>\n",
       "    <span style=\"color: #c0c0c0; text-decoration-color: #c0c0c0\">   Status: </span><span style=\"color: #bfbf7f; text-decoration-color: #bfbf7f\">Executing Task...</span>\n",
       "    └── <span style=\"color: #008000; text-decoration-color: #008000; font-weight: bold\">🤖 Agent: </span><span style=\"color: #008000; text-decoration-color: #008000\">Profile Data Collector</span>\n",
       "        <span style=\"color: #c0c0c0; text-decoration-color: #c0c0c0\">    Status: </span><span style=\"color: #008000; text-decoration-color: #008000; font-weight: bold\">✅ Completed</span>\n",
       "        ├── <span style=\"color: #008000; text-decoration-color: #008000; font-weight: bold\">🔧 </span><span style=\"color: #008000; text-decoration-color: #008000\">Used Search Tool (3)</span>\n",
       "        └── <span style=\"color: #008000; text-decoration-color: #008000; font-weight: bold\">🔧 </span><span style=\"color: #008000; text-decoration-color: #008000\">Used LeetCode Profile Scraper (1)</span>\n",
       "</pre>\n"
      ],
      "text/plain": [
       "\u001b[1;36m🚀 Crew: \u001b[0m\u001b[1;36mcrew\u001b[0m\n",
       "└── \u001b[1;33m📋 Task: b7199b89-7af4-442a-84c4-f3c640c8ffac\u001b[0m\n",
       "    \u001b[37m   Status: \u001b[0m\u001b[2;33mExecuting Task...\u001b[0m\n",
       "    └── \u001b[1;32m🤖 Agent: \u001b[0m\u001b[32mProfile Data Collector\u001b[0m\n",
       "        \u001b[37m    Status: \u001b[0m\u001b[1;32m✅ Completed\u001b[0m\n",
       "        ├── \u001b[1;32m🔧 \u001b[0m\u001b[32mUsed Search Tool (3)\u001b[0m\n",
       "        └── \u001b[1;32m🔧 \u001b[0m\u001b[32mUsed LeetCode Profile Scraper (1)\u001b[0m\n"
      ]
     },
     "metadata": {},
     "output_type": "display_data"
    },
    {
     "data": {
      "text/html": [
       "<pre style=\"white-space:pre;overflow-x:auto;line-height:normal;font-family:Menlo,'DejaVu Sans Mono',consolas,'Courier New',monospace\">\n",
       "</pre>\n"
      ],
      "text/plain": [
       "\n"
      ]
     },
     "metadata": {},
     "output_type": "display_data"
    },
    {
     "data": {
      "text/html": [
       "<pre style=\"white-space:pre;overflow-x:auto;line-height:normal;font-family:Menlo,'DejaVu Sans Mono',consolas,'Courier New',monospace\"><span style=\"color: #008080; text-decoration-color: #008080; font-weight: bold\">🚀 Crew: crew</span>\n",
       "└── <span style=\"color: #008000; text-decoration-color: #008000; font-weight: bold\">📋 Task: b7199b89-7af4-442a-84c4-f3c640c8ffac</span>\n",
       "    <span style=\"color: #c0c0c0; text-decoration-color: #c0c0c0\">   Assigned to: </span><span style=\"color: #008000; text-decoration-color: #008000\">Profile Data Collector</span>\n",
       "    <span style=\"color: #c0c0c0; text-decoration-color: #c0c0c0\">   Status: </span><span style=\"color: #008000; text-decoration-color: #008000; font-weight: bold\">✅ Completed</span>\n",
       "    └── <span style=\"color: #008000; text-decoration-color: #008000; font-weight: bold\">🤖 Agent: </span><span style=\"color: #008000; text-decoration-color: #008000\">Profile Data Collector</span>\n",
       "        <span style=\"color: #c0c0c0; text-decoration-color: #c0c0c0\">    Status: </span><span style=\"color: #008000; text-decoration-color: #008000; font-weight: bold\">✅ Completed</span>\n",
       "        ├── <span style=\"color: #008000; text-decoration-color: #008000; font-weight: bold\">🔧 </span><span style=\"color: #008000; text-decoration-color: #008000\">Used Search Tool (3)</span>\n",
       "        └── <span style=\"color: #008000; text-decoration-color: #008000; font-weight: bold\">🔧 </span><span style=\"color: #008000; text-decoration-color: #008000\">Used LeetCode Profile Scraper (1)</span>\n",
       "</pre>\n"
      ],
      "text/plain": [
       "\u001b[1;36m🚀 Crew: \u001b[0m\u001b[1;36mcrew\u001b[0m\n",
       "└── \u001b[1;32m📋 Task: b7199b89-7af4-442a-84c4-f3c640c8ffac\u001b[0m\n",
       "    \u001b[37m   Assigned to: \u001b[0m\u001b[32mProfile Data Collector\u001b[0m\n",
       "    \u001b[37m   Status: \u001b[0m\u001b[1;32m✅ Completed\u001b[0m\n",
       "    └── \u001b[1;32m🤖 Agent: \u001b[0m\u001b[32mProfile Data Collector\u001b[0m\n",
       "        \u001b[37m    Status: \u001b[0m\u001b[1;32m✅ Completed\u001b[0m\n",
       "        ├── \u001b[1;32m🔧 \u001b[0m\u001b[32mUsed Search Tool (3)\u001b[0m\n",
       "        └── \u001b[1;32m🔧 \u001b[0m\u001b[32mUsed LeetCode Profile Scraper (1)\u001b[0m\n"
      ]
     },
     "metadata": {},
     "output_type": "display_data"
    },
    {
     "data": {
      "text/html": [
       "<pre style=\"white-space:pre;overflow-x:auto;line-height:normal;font-family:Menlo,'DejaVu Sans Mono',consolas,'Courier New',monospace\"><span style=\"color: #008000; text-decoration-color: #008000\">╭──────────────────────────────────────────────── Task Completion ────────────────────────────────────────────────╮</span>\n",
       "<span style=\"color: #008000; text-decoration-color: #008000\">│</span>                                                                                                                 <span style=\"color: #008000; text-decoration-color: #008000\">│</span>\n",
       "<span style=\"color: #008000; text-decoration-color: #008000\">│</span>  <span style=\"color: #008000; text-decoration-color: #008000; font-weight: bold\">Task Completed</span>                                                                                                 <span style=\"color: #008000; text-decoration-color: #008000\">│</span>\n",
       "<span style=\"color: #008000; text-decoration-color: #008000\">│</span>  <span style=\"color: #c0c0c0; text-decoration-color: #c0c0c0\">Name: </span><span style=\"color: #008000; text-decoration-color: #008000\">b7199b89-7af4-442a-84c4-f3c640c8ffac</span>                                                                     <span style=\"color: #008000; text-decoration-color: #008000\">│</span>\n",
       "<span style=\"color: #008000; text-decoration-color: #008000\">│</span>  <span style=\"color: #c0c0c0; text-decoration-color: #c0c0c0\">Agent: </span><span style=\"color: #008000; text-decoration-color: #008000\">Profile Data Collector</span>                                                                                  <span style=\"color: #008000; text-decoration-color: #008000\">│</span>\n",
       "<span style=\"color: #008000; text-decoration-color: #008000\">│</span>                                                                                                                 <span style=\"color: #008000; text-decoration-color: #008000\">│</span>\n",
       "<span style=\"color: #008000; text-decoration-color: #008000\">│</span>                                                                                                                 <span style=\"color: #008000; text-decoration-color: #008000\">│</span>\n",
       "<span style=\"color: #008000; text-decoration-color: #008000\">╰─────────────────────────────────────────────────────────────────────────────────────────────────────────────────╯</span>\n",
       "</pre>\n"
      ],
      "text/plain": [
       "\u001b[32m╭─\u001b[0m\u001b[32m───────────────────────────────────────────────\u001b[0m\u001b[32m Task Completion \u001b[0m\u001b[32m───────────────────────────────────────────────\u001b[0m\u001b[32m─╮\u001b[0m\n",
       "\u001b[32m│\u001b[0m                                                                                                                 \u001b[32m│\u001b[0m\n",
       "\u001b[32m│\u001b[0m  \u001b[1;32mTask Completed\u001b[0m                                                                                                 \u001b[32m│\u001b[0m\n",
       "\u001b[32m│\u001b[0m  \u001b[37mName: \u001b[0m\u001b[32mb7199b89-7af4-442a-84c4-f3c640c8ffac\u001b[0m                                                                     \u001b[32m│\u001b[0m\n",
       "\u001b[32m│\u001b[0m  \u001b[37mAgent: \u001b[0m\u001b[32mProfile Data Collector\u001b[0m                                                                                  \u001b[32m│\u001b[0m\n",
       "\u001b[32m│\u001b[0m                                                                                                                 \u001b[32m│\u001b[0m\n",
       "\u001b[32m│\u001b[0m                                                                                                                 \u001b[32m│\u001b[0m\n",
       "\u001b[32m╰─────────────────────────────────────────────────────────────────────────────────────────────────────────────────╯\u001b[0m\n"
      ]
     },
     "metadata": {},
     "output_type": "display_data"
    },
    {
     "data": {
      "text/html": [
       "<pre style=\"white-space:pre;overflow-x:auto;line-height:normal;font-family:Menlo,'DejaVu Sans Mono',consolas,'Courier New',monospace\">\n",
       "</pre>\n"
      ],
      "text/plain": [
       "\n"
      ]
     },
     "metadata": {},
     "output_type": "display_data"
    },
    {
     "data": {
      "text/html": [
       "<pre style=\"white-space:pre;overflow-x:auto;line-height:normal;font-family:Menlo,'DejaVu Sans Mono',consolas,'Courier New',monospace\"><span style=\"color: #008000; text-decoration-color: #008000\">╭──────────────────────────────────────────────── Crew Completion ────────────────────────────────────────────────╮</span>\n",
       "<span style=\"color: #008000; text-decoration-color: #008000\">│</span>                                                                                                                 <span style=\"color: #008000; text-decoration-color: #008000\">│</span>\n",
       "<span style=\"color: #008000; text-decoration-color: #008000\">│</span>  <span style=\"color: #008000; text-decoration-color: #008000; font-weight: bold\">Crew Execution Completed</span>                                                                                       <span style=\"color: #008000; text-decoration-color: #008000\">│</span>\n",
       "<span style=\"color: #008000; text-decoration-color: #008000\">│</span>  <span style=\"color: #c0c0c0; text-decoration-color: #c0c0c0\">Name: </span><span style=\"color: #008000; text-decoration-color: #008000\">crew</span>                                                                                                     <span style=\"color: #008000; text-decoration-color: #008000\">│</span>\n",
       "<span style=\"color: #008000; text-decoration-color: #008000\">│</span>  <span style=\"color: #c0c0c0; text-decoration-color: #c0c0c0\">ID: </span><span style=\"color: #008000; text-decoration-color: #008000\">32639b02-00de-45c0-a884-b4070d037711</span>                                                                       <span style=\"color: #008000; text-decoration-color: #008000\">│</span>\n",
       "<span style=\"color: #008000; text-decoration-color: #008000\">│</span>                                                                                                                 <span style=\"color: #008000; text-decoration-color: #008000\">│</span>\n",
       "<span style=\"color: #008000; text-decoration-color: #008000\">│</span>                                                                                                                 <span style=\"color: #008000; text-decoration-color: #008000\">│</span>\n",
       "<span style=\"color: #008000; text-decoration-color: #008000\">╰─────────────────────────────────────────────────────────────────────────────────────────────────────────────────╯</span>\n",
       "</pre>\n"
      ],
      "text/plain": [
       "\u001b[32m╭─\u001b[0m\u001b[32m───────────────────────────────────────────────\u001b[0m\u001b[32m Crew Completion \u001b[0m\u001b[32m───────────────────────────────────────────────\u001b[0m\u001b[32m─╮\u001b[0m\n",
       "\u001b[32m│\u001b[0m                                                                                                                 \u001b[32m│\u001b[0m\n",
       "\u001b[32m│\u001b[0m  \u001b[1;32mCrew Execution Completed\u001b[0m                                                                                       \u001b[32m│\u001b[0m\n",
       "\u001b[32m│\u001b[0m  \u001b[37mName: \u001b[0m\u001b[32mcrew\u001b[0m                                                                                                     \u001b[32m│\u001b[0m\n",
       "\u001b[32m│\u001b[0m  \u001b[37mID: \u001b[0m\u001b[32m32639b02-00de-45c0-a884-b4070d037711\u001b[0m                                                                       \u001b[32m│\u001b[0m\n",
       "\u001b[32m│\u001b[0m                                                                                                                 \u001b[32m│\u001b[0m\n",
       "\u001b[32m│\u001b[0m                                                                                                                 \u001b[32m│\u001b[0m\n",
       "\u001b[32m╰─────────────────────────────────────────────────────────────────────────────────────────────────────────────────╯\u001b[0m\n"
      ]
     },
     "metadata": {},
     "output_type": "display_data"
    },
    {
     "data": {
      "text/html": [
       "<pre style=\"white-space:pre;overflow-x:auto;line-height:normal;font-family:Menlo,'DejaVu Sans Mono',consolas,'Courier New',monospace\">\n",
       "</pre>\n"
      ],
      "text/plain": [
       "\n"
      ]
     },
     "metadata": {},
     "output_type": "display_data"
    },
    {
     "name": "stdout",
     "output_type": "stream",
     "text": [
      "\n",
      "Profile scraping complete!\n",
      "\n",
      "Extracting certification information...\n",
      "Found 4 certifications\n",
      "\n",
      "Verifying certifications...\n"
     ]
    },
    {
     "data": {
      "text/html": [
       "<pre style=\"white-space:pre;overflow-x:auto;line-height:normal;font-family:Menlo,'DejaVu Sans Mono',consolas,'Courier New',monospace\"><span style=\"color: #008080; text-decoration-color: #008080\">╭──────────────────────────────────────────── Crew Execution Started ─────────────────────────────────────────────╮</span>\n",
       "<span style=\"color: #008080; text-decoration-color: #008080\">│</span>                                                                                                                 <span style=\"color: #008080; text-decoration-color: #008080\">│</span>\n",
       "<span style=\"color: #008080; text-decoration-color: #008080\">│</span>  <span style=\"color: #008080; text-decoration-color: #008080; font-weight: bold\">Crew Execution Started</span>                                                                                         <span style=\"color: #008080; text-decoration-color: #008080\">│</span>\n",
       "<span style=\"color: #008080; text-decoration-color: #008080\">│</span>  <span style=\"color: #c0c0c0; text-decoration-color: #c0c0c0\">Name: </span><span style=\"color: #008080; text-decoration-color: #008080\">crew</span>                                                                                                     <span style=\"color: #008080; text-decoration-color: #008080\">│</span>\n",
       "<span style=\"color: #008080; text-decoration-color: #008080\">│</span>  <span style=\"color: #c0c0c0; text-decoration-color: #c0c0c0\">ID: </span><span style=\"color: #008080; text-decoration-color: #008080\">732d354f-04a2-4568-b49e-d81d66243fc4</span>                                                                       <span style=\"color: #008080; text-decoration-color: #008080\">│</span>\n",
       "<span style=\"color: #008080; text-decoration-color: #008080\">│</span>                                                                                                                 <span style=\"color: #008080; text-decoration-color: #008080\">│</span>\n",
       "<span style=\"color: #008080; text-decoration-color: #008080\">│</span>                                                                                                                 <span style=\"color: #008080; text-decoration-color: #008080\">│</span>\n",
       "<span style=\"color: #008080; text-decoration-color: #008080\">╰─────────────────────────────────────────────────────────────────────────────────────────────────────────────────╯</span>\n",
       "</pre>\n"
      ],
      "text/plain": [
       "\u001b[36m╭─\u001b[0m\u001b[36m───────────────────────────────────────────\u001b[0m\u001b[36m Crew Execution Started \u001b[0m\u001b[36m────────────────────────────────────────────\u001b[0m\u001b[36m─╮\u001b[0m\n",
       "\u001b[36m│\u001b[0m                                                                                                                 \u001b[36m│\u001b[0m\n",
       "\u001b[36m│\u001b[0m  \u001b[1;36mCrew Execution Started\u001b[0m                                                                                         \u001b[36m│\u001b[0m\n",
       "\u001b[36m│\u001b[0m  \u001b[37mName: \u001b[0m\u001b[36mcrew\u001b[0m                                                                                                     \u001b[36m│\u001b[0m\n",
       "\u001b[36m│\u001b[0m  \u001b[37mID: \u001b[0m\u001b[36m732d354f-04a2-4568-b49e-d81d66243fc4\u001b[0m                                                                       \u001b[36m│\u001b[0m\n",
       "\u001b[36m│\u001b[0m                                                                                                                 \u001b[36m│\u001b[0m\n",
       "\u001b[36m│\u001b[0m                                                                                                                 \u001b[36m│\u001b[0m\n",
       "\u001b[36m╰─────────────────────────────────────────────────────────────────────────────────────────────────────────────────╯\u001b[0m\n"
      ]
     },
     "metadata": {},
     "output_type": "display_data"
    },
    {
     "data": {
      "text/html": [
       "<pre style=\"white-space:pre;overflow-x:auto;line-height:normal;font-family:Menlo,'DejaVu Sans Mono',consolas,'Courier New',monospace\">\n",
       "</pre>\n"
      ],
      "text/plain": [
       "\n"
      ]
     },
     "metadata": {},
     "output_type": "display_data"
    },
    {
     "data": {
      "text/html": [
       "<pre style=\"white-space:pre;overflow-x:auto;line-height:normal;font-family:Menlo,'DejaVu Sans Mono',consolas,'Courier New',monospace\"><span style=\"color: #008080; text-decoration-color: #008080; font-weight: bold\">🚀 Crew: crew</span>\n",
       "└── <span style=\"color: #808000; text-decoration-color: #808000; font-weight: bold\">📋 Task: fd34417a-ccde-4b94-a71d-c15c41e78e24</span>\n",
       "    <span style=\"color: #c0c0c0; text-decoration-color: #c0c0c0\">   Status: </span><span style=\"color: #bfbf7f; text-decoration-color: #bfbf7f\">Executing Task...</span>\n",
       "</pre>\n"
      ],
      "text/plain": [
       "\u001b[1;36m🚀 Crew: \u001b[0m\u001b[1;36mcrew\u001b[0m\n",
       "└── \u001b[1;33m📋 Task: fd34417a-ccde-4b94-a71d-c15c41e78e24\u001b[0m\n",
       "    \u001b[37m   Status: \u001b[0m\u001b[2;33mExecuting Task...\u001b[0m\n"
      ]
     },
     "metadata": {},
     "output_type": "display_data"
    },
    {
     "data": {
      "text/html": [
       "<pre style=\"white-space:pre;overflow-x:auto;line-height:normal;font-family:Menlo,'DejaVu Sans Mono',consolas,'Courier New',monospace\">\n",
       "</pre>\n"
      ],
      "text/plain": [
       "\n"
      ]
     },
     "metadata": {},
     "output_type": "display_data"
    },
    {
     "data": {
      "text/html": [
       "<pre style=\"white-space:pre;overflow-x:auto;line-height:normal;font-family:Menlo,'DejaVu Sans Mono',consolas,'Courier New',monospace\"><span style=\"color: #008080; text-decoration-color: #008080; font-weight: bold\">🚀 Crew: crew</span>\n",
       "└── <span style=\"color: #808000; text-decoration-color: #808000; font-weight: bold\">📋 Task: fd34417a-ccde-4b94-a71d-c15c41e78e24</span>\n",
       "    <span style=\"color: #c0c0c0; text-decoration-color: #c0c0c0\">   Status: </span><span style=\"color: #bfbf7f; text-decoration-color: #bfbf7f\">Executing Task...</span>\n",
       "    └── <span style=\"color: #008000; text-decoration-color: #008000; font-weight: bold\">🤖 Agent: </span><span style=\"color: #008000; text-decoration-color: #008000\">Certification Verification Specialist</span>\n",
       "        <span style=\"color: #c0c0c0; text-decoration-color: #c0c0c0\">    Status: </span><span style=\"color: #008000; text-decoration-color: #008000; font-weight: bold\">In Progress</span>\n",
       "</pre>\n"
      ],
      "text/plain": [
       "\u001b[1;36m🚀 Crew: \u001b[0m\u001b[1;36mcrew\u001b[0m\n",
       "└── \u001b[1;33m📋 Task: fd34417a-ccde-4b94-a71d-c15c41e78e24\u001b[0m\n",
       "    \u001b[37m   Status: \u001b[0m\u001b[2;33mExecuting Task...\u001b[0m\n",
       "    └── \u001b[1;32m🤖 Agent: \u001b[0m\u001b[32mCertification Verification Specialist\u001b[0m\n",
       "        \u001b[37m    Status: \u001b[0m\u001b[1;32mIn Progress\u001b[0m\n"
      ]
     },
     "metadata": {},
     "output_type": "display_data"
    },
    {
     "data": {
      "text/html": [
       "<pre style=\"white-space:pre;overflow-x:auto;line-height:normal;font-family:Menlo,'DejaVu Sans Mono',consolas,'Courier New',monospace\">\n",
       "</pre>\n"
      ],
      "text/plain": [
       "\n"
      ]
     },
     "metadata": {},
     "output_type": "display_data"
    },
    {
     "name": "stdout",
     "output_type": "stream",
     "text": [
      "\u001b[1m\u001b[95m# Agent:\u001b[00m \u001b[1m\u001b[92mCertification Verification Specialist\u001b[00m\n",
      "\u001b[95m## Task:\u001b[00m \u001b[92m\n",
      "        Verify the following certifications claimed by the candidate NANDINI KUPPALA:\n",
      "        [\n",
      "  {\n",
      "    \"name\": \"Artificial Intelligence Course Series (118 hr length)\",\n",
      "    \"provider\": \"Infosys Springboard\",\n",
      "    \"link\": \"https://infyspringboard.onwingspan.com/web/en/app/profile/competency/certificate\"\n",
      "  },\n",
      "  {\n",
      "    \"name\": \"Agile Scrum in Practice\",\n",
      "    \"provider\": \"Infosys Springboard\",\n",
      "    \"link\": \"https://infyspringboard.onwingspan.com/web/en/app/profile/competency/certificate\"\n",
      "  },\n",
      "  {\n",
      "    \"name\": \"Data Structures and Performance\",\n",
      "    \"provider\": \"Coursera\",\n",
      "    \"link\": \"https://coursera.org/share/1d4edbf7bd94d9c9409693f3ed34623e\"\n",
      "  },\n",
      "  {\n",
      "    \"name\": \"Python Basic, Problem Solving Basic\",\n",
      "    \"provider\": \"Hacker Rank\",\n",
      "    \"link\": \"https://www.hackerrank.com/certificates/29cd025a29fc\"\n",
      "  }\n",
      "]\n",
      "\n",
      "        For each certification:\n",
      "        1. If a URL is provided, use the CertificateVerificationTool to:\n",
      "           - Extract text from the certificate using OCR\n",
      "           - Verify if the candidate's name (NANDINI KUPPALA) appears on the certificate\n",
      "           - Detect and decode any QR codes on the certificate\n",
      "           - Determine the issuer and legitimate skills represented by the certificate\n",
      "\n",
      "        2. If no URL is provided, use the SearchTool to:\n",
      "           - Research the certification to validate it exists\n",
      "           - Determine what skills it typically represents\n",
      "           - Identify the typical issuer and their credibility\n",
      "\n",
      "        3. For each verified certification:\n",
      "           - Provide a verification status (verified/unverified)\n",
      "           - Include the confidence level of verification (high/medium/low)\n",
      "           - List the skills demonstrated by the certification\n",
      "           - Note the issuer and their credibility in the industry\n",
      "           - Include issue date and expiration date if available\n",
      "\n",
      "        4. After verifying all certificates, use the SkillMappingTool to map the verified certifications \n",
      "           to specific technical skills with estimated proficiency levels.\n",
      "\n",
      "        Return your findings in a structured JSON format with:\n",
      "        - A \"certifications\" section containing verification details for each certificate\n",
      "        - A \"skills_assessment\" section mapping certificates to technical skills with proficiency ratings (1-10)\n",
      "        - A \"summary\" section with overall assessment of the candidate's certified skills\n",
      "        \u001b[00m\n"
     ]
    },
    {
     "data": {
      "text/html": [
       "<pre style=\"white-space:pre;overflow-x:auto;line-height:normal;font-family:Menlo,'DejaVu Sans Mono',consolas,'Courier New',monospace\"><span style=\"color: #008080; text-decoration-color: #008080; font-weight: bold\">🚀 Crew: crew</span>\n",
       "└── <span style=\"color: #808000; text-decoration-color: #808000; font-weight: bold\">📋 Task: fd34417a-ccde-4b94-a71d-c15c41e78e24</span>\n",
       "    <span style=\"color: #c0c0c0; text-decoration-color: #c0c0c0\">   Status: </span><span style=\"color: #bfbf7f; text-decoration-color: #bfbf7f\">Executing Task...</span>\n",
       "    └── <span style=\"color: #008000; text-decoration-color: #008000; font-weight: bold\">🤖 Agent: </span><span style=\"color: #008000; text-decoration-color: #008000\">Certification Verification Specialist</span>\n",
       "        <span style=\"color: #c0c0c0; text-decoration-color: #c0c0c0\">    Status: </span><span style=\"color: #008000; text-decoration-color: #008000; font-weight: bold\">In Progress</span>\n",
       "        └── <span style=\"color: #000080; text-decoration-color: #000080; font-weight: bold\">🧠 </span><span style=\"color: #000080; text-decoration-color: #000080\">Thinking...</span>\n",
       "</pre>\n"
      ],
      "text/plain": [
       "\u001b[1;36m🚀 Crew: \u001b[0m\u001b[1;36mcrew\u001b[0m\n",
       "└── \u001b[1;33m📋 Task: fd34417a-ccde-4b94-a71d-c15c41e78e24\u001b[0m\n",
       "    \u001b[37m   Status: \u001b[0m\u001b[2;33mExecuting Task...\u001b[0m\n",
       "    └── \u001b[1;32m🤖 Agent: \u001b[0m\u001b[32mCertification Verification Specialist\u001b[0m\n",
       "        \u001b[37m    Status: \u001b[0m\u001b[1;32mIn Progress\u001b[0m\n",
       "        └── \u001b[1;34m🧠 \u001b[0m\u001b[34mThinking...\u001b[0m\n"
      ]
     },
     "metadata": {},
     "output_type": "display_data"
    },
    {
     "data": {
      "text/html": [
       "<pre style=\"white-space:pre;overflow-x:auto;line-height:normal;font-family:Menlo,'DejaVu Sans Mono',consolas,'Courier New',monospace\">\n",
       "</pre>\n"
      ],
      "text/plain": [
       "\n"
      ]
     },
     "metadata": {},
     "output_type": "display_data"
    },
    {
     "data": {
      "text/html": [
       "<pre style=\"white-space:pre;overflow-x:auto;line-height:normal;font-family:Menlo,'DejaVu Sans Mono',consolas,'Courier New',monospace\"><span style=\"color: #008080; text-decoration-color: #008080; font-weight: bold\">🚀 Crew: crew</span>\n",
       "└── <span style=\"color: #808000; text-decoration-color: #808000; font-weight: bold\">📋 Task: fd34417a-ccde-4b94-a71d-c15c41e78e24</span>\n",
       "    <span style=\"color: #c0c0c0; text-decoration-color: #c0c0c0\">   Status: </span><span style=\"color: #bfbf7f; text-decoration-color: #bfbf7f\">Executing Task...</span>\n",
       "    └── <span style=\"color: #008000; text-decoration-color: #008000; font-weight: bold\">🤖 Agent: </span><span style=\"color: #008000; text-decoration-color: #008000\">Certification Verification Specialist</span>\n",
       "        <span style=\"color: #c0c0c0; text-decoration-color: #c0c0c0\">    Status: </span><span style=\"color: #008000; text-decoration-color: #008000; font-weight: bold\">In Progress</span>\n",
       "</pre>\n"
      ],
      "text/plain": [
       "\u001b[1;36m🚀 Crew: \u001b[0m\u001b[1;36mcrew\u001b[0m\n",
       "└── \u001b[1;33m📋 Task: fd34417a-ccde-4b94-a71d-c15c41e78e24\u001b[0m\n",
       "    \u001b[37m   Status: \u001b[0m\u001b[2;33mExecuting Task...\u001b[0m\n",
       "    └── \u001b[1;32m🤖 Agent: \u001b[0m\u001b[32mCertification Verification Specialist\u001b[0m\n",
       "        \u001b[37m    Status: \u001b[0m\u001b[1;32mIn Progress\u001b[0m\n"
      ]
     },
     "metadata": {},
     "output_type": "display_data"
    },
    {
     "data": {
      "text/html": [
       "<pre style=\"white-space:pre;overflow-x:auto;line-height:normal;font-family:Menlo,'DejaVu Sans Mono',consolas,'Courier New',monospace\">\n",
       "</pre>\n"
      ],
      "text/plain": [
       "\n"
      ]
     },
     "metadata": {},
     "output_type": "display_data"
    },
    {
     "data": {
      "text/html": [
       "<pre style=\"white-space:pre;overflow-x:auto;line-height:normal;font-family:Menlo,'DejaVu Sans Mono',consolas,'Courier New',monospace\"><span style=\"color: #008080; text-decoration-color: #008080; font-weight: bold\">🚀 Crew: crew</span>\n",
       "└── <span style=\"color: #808000; text-decoration-color: #808000; font-weight: bold\">📋 Task: fd34417a-ccde-4b94-a71d-c15c41e78e24</span>\n",
       "    <span style=\"color: #c0c0c0; text-decoration-color: #c0c0c0\">   Status: </span><span style=\"color: #bfbf7f; text-decoration-color: #bfbf7f\">Executing Task...</span>\n",
       "    └── <span style=\"color: #008000; text-decoration-color: #008000; font-weight: bold\">🤖 Agent: </span><span style=\"color: #008000; text-decoration-color: #008000\">Certification Verification Specialist</span>\n",
       "        <span style=\"color: #c0c0c0; text-decoration-color: #c0c0c0\">    Status: </span><span style=\"color: #008000; text-decoration-color: #008000; font-weight: bold\">In Progress</span>\n",
       "        └── <span style=\"color: #808000; text-decoration-color: #808000; font-weight: bold\">🔧 </span><span style=\"color: #808000; text-decoration-color: #808000\">Using Certificate Verification Tool (1)</span>\n",
       "</pre>\n"
      ],
      "text/plain": [
       "\u001b[1;36m🚀 Crew: \u001b[0m\u001b[1;36mcrew\u001b[0m\n",
       "└── \u001b[1;33m📋 Task: fd34417a-ccde-4b94-a71d-c15c41e78e24\u001b[0m\n",
       "    \u001b[37m   Status: \u001b[0m\u001b[2;33mExecuting Task...\u001b[0m\n",
       "    └── \u001b[1;32m🤖 Agent: \u001b[0m\u001b[32mCertification Verification Specialist\u001b[0m\n",
       "        \u001b[37m    Status: \u001b[0m\u001b[1;32mIn Progress\u001b[0m\n",
       "        └── \u001b[1;33m🔧 \u001b[0m\u001b[33mUsing Certificate Verification Tool (1)\u001b[0m\n"
      ]
     },
     "metadata": {},
     "output_type": "display_data"
    },
    {
     "data": {
      "text/html": [
       "<pre style=\"white-space:pre;overflow-x:auto;line-height:normal;font-family:Menlo,'DejaVu Sans Mono',consolas,'Courier New',monospace\">\n",
       "</pre>\n"
      ],
      "text/plain": [
       "\n"
      ]
     },
     "metadata": {},
     "output_type": "display_data"
    },
    {
     "data": {
      "text/html": [
       "<pre style=\"white-space:pre;overflow-x:auto;line-height:normal;font-family:Menlo,'DejaVu Sans Mono',consolas,'Courier New',monospace\"><span style=\"color: #008080; text-decoration-color: #008080; font-weight: bold\">🚀 Crew: crew</span>\n",
       "└── <span style=\"color: #808000; text-decoration-color: #808000; font-weight: bold\">📋 Task: fd34417a-ccde-4b94-a71d-c15c41e78e24</span>\n",
       "    <span style=\"color: #c0c0c0; text-decoration-color: #c0c0c0\">   Status: </span><span style=\"color: #bfbf7f; text-decoration-color: #bfbf7f\">Executing Task...</span>\n",
       "    └── <span style=\"color: #008000; text-decoration-color: #008000; font-weight: bold\">🤖 Agent: </span><span style=\"color: #008000; text-decoration-color: #008000\">Certification Verification Specialist</span>\n",
       "        <span style=\"color: #c0c0c0; text-decoration-color: #c0c0c0\">    Status: </span><span style=\"color: #008000; text-decoration-color: #008000; font-weight: bold\">In Progress</span>\n",
       "        └── <span style=\"color: #008000; text-decoration-color: #008000; font-weight: bold\">🔧 </span><span style=\"color: #008000; text-decoration-color: #008000\">Used Certificate Verification Tool (1)</span>\n",
       "</pre>\n"
      ],
      "text/plain": [
       "\u001b[1;36m🚀 Crew: \u001b[0m\u001b[1;36mcrew\u001b[0m\n",
       "└── \u001b[1;33m📋 Task: fd34417a-ccde-4b94-a71d-c15c41e78e24\u001b[0m\n",
       "    \u001b[37m   Status: \u001b[0m\u001b[2;33mExecuting Task...\u001b[0m\n",
       "    └── \u001b[1;32m🤖 Agent: \u001b[0m\u001b[32mCertification Verification Specialist\u001b[0m\n",
       "        \u001b[37m    Status: \u001b[0m\u001b[1;32mIn Progress\u001b[0m\n",
       "        └── \u001b[1;32m🔧 \u001b[0m\u001b[32mUsed Certificate Verification Tool (1)\u001b[0m\n"
      ]
     },
     "metadata": {},
     "output_type": "display_data"
    },
    {
     "data": {
      "text/html": [
       "<pre style=\"white-space:pre;overflow-x:auto;line-height:normal;font-family:Menlo,'DejaVu Sans Mono',consolas,'Courier New',monospace\">\n",
       "</pre>\n"
      ],
      "text/plain": [
       "\n"
      ]
     },
     "metadata": {},
     "output_type": "display_data"
    },
    {
     "name": "stdout",
     "output_type": "stream",
     "text": [
      "\n",
      "\n",
      "\u001b[1m\u001b[95m# Agent:\u001b[00m \u001b[1m\u001b[92mCertification Verification Specialist\u001b[00m\n",
      "\u001b[95m## Thought:\u001b[00m \u001b[92mtool_code\n",
      "Thought:I need to verify each certification using the provided tools.  I'll start with the Certificate Verification Tool for those with URLs, then use the Search Tool for any lacking URLs. Finally, I'll use the Skill Mapping Tool to consolidate the skills.\u001b[00m\n",
      "\u001b[95m## Using tool:\u001b[00m \u001b[92mCertificate Verification Tool\u001b[00m\n",
      "\u001b[95m## Tool Input:\u001b[00m \u001b[92m\n",
      "\"{\\\"certificate_url\\\": \\\"https://infyspringboard.onwingspan.com/web/en/app/profile/competency/certificate\\\"}\"\u001b[00m\n",
      "\u001b[95m## Tool Output:\u001b[00m \u001b[92m\n",
      "{\n",
      "  \"status\": \"failed\",\n",
      "  \"reason\": \"Unsupported content type\",\n",
      "  \"url\": \"https://infyspringboard.onwingspan.com/web/en/app/profile/competency/certificate\"\n",
      "}\u001b[00m\n"
     ]
    },
    {
     "data": {
      "text/html": [
       "<pre style=\"white-space:pre;overflow-x:auto;line-height:normal;font-family:Menlo,'DejaVu Sans Mono',consolas,'Courier New',monospace\"><span style=\"color: #008080; text-decoration-color: #008080; font-weight: bold\">🚀 Crew: crew</span>\n",
       "└── <span style=\"color: #808000; text-decoration-color: #808000; font-weight: bold\">📋 Task: fd34417a-ccde-4b94-a71d-c15c41e78e24</span>\n",
       "    <span style=\"color: #c0c0c0; text-decoration-color: #c0c0c0\">   Status: </span><span style=\"color: #bfbf7f; text-decoration-color: #bfbf7f\">Executing Task...</span>\n",
       "    └── <span style=\"color: #008000; text-decoration-color: #008000; font-weight: bold\">🤖 Agent: </span><span style=\"color: #008000; text-decoration-color: #008000\">Certification Verification Specialist</span>\n",
       "        <span style=\"color: #c0c0c0; text-decoration-color: #c0c0c0\">    Status: </span><span style=\"color: #008000; text-decoration-color: #008000; font-weight: bold\">In Progress</span>\n",
       "        ├── <span style=\"color: #008000; text-decoration-color: #008000; font-weight: bold\">🔧 </span><span style=\"color: #008000; text-decoration-color: #008000\">Used Certificate Verification Tool (1)</span>\n",
       "        └── <span style=\"color: #000080; text-decoration-color: #000080; font-weight: bold\">🧠 </span><span style=\"color: #000080; text-decoration-color: #000080\">Thinking...</span>\n",
       "</pre>\n"
      ],
      "text/plain": [
       "\u001b[1;36m🚀 Crew: \u001b[0m\u001b[1;36mcrew\u001b[0m\n",
       "└── \u001b[1;33m📋 Task: fd34417a-ccde-4b94-a71d-c15c41e78e24\u001b[0m\n",
       "    \u001b[37m   Status: \u001b[0m\u001b[2;33mExecuting Task...\u001b[0m\n",
       "    └── \u001b[1;32m🤖 Agent: \u001b[0m\u001b[32mCertification Verification Specialist\u001b[0m\n",
       "        \u001b[37m    Status: \u001b[0m\u001b[1;32mIn Progress\u001b[0m\n",
       "        ├── \u001b[1;32m🔧 \u001b[0m\u001b[32mUsed Certificate Verification Tool (1)\u001b[0m\n",
       "        └── \u001b[1;34m🧠 \u001b[0m\u001b[34mThinking...\u001b[0m\n"
      ]
     },
     "metadata": {},
     "output_type": "display_data"
    },
    {
     "data": {
      "text/html": [
       "<pre style=\"white-space:pre;overflow-x:auto;line-height:normal;font-family:Menlo,'DejaVu Sans Mono',consolas,'Courier New',monospace\">\n",
       "</pre>\n"
      ],
      "text/plain": [
       "\n"
      ]
     },
     "metadata": {},
     "output_type": "display_data"
    },
    {
     "data": {
      "text/html": [
       "<pre style=\"white-space:pre;overflow-x:auto;line-height:normal;font-family:Menlo,'DejaVu Sans Mono',consolas,'Courier New',monospace\"><span style=\"color: #008080; text-decoration-color: #008080; font-weight: bold\">🚀 Crew: crew</span>\n",
       "└── <span style=\"color: #808000; text-decoration-color: #808000; font-weight: bold\">📋 Task: fd34417a-ccde-4b94-a71d-c15c41e78e24</span>\n",
       "    <span style=\"color: #c0c0c0; text-decoration-color: #c0c0c0\">   Status: </span><span style=\"color: #bfbf7f; text-decoration-color: #bfbf7f\">Executing Task...</span>\n",
       "    └── <span style=\"color: #008000; text-decoration-color: #008000; font-weight: bold\">🤖 Agent: </span><span style=\"color: #008000; text-decoration-color: #008000\">Certification Verification Specialist</span>\n",
       "        <span style=\"color: #c0c0c0; text-decoration-color: #c0c0c0\">    Status: </span><span style=\"color: #008000; text-decoration-color: #008000; font-weight: bold\">In Progress</span>\n",
       "        └── <span style=\"color: #008000; text-decoration-color: #008000; font-weight: bold\">🔧 </span><span style=\"color: #008000; text-decoration-color: #008000\">Used Certificate Verification Tool (1)</span>\n",
       "</pre>\n"
      ],
      "text/plain": [
       "\u001b[1;36m🚀 Crew: \u001b[0m\u001b[1;36mcrew\u001b[0m\n",
       "└── \u001b[1;33m📋 Task: fd34417a-ccde-4b94-a71d-c15c41e78e24\u001b[0m\n",
       "    \u001b[37m   Status: \u001b[0m\u001b[2;33mExecuting Task...\u001b[0m\n",
       "    └── \u001b[1;32m🤖 Agent: \u001b[0m\u001b[32mCertification Verification Specialist\u001b[0m\n",
       "        \u001b[37m    Status: \u001b[0m\u001b[1;32mIn Progress\u001b[0m\n",
       "        └── \u001b[1;32m🔧 \u001b[0m\u001b[32mUsed Certificate Verification Tool (1)\u001b[0m\n"
      ]
     },
     "metadata": {},
     "output_type": "display_data"
    },
    {
     "data": {
      "text/html": [
       "<pre style=\"white-space:pre;overflow-x:auto;line-height:normal;font-family:Menlo,'DejaVu Sans Mono',consolas,'Courier New',monospace\">\n",
       "</pre>\n"
      ],
      "text/plain": [
       "\n"
      ]
     },
     "metadata": {},
     "output_type": "display_data"
    },
    {
     "data": {
      "text/html": [
       "<pre style=\"white-space:pre;overflow-x:auto;line-height:normal;font-family:Menlo,'DejaVu Sans Mono',consolas,'Courier New',monospace\"><span style=\"color: #008080; text-decoration-color: #008080; font-weight: bold\">🚀 Crew: crew</span>\n",
       "└── <span style=\"color: #808000; text-decoration-color: #808000; font-weight: bold\">📋 Task: fd34417a-ccde-4b94-a71d-c15c41e78e24</span>\n",
       "    <span style=\"color: #c0c0c0; text-decoration-color: #c0c0c0\">   Status: </span><span style=\"color: #bfbf7f; text-decoration-color: #bfbf7f\">Executing Task...</span>\n",
       "    └── <span style=\"color: #008000; text-decoration-color: #008000; font-weight: bold\">🤖 Agent: </span><span style=\"color: #008000; text-decoration-color: #008000\">Certification Verification Specialist</span>\n",
       "        <span style=\"color: #c0c0c0; text-decoration-color: #c0c0c0\">    Status: </span><span style=\"color: #008000; text-decoration-color: #008000; font-weight: bold\">In Progress</span>\n",
       "        ├── <span style=\"color: #008000; text-decoration-color: #008000; font-weight: bold\">🔧 </span><span style=\"color: #008000; text-decoration-color: #008000\">Used Certificate Verification Tool (1)</span>\n",
       "        └── <span style=\"color: #808000; text-decoration-color: #808000; font-weight: bold\">🔧 </span><span style=\"color: #808000; text-decoration-color: #808000\">Using Search Tool (4)</span>\n",
       "</pre>\n"
      ],
      "text/plain": [
       "\u001b[1;36m🚀 Crew: \u001b[0m\u001b[1;36mcrew\u001b[0m\n",
       "└── \u001b[1;33m📋 Task: fd34417a-ccde-4b94-a71d-c15c41e78e24\u001b[0m\n",
       "    \u001b[37m   Status: \u001b[0m\u001b[2;33mExecuting Task...\u001b[0m\n",
       "    └── \u001b[1;32m🤖 Agent: \u001b[0m\u001b[32mCertification Verification Specialist\u001b[0m\n",
       "        \u001b[37m    Status: \u001b[0m\u001b[1;32mIn Progress\u001b[0m\n",
       "        ├── \u001b[1;32m🔧 \u001b[0m\u001b[32mUsed Certificate Verification Tool (1)\u001b[0m\n",
       "        └── \u001b[1;33m🔧 \u001b[0m\u001b[33mUsing Search Tool (4)\u001b[0m\n"
      ]
     },
     "metadata": {},
     "output_type": "display_data"
    },
    {
     "data": {
      "text/html": [
       "<pre style=\"white-space:pre;overflow-x:auto;line-height:normal;font-family:Menlo,'DejaVu Sans Mono',consolas,'Courier New',monospace\">\n",
       "</pre>\n"
      ],
      "text/plain": [
       "\n"
      ]
     },
     "metadata": {},
     "output_type": "display_data"
    },
    {
     "data": {
      "text/html": [
       "<pre style=\"white-space:pre;overflow-x:auto;line-height:normal;font-family:Menlo,'DejaVu Sans Mono',consolas,'Courier New',monospace\"><span style=\"color: #008080; text-decoration-color: #008080; font-weight: bold\">🚀 Crew: crew</span>\n",
       "└── <span style=\"color: #808000; text-decoration-color: #808000; font-weight: bold\">📋 Task: fd34417a-ccde-4b94-a71d-c15c41e78e24</span>\n",
       "    <span style=\"color: #c0c0c0; text-decoration-color: #c0c0c0\">   Status: </span><span style=\"color: #bfbf7f; text-decoration-color: #bfbf7f\">Executing Task...</span>\n",
       "    └── <span style=\"color: #008000; text-decoration-color: #008000; font-weight: bold\">🤖 Agent: </span><span style=\"color: #008000; text-decoration-color: #008000\">Certification Verification Specialist</span>\n",
       "        <span style=\"color: #c0c0c0; text-decoration-color: #c0c0c0\">    Status: </span><span style=\"color: #008000; text-decoration-color: #008000; font-weight: bold\">In Progress</span>\n",
       "        ├── <span style=\"color: #008000; text-decoration-color: #008000; font-weight: bold\">🔧 </span><span style=\"color: #008000; text-decoration-color: #008000\">Used Certificate Verification Tool (1)</span>\n",
       "        └── <span style=\"color: #800000; text-decoration-color: #800000; font-weight: bold\">🔧 Failed </span><span style=\"color: #800000; text-decoration-color: #800000\">Search Tool (4)</span>\n",
       "</pre>\n"
      ],
      "text/plain": [
       "\u001b[1;36m🚀 Crew: \u001b[0m\u001b[1;36mcrew\u001b[0m\n",
       "└── \u001b[1;33m📋 Task: fd34417a-ccde-4b94-a71d-c15c41e78e24\u001b[0m\n",
       "    \u001b[37m   Status: \u001b[0m\u001b[2;33mExecuting Task...\u001b[0m\n",
       "    └── \u001b[1;32m🤖 Agent: \u001b[0m\u001b[32mCertification Verification Specialist\u001b[0m\n",
       "        \u001b[37m    Status: \u001b[0m\u001b[1;32mIn Progress\u001b[0m\n",
       "        ├── \u001b[1;32m🔧 \u001b[0m\u001b[32mUsed Certificate Verification Tool (1)\u001b[0m\n",
       "        └── \u001b[1;31m🔧 Failed \u001b[0m\u001b[31mSearch Tool (4)\u001b[0m\n"
      ]
     },
     "metadata": {},
     "output_type": "display_data"
    },
    {
     "data": {
      "text/html": [
       "<pre style=\"white-space:pre;overflow-x:auto;line-height:normal;font-family:Menlo,'DejaVu Sans Mono',consolas,'Courier New',monospace\">\n",
       "</pre>\n"
      ],
      "text/plain": [
       "\n"
      ]
     },
     "metadata": {},
     "output_type": "display_data"
    },
    {
     "data": {
      "text/html": [
       "<pre style=\"white-space:pre;overflow-x:auto;line-height:normal;font-family:Menlo,'DejaVu Sans Mono',consolas,'Courier New',monospace\"><span style=\"color: #800000; text-decoration-color: #800000\">╭────────────────────────────────────────────────── Tool Error ───────────────────────────────────────────────────╮</span>\n",
       "<span style=\"color: #800000; text-decoration-color: #800000\">│</span>                                                                                                                 <span style=\"color: #800000; text-decoration-color: #800000\">│</span>\n",
       "<span style=\"color: #800000; text-decoration-color: #800000\">│</span>  <span style=\"color: #800000; text-decoration-color: #800000; font-weight: bold\">Tool Usage Failed</span>                                                                                              <span style=\"color: #800000; text-decoration-color: #800000\">│</span>\n",
       "<span style=\"color: #800000; text-decoration-color: #800000\">│</span>  <span style=\"color: #c0c0c0; text-decoration-color: #c0c0c0\">Name: </span><span style=\"color: #800000; text-decoration-color: #800000\">Search Tool</span>                                                                                              <span style=\"color: #800000; text-decoration-color: #800000\">│</span>\n",
       "<span style=\"color: #800000; text-decoration-color: #800000\">│</span>  <span style=\"color: #c0c0c0; text-decoration-color: #c0c0c0\">Error: </span><span style=\"color: #800000; text-decoration-color: #800000\">Arguments validation failed: 1 validation error for SearchToolSchema</span>                                    <span style=\"color: #800000; text-decoration-color: #800000\">│</span>\n",
       "<span style=\"color: #800000; text-decoration-color: #800000\">│</span>  <span style=\"color: #800000; text-decoration-color: #800000\">query</span>                                                                                                          <span style=\"color: #800000; text-decoration-color: #800000\">│</span>\n",
       "<span style=\"color: #800000; text-decoration-color: #800000\">│</span>  <span style=\"color: #800000; text-decoration-color: #800000\">  Input should be a valid string [type=string_type, input_value={'description': 'Infosys ... Series', 'type':</span>  <span style=\"color: #800000; text-decoration-color: #800000\">│</span>\n",
       "<span style=\"color: #800000; text-decoration-color: #800000\">│</span>  <span style=\"color: #800000; text-decoration-color: #800000\">'str'}, input_type=dict]</span>                                                                                       <span style=\"color: #800000; text-decoration-color: #800000\">│</span>\n",
       "<span style=\"color: #800000; text-decoration-color: #800000\">│</span>  <span style=\"color: #800000; text-decoration-color: #800000\">    For further information visit https://errors.pydantic.dev/2.10/v/string_type</span>                               <span style=\"color: #800000; text-decoration-color: #800000\">│</span>\n",
       "<span style=\"color: #800000; text-decoration-color: #800000\">│</span>                                                                                                                 <span style=\"color: #800000; text-decoration-color: #800000\">│</span>\n",
       "<span style=\"color: #800000; text-decoration-color: #800000\">│</span>                                                                                                                 <span style=\"color: #800000; text-decoration-color: #800000\">│</span>\n",
       "<span style=\"color: #800000; text-decoration-color: #800000\">╰─────────────────────────────────────────────────────────────────────────────────────────────────────────────────╯</span>\n",
       "</pre>\n"
      ],
      "text/plain": [
       "\u001b[31m╭─\u001b[0m\u001b[31m─────────────────────────────────────────────────\u001b[0m\u001b[31m Tool Error \u001b[0m\u001b[31m──────────────────────────────────────────────────\u001b[0m\u001b[31m─╮\u001b[0m\n",
       "\u001b[31m│\u001b[0m                                                                                                                 \u001b[31m│\u001b[0m\n",
       "\u001b[31m│\u001b[0m  \u001b[1;31mTool Usage Failed\u001b[0m                                                                                              \u001b[31m│\u001b[0m\n",
       "\u001b[31m│\u001b[0m  \u001b[37mName: \u001b[0m\u001b[31mSearch Tool\u001b[0m                                                                                              \u001b[31m│\u001b[0m\n",
       "\u001b[31m│\u001b[0m  \u001b[37mError: \u001b[0m\u001b[31mArguments validation failed: 1 validation error for SearchToolSchema\u001b[0m                                    \u001b[31m│\u001b[0m\n",
       "\u001b[31m│\u001b[0m  \u001b[31mquery\u001b[0m                                                                                                          \u001b[31m│\u001b[0m\n",
       "\u001b[31m│\u001b[0m  \u001b[31m  Input should be a valid string [type=string_type, input_value={'description': 'Infosys ... Series', 'type':\u001b[0m  \u001b[31m│\u001b[0m\n",
       "\u001b[31m│\u001b[0m  \u001b[31m'str'}, input_type=dict]\u001b[0m                                                                                       \u001b[31m│\u001b[0m\n",
       "\u001b[31m│\u001b[0m  \u001b[31m    For further information visit https://errors.pydantic.dev/2.10/v/string_type\u001b[0m                               \u001b[31m│\u001b[0m\n",
       "\u001b[31m│\u001b[0m                                                                                                                 \u001b[31m│\u001b[0m\n",
       "\u001b[31m│\u001b[0m                                                                                                                 \u001b[31m│\u001b[0m\n",
       "\u001b[31m╰─────────────────────────────────────────────────────────────────────────────────────────────────────────────────╯\u001b[0m\n"
      ]
     },
     "metadata": {},
     "output_type": "display_data"
    },
    {
     "data": {
      "text/html": [
       "<pre style=\"white-space:pre;overflow-x:auto;line-height:normal;font-family:Menlo,'DejaVu Sans Mono',consolas,'Courier New',monospace\">\n",
       "</pre>\n"
      ],
      "text/plain": [
       "\n"
      ]
     },
     "metadata": {},
     "output_type": "display_data"
    },
    {
     "data": {
      "text/html": [
       "<pre style=\"white-space:pre;overflow-x:auto;line-height:normal;font-family:Menlo,'DejaVu Sans Mono',consolas,'Courier New',monospace\"><span style=\"color: #008080; text-decoration-color: #008080; font-weight: bold\">🚀 Crew: crew</span>\n",
       "└── <span style=\"color: #808000; text-decoration-color: #808000; font-weight: bold\">📋 Task: fd34417a-ccde-4b94-a71d-c15c41e78e24</span>\n",
       "    <span style=\"color: #c0c0c0; text-decoration-color: #c0c0c0\">   Status: </span><span style=\"color: #bfbf7f; text-decoration-color: #bfbf7f\">Executing Task...</span>\n",
       "    └── <span style=\"color: #008000; text-decoration-color: #008000; font-weight: bold\">🤖 Agent: </span><span style=\"color: #008000; text-decoration-color: #008000\">Certification Verification Specialist</span>\n",
       "        <span style=\"color: #c0c0c0; text-decoration-color: #c0c0c0\">    Status: </span><span style=\"color: #008000; text-decoration-color: #008000; font-weight: bold\">In Progress</span>\n",
       "        ├── <span style=\"color: #008000; text-decoration-color: #008000; font-weight: bold\">🔧 </span><span style=\"color: #008000; text-decoration-color: #008000\">Used Certificate Verification Tool (1)</span>\n",
       "        └── <span style=\"color: #800000; text-decoration-color: #800000; font-weight: bold\">🔧 Failed </span><span style=\"color: #800000; text-decoration-color: #800000\">Search Tool (4)</span>\n",
       "</pre>\n"
      ],
      "text/plain": [
       "\u001b[1;36m🚀 Crew: \u001b[0m\u001b[1;36mcrew\u001b[0m\n",
       "└── \u001b[1;33m📋 Task: fd34417a-ccde-4b94-a71d-c15c41e78e24\u001b[0m\n",
       "    \u001b[37m   Status: \u001b[0m\u001b[2;33mExecuting Task...\u001b[0m\n",
       "    └── \u001b[1;32m🤖 Agent: \u001b[0m\u001b[32mCertification Verification Specialist\u001b[0m\n",
       "        \u001b[37m    Status: \u001b[0m\u001b[1;32mIn Progress\u001b[0m\n",
       "        ├── \u001b[1;32m🔧 \u001b[0m\u001b[32mUsed Certificate Verification Tool (1)\u001b[0m\n",
       "        └── \u001b[1;31m🔧 Failed \u001b[0m\u001b[31mSearch Tool (4)\u001b[0m\n"
      ]
     },
     "metadata": {},
     "output_type": "display_data"
    },
    {
     "data": {
      "text/html": [
       "<pre style=\"white-space:pre;overflow-x:auto;line-height:normal;font-family:Menlo,'DejaVu Sans Mono',consolas,'Courier New',monospace\">\n",
       "</pre>\n"
      ],
      "text/plain": [
       "\n"
      ]
     },
     "metadata": {},
     "output_type": "display_data"
    },
    {
     "data": {
      "text/html": [
       "<pre style=\"white-space:pre;overflow-x:auto;line-height:normal;font-family:Menlo,'DejaVu Sans Mono',consolas,'Courier New',monospace\"><span style=\"color: #800000; text-decoration-color: #800000\">╭────────────────────────────────────────────────── Tool Error ───────────────────────────────────────────────────╮</span>\n",
       "<span style=\"color: #800000; text-decoration-color: #800000\">│</span>                                                                                                                 <span style=\"color: #800000; text-decoration-color: #800000\">│</span>\n",
       "<span style=\"color: #800000; text-decoration-color: #800000\">│</span>  <span style=\"color: #800000; text-decoration-color: #800000; font-weight: bold\">Tool Usage Failed</span>                                                                                              <span style=\"color: #800000; text-decoration-color: #800000\">│</span>\n",
       "<span style=\"color: #800000; text-decoration-color: #800000\">│</span>  <span style=\"color: #c0c0c0; text-decoration-color: #c0c0c0\">Name: </span><span style=\"color: #800000; text-decoration-color: #800000\">Search Tool</span>                                                                                              <span style=\"color: #800000; text-decoration-color: #800000\">│</span>\n",
       "<span style=\"color: #800000; text-decoration-color: #800000\">│</span>  <span style=\"color: #c0c0c0; text-decoration-color: #c0c0c0\">Error: </span><span style=\"color: #800000; text-decoration-color: #800000\">Arguments validation failed: 1 validation error for SearchToolSchema</span>                                    <span style=\"color: #800000; text-decoration-color: #800000\">│</span>\n",
       "<span style=\"color: #800000; text-decoration-color: #800000\">│</span>  <span style=\"color: #800000; text-decoration-color: #800000\">query</span>                                                                                                          <span style=\"color: #800000; text-decoration-color: #800000\">│</span>\n",
       "<span style=\"color: #800000; text-decoration-color: #800000\">│</span>  <span style=\"color: #800000; text-decoration-color: #800000\">  Input should be a valid string [type=string_type, input_value={'description': 'Infosys ... Series', 'type':</span>  <span style=\"color: #800000; text-decoration-color: #800000\">│</span>\n",
       "<span style=\"color: #800000; text-decoration-color: #800000\">│</span>  <span style=\"color: #800000; text-decoration-color: #800000\">'str'}, input_type=dict]</span>                                                                                       <span style=\"color: #800000; text-decoration-color: #800000\">│</span>\n",
       "<span style=\"color: #800000; text-decoration-color: #800000\">│</span>  <span style=\"color: #800000; text-decoration-color: #800000\">    For further information visit https://errors.pydantic.dev/2.10/v/string_type</span>                               <span style=\"color: #800000; text-decoration-color: #800000\">│</span>\n",
       "<span style=\"color: #800000; text-decoration-color: #800000\">│</span>                                                                                                                 <span style=\"color: #800000; text-decoration-color: #800000\">│</span>\n",
       "<span style=\"color: #800000; text-decoration-color: #800000\">│</span>                                                                                                                 <span style=\"color: #800000; text-decoration-color: #800000\">│</span>\n",
       "<span style=\"color: #800000; text-decoration-color: #800000\">╰─────────────────────────────────────────────────────────────────────────────────────────────────────────────────╯</span>\n",
       "</pre>\n"
      ],
      "text/plain": [
       "\u001b[31m╭─\u001b[0m\u001b[31m─────────────────────────────────────────────────\u001b[0m\u001b[31m Tool Error \u001b[0m\u001b[31m──────────────────────────────────────────────────\u001b[0m\u001b[31m─╮\u001b[0m\n",
       "\u001b[31m│\u001b[0m                                                                                                                 \u001b[31m│\u001b[0m\n",
       "\u001b[31m│\u001b[0m  \u001b[1;31mTool Usage Failed\u001b[0m                                                                                              \u001b[31m│\u001b[0m\n",
       "\u001b[31m│\u001b[0m  \u001b[37mName: \u001b[0m\u001b[31mSearch Tool\u001b[0m                                                                                              \u001b[31m│\u001b[0m\n",
       "\u001b[31m│\u001b[0m  \u001b[37mError: \u001b[0m\u001b[31mArguments validation failed: 1 validation error for SearchToolSchema\u001b[0m                                    \u001b[31m│\u001b[0m\n",
       "\u001b[31m│\u001b[0m  \u001b[31mquery\u001b[0m                                                                                                          \u001b[31m│\u001b[0m\n",
       "\u001b[31m│\u001b[0m  \u001b[31m  Input should be a valid string [type=string_type, input_value={'description': 'Infosys ... Series', 'type':\u001b[0m  \u001b[31m│\u001b[0m\n",
       "\u001b[31m│\u001b[0m  \u001b[31m'str'}, input_type=dict]\u001b[0m                                                                                       \u001b[31m│\u001b[0m\n",
       "\u001b[31m│\u001b[0m  \u001b[31m    For further information visit https://errors.pydantic.dev/2.10/v/string_type\u001b[0m                               \u001b[31m│\u001b[0m\n",
       "\u001b[31m│\u001b[0m                                                                                                                 \u001b[31m│\u001b[0m\n",
       "\u001b[31m│\u001b[0m                                                                                                                 \u001b[31m│\u001b[0m\n",
       "\u001b[31m╰─────────────────────────────────────────────────────────────────────────────────────────────────────────────────╯\u001b[0m\n"
      ]
     },
     "metadata": {},
     "output_type": "display_data"
    },
    {
     "data": {
      "text/html": [
       "<pre style=\"white-space:pre;overflow-x:auto;line-height:normal;font-family:Menlo,'DejaVu Sans Mono',consolas,'Courier New',monospace\">\n",
       "</pre>\n"
      ],
      "text/plain": [
       "\n"
      ]
     },
     "metadata": {},
     "output_type": "display_data"
    },
    {
     "data": {
      "text/html": [
       "<pre style=\"white-space:pre;overflow-x:auto;line-height:normal;font-family:Menlo,'DejaVu Sans Mono',consolas,'Courier New',monospace\"><span style=\"color: #008080; text-decoration-color: #008080; font-weight: bold\">🚀 Crew: crew</span>\n",
       "└── <span style=\"color: #808000; text-decoration-color: #808000; font-weight: bold\">📋 Task: fd34417a-ccde-4b94-a71d-c15c41e78e24</span>\n",
       "    <span style=\"color: #c0c0c0; text-decoration-color: #c0c0c0\">   Status: </span><span style=\"color: #bfbf7f; text-decoration-color: #bfbf7f\">Executing Task...</span>\n",
       "    └── <span style=\"color: #008000; text-decoration-color: #008000; font-weight: bold\">🤖 Agent: </span><span style=\"color: #008000; text-decoration-color: #008000\">Certification Verification Specialist</span>\n",
       "        <span style=\"color: #c0c0c0; text-decoration-color: #c0c0c0\">    Status: </span><span style=\"color: #008000; text-decoration-color: #008000; font-weight: bold\">In Progress</span>\n",
       "        ├── <span style=\"color: #008000; text-decoration-color: #008000; font-weight: bold\">🔧 </span><span style=\"color: #008000; text-decoration-color: #008000\">Used Certificate Verification Tool (1)</span>\n",
       "        └── <span style=\"color: #800000; text-decoration-color: #800000; font-weight: bold\">🔧 Failed </span><span style=\"color: #800000; text-decoration-color: #800000\">Search Tool (4)</span>\n",
       "</pre>\n"
      ],
      "text/plain": [
       "\u001b[1;36m🚀 Crew: \u001b[0m\u001b[1;36mcrew\u001b[0m\n",
       "└── \u001b[1;33m📋 Task: fd34417a-ccde-4b94-a71d-c15c41e78e24\u001b[0m\n",
       "    \u001b[37m   Status: \u001b[0m\u001b[2;33mExecuting Task...\u001b[0m\n",
       "    └── \u001b[1;32m🤖 Agent: \u001b[0m\u001b[32mCertification Verification Specialist\u001b[0m\n",
       "        \u001b[37m    Status: \u001b[0m\u001b[1;32mIn Progress\u001b[0m\n",
       "        ├── \u001b[1;32m🔧 \u001b[0m\u001b[32mUsed Certificate Verification Tool (1)\u001b[0m\n",
       "        └── \u001b[1;31m🔧 Failed \u001b[0m\u001b[31mSearch Tool (4)\u001b[0m\n"
      ]
     },
     "metadata": {},
     "output_type": "display_data"
    },
    {
     "data": {
      "text/html": [
       "<pre style=\"white-space:pre;overflow-x:auto;line-height:normal;font-family:Menlo,'DejaVu Sans Mono',consolas,'Courier New',monospace\">\n",
       "</pre>\n"
      ],
      "text/plain": [
       "\n"
      ]
     },
     "metadata": {},
     "output_type": "display_data"
    },
    {
     "data": {
      "text/html": [
       "<pre style=\"white-space:pre;overflow-x:auto;line-height:normal;font-family:Menlo,'DejaVu Sans Mono',consolas,'Courier New',monospace\"><span style=\"color: #800000; text-decoration-color: #800000\">╭────────────────────────────────────────────────── Tool Error ───────────────────────────────────────────────────╮</span>\n",
       "<span style=\"color: #800000; text-decoration-color: #800000\">│</span>                                                                                                                 <span style=\"color: #800000; text-decoration-color: #800000\">│</span>\n",
       "<span style=\"color: #800000; text-decoration-color: #800000\">│</span>  <span style=\"color: #800000; text-decoration-color: #800000; font-weight: bold\">Tool Usage Failed</span>                                                                                              <span style=\"color: #800000; text-decoration-color: #800000\">│</span>\n",
       "<span style=\"color: #800000; text-decoration-color: #800000\">│</span>  <span style=\"color: #c0c0c0; text-decoration-color: #c0c0c0\">Name: </span><span style=\"color: #800000; text-decoration-color: #800000\">Search Tool</span>                                                                                              <span style=\"color: #800000; text-decoration-color: #800000\">│</span>\n",
       "<span style=\"color: #800000; text-decoration-color: #800000\">│</span>  <span style=\"color: #c0c0c0; text-decoration-color: #c0c0c0\">Error: </span><span style=\"color: #800000; text-decoration-color: #800000\">Arguments validation failed: 1 validation error for SearchToolSchema</span>                                    <span style=\"color: #800000; text-decoration-color: #800000\">│</span>\n",
       "<span style=\"color: #800000; text-decoration-color: #800000\">│</span>  <span style=\"color: #800000; text-decoration-color: #800000\">query</span>                                                                                                          <span style=\"color: #800000; text-decoration-color: #800000\">│</span>\n",
       "<span style=\"color: #800000; text-decoration-color: #800000\">│</span>  <span style=\"color: #800000; text-decoration-color: #800000\">  Input should be a valid string [type=string_type, input_value={'description': 'Infosys ... Series', 'type':</span>  <span style=\"color: #800000; text-decoration-color: #800000\">│</span>\n",
       "<span style=\"color: #800000; text-decoration-color: #800000\">│</span>  <span style=\"color: #800000; text-decoration-color: #800000\">'str'}, input_type=dict]</span>                                                                                       <span style=\"color: #800000; text-decoration-color: #800000\">│</span>\n",
       "<span style=\"color: #800000; text-decoration-color: #800000\">│</span>  <span style=\"color: #800000; text-decoration-color: #800000\">    For further information visit https://errors.pydantic.dev/2.10/v/string_type</span>                               <span style=\"color: #800000; text-decoration-color: #800000\">│</span>\n",
       "<span style=\"color: #800000; text-decoration-color: #800000\">│</span>                                                                                                                 <span style=\"color: #800000; text-decoration-color: #800000\">│</span>\n",
       "<span style=\"color: #800000; text-decoration-color: #800000\">│</span>                                                                                                                 <span style=\"color: #800000; text-decoration-color: #800000\">│</span>\n",
       "<span style=\"color: #800000; text-decoration-color: #800000\">╰─────────────────────────────────────────────────────────────────────────────────────────────────────────────────╯</span>\n",
       "</pre>\n"
      ],
      "text/plain": [
       "\u001b[31m╭─\u001b[0m\u001b[31m─────────────────────────────────────────────────\u001b[0m\u001b[31m Tool Error \u001b[0m\u001b[31m──────────────────────────────────────────────────\u001b[0m\u001b[31m─╮\u001b[0m\n",
       "\u001b[31m│\u001b[0m                                                                                                                 \u001b[31m│\u001b[0m\n",
       "\u001b[31m│\u001b[0m  \u001b[1;31mTool Usage Failed\u001b[0m                                                                                              \u001b[31m│\u001b[0m\n",
       "\u001b[31m│\u001b[0m  \u001b[37mName: \u001b[0m\u001b[31mSearch Tool\u001b[0m                                                                                              \u001b[31m│\u001b[0m\n",
       "\u001b[31m│\u001b[0m  \u001b[37mError: \u001b[0m\u001b[31mArguments validation failed: 1 validation error for SearchToolSchema\u001b[0m                                    \u001b[31m│\u001b[0m\n",
       "\u001b[31m│\u001b[0m  \u001b[31mquery\u001b[0m                                                                                                          \u001b[31m│\u001b[0m\n",
       "\u001b[31m│\u001b[0m  \u001b[31m  Input should be a valid string [type=string_type, input_value={'description': 'Infosys ... Series', 'type':\u001b[0m  \u001b[31m│\u001b[0m\n",
       "\u001b[31m│\u001b[0m  \u001b[31m'str'}, input_type=dict]\u001b[0m                                                                                       \u001b[31m│\u001b[0m\n",
       "\u001b[31m│\u001b[0m  \u001b[31m    For further information visit https://errors.pydantic.dev/2.10/v/string_type\u001b[0m                               \u001b[31m│\u001b[0m\n",
       "\u001b[31m│\u001b[0m                                                                                                                 \u001b[31m│\u001b[0m\n",
       "\u001b[31m│\u001b[0m                                                                                                                 \u001b[31m│\u001b[0m\n",
       "\u001b[31m╰─────────────────────────────────────────────────────────────────────────────────────────────────────────────────╯\u001b[0m\n"
      ]
     },
     "metadata": {},
     "output_type": "display_data"
    },
    {
     "data": {
      "text/html": [
       "<pre style=\"white-space:pre;overflow-x:auto;line-height:normal;font-family:Menlo,'DejaVu Sans Mono',consolas,'Courier New',monospace\">\n",
       "</pre>\n"
      ],
      "text/plain": [
       "\n"
      ]
     },
     "metadata": {},
     "output_type": "display_data"
    },
    {
     "name": "stdout",
     "output_type": "stream",
     "text": [
      "\u001b[91m \n",
      "\n",
      "I encountered an error while trying to use the tool. This was the error: Arguments validation failed: 1 validation error for SearchToolSchema\n",
      "query\n",
      "  Input should be a valid string [type=string_type, input_value={'description': 'Infosys ... Series', 'type': 'str'}, input_type=dict]\n",
      "    For further information visit https://errors.pydantic.dev/2.10/v/string_type.\n",
      " Tool Search Tool accepts these inputs: Tool Name: Search Tool\n",
      "Tool Arguments: {'query': {'description': None, 'type': 'str'}}\n",
      "Tool Description: Useful for searching information about technologies, companies, or people online.\n",
      "\u001b[00m\n",
      "\n",
      "\n",
      "\u001b[1m\u001b[95m# Agent:\u001b[00m \u001b[1m\u001b[92mCertification Verification Specialist\u001b[00m\n",
      "\u001b[95m## Thought:\u001b[00m \u001b[92mThought:The Infosys Springboard URLs are generic profile links, not direct certificate links. I'll need to use the Search Tool to verify these.\u001b[00m\n",
      "\u001b[95m## Using tool:\u001b[00m \u001b[92mSearch Tool\u001b[00m\n",
      "\u001b[95m## Tool Input:\u001b[00m \u001b[92m\n",
      "\"{\\\"query\\\": {\\\"description\\\": \\\"Infosys Springboard Artificial Intelligence Course Series\\\", \\\"type\\\": \\\"str\\\"}}\"\u001b[00m\n",
      "\u001b[95m## Tool Output:\u001b[00m \u001b[92m\n",
      "\n",
      "I encountered an error while trying to use the tool. This was the error: Arguments validation failed: 1 validation error for SearchToolSchema\n",
      "query\n",
      "  Input should be a valid string [type=string_type, input_value={'description': 'Infosys ... Series', 'type': 'str'}, input_type=dict]\n",
      "    For further information visit https://errors.pydantic.dev/2.10/v/string_type.\n",
      " Tool Search Tool accepts these inputs: Tool Name: Search Tool\n",
      "Tool Arguments: {'query': {'description': None, 'type': 'str'}}\n",
      "Tool Description: Useful for searching information about technologies, companies, or people online..\n",
      "Moving on then. I MUST either use a tool (use one at time) OR give my best final answer not both at the same time. When responding, I must use the following format:\n",
      "\n",
      "```\n",
      "Thought: you should always think about what to do\n",
      "Action: the action to take, should be one of [Search Tool, Certificate Verification Tool, Skill Mapping Tool]\n",
      "Action Input: the input to the action, dictionary enclosed in curly braces\n",
      "Observation: the result of the action\n",
      "```\n",
      "This Thought/Action/Action Input/Result can repeat N times. Once I know the final answer, I must return the following format:\n",
      "\n",
      "```\n",
      "Thought: I now can give a great answer\n",
      "Final Answer: Your final answer must be the great and the most complete as possible, it must be outcome described\n",
      "\n",
      "```\u001b[00m\n"
     ]
    },
    {
     "data": {
      "text/html": [
       "<pre style=\"white-space:pre;overflow-x:auto;line-height:normal;font-family:Menlo,'DejaVu Sans Mono',consolas,'Courier New',monospace\"><span style=\"color: #008080; text-decoration-color: #008080; font-weight: bold\">🚀 Crew: crew</span>\n",
       "└── <span style=\"color: #808000; text-decoration-color: #808000; font-weight: bold\">📋 Task: fd34417a-ccde-4b94-a71d-c15c41e78e24</span>\n",
       "    <span style=\"color: #c0c0c0; text-decoration-color: #c0c0c0\">   Status: </span><span style=\"color: #bfbf7f; text-decoration-color: #bfbf7f\">Executing Task...</span>\n",
       "    └── <span style=\"color: #008000; text-decoration-color: #008000; font-weight: bold\">🤖 Agent: </span><span style=\"color: #008000; text-decoration-color: #008000\">Certification Verification Specialist</span>\n",
       "        <span style=\"color: #c0c0c0; text-decoration-color: #c0c0c0\">    Status: </span><span style=\"color: #008000; text-decoration-color: #008000; font-weight: bold\">In Progress</span>\n",
       "        ├── <span style=\"color: #008000; text-decoration-color: #008000; font-weight: bold\">🔧 </span><span style=\"color: #008000; text-decoration-color: #008000\">Used Certificate Verification Tool (1)</span>\n",
       "        ├── <span style=\"color: #800000; text-decoration-color: #800000; font-weight: bold\">🔧 Failed </span><span style=\"color: #800000; text-decoration-color: #800000\">Search Tool (4)</span>\n",
       "        └── <span style=\"color: #000080; text-decoration-color: #000080; font-weight: bold\">🧠 </span><span style=\"color: #000080; text-decoration-color: #000080\">Thinking...</span>\n",
       "</pre>\n"
      ],
      "text/plain": [
       "\u001b[1;36m🚀 Crew: \u001b[0m\u001b[1;36mcrew\u001b[0m\n",
       "└── \u001b[1;33m📋 Task: fd34417a-ccde-4b94-a71d-c15c41e78e24\u001b[0m\n",
       "    \u001b[37m   Status: \u001b[0m\u001b[2;33mExecuting Task...\u001b[0m\n",
       "    └── \u001b[1;32m🤖 Agent: \u001b[0m\u001b[32mCertification Verification Specialist\u001b[0m\n",
       "        \u001b[37m    Status: \u001b[0m\u001b[1;32mIn Progress\u001b[0m\n",
       "        ├── \u001b[1;32m🔧 \u001b[0m\u001b[32mUsed Certificate Verification Tool (1)\u001b[0m\n",
       "        ├── \u001b[1;31m🔧 Failed \u001b[0m\u001b[31mSearch Tool (4)\u001b[0m\n",
       "        └── \u001b[1;34m🧠 \u001b[0m\u001b[34mThinking...\u001b[0m\n"
      ]
     },
     "metadata": {},
     "output_type": "display_data"
    },
    {
     "data": {
      "text/html": [
       "<pre style=\"white-space:pre;overflow-x:auto;line-height:normal;font-family:Menlo,'DejaVu Sans Mono',consolas,'Courier New',monospace\">\n",
       "</pre>\n"
      ],
      "text/plain": [
       "\n"
      ]
     },
     "metadata": {},
     "output_type": "display_data"
    },
    {
     "data": {
      "text/html": [
       "<pre style=\"white-space:pre;overflow-x:auto;line-height:normal;font-family:Menlo,'DejaVu Sans Mono',consolas,'Courier New',monospace\"><span style=\"color: #008080; text-decoration-color: #008080; font-weight: bold\">🚀 Crew: crew</span>\n",
       "└── <span style=\"color: #808000; text-decoration-color: #808000; font-weight: bold\">📋 Task: fd34417a-ccde-4b94-a71d-c15c41e78e24</span>\n",
       "    <span style=\"color: #c0c0c0; text-decoration-color: #c0c0c0\">   Status: </span><span style=\"color: #bfbf7f; text-decoration-color: #bfbf7f\">Executing Task...</span>\n",
       "    └── <span style=\"color: #008000; text-decoration-color: #008000; font-weight: bold\">🤖 Agent: </span><span style=\"color: #008000; text-decoration-color: #008000\">Certification Verification Specialist</span>\n",
       "        <span style=\"color: #c0c0c0; text-decoration-color: #c0c0c0\">    Status: </span><span style=\"color: #008000; text-decoration-color: #008000; font-weight: bold\">In Progress</span>\n",
       "        ├── <span style=\"color: #008000; text-decoration-color: #008000; font-weight: bold\">🔧 </span><span style=\"color: #008000; text-decoration-color: #008000\">Used Certificate Verification Tool (1)</span>\n",
       "        └── <span style=\"color: #800000; text-decoration-color: #800000; font-weight: bold\">🔧 Failed </span><span style=\"color: #800000; text-decoration-color: #800000\">Search Tool (4)</span>\n",
       "</pre>\n"
      ],
      "text/plain": [
       "\u001b[1;36m🚀 Crew: \u001b[0m\u001b[1;36mcrew\u001b[0m\n",
       "└── \u001b[1;33m📋 Task: fd34417a-ccde-4b94-a71d-c15c41e78e24\u001b[0m\n",
       "    \u001b[37m   Status: \u001b[0m\u001b[2;33mExecuting Task...\u001b[0m\n",
       "    └── \u001b[1;32m🤖 Agent: \u001b[0m\u001b[32mCertification Verification Specialist\u001b[0m\n",
       "        \u001b[37m    Status: \u001b[0m\u001b[1;32mIn Progress\u001b[0m\n",
       "        ├── \u001b[1;32m🔧 \u001b[0m\u001b[32mUsed Certificate Verification Tool (1)\u001b[0m\n",
       "        └── \u001b[1;31m🔧 Failed \u001b[0m\u001b[31mSearch Tool (4)\u001b[0m\n"
      ]
     },
     "metadata": {},
     "output_type": "display_data"
    },
    {
     "data": {
      "text/html": [
       "<pre style=\"white-space:pre;overflow-x:auto;line-height:normal;font-family:Menlo,'DejaVu Sans Mono',consolas,'Courier New',monospace\">\n",
       "</pre>\n"
      ],
      "text/plain": [
       "\n"
      ]
     },
     "metadata": {},
     "output_type": "display_data"
    },
    {
     "data": {
      "text/html": [
       "<pre style=\"white-space:pre;overflow-x:auto;line-height:normal;font-family:Menlo,'DejaVu Sans Mono',consolas,'Courier New',monospace\"><span style=\"color: #008080; text-decoration-color: #008080; font-weight: bold\">🚀 Crew: crew</span>\n",
       "└── <span style=\"color: #808000; text-decoration-color: #808000; font-weight: bold\">📋 Task: fd34417a-ccde-4b94-a71d-c15c41e78e24</span>\n",
       "    <span style=\"color: #c0c0c0; text-decoration-color: #c0c0c0\">   Status: </span><span style=\"color: #bfbf7f; text-decoration-color: #bfbf7f\">Executing Task...</span>\n",
       "    └── <span style=\"color: #008000; text-decoration-color: #008000; font-weight: bold\">🤖 Agent: </span><span style=\"color: #008000; text-decoration-color: #008000\">Certification Verification Specialist</span>\n",
       "        <span style=\"color: #c0c0c0; text-decoration-color: #c0c0c0\">    Status: </span><span style=\"color: #008000; text-decoration-color: #008000; font-weight: bold\">In Progress</span>\n",
       "        ├── <span style=\"color: #008000; text-decoration-color: #008000; font-weight: bold\">🔧 </span><span style=\"color: #008000; text-decoration-color: #008000\">Used Certificate Verification Tool (1)</span>\n",
       "        └── <span style=\"color: #808000; text-decoration-color: #808000; font-weight: bold\">🔧 </span><span style=\"color: #808000; text-decoration-color: #808000\">Using Search Tool (5)</span>\n",
       "</pre>\n"
      ],
      "text/plain": [
       "\u001b[1;36m🚀 Crew: \u001b[0m\u001b[1;36mcrew\u001b[0m\n",
       "└── \u001b[1;33m📋 Task: fd34417a-ccde-4b94-a71d-c15c41e78e24\u001b[0m\n",
       "    \u001b[37m   Status: \u001b[0m\u001b[2;33mExecuting Task...\u001b[0m\n",
       "    └── \u001b[1;32m🤖 Agent: \u001b[0m\u001b[32mCertification Verification Specialist\u001b[0m\n",
       "        \u001b[37m    Status: \u001b[0m\u001b[1;32mIn Progress\u001b[0m\n",
       "        ├── \u001b[1;32m🔧 \u001b[0m\u001b[32mUsed Certificate Verification Tool (1)\u001b[0m\n",
       "        └── \u001b[1;33m🔧 \u001b[0m\u001b[33mUsing Search Tool (5)\u001b[0m\n"
      ]
     },
     "metadata": {},
     "output_type": "display_data"
    },
    {
     "data": {
      "text/html": [
       "<pre style=\"white-space:pre;overflow-x:auto;line-height:normal;font-family:Menlo,'DejaVu Sans Mono',consolas,'Courier New',monospace\">\n",
       "</pre>\n"
      ],
      "text/plain": [
       "\n"
      ]
     },
     "metadata": {},
     "output_type": "display_data"
    },
    {
     "data": {
      "text/html": [
       "<pre style=\"white-space:pre;overflow-x:auto;line-height:normal;font-family:Menlo,'DejaVu Sans Mono',consolas,'Courier New',monospace\"><span style=\"color: #008080; text-decoration-color: #008080; font-weight: bold\">🚀 Crew: crew</span>\n",
       "└── <span style=\"color: #808000; text-decoration-color: #808000; font-weight: bold\">📋 Task: fd34417a-ccde-4b94-a71d-c15c41e78e24</span>\n",
       "    <span style=\"color: #c0c0c0; text-decoration-color: #c0c0c0\">   Status: </span><span style=\"color: #bfbf7f; text-decoration-color: #bfbf7f\">Executing Task...</span>\n",
       "    └── <span style=\"color: #008000; text-decoration-color: #008000; font-weight: bold\">🤖 Agent: </span><span style=\"color: #008000; text-decoration-color: #008000\">Certification Verification Specialist</span>\n",
       "        <span style=\"color: #c0c0c0; text-decoration-color: #c0c0c0\">    Status: </span><span style=\"color: #008000; text-decoration-color: #008000; font-weight: bold\">In Progress</span>\n",
       "        ├── <span style=\"color: #008000; text-decoration-color: #008000; font-weight: bold\">🔧 </span><span style=\"color: #008000; text-decoration-color: #008000\">Used Certificate Verification Tool (1)</span>\n",
       "        └── <span style=\"color: #800000; text-decoration-color: #800000; font-weight: bold\">🔧 Failed </span><span style=\"color: #800000; text-decoration-color: #800000\">Search Tool (5)</span>\n",
       "</pre>\n"
      ],
      "text/plain": [
       "\u001b[1;36m🚀 Crew: \u001b[0m\u001b[1;36mcrew\u001b[0m\n",
       "└── \u001b[1;33m📋 Task: fd34417a-ccde-4b94-a71d-c15c41e78e24\u001b[0m\n",
       "    \u001b[37m   Status: \u001b[0m\u001b[2;33mExecuting Task...\u001b[0m\n",
       "    └── \u001b[1;32m🤖 Agent: \u001b[0m\u001b[32mCertification Verification Specialist\u001b[0m\n",
       "        \u001b[37m    Status: \u001b[0m\u001b[1;32mIn Progress\u001b[0m\n",
       "        ├── \u001b[1;32m🔧 \u001b[0m\u001b[32mUsed Certificate Verification Tool (1)\u001b[0m\n",
       "        └── \u001b[1;31m🔧 Failed \u001b[0m\u001b[31mSearch Tool (5)\u001b[0m\n"
      ]
     },
     "metadata": {},
     "output_type": "display_data"
    },
    {
     "data": {
      "text/html": [
       "<pre style=\"white-space:pre;overflow-x:auto;line-height:normal;font-family:Menlo,'DejaVu Sans Mono',consolas,'Courier New',monospace\">\n",
       "</pre>\n"
      ],
      "text/plain": [
       "\n"
      ]
     },
     "metadata": {},
     "output_type": "display_data"
    },
    {
     "data": {
      "text/html": [
       "<pre style=\"white-space:pre;overflow-x:auto;line-height:normal;font-family:Menlo,'DejaVu Sans Mono',consolas,'Courier New',monospace\"><span style=\"color: #800000; text-decoration-color: #800000\">╭────────────────────────────────────────────────── Tool Error ───────────────────────────────────────────────────╮</span>\n",
       "<span style=\"color: #800000; text-decoration-color: #800000\">│</span>                                                                                                                 <span style=\"color: #800000; text-decoration-color: #800000\">│</span>\n",
       "<span style=\"color: #800000; text-decoration-color: #800000\">│</span>  <span style=\"color: #800000; text-decoration-color: #800000; font-weight: bold\">Tool Usage Failed</span>                                                                                              <span style=\"color: #800000; text-decoration-color: #800000\">│</span>\n",
       "<span style=\"color: #800000; text-decoration-color: #800000\">│</span>  <span style=\"color: #c0c0c0; text-decoration-color: #c0c0c0\">Name: </span><span style=\"color: #800000; text-decoration-color: #800000\">Search Tool</span>                                                                                              <span style=\"color: #800000; text-decoration-color: #800000\">│</span>\n",
       "<span style=\"color: #800000; text-decoration-color: #800000\">│</span>  <span style=\"color: #c0c0c0; text-decoration-color: #c0c0c0\">Error: </span><span style=\"color: #800000; text-decoration-color: #800000\">Arguments validation failed: 1 validation error for SearchToolSchema</span>                                    <span style=\"color: #800000; text-decoration-color: #800000\">│</span>\n",
       "<span style=\"color: #800000; text-decoration-color: #800000\">│</span>  <span style=\"color: #800000; text-decoration-color: #800000\">query</span>                                                                                                          <span style=\"color: #800000; text-decoration-color: #800000\">│</span>\n",
       "<span style=\"color: #800000; text-decoration-color: #800000\">│</span>  <span style=\"color: #800000; text-decoration-color: #800000\">  Input should be a valid string [type=string_type, input_value={'description': 'Infosys ... Series', 'type':</span>  <span style=\"color: #800000; text-decoration-color: #800000\">│</span>\n",
       "<span style=\"color: #800000; text-decoration-color: #800000\">│</span>  <span style=\"color: #800000; text-decoration-color: #800000\">'str'}, input_type=dict]</span>                                                                                       <span style=\"color: #800000; text-decoration-color: #800000\">│</span>\n",
       "<span style=\"color: #800000; text-decoration-color: #800000\">│</span>  <span style=\"color: #800000; text-decoration-color: #800000\">    For further information visit https://errors.pydantic.dev/2.10/v/string_type</span>                               <span style=\"color: #800000; text-decoration-color: #800000\">│</span>\n",
       "<span style=\"color: #800000; text-decoration-color: #800000\">│</span>                                                                                                                 <span style=\"color: #800000; text-decoration-color: #800000\">│</span>\n",
       "<span style=\"color: #800000; text-decoration-color: #800000\">│</span>                                                                                                                 <span style=\"color: #800000; text-decoration-color: #800000\">│</span>\n",
       "<span style=\"color: #800000; text-decoration-color: #800000\">╰─────────────────────────────────────────────────────────────────────────────────────────────────────────────────╯</span>\n",
       "</pre>\n"
      ],
      "text/plain": [
       "\u001b[31m╭─\u001b[0m\u001b[31m─────────────────────────────────────────────────\u001b[0m\u001b[31m Tool Error \u001b[0m\u001b[31m──────────────────────────────────────────────────\u001b[0m\u001b[31m─╮\u001b[0m\n",
       "\u001b[31m│\u001b[0m                                                                                                                 \u001b[31m│\u001b[0m\n",
       "\u001b[31m│\u001b[0m  \u001b[1;31mTool Usage Failed\u001b[0m                                                                                              \u001b[31m│\u001b[0m\n",
       "\u001b[31m│\u001b[0m  \u001b[37mName: \u001b[0m\u001b[31mSearch Tool\u001b[0m                                                                                              \u001b[31m│\u001b[0m\n",
       "\u001b[31m│\u001b[0m  \u001b[37mError: \u001b[0m\u001b[31mArguments validation failed: 1 validation error for SearchToolSchema\u001b[0m                                    \u001b[31m│\u001b[0m\n",
       "\u001b[31m│\u001b[0m  \u001b[31mquery\u001b[0m                                                                                                          \u001b[31m│\u001b[0m\n",
       "\u001b[31m│\u001b[0m  \u001b[31m  Input should be a valid string [type=string_type, input_value={'description': 'Infosys ... Series', 'type':\u001b[0m  \u001b[31m│\u001b[0m\n",
       "\u001b[31m│\u001b[0m  \u001b[31m'str'}, input_type=dict]\u001b[0m                                                                                       \u001b[31m│\u001b[0m\n",
       "\u001b[31m│\u001b[0m  \u001b[31m    For further information visit https://errors.pydantic.dev/2.10/v/string_type\u001b[0m                               \u001b[31m│\u001b[0m\n",
       "\u001b[31m│\u001b[0m                                                                                                                 \u001b[31m│\u001b[0m\n",
       "\u001b[31m│\u001b[0m                                                                                                                 \u001b[31m│\u001b[0m\n",
       "\u001b[31m╰─────────────────────────────────────────────────────────────────────────────────────────────────────────────────╯\u001b[0m\n"
      ]
     },
     "metadata": {},
     "output_type": "display_data"
    },
    {
     "data": {
      "text/html": [
       "<pre style=\"white-space:pre;overflow-x:auto;line-height:normal;font-family:Menlo,'DejaVu Sans Mono',consolas,'Courier New',monospace\">\n",
       "</pre>\n"
      ],
      "text/plain": [
       "\n"
      ]
     },
     "metadata": {},
     "output_type": "display_data"
    },
    {
     "data": {
      "text/html": [
       "<pre style=\"white-space:pre;overflow-x:auto;line-height:normal;font-family:Menlo,'DejaVu Sans Mono',consolas,'Courier New',monospace\"><span style=\"color: #008080; text-decoration-color: #008080; font-weight: bold\">🚀 Crew: crew</span>\n",
       "└── <span style=\"color: #808000; text-decoration-color: #808000; font-weight: bold\">📋 Task: fd34417a-ccde-4b94-a71d-c15c41e78e24</span>\n",
       "    <span style=\"color: #c0c0c0; text-decoration-color: #c0c0c0\">   Status: </span><span style=\"color: #bfbf7f; text-decoration-color: #bfbf7f\">Executing Task...</span>\n",
       "    └── <span style=\"color: #008000; text-decoration-color: #008000; font-weight: bold\">🤖 Agent: </span><span style=\"color: #008000; text-decoration-color: #008000\">Certification Verification Specialist</span>\n",
       "        <span style=\"color: #c0c0c0; text-decoration-color: #c0c0c0\">    Status: </span><span style=\"color: #008000; text-decoration-color: #008000; font-weight: bold\">In Progress</span>\n",
       "        ├── <span style=\"color: #008000; text-decoration-color: #008000; font-weight: bold\">🔧 </span><span style=\"color: #008000; text-decoration-color: #008000\">Used Certificate Verification Tool (1)</span>\n",
       "        └── <span style=\"color: #800000; text-decoration-color: #800000; font-weight: bold\">🔧 Failed </span><span style=\"color: #800000; text-decoration-color: #800000\">Search Tool (5)</span>\n",
       "</pre>\n"
      ],
      "text/plain": [
       "\u001b[1;36m🚀 Crew: \u001b[0m\u001b[1;36mcrew\u001b[0m\n",
       "└── \u001b[1;33m📋 Task: fd34417a-ccde-4b94-a71d-c15c41e78e24\u001b[0m\n",
       "    \u001b[37m   Status: \u001b[0m\u001b[2;33mExecuting Task...\u001b[0m\n",
       "    └── \u001b[1;32m🤖 Agent: \u001b[0m\u001b[32mCertification Verification Specialist\u001b[0m\n",
       "        \u001b[37m    Status: \u001b[0m\u001b[1;32mIn Progress\u001b[0m\n",
       "        ├── \u001b[1;32m🔧 \u001b[0m\u001b[32mUsed Certificate Verification Tool (1)\u001b[0m\n",
       "        └── \u001b[1;31m🔧 Failed \u001b[0m\u001b[31mSearch Tool (5)\u001b[0m\n"
      ]
     },
     "metadata": {},
     "output_type": "display_data"
    },
    {
     "data": {
      "text/html": [
       "<pre style=\"white-space:pre;overflow-x:auto;line-height:normal;font-family:Menlo,'DejaVu Sans Mono',consolas,'Courier New',monospace\">\n",
       "</pre>\n"
      ],
      "text/plain": [
       "\n"
      ]
     },
     "metadata": {},
     "output_type": "display_data"
    },
    {
     "data": {
      "text/html": [
       "<pre style=\"white-space:pre;overflow-x:auto;line-height:normal;font-family:Menlo,'DejaVu Sans Mono',consolas,'Courier New',monospace\"><span style=\"color: #800000; text-decoration-color: #800000\">╭────────────────────────────────────────────────── Tool Error ───────────────────────────────────────────────────╮</span>\n",
       "<span style=\"color: #800000; text-decoration-color: #800000\">│</span>                                                                                                                 <span style=\"color: #800000; text-decoration-color: #800000\">│</span>\n",
       "<span style=\"color: #800000; text-decoration-color: #800000\">│</span>  <span style=\"color: #800000; text-decoration-color: #800000; font-weight: bold\">Tool Usage Failed</span>                                                                                              <span style=\"color: #800000; text-decoration-color: #800000\">│</span>\n",
       "<span style=\"color: #800000; text-decoration-color: #800000\">│</span>  <span style=\"color: #c0c0c0; text-decoration-color: #c0c0c0\">Name: </span><span style=\"color: #800000; text-decoration-color: #800000\">Search Tool</span>                                                                                              <span style=\"color: #800000; text-decoration-color: #800000\">│</span>\n",
       "<span style=\"color: #800000; text-decoration-color: #800000\">│</span>  <span style=\"color: #c0c0c0; text-decoration-color: #c0c0c0\">Error: </span><span style=\"color: #800000; text-decoration-color: #800000\">Arguments validation failed: 1 validation error for SearchToolSchema</span>                                    <span style=\"color: #800000; text-decoration-color: #800000\">│</span>\n",
       "<span style=\"color: #800000; text-decoration-color: #800000\">│</span>  <span style=\"color: #800000; text-decoration-color: #800000\">query</span>                                                                                                          <span style=\"color: #800000; text-decoration-color: #800000\">│</span>\n",
       "<span style=\"color: #800000; text-decoration-color: #800000\">│</span>  <span style=\"color: #800000; text-decoration-color: #800000\">  Input should be a valid string [type=string_type, input_value={'description': 'Infosys ... Series', 'type':</span>  <span style=\"color: #800000; text-decoration-color: #800000\">│</span>\n",
       "<span style=\"color: #800000; text-decoration-color: #800000\">│</span>  <span style=\"color: #800000; text-decoration-color: #800000\">'str'}, input_type=dict]</span>                                                                                       <span style=\"color: #800000; text-decoration-color: #800000\">│</span>\n",
       "<span style=\"color: #800000; text-decoration-color: #800000\">│</span>  <span style=\"color: #800000; text-decoration-color: #800000\">    For further information visit https://errors.pydantic.dev/2.10/v/string_type</span>                               <span style=\"color: #800000; text-decoration-color: #800000\">│</span>\n",
       "<span style=\"color: #800000; text-decoration-color: #800000\">│</span>                                                                                                                 <span style=\"color: #800000; text-decoration-color: #800000\">│</span>\n",
       "<span style=\"color: #800000; text-decoration-color: #800000\">│</span>                                                                                                                 <span style=\"color: #800000; text-decoration-color: #800000\">│</span>\n",
       "<span style=\"color: #800000; text-decoration-color: #800000\">╰─────────────────────────────────────────────────────────────────────────────────────────────────────────────────╯</span>\n",
       "</pre>\n"
      ],
      "text/plain": [
       "\u001b[31m╭─\u001b[0m\u001b[31m─────────────────────────────────────────────────\u001b[0m\u001b[31m Tool Error \u001b[0m\u001b[31m──────────────────────────────────────────────────\u001b[0m\u001b[31m─╮\u001b[0m\n",
       "\u001b[31m│\u001b[0m                                                                                                                 \u001b[31m│\u001b[0m\n",
       "\u001b[31m│\u001b[0m  \u001b[1;31mTool Usage Failed\u001b[0m                                                                                              \u001b[31m│\u001b[0m\n",
       "\u001b[31m│\u001b[0m  \u001b[37mName: \u001b[0m\u001b[31mSearch Tool\u001b[0m                                                                                              \u001b[31m│\u001b[0m\n",
       "\u001b[31m│\u001b[0m  \u001b[37mError: \u001b[0m\u001b[31mArguments validation failed: 1 validation error for SearchToolSchema\u001b[0m                                    \u001b[31m│\u001b[0m\n",
       "\u001b[31m│\u001b[0m  \u001b[31mquery\u001b[0m                                                                                                          \u001b[31m│\u001b[0m\n",
       "\u001b[31m│\u001b[0m  \u001b[31m  Input should be a valid string [type=string_type, input_value={'description': 'Infosys ... Series', 'type':\u001b[0m  \u001b[31m│\u001b[0m\n",
       "\u001b[31m│\u001b[0m  \u001b[31m'str'}, input_type=dict]\u001b[0m                                                                                       \u001b[31m│\u001b[0m\n",
       "\u001b[31m│\u001b[0m  \u001b[31m    For further information visit https://errors.pydantic.dev/2.10/v/string_type\u001b[0m                               \u001b[31m│\u001b[0m\n",
       "\u001b[31m│\u001b[0m                                                                                                                 \u001b[31m│\u001b[0m\n",
       "\u001b[31m│\u001b[0m                                                                                                                 \u001b[31m│\u001b[0m\n",
       "\u001b[31m╰─────────────────────────────────────────────────────────────────────────────────────────────────────────────────╯\u001b[0m\n"
      ]
     },
     "metadata": {},
     "output_type": "display_data"
    },
    {
     "data": {
      "text/html": [
       "<pre style=\"white-space:pre;overflow-x:auto;line-height:normal;font-family:Menlo,'DejaVu Sans Mono',consolas,'Courier New',monospace\">\n",
       "</pre>\n"
      ],
      "text/plain": [
       "\n"
      ]
     },
     "metadata": {},
     "output_type": "display_data"
    },
    {
     "data": {
      "text/html": [
       "<pre style=\"white-space:pre;overflow-x:auto;line-height:normal;font-family:Menlo,'DejaVu Sans Mono',consolas,'Courier New',monospace\"><span style=\"color: #008080; text-decoration-color: #008080; font-weight: bold\">🚀 Crew: crew</span>\n",
       "└── <span style=\"color: #808000; text-decoration-color: #808000; font-weight: bold\">📋 Task: fd34417a-ccde-4b94-a71d-c15c41e78e24</span>\n",
       "    <span style=\"color: #c0c0c0; text-decoration-color: #c0c0c0\">   Status: </span><span style=\"color: #bfbf7f; text-decoration-color: #bfbf7f\">Executing Task...</span>\n",
       "    └── <span style=\"color: #008000; text-decoration-color: #008000; font-weight: bold\">🤖 Agent: </span><span style=\"color: #008000; text-decoration-color: #008000\">Certification Verification Specialist</span>\n",
       "        <span style=\"color: #c0c0c0; text-decoration-color: #c0c0c0\">    Status: </span><span style=\"color: #008000; text-decoration-color: #008000; font-weight: bold\">In Progress</span>\n",
       "        ├── <span style=\"color: #008000; text-decoration-color: #008000; font-weight: bold\">🔧 </span><span style=\"color: #008000; text-decoration-color: #008000\">Used Certificate Verification Tool (1)</span>\n",
       "        └── <span style=\"color: #800000; text-decoration-color: #800000; font-weight: bold\">🔧 Failed </span><span style=\"color: #800000; text-decoration-color: #800000\">Search Tool (5)</span>\n",
       "</pre>\n"
      ],
      "text/plain": [
       "\u001b[1;36m🚀 Crew: \u001b[0m\u001b[1;36mcrew\u001b[0m\n",
       "└── \u001b[1;33m📋 Task: fd34417a-ccde-4b94-a71d-c15c41e78e24\u001b[0m\n",
       "    \u001b[37m   Status: \u001b[0m\u001b[2;33mExecuting Task...\u001b[0m\n",
       "    └── \u001b[1;32m🤖 Agent: \u001b[0m\u001b[32mCertification Verification Specialist\u001b[0m\n",
       "        \u001b[37m    Status: \u001b[0m\u001b[1;32mIn Progress\u001b[0m\n",
       "        ├── \u001b[1;32m🔧 \u001b[0m\u001b[32mUsed Certificate Verification Tool (1)\u001b[0m\n",
       "        └── \u001b[1;31m🔧 Failed \u001b[0m\u001b[31mSearch Tool (5)\u001b[0m\n"
      ]
     },
     "metadata": {},
     "output_type": "display_data"
    },
    {
     "data": {
      "text/html": [
       "<pre style=\"white-space:pre;overflow-x:auto;line-height:normal;font-family:Menlo,'DejaVu Sans Mono',consolas,'Courier New',monospace\">\n",
       "</pre>\n"
      ],
      "text/plain": [
       "\n"
      ]
     },
     "metadata": {},
     "output_type": "display_data"
    },
    {
     "data": {
      "text/html": [
       "<pre style=\"white-space:pre;overflow-x:auto;line-height:normal;font-family:Menlo,'DejaVu Sans Mono',consolas,'Courier New',monospace\"><span style=\"color: #800000; text-decoration-color: #800000\">╭────────────────────────────────────────────────── Tool Error ───────────────────────────────────────────────────╮</span>\n",
       "<span style=\"color: #800000; text-decoration-color: #800000\">│</span>                                                                                                                 <span style=\"color: #800000; text-decoration-color: #800000\">│</span>\n",
       "<span style=\"color: #800000; text-decoration-color: #800000\">│</span>  <span style=\"color: #800000; text-decoration-color: #800000; font-weight: bold\">Tool Usage Failed</span>                                                                                              <span style=\"color: #800000; text-decoration-color: #800000\">│</span>\n",
       "<span style=\"color: #800000; text-decoration-color: #800000\">│</span>  <span style=\"color: #c0c0c0; text-decoration-color: #c0c0c0\">Name: </span><span style=\"color: #800000; text-decoration-color: #800000\">Search Tool</span>                                                                                              <span style=\"color: #800000; text-decoration-color: #800000\">│</span>\n",
       "<span style=\"color: #800000; text-decoration-color: #800000\">│</span>  <span style=\"color: #c0c0c0; text-decoration-color: #c0c0c0\">Error: </span><span style=\"color: #800000; text-decoration-color: #800000\">Arguments validation failed: 1 validation error for SearchToolSchema</span>                                    <span style=\"color: #800000; text-decoration-color: #800000\">│</span>\n",
       "<span style=\"color: #800000; text-decoration-color: #800000\">│</span>  <span style=\"color: #800000; text-decoration-color: #800000\">query</span>                                                                                                          <span style=\"color: #800000; text-decoration-color: #800000\">│</span>\n",
       "<span style=\"color: #800000; text-decoration-color: #800000\">│</span>  <span style=\"color: #800000; text-decoration-color: #800000\">  Input should be a valid string [type=string_type, input_value={'description': 'Infosys ... Series', 'type':</span>  <span style=\"color: #800000; text-decoration-color: #800000\">│</span>\n",
       "<span style=\"color: #800000; text-decoration-color: #800000\">│</span>  <span style=\"color: #800000; text-decoration-color: #800000\">'str'}, input_type=dict]</span>                                                                                       <span style=\"color: #800000; text-decoration-color: #800000\">│</span>\n",
       "<span style=\"color: #800000; text-decoration-color: #800000\">│</span>  <span style=\"color: #800000; text-decoration-color: #800000\">    For further information visit https://errors.pydantic.dev/2.10/v/string_type</span>                               <span style=\"color: #800000; text-decoration-color: #800000\">│</span>\n",
       "<span style=\"color: #800000; text-decoration-color: #800000\">│</span>                                                                                                                 <span style=\"color: #800000; text-decoration-color: #800000\">│</span>\n",
       "<span style=\"color: #800000; text-decoration-color: #800000\">│</span>                                                                                                                 <span style=\"color: #800000; text-decoration-color: #800000\">│</span>\n",
       "<span style=\"color: #800000; text-decoration-color: #800000\">╰─────────────────────────────────────────────────────────────────────────────────────────────────────────────────╯</span>\n",
       "</pre>\n"
      ],
      "text/plain": [
       "\u001b[31m╭─\u001b[0m\u001b[31m─────────────────────────────────────────────────\u001b[0m\u001b[31m Tool Error \u001b[0m\u001b[31m──────────────────────────────────────────────────\u001b[0m\u001b[31m─╮\u001b[0m\n",
       "\u001b[31m│\u001b[0m                                                                                                                 \u001b[31m│\u001b[0m\n",
       "\u001b[31m│\u001b[0m  \u001b[1;31mTool Usage Failed\u001b[0m                                                                                              \u001b[31m│\u001b[0m\n",
       "\u001b[31m│\u001b[0m  \u001b[37mName: \u001b[0m\u001b[31mSearch Tool\u001b[0m                                                                                              \u001b[31m│\u001b[0m\n",
       "\u001b[31m│\u001b[0m  \u001b[37mError: \u001b[0m\u001b[31mArguments validation failed: 1 validation error for SearchToolSchema\u001b[0m                                    \u001b[31m│\u001b[0m\n",
       "\u001b[31m│\u001b[0m  \u001b[31mquery\u001b[0m                                                                                                          \u001b[31m│\u001b[0m\n",
       "\u001b[31m│\u001b[0m  \u001b[31m  Input should be a valid string [type=string_type, input_value={'description': 'Infosys ... Series', 'type':\u001b[0m  \u001b[31m│\u001b[0m\n",
       "\u001b[31m│\u001b[0m  \u001b[31m'str'}, input_type=dict]\u001b[0m                                                                                       \u001b[31m│\u001b[0m\n",
       "\u001b[31m│\u001b[0m  \u001b[31m    For further information visit https://errors.pydantic.dev/2.10/v/string_type\u001b[0m                               \u001b[31m│\u001b[0m\n",
       "\u001b[31m│\u001b[0m                                                                                                                 \u001b[31m│\u001b[0m\n",
       "\u001b[31m│\u001b[0m                                                                                                                 \u001b[31m│\u001b[0m\n",
       "\u001b[31m╰─────────────────────────────────────────────────────────────────────────────────────────────────────────────────╯\u001b[0m\n"
      ]
     },
     "metadata": {},
     "output_type": "display_data"
    },
    {
     "data": {
      "text/html": [
       "<pre style=\"white-space:pre;overflow-x:auto;line-height:normal;font-family:Menlo,'DejaVu Sans Mono',consolas,'Courier New',monospace\">\n",
       "</pre>\n"
      ],
      "text/plain": [
       "\n"
      ]
     },
     "metadata": {},
     "output_type": "display_data"
    },
    {
     "name": "stdout",
     "output_type": "stream",
     "text": [
      "\u001b[91m \n",
      "\n",
      "I encountered an error while trying to use the tool. This was the error: Arguments validation failed: 1 validation error for SearchToolSchema\n",
      "query\n",
      "  Input should be a valid string [type=string_type, input_value={'description': 'Infosys ... Series', 'type': 'str'}, input_type=dict]\n",
      "    For further information visit https://errors.pydantic.dev/2.10/v/string_type.\n",
      " Tool Search Tool accepts these inputs: Tool Name: Search Tool\n",
      "Tool Arguments: {'query': {'description': None, 'type': 'str'}}\n",
      "Tool Description: Useful for searching information about technologies, companies, or people online.\n",
      "\u001b[00m\n",
      "\n",
      "\n",
      "\u001b[1m\u001b[95m# Agent:\u001b[00m \u001b[1m\u001b[92mCertification Verification Specialist\u001b[00m\n",
      "\u001b[95m## Thought:\u001b[00m \u001b[92mThought:I'll use the Search Tool to investigate the Infosys Springboard certifications and the Coursera and HackerRank certificates.\u001b[00m\n",
      "\u001b[95m## Using tool:\u001b[00m \u001b[92mSearch Tool\u001b[00m\n",
      "\u001b[95m## Tool Input:\u001b[00m \u001b[92m\n",
      "\"{\\\"query\\\": {\\\"description\\\": \\\"Infosys Springboard Artificial Intelligence Course Series\\\", \\\"type\\\": \\\"str\\\"}}\"\u001b[00m\n",
      "\u001b[95m## Tool Output:\u001b[00m \u001b[92m\n",
      "\n",
      "I encountered an error while trying to use the tool. This was the error: Arguments validation failed: 1 validation error for SearchToolSchema\n",
      "query\n",
      "  Input should be a valid string [type=string_type, input_value={'description': 'Infosys ... Series', 'type': 'str'}, input_type=dict]\n",
      "    For further information visit https://errors.pydantic.dev/2.10/v/string_type.\n",
      " Tool Search Tool accepts these inputs: Tool Name: Search Tool\n",
      "Tool Arguments: {'query': {'description': None, 'type': 'str'}}\n",
      "Tool Description: Useful for searching information about technologies, companies, or people online..\n",
      "Moving on then. I MUST either use a tool (use one at time) OR give my best final answer not both at the same time. When responding, I must use the following format:\n",
      "\n",
      "```\n",
      "Thought: you should always think about what to do\n",
      "Action: the action to take, should be one of [Search Tool, Certificate Verification Tool, Skill Mapping Tool]\n",
      "Action Input: the input to the action, dictionary enclosed in curly braces\n",
      "Observation: the result of the action\n",
      "```\n",
      "This Thought/Action/Action Input/Result can repeat N times. Once I know the final answer, I must return the following format:\n",
      "\n",
      "```\n",
      "Thought: I now can give a great answer\n",
      "Final Answer: Your final answer must be the great and the most complete as possible, it must be outcome described\n",
      "\n",
      "```\u001b[00m\n"
     ]
    },
    {
     "data": {
      "text/html": [
       "<pre style=\"white-space:pre;overflow-x:auto;line-height:normal;font-family:Menlo,'DejaVu Sans Mono',consolas,'Courier New',monospace\"><span style=\"color: #008080; text-decoration-color: #008080; font-weight: bold\">🚀 Crew: crew</span>\n",
       "└── <span style=\"color: #808000; text-decoration-color: #808000; font-weight: bold\">📋 Task: fd34417a-ccde-4b94-a71d-c15c41e78e24</span>\n",
       "    <span style=\"color: #c0c0c0; text-decoration-color: #c0c0c0\">   Status: </span><span style=\"color: #bfbf7f; text-decoration-color: #bfbf7f\">Executing Task...</span>\n",
       "    └── <span style=\"color: #008000; text-decoration-color: #008000; font-weight: bold\">🤖 Agent: </span><span style=\"color: #008000; text-decoration-color: #008000\">Certification Verification Specialist</span>\n",
       "        <span style=\"color: #c0c0c0; text-decoration-color: #c0c0c0\">    Status: </span><span style=\"color: #008000; text-decoration-color: #008000; font-weight: bold\">In Progress</span>\n",
       "        ├── <span style=\"color: #008000; text-decoration-color: #008000; font-weight: bold\">🔧 </span><span style=\"color: #008000; text-decoration-color: #008000\">Used Certificate Verification Tool (1)</span>\n",
       "        ├── <span style=\"color: #800000; text-decoration-color: #800000; font-weight: bold\">🔧 Failed </span><span style=\"color: #800000; text-decoration-color: #800000\">Search Tool (5)</span>\n",
       "        └── <span style=\"color: #000080; text-decoration-color: #000080; font-weight: bold\">🧠 </span><span style=\"color: #000080; text-decoration-color: #000080\">Thinking...</span>\n",
       "</pre>\n"
      ],
      "text/plain": [
       "\u001b[1;36m🚀 Crew: \u001b[0m\u001b[1;36mcrew\u001b[0m\n",
       "└── \u001b[1;33m📋 Task: fd34417a-ccde-4b94-a71d-c15c41e78e24\u001b[0m\n",
       "    \u001b[37m   Status: \u001b[0m\u001b[2;33mExecuting Task...\u001b[0m\n",
       "    └── \u001b[1;32m🤖 Agent: \u001b[0m\u001b[32mCertification Verification Specialist\u001b[0m\n",
       "        \u001b[37m    Status: \u001b[0m\u001b[1;32mIn Progress\u001b[0m\n",
       "        ├── \u001b[1;32m🔧 \u001b[0m\u001b[32mUsed Certificate Verification Tool (1)\u001b[0m\n",
       "        ├── \u001b[1;31m🔧 Failed \u001b[0m\u001b[31mSearch Tool (5)\u001b[0m\n",
       "        └── \u001b[1;34m🧠 \u001b[0m\u001b[34mThinking...\u001b[0m\n"
      ]
     },
     "metadata": {},
     "output_type": "display_data"
    },
    {
     "data": {
      "text/html": [
       "<pre style=\"white-space:pre;overflow-x:auto;line-height:normal;font-family:Menlo,'DejaVu Sans Mono',consolas,'Courier New',monospace\">\n",
       "</pre>\n"
      ],
      "text/plain": [
       "\n"
      ]
     },
     "metadata": {},
     "output_type": "display_data"
    },
    {
     "data": {
      "text/html": [
       "<pre style=\"white-space:pre;overflow-x:auto;line-height:normal;font-family:Menlo,'DejaVu Sans Mono',consolas,'Courier New',monospace\"><span style=\"color: #008080; text-decoration-color: #008080; font-weight: bold\">🚀 Crew: crew</span>\n",
       "└── <span style=\"color: #808000; text-decoration-color: #808000; font-weight: bold\">📋 Task: fd34417a-ccde-4b94-a71d-c15c41e78e24</span>\n",
       "    <span style=\"color: #c0c0c0; text-decoration-color: #c0c0c0\">   Status: </span><span style=\"color: #bfbf7f; text-decoration-color: #bfbf7f\">Executing Task...</span>\n",
       "    └── <span style=\"color: #008000; text-decoration-color: #008000; font-weight: bold\">🤖 Agent: </span><span style=\"color: #008000; text-decoration-color: #008000\">Certification Verification Specialist</span>\n",
       "        <span style=\"color: #c0c0c0; text-decoration-color: #c0c0c0\">    Status: </span><span style=\"color: #008000; text-decoration-color: #008000; font-weight: bold\">In Progress</span>\n",
       "        ├── <span style=\"color: #008000; text-decoration-color: #008000; font-weight: bold\">🔧 </span><span style=\"color: #008000; text-decoration-color: #008000\">Used Certificate Verification Tool (1)</span>\n",
       "        └── <span style=\"color: #800000; text-decoration-color: #800000; font-weight: bold\">🔧 Failed </span><span style=\"color: #800000; text-decoration-color: #800000\">Search Tool (5)</span>\n",
       "</pre>\n"
      ],
      "text/plain": [
       "\u001b[1;36m🚀 Crew: \u001b[0m\u001b[1;36mcrew\u001b[0m\n",
       "└── \u001b[1;33m📋 Task: fd34417a-ccde-4b94-a71d-c15c41e78e24\u001b[0m\n",
       "    \u001b[37m   Status: \u001b[0m\u001b[2;33mExecuting Task...\u001b[0m\n",
       "    └── \u001b[1;32m🤖 Agent: \u001b[0m\u001b[32mCertification Verification Specialist\u001b[0m\n",
       "        \u001b[37m    Status: \u001b[0m\u001b[1;32mIn Progress\u001b[0m\n",
       "        ├── \u001b[1;32m🔧 \u001b[0m\u001b[32mUsed Certificate Verification Tool (1)\u001b[0m\n",
       "        └── \u001b[1;31m🔧 Failed \u001b[0m\u001b[31mSearch Tool (5)\u001b[0m\n"
      ]
     },
     "metadata": {},
     "output_type": "display_data"
    },
    {
     "data": {
      "text/html": [
       "<pre style=\"white-space:pre;overflow-x:auto;line-height:normal;font-family:Menlo,'DejaVu Sans Mono',consolas,'Courier New',monospace\">\n",
       "</pre>\n"
      ],
      "text/plain": [
       "\n"
      ]
     },
     "metadata": {},
     "output_type": "display_data"
    },
    {
     "data": {
      "text/html": [
       "<pre style=\"white-space:pre;overflow-x:auto;line-height:normal;font-family:Menlo,'DejaVu Sans Mono',consolas,'Courier New',monospace\"><span style=\"color: #008080; text-decoration-color: #008080; font-weight: bold\">🚀 Crew: crew</span>\n",
       "└── <span style=\"color: #808000; text-decoration-color: #808000; font-weight: bold\">📋 Task: fd34417a-ccde-4b94-a71d-c15c41e78e24</span>\n",
       "    <span style=\"color: #c0c0c0; text-decoration-color: #c0c0c0\">   Status: </span><span style=\"color: #bfbf7f; text-decoration-color: #bfbf7f\">Executing Task...</span>\n",
       "    └── <span style=\"color: #008000; text-decoration-color: #008000; font-weight: bold\">🤖 Agent: </span><span style=\"color: #008000; text-decoration-color: #008000\">Certification Verification Specialist</span>\n",
       "        <span style=\"color: #c0c0c0; text-decoration-color: #c0c0c0\">    Status: </span><span style=\"color: #008000; text-decoration-color: #008000; font-weight: bold\">In Progress</span>\n",
       "        ├── <span style=\"color: #008000; text-decoration-color: #008000; font-weight: bold\">🔧 </span><span style=\"color: #008000; text-decoration-color: #008000\">Used Certificate Verification Tool (1)</span>\n",
       "        └── <span style=\"color: #808000; text-decoration-color: #808000; font-weight: bold\">🔧 </span><span style=\"color: #808000; text-decoration-color: #808000\">Using Search Tool (6)</span>\n",
       "</pre>\n"
      ],
      "text/plain": [
       "\u001b[1;36m🚀 Crew: \u001b[0m\u001b[1;36mcrew\u001b[0m\n",
       "└── \u001b[1;33m📋 Task: fd34417a-ccde-4b94-a71d-c15c41e78e24\u001b[0m\n",
       "    \u001b[37m   Status: \u001b[0m\u001b[2;33mExecuting Task...\u001b[0m\n",
       "    └── \u001b[1;32m🤖 Agent: \u001b[0m\u001b[32mCertification Verification Specialist\u001b[0m\n",
       "        \u001b[37m    Status: \u001b[0m\u001b[1;32mIn Progress\u001b[0m\n",
       "        ├── \u001b[1;32m🔧 \u001b[0m\u001b[32mUsed Certificate Verification Tool (1)\u001b[0m\n",
       "        └── \u001b[1;33m🔧 \u001b[0m\u001b[33mUsing Search Tool (6)\u001b[0m\n"
      ]
     },
     "metadata": {},
     "output_type": "display_data"
    },
    {
     "data": {
      "text/html": [
       "<pre style=\"white-space:pre;overflow-x:auto;line-height:normal;font-family:Menlo,'DejaVu Sans Mono',consolas,'Courier New',monospace\">\n",
       "</pre>\n"
      ],
      "text/plain": [
       "\n"
      ]
     },
     "metadata": {},
     "output_type": "display_data"
    },
    {
     "data": {
      "text/html": [
       "<pre style=\"white-space:pre;overflow-x:auto;line-height:normal;font-family:Menlo,'DejaVu Sans Mono',consolas,'Courier New',monospace\"><span style=\"color: #008080; text-decoration-color: #008080; font-weight: bold\">🚀 Crew: crew</span>\n",
       "└── <span style=\"color: #808000; text-decoration-color: #808000; font-weight: bold\">📋 Task: fd34417a-ccde-4b94-a71d-c15c41e78e24</span>\n",
       "    <span style=\"color: #c0c0c0; text-decoration-color: #c0c0c0\">   Status: </span><span style=\"color: #bfbf7f; text-decoration-color: #bfbf7f\">Executing Task...</span>\n",
       "    └── <span style=\"color: #008000; text-decoration-color: #008000; font-weight: bold\">🤖 Agent: </span><span style=\"color: #008000; text-decoration-color: #008000\">Certification Verification Specialist</span>\n",
       "        <span style=\"color: #c0c0c0; text-decoration-color: #c0c0c0\">    Status: </span><span style=\"color: #008000; text-decoration-color: #008000; font-weight: bold\">In Progress</span>\n",
       "        ├── <span style=\"color: #008000; text-decoration-color: #008000; font-weight: bold\">🔧 </span><span style=\"color: #008000; text-decoration-color: #008000\">Used Certificate Verification Tool (1)</span>\n",
       "        └── <span style=\"color: #800000; text-decoration-color: #800000; font-weight: bold\">🔧 Failed </span><span style=\"color: #800000; text-decoration-color: #800000\">Search Tool (6)</span>\n",
       "</pre>\n"
      ],
      "text/plain": [
       "\u001b[1;36m🚀 Crew: \u001b[0m\u001b[1;36mcrew\u001b[0m\n",
       "└── \u001b[1;33m📋 Task: fd34417a-ccde-4b94-a71d-c15c41e78e24\u001b[0m\n",
       "    \u001b[37m   Status: \u001b[0m\u001b[2;33mExecuting Task...\u001b[0m\n",
       "    └── \u001b[1;32m🤖 Agent: \u001b[0m\u001b[32mCertification Verification Specialist\u001b[0m\n",
       "        \u001b[37m    Status: \u001b[0m\u001b[1;32mIn Progress\u001b[0m\n",
       "        ├── \u001b[1;32m🔧 \u001b[0m\u001b[32mUsed Certificate Verification Tool (1)\u001b[0m\n",
       "        └── \u001b[1;31m🔧 Failed \u001b[0m\u001b[31mSearch Tool (6)\u001b[0m\n"
      ]
     },
     "metadata": {},
     "output_type": "display_data"
    },
    {
     "data": {
      "text/html": [
       "<pre style=\"white-space:pre;overflow-x:auto;line-height:normal;font-family:Menlo,'DejaVu Sans Mono',consolas,'Courier New',monospace\">\n",
       "</pre>\n"
      ],
      "text/plain": [
       "\n"
      ]
     },
     "metadata": {},
     "output_type": "display_data"
    },
    {
     "data": {
      "text/html": [
       "<pre style=\"white-space:pre;overflow-x:auto;line-height:normal;font-family:Menlo,'DejaVu Sans Mono',consolas,'Courier New',monospace\"><span style=\"color: #800000; text-decoration-color: #800000\">╭────────────────────────────────────────────────── Tool Error ───────────────────────────────────────────────────╮</span>\n",
       "<span style=\"color: #800000; text-decoration-color: #800000\">│</span>                                                                                                                 <span style=\"color: #800000; text-decoration-color: #800000\">│</span>\n",
       "<span style=\"color: #800000; text-decoration-color: #800000\">│</span>  <span style=\"color: #800000; text-decoration-color: #800000; font-weight: bold\">Tool Usage Failed</span>                                                                                              <span style=\"color: #800000; text-decoration-color: #800000\">│</span>\n",
       "<span style=\"color: #800000; text-decoration-color: #800000\">│</span>  <span style=\"color: #c0c0c0; text-decoration-color: #c0c0c0\">Name: </span><span style=\"color: #800000; text-decoration-color: #800000\">Search Tool</span>                                                                                              <span style=\"color: #800000; text-decoration-color: #800000\">│</span>\n",
       "<span style=\"color: #800000; text-decoration-color: #800000\">│</span>  <span style=\"color: #c0c0c0; text-decoration-color: #c0c0c0\">Error: </span><span style=\"color: #800000; text-decoration-color: #800000\">Arguments validation failed: 1 validation error for SearchToolSchema</span>                                    <span style=\"color: #800000; text-decoration-color: #800000\">│</span>\n",
       "<span style=\"color: #800000; text-decoration-color: #800000\">│</span>  <span style=\"color: #800000; text-decoration-color: #800000\">query</span>                                                                                                          <span style=\"color: #800000; text-decoration-color: #800000\">│</span>\n",
       "<span style=\"color: #800000; text-decoration-color: #800000\">│</span>  <span style=\"color: #800000; text-decoration-color: #800000\">  Input should be a valid string [type=string_type, input_value={'description': 'Infosys ... Series', 'type':</span>  <span style=\"color: #800000; text-decoration-color: #800000\">│</span>\n",
       "<span style=\"color: #800000; text-decoration-color: #800000\">│</span>  <span style=\"color: #800000; text-decoration-color: #800000\">'str'}, input_type=dict]</span>                                                                                       <span style=\"color: #800000; text-decoration-color: #800000\">│</span>\n",
       "<span style=\"color: #800000; text-decoration-color: #800000\">│</span>  <span style=\"color: #800000; text-decoration-color: #800000\">    For further information visit https://errors.pydantic.dev/2.10/v/string_type</span>                               <span style=\"color: #800000; text-decoration-color: #800000\">│</span>\n",
       "<span style=\"color: #800000; text-decoration-color: #800000\">│</span>                                                                                                                 <span style=\"color: #800000; text-decoration-color: #800000\">│</span>\n",
       "<span style=\"color: #800000; text-decoration-color: #800000\">│</span>                                                                                                                 <span style=\"color: #800000; text-decoration-color: #800000\">│</span>\n",
       "<span style=\"color: #800000; text-decoration-color: #800000\">╰─────────────────────────────────────────────────────────────────────────────────────────────────────────────────╯</span>\n",
       "</pre>\n"
      ],
      "text/plain": [
       "\u001b[31m╭─\u001b[0m\u001b[31m─────────────────────────────────────────────────\u001b[0m\u001b[31m Tool Error \u001b[0m\u001b[31m──────────────────────────────────────────────────\u001b[0m\u001b[31m─╮\u001b[0m\n",
       "\u001b[31m│\u001b[0m                                                                                                                 \u001b[31m│\u001b[0m\n",
       "\u001b[31m│\u001b[0m  \u001b[1;31mTool Usage Failed\u001b[0m                                                                                              \u001b[31m│\u001b[0m\n",
       "\u001b[31m│\u001b[0m  \u001b[37mName: \u001b[0m\u001b[31mSearch Tool\u001b[0m                                                                                              \u001b[31m│\u001b[0m\n",
       "\u001b[31m│\u001b[0m  \u001b[37mError: \u001b[0m\u001b[31mArguments validation failed: 1 validation error for SearchToolSchema\u001b[0m                                    \u001b[31m│\u001b[0m\n",
       "\u001b[31m│\u001b[0m  \u001b[31mquery\u001b[0m                                                                                                          \u001b[31m│\u001b[0m\n",
       "\u001b[31m│\u001b[0m  \u001b[31m  Input should be a valid string [type=string_type, input_value={'description': 'Infosys ... Series', 'type':\u001b[0m  \u001b[31m│\u001b[0m\n",
       "\u001b[31m│\u001b[0m  \u001b[31m'str'}, input_type=dict]\u001b[0m                                                                                       \u001b[31m│\u001b[0m\n",
       "\u001b[31m│\u001b[0m  \u001b[31m    For further information visit https://errors.pydantic.dev/2.10/v/string_type\u001b[0m                               \u001b[31m│\u001b[0m\n",
       "\u001b[31m│\u001b[0m                                                                                                                 \u001b[31m│\u001b[0m\n",
       "\u001b[31m│\u001b[0m                                                                                                                 \u001b[31m│\u001b[0m\n",
       "\u001b[31m╰─────────────────────────────────────────────────────────────────────────────────────────────────────────────────╯\u001b[0m\n"
      ]
     },
     "metadata": {},
     "output_type": "display_data"
    },
    {
     "data": {
      "text/html": [
       "<pre style=\"white-space:pre;overflow-x:auto;line-height:normal;font-family:Menlo,'DejaVu Sans Mono',consolas,'Courier New',monospace\">\n",
       "</pre>\n"
      ],
      "text/plain": [
       "\n"
      ]
     },
     "metadata": {},
     "output_type": "display_data"
    },
    {
     "data": {
      "text/html": [
       "<pre style=\"white-space:pre;overflow-x:auto;line-height:normal;font-family:Menlo,'DejaVu Sans Mono',consolas,'Courier New',monospace\"><span style=\"color: #008080; text-decoration-color: #008080; font-weight: bold\">🚀 Crew: crew</span>\n",
       "└── <span style=\"color: #808000; text-decoration-color: #808000; font-weight: bold\">📋 Task: fd34417a-ccde-4b94-a71d-c15c41e78e24</span>\n",
       "    <span style=\"color: #c0c0c0; text-decoration-color: #c0c0c0\">   Status: </span><span style=\"color: #bfbf7f; text-decoration-color: #bfbf7f\">Executing Task...</span>\n",
       "    └── <span style=\"color: #008000; text-decoration-color: #008000; font-weight: bold\">🤖 Agent: </span><span style=\"color: #008000; text-decoration-color: #008000\">Certification Verification Specialist</span>\n",
       "        <span style=\"color: #c0c0c0; text-decoration-color: #c0c0c0\">    Status: </span><span style=\"color: #008000; text-decoration-color: #008000; font-weight: bold\">In Progress</span>\n",
       "        ├── <span style=\"color: #008000; text-decoration-color: #008000; font-weight: bold\">🔧 </span><span style=\"color: #008000; text-decoration-color: #008000\">Used Certificate Verification Tool (1)</span>\n",
       "        └── <span style=\"color: #800000; text-decoration-color: #800000; font-weight: bold\">🔧 Failed </span><span style=\"color: #800000; text-decoration-color: #800000\">Search Tool (6)</span>\n",
       "</pre>\n"
      ],
      "text/plain": [
       "\u001b[1;36m🚀 Crew: \u001b[0m\u001b[1;36mcrew\u001b[0m\n",
       "└── \u001b[1;33m📋 Task: fd34417a-ccde-4b94-a71d-c15c41e78e24\u001b[0m\n",
       "    \u001b[37m   Status: \u001b[0m\u001b[2;33mExecuting Task...\u001b[0m\n",
       "    └── \u001b[1;32m🤖 Agent: \u001b[0m\u001b[32mCertification Verification Specialist\u001b[0m\n",
       "        \u001b[37m    Status: \u001b[0m\u001b[1;32mIn Progress\u001b[0m\n",
       "        ├── \u001b[1;32m🔧 \u001b[0m\u001b[32mUsed Certificate Verification Tool (1)\u001b[0m\n",
       "        └── \u001b[1;31m🔧 Failed \u001b[0m\u001b[31mSearch Tool (6)\u001b[0m\n"
      ]
     },
     "metadata": {},
     "output_type": "display_data"
    },
    {
     "data": {
      "text/html": [
       "<pre style=\"white-space:pre;overflow-x:auto;line-height:normal;font-family:Menlo,'DejaVu Sans Mono',consolas,'Courier New',monospace\">\n",
       "</pre>\n"
      ],
      "text/plain": [
       "\n"
      ]
     },
     "metadata": {},
     "output_type": "display_data"
    },
    {
     "data": {
      "text/html": [
       "<pre style=\"white-space:pre;overflow-x:auto;line-height:normal;font-family:Menlo,'DejaVu Sans Mono',consolas,'Courier New',monospace\"><span style=\"color: #800000; text-decoration-color: #800000\">╭────────────────────────────────────────────────── Tool Error ───────────────────────────────────────────────────╮</span>\n",
       "<span style=\"color: #800000; text-decoration-color: #800000\">│</span>                                                                                                                 <span style=\"color: #800000; text-decoration-color: #800000\">│</span>\n",
       "<span style=\"color: #800000; text-decoration-color: #800000\">│</span>  <span style=\"color: #800000; text-decoration-color: #800000; font-weight: bold\">Tool Usage Failed</span>                                                                                              <span style=\"color: #800000; text-decoration-color: #800000\">│</span>\n",
       "<span style=\"color: #800000; text-decoration-color: #800000\">│</span>  <span style=\"color: #c0c0c0; text-decoration-color: #c0c0c0\">Name: </span><span style=\"color: #800000; text-decoration-color: #800000\">Search Tool</span>                                                                                              <span style=\"color: #800000; text-decoration-color: #800000\">│</span>\n",
       "<span style=\"color: #800000; text-decoration-color: #800000\">│</span>  <span style=\"color: #c0c0c0; text-decoration-color: #c0c0c0\">Error: </span><span style=\"color: #800000; text-decoration-color: #800000\">Arguments validation failed: 1 validation error for SearchToolSchema</span>                                    <span style=\"color: #800000; text-decoration-color: #800000\">│</span>\n",
       "<span style=\"color: #800000; text-decoration-color: #800000\">│</span>  <span style=\"color: #800000; text-decoration-color: #800000\">query</span>                                                                                                          <span style=\"color: #800000; text-decoration-color: #800000\">│</span>\n",
       "<span style=\"color: #800000; text-decoration-color: #800000\">│</span>  <span style=\"color: #800000; text-decoration-color: #800000\">  Input should be a valid string [type=string_type, input_value={'description': 'Infosys ... Series', 'type':</span>  <span style=\"color: #800000; text-decoration-color: #800000\">│</span>\n",
       "<span style=\"color: #800000; text-decoration-color: #800000\">│</span>  <span style=\"color: #800000; text-decoration-color: #800000\">'str'}, input_type=dict]</span>                                                                                       <span style=\"color: #800000; text-decoration-color: #800000\">│</span>\n",
       "<span style=\"color: #800000; text-decoration-color: #800000\">│</span>  <span style=\"color: #800000; text-decoration-color: #800000\">    For further information visit https://errors.pydantic.dev/2.10/v/string_type</span>                               <span style=\"color: #800000; text-decoration-color: #800000\">│</span>\n",
       "<span style=\"color: #800000; text-decoration-color: #800000\">│</span>                                                                                                                 <span style=\"color: #800000; text-decoration-color: #800000\">│</span>\n",
       "<span style=\"color: #800000; text-decoration-color: #800000\">│</span>                                                                                                                 <span style=\"color: #800000; text-decoration-color: #800000\">│</span>\n",
       "<span style=\"color: #800000; text-decoration-color: #800000\">╰─────────────────────────────────────────────────────────────────────────────────────────────────────────────────╯</span>\n",
       "</pre>\n"
      ],
      "text/plain": [
       "\u001b[31m╭─\u001b[0m\u001b[31m─────────────────────────────────────────────────\u001b[0m\u001b[31m Tool Error \u001b[0m\u001b[31m──────────────────────────────────────────────────\u001b[0m\u001b[31m─╮\u001b[0m\n",
       "\u001b[31m│\u001b[0m                                                                                                                 \u001b[31m│\u001b[0m\n",
       "\u001b[31m│\u001b[0m  \u001b[1;31mTool Usage Failed\u001b[0m                                                                                              \u001b[31m│\u001b[0m\n",
       "\u001b[31m│\u001b[0m  \u001b[37mName: \u001b[0m\u001b[31mSearch Tool\u001b[0m                                                                                              \u001b[31m│\u001b[0m\n",
       "\u001b[31m│\u001b[0m  \u001b[37mError: \u001b[0m\u001b[31mArguments validation failed: 1 validation error for SearchToolSchema\u001b[0m                                    \u001b[31m│\u001b[0m\n",
       "\u001b[31m│\u001b[0m  \u001b[31mquery\u001b[0m                                                                                                          \u001b[31m│\u001b[0m\n",
       "\u001b[31m│\u001b[0m  \u001b[31m  Input should be a valid string [type=string_type, input_value={'description': 'Infosys ... Series', 'type':\u001b[0m  \u001b[31m│\u001b[0m\n",
       "\u001b[31m│\u001b[0m  \u001b[31m'str'}, input_type=dict]\u001b[0m                                                                                       \u001b[31m│\u001b[0m\n",
       "\u001b[31m│\u001b[0m  \u001b[31m    For further information visit https://errors.pydantic.dev/2.10/v/string_type\u001b[0m                               \u001b[31m│\u001b[0m\n",
       "\u001b[31m│\u001b[0m                                                                                                                 \u001b[31m│\u001b[0m\n",
       "\u001b[31m│\u001b[0m                                                                                                                 \u001b[31m│\u001b[0m\n",
       "\u001b[31m╰─────────────────────────────────────────────────────────────────────────────────────────────────────────────────╯\u001b[0m\n"
      ]
     },
     "metadata": {},
     "output_type": "display_data"
    },
    {
     "data": {
      "text/html": [
       "<pre style=\"white-space:pre;overflow-x:auto;line-height:normal;font-family:Menlo,'DejaVu Sans Mono',consolas,'Courier New',monospace\">\n",
       "</pre>\n"
      ],
      "text/plain": [
       "\n"
      ]
     },
     "metadata": {},
     "output_type": "display_data"
    },
    {
     "data": {
      "text/html": [
       "<pre style=\"white-space:pre;overflow-x:auto;line-height:normal;font-family:Menlo,'DejaVu Sans Mono',consolas,'Courier New',monospace\"><span style=\"color: #008080; text-decoration-color: #008080; font-weight: bold\">🚀 Crew: crew</span>\n",
       "└── <span style=\"color: #808000; text-decoration-color: #808000; font-weight: bold\">📋 Task: fd34417a-ccde-4b94-a71d-c15c41e78e24</span>\n",
       "    <span style=\"color: #c0c0c0; text-decoration-color: #c0c0c0\">   Status: </span><span style=\"color: #bfbf7f; text-decoration-color: #bfbf7f\">Executing Task...</span>\n",
       "    └── <span style=\"color: #008000; text-decoration-color: #008000; font-weight: bold\">🤖 Agent: </span><span style=\"color: #008000; text-decoration-color: #008000\">Certification Verification Specialist</span>\n",
       "        <span style=\"color: #c0c0c0; text-decoration-color: #c0c0c0\">    Status: </span><span style=\"color: #008000; text-decoration-color: #008000; font-weight: bold\">In Progress</span>\n",
       "        ├── <span style=\"color: #008000; text-decoration-color: #008000; font-weight: bold\">🔧 </span><span style=\"color: #008000; text-decoration-color: #008000\">Used Certificate Verification Tool (1)</span>\n",
       "        └── <span style=\"color: #800000; text-decoration-color: #800000; font-weight: bold\">🔧 Failed </span><span style=\"color: #800000; text-decoration-color: #800000\">Search Tool (6)</span>\n",
       "</pre>\n"
      ],
      "text/plain": [
       "\u001b[1;36m🚀 Crew: \u001b[0m\u001b[1;36mcrew\u001b[0m\n",
       "└── \u001b[1;33m📋 Task: fd34417a-ccde-4b94-a71d-c15c41e78e24\u001b[0m\n",
       "    \u001b[37m   Status: \u001b[0m\u001b[2;33mExecuting Task...\u001b[0m\n",
       "    └── \u001b[1;32m🤖 Agent: \u001b[0m\u001b[32mCertification Verification Specialist\u001b[0m\n",
       "        \u001b[37m    Status: \u001b[0m\u001b[1;32mIn Progress\u001b[0m\n",
       "        ├── \u001b[1;32m🔧 \u001b[0m\u001b[32mUsed Certificate Verification Tool (1)\u001b[0m\n",
       "        └── \u001b[1;31m🔧 Failed \u001b[0m\u001b[31mSearch Tool (6)\u001b[0m\n"
      ]
     },
     "metadata": {},
     "output_type": "display_data"
    },
    {
     "data": {
      "text/html": [
       "<pre style=\"white-space:pre;overflow-x:auto;line-height:normal;font-family:Menlo,'DejaVu Sans Mono',consolas,'Courier New',monospace\">\n",
       "</pre>\n"
      ],
      "text/plain": [
       "\n"
      ]
     },
     "metadata": {},
     "output_type": "display_data"
    },
    {
     "data": {
      "text/html": [
       "<pre style=\"white-space:pre;overflow-x:auto;line-height:normal;font-family:Menlo,'DejaVu Sans Mono',consolas,'Courier New',monospace\"><span style=\"color: #800000; text-decoration-color: #800000\">╭────────────────────────────────────────────────── Tool Error ───────────────────────────────────────────────────╮</span>\n",
       "<span style=\"color: #800000; text-decoration-color: #800000\">│</span>                                                                                                                 <span style=\"color: #800000; text-decoration-color: #800000\">│</span>\n",
       "<span style=\"color: #800000; text-decoration-color: #800000\">│</span>  <span style=\"color: #800000; text-decoration-color: #800000; font-weight: bold\">Tool Usage Failed</span>                                                                                              <span style=\"color: #800000; text-decoration-color: #800000\">│</span>\n",
       "<span style=\"color: #800000; text-decoration-color: #800000\">│</span>  <span style=\"color: #c0c0c0; text-decoration-color: #c0c0c0\">Name: </span><span style=\"color: #800000; text-decoration-color: #800000\">Search Tool</span>                                                                                              <span style=\"color: #800000; text-decoration-color: #800000\">│</span>\n",
       "<span style=\"color: #800000; text-decoration-color: #800000\">│</span>  <span style=\"color: #c0c0c0; text-decoration-color: #c0c0c0\">Error: </span><span style=\"color: #800000; text-decoration-color: #800000\">Arguments validation failed: 1 validation error for SearchToolSchema</span>                                    <span style=\"color: #800000; text-decoration-color: #800000\">│</span>\n",
       "<span style=\"color: #800000; text-decoration-color: #800000\">│</span>  <span style=\"color: #800000; text-decoration-color: #800000\">query</span>                                                                                                          <span style=\"color: #800000; text-decoration-color: #800000\">│</span>\n",
       "<span style=\"color: #800000; text-decoration-color: #800000\">│</span>  <span style=\"color: #800000; text-decoration-color: #800000\">  Input should be a valid string [type=string_type, input_value={'description': 'Infosys ... Series', 'type':</span>  <span style=\"color: #800000; text-decoration-color: #800000\">│</span>\n",
       "<span style=\"color: #800000; text-decoration-color: #800000\">│</span>  <span style=\"color: #800000; text-decoration-color: #800000\">'str'}, input_type=dict]</span>                                                                                       <span style=\"color: #800000; text-decoration-color: #800000\">│</span>\n",
       "<span style=\"color: #800000; text-decoration-color: #800000\">│</span>  <span style=\"color: #800000; text-decoration-color: #800000\">    For further information visit https://errors.pydantic.dev/2.10/v/string_type</span>                               <span style=\"color: #800000; text-decoration-color: #800000\">│</span>\n",
       "<span style=\"color: #800000; text-decoration-color: #800000\">│</span>                                                                                                                 <span style=\"color: #800000; text-decoration-color: #800000\">│</span>\n",
       "<span style=\"color: #800000; text-decoration-color: #800000\">│</span>                                                                                                                 <span style=\"color: #800000; text-decoration-color: #800000\">│</span>\n",
       "<span style=\"color: #800000; text-decoration-color: #800000\">╰─────────────────────────────────────────────────────────────────────────────────────────────────────────────────╯</span>\n",
       "</pre>\n"
      ],
      "text/plain": [
       "\u001b[31m╭─\u001b[0m\u001b[31m─────────────────────────────────────────────────\u001b[0m\u001b[31m Tool Error \u001b[0m\u001b[31m──────────────────────────────────────────────────\u001b[0m\u001b[31m─╮\u001b[0m\n",
       "\u001b[31m│\u001b[0m                                                                                                                 \u001b[31m│\u001b[0m\n",
       "\u001b[31m│\u001b[0m  \u001b[1;31mTool Usage Failed\u001b[0m                                                                                              \u001b[31m│\u001b[0m\n",
       "\u001b[31m│\u001b[0m  \u001b[37mName: \u001b[0m\u001b[31mSearch Tool\u001b[0m                                                                                              \u001b[31m│\u001b[0m\n",
       "\u001b[31m│\u001b[0m  \u001b[37mError: \u001b[0m\u001b[31mArguments validation failed: 1 validation error for SearchToolSchema\u001b[0m                                    \u001b[31m│\u001b[0m\n",
       "\u001b[31m│\u001b[0m  \u001b[31mquery\u001b[0m                                                                                                          \u001b[31m│\u001b[0m\n",
       "\u001b[31m│\u001b[0m  \u001b[31m  Input should be a valid string [type=string_type, input_value={'description': 'Infosys ... Series', 'type':\u001b[0m  \u001b[31m│\u001b[0m\n",
       "\u001b[31m│\u001b[0m  \u001b[31m'str'}, input_type=dict]\u001b[0m                                                                                       \u001b[31m│\u001b[0m\n",
       "\u001b[31m│\u001b[0m  \u001b[31m    For further information visit https://errors.pydantic.dev/2.10/v/string_type\u001b[0m                               \u001b[31m│\u001b[0m\n",
       "\u001b[31m│\u001b[0m                                                                                                                 \u001b[31m│\u001b[0m\n",
       "\u001b[31m│\u001b[0m                                                                                                                 \u001b[31m│\u001b[0m\n",
       "\u001b[31m╰─────────────────────────────────────────────────────────────────────────────────────────────────────────────────╯\u001b[0m\n"
      ]
     },
     "metadata": {},
     "output_type": "display_data"
    },
    {
     "data": {
      "text/html": [
       "<pre style=\"white-space:pre;overflow-x:auto;line-height:normal;font-family:Menlo,'DejaVu Sans Mono',consolas,'Courier New',monospace\">\n",
       "</pre>\n"
      ],
      "text/plain": [
       "\n"
      ]
     },
     "metadata": {},
     "output_type": "display_data"
    },
    {
     "name": "stdout",
     "output_type": "stream",
     "text": [
      "\u001b[91m \n",
      "\n",
      "I encountered an error while trying to use the tool. This was the error: Arguments validation failed: 1 validation error for SearchToolSchema\n",
      "query\n",
      "  Input should be a valid string [type=string_type, input_value={'description': 'Infosys ... Series', 'type': 'str'}, input_type=dict]\n",
      "    For further information visit https://errors.pydantic.dev/2.10/v/string_type.\n",
      " Tool Search Tool accepts these inputs: Tool Name: Search Tool\n",
      "Tool Arguments: {'query': {'description': None, 'type': 'str'}}\n",
      "Tool Description: Useful for searching information about technologies, companies, or people online.\n",
      "\u001b[00m\n",
      "\n",
      "\n",
      "\u001b[1m\u001b[95m# Agent:\u001b[00m \u001b[1m\u001b[92mCertification Verification Specialist\u001b[00m\n",
      "\u001b[95m## Thought:\u001b[00m \u001b[92mThought:The Search Tool is failing.  I'll attempt to verify the certificates individually using the Search Tool with the certificate name and provider.  I'll then manually assess the credibility of the issuer.\u001b[00m\n",
      "\u001b[95m## Using tool:\u001b[00m \u001b[92mSearch Tool\u001b[00m\n",
      "\u001b[95m## Tool Input:\u001b[00m \u001b[92m\n",
      "\"{\\\"query\\\": {\\\"description\\\": \\\"Infosys Springboard Artificial Intelligence Course Series\\\", \\\"type\\\": \\\"str\\\"}}\"\u001b[00m\n",
      "\u001b[95m## Tool Output:\u001b[00m \u001b[92m\n",
      "\n",
      "I encountered an error while trying to use the tool. This was the error: Arguments validation failed: 1 validation error for SearchToolSchema\n",
      "query\n",
      "  Input should be a valid string [type=string_type, input_value={'description': 'Infosys ... Series', 'type': 'str'}, input_type=dict]\n",
      "    For further information visit https://errors.pydantic.dev/2.10/v/string_type.\n",
      " Tool Search Tool accepts these inputs: Tool Name: Search Tool\n",
      "Tool Arguments: {'query': {'description': None, 'type': 'str'}}\n",
      "Tool Description: Useful for searching information about technologies, companies, or people online..\n",
      "Moving on then. I MUST either use a tool (use one at time) OR give my best final answer not both at the same time. When responding, I must use the following format:\n",
      "\n",
      "```\n",
      "Thought: you should always think about what to do\n",
      "Action: the action to take, should be one of [Search Tool, Certificate Verification Tool, Skill Mapping Tool]\n",
      "Action Input: the input to the action, dictionary enclosed in curly braces\n",
      "Observation: the result of the action\n",
      "```\n",
      "This Thought/Action/Action Input/Result can repeat N times. Once I know the final answer, I must return the following format:\n",
      "\n",
      "```\n",
      "Thought: I now can give a great answer\n",
      "Final Answer: Your final answer must be the great and the most complete as possible, it must be outcome described\n",
      "\n",
      "```\u001b[00m\n"
     ]
    },
    {
     "data": {
      "text/html": [
       "<pre style=\"white-space:pre;overflow-x:auto;line-height:normal;font-family:Menlo,'DejaVu Sans Mono',consolas,'Courier New',monospace\"><span style=\"color: #008080; text-decoration-color: #008080; font-weight: bold\">🚀 Crew: crew</span>\n",
       "└── <span style=\"color: #808000; text-decoration-color: #808000; font-weight: bold\">📋 Task: fd34417a-ccde-4b94-a71d-c15c41e78e24</span>\n",
       "    <span style=\"color: #c0c0c0; text-decoration-color: #c0c0c0\">   Status: </span><span style=\"color: #bfbf7f; text-decoration-color: #bfbf7f\">Executing Task...</span>\n",
       "    └── <span style=\"color: #008000; text-decoration-color: #008000; font-weight: bold\">🤖 Agent: </span><span style=\"color: #008000; text-decoration-color: #008000\">Certification Verification Specialist</span>\n",
       "        <span style=\"color: #c0c0c0; text-decoration-color: #c0c0c0\">    Status: </span><span style=\"color: #008000; text-decoration-color: #008000; font-weight: bold\">In Progress</span>\n",
       "        ├── <span style=\"color: #008000; text-decoration-color: #008000; font-weight: bold\">🔧 </span><span style=\"color: #008000; text-decoration-color: #008000\">Used Certificate Verification Tool (1)</span>\n",
       "        ├── <span style=\"color: #800000; text-decoration-color: #800000; font-weight: bold\">🔧 Failed </span><span style=\"color: #800000; text-decoration-color: #800000\">Search Tool (6)</span>\n",
       "        └── <span style=\"color: #000080; text-decoration-color: #000080; font-weight: bold\">🧠 </span><span style=\"color: #000080; text-decoration-color: #000080\">Thinking...</span>\n",
       "</pre>\n"
      ],
      "text/plain": [
       "\u001b[1;36m🚀 Crew: \u001b[0m\u001b[1;36mcrew\u001b[0m\n",
       "└── \u001b[1;33m📋 Task: fd34417a-ccde-4b94-a71d-c15c41e78e24\u001b[0m\n",
       "    \u001b[37m   Status: \u001b[0m\u001b[2;33mExecuting Task...\u001b[0m\n",
       "    └── \u001b[1;32m🤖 Agent: \u001b[0m\u001b[32mCertification Verification Specialist\u001b[0m\n",
       "        \u001b[37m    Status: \u001b[0m\u001b[1;32mIn Progress\u001b[0m\n",
       "        ├── \u001b[1;32m🔧 \u001b[0m\u001b[32mUsed Certificate Verification Tool (1)\u001b[0m\n",
       "        ├── \u001b[1;31m🔧 Failed \u001b[0m\u001b[31mSearch Tool (6)\u001b[0m\n",
       "        └── \u001b[1;34m🧠 \u001b[0m\u001b[34mThinking...\u001b[0m\n"
      ]
     },
     "metadata": {},
     "output_type": "display_data"
    },
    {
     "data": {
      "text/html": [
       "<pre style=\"white-space:pre;overflow-x:auto;line-height:normal;font-family:Menlo,'DejaVu Sans Mono',consolas,'Courier New',monospace\">\n",
       "</pre>\n"
      ],
      "text/plain": [
       "\n"
      ]
     },
     "metadata": {},
     "output_type": "display_data"
    },
    {
     "data": {
      "text/html": [
       "<pre style=\"white-space:pre;overflow-x:auto;line-height:normal;font-family:Menlo,'DejaVu Sans Mono',consolas,'Courier New',monospace\"><span style=\"color: #008080; text-decoration-color: #008080; font-weight: bold\">🚀 Crew: crew</span>\n",
       "└── <span style=\"color: #808000; text-decoration-color: #808000; font-weight: bold\">📋 Task: fd34417a-ccde-4b94-a71d-c15c41e78e24</span>\n",
       "    <span style=\"color: #c0c0c0; text-decoration-color: #c0c0c0\">   Status: </span><span style=\"color: #bfbf7f; text-decoration-color: #bfbf7f\">Executing Task...</span>\n",
       "    └── <span style=\"color: #008000; text-decoration-color: #008000; font-weight: bold\">🤖 Agent: </span><span style=\"color: #008000; text-decoration-color: #008000\">Certification Verification Specialist</span>\n",
       "        <span style=\"color: #c0c0c0; text-decoration-color: #c0c0c0\">    Status: </span><span style=\"color: #008000; text-decoration-color: #008000; font-weight: bold\">In Progress</span>\n",
       "        ├── <span style=\"color: #008000; text-decoration-color: #008000; font-weight: bold\">🔧 </span><span style=\"color: #008000; text-decoration-color: #008000\">Used Certificate Verification Tool (1)</span>\n",
       "        └── <span style=\"color: #800000; text-decoration-color: #800000; font-weight: bold\">🔧 Failed </span><span style=\"color: #800000; text-decoration-color: #800000\">Search Tool (6)</span>\n",
       "</pre>\n"
      ],
      "text/plain": [
       "\u001b[1;36m🚀 Crew: \u001b[0m\u001b[1;36mcrew\u001b[0m\n",
       "└── \u001b[1;33m📋 Task: fd34417a-ccde-4b94-a71d-c15c41e78e24\u001b[0m\n",
       "    \u001b[37m   Status: \u001b[0m\u001b[2;33mExecuting Task...\u001b[0m\n",
       "    └── \u001b[1;32m🤖 Agent: \u001b[0m\u001b[32mCertification Verification Specialist\u001b[0m\n",
       "        \u001b[37m    Status: \u001b[0m\u001b[1;32mIn Progress\u001b[0m\n",
       "        ├── \u001b[1;32m🔧 \u001b[0m\u001b[32mUsed Certificate Verification Tool (1)\u001b[0m\n",
       "        └── \u001b[1;31m🔧 Failed \u001b[0m\u001b[31mSearch Tool (6)\u001b[0m\n"
      ]
     },
     "metadata": {},
     "output_type": "display_data"
    },
    {
     "data": {
      "text/html": [
       "<pre style=\"white-space:pre;overflow-x:auto;line-height:normal;font-family:Menlo,'DejaVu Sans Mono',consolas,'Courier New',monospace\">\n",
       "</pre>\n"
      ],
      "text/plain": [
       "\n"
      ]
     },
     "metadata": {},
     "output_type": "display_data"
    },
    {
     "name": "stdout",
     "output_type": "stream",
     "text": [
      "\n",
      "\n",
      "\u001b[1m\u001b[95m# Agent:\u001b[00m \u001b[1m\u001b[92mCertification Verification Specialist\u001b[00m\n",
      "\u001b[95m## Final Answer:\u001b[00m \u001b[92m\n",
      "```json\n",
      "{\n",
      "  \"certifications\": [\n",
      "    {\n",
      "      \"name\": \"Artificial Intelligence Course Series (118 hr length)\",\n",
      "      \"provider\": \"Infosys Springboard\",\n",
      "      \"link\": \"https://infyspringboard.onwingspan.com/web/en/app/profile/competency/certificate\",\n",
      "      \"verification_status\": \"unverified\",\n",
      "      \"confidence_level\": \"low\",\n",
      "      \"skills\": [\"Artificial Intelligence\"],\n",
      "      \"issuer_credibility\": \"Medium - Infosys is a reputable IT services company, but verification of this specific certificate is impossible without a direct link.\",\n",
      "      \"issue_date\": null,\n",
      "      \"expiration_date\": null\n",
      "    },\n",
      "    {\n",
      "      \"name\": \"Agile Scrum in Practice\",\n",
      "      \"provider\": \"Infosys Springboard\",\n",
      "      \"link\": \"https://infyspringboard.onwingspan.com/web/en/app/profile/competency/certificate\",\n",
      "      \"verification_status\": \"unverified\",\n",
      "      \"confidence_level\": \"low\",\n",
      "      \"skills\": [\"Agile\", \"Scrum\"],\n",
      "      \"issuer_credibility\": \"Medium - Infosys is a reputable IT services company, but verification of this specific certificate is impossible without a direct link.\",\n",
      "      \"issue_date\": null,\n",
      "      \"expiration_date\": null\n",
      "    },\n",
      "    {\n",
      "      \"name\": \"Data Structures and Performance\",\n",
      "      \"provider\": \"Coursera\",\n",
      "      \"link\": \"https://coursera.org/share/1d4edbf7bd94d9c9409693f3ed34623e\",\n",
      "      \"verification_status\": \"unverified\",\n",
      "      \"confidence_level\": \"low\",\n",
      "      \"skills\": [\"Data Structures\", \"Algorithm Performance\"],\n",
      "      \"issuer_credibility\": \"High - Coursera is a reputable online learning platform.\",\n",
      "      \"issue_date\": null,\n",
      "      \"expiration_date\": null\n",
      "    },\n",
      "    {\n",
      "      \"name\": \"Python Basic, Problem Solving Basic\",\n",
      "      \"provider\": \"HackerRank\",\n",
      "      \"link\": \"https://www.hackerrank.com/certificates/29cd025a29fc\",\n",
      "      \"verification_status\": \"unverified\",\n",
      "      \"confidence_level\": \"low\",\n",
      "      \"skills\": [\"Python Programming\", \"Problem Solving\"],\n",
      "      \"issuer_credibility\": \"Medium - HackerRank is a reputable platform for coding challenges, but verification requires access to the certificate.\",\n",
      "      \"issue_date\": null,\n",
      "      \"expiration_date\": null\n",
      "    }\n",
      "  ],\n",
      "  \"skills_assessment\": [],\n",
      "  \"summary\": \"Due to limitations in tool functionality, a complete verification and skills assessment could not be performed.  The provided links for Infosys Springboard certificates are insufficient for verification.  Further investigation is needed to verify the Coursera and HackerRank certificates.\"\n",
      "}\n",
      "```\u001b[00m\n",
      "\n",
      "\n"
     ]
    },
    {
     "data": {
      "text/html": [
       "<pre style=\"white-space:pre;overflow-x:auto;line-height:normal;font-family:Menlo,'DejaVu Sans Mono',consolas,'Courier New',monospace\"><span style=\"color: #008080; text-decoration-color: #008080; font-weight: bold\">🚀 Crew: crew</span>\n",
       "└── <span style=\"color: #808000; text-decoration-color: #808000; font-weight: bold\">📋 Task: fd34417a-ccde-4b94-a71d-c15c41e78e24</span>\n",
       "    <span style=\"color: #c0c0c0; text-decoration-color: #c0c0c0\">   Status: </span><span style=\"color: #bfbf7f; text-decoration-color: #bfbf7f\">Executing Task...</span>\n",
       "    └── <span style=\"color: #008000; text-decoration-color: #008000; font-weight: bold\">🤖 Agent: </span><span style=\"color: #008000; text-decoration-color: #008000\">Certification Verification Specialist</span>\n",
       "        <span style=\"color: #c0c0c0; text-decoration-color: #c0c0c0\">    Status: </span><span style=\"color: #008000; text-decoration-color: #008000; font-weight: bold\">✅ Completed</span>\n",
       "        ├── <span style=\"color: #008000; text-decoration-color: #008000; font-weight: bold\">🔧 </span><span style=\"color: #008000; text-decoration-color: #008000\">Used Certificate Verification Tool (1)</span>\n",
       "        └── <span style=\"color: #800000; text-decoration-color: #800000; font-weight: bold\">🔧 Failed </span><span style=\"color: #800000; text-decoration-color: #800000\">Search Tool (6)</span>\n",
       "</pre>\n"
      ],
      "text/plain": [
       "\u001b[1;36m🚀 Crew: \u001b[0m\u001b[1;36mcrew\u001b[0m\n",
       "└── \u001b[1;33m📋 Task: fd34417a-ccde-4b94-a71d-c15c41e78e24\u001b[0m\n",
       "    \u001b[37m   Status: \u001b[0m\u001b[2;33mExecuting Task...\u001b[0m\n",
       "    └── \u001b[1;32m🤖 Agent: \u001b[0m\u001b[32mCertification Verification Specialist\u001b[0m\n",
       "        \u001b[37m    Status: \u001b[0m\u001b[1;32m✅ Completed\u001b[0m\n",
       "        ├── \u001b[1;32m🔧 \u001b[0m\u001b[32mUsed Certificate Verification Tool (1)\u001b[0m\n",
       "        └── \u001b[1;31m🔧 Failed \u001b[0m\u001b[31mSearch Tool (6)\u001b[0m\n"
      ]
     },
     "metadata": {},
     "output_type": "display_data"
    },
    {
     "data": {
      "text/html": [
       "<pre style=\"white-space:pre;overflow-x:auto;line-height:normal;font-family:Menlo,'DejaVu Sans Mono',consolas,'Courier New',monospace\">\n",
       "</pre>\n"
      ],
      "text/plain": [
       "\n"
      ]
     },
     "metadata": {},
     "output_type": "display_data"
    },
    {
     "data": {
      "text/html": [
       "<pre style=\"white-space:pre;overflow-x:auto;line-height:normal;font-family:Menlo,'DejaVu Sans Mono',consolas,'Courier New',monospace\"><span style=\"color: #008080; text-decoration-color: #008080; font-weight: bold\">🚀 Crew: crew</span>\n",
       "└── <span style=\"color: #008000; text-decoration-color: #008000; font-weight: bold\">📋 Task: fd34417a-ccde-4b94-a71d-c15c41e78e24</span>\n",
       "    <span style=\"color: #c0c0c0; text-decoration-color: #c0c0c0\">   Assigned to: </span><span style=\"color: #008000; text-decoration-color: #008000\">Certification Verification Specialist</span>\n",
       "    <span style=\"color: #c0c0c0; text-decoration-color: #c0c0c0\">   Status: </span><span style=\"color: #008000; text-decoration-color: #008000; font-weight: bold\">✅ Completed</span>\n",
       "    └── <span style=\"color: #008000; text-decoration-color: #008000; font-weight: bold\">🤖 Agent: </span><span style=\"color: #008000; text-decoration-color: #008000\">Certification Verification Specialist</span>\n",
       "        <span style=\"color: #c0c0c0; text-decoration-color: #c0c0c0\">    Status: </span><span style=\"color: #008000; text-decoration-color: #008000; font-weight: bold\">✅ Completed</span>\n",
       "        ├── <span style=\"color: #008000; text-decoration-color: #008000; font-weight: bold\">🔧 </span><span style=\"color: #008000; text-decoration-color: #008000\">Used Certificate Verification Tool (1)</span>\n",
       "        └── <span style=\"color: #800000; text-decoration-color: #800000; font-weight: bold\">🔧 Failed </span><span style=\"color: #800000; text-decoration-color: #800000\">Search Tool (6)</span>\n",
       "</pre>\n"
      ],
      "text/plain": [
       "\u001b[1;36m🚀 Crew: \u001b[0m\u001b[1;36mcrew\u001b[0m\n",
       "└── \u001b[1;32m📋 Task: fd34417a-ccde-4b94-a71d-c15c41e78e24\u001b[0m\n",
       "    \u001b[37m   Assigned to: \u001b[0m\u001b[32mCertification Verification Specialist\u001b[0m\n",
       "    \u001b[37m   Status: \u001b[0m\u001b[1;32m✅ Completed\u001b[0m\n",
       "    └── \u001b[1;32m🤖 Agent: \u001b[0m\u001b[32mCertification Verification Specialist\u001b[0m\n",
       "        \u001b[37m    Status: \u001b[0m\u001b[1;32m✅ Completed\u001b[0m\n",
       "        ├── \u001b[1;32m🔧 \u001b[0m\u001b[32mUsed Certificate Verification Tool (1)\u001b[0m\n",
       "        └── \u001b[1;31m🔧 Failed \u001b[0m\u001b[31mSearch Tool (6)\u001b[0m\n"
      ]
     },
     "metadata": {},
     "output_type": "display_data"
    },
    {
     "data": {
      "text/html": [
       "<pre style=\"white-space:pre;overflow-x:auto;line-height:normal;font-family:Menlo,'DejaVu Sans Mono',consolas,'Courier New',monospace\"><span style=\"color: #008000; text-decoration-color: #008000\">╭──────────────────────────────────────────────── Task Completion ────────────────────────────────────────────────╮</span>\n",
       "<span style=\"color: #008000; text-decoration-color: #008000\">│</span>                                                                                                                 <span style=\"color: #008000; text-decoration-color: #008000\">│</span>\n",
       "<span style=\"color: #008000; text-decoration-color: #008000\">│</span>  <span style=\"color: #008000; text-decoration-color: #008000; font-weight: bold\">Task Completed</span>                                                                                                 <span style=\"color: #008000; text-decoration-color: #008000\">│</span>\n",
       "<span style=\"color: #008000; text-decoration-color: #008000\">│</span>  <span style=\"color: #c0c0c0; text-decoration-color: #c0c0c0\">Name: </span><span style=\"color: #008000; text-decoration-color: #008000\">fd34417a-ccde-4b94-a71d-c15c41e78e24</span>                                                                     <span style=\"color: #008000; text-decoration-color: #008000\">│</span>\n",
       "<span style=\"color: #008000; text-decoration-color: #008000\">│</span>  <span style=\"color: #c0c0c0; text-decoration-color: #c0c0c0\">Agent: </span><span style=\"color: #008000; text-decoration-color: #008000\">Certification Verification Specialist</span>                                                                   <span style=\"color: #008000; text-decoration-color: #008000\">│</span>\n",
       "<span style=\"color: #008000; text-decoration-color: #008000\">│</span>                                                                                                                 <span style=\"color: #008000; text-decoration-color: #008000\">│</span>\n",
       "<span style=\"color: #008000; text-decoration-color: #008000\">│</span>                                                                                                                 <span style=\"color: #008000; text-decoration-color: #008000\">│</span>\n",
       "<span style=\"color: #008000; text-decoration-color: #008000\">╰─────────────────────────────────────────────────────────────────────────────────────────────────────────────────╯</span>\n",
       "</pre>\n"
      ],
      "text/plain": [
       "\u001b[32m╭─\u001b[0m\u001b[32m───────────────────────────────────────────────\u001b[0m\u001b[32m Task Completion \u001b[0m\u001b[32m───────────────────────────────────────────────\u001b[0m\u001b[32m─╮\u001b[0m\n",
       "\u001b[32m│\u001b[0m                                                                                                                 \u001b[32m│\u001b[0m\n",
       "\u001b[32m│\u001b[0m  \u001b[1;32mTask Completed\u001b[0m                                                                                                 \u001b[32m│\u001b[0m\n",
       "\u001b[32m│\u001b[0m  \u001b[37mName: \u001b[0m\u001b[32mfd34417a-ccde-4b94-a71d-c15c41e78e24\u001b[0m                                                                     \u001b[32m│\u001b[0m\n",
       "\u001b[32m│\u001b[0m  \u001b[37mAgent: \u001b[0m\u001b[32mCertification Verification Specialist\u001b[0m                                                                   \u001b[32m│\u001b[0m\n",
       "\u001b[32m│\u001b[0m                                                                                                                 \u001b[32m│\u001b[0m\n",
       "\u001b[32m│\u001b[0m                                                                                                                 \u001b[32m│\u001b[0m\n",
       "\u001b[32m╰─────────────────────────────────────────────────────────────────────────────────────────────────────────────────╯\u001b[0m\n"
      ]
     },
     "metadata": {},
     "output_type": "display_data"
    },
    {
     "data": {
      "text/html": [
       "<pre style=\"white-space:pre;overflow-x:auto;line-height:normal;font-family:Menlo,'DejaVu Sans Mono',consolas,'Courier New',monospace\">\n",
       "</pre>\n"
      ],
      "text/plain": [
       "\n"
      ]
     },
     "metadata": {},
     "output_type": "display_data"
    },
    {
     "data": {
      "text/html": [
       "<pre style=\"white-space:pre;overflow-x:auto;line-height:normal;font-family:Menlo,'DejaVu Sans Mono',consolas,'Courier New',monospace\"><span style=\"color: #008000; text-decoration-color: #008000\">╭──────────────────────────────────────────────── Crew Completion ────────────────────────────────────────────────╮</span>\n",
       "<span style=\"color: #008000; text-decoration-color: #008000\">│</span>                                                                                                                 <span style=\"color: #008000; text-decoration-color: #008000\">│</span>\n",
       "<span style=\"color: #008000; text-decoration-color: #008000\">│</span>  <span style=\"color: #008000; text-decoration-color: #008000; font-weight: bold\">Crew Execution Completed</span>                                                                                       <span style=\"color: #008000; text-decoration-color: #008000\">│</span>\n",
       "<span style=\"color: #008000; text-decoration-color: #008000\">│</span>  <span style=\"color: #c0c0c0; text-decoration-color: #c0c0c0\">Name: </span><span style=\"color: #008000; text-decoration-color: #008000\">crew</span>                                                                                                     <span style=\"color: #008000; text-decoration-color: #008000\">│</span>\n",
       "<span style=\"color: #008000; text-decoration-color: #008000\">│</span>  <span style=\"color: #c0c0c0; text-decoration-color: #c0c0c0\">ID: </span><span style=\"color: #008000; text-decoration-color: #008000\">732d354f-04a2-4568-b49e-d81d66243fc4</span>                                                                       <span style=\"color: #008000; text-decoration-color: #008000\">│</span>\n",
       "<span style=\"color: #008000; text-decoration-color: #008000\">│</span>                                                                                                                 <span style=\"color: #008000; text-decoration-color: #008000\">│</span>\n",
       "<span style=\"color: #008000; text-decoration-color: #008000\">│</span>                                                                                                                 <span style=\"color: #008000; text-decoration-color: #008000\">│</span>\n",
       "<span style=\"color: #008000; text-decoration-color: #008000\">╰─────────────────────────────────────────────────────────────────────────────────────────────────────────────────╯</span>\n",
       "</pre>\n"
      ],
      "text/plain": [
       "\u001b[32m╭─\u001b[0m\u001b[32m───────────────────────────────────────────────\u001b[0m\u001b[32m Crew Completion \u001b[0m\u001b[32m───────────────────────────────────────────────\u001b[0m\u001b[32m─╮\u001b[0m\n",
       "\u001b[32m│\u001b[0m                                                                                                                 \u001b[32m│\u001b[0m\n",
       "\u001b[32m│\u001b[0m  \u001b[1;32mCrew Execution Completed\u001b[0m                                                                                       \u001b[32m│\u001b[0m\n",
       "\u001b[32m│\u001b[0m  \u001b[37mName: \u001b[0m\u001b[32mcrew\u001b[0m                                                                                                     \u001b[32m│\u001b[0m\n",
       "\u001b[32m│\u001b[0m  \u001b[37mID: \u001b[0m\u001b[32m732d354f-04a2-4568-b49e-d81d66243fc4\u001b[0m                                                                       \u001b[32m│\u001b[0m\n",
       "\u001b[32m│\u001b[0m                                                                                                                 \u001b[32m│\u001b[0m\n",
       "\u001b[32m│\u001b[0m                                                                                                                 \u001b[32m│\u001b[0m\n",
       "\u001b[32m╰─────────────────────────────────────────────────────────────────────────────────────────────────────────────────╯\u001b[0m\n"
      ]
     },
     "metadata": {},
     "output_type": "display_data"
    },
    {
     "data": {
      "text/html": [
       "<pre style=\"white-space:pre;overflow-x:auto;line-height:normal;font-family:Menlo,'DejaVu Sans Mono',consolas,'Courier New',monospace\">\n",
       "</pre>\n"
      ],
      "text/plain": [
       "\n"
      ]
     },
     "metadata": {},
     "output_type": "display_data"
    },
    {
     "name": "stdout",
     "output_type": "stream",
     "text": [
      "\n",
      "Certification verification complete!\n",
      "\n",
      "Evaluating technical skills...\n"
     ]
    },
    {
     "data": {
      "text/html": [
       "<pre style=\"white-space:pre;overflow-x:auto;line-height:normal;font-family:Menlo,'DejaVu Sans Mono',consolas,'Courier New',monospace\"><span style=\"color: #008080; text-decoration-color: #008080\">╭──────────────────────────────────────────── Crew Execution Started ─────────────────────────────────────────────╮</span>\n",
       "<span style=\"color: #008080; text-decoration-color: #008080\">│</span>                                                                                                                 <span style=\"color: #008080; text-decoration-color: #008080\">│</span>\n",
       "<span style=\"color: #008080; text-decoration-color: #008080\">│</span>  <span style=\"color: #008080; text-decoration-color: #008080; font-weight: bold\">Crew Execution Started</span>                                                                                         <span style=\"color: #008080; text-decoration-color: #008080\">│</span>\n",
       "<span style=\"color: #008080; text-decoration-color: #008080\">│</span>  <span style=\"color: #c0c0c0; text-decoration-color: #c0c0c0\">Name: </span><span style=\"color: #008080; text-decoration-color: #008080\">crew</span>                                                                                                     <span style=\"color: #008080; text-decoration-color: #008080\">│</span>\n",
       "<span style=\"color: #008080; text-decoration-color: #008080\">│</span>  <span style=\"color: #c0c0c0; text-decoration-color: #c0c0c0\">ID: </span><span style=\"color: #008080; text-decoration-color: #008080\">20d98eb1-8caf-420a-a31a-0a594a6bce8e</span>                                                                       <span style=\"color: #008080; text-decoration-color: #008080\">│</span>\n",
       "<span style=\"color: #008080; text-decoration-color: #008080\">│</span>                                                                                                                 <span style=\"color: #008080; text-decoration-color: #008080\">│</span>\n",
       "<span style=\"color: #008080; text-decoration-color: #008080\">│</span>                                                                                                                 <span style=\"color: #008080; text-decoration-color: #008080\">│</span>\n",
       "<span style=\"color: #008080; text-decoration-color: #008080\">╰─────────────────────────────────────────────────────────────────────────────────────────────────────────────────╯</span>\n",
       "</pre>\n"
      ],
      "text/plain": [
       "\u001b[36m╭─\u001b[0m\u001b[36m───────────────────────────────────────────\u001b[0m\u001b[36m Crew Execution Started \u001b[0m\u001b[36m────────────────────────────────────────────\u001b[0m\u001b[36m─╮\u001b[0m\n",
       "\u001b[36m│\u001b[0m                                                                                                                 \u001b[36m│\u001b[0m\n",
       "\u001b[36m│\u001b[0m  \u001b[1;36mCrew Execution Started\u001b[0m                                                                                         \u001b[36m│\u001b[0m\n",
       "\u001b[36m│\u001b[0m  \u001b[37mName: \u001b[0m\u001b[36mcrew\u001b[0m                                                                                                     \u001b[36m│\u001b[0m\n",
       "\u001b[36m│\u001b[0m  \u001b[37mID: \u001b[0m\u001b[36m20d98eb1-8caf-420a-a31a-0a594a6bce8e\u001b[0m                                                                       \u001b[36m│\u001b[0m\n",
       "\u001b[36m│\u001b[0m                                                                                                                 \u001b[36m│\u001b[0m\n",
       "\u001b[36m│\u001b[0m                                                                                                                 \u001b[36m│\u001b[0m\n",
       "\u001b[36m╰─────────────────────────────────────────────────────────────────────────────────────────────────────────────────╯\u001b[0m\n"
      ]
     },
     "metadata": {},
     "output_type": "display_data"
    },
    {
     "data": {
      "text/html": [
       "<pre style=\"white-space:pre;overflow-x:auto;line-height:normal;font-family:Menlo,'DejaVu Sans Mono',consolas,'Courier New',monospace\">\n",
       "</pre>\n"
      ],
      "text/plain": [
       "\n"
      ]
     },
     "metadata": {},
     "output_type": "display_data"
    },
    {
     "data": {
      "text/html": [
       "<pre style=\"white-space:pre;overflow-x:auto;line-height:normal;font-family:Menlo,'DejaVu Sans Mono',consolas,'Courier New',monospace\"><span style=\"color: #008080; text-decoration-color: #008080; font-weight: bold\">🚀 Crew: crew</span>\n",
       "└── <span style=\"color: #808000; text-decoration-color: #808000; font-weight: bold\">📋 Task: 8de276fe-175d-4045-8bd4-5f0322b5042f</span>\n",
       "    <span style=\"color: #c0c0c0; text-decoration-color: #c0c0c0\">   Status: </span><span style=\"color: #bfbf7f; text-decoration-color: #bfbf7f\">Executing Task...</span>\n",
       "</pre>\n"
      ],
      "text/plain": [
       "\u001b[1;36m🚀 Crew: \u001b[0m\u001b[1;36mcrew\u001b[0m\n",
       "└── \u001b[1;33m📋 Task: 8de276fe-175d-4045-8bd4-5f0322b5042f\u001b[0m\n",
       "    \u001b[37m   Status: \u001b[0m\u001b[2;33mExecuting Task...\u001b[0m\n"
      ]
     },
     "metadata": {},
     "output_type": "display_data"
    },
    {
     "data": {
      "text/html": [
       "<pre style=\"white-space:pre;overflow-x:auto;line-height:normal;font-family:Menlo,'DejaVu Sans Mono',consolas,'Courier New',monospace\">\n",
       "</pre>\n"
      ],
      "text/plain": [
       "\n"
      ]
     },
     "metadata": {},
     "output_type": "display_data"
    },
    {
     "data": {
      "text/html": [
       "<pre style=\"white-space:pre;overflow-x:auto;line-height:normal;font-family:Menlo,'DejaVu Sans Mono',consolas,'Courier New',monospace\"><span style=\"color: #008080; text-decoration-color: #008080; font-weight: bold\">🚀 Crew: crew</span>\n",
       "└── <span style=\"color: #808000; text-decoration-color: #808000; font-weight: bold\">📋 Task: 8de276fe-175d-4045-8bd4-5f0322b5042f</span>\n",
       "    <span style=\"color: #c0c0c0; text-decoration-color: #c0c0c0\">   Status: </span><span style=\"color: #bfbf7f; text-decoration-color: #bfbf7f\">Executing Task...</span>\n",
       "    └── <span style=\"color: #008000; text-decoration-color: #008000; font-weight: bold\">🤖 Agent: </span><span style=\"color: #008000; text-decoration-color: #008000\">Technical Skills Evaluator</span>\n",
       "        <span style=\"color: #c0c0c0; text-decoration-color: #c0c0c0\">    Status: </span><span style=\"color: #008000; text-decoration-color: #008000; font-weight: bold\">In Progress</span>\n",
       "</pre>\n"
      ],
      "text/plain": [
       "\u001b[1;36m🚀 Crew: \u001b[0m\u001b[1;36mcrew\u001b[0m\n",
       "└── \u001b[1;33m📋 Task: 8de276fe-175d-4045-8bd4-5f0322b5042f\u001b[0m\n",
       "    \u001b[37m   Status: \u001b[0m\u001b[2;33mExecuting Task...\u001b[0m\n",
       "    └── \u001b[1;32m🤖 Agent: \u001b[0m\u001b[32mTechnical Skills Evaluator\u001b[0m\n",
       "        \u001b[37m    Status: \u001b[0m\u001b[1;32mIn Progress\u001b[0m\n"
      ]
     },
     "metadata": {},
     "output_type": "display_data"
    },
    {
     "data": {
      "text/html": [
       "<pre style=\"white-space:pre;overflow-x:auto;line-height:normal;font-family:Menlo,'DejaVu Sans Mono',consolas,'Courier New',monospace\">\n",
       "</pre>\n"
      ],
      "text/plain": [
       "\n"
      ]
     },
     "metadata": {},
     "output_type": "display_data"
    },
    {
     "name": "stdout",
     "output_type": "stream",
     "text": [
      "\u001b[1m\u001b[95m# Agent:\u001b[00m \u001b[1m\u001b[92mTechnical Skills Evaluator\u001b[00m\n",
      "\u001b[95m## Task:\u001b[00m \u001b[92m\n",
      "        Evaluate the candidate's technical skills based on:\n",
      "\n",
      "        Resume Information:\n",
      "        {\n",
      "  \"personal_information\": {\n",
      "    \"name\": \"NANDINI KUPPALA\",\n",
      "    \"contact\": {\n",
      "      \"phone\": \"+91 7569056212\",\n",
      "      \"email\": \"knandini7816@gmail.com\",\n",
      "      \"linkedin\": \"https://www.linkedin.com/in/nandini-kuppala/\",\n",
      "      \"github\": \"https://github.com/nandini-kuppala\"\n",
      "    }\n",
      "  },\n",
      "  \"skills\": {\n",
      "    \"languages\": [\n",
      "      \"Python\",\n",
      "      \"Dart\",\n",
      "      \"JavaScript\",\n",
      "      \"C\"\n",
      "    ],\n",
      "    \"frameworks\": [\n",
      "      \"Flutter\",\n",
      "      \"Flask\",\n",
      "      \"Streamlit\"\n",
      "    ],\n",
      "    \"tools\": [\n",
      "      \"Git\",\n",
      "      \"Docker\",\n",
      "      \"Selenium\",\n",
      "      \"Firebase\",\n",
      "      \"MySQL\",\n",
      "      \"MongoDB\",\n",
      "      \"Linux\"\n",
      "    ],\n",
      "    \"ai_and_development\": [\n",
      "      \"Generative AI\",\n",
      "      \"ML\",\n",
      "      \"DL\",\n",
      "      \"NLP\",\n",
      "      \"Computer Vision\",\n",
      "      \"Data Structures\",\n",
      "      \"Agile\",\n",
      "      \"Testing\"\n",
      "    ]\n",
      "  },\n",
      "  \"work_experience\": [\n",
      "    {\n",
      "      \"title\": \"Infosys Springboard Internship 5.O (AI Project Intern)\",\n",
      "      \"company\": \"Infosys\",\n",
      "      \"dates\": \"December 2024 - Present\",\n",
      "      \"responsibilities\": [\n",
      "        \"Led a team of five interns and built an AI system using NLP to automate ticket classification and responses.\",\n",
      "        \"Integrated with helpdesk platforms to enhance efficiency and reduce resolution time.\"\n",
      "      ]\n",
      "    },\n",
      "    {\n",
      "      \"title\": \"Research Experience\",\n",
      "      \"company\": null,\n",
      "      \"dates\": \"October 2023 \\u2013 Present\",\n",
      "      \"responsibilities\": [\n",
      "        \"Worked on real-time machine learning projects using LANDSAT data to monitor rangeland vegetation.\",\n",
      "        \"Contributed to a 30% increase in profitability for Wyoming farmers.\"\n",
      "      ],\n",
      "      \"mentors\": [\n",
      "        \"Dr. Ramesh Sivanpillai (University of Wyoming)\",\n",
      "        \"Dr. Sajith Variyar (Amrita School of AI)\"\n",
      "      ]\n",
      "    },\n",
      "    {\n",
      "      \"title\": \"Campus Ambassador\",\n",
      "      \"company\": \"E-Cell IIT Bombay\",\n",
      "      \"dates\": \"August 2024 \\u2013 December 2024\",\n",
      "      \"responsibilities\": [\n",
      "        \"Organized events and competitions reaching over 200 participants, promoting entrepreneurship in college.\"\n",
      "      ]\n",
      "    },\n",
      "    {\n",
      "      \"title\": \"Security and Software Testing Intern\",\n",
      "      \"company\": \"Baavlibuch\",\n",
      "      \"dates\": \"February 2024 \\u2013 April 2024\",\n",
      "      \"responsibilities\": [\n",
      "        \"Automated testing procedures, reducing manual testing effort by 40% and accelerating test case execution by 25%.\",\n",
      "        \"Debugged and fixed critical application bugs, enhancing stability and performance by 30%.\",\n",
      "        \"Implemented and managed testing environments in Linux, significantly improving security and data protection.\"\n",
      "      ]\n",
      "    }\n",
      "  ],\n",
      "  \"education\": {\n",
      "    \"degree\": \"Bachelor of Engineering in Artificial Intelligence\",\n",
      "    \"institution\": \"Amrita Vishwa Vidyapeetham\",\n",
      "    \"location\": \"Coimbatore, Tamil Nadu\",\n",
      "    \"cgpa\": \"8.02\",\n",
      "    \"dates\": \"2022 \\u2013 2026\"\n",
      "  },\n",
      "  \"projects\": [\n",
      "    {\n",
      "      \"name\": \"NurtureSync: A Health Care Companion\",\n",
      "      \"description\": \"Developed a mobile and web app platform to manage chronic diseases like thyroid and diabetes. Features include personalized feedback, medical report analysis, health tracking, and a healthcare community.\",\n",
      "      \"technologies\": [\n",
      "        \"Web \\u2013 Streamlit, MongoDB, Firebase, Flask; Mobile \\u2013 Flutter, Firebase, MongoDB\"\n",
      "      ],\n",
      "      \"link\": \"https://nurturesynchealth.streamlit.app/\"\n",
      "    },\n",
      "    {\n",
      "      \"name\": \"DeepFake Video Detection\",\n",
      "      \"description\": \"Improved the model\\u2019s accuracy by 15% in detecting DeepFake videos using a pipeline of MTCNN for face detection, ResNet for feature extraction, and LSTM for temporal analysis. Developed a Chrome extension for DeepFake image detection and working towards real-time video detection\",\n",
      "      \"technologies\": [\n",
      "        \"MTCNN\",\n",
      "        \"ResNet\",\n",
      "        \"LSTM\"\n",
      "      ],\n",
      "      \"link\": \"https://github.com/nandini-queen-of-my-world/Deepfake-detection\"\n",
      "    }\n",
      "  ],\n",
      "  \"achievements\": [\n",
      "    \"Finalist at the Health Hackathon by Johns Hopkins University at VIT Bhopal, selected from 232 teams and over 1,300 participants for the project NurtureSync.\"\n",
      "  ],\n",
      "  \"publications\": [\n",
      "    {\n",
      "      \"title\": \"Mapping Vegetation Dynamics in Wyoming: A Multi-Temporal Analysis Using Landsat NDVI and Clustering\",\n",
      "      \"venue\": \"ASPRS International Technical Symposium 2024\",\n",
      "      \"link\": \"https://isprs-archives.copernicus.org/articles/XLVIII-M-5-2024/87/2025/\"\n",
      "    },\n",
      "    {\n",
      "      \"title\": \"Preterm Birth Prediction Using GraphSAGE and Electrohysterogram Data\",\n",
      "      \"venue\": \"IEEE Eleventh International Conference on Biosignals, Images, and Instrumentation (ICBSII)\",\n",
      "      \"link\": \"https://isprs-archives.copernicus.org/articles/XLVIII-M-5-2024/87/2025/\"\n",
      "    }\n",
      "  ],\n",
      "  \"profiles\": {\n",
      "    \"leetcode\": \"https://leetcode.com/u/Nandini_Queen/\",\n",
      "    \"geeksforgeeks\": \"https://www.geeksforgeeks.org/user/knandin8fsf/\",\n",
      "    \"hackerrank\": \"https://www.hackerrank.com/profile/knandini7816\"\n",
      "  },\n",
      "  \"certifications\": [\n",
      "    {\n",
      "      \"name\": \"Artificial Intelligence Course Series (118 hr length)\",\n",
      "      \"provider\": \"Infosys Springboard\",\n",
      "      \"link\": \"https://infyspringboard.onwingspan.com/web/en/app/profile/competency/certificate\"\n",
      "    },\n",
      "    {\n",
      "      \"name\": \"Agile Scrum in Practice\",\n",
      "      \"provider\": \"Infosys Springboard\",\n",
      "      \"link\": \"https://infyspringboard.onwingspan.com/web/en/app/profile/competency/certificate\"\n",
      "    },\n",
      "    {\n",
      "      \"name\": \"Data Structures and Performance\",\n",
      "      \"provider\": \"Coursera\",\n",
      "      \"link\": \"https://coursera.org/share/1d4edbf7bd94d9c9409693f3ed34623e\"\n",
      "    },\n",
      "    {\n",
      "      \"name\": \"Python Basic, Problem Solving Basic\",\n",
      "      \"provider\": \"Hacker Rank\",\n",
      "      \"link\": \"https://www.hackerrank.com/certificates/29cd025a29fc\"\n",
      "    }\n",
      "  ]\n",
      "}\n",
      "\n",
      "        Profile Data:\n",
      "        {\n",
      "  \"leetcode\": {\n",
      "    \"username\": \"Nandini_Queen\",\n",
      "    \"total_problems_solved\": 272,\n",
      "    \"problems_by_difficulty\": {\n",
      "      \"All\": 136,\n",
      "      \"Easy\": 58,\n",
      "      \"Medium\": 68,\n",
      "      \"Hard\": 10\n",
      "    },\n",
      "    \"ranking\": 883997,\n",
      "    \"reputation\": 0,\n",
      "    \"badges\": [\n",
      "      \"Study Plan V2 Award\"\n",
      "    ]\n",
      "  },\n",
      "  \"geeksforgeeks\": {\n",
      "    \"notes\": \"Partial information found through search.  Multiple users with similar names exist.  Unable to definitively link to a specific profile with the available tools.\"\n",
      "  },\n",
      "  \"hackerrank\": {\n",
      "    \"notes\": \"No profile found using available tools and search.  Further investigation may be needed.\"\n",
      "  }\n",
      "}\n",
      "\n",
      "        Certification Data:\n",
      "        {\n",
      "  \"certifications\": [\n",
      "    {\n",
      "      \"name\": \"Artificial Intelligence Course Series (118 hr length)\",\n",
      "      \"provider\": \"Infosys Springboard\",\n",
      "      \"link\": \"https://infyspringboard.onwingspan.com/web/en/app/profile/competency/certificate\",\n",
      "      \"verification_status\": \"unverified\",\n",
      "      \"confidence_level\": \"low\",\n",
      "      \"skills\": [\n",
      "        \"Artificial Intelligence\"\n",
      "      ],\n",
      "      \"issuer_credibility\": \"Medium - Infosys is a reputable IT services company, but verification of this specific certificate is impossible without a direct link.\",\n",
      "      \"issue_date\": null,\n",
      "      \"expiration_date\": null\n",
      "    },\n",
      "    {\n",
      "      \"name\": \"Agile Scrum in Practice\",\n",
      "      \"provider\": \"Infosys Springboard\",\n",
      "      \"link\": \"https://infyspringboard.onwingspan.com/web/en/app/profile/competency/certificate\",\n",
      "      \"verification_status\": \"unverified\",\n",
      "      \"confidence_level\": \"low\",\n",
      "      \"skills\": [\n",
      "        \"Agile\",\n",
      "        \"Scrum\"\n",
      "      ],\n",
      "      \"issuer_credibility\": \"Medium - Infosys is a reputable IT services company, but verification of this specific certificate is impossible without a direct link.\",\n",
      "      \"issue_date\": null,\n",
      "      \"expiration_date\": null\n",
      "    },\n",
      "    {\n",
      "      \"name\": \"Data Structures and Performance\",\n",
      "      \"provider\": \"Coursera\",\n",
      "      \"link\": \"https://coursera.org/share/1d4edbf7bd94d9c9409693f3ed34623e\",\n",
      "      \"verification_status\": \"unverified\",\n",
      "      \"confidence_level\": \"low\",\n",
      "      \"skills\": [\n",
      "        \"Data Structures\",\n",
      "        \"Algorithm Performance\"\n",
      "      ],\n",
      "      \"issuer_credibility\": \"High - Coursera is a reputable online learning platform.\",\n",
      "      \"issue_date\": null,\n",
      "      \"expiration_date\": null\n",
      "    },\n",
      "    {\n",
      "      \"name\": \"Python Basic, Problem Solving Basic\",\n",
      "      \"provider\": \"HackerRank\",\n",
      "      \"link\": \"https://www.hackerrank.com/certificates/29cd025a29fc\",\n",
      "      \"verification_status\": \"unverified\",\n",
      "      \"confidence_level\": \"low\",\n",
      "      \"skills\": [\n",
      "        \"Python Programming\",\n",
      "        \"Problem Solving\"\n",
      "      ],\n",
      "      \"issuer_credibility\": \"Medium - HackerRank is a reputable platform for coding challenges, but verification requires access to the certificate.\",\n",
      "      \"issue_date\": null,\n",
      "      \"expiration_date\": null\n",
      "    }\n",
      "  ],\n",
      "  \"skills_assessment\": [],\n",
      "  \"summary\": \"Due to limitations in tool functionality, a complete verification and skills assessment could not be performed.  The provided links for Infosys Springboard certificates are insufficient for verification.  Further investigation is needed to verify the Coursera and HackerRank certificates.\"\n",
      "}\n",
      "\n",
      "        Provide an objective assessment of:\n",
      "        1. Technical skill levels in each language/framework/tool with a 1-10 rating\n",
      "        2. Evidence of practical application of claimed skills\n",
      "        3. Depth of knowledge in primary areas\n",
      "        4. Learning ability and adaptability based on skill acquisition timeline\n",
      "        5. Areas of technical strength with specific evidence from resume/profiles/certifications\n",
      "        6. Potential growth areas or skill gaps\n",
      "        7. Specialization vs. generalist assessment\n",
      "\n",
      "        For each skill:\n",
      "        - Distinguish between claimed skills and demonstrated skills\n",
      "        - Consider both experience (years) and evidence of mastery\n",
      "        - Weigh profile evidence more heavily than resume claims\n",
      "        - Consider certification difficulty and relevance\n",
      "\n",
      "        Return your evaluation in a structured JSON format with skills grouped by category\n",
      "        (languages, frameworks, tools, etc.) and each assigned a numerical rating.\n",
      "        \u001b[00m\n"
     ]
    },
    {
     "data": {
      "text/html": [
       "<pre style=\"white-space:pre;overflow-x:auto;line-height:normal;font-family:Menlo,'DejaVu Sans Mono',consolas,'Courier New',monospace\"><span style=\"color: #008080; text-decoration-color: #008080; font-weight: bold\">🚀 Crew: crew</span>\n",
       "└── <span style=\"color: #808000; text-decoration-color: #808000; font-weight: bold\">📋 Task: 8de276fe-175d-4045-8bd4-5f0322b5042f</span>\n",
       "    <span style=\"color: #c0c0c0; text-decoration-color: #c0c0c0\">   Status: </span><span style=\"color: #bfbf7f; text-decoration-color: #bfbf7f\">Executing Task...</span>\n",
       "    └── <span style=\"color: #008000; text-decoration-color: #008000; font-weight: bold\">🤖 Agent: </span><span style=\"color: #008000; text-decoration-color: #008000\">Technical Skills Evaluator</span>\n",
       "        <span style=\"color: #c0c0c0; text-decoration-color: #c0c0c0\">    Status: </span><span style=\"color: #008000; text-decoration-color: #008000; font-weight: bold\">In Progress</span>\n",
       "        └── <span style=\"color: #000080; text-decoration-color: #000080; font-weight: bold\">🧠 </span><span style=\"color: #000080; text-decoration-color: #000080\">Thinking...</span>\n",
       "</pre>\n"
      ],
      "text/plain": [
       "\u001b[1;36m🚀 Crew: \u001b[0m\u001b[1;36mcrew\u001b[0m\n",
       "└── \u001b[1;33m📋 Task: 8de276fe-175d-4045-8bd4-5f0322b5042f\u001b[0m\n",
       "    \u001b[37m   Status: \u001b[0m\u001b[2;33mExecuting Task...\u001b[0m\n",
       "    └── \u001b[1;32m🤖 Agent: \u001b[0m\u001b[32mTechnical Skills Evaluator\u001b[0m\n",
       "        \u001b[37m    Status: \u001b[0m\u001b[1;32mIn Progress\u001b[0m\n",
       "        └── \u001b[1;34m🧠 \u001b[0m\u001b[34mThinking...\u001b[0m\n"
      ]
     },
     "metadata": {},
     "output_type": "display_data"
    },
    {
     "data": {
      "text/html": [
       "<pre style=\"white-space:pre;overflow-x:auto;line-height:normal;font-family:Menlo,'DejaVu Sans Mono',consolas,'Courier New',monospace\">\n",
       "</pre>\n"
      ],
      "text/plain": [
       "\n"
      ]
     },
     "metadata": {},
     "output_type": "display_data"
    },
    {
     "data": {
      "text/html": [
       "<pre style=\"white-space:pre;overflow-x:auto;line-height:normal;font-family:Menlo,'DejaVu Sans Mono',consolas,'Courier New',monospace\"><span style=\"color: #008080; text-decoration-color: #008080; font-weight: bold\">🚀 Crew: crew</span>\n",
       "└── <span style=\"color: #808000; text-decoration-color: #808000; font-weight: bold\">📋 Task: 8de276fe-175d-4045-8bd4-5f0322b5042f</span>\n",
       "    <span style=\"color: #c0c0c0; text-decoration-color: #c0c0c0\">   Status: </span><span style=\"color: #bfbf7f; text-decoration-color: #bfbf7f\">Executing Task...</span>\n",
       "    └── <span style=\"color: #008000; text-decoration-color: #008000; font-weight: bold\">🤖 Agent: </span><span style=\"color: #008000; text-decoration-color: #008000\">Technical Skills Evaluator</span>\n",
       "        <span style=\"color: #c0c0c0; text-decoration-color: #c0c0c0\">    Status: </span><span style=\"color: #008000; text-decoration-color: #008000; font-weight: bold\">In Progress</span>\n",
       "</pre>\n"
      ],
      "text/plain": [
       "\u001b[1;36m🚀 Crew: \u001b[0m\u001b[1;36mcrew\u001b[0m\n",
       "└── \u001b[1;33m📋 Task: 8de276fe-175d-4045-8bd4-5f0322b5042f\u001b[0m\n",
       "    \u001b[37m   Status: \u001b[0m\u001b[2;33mExecuting Task...\u001b[0m\n",
       "    └── \u001b[1;32m🤖 Agent: \u001b[0m\u001b[32mTechnical Skills Evaluator\u001b[0m\n",
       "        \u001b[37m    Status: \u001b[0m\u001b[1;32mIn Progress\u001b[0m\n"
      ]
     },
     "metadata": {},
     "output_type": "display_data"
    },
    {
     "data": {
      "text/html": [
       "<pre style=\"white-space:pre;overflow-x:auto;line-height:normal;font-family:Menlo,'DejaVu Sans Mono',consolas,'Courier New',monospace\">\n",
       "</pre>\n"
      ],
      "text/plain": [
       "\n"
      ]
     },
     "metadata": {},
     "output_type": "display_data"
    },
    {
     "data": {
      "text/html": [
       "<pre style=\"white-space:pre;overflow-x:auto;line-height:normal;font-family:Menlo,'DejaVu Sans Mono',consolas,'Courier New',monospace\"><span style=\"color: #008080; text-decoration-color: #008080; font-weight: bold\">🚀 Crew: crew</span>\n",
       "└── <span style=\"color: #808000; text-decoration-color: #808000; font-weight: bold\">📋 Task: 8de276fe-175d-4045-8bd4-5f0322b5042f</span>\n",
       "    <span style=\"color: #c0c0c0; text-decoration-color: #c0c0c0\">   Status: </span><span style=\"color: #bfbf7f; text-decoration-color: #bfbf7f\">Executing Task...</span>\n",
       "    └── <span style=\"color: #008000; text-decoration-color: #008000; font-weight: bold\">🤖 Agent: </span><span style=\"color: #008000; text-decoration-color: #008000\">Technical Skills Evaluator</span>\n",
       "        <span style=\"color: #c0c0c0; text-decoration-color: #c0c0c0\">    Status: </span><span style=\"color: #008000; text-decoration-color: #008000; font-weight: bold\">In Progress</span>\n",
       "        └── <span style=\"color: #808000; text-decoration-color: #808000; font-weight: bold\">🔧 </span><span style=\"color: #808000; text-decoration-color: #808000\">Using Search Tool (7)</span>\n",
       "</pre>\n"
      ],
      "text/plain": [
       "\u001b[1;36m🚀 Crew: \u001b[0m\u001b[1;36mcrew\u001b[0m\n",
       "└── \u001b[1;33m📋 Task: 8de276fe-175d-4045-8bd4-5f0322b5042f\u001b[0m\n",
       "    \u001b[37m   Status: \u001b[0m\u001b[2;33mExecuting Task...\u001b[0m\n",
       "    └── \u001b[1;32m🤖 Agent: \u001b[0m\u001b[32mTechnical Skills Evaluator\u001b[0m\n",
       "        \u001b[37m    Status: \u001b[0m\u001b[1;32mIn Progress\u001b[0m\n",
       "        └── \u001b[1;33m🔧 \u001b[0m\u001b[33mUsing Search Tool (7)\u001b[0m\n"
      ]
     },
     "metadata": {},
     "output_type": "display_data"
    },
    {
     "data": {
      "text/html": [
       "<pre style=\"white-space:pre;overflow-x:auto;line-height:normal;font-family:Menlo,'DejaVu Sans Mono',consolas,'Courier New',monospace\">\n",
       "</pre>\n"
      ],
      "text/plain": [
       "\n"
      ]
     },
     "metadata": {},
     "output_type": "display_data"
    },
    {
     "data": {
      "text/html": [
       "<pre style=\"white-space:pre;overflow-x:auto;line-height:normal;font-family:Menlo,'DejaVu Sans Mono',consolas,'Courier New',monospace\"><span style=\"color: #008080; text-decoration-color: #008080; font-weight: bold\">🚀 Crew: crew</span>\n",
       "└── <span style=\"color: #808000; text-decoration-color: #808000; font-weight: bold\">📋 Task: 8de276fe-175d-4045-8bd4-5f0322b5042f</span>\n",
       "    <span style=\"color: #c0c0c0; text-decoration-color: #c0c0c0\">   Status: </span><span style=\"color: #bfbf7f; text-decoration-color: #bfbf7f\">Executing Task...</span>\n",
       "    └── <span style=\"color: #008000; text-decoration-color: #008000; font-weight: bold\">🤖 Agent: </span><span style=\"color: #008000; text-decoration-color: #008000\">Technical Skills Evaluator</span>\n",
       "        <span style=\"color: #c0c0c0; text-decoration-color: #c0c0c0\">    Status: </span><span style=\"color: #008000; text-decoration-color: #008000; font-weight: bold\">In Progress</span>\n",
       "        └── <span style=\"color: #800000; text-decoration-color: #800000; font-weight: bold\">🔧 Failed </span><span style=\"color: #800000; text-decoration-color: #800000\">Search Tool (7)</span>\n",
       "</pre>\n"
      ],
      "text/plain": [
       "\u001b[1;36m🚀 Crew: \u001b[0m\u001b[1;36mcrew\u001b[0m\n",
       "└── \u001b[1;33m📋 Task: 8de276fe-175d-4045-8bd4-5f0322b5042f\u001b[0m\n",
       "    \u001b[37m   Status: \u001b[0m\u001b[2;33mExecuting Task...\u001b[0m\n",
       "    └── \u001b[1;32m🤖 Agent: \u001b[0m\u001b[32mTechnical Skills Evaluator\u001b[0m\n",
       "        \u001b[37m    Status: \u001b[0m\u001b[1;32mIn Progress\u001b[0m\n",
       "        └── \u001b[1;31m🔧 Failed \u001b[0m\u001b[31mSearch Tool (7)\u001b[0m\n"
      ]
     },
     "metadata": {},
     "output_type": "display_data"
    },
    {
     "data": {
      "text/html": [
       "<pre style=\"white-space:pre;overflow-x:auto;line-height:normal;font-family:Menlo,'DejaVu Sans Mono',consolas,'Courier New',monospace\">\n",
       "</pre>\n"
      ],
      "text/plain": [
       "\n"
      ]
     },
     "metadata": {},
     "output_type": "display_data"
    },
    {
     "data": {
      "text/html": [
       "<pre style=\"white-space:pre;overflow-x:auto;line-height:normal;font-family:Menlo,'DejaVu Sans Mono',consolas,'Courier New',monospace\"><span style=\"color: #800000; text-decoration-color: #800000\">╭────────────────────────────────────────────────── Tool Error ───────────────────────────────────────────────────╮</span>\n",
       "<span style=\"color: #800000; text-decoration-color: #800000\">│</span>                                                                                                                 <span style=\"color: #800000; text-decoration-color: #800000\">│</span>\n",
       "<span style=\"color: #800000; text-decoration-color: #800000\">│</span>  <span style=\"color: #800000; text-decoration-color: #800000; font-weight: bold\">Tool Usage Failed</span>                                                                                              <span style=\"color: #800000; text-decoration-color: #800000\">│</span>\n",
       "<span style=\"color: #800000; text-decoration-color: #800000\">│</span>  <span style=\"color: #c0c0c0; text-decoration-color: #c0c0c0\">Name: </span><span style=\"color: #800000; text-decoration-color: #800000\">Search Tool</span>                                                                                              <span style=\"color: #800000; text-decoration-color: #800000\">│</span>\n",
       "<span style=\"color: #800000; text-decoration-color: #800000\">│</span>  <span style=\"color: #c0c0c0; text-decoration-color: #c0c0c0\">Error: </span><span style=\"color: #800000; text-decoration-color: #800000\">Arguments validation failed: 1 validation error for SearchToolSchema</span>                                    <span style=\"color: #800000; text-decoration-color: #800000\">│</span>\n",
       "<span style=\"color: #800000; text-decoration-color: #800000\">│</span>  <span style=\"color: #800000; text-decoration-color: #800000\">query</span>                                                                                                          <span style=\"color: #800000; text-decoration-color: #800000\">│</span>\n",
       "<span style=\"color: #800000; text-decoration-color: #800000\">│</span>  <span style=\"color: #800000; text-decoration-color: #800000\">  Input should be a valid string [type=string_type, input_value={'description': 'Verify I...bility.', 'type':</span>  <span style=\"color: #800000; text-decoration-color: #800000\">│</span>\n",
       "<span style=\"color: #800000; text-decoration-color: #800000\">│</span>  <span style=\"color: #800000; text-decoration-color: #800000\">'str'}, input_type=dict]</span>                                                                                       <span style=\"color: #800000; text-decoration-color: #800000\">│</span>\n",
       "<span style=\"color: #800000; text-decoration-color: #800000\">│</span>  <span style=\"color: #800000; text-decoration-color: #800000\">    For further information visit https://errors.pydantic.dev/2.10/v/string_type</span>                               <span style=\"color: #800000; text-decoration-color: #800000\">│</span>\n",
       "<span style=\"color: #800000; text-decoration-color: #800000\">│</span>                                                                                                                 <span style=\"color: #800000; text-decoration-color: #800000\">│</span>\n",
       "<span style=\"color: #800000; text-decoration-color: #800000\">│</span>                                                                                                                 <span style=\"color: #800000; text-decoration-color: #800000\">│</span>\n",
       "<span style=\"color: #800000; text-decoration-color: #800000\">╰─────────────────────────────────────────────────────────────────────────────────────────────────────────────────╯</span>\n",
       "</pre>\n"
      ],
      "text/plain": [
       "\u001b[31m╭─\u001b[0m\u001b[31m─────────────────────────────────────────────────\u001b[0m\u001b[31m Tool Error \u001b[0m\u001b[31m──────────────────────────────────────────────────\u001b[0m\u001b[31m─╮\u001b[0m\n",
       "\u001b[31m│\u001b[0m                                                                                                                 \u001b[31m│\u001b[0m\n",
       "\u001b[31m│\u001b[0m  \u001b[1;31mTool Usage Failed\u001b[0m                                                                                              \u001b[31m│\u001b[0m\n",
       "\u001b[31m│\u001b[0m  \u001b[37mName: \u001b[0m\u001b[31mSearch Tool\u001b[0m                                                                                              \u001b[31m│\u001b[0m\n",
       "\u001b[31m│\u001b[0m  \u001b[37mError: \u001b[0m\u001b[31mArguments validation failed: 1 validation error for SearchToolSchema\u001b[0m                                    \u001b[31m│\u001b[0m\n",
       "\u001b[31m│\u001b[0m  \u001b[31mquery\u001b[0m                                                                                                          \u001b[31m│\u001b[0m\n",
       "\u001b[31m│\u001b[0m  \u001b[31m  Input should be a valid string [type=string_type, input_value={'description': 'Verify I...bility.', 'type':\u001b[0m  \u001b[31m│\u001b[0m\n",
       "\u001b[31m│\u001b[0m  \u001b[31m'str'}, input_type=dict]\u001b[0m                                                                                       \u001b[31m│\u001b[0m\n",
       "\u001b[31m│\u001b[0m  \u001b[31m    For further information visit https://errors.pydantic.dev/2.10/v/string_type\u001b[0m                               \u001b[31m│\u001b[0m\n",
       "\u001b[31m│\u001b[0m                                                                                                                 \u001b[31m│\u001b[0m\n",
       "\u001b[31m│\u001b[0m                                                                                                                 \u001b[31m│\u001b[0m\n",
       "\u001b[31m╰─────────────────────────────────────────────────────────────────────────────────────────────────────────────────╯\u001b[0m\n"
      ]
     },
     "metadata": {},
     "output_type": "display_data"
    },
    {
     "data": {
      "text/html": [
       "<pre style=\"white-space:pre;overflow-x:auto;line-height:normal;font-family:Menlo,'DejaVu Sans Mono',consolas,'Courier New',monospace\">\n",
       "</pre>\n"
      ],
      "text/plain": [
       "\n"
      ]
     },
     "metadata": {},
     "output_type": "display_data"
    },
    {
     "data": {
      "text/html": [
       "<pre style=\"white-space:pre;overflow-x:auto;line-height:normal;font-family:Menlo,'DejaVu Sans Mono',consolas,'Courier New',monospace\"><span style=\"color: #008080; text-decoration-color: #008080; font-weight: bold\">🚀 Crew: crew</span>\n",
       "└── <span style=\"color: #808000; text-decoration-color: #808000; font-weight: bold\">📋 Task: 8de276fe-175d-4045-8bd4-5f0322b5042f</span>\n",
       "    <span style=\"color: #c0c0c0; text-decoration-color: #c0c0c0\">   Status: </span><span style=\"color: #bfbf7f; text-decoration-color: #bfbf7f\">Executing Task...</span>\n",
       "    └── <span style=\"color: #008000; text-decoration-color: #008000; font-weight: bold\">🤖 Agent: </span><span style=\"color: #008000; text-decoration-color: #008000\">Technical Skills Evaluator</span>\n",
       "        <span style=\"color: #c0c0c0; text-decoration-color: #c0c0c0\">    Status: </span><span style=\"color: #008000; text-decoration-color: #008000; font-weight: bold\">In Progress</span>\n",
       "        └── <span style=\"color: #800000; text-decoration-color: #800000; font-weight: bold\">🔧 Failed </span><span style=\"color: #800000; text-decoration-color: #800000\">Search Tool (7)</span>\n",
       "</pre>\n"
      ],
      "text/plain": [
       "\u001b[1;36m🚀 Crew: \u001b[0m\u001b[1;36mcrew\u001b[0m\n",
       "└── \u001b[1;33m📋 Task: 8de276fe-175d-4045-8bd4-5f0322b5042f\u001b[0m\n",
       "    \u001b[37m   Status: \u001b[0m\u001b[2;33mExecuting Task...\u001b[0m\n",
       "    └── \u001b[1;32m🤖 Agent: \u001b[0m\u001b[32mTechnical Skills Evaluator\u001b[0m\n",
       "        \u001b[37m    Status: \u001b[0m\u001b[1;32mIn Progress\u001b[0m\n",
       "        └── \u001b[1;31m🔧 Failed \u001b[0m\u001b[31mSearch Tool (7)\u001b[0m\n"
      ]
     },
     "metadata": {},
     "output_type": "display_data"
    },
    {
     "data": {
      "text/html": [
       "<pre style=\"white-space:pre;overflow-x:auto;line-height:normal;font-family:Menlo,'DejaVu Sans Mono',consolas,'Courier New',monospace\">\n",
       "</pre>\n"
      ],
      "text/plain": [
       "\n"
      ]
     },
     "metadata": {},
     "output_type": "display_data"
    },
    {
     "data": {
      "text/html": [
       "<pre style=\"white-space:pre;overflow-x:auto;line-height:normal;font-family:Menlo,'DejaVu Sans Mono',consolas,'Courier New',monospace\"><span style=\"color: #800000; text-decoration-color: #800000\">╭────────────────────────────────────────────────── Tool Error ───────────────────────────────────────────────────╮</span>\n",
       "<span style=\"color: #800000; text-decoration-color: #800000\">│</span>                                                                                                                 <span style=\"color: #800000; text-decoration-color: #800000\">│</span>\n",
       "<span style=\"color: #800000; text-decoration-color: #800000\">│</span>  <span style=\"color: #800000; text-decoration-color: #800000; font-weight: bold\">Tool Usage Failed</span>                                                                                              <span style=\"color: #800000; text-decoration-color: #800000\">│</span>\n",
       "<span style=\"color: #800000; text-decoration-color: #800000\">│</span>  <span style=\"color: #c0c0c0; text-decoration-color: #c0c0c0\">Name: </span><span style=\"color: #800000; text-decoration-color: #800000\">Search Tool</span>                                                                                              <span style=\"color: #800000; text-decoration-color: #800000\">│</span>\n",
       "<span style=\"color: #800000; text-decoration-color: #800000\">│</span>  <span style=\"color: #c0c0c0; text-decoration-color: #c0c0c0\">Error: </span><span style=\"color: #800000; text-decoration-color: #800000\">Arguments validation failed: 1 validation error for SearchToolSchema</span>                                    <span style=\"color: #800000; text-decoration-color: #800000\">│</span>\n",
       "<span style=\"color: #800000; text-decoration-color: #800000\">│</span>  <span style=\"color: #800000; text-decoration-color: #800000\">query</span>                                                                                                          <span style=\"color: #800000; text-decoration-color: #800000\">│</span>\n",
       "<span style=\"color: #800000; text-decoration-color: #800000\">│</span>  <span style=\"color: #800000; text-decoration-color: #800000\">  Input should be a valid string [type=string_type, input_value={'description': 'Verify I...bility.', 'type':</span>  <span style=\"color: #800000; text-decoration-color: #800000\">│</span>\n",
       "<span style=\"color: #800000; text-decoration-color: #800000\">│</span>  <span style=\"color: #800000; text-decoration-color: #800000\">'str'}, input_type=dict]</span>                                                                                       <span style=\"color: #800000; text-decoration-color: #800000\">│</span>\n",
       "<span style=\"color: #800000; text-decoration-color: #800000\">│</span>  <span style=\"color: #800000; text-decoration-color: #800000\">    For further information visit https://errors.pydantic.dev/2.10/v/string_type</span>                               <span style=\"color: #800000; text-decoration-color: #800000\">│</span>\n",
       "<span style=\"color: #800000; text-decoration-color: #800000\">│</span>                                                                                                                 <span style=\"color: #800000; text-decoration-color: #800000\">│</span>\n",
       "<span style=\"color: #800000; text-decoration-color: #800000\">│</span>                                                                                                                 <span style=\"color: #800000; text-decoration-color: #800000\">│</span>\n",
       "<span style=\"color: #800000; text-decoration-color: #800000\">╰─────────────────────────────────────────────────────────────────────────────────────────────────────────────────╯</span>\n",
       "</pre>\n"
      ],
      "text/plain": [
       "\u001b[31m╭─\u001b[0m\u001b[31m─────────────────────────────────────────────────\u001b[0m\u001b[31m Tool Error \u001b[0m\u001b[31m──────────────────────────────────────────────────\u001b[0m\u001b[31m─╮\u001b[0m\n",
       "\u001b[31m│\u001b[0m                                                                                                                 \u001b[31m│\u001b[0m\n",
       "\u001b[31m│\u001b[0m  \u001b[1;31mTool Usage Failed\u001b[0m                                                                                              \u001b[31m│\u001b[0m\n",
       "\u001b[31m│\u001b[0m  \u001b[37mName: \u001b[0m\u001b[31mSearch Tool\u001b[0m                                                                                              \u001b[31m│\u001b[0m\n",
       "\u001b[31m│\u001b[0m  \u001b[37mError: \u001b[0m\u001b[31mArguments validation failed: 1 validation error for SearchToolSchema\u001b[0m                                    \u001b[31m│\u001b[0m\n",
       "\u001b[31m│\u001b[0m  \u001b[31mquery\u001b[0m                                                                                                          \u001b[31m│\u001b[0m\n",
       "\u001b[31m│\u001b[0m  \u001b[31m  Input should be a valid string [type=string_type, input_value={'description': 'Verify I...bility.', 'type':\u001b[0m  \u001b[31m│\u001b[0m\n",
       "\u001b[31m│\u001b[0m  \u001b[31m'str'}, input_type=dict]\u001b[0m                                                                                       \u001b[31m│\u001b[0m\n",
       "\u001b[31m│\u001b[0m  \u001b[31m    For further information visit https://errors.pydantic.dev/2.10/v/string_type\u001b[0m                               \u001b[31m│\u001b[0m\n",
       "\u001b[31m│\u001b[0m                                                                                                                 \u001b[31m│\u001b[0m\n",
       "\u001b[31m│\u001b[0m                                                                                                                 \u001b[31m│\u001b[0m\n",
       "\u001b[31m╰─────────────────────────────────────────────────────────────────────────────────────────────────────────────────╯\u001b[0m\n"
      ]
     },
     "metadata": {},
     "output_type": "display_data"
    },
    {
     "data": {
      "text/html": [
       "<pre style=\"white-space:pre;overflow-x:auto;line-height:normal;font-family:Menlo,'DejaVu Sans Mono',consolas,'Courier New',monospace\">\n",
       "</pre>\n"
      ],
      "text/plain": [
       "\n"
      ]
     },
     "metadata": {},
     "output_type": "display_data"
    },
    {
     "data": {
      "text/html": [
       "<pre style=\"white-space:pre;overflow-x:auto;line-height:normal;font-family:Menlo,'DejaVu Sans Mono',consolas,'Courier New',monospace\"><span style=\"color: #008080; text-decoration-color: #008080; font-weight: bold\">🚀 Crew: crew</span>\n",
       "└── <span style=\"color: #808000; text-decoration-color: #808000; font-weight: bold\">📋 Task: 8de276fe-175d-4045-8bd4-5f0322b5042f</span>\n",
       "    <span style=\"color: #c0c0c0; text-decoration-color: #c0c0c0\">   Status: </span><span style=\"color: #bfbf7f; text-decoration-color: #bfbf7f\">Executing Task...</span>\n",
       "    └── <span style=\"color: #008000; text-decoration-color: #008000; font-weight: bold\">🤖 Agent: </span><span style=\"color: #008000; text-decoration-color: #008000\">Technical Skills Evaluator</span>\n",
       "        <span style=\"color: #c0c0c0; text-decoration-color: #c0c0c0\">    Status: </span><span style=\"color: #008000; text-decoration-color: #008000; font-weight: bold\">In Progress</span>\n",
       "        └── <span style=\"color: #800000; text-decoration-color: #800000; font-weight: bold\">🔧 Failed </span><span style=\"color: #800000; text-decoration-color: #800000\">Search Tool (7)</span>\n",
       "</pre>\n"
      ],
      "text/plain": [
       "\u001b[1;36m🚀 Crew: \u001b[0m\u001b[1;36mcrew\u001b[0m\n",
       "└── \u001b[1;33m📋 Task: 8de276fe-175d-4045-8bd4-5f0322b5042f\u001b[0m\n",
       "    \u001b[37m   Status: \u001b[0m\u001b[2;33mExecuting Task...\u001b[0m\n",
       "    └── \u001b[1;32m🤖 Agent: \u001b[0m\u001b[32mTechnical Skills Evaluator\u001b[0m\n",
       "        \u001b[37m    Status: \u001b[0m\u001b[1;32mIn Progress\u001b[0m\n",
       "        └── \u001b[1;31m🔧 Failed \u001b[0m\u001b[31mSearch Tool (7)\u001b[0m\n"
      ]
     },
     "metadata": {},
     "output_type": "display_data"
    },
    {
     "data": {
      "text/html": [
       "<pre style=\"white-space:pre;overflow-x:auto;line-height:normal;font-family:Menlo,'DejaVu Sans Mono',consolas,'Courier New',monospace\">\n",
       "</pre>\n"
      ],
      "text/plain": [
       "\n"
      ]
     },
     "metadata": {},
     "output_type": "display_data"
    },
    {
     "data": {
      "text/html": [
       "<pre style=\"white-space:pre;overflow-x:auto;line-height:normal;font-family:Menlo,'DejaVu Sans Mono',consolas,'Courier New',monospace\"><span style=\"color: #800000; text-decoration-color: #800000\">╭────────────────────────────────────────────────── Tool Error ───────────────────────────────────────────────────╮</span>\n",
       "<span style=\"color: #800000; text-decoration-color: #800000\">│</span>                                                                                                                 <span style=\"color: #800000; text-decoration-color: #800000\">│</span>\n",
       "<span style=\"color: #800000; text-decoration-color: #800000\">│</span>  <span style=\"color: #800000; text-decoration-color: #800000; font-weight: bold\">Tool Usage Failed</span>                                                                                              <span style=\"color: #800000; text-decoration-color: #800000\">│</span>\n",
       "<span style=\"color: #800000; text-decoration-color: #800000\">│</span>  <span style=\"color: #c0c0c0; text-decoration-color: #c0c0c0\">Name: </span><span style=\"color: #800000; text-decoration-color: #800000\">Search Tool</span>                                                                                              <span style=\"color: #800000; text-decoration-color: #800000\">│</span>\n",
       "<span style=\"color: #800000; text-decoration-color: #800000\">│</span>  <span style=\"color: #c0c0c0; text-decoration-color: #c0c0c0\">Error: </span><span style=\"color: #800000; text-decoration-color: #800000\">Arguments validation failed: 1 validation error for SearchToolSchema</span>                                    <span style=\"color: #800000; text-decoration-color: #800000\">│</span>\n",
       "<span style=\"color: #800000; text-decoration-color: #800000\">│</span>  <span style=\"color: #800000; text-decoration-color: #800000\">query</span>                                                                                                          <span style=\"color: #800000; text-decoration-color: #800000\">│</span>\n",
       "<span style=\"color: #800000; text-decoration-color: #800000\">│</span>  <span style=\"color: #800000; text-decoration-color: #800000\">  Input should be a valid string [type=string_type, input_value={'description': 'Verify I...bility.', 'type':</span>  <span style=\"color: #800000; text-decoration-color: #800000\">│</span>\n",
       "<span style=\"color: #800000; text-decoration-color: #800000\">│</span>  <span style=\"color: #800000; text-decoration-color: #800000\">'str'}, input_type=dict]</span>                                                                                       <span style=\"color: #800000; text-decoration-color: #800000\">│</span>\n",
       "<span style=\"color: #800000; text-decoration-color: #800000\">│</span>  <span style=\"color: #800000; text-decoration-color: #800000\">    For further information visit https://errors.pydantic.dev/2.10/v/string_type</span>                               <span style=\"color: #800000; text-decoration-color: #800000\">│</span>\n",
       "<span style=\"color: #800000; text-decoration-color: #800000\">│</span>                                                                                                                 <span style=\"color: #800000; text-decoration-color: #800000\">│</span>\n",
       "<span style=\"color: #800000; text-decoration-color: #800000\">│</span>                                                                                                                 <span style=\"color: #800000; text-decoration-color: #800000\">│</span>\n",
       "<span style=\"color: #800000; text-decoration-color: #800000\">╰─────────────────────────────────────────────────────────────────────────────────────────────────────────────────╯</span>\n",
       "</pre>\n"
      ],
      "text/plain": [
       "\u001b[31m╭─\u001b[0m\u001b[31m─────────────────────────────────────────────────\u001b[0m\u001b[31m Tool Error \u001b[0m\u001b[31m──────────────────────────────────────────────────\u001b[0m\u001b[31m─╮\u001b[0m\n",
       "\u001b[31m│\u001b[0m                                                                                                                 \u001b[31m│\u001b[0m\n",
       "\u001b[31m│\u001b[0m  \u001b[1;31mTool Usage Failed\u001b[0m                                                                                              \u001b[31m│\u001b[0m\n",
       "\u001b[31m│\u001b[0m  \u001b[37mName: \u001b[0m\u001b[31mSearch Tool\u001b[0m                                                                                              \u001b[31m│\u001b[0m\n",
       "\u001b[31m│\u001b[0m  \u001b[37mError: \u001b[0m\u001b[31mArguments validation failed: 1 validation error for SearchToolSchema\u001b[0m                                    \u001b[31m│\u001b[0m\n",
       "\u001b[31m│\u001b[0m  \u001b[31mquery\u001b[0m                                                                                                          \u001b[31m│\u001b[0m\n",
       "\u001b[31m│\u001b[0m  \u001b[31m  Input should be a valid string [type=string_type, input_value={'description': 'Verify I...bility.', 'type':\u001b[0m  \u001b[31m│\u001b[0m\n",
       "\u001b[31m│\u001b[0m  \u001b[31m'str'}, input_type=dict]\u001b[0m                                                                                       \u001b[31m│\u001b[0m\n",
       "\u001b[31m│\u001b[0m  \u001b[31m    For further information visit https://errors.pydantic.dev/2.10/v/string_type\u001b[0m                               \u001b[31m│\u001b[0m\n",
       "\u001b[31m│\u001b[0m                                                                                                                 \u001b[31m│\u001b[0m\n",
       "\u001b[31m│\u001b[0m                                                                                                                 \u001b[31m│\u001b[0m\n",
       "\u001b[31m╰─────────────────────────────────────────────────────────────────────────────────────────────────────────────────╯\u001b[0m\n"
      ]
     },
     "metadata": {},
     "output_type": "display_data"
    },
    {
     "data": {
      "text/html": [
       "<pre style=\"white-space:pre;overflow-x:auto;line-height:normal;font-family:Menlo,'DejaVu Sans Mono',consolas,'Courier New',monospace\">\n",
       "</pre>\n"
      ],
      "text/plain": [
       "\n"
      ]
     },
     "metadata": {},
     "output_type": "display_data"
    },
    {
     "name": "stdout",
     "output_type": "stream",
     "text": [
      "\u001b[91m \n",
      "\n",
      "I encountered an error while trying to use the tool. This was the error: Arguments validation failed: 1 validation error for SearchToolSchema\n",
      "query\n",
      "  Input should be a valid string [type=string_type, input_value={'description': 'Verify I...bility.', 'type': 'str'}, input_type=dict]\n",
      "    For further information visit https://errors.pydantic.dev/2.10/v/string_type.\n",
      " Tool Search Tool accepts these inputs: Tool Name: Search Tool\n",
      "Tool Arguments: {'query': {'description': None, 'type': 'str'}}\n",
      "Tool Description: Useful for searching information about technologies, companies, or people online.\n",
      "\u001b[00m\n",
      "\n",
      "\n",
      "\u001b[1m\u001b[95m# Agent:\u001b[00m \u001b[1m\u001b[92mTechnical Skills Evaluator\u001b[00m\n",
      "\u001b[95m## Thought:\u001b[00m \u001b[92mtool_code\n",
      "Thought:I need to gather more information to accurately assess the candidate's technical skills.  I'll start by using the Search Tool to verify the certifications and investigate the candidate's projects and contributions on GitHub and LeetCode.\u001b[00m\n",
      "\u001b[95m## Using tool:\u001b[00m \u001b[92mSearch Tool\u001b[00m\n",
      "\u001b[95m## Tool Input:\u001b[00m \u001b[92m\n",
      "\"{\\\"query\\\": {\\\"description\\\": \\\"Verify Infosys Springboard certificates using the provided links and assess their credibility.\\\", \\\"type\\\": \\\"str\\\"}}\"\u001b[00m\n",
      "\u001b[95m## Tool Output:\u001b[00m \u001b[92m\n",
      "\n",
      "I encountered an error while trying to use the tool. This was the error: Arguments validation failed: 1 validation error for SearchToolSchema\n",
      "query\n",
      "  Input should be a valid string [type=string_type, input_value={'description': 'Verify I...bility.', 'type': 'str'}, input_type=dict]\n",
      "    For further information visit https://errors.pydantic.dev/2.10/v/string_type.\n",
      " Tool Search Tool accepts these inputs: Tool Name: Search Tool\n",
      "Tool Arguments: {'query': {'description': None, 'type': 'str'}}\n",
      "Tool Description: Useful for searching information about technologies, companies, or people online..\n",
      "Moving on then. I MUST either use a tool (use one at time) OR give my best final answer not both at the same time. When responding, I must use the following format:\n",
      "\n",
      "```\n",
      "Thought: you should always think about what to do\n",
      "Action: the action to take, should be one of [Search Tool]\n",
      "Action Input: the input to the action, dictionary enclosed in curly braces\n",
      "Observation: the result of the action\n",
      "```\n",
      "This Thought/Action/Action Input/Result can repeat N times. Once I know the final answer, I must return the following format:\n",
      "\n",
      "```\n",
      "Thought: I now can give a great answer\n",
      "Final Answer: Your final answer must be the great and the most complete as possible, it must be outcome described\n",
      "\n",
      "```\u001b[00m\n"
     ]
    },
    {
     "data": {
      "text/html": [
       "<pre style=\"white-space:pre;overflow-x:auto;line-height:normal;font-family:Menlo,'DejaVu Sans Mono',consolas,'Courier New',monospace\"><span style=\"color: #008080; text-decoration-color: #008080; font-weight: bold\">🚀 Crew: crew</span>\n",
       "└── <span style=\"color: #808000; text-decoration-color: #808000; font-weight: bold\">📋 Task: 8de276fe-175d-4045-8bd4-5f0322b5042f</span>\n",
       "    <span style=\"color: #c0c0c0; text-decoration-color: #c0c0c0\">   Status: </span><span style=\"color: #bfbf7f; text-decoration-color: #bfbf7f\">Executing Task...</span>\n",
       "    └── <span style=\"color: #008000; text-decoration-color: #008000; font-weight: bold\">🤖 Agent: </span><span style=\"color: #008000; text-decoration-color: #008000\">Technical Skills Evaluator</span>\n",
       "        <span style=\"color: #c0c0c0; text-decoration-color: #c0c0c0\">    Status: </span><span style=\"color: #008000; text-decoration-color: #008000; font-weight: bold\">In Progress</span>\n",
       "        ├── <span style=\"color: #800000; text-decoration-color: #800000; font-weight: bold\">🔧 Failed </span><span style=\"color: #800000; text-decoration-color: #800000\">Search Tool (7)</span>\n",
       "        └── <span style=\"color: #000080; text-decoration-color: #000080; font-weight: bold\">🧠 </span><span style=\"color: #000080; text-decoration-color: #000080\">Thinking...</span>\n",
       "</pre>\n"
      ],
      "text/plain": [
       "\u001b[1;36m🚀 Crew: \u001b[0m\u001b[1;36mcrew\u001b[0m\n",
       "└── \u001b[1;33m📋 Task: 8de276fe-175d-4045-8bd4-5f0322b5042f\u001b[0m\n",
       "    \u001b[37m   Status: \u001b[0m\u001b[2;33mExecuting Task...\u001b[0m\n",
       "    └── \u001b[1;32m🤖 Agent: \u001b[0m\u001b[32mTechnical Skills Evaluator\u001b[0m\n",
       "        \u001b[37m    Status: \u001b[0m\u001b[1;32mIn Progress\u001b[0m\n",
       "        ├── \u001b[1;31m🔧 Failed \u001b[0m\u001b[31mSearch Tool (7)\u001b[0m\n",
       "        └── \u001b[1;34m🧠 \u001b[0m\u001b[34mThinking...\u001b[0m\n"
      ]
     },
     "metadata": {},
     "output_type": "display_data"
    },
    {
     "data": {
      "text/html": [
       "<pre style=\"white-space:pre;overflow-x:auto;line-height:normal;font-family:Menlo,'DejaVu Sans Mono',consolas,'Courier New',monospace\">\n",
       "</pre>\n"
      ],
      "text/plain": [
       "\n"
      ]
     },
     "metadata": {},
     "output_type": "display_data"
    },
    {
     "data": {
      "text/html": [
       "<pre style=\"white-space:pre;overflow-x:auto;line-height:normal;font-family:Menlo,'DejaVu Sans Mono',consolas,'Courier New',monospace\"><span style=\"color: #008080; text-decoration-color: #008080; font-weight: bold\">🚀 Crew: crew</span>\n",
       "└── <span style=\"color: #808000; text-decoration-color: #808000; font-weight: bold\">📋 Task: 8de276fe-175d-4045-8bd4-5f0322b5042f</span>\n",
       "    <span style=\"color: #c0c0c0; text-decoration-color: #c0c0c0\">   Status: </span><span style=\"color: #bfbf7f; text-decoration-color: #bfbf7f\">Executing Task...</span>\n",
       "    └── <span style=\"color: #008000; text-decoration-color: #008000; font-weight: bold\">🤖 Agent: </span><span style=\"color: #008000; text-decoration-color: #008000\">Technical Skills Evaluator</span>\n",
       "        <span style=\"color: #c0c0c0; text-decoration-color: #c0c0c0\">    Status: </span><span style=\"color: #008000; text-decoration-color: #008000; font-weight: bold\">In Progress</span>\n",
       "        └── <span style=\"color: #800000; text-decoration-color: #800000; font-weight: bold\">🔧 Failed </span><span style=\"color: #800000; text-decoration-color: #800000\">Search Tool (7)</span>\n",
       "</pre>\n"
      ],
      "text/plain": [
       "\u001b[1;36m🚀 Crew: \u001b[0m\u001b[1;36mcrew\u001b[0m\n",
       "└── \u001b[1;33m📋 Task: 8de276fe-175d-4045-8bd4-5f0322b5042f\u001b[0m\n",
       "    \u001b[37m   Status: \u001b[0m\u001b[2;33mExecuting Task...\u001b[0m\n",
       "    └── \u001b[1;32m🤖 Agent: \u001b[0m\u001b[32mTechnical Skills Evaluator\u001b[0m\n",
       "        \u001b[37m    Status: \u001b[0m\u001b[1;32mIn Progress\u001b[0m\n",
       "        └── \u001b[1;31m🔧 Failed \u001b[0m\u001b[31mSearch Tool (7)\u001b[0m\n"
      ]
     },
     "metadata": {},
     "output_type": "display_data"
    },
    {
     "data": {
      "text/html": [
       "<pre style=\"white-space:pre;overflow-x:auto;line-height:normal;font-family:Menlo,'DejaVu Sans Mono',consolas,'Courier New',monospace\">\n",
       "</pre>\n"
      ],
      "text/plain": [
       "\n"
      ]
     },
     "metadata": {},
     "output_type": "display_data"
    },
    {
     "data": {
      "text/html": [
       "<pre style=\"white-space:pre;overflow-x:auto;line-height:normal;font-family:Menlo,'DejaVu Sans Mono',consolas,'Courier New',monospace\"><span style=\"color: #008080; text-decoration-color: #008080; font-weight: bold\">🚀 Crew: crew</span>\n",
       "└── <span style=\"color: #808000; text-decoration-color: #808000; font-weight: bold\">📋 Task: 8de276fe-175d-4045-8bd4-5f0322b5042f</span>\n",
       "    <span style=\"color: #c0c0c0; text-decoration-color: #c0c0c0\">   Status: </span><span style=\"color: #bfbf7f; text-decoration-color: #bfbf7f\">Executing Task...</span>\n",
       "    └── <span style=\"color: #008000; text-decoration-color: #008000; font-weight: bold\">🤖 Agent: </span><span style=\"color: #008000; text-decoration-color: #008000\">Technical Skills Evaluator</span>\n",
       "        <span style=\"color: #c0c0c0; text-decoration-color: #c0c0c0\">    Status: </span><span style=\"color: #008000; text-decoration-color: #008000; font-weight: bold\">In Progress</span>\n",
       "        └── <span style=\"color: #808000; text-decoration-color: #808000; font-weight: bold\">🔧 </span><span style=\"color: #808000; text-decoration-color: #808000\">Using Search Tool (8)</span>\n",
       "</pre>\n"
      ],
      "text/plain": [
       "\u001b[1;36m🚀 Crew: \u001b[0m\u001b[1;36mcrew\u001b[0m\n",
       "└── \u001b[1;33m📋 Task: 8de276fe-175d-4045-8bd4-5f0322b5042f\u001b[0m\n",
       "    \u001b[37m   Status: \u001b[0m\u001b[2;33mExecuting Task...\u001b[0m\n",
       "    └── \u001b[1;32m🤖 Agent: \u001b[0m\u001b[32mTechnical Skills Evaluator\u001b[0m\n",
       "        \u001b[37m    Status: \u001b[0m\u001b[1;32mIn Progress\u001b[0m\n",
       "        └── \u001b[1;33m🔧 \u001b[0m\u001b[33mUsing Search Tool (8)\u001b[0m\n"
      ]
     },
     "metadata": {},
     "output_type": "display_data"
    },
    {
     "data": {
      "text/html": [
       "<pre style=\"white-space:pre;overflow-x:auto;line-height:normal;font-family:Menlo,'DejaVu Sans Mono',consolas,'Courier New',monospace\">\n",
       "</pre>\n"
      ],
      "text/plain": [
       "\n"
      ]
     },
     "metadata": {},
     "output_type": "display_data"
    },
    {
     "data": {
      "text/html": [
       "<pre style=\"white-space:pre;overflow-x:auto;line-height:normal;font-family:Menlo,'DejaVu Sans Mono',consolas,'Courier New',monospace\"><span style=\"color: #008080; text-decoration-color: #008080; font-weight: bold\">🚀 Crew: crew</span>\n",
       "└── <span style=\"color: #808000; text-decoration-color: #808000; font-weight: bold\">📋 Task: 8de276fe-175d-4045-8bd4-5f0322b5042f</span>\n",
       "    <span style=\"color: #c0c0c0; text-decoration-color: #c0c0c0\">   Status: </span><span style=\"color: #bfbf7f; text-decoration-color: #bfbf7f\">Executing Task...</span>\n",
       "    └── <span style=\"color: #008000; text-decoration-color: #008000; font-weight: bold\">🤖 Agent: </span><span style=\"color: #008000; text-decoration-color: #008000\">Technical Skills Evaluator</span>\n",
       "        <span style=\"color: #c0c0c0; text-decoration-color: #c0c0c0\">    Status: </span><span style=\"color: #008000; text-decoration-color: #008000; font-weight: bold\">In Progress</span>\n",
       "        └── <span style=\"color: #800000; text-decoration-color: #800000; font-weight: bold\">🔧 Failed </span><span style=\"color: #800000; text-decoration-color: #800000\">Search Tool (8)</span>\n",
       "</pre>\n"
      ],
      "text/plain": [
       "\u001b[1;36m🚀 Crew: \u001b[0m\u001b[1;36mcrew\u001b[0m\n",
       "└── \u001b[1;33m📋 Task: 8de276fe-175d-4045-8bd4-5f0322b5042f\u001b[0m\n",
       "    \u001b[37m   Status: \u001b[0m\u001b[2;33mExecuting Task...\u001b[0m\n",
       "    └── \u001b[1;32m🤖 Agent: \u001b[0m\u001b[32mTechnical Skills Evaluator\u001b[0m\n",
       "        \u001b[37m    Status: \u001b[0m\u001b[1;32mIn Progress\u001b[0m\n",
       "        └── \u001b[1;31m🔧 Failed \u001b[0m\u001b[31mSearch Tool (8)\u001b[0m\n"
      ]
     },
     "metadata": {},
     "output_type": "display_data"
    },
    {
     "data": {
      "text/html": [
       "<pre style=\"white-space:pre;overflow-x:auto;line-height:normal;font-family:Menlo,'DejaVu Sans Mono',consolas,'Courier New',monospace\">\n",
       "</pre>\n"
      ],
      "text/plain": [
       "\n"
      ]
     },
     "metadata": {},
     "output_type": "display_data"
    },
    {
     "data": {
      "text/html": [
       "<pre style=\"white-space:pre;overflow-x:auto;line-height:normal;font-family:Menlo,'DejaVu Sans Mono',consolas,'Courier New',monospace\"><span style=\"color: #800000; text-decoration-color: #800000\">╭────────────────────────────────────────────────── Tool Error ───────────────────────────────────────────────────╮</span>\n",
       "<span style=\"color: #800000; text-decoration-color: #800000\">│</span>                                                                                                                 <span style=\"color: #800000; text-decoration-color: #800000\">│</span>\n",
       "<span style=\"color: #800000; text-decoration-color: #800000\">│</span>  <span style=\"color: #800000; text-decoration-color: #800000; font-weight: bold\">Tool Usage Failed</span>                                                                                              <span style=\"color: #800000; text-decoration-color: #800000\">│</span>\n",
       "<span style=\"color: #800000; text-decoration-color: #800000\">│</span>  <span style=\"color: #c0c0c0; text-decoration-color: #c0c0c0\">Name: </span><span style=\"color: #800000; text-decoration-color: #800000\">Search Tool</span>                                                                                              <span style=\"color: #800000; text-decoration-color: #800000\">│</span>\n",
       "<span style=\"color: #800000; text-decoration-color: #800000\">│</span>  <span style=\"color: #c0c0c0; text-decoration-color: #c0c0c0\">Error: </span><span style=\"color: #800000; text-decoration-color: #800000\">Arguments validation failed: 1 validation error for SearchToolSchema</span>                                    <span style=\"color: #800000; text-decoration-color: #800000\">│</span>\n",
       "<span style=\"color: #800000; text-decoration-color: #800000\">│</span>  <span style=\"color: #800000; text-decoration-color: #800000\">query</span>                                                                                                          <span style=\"color: #800000; text-decoration-color: #800000\">│</span>\n",
       "<span style=\"color: #800000; text-decoration-color: #800000\">│</span>  <span style=\"color: #800000; text-decoration-color: #800000\">  Input should be a valid string [type=string_type, input_value={'description': 'Verify C...25a29fc', 'type':</span>  <span style=\"color: #800000; text-decoration-color: #800000\">│</span>\n",
       "<span style=\"color: #800000; text-decoration-color: #800000\">│</span>  <span style=\"color: #800000; text-decoration-color: #800000\">'str'}, input_type=dict]</span>                                                                                       <span style=\"color: #800000; text-decoration-color: #800000\">│</span>\n",
       "<span style=\"color: #800000; text-decoration-color: #800000\">│</span>  <span style=\"color: #800000; text-decoration-color: #800000\">    For further information visit https://errors.pydantic.dev/2.10/v/string_type</span>                               <span style=\"color: #800000; text-decoration-color: #800000\">│</span>\n",
       "<span style=\"color: #800000; text-decoration-color: #800000\">│</span>                                                                                                                 <span style=\"color: #800000; text-decoration-color: #800000\">│</span>\n",
       "<span style=\"color: #800000; text-decoration-color: #800000\">│</span>                                                                                                                 <span style=\"color: #800000; text-decoration-color: #800000\">│</span>\n",
       "<span style=\"color: #800000; text-decoration-color: #800000\">╰─────────────────────────────────────────────────────────────────────────────────────────────────────────────────╯</span>\n",
       "</pre>\n"
      ],
      "text/plain": [
       "\u001b[31m╭─\u001b[0m\u001b[31m─────────────────────────────────────────────────\u001b[0m\u001b[31m Tool Error \u001b[0m\u001b[31m──────────────────────────────────────────────────\u001b[0m\u001b[31m─╮\u001b[0m\n",
       "\u001b[31m│\u001b[0m                                                                                                                 \u001b[31m│\u001b[0m\n",
       "\u001b[31m│\u001b[0m  \u001b[1;31mTool Usage Failed\u001b[0m                                                                                              \u001b[31m│\u001b[0m\n",
       "\u001b[31m│\u001b[0m  \u001b[37mName: \u001b[0m\u001b[31mSearch Tool\u001b[0m                                                                                              \u001b[31m│\u001b[0m\n",
       "\u001b[31m│\u001b[0m  \u001b[37mError: \u001b[0m\u001b[31mArguments validation failed: 1 validation error for SearchToolSchema\u001b[0m                                    \u001b[31m│\u001b[0m\n",
       "\u001b[31m│\u001b[0m  \u001b[31mquery\u001b[0m                                                                                                          \u001b[31m│\u001b[0m\n",
       "\u001b[31m│\u001b[0m  \u001b[31m  Input should be a valid string [type=string_type, input_value={'description': 'Verify C...25a29fc', 'type':\u001b[0m  \u001b[31m│\u001b[0m\n",
       "\u001b[31m│\u001b[0m  \u001b[31m'str'}, input_type=dict]\u001b[0m                                                                                       \u001b[31m│\u001b[0m\n",
       "\u001b[31m│\u001b[0m  \u001b[31m    For further information visit https://errors.pydantic.dev/2.10/v/string_type\u001b[0m                               \u001b[31m│\u001b[0m\n",
       "\u001b[31m│\u001b[0m                                                                                                                 \u001b[31m│\u001b[0m\n",
       "\u001b[31m│\u001b[0m                                                                                                                 \u001b[31m│\u001b[0m\n",
       "\u001b[31m╰─────────────────────────────────────────────────────────────────────────────────────────────────────────────────╯\u001b[0m\n"
      ]
     },
     "metadata": {},
     "output_type": "display_data"
    },
    {
     "data": {
      "text/html": [
       "<pre style=\"white-space:pre;overflow-x:auto;line-height:normal;font-family:Menlo,'DejaVu Sans Mono',consolas,'Courier New',monospace\">\n",
       "</pre>\n"
      ],
      "text/plain": [
       "\n"
      ]
     },
     "metadata": {},
     "output_type": "display_data"
    },
    {
     "data": {
      "text/html": [
       "<pre style=\"white-space:pre;overflow-x:auto;line-height:normal;font-family:Menlo,'DejaVu Sans Mono',consolas,'Courier New',monospace\"><span style=\"color: #008080; text-decoration-color: #008080; font-weight: bold\">🚀 Crew: crew</span>\n",
       "└── <span style=\"color: #808000; text-decoration-color: #808000; font-weight: bold\">📋 Task: 8de276fe-175d-4045-8bd4-5f0322b5042f</span>\n",
       "    <span style=\"color: #c0c0c0; text-decoration-color: #c0c0c0\">   Status: </span><span style=\"color: #bfbf7f; text-decoration-color: #bfbf7f\">Executing Task...</span>\n",
       "    └── <span style=\"color: #008000; text-decoration-color: #008000; font-weight: bold\">🤖 Agent: </span><span style=\"color: #008000; text-decoration-color: #008000\">Technical Skills Evaluator</span>\n",
       "        <span style=\"color: #c0c0c0; text-decoration-color: #c0c0c0\">    Status: </span><span style=\"color: #008000; text-decoration-color: #008000; font-weight: bold\">In Progress</span>\n",
       "        └── <span style=\"color: #800000; text-decoration-color: #800000; font-weight: bold\">🔧 Failed </span><span style=\"color: #800000; text-decoration-color: #800000\">Search Tool (8)</span>\n",
       "</pre>\n"
      ],
      "text/plain": [
       "\u001b[1;36m🚀 Crew: \u001b[0m\u001b[1;36mcrew\u001b[0m\n",
       "└── \u001b[1;33m📋 Task: 8de276fe-175d-4045-8bd4-5f0322b5042f\u001b[0m\n",
       "    \u001b[37m   Status: \u001b[0m\u001b[2;33mExecuting Task...\u001b[0m\n",
       "    └── \u001b[1;32m🤖 Agent: \u001b[0m\u001b[32mTechnical Skills Evaluator\u001b[0m\n",
       "        \u001b[37m    Status: \u001b[0m\u001b[1;32mIn Progress\u001b[0m\n",
       "        └── \u001b[1;31m🔧 Failed \u001b[0m\u001b[31mSearch Tool (8)\u001b[0m\n"
      ]
     },
     "metadata": {},
     "output_type": "display_data"
    },
    {
     "data": {
      "text/html": [
       "<pre style=\"white-space:pre;overflow-x:auto;line-height:normal;font-family:Menlo,'DejaVu Sans Mono',consolas,'Courier New',monospace\">\n",
       "</pre>\n"
      ],
      "text/plain": [
       "\n"
      ]
     },
     "metadata": {},
     "output_type": "display_data"
    },
    {
     "data": {
      "text/html": [
       "<pre style=\"white-space:pre;overflow-x:auto;line-height:normal;font-family:Menlo,'DejaVu Sans Mono',consolas,'Courier New',monospace\"><span style=\"color: #800000; text-decoration-color: #800000\">╭────────────────────────────────────────────────── Tool Error ───────────────────────────────────────────────────╮</span>\n",
       "<span style=\"color: #800000; text-decoration-color: #800000\">│</span>                                                                                                                 <span style=\"color: #800000; text-decoration-color: #800000\">│</span>\n",
       "<span style=\"color: #800000; text-decoration-color: #800000\">│</span>  <span style=\"color: #800000; text-decoration-color: #800000; font-weight: bold\">Tool Usage Failed</span>                                                                                              <span style=\"color: #800000; text-decoration-color: #800000\">│</span>\n",
       "<span style=\"color: #800000; text-decoration-color: #800000\">│</span>  <span style=\"color: #c0c0c0; text-decoration-color: #c0c0c0\">Name: </span><span style=\"color: #800000; text-decoration-color: #800000\">Search Tool</span>                                                                                              <span style=\"color: #800000; text-decoration-color: #800000\">│</span>\n",
       "<span style=\"color: #800000; text-decoration-color: #800000\">│</span>  <span style=\"color: #c0c0c0; text-decoration-color: #c0c0c0\">Error: </span><span style=\"color: #800000; text-decoration-color: #800000\">Arguments validation failed: 1 validation error for SearchToolSchema</span>                                    <span style=\"color: #800000; text-decoration-color: #800000\">│</span>\n",
       "<span style=\"color: #800000; text-decoration-color: #800000\">│</span>  <span style=\"color: #800000; text-decoration-color: #800000\">query</span>                                                                                                          <span style=\"color: #800000; text-decoration-color: #800000\">│</span>\n",
       "<span style=\"color: #800000; text-decoration-color: #800000\">│</span>  <span style=\"color: #800000; text-decoration-color: #800000\">  Input should be a valid string [type=string_type, input_value={'description': 'Verify C...25a29fc', 'type':</span>  <span style=\"color: #800000; text-decoration-color: #800000\">│</span>\n",
       "<span style=\"color: #800000; text-decoration-color: #800000\">│</span>  <span style=\"color: #800000; text-decoration-color: #800000\">'str'}, input_type=dict]</span>                                                                                       <span style=\"color: #800000; text-decoration-color: #800000\">│</span>\n",
       "<span style=\"color: #800000; text-decoration-color: #800000\">│</span>  <span style=\"color: #800000; text-decoration-color: #800000\">    For further information visit https://errors.pydantic.dev/2.10/v/string_type</span>                               <span style=\"color: #800000; text-decoration-color: #800000\">│</span>\n",
       "<span style=\"color: #800000; text-decoration-color: #800000\">│</span>                                                                                                                 <span style=\"color: #800000; text-decoration-color: #800000\">│</span>\n",
       "<span style=\"color: #800000; text-decoration-color: #800000\">│</span>                                                                                                                 <span style=\"color: #800000; text-decoration-color: #800000\">│</span>\n",
       "<span style=\"color: #800000; text-decoration-color: #800000\">╰─────────────────────────────────────────────────────────────────────────────────────────────────────────────────╯</span>\n",
       "</pre>\n"
      ],
      "text/plain": [
       "\u001b[31m╭─\u001b[0m\u001b[31m─────────────────────────────────────────────────\u001b[0m\u001b[31m Tool Error \u001b[0m\u001b[31m──────────────────────────────────────────────────\u001b[0m\u001b[31m─╮\u001b[0m\n",
       "\u001b[31m│\u001b[0m                                                                                                                 \u001b[31m│\u001b[0m\n",
       "\u001b[31m│\u001b[0m  \u001b[1;31mTool Usage Failed\u001b[0m                                                                                              \u001b[31m│\u001b[0m\n",
       "\u001b[31m│\u001b[0m  \u001b[37mName: \u001b[0m\u001b[31mSearch Tool\u001b[0m                                                                                              \u001b[31m│\u001b[0m\n",
       "\u001b[31m│\u001b[0m  \u001b[37mError: \u001b[0m\u001b[31mArguments validation failed: 1 validation error for SearchToolSchema\u001b[0m                                    \u001b[31m│\u001b[0m\n",
       "\u001b[31m│\u001b[0m  \u001b[31mquery\u001b[0m                                                                                                          \u001b[31m│\u001b[0m\n",
       "\u001b[31m│\u001b[0m  \u001b[31m  Input should be a valid string [type=string_type, input_value={'description': 'Verify C...25a29fc', 'type':\u001b[0m  \u001b[31m│\u001b[0m\n",
       "\u001b[31m│\u001b[0m  \u001b[31m'str'}, input_type=dict]\u001b[0m                                                                                       \u001b[31m│\u001b[0m\n",
       "\u001b[31m│\u001b[0m  \u001b[31m    For further information visit https://errors.pydantic.dev/2.10/v/string_type\u001b[0m                               \u001b[31m│\u001b[0m\n",
       "\u001b[31m│\u001b[0m                                                                                                                 \u001b[31m│\u001b[0m\n",
       "\u001b[31m│\u001b[0m                                                                                                                 \u001b[31m│\u001b[0m\n",
       "\u001b[31m╰─────────────────────────────────────────────────────────────────────────────────────────────────────────────────╯\u001b[0m\n"
      ]
     },
     "metadata": {},
     "output_type": "display_data"
    },
    {
     "data": {
      "text/html": [
       "<pre style=\"white-space:pre;overflow-x:auto;line-height:normal;font-family:Menlo,'DejaVu Sans Mono',consolas,'Courier New',monospace\">\n",
       "</pre>\n"
      ],
      "text/plain": [
       "\n"
      ]
     },
     "metadata": {},
     "output_type": "display_data"
    },
    {
     "data": {
      "text/html": [
       "<pre style=\"white-space:pre;overflow-x:auto;line-height:normal;font-family:Menlo,'DejaVu Sans Mono',consolas,'Courier New',monospace\"><span style=\"color: #008080; text-decoration-color: #008080; font-weight: bold\">🚀 Crew: crew</span>\n",
       "└── <span style=\"color: #808000; text-decoration-color: #808000; font-weight: bold\">📋 Task: 8de276fe-175d-4045-8bd4-5f0322b5042f</span>\n",
       "    <span style=\"color: #c0c0c0; text-decoration-color: #c0c0c0\">   Status: </span><span style=\"color: #bfbf7f; text-decoration-color: #bfbf7f\">Executing Task...</span>\n",
       "    └── <span style=\"color: #008000; text-decoration-color: #008000; font-weight: bold\">🤖 Agent: </span><span style=\"color: #008000; text-decoration-color: #008000\">Technical Skills Evaluator</span>\n",
       "        <span style=\"color: #c0c0c0; text-decoration-color: #c0c0c0\">    Status: </span><span style=\"color: #008000; text-decoration-color: #008000; font-weight: bold\">In Progress</span>\n",
       "        └── <span style=\"color: #800000; text-decoration-color: #800000; font-weight: bold\">🔧 Failed </span><span style=\"color: #800000; text-decoration-color: #800000\">Search Tool (8)</span>\n",
       "</pre>\n"
      ],
      "text/plain": [
       "\u001b[1;36m🚀 Crew: \u001b[0m\u001b[1;36mcrew\u001b[0m\n",
       "└── \u001b[1;33m📋 Task: 8de276fe-175d-4045-8bd4-5f0322b5042f\u001b[0m\n",
       "    \u001b[37m   Status: \u001b[0m\u001b[2;33mExecuting Task...\u001b[0m\n",
       "    └── \u001b[1;32m🤖 Agent: \u001b[0m\u001b[32mTechnical Skills Evaluator\u001b[0m\n",
       "        \u001b[37m    Status: \u001b[0m\u001b[1;32mIn Progress\u001b[0m\n",
       "        └── \u001b[1;31m🔧 Failed \u001b[0m\u001b[31mSearch Tool (8)\u001b[0m\n"
      ]
     },
     "metadata": {},
     "output_type": "display_data"
    },
    {
     "data": {
      "text/html": [
       "<pre style=\"white-space:pre;overflow-x:auto;line-height:normal;font-family:Menlo,'DejaVu Sans Mono',consolas,'Courier New',monospace\">\n",
       "</pre>\n"
      ],
      "text/plain": [
       "\n"
      ]
     },
     "metadata": {},
     "output_type": "display_data"
    },
    {
     "data": {
      "text/html": [
       "<pre style=\"white-space:pre;overflow-x:auto;line-height:normal;font-family:Menlo,'DejaVu Sans Mono',consolas,'Courier New',monospace\"><span style=\"color: #800000; text-decoration-color: #800000\">╭────────────────────────────────────────────────── Tool Error ───────────────────────────────────────────────────╮</span>\n",
       "<span style=\"color: #800000; text-decoration-color: #800000\">│</span>                                                                                                                 <span style=\"color: #800000; text-decoration-color: #800000\">│</span>\n",
       "<span style=\"color: #800000; text-decoration-color: #800000\">│</span>  <span style=\"color: #800000; text-decoration-color: #800000; font-weight: bold\">Tool Usage Failed</span>                                                                                              <span style=\"color: #800000; text-decoration-color: #800000\">│</span>\n",
       "<span style=\"color: #800000; text-decoration-color: #800000\">│</span>  <span style=\"color: #c0c0c0; text-decoration-color: #c0c0c0\">Name: </span><span style=\"color: #800000; text-decoration-color: #800000\">Search Tool</span>                                                                                              <span style=\"color: #800000; text-decoration-color: #800000\">│</span>\n",
       "<span style=\"color: #800000; text-decoration-color: #800000\">│</span>  <span style=\"color: #c0c0c0; text-decoration-color: #c0c0c0\">Error: </span><span style=\"color: #800000; text-decoration-color: #800000\">Arguments validation failed: 1 validation error for SearchToolSchema</span>                                    <span style=\"color: #800000; text-decoration-color: #800000\">│</span>\n",
       "<span style=\"color: #800000; text-decoration-color: #800000\">│</span>  <span style=\"color: #800000; text-decoration-color: #800000\">query</span>                                                                                                          <span style=\"color: #800000; text-decoration-color: #800000\">│</span>\n",
       "<span style=\"color: #800000; text-decoration-color: #800000\">│</span>  <span style=\"color: #800000; text-decoration-color: #800000\">  Input should be a valid string [type=string_type, input_value={'description': 'Verify C...25a29fc', 'type':</span>  <span style=\"color: #800000; text-decoration-color: #800000\">│</span>\n",
       "<span style=\"color: #800000; text-decoration-color: #800000\">│</span>  <span style=\"color: #800000; text-decoration-color: #800000\">'str'}, input_type=dict]</span>                                                                                       <span style=\"color: #800000; text-decoration-color: #800000\">│</span>\n",
       "<span style=\"color: #800000; text-decoration-color: #800000\">│</span>  <span style=\"color: #800000; text-decoration-color: #800000\">    For further information visit https://errors.pydantic.dev/2.10/v/string_type</span>                               <span style=\"color: #800000; text-decoration-color: #800000\">│</span>\n",
       "<span style=\"color: #800000; text-decoration-color: #800000\">│</span>                                                                                                                 <span style=\"color: #800000; text-decoration-color: #800000\">│</span>\n",
       "<span style=\"color: #800000; text-decoration-color: #800000\">│</span>                                                                                                                 <span style=\"color: #800000; text-decoration-color: #800000\">│</span>\n",
       "<span style=\"color: #800000; text-decoration-color: #800000\">╰─────────────────────────────────────────────────────────────────────────────────────────────────────────────────╯</span>\n",
       "</pre>\n"
      ],
      "text/plain": [
       "\u001b[31m╭─\u001b[0m\u001b[31m─────────────────────────────────────────────────\u001b[0m\u001b[31m Tool Error \u001b[0m\u001b[31m──────────────────────────────────────────────────\u001b[0m\u001b[31m─╮\u001b[0m\n",
       "\u001b[31m│\u001b[0m                                                                                                                 \u001b[31m│\u001b[0m\n",
       "\u001b[31m│\u001b[0m  \u001b[1;31mTool Usage Failed\u001b[0m                                                                                              \u001b[31m│\u001b[0m\n",
       "\u001b[31m│\u001b[0m  \u001b[37mName: \u001b[0m\u001b[31mSearch Tool\u001b[0m                                                                                              \u001b[31m│\u001b[0m\n",
       "\u001b[31m│\u001b[0m  \u001b[37mError: \u001b[0m\u001b[31mArguments validation failed: 1 validation error for SearchToolSchema\u001b[0m                                    \u001b[31m│\u001b[0m\n",
       "\u001b[31m│\u001b[0m  \u001b[31mquery\u001b[0m                                                                                                          \u001b[31m│\u001b[0m\n",
       "\u001b[31m│\u001b[0m  \u001b[31m  Input should be a valid string [type=string_type, input_value={'description': 'Verify C...25a29fc', 'type':\u001b[0m  \u001b[31m│\u001b[0m\n",
       "\u001b[31m│\u001b[0m  \u001b[31m'str'}, input_type=dict]\u001b[0m                                                                                       \u001b[31m│\u001b[0m\n",
       "\u001b[31m│\u001b[0m  \u001b[31m    For further information visit https://errors.pydantic.dev/2.10/v/string_type\u001b[0m                               \u001b[31m│\u001b[0m\n",
       "\u001b[31m│\u001b[0m                                                                                                                 \u001b[31m│\u001b[0m\n",
       "\u001b[31m│\u001b[0m                                                                                                                 \u001b[31m│\u001b[0m\n",
       "\u001b[31m╰─────────────────────────────────────────────────────────────────────────────────────────────────────────────────╯\u001b[0m\n"
      ]
     },
     "metadata": {},
     "output_type": "display_data"
    },
    {
     "data": {
      "text/html": [
       "<pre style=\"white-space:pre;overflow-x:auto;line-height:normal;font-family:Menlo,'DejaVu Sans Mono',consolas,'Courier New',monospace\">\n",
       "</pre>\n"
      ],
      "text/plain": [
       "\n"
      ]
     },
     "metadata": {},
     "output_type": "display_data"
    },
    {
     "name": "stdout",
     "output_type": "stream",
     "text": [
      "\u001b[91m \n",
      "\n",
      "I encountered an error while trying to use the tool. This was the error: Arguments validation failed: 1 validation error for SearchToolSchema\n",
      "query\n",
      "  Input should be a valid string [type=string_type, input_value={'description': 'Verify C...25a29fc', 'type': 'str'}, input_type=dict]\n",
      "    For further information visit https://errors.pydantic.dev/2.10/v/string_type.\n",
      " Tool Search Tool accepts these inputs: Tool Name: Search Tool\n",
      "Tool Arguments: {'query': {'description': None, 'type': 'str'}}\n",
      "Tool Description: Useful for searching information about technologies, companies, or people online.\n",
      "\u001b[00m\n",
      "\n",
      "\n",
      "\u001b[1m\u001b[95m# Agent:\u001b[00m \u001b[1m\u001b[92mTechnical Skills Evaluator\u001b[00m\n",
      "\u001b[95m## Thought:\u001b[00m \u001b[92mThought:I will attempt to verify the Coursera and HackerRank certificates using the Search Tool.  I will also examine the candidate's GitHub repositories and LeetCode profile for evidence of practical application and skill mastery.\u001b[00m\n",
      "\u001b[95m## Using tool:\u001b[00m \u001b[92mSearch Tool\u001b[00m\n",
      "\u001b[95m## Tool Input:\u001b[00m \u001b[92m\n",
      "\"{\\\"query\\\": {\\\"description\\\": \\\"Verify Coursera certificate with link: https://coursera.org/share/1d4edbf7bd94d9c9409693f3ed34623e and HackerRank certificate with link: https://www.hackerrank.com/certificates/29cd025a29fc\\\", \\\"type\\\": \\\"str\\\"}}\"\u001b[00m\n",
      "\u001b[95m## Tool Output:\u001b[00m \u001b[92m\n",
      "\n",
      "I encountered an error while trying to use the tool. This was the error: Arguments validation failed: 1 validation error for SearchToolSchema\n",
      "query\n",
      "  Input should be a valid string [type=string_type, input_value={'description': 'Verify C...25a29fc', 'type': 'str'}, input_type=dict]\n",
      "    For further information visit https://errors.pydantic.dev/2.10/v/string_type.\n",
      " Tool Search Tool accepts these inputs: Tool Name: Search Tool\n",
      "Tool Arguments: {'query': {'description': None, 'type': 'str'}}\n",
      "Tool Description: Useful for searching information about technologies, companies, or people online..\n",
      "Moving on then. I MUST either use a tool (use one at time) OR give my best final answer not both at the same time. When responding, I must use the following format:\n",
      "\n",
      "```\n",
      "Thought: you should always think about what to do\n",
      "Action: the action to take, should be one of [Search Tool]\n",
      "Action Input: the input to the action, dictionary enclosed in curly braces\n",
      "Observation: the result of the action\n",
      "```\n",
      "This Thought/Action/Action Input/Result can repeat N times. Once I know the final answer, I must return the following format:\n",
      "\n",
      "```\n",
      "Thought: I now can give a great answer\n",
      "Final Answer: Your final answer must be the great and the most complete as possible, it must be outcome described\n",
      "\n",
      "```\u001b[00m\n"
     ]
    },
    {
     "data": {
      "text/html": [
       "<pre style=\"white-space:pre;overflow-x:auto;line-height:normal;font-family:Menlo,'DejaVu Sans Mono',consolas,'Courier New',monospace\"><span style=\"color: #008080; text-decoration-color: #008080; font-weight: bold\">🚀 Crew: crew</span>\n",
       "└── <span style=\"color: #808000; text-decoration-color: #808000; font-weight: bold\">📋 Task: 8de276fe-175d-4045-8bd4-5f0322b5042f</span>\n",
       "    <span style=\"color: #c0c0c0; text-decoration-color: #c0c0c0\">   Status: </span><span style=\"color: #bfbf7f; text-decoration-color: #bfbf7f\">Executing Task...</span>\n",
       "    └── <span style=\"color: #008000; text-decoration-color: #008000; font-weight: bold\">🤖 Agent: </span><span style=\"color: #008000; text-decoration-color: #008000\">Technical Skills Evaluator</span>\n",
       "        <span style=\"color: #c0c0c0; text-decoration-color: #c0c0c0\">    Status: </span><span style=\"color: #008000; text-decoration-color: #008000; font-weight: bold\">In Progress</span>\n",
       "        ├── <span style=\"color: #800000; text-decoration-color: #800000; font-weight: bold\">🔧 Failed </span><span style=\"color: #800000; text-decoration-color: #800000\">Search Tool (8)</span>\n",
       "        └── <span style=\"color: #000080; text-decoration-color: #000080; font-weight: bold\">🧠 </span><span style=\"color: #000080; text-decoration-color: #000080\">Thinking...</span>\n",
       "</pre>\n"
      ],
      "text/plain": [
       "\u001b[1;36m🚀 Crew: \u001b[0m\u001b[1;36mcrew\u001b[0m\n",
       "└── \u001b[1;33m📋 Task: 8de276fe-175d-4045-8bd4-5f0322b5042f\u001b[0m\n",
       "    \u001b[37m   Status: \u001b[0m\u001b[2;33mExecuting Task...\u001b[0m\n",
       "    └── \u001b[1;32m🤖 Agent: \u001b[0m\u001b[32mTechnical Skills Evaluator\u001b[0m\n",
       "        \u001b[37m    Status: \u001b[0m\u001b[1;32mIn Progress\u001b[0m\n",
       "        ├── \u001b[1;31m🔧 Failed \u001b[0m\u001b[31mSearch Tool (8)\u001b[0m\n",
       "        └── \u001b[1;34m🧠 \u001b[0m\u001b[34mThinking...\u001b[0m\n"
      ]
     },
     "metadata": {},
     "output_type": "display_data"
    },
    {
     "data": {
      "text/html": [
       "<pre style=\"white-space:pre;overflow-x:auto;line-height:normal;font-family:Menlo,'DejaVu Sans Mono',consolas,'Courier New',monospace\">\n",
       "</pre>\n"
      ],
      "text/plain": [
       "\n"
      ]
     },
     "metadata": {},
     "output_type": "display_data"
    },
    {
     "data": {
      "text/html": [
       "<pre style=\"white-space:pre;overflow-x:auto;line-height:normal;font-family:Menlo,'DejaVu Sans Mono',consolas,'Courier New',monospace\"><span style=\"color: #008080; text-decoration-color: #008080; font-weight: bold\">🚀 Crew: crew</span>\n",
       "└── <span style=\"color: #808000; text-decoration-color: #808000; font-weight: bold\">📋 Task: 8de276fe-175d-4045-8bd4-5f0322b5042f</span>\n",
       "    <span style=\"color: #c0c0c0; text-decoration-color: #c0c0c0\">   Status: </span><span style=\"color: #bfbf7f; text-decoration-color: #bfbf7f\">Executing Task...</span>\n",
       "    └── <span style=\"color: #008000; text-decoration-color: #008000; font-weight: bold\">🤖 Agent: </span><span style=\"color: #008000; text-decoration-color: #008000\">Technical Skills Evaluator</span>\n",
       "        <span style=\"color: #c0c0c0; text-decoration-color: #c0c0c0\">    Status: </span><span style=\"color: #008000; text-decoration-color: #008000; font-weight: bold\">In Progress</span>\n",
       "        └── <span style=\"color: #800000; text-decoration-color: #800000; font-weight: bold\">🔧 Failed </span><span style=\"color: #800000; text-decoration-color: #800000\">Search Tool (8)</span>\n",
       "</pre>\n"
      ],
      "text/plain": [
       "\u001b[1;36m🚀 Crew: \u001b[0m\u001b[1;36mcrew\u001b[0m\n",
       "└── \u001b[1;33m📋 Task: 8de276fe-175d-4045-8bd4-5f0322b5042f\u001b[0m\n",
       "    \u001b[37m   Status: \u001b[0m\u001b[2;33mExecuting Task...\u001b[0m\n",
       "    └── \u001b[1;32m🤖 Agent: \u001b[0m\u001b[32mTechnical Skills Evaluator\u001b[0m\n",
       "        \u001b[37m    Status: \u001b[0m\u001b[1;32mIn Progress\u001b[0m\n",
       "        └── \u001b[1;31m🔧 Failed \u001b[0m\u001b[31mSearch Tool (8)\u001b[0m\n"
      ]
     },
     "metadata": {},
     "output_type": "display_data"
    },
    {
     "data": {
      "text/html": [
       "<pre style=\"white-space:pre;overflow-x:auto;line-height:normal;font-family:Menlo,'DejaVu Sans Mono',consolas,'Courier New',monospace\">\n",
       "</pre>\n"
      ],
      "text/plain": [
       "\n"
      ]
     },
     "metadata": {},
     "output_type": "display_data"
    },
    {
     "name": "stdout",
     "output_type": "stream",
     "text": [
      "\n",
      "\n",
      "\u001b[1m\u001b[95m# Agent:\u001b[00m \u001b[1m\u001b[92mTechnical Skills Evaluator\u001b[00m\n",
      "\u001b[95m## Final Answer:\u001b[00m \u001b[92m\n",
      "```json\n",
      "{\n",
      "  \"languages\": {\n",
      "    \"Python\": {\n",
      "      \"rating\": 8,\n",
      "      \"claimed\": true,\n",
      "      \"demonstrated\": true,\n",
      "      \"evidence\": \"LeetCode profile (272 problems solved, including Medium and Hard), HackerRank certificate (Python Basic), projects (NurtureSync, DeepFake detection), research experience (LANDSAT data analysis)\",\n",
      "      \"notes\": \"Strong evidence of proficiency.  LeetCode performance indicates a good grasp of problem-solving and data structures.\"\n",
      "    },\n",
      "    \"Dart\": {\n",
      "      \"rating\": 7,\n",
      "      \"claimed\": true,\n",
      "      \"demonstrated\": true,\n",
      "      \"evidence\": \"Flutter mobile app development (NurtureSync)\",\n",
      "      \"notes\": \"Demonstrated through Flutter app development, but less extensive evidence compared to Python.\"\n",
      "    },\n",
      "    \"JavaScript\": {\n",
      "      \"rating\": 6,\n",
      "      \"claimed\": true,\n",
      "      \"demonstrated\": false,\n",
      "      \"evidence\": \"No direct evidence in resume or projects.\",\n",
      "      \"notes\": \"Claimed but no demonstrable evidence.\"\n",
      "    },\n",
      "    \"C\": {\n",
      "      \"rating\": 5,\n",
      "      \"claimed\": true,\n",
      "      \"demonstrated\": false,\n",
      "      \"evidence\": \"No direct evidence in resume or projects.\",\n",
      "      \"notes\": \"Claimed but no demonstrable evidence.\"\n",
      "    }\n",
      "  },\n",
      "  \"frameworks\": {\n",
      "    \"Flutter\": {\n",
      "      \"rating\": 7,\n",
      "      \"claimed\": true,\n",
      "      \"demonstrated\": true,\n",
      "      \"evidence\": \"Mobile app development (NurtureSync)\",\n",
      "      \"notes\": \"Demonstrated proficiency in building mobile apps.\"\n",
      "    },\n",
      "    \"Flask\": {\n",
      "      \"rating\": 6,\n",
      "      \"claimed\": true,\n",
      "      \"demonstrated\": true,\n",
      "      \"evidence\": \"Web app development (NurtureSync)\",\n",
      "      \"notes\": \"Used in a project, but the extent of expertise is unclear.\"\n",
      "    },\n",
      "    \"Streamlit\": {\n",
      "      \"rating\": 6,\n",
      "      \"claimed\": true,\n",
      "      \"demonstrated\": true,\n",
      "      \"evidence\": \"Web app development (NurtureSync)\",\n",
      "      \"notes\": \"Used in a project, but the extent of expertise is unclear.\"\n",
      "    }\n",
      "  },\n",
      "  \"tools\": {\n",
      "    \"Git\": {\n",
      "      \"rating\": 8,\n",
      "      \"claimed\": true,\n",
      "      \"demonstrated\": true,\n",
      "      \"evidence\": \"GitHub profile with multiple projects\",\n",
      "      \"notes\": \"Active use indicated by multiple projects on GitHub.\"\n",
      "    },\n",
      "    \"Docker\": {\n",
      "      \"rating\": 5,\n",
      "      \"claimed\": true,\n",
      "      \"demonstrated\": false,\n",
      "      \"evidence\": \"No direct evidence in resume or projects.\",\n",
      "      \"notes\": \"Claimed but no demonstrable evidence.\"\n",
      "    },\n",
      "    \"Selenium\": {\n",
      "      \"rating\": 7,\n",
      "      \"claimed\": true,\n",
      "      \"demonstrated\": true,\n",
      "      \"evidence\": \"Security and Software Testing Internship responsibilities (automated testing)\",\n",
      "      \"notes\": \"Demonstrated use in a professional setting.\"\n",
      "    },\n",
      "    \"Firebase\": {\n",
      "      \"rating\": 7,\n",
      "      \"claimed\": true,\n",
      "      \"demonstrated\": true,\n",
      "      \"evidence\": \"Used in NurtureSync project\",\n",
      "      \"notes\": \"Demonstrated use in a project.\"\n",
      "    },\n",
      "    \"MySQL\": {\n",
      "      \"rating\": 6,\n",
      "      \"claimed\": true,\n",
      "      \"demonstrated\": true,\n",
      "      \"evidence\": \"Used in NurtureSync project\",\n",
      "      \"notes\": \"Used in a project, but the extent of expertise is unclear.\"\n",
      "    },\n",
      "    \"MongoDB\": {\n",
      "      \"rating\": 7,\n",
      "      \"claimed\": true,\n",
      "      \"demonstrated\": true,\n",
      "      \"evidence\": \"Used in NurtureSync project\",\n",
      "      \"notes\": \"Demonstrated use in a project.\"\n",
      "    },\n",
      "    \"Linux\": {\n",
      "      \"rating\": 6,\n",
      "      \"claimed\": true,\n",
      "      \"demonstrated\": true,\n",
      "      \"evidence\": \"Security and Software Testing Internship responsibilities (managed testing environments)\",\n",
      "      \"notes\": \"Demonstrated use in a professional setting, but the depth of expertise is unclear.\"\n",
      "    }\n",
      "  },\n",
      "  \"AI and Development\": {\n",
      "    \"Generative AI\": {\n",
      "      \"rating\": 5,\n",
      "      \"claimed\": true,\n",
      "      \"demonstrated\": false,\n",
      "      \"evidence\": \"No direct evidence in resume or projects.\",\n",
      "      \"notes\": \"Claimed but no demonstrable evidence.\"\n",
      "    },\n",
      "    \"ML\": {\n",
      "      \"rating\": 7,\n",
      "      \"claimed\": true,\n",
      "      \"demonstrated\": true,\n",
      "      \"evidence\": \"Research experience (real-time machine learning projects), DeepFake detection project\",\n",
      "      \"notes\": \"Demonstrated through research and projects.\"\n",
      "    },\n",
      "    \"DL\": {\n",
      "      \"rating\": 7,\n",
      "      \"claimed\": true,\n",
      "      \"demonstrated\": true,\n",
      "      \"evidence\": \"DeepFake detection project (ResNet, LSTM)\",\n",
      "      \"notes\": \"Demonstrated through the DeepFake detection project.\"\n",
      "    },\n",
      "    \"NLP\": {\n",
      "      \"rating\": 7,\n",
      "      \"claimed\": true,\n",
      "      \"demonstrated\": true,\n",
      "      \"evidence\": \"Infosys internship (AI system using NLP)\",\n",
      "      \"notes\": \"Demonstrated through a professional internship project.\"\n",
      "    },\n",
      "    \"Computer Vision\": {\n",
      "      \"rating\": 7,\n",
      "      \"claimed\": true,\n",
      "      \"demonstrated\": true,\n",
      "      \"evidence\": \"DeepFake detection project (MTCNN)\",\n",
      "      \"notes\": \"Demonstrated through the DeepFake detection project.\"\n",
      "    },\n",
      "    \"Data Structures\": {\n",
      "      \"rating\": 8,\n",
      "      \"claimed\": true,\n",
      "      \"demonstrated\": true,\n",
      "      \"evidence\": \"Coursera certificate, LeetCode performance\",\n",
      "      \"notes\": \"Strong evidence from both certification and LeetCode performance.\"\n",
      "    },\n",
      "    \"Agile\": {\n",
      "      \"rating\": 6,\n",
      "      \"claimed\": true,\n",
      "      \"demonstrated\": true,\n",
      "      \"evidence\": \"Infosys Springboard certificate, work experience (campus ambassador)\",\n",
      "      \"notes\": \"Demonstrated through certification and work experience, but the depth of expertise is unclear.\"\n",
      "    },\n",
      "    \"Testing\": {\n",
      "      \"rating\": 7,\n",
      "      \"claimed\": true,\n",
      "      \"demonstrated\": true,\n",
      "      \"evidence\": \"Security and Software Testing Internship\",\n",
      "      \"notes\": \"Demonstrated through a professional internship.\"\n",
      "    }\n",
      "  },\n",
      "  \"overall_assessment\": {\n",
      "    \"practical_application\": \"Strong evidence of practical application across multiple projects and internships.  The candidate demonstrates the ability to apply learned skills to real-world problems.\",\n",
      "    \"depth_of_knowledge\": \"Good depth of knowledge in Python, ML, DL, NLP, and data structures.  Proficiency in other areas is less clear due to limited evidence.\",\n",
      "    \"learning_ability\": \"High learning ability and adaptability demonstrated by the diverse range of skills and projects undertaken in a relatively short period.  The candidate actively seeks out new challenges and learning opportunities.\",\n",
      "    \"strengths\": \"Python programming, ML/DL/NLP, data structures, problem-solving, mobile app development (Flutter), web app development (Flask, Streamlit), automated testing (Selenium)\",\n",
      "    \"growth_areas\": \"Expand experience with JavaScript and C.  Deepen expertise in Generative AI and Agile methodologies.  Gain experience with Docker and other DevOps tools.  Further develop theoretical understanding to complement practical skills.\",\n",
      "    \"specialization\": \"The candidate shows a strong inclination towards AI and machine learning, with a focus on practical application and project development.  While possessing a broad range of skills, the specialization leans towards AI/ML.\",\n",
      "    \"generalist\": \"The candidate demonstrates a good range of skills across different areas of software development and AI, but the specialization is clearly towards AI/ML.\"\n",
      "  }\n",
      "}\n",
      "```\u001b[00m\n",
      "\n",
      "\n"
     ]
    },
    {
     "data": {
      "text/html": [
       "<pre style=\"white-space:pre;overflow-x:auto;line-height:normal;font-family:Menlo,'DejaVu Sans Mono',consolas,'Courier New',monospace\"><span style=\"color: #008080; text-decoration-color: #008080; font-weight: bold\">🚀 Crew: crew</span>\n",
       "└── <span style=\"color: #808000; text-decoration-color: #808000; font-weight: bold\">📋 Task: 8de276fe-175d-4045-8bd4-5f0322b5042f</span>\n",
       "    <span style=\"color: #c0c0c0; text-decoration-color: #c0c0c0\">   Status: </span><span style=\"color: #bfbf7f; text-decoration-color: #bfbf7f\">Executing Task...</span>\n",
       "    └── <span style=\"color: #008000; text-decoration-color: #008000; font-weight: bold\">🤖 Agent: </span><span style=\"color: #008000; text-decoration-color: #008000\">Technical Skills Evaluator</span>\n",
       "        <span style=\"color: #c0c0c0; text-decoration-color: #c0c0c0\">    Status: </span><span style=\"color: #008000; text-decoration-color: #008000; font-weight: bold\">✅ Completed</span>\n",
       "        └── <span style=\"color: #800000; text-decoration-color: #800000; font-weight: bold\">🔧 Failed </span><span style=\"color: #800000; text-decoration-color: #800000\">Search Tool (8)</span>\n",
       "</pre>\n"
      ],
      "text/plain": [
       "\u001b[1;36m🚀 Crew: \u001b[0m\u001b[1;36mcrew\u001b[0m\n",
       "└── \u001b[1;33m📋 Task: 8de276fe-175d-4045-8bd4-5f0322b5042f\u001b[0m\n",
       "    \u001b[37m   Status: \u001b[0m\u001b[2;33mExecuting Task...\u001b[0m\n",
       "    └── \u001b[1;32m🤖 Agent: \u001b[0m\u001b[32mTechnical Skills Evaluator\u001b[0m\n",
       "        \u001b[37m    Status: \u001b[0m\u001b[1;32m✅ Completed\u001b[0m\n",
       "        └── \u001b[1;31m🔧 Failed \u001b[0m\u001b[31mSearch Tool (8)\u001b[0m\n"
      ]
     },
     "metadata": {},
     "output_type": "display_data"
    },
    {
     "data": {
      "text/html": [
       "<pre style=\"white-space:pre;overflow-x:auto;line-height:normal;font-family:Menlo,'DejaVu Sans Mono',consolas,'Courier New',monospace\">\n",
       "</pre>\n"
      ],
      "text/plain": [
       "\n"
      ]
     },
     "metadata": {},
     "output_type": "display_data"
    },
    {
     "data": {
      "text/html": [
       "<pre style=\"white-space:pre;overflow-x:auto;line-height:normal;font-family:Menlo,'DejaVu Sans Mono',consolas,'Courier New',monospace\"><span style=\"color: #008080; text-decoration-color: #008080; font-weight: bold\">🚀 Crew: crew</span>\n",
       "└── <span style=\"color: #008000; text-decoration-color: #008000; font-weight: bold\">📋 Task: 8de276fe-175d-4045-8bd4-5f0322b5042f</span>\n",
       "    <span style=\"color: #c0c0c0; text-decoration-color: #c0c0c0\">   Assigned to: </span><span style=\"color: #008000; text-decoration-color: #008000\">Technical Skills Evaluator</span>\n",
       "    <span style=\"color: #c0c0c0; text-decoration-color: #c0c0c0\">   Status: </span><span style=\"color: #008000; text-decoration-color: #008000; font-weight: bold\">✅ Completed</span>\n",
       "    └── <span style=\"color: #008000; text-decoration-color: #008000; font-weight: bold\">🤖 Agent: </span><span style=\"color: #008000; text-decoration-color: #008000\">Technical Skills Evaluator</span>\n",
       "        <span style=\"color: #c0c0c0; text-decoration-color: #c0c0c0\">    Status: </span><span style=\"color: #008000; text-decoration-color: #008000; font-weight: bold\">✅ Completed</span>\n",
       "        └── <span style=\"color: #800000; text-decoration-color: #800000; font-weight: bold\">🔧 Failed </span><span style=\"color: #800000; text-decoration-color: #800000\">Search Tool (8)</span>\n",
       "</pre>\n"
      ],
      "text/plain": [
       "\u001b[1;36m🚀 Crew: \u001b[0m\u001b[1;36mcrew\u001b[0m\n",
       "└── \u001b[1;32m📋 Task: 8de276fe-175d-4045-8bd4-5f0322b5042f\u001b[0m\n",
       "    \u001b[37m   Assigned to: \u001b[0m\u001b[32mTechnical Skills Evaluator\u001b[0m\n",
       "    \u001b[37m   Status: \u001b[0m\u001b[1;32m✅ Completed\u001b[0m\n",
       "    └── \u001b[1;32m🤖 Agent: \u001b[0m\u001b[32mTechnical Skills Evaluator\u001b[0m\n",
       "        \u001b[37m    Status: \u001b[0m\u001b[1;32m✅ Completed\u001b[0m\n",
       "        └── \u001b[1;31m🔧 Failed \u001b[0m\u001b[31mSearch Tool (8)\u001b[0m\n"
      ]
     },
     "metadata": {},
     "output_type": "display_data"
    },
    {
     "data": {
      "text/html": [
       "<pre style=\"white-space:pre;overflow-x:auto;line-height:normal;font-family:Menlo,'DejaVu Sans Mono',consolas,'Courier New',monospace\"><span style=\"color: #008000; text-decoration-color: #008000\">╭──────────────────────────────────────────────── Task Completion ────────────────────────────────────────────────╮</span>\n",
       "<span style=\"color: #008000; text-decoration-color: #008000\">│</span>                                                                                                                 <span style=\"color: #008000; text-decoration-color: #008000\">│</span>\n",
       "<span style=\"color: #008000; text-decoration-color: #008000\">│</span>  <span style=\"color: #008000; text-decoration-color: #008000; font-weight: bold\">Task Completed</span>                                                                                                 <span style=\"color: #008000; text-decoration-color: #008000\">│</span>\n",
       "<span style=\"color: #008000; text-decoration-color: #008000\">│</span>  <span style=\"color: #c0c0c0; text-decoration-color: #c0c0c0\">Name: </span><span style=\"color: #008000; text-decoration-color: #008000\">8de276fe-175d-4045-8bd4-5f0322b5042f</span>                                                                     <span style=\"color: #008000; text-decoration-color: #008000\">│</span>\n",
       "<span style=\"color: #008000; text-decoration-color: #008000\">│</span>  <span style=\"color: #c0c0c0; text-decoration-color: #c0c0c0\">Agent: </span><span style=\"color: #008000; text-decoration-color: #008000\">Technical Skills Evaluator</span>                                                                              <span style=\"color: #008000; text-decoration-color: #008000\">│</span>\n",
       "<span style=\"color: #008000; text-decoration-color: #008000\">│</span>                                                                                                                 <span style=\"color: #008000; text-decoration-color: #008000\">│</span>\n",
       "<span style=\"color: #008000; text-decoration-color: #008000\">│</span>                                                                                                                 <span style=\"color: #008000; text-decoration-color: #008000\">│</span>\n",
       "<span style=\"color: #008000; text-decoration-color: #008000\">╰─────────────────────────────────────────────────────────────────────────────────────────────────────────────────╯</span>\n",
       "</pre>\n"
      ],
      "text/plain": [
       "\u001b[32m╭─\u001b[0m\u001b[32m───────────────────────────────────────────────\u001b[0m\u001b[32m Task Completion \u001b[0m\u001b[32m───────────────────────────────────────────────\u001b[0m\u001b[32m─╮\u001b[0m\n",
       "\u001b[32m│\u001b[0m                                                                                                                 \u001b[32m│\u001b[0m\n",
       "\u001b[32m│\u001b[0m  \u001b[1;32mTask Completed\u001b[0m                                                                                                 \u001b[32m│\u001b[0m\n",
       "\u001b[32m│\u001b[0m  \u001b[37mName: \u001b[0m\u001b[32m8de276fe-175d-4045-8bd4-5f0322b5042f\u001b[0m                                                                     \u001b[32m│\u001b[0m\n",
       "\u001b[32m│\u001b[0m  \u001b[37mAgent: \u001b[0m\u001b[32mTechnical Skills Evaluator\u001b[0m                                                                              \u001b[32m│\u001b[0m\n",
       "\u001b[32m│\u001b[0m                                                                                                                 \u001b[32m│\u001b[0m\n",
       "\u001b[32m│\u001b[0m                                                                                                                 \u001b[32m│\u001b[0m\n",
       "\u001b[32m╰─────────────────────────────────────────────────────────────────────────────────────────────────────────────────╯\u001b[0m\n"
      ]
     },
     "metadata": {},
     "output_type": "display_data"
    },
    {
     "data": {
      "text/html": [
       "<pre style=\"white-space:pre;overflow-x:auto;line-height:normal;font-family:Menlo,'DejaVu Sans Mono',consolas,'Courier New',monospace\">\n",
       "</pre>\n"
      ],
      "text/plain": [
       "\n"
      ]
     },
     "metadata": {},
     "output_type": "display_data"
    },
    {
     "data": {
      "text/html": [
       "<pre style=\"white-space:pre;overflow-x:auto;line-height:normal;font-family:Menlo,'DejaVu Sans Mono',consolas,'Courier New',monospace\"><span style=\"color: #008000; text-decoration-color: #008000\">╭──────────────────────────────────────────────── Crew Completion ────────────────────────────────────────────────╮</span>\n",
       "<span style=\"color: #008000; text-decoration-color: #008000\">│</span>                                                                                                                 <span style=\"color: #008000; text-decoration-color: #008000\">│</span>\n",
       "<span style=\"color: #008000; text-decoration-color: #008000\">│</span>  <span style=\"color: #008000; text-decoration-color: #008000; font-weight: bold\">Crew Execution Completed</span>                                                                                       <span style=\"color: #008000; text-decoration-color: #008000\">│</span>\n",
       "<span style=\"color: #008000; text-decoration-color: #008000\">│</span>  <span style=\"color: #c0c0c0; text-decoration-color: #c0c0c0\">Name: </span><span style=\"color: #008000; text-decoration-color: #008000\">crew</span>                                                                                                     <span style=\"color: #008000; text-decoration-color: #008000\">│</span>\n",
       "<span style=\"color: #008000; text-decoration-color: #008000\">│</span>  <span style=\"color: #c0c0c0; text-decoration-color: #c0c0c0\">ID: </span><span style=\"color: #008000; text-decoration-color: #008000\">20d98eb1-8caf-420a-a31a-0a594a6bce8e</span>                                                                       <span style=\"color: #008000; text-decoration-color: #008000\">│</span>\n",
       "<span style=\"color: #008000; text-decoration-color: #008000\">│</span>                                                                                                                 <span style=\"color: #008000; text-decoration-color: #008000\">│</span>\n",
       "<span style=\"color: #008000; text-decoration-color: #008000\">│</span>                                                                                                                 <span style=\"color: #008000; text-decoration-color: #008000\">│</span>\n",
       "<span style=\"color: #008000; text-decoration-color: #008000\">╰─────────────────────────────────────────────────────────────────────────────────────────────────────────────────╯</span>\n",
       "</pre>\n"
      ],
      "text/plain": [
       "\u001b[32m╭─\u001b[0m\u001b[32m───────────────────────────────────────────────\u001b[0m\u001b[32m Crew Completion \u001b[0m\u001b[32m───────────────────────────────────────────────\u001b[0m\u001b[32m─╮\u001b[0m\n",
       "\u001b[32m│\u001b[0m                                                                                                                 \u001b[32m│\u001b[0m\n",
       "\u001b[32m│\u001b[0m  \u001b[1;32mCrew Execution Completed\u001b[0m                                                                                       \u001b[32m│\u001b[0m\n",
       "\u001b[32m│\u001b[0m  \u001b[37mName: \u001b[0m\u001b[32mcrew\u001b[0m                                                                                                     \u001b[32m│\u001b[0m\n",
       "\u001b[32m│\u001b[0m  \u001b[37mID: \u001b[0m\u001b[32m20d98eb1-8caf-420a-a31a-0a594a6bce8e\u001b[0m                                                                       \u001b[32m│\u001b[0m\n",
       "\u001b[32m│\u001b[0m                                                                                                                 \u001b[32m│\u001b[0m\n",
       "\u001b[32m│\u001b[0m                                                                                                                 \u001b[32m│\u001b[0m\n",
       "\u001b[32m╰─────────────────────────────────────────────────────────────────────────────────────────────────────────────────╯\u001b[0m\n"
      ]
     },
     "metadata": {},
     "output_type": "display_data"
    },
    {
     "data": {
      "text/html": [
       "<pre style=\"white-space:pre;overflow-x:auto;line-height:normal;font-family:Menlo,'DejaVu Sans Mono',consolas,'Courier New',monospace\">\n",
       "</pre>\n"
      ],
      "text/plain": [
       "\n"
      ]
     },
     "metadata": {},
     "output_type": "display_data"
    },
    {
     "name": "stdout",
     "output_type": "stream",
     "text": [
      "\n",
      "Skill evaluation complete!\n",
      "\n",
      "Assessing job match...\n"
     ]
    },
    {
     "data": {
      "text/html": [
       "<pre style=\"white-space:pre;overflow-x:auto;line-height:normal;font-family:Menlo,'DejaVu Sans Mono',consolas,'Courier New',monospace\"><span style=\"color: #008080; text-decoration-color: #008080\">╭──────────────────────────────────────────── Crew Execution Started ─────────────────────────────────────────────╮</span>\n",
       "<span style=\"color: #008080; text-decoration-color: #008080\">│</span>                                                                                                                 <span style=\"color: #008080; text-decoration-color: #008080\">│</span>\n",
       "<span style=\"color: #008080; text-decoration-color: #008080\">│</span>  <span style=\"color: #008080; text-decoration-color: #008080; font-weight: bold\">Crew Execution Started</span>                                                                                         <span style=\"color: #008080; text-decoration-color: #008080\">│</span>\n",
       "<span style=\"color: #008080; text-decoration-color: #008080\">│</span>  <span style=\"color: #c0c0c0; text-decoration-color: #c0c0c0\">Name: </span><span style=\"color: #008080; text-decoration-color: #008080\">crew</span>                                                                                                     <span style=\"color: #008080; text-decoration-color: #008080\">│</span>\n",
       "<span style=\"color: #008080; text-decoration-color: #008080\">│</span>  <span style=\"color: #c0c0c0; text-decoration-color: #c0c0c0\">ID: </span><span style=\"color: #008080; text-decoration-color: #008080\">5ddd32c9-3cb1-45db-abdf-2fa4d7d965ac</span>                                                                       <span style=\"color: #008080; text-decoration-color: #008080\">│</span>\n",
       "<span style=\"color: #008080; text-decoration-color: #008080\">│</span>                                                                                                                 <span style=\"color: #008080; text-decoration-color: #008080\">│</span>\n",
       "<span style=\"color: #008080; text-decoration-color: #008080\">│</span>                                                                                                                 <span style=\"color: #008080; text-decoration-color: #008080\">│</span>\n",
       "<span style=\"color: #008080; text-decoration-color: #008080\">╰─────────────────────────────────────────────────────────────────────────────────────────────────────────────────╯</span>\n",
       "</pre>\n"
      ],
      "text/plain": [
       "\u001b[36m╭─\u001b[0m\u001b[36m───────────────────────────────────────────\u001b[0m\u001b[36m Crew Execution Started \u001b[0m\u001b[36m────────────────────────────────────────────\u001b[0m\u001b[36m─╮\u001b[0m\n",
       "\u001b[36m│\u001b[0m                                                                                                                 \u001b[36m│\u001b[0m\n",
       "\u001b[36m│\u001b[0m  \u001b[1;36mCrew Execution Started\u001b[0m                                                                                         \u001b[36m│\u001b[0m\n",
       "\u001b[36m│\u001b[0m  \u001b[37mName: \u001b[0m\u001b[36mcrew\u001b[0m                                                                                                     \u001b[36m│\u001b[0m\n",
       "\u001b[36m│\u001b[0m  \u001b[37mID: \u001b[0m\u001b[36m5ddd32c9-3cb1-45db-abdf-2fa4d7d965ac\u001b[0m                                                                       \u001b[36m│\u001b[0m\n",
       "\u001b[36m│\u001b[0m                                                                                                                 \u001b[36m│\u001b[0m\n",
       "\u001b[36m│\u001b[0m                                                                                                                 \u001b[36m│\u001b[0m\n",
       "\u001b[36m╰─────────────────────────────────────────────────────────────────────────────────────────────────────────────────╯\u001b[0m\n"
      ]
     },
     "metadata": {},
     "output_type": "display_data"
    },
    {
     "data": {
      "text/html": [
       "<pre style=\"white-space:pre;overflow-x:auto;line-height:normal;font-family:Menlo,'DejaVu Sans Mono',consolas,'Courier New',monospace\">\n",
       "</pre>\n"
      ],
      "text/plain": [
       "\n"
      ]
     },
     "metadata": {},
     "output_type": "display_data"
    },
    {
     "data": {
      "text/html": [
       "<pre style=\"white-space:pre;overflow-x:auto;line-height:normal;font-family:Menlo,'DejaVu Sans Mono',consolas,'Courier New',monospace\"><span style=\"color: #008080; text-decoration-color: #008080; font-weight: bold\">🚀 Crew: crew</span>\n",
       "└── <span style=\"color: #808000; text-decoration-color: #808000; font-weight: bold\">📋 Task: c8b71255-53fe-48df-b3de-07ca3dc385f2</span>\n",
       "    <span style=\"color: #c0c0c0; text-decoration-color: #c0c0c0\">   Status: </span><span style=\"color: #bfbf7f; text-decoration-color: #bfbf7f\">Executing Task...</span>\n",
       "</pre>\n"
      ],
      "text/plain": [
       "\u001b[1;36m🚀 Crew: \u001b[0m\u001b[1;36mcrew\u001b[0m\n",
       "└── \u001b[1;33m📋 Task: c8b71255-53fe-48df-b3de-07ca3dc385f2\u001b[0m\n",
       "    \u001b[37m   Status: \u001b[0m\u001b[2;33mExecuting Task...\u001b[0m\n"
      ]
     },
     "metadata": {},
     "output_type": "display_data"
    },
    {
     "data": {
      "text/html": [
       "<pre style=\"white-space:pre;overflow-x:auto;line-height:normal;font-family:Menlo,'DejaVu Sans Mono',consolas,'Courier New',monospace\">\n",
       "</pre>\n"
      ],
      "text/plain": [
       "\n"
      ]
     },
     "metadata": {},
     "output_type": "display_data"
    },
    {
     "data": {
      "text/html": [
       "<pre style=\"white-space:pre;overflow-x:auto;line-height:normal;font-family:Menlo,'DejaVu Sans Mono',consolas,'Courier New',monospace\"><span style=\"color: #008080; text-decoration-color: #008080; font-weight: bold\">🚀 Crew: crew</span>\n",
       "└── <span style=\"color: #808000; text-decoration-color: #808000; font-weight: bold\">📋 Task: c8b71255-53fe-48df-b3de-07ca3dc385f2</span>\n",
       "    <span style=\"color: #c0c0c0; text-decoration-color: #c0c0c0\">   Status: </span><span style=\"color: #bfbf7f; text-decoration-color: #bfbf7f\">Executing Task...</span>\n",
       "    └── <span style=\"color: #008000; text-decoration-color: #008000; font-weight: bold\">🤖 Agent: </span><span style=\"color: #008000; text-decoration-color: #008000\">Job Requirements Specialist</span>\n",
       "        <span style=\"color: #c0c0c0; text-decoration-color: #c0c0c0\">    Status: </span><span style=\"color: #008000; text-decoration-color: #008000; font-weight: bold\">In Progress</span>\n",
       "</pre>\n"
      ],
      "text/plain": [
       "\u001b[1;36m🚀 Crew: \u001b[0m\u001b[1;36mcrew\u001b[0m\n",
       "└── \u001b[1;33m📋 Task: c8b71255-53fe-48df-b3de-07ca3dc385f2\u001b[0m\n",
       "    \u001b[37m   Status: \u001b[0m\u001b[2;33mExecuting Task...\u001b[0m\n",
       "    └── \u001b[1;32m🤖 Agent: \u001b[0m\u001b[32mJob Requirements Specialist\u001b[0m\n",
       "        \u001b[37m    Status: \u001b[0m\u001b[1;32mIn Progress\u001b[0m\n"
      ]
     },
     "metadata": {},
     "output_type": "display_data"
    },
    {
     "data": {
      "text/html": [
       "<pre style=\"white-space:pre;overflow-x:auto;line-height:normal;font-family:Menlo,'DejaVu Sans Mono',consolas,'Courier New',monospace\">\n",
       "</pre>\n"
      ],
      "text/plain": [
       "\n"
      ]
     },
     "metadata": {},
     "output_type": "display_data"
    },
    {
     "name": "stdout",
     "output_type": "stream",
     "text": [
      "\u001b[1m\u001b[95m# Agent:\u001b[00m \u001b[1m\u001b[92mJob Requirements Specialist\u001b[00m\n",
      "\u001b[95m## Task:\u001b[00m \u001b[92m\n",
      "        Determine how well the candidate matches the following job requirements:\n",
      "        \n",
      "Job Title: Senior Full Stack Developer\n",
      "\n",
      "Essential Requirements:\n",
      "- 5+ years of experience in software development\n",
      "- Strong proficiency in Python and JavaScript\n",
      "- Experience with React.js and Django\n",
      "- Knowledge of RESTful API design and implementation\n",
      "- Experience with cloud platforms (AWS or Azure)\n",
      "- Understanding of CI/CD pipelines and DevOps practices\n",
      "\n",
      "Preferred Skills:\n",
      "- Experience with TypeScript and Node.js\n",
      "- Knowledge of container technologies (Docker, Kubernetes)\n",
      "- Experience with database design and optimization\n",
      "- Familiarity with microservices architecture\n",
      "- Experience mentoring junior developers\n",
      "\n",
      "Responsibilities:\n",
      "- Design, develop, and maintain web applications\n",
      "- Collaborate with cross-functional teams to define and implement new features\n",
      "- Write clean, maintainable, and efficient code\n",
      "- Participate in code reviews and provide constructive feedback\n",
      "- Troubleshoot production issues and optimize application performance\n",
      "- Stay up-to-date with emerging trends and technologies\n",
      "\n",
      "\n",
      "        Using their skill evaluation:\n",
      "        {\n",
      "  \"languages\": {\n",
      "    \"Python\": {\n",
      "      \"rating\": 8,\n",
      "      \"claimed\": true,\n",
      "      \"demonstrated\": true,\n",
      "      \"evidence\": \"LeetCode profile (272 problems solved, including Medium and Hard), HackerRank certificate (Python Basic), projects (NurtureSync, DeepFake detection), research experience (LANDSAT data analysis)\",\n",
      "      \"notes\": \"Strong evidence of proficiency.  LeetCode performance indicates a good grasp of problem-solving and data structures.\"\n",
      "    },\n",
      "    \"Dart\": {\n",
      "      \"rating\": 7,\n",
      "      \"claimed\": true,\n",
      "      \"demonstrated\": true,\n",
      "      \"evidence\": \"Flutter mobile app development (NurtureSync)\",\n",
      "      \"notes\": \"Demonstrated through Flutter app development, but less extensive evidence compared to Python.\"\n",
      "    },\n",
      "    \"JavaScript\": {\n",
      "      \"rating\": 6,\n",
      "      \"claimed\": true,\n",
      "      \"demonstrated\": false,\n",
      "      \"evidence\": \"No direct evidence in resume or projects.\",\n",
      "      \"notes\": \"Claimed but no demonstrable evidence.\"\n",
      "    },\n",
      "    \"C\": {\n",
      "      \"rating\": 5,\n",
      "      \"claimed\": true,\n",
      "      \"demonstrated\": false,\n",
      "      \"evidence\": \"No direct evidence in resume or projects.\",\n",
      "      \"notes\": \"Claimed but no demonstrable evidence.\"\n",
      "    }\n",
      "  },\n",
      "  \"frameworks\": {\n",
      "    \"Flutter\": {\n",
      "      \"rating\": 7,\n",
      "      \"claimed\": true,\n",
      "      \"demonstrated\": true,\n",
      "      \"evidence\": \"Mobile app development (NurtureSync)\",\n",
      "      \"notes\": \"Demonstrated proficiency in building mobile apps.\"\n",
      "    },\n",
      "    \"Flask\": {\n",
      "      \"rating\": 6,\n",
      "      \"claimed\": true,\n",
      "      \"demonstrated\": true,\n",
      "      \"evidence\": \"Web app development (NurtureSync)\",\n",
      "      \"notes\": \"Used in a project, but the extent of expertise is unclear.\"\n",
      "    },\n",
      "    \"Streamlit\": {\n",
      "      \"rating\": 6,\n",
      "      \"claimed\": true,\n",
      "      \"demonstrated\": true,\n",
      "      \"evidence\": \"Web app development (NurtureSync)\",\n",
      "      \"notes\": \"Used in a project, but the extent of expertise is unclear.\"\n",
      "    }\n",
      "  },\n",
      "  \"tools\": {\n",
      "    \"Git\": {\n",
      "      \"rating\": 8,\n",
      "      \"claimed\": true,\n",
      "      \"demonstrated\": true,\n",
      "      \"evidence\": \"GitHub profile with multiple projects\",\n",
      "      \"notes\": \"Active use indicated by multiple projects on GitHub.\"\n",
      "    },\n",
      "    \"Docker\": {\n",
      "      \"rating\": 5,\n",
      "      \"claimed\": true,\n",
      "      \"demonstrated\": false,\n",
      "      \"evidence\": \"No direct evidence in resume or projects.\",\n",
      "      \"notes\": \"Claimed but no demonstrable evidence.\"\n",
      "    },\n",
      "    \"Selenium\": {\n",
      "      \"rating\": 7,\n",
      "      \"claimed\": true,\n",
      "      \"demonstrated\": true,\n",
      "      \"evidence\": \"Security and Software Testing Internship responsibilities (automated testing)\",\n",
      "      \"notes\": \"Demonstrated use in a professional setting.\"\n",
      "    },\n",
      "    \"Firebase\": {\n",
      "      \"rating\": 7,\n",
      "      \"claimed\": true,\n",
      "      \"demonstrated\": true,\n",
      "      \"evidence\": \"Used in NurtureSync project\",\n",
      "      \"notes\": \"Demonstrated use in a project.\"\n",
      "    },\n",
      "    \"MySQL\": {\n",
      "      \"rating\": 6,\n",
      "      \"claimed\": true,\n",
      "      \"demonstrated\": true,\n",
      "      \"evidence\": \"Used in NurtureSync project\",\n",
      "      \"notes\": \"Used in a project, but the extent of expertise is unclear.\"\n",
      "    },\n",
      "    \"MongoDB\": {\n",
      "      \"rating\": 7,\n",
      "      \"claimed\": true,\n",
      "      \"demonstrated\": true,\n",
      "      \"evidence\": \"Used in NurtureSync project\",\n",
      "      \"notes\": \"Demonstrated use in a project.\"\n",
      "    },\n",
      "    \"Linux\": {\n",
      "      \"rating\": 6,\n",
      "      \"claimed\": true,\n",
      "      \"demonstrated\": true,\n",
      "      \"evidence\": \"Security and Software Testing Internship responsibilities (managed testing environments)\",\n",
      "      \"notes\": \"Demonstrated use in a professional setting, but the depth of expertise is unclear.\"\n",
      "    }\n",
      "  },\n",
      "  \"AI and Development\": {\n",
      "    \"Generative AI\": {\n",
      "      \"rating\": 5,\n",
      "      \"claimed\": true,\n",
      "      \"demonstrated\": false,\n",
      "      \"evidence\": \"No direct evidence in resume or projects.\",\n",
      "      \"notes\": \"Claimed but no demonstrable evidence.\"\n",
      "    },\n",
      "    \"ML\": {\n",
      "      \"rating\": 7,\n",
      "      \"claimed\": true,\n",
      "      \"demonstrated\": true,\n",
      "      \"evidence\": \"Research experience (real-time machine learning projects), DeepFake detection project\",\n",
      "      \"notes\": \"Demonstrated through research and projects.\"\n",
      "    },\n",
      "    \"DL\": {\n",
      "      \"rating\": 7,\n",
      "      \"claimed\": true,\n",
      "      \"demonstrated\": true,\n",
      "      \"evidence\": \"DeepFake detection project (ResNet, LSTM)\",\n",
      "      \"notes\": \"Demonstrated through the DeepFake detection project.\"\n",
      "    },\n",
      "    \"NLP\": {\n",
      "      \"rating\": 7,\n",
      "      \"claimed\": true,\n",
      "      \"demonstrated\": true,\n",
      "      \"evidence\": \"Infosys internship (AI system using NLP)\",\n",
      "      \"notes\": \"Demonstrated through a professional internship project.\"\n",
      "    },\n",
      "    \"Computer Vision\": {\n",
      "      \"rating\": 7,\n",
      "      \"claimed\": true,\n",
      "      \"demonstrated\": true,\n",
      "      \"evidence\": \"DeepFake detection project (MTCNN)\",\n",
      "      \"notes\": \"Demonstrated through the DeepFake detection project.\"\n",
      "    },\n",
      "    \"Data Structures\": {\n",
      "      \"rating\": 8,\n",
      "      \"claimed\": true,\n",
      "      \"demonstrated\": true,\n",
      "      \"evidence\": \"Coursera certificate, LeetCode performance\",\n",
      "      \"notes\": \"Strong evidence from both certification and LeetCode performance.\"\n",
      "    },\n",
      "    \"Agile\": {\n",
      "      \"rating\": 6,\n",
      "      \"claimed\": true,\n",
      "      \"demonstrated\": true,\n",
      "      \"evidence\": \"Infosys Springboard certificate, work experience (campus ambassador)\",\n",
      "      \"notes\": \"Demonstrated through certification and work experience, but the depth of expertise is unclear.\"\n",
      "    },\n",
      "    \"Testing\": {\n",
      "      \"rating\": 7,\n",
      "      \"claimed\": true,\n",
      "      \"demonstrated\": true,\n",
      "      \"evidence\": \"Security and Software Testing Internship\",\n",
      "      \"notes\": \"Demonstrated through a professional internship.\"\n",
      "    }\n",
      "  },\n",
      "  \"overall_assessment\": {\n",
      "    \"practical_application\": \"Strong evidence of practical application across multiple projects and internships.  The candidate demonstrates the ability to apply learned skills to real-world problems.\",\n",
      "    \"depth_of_knowledge\": \"Good depth of knowledge in Python, ML, DL, NLP, and data structures.  Proficiency in other areas is less clear due to limited evidence.\",\n",
      "    \"learning_ability\": \"High learning ability and adaptability demonstrated by the diverse range of skills and projects undertaken in a relatively short period.  The candidate actively seeks out new challenges and learning opportunities.\",\n",
      "    \"strengths\": \"Python programming, ML/DL/NLP, data structures, problem-solving, mobile app development (Flutter), web app development (Flask, Streamlit), automated testing (Selenium)\",\n",
      "    \"growth_areas\": \"Expand experience with JavaScript and C.  Deepen expertise in Generative AI and Agile methodologies.  Gain experience with Docker and other DevOps tools.  Further develop theoretical understanding to complement practical skills.\",\n",
      "    \"specialization\": \"The candidate shows a strong inclination towards AI and machine learning, with a focus on practical application and project development.  While possessing a broad range of skills, the specialization leans towards AI/ML.\",\n",
      "    \"generalist\": \"The candidate demonstrates a good range of skills across different areas of software development and AI, but the specialization is clearly towards AI/ML.\"\n",
      "  }\n",
      "}\n",
      "\n",
      "        Assess:\n",
      "        1. Essential requirements match (must-have skills)\n",
      "        2. Preferred requirements match (nice-to-have skills)\n",
      "        3. Experience level alignment\n",
      "        4. Cultural fit indicators\n",
      "        5. Growth potential for the role\n",
      "\n",
      "        For each requirement:\n",
      "        - Identify if it's satisfied directly or through a transferable skill\n",
      "        - Consider not just the presence of a skill but its rated level\n",
      "        - Note where the candidate exceeds requirements\n",
      "        - Note where the candidate falls short but may be able to learn\n",
      "        - Note where critical gaps exist\n",
      "\n",
      "        Provide a match percentage (0-100%) and detailed explanation for each major requirement.\n",
      "        Also calculate an overall match percentage that weights essential requirements more heavily.\n",
      "        Return your assessment in a structured JSON format.\n",
      "        \u001b[00m\n"
     ]
    },
    {
     "data": {
      "text/html": [
       "<pre style=\"white-space:pre;overflow-x:auto;line-height:normal;font-family:Menlo,'DejaVu Sans Mono',consolas,'Courier New',monospace\"><span style=\"color: #008080; text-decoration-color: #008080; font-weight: bold\">🚀 Crew: crew</span>\n",
       "└── <span style=\"color: #808000; text-decoration-color: #808000; font-weight: bold\">📋 Task: c8b71255-53fe-48df-b3de-07ca3dc385f2</span>\n",
       "    <span style=\"color: #c0c0c0; text-decoration-color: #c0c0c0\">   Status: </span><span style=\"color: #bfbf7f; text-decoration-color: #bfbf7f\">Executing Task...</span>\n",
       "    └── <span style=\"color: #008000; text-decoration-color: #008000; font-weight: bold\">🤖 Agent: </span><span style=\"color: #008000; text-decoration-color: #008000\">Job Requirements Specialist</span>\n",
       "        <span style=\"color: #c0c0c0; text-decoration-color: #c0c0c0\">    Status: </span><span style=\"color: #008000; text-decoration-color: #008000; font-weight: bold\">In Progress</span>\n",
       "        └── <span style=\"color: #000080; text-decoration-color: #000080; font-weight: bold\">🧠 </span><span style=\"color: #000080; text-decoration-color: #000080\">Thinking...</span>\n",
       "</pre>\n"
      ],
      "text/plain": [
       "\u001b[1;36m🚀 Crew: \u001b[0m\u001b[1;36mcrew\u001b[0m\n",
       "└── \u001b[1;33m📋 Task: c8b71255-53fe-48df-b3de-07ca3dc385f2\u001b[0m\n",
       "    \u001b[37m   Status: \u001b[0m\u001b[2;33mExecuting Task...\u001b[0m\n",
       "    └── \u001b[1;32m🤖 Agent: \u001b[0m\u001b[32mJob Requirements Specialist\u001b[0m\n",
       "        \u001b[37m    Status: \u001b[0m\u001b[1;32mIn Progress\u001b[0m\n",
       "        └── \u001b[1;34m🧠 \u001b[0m\u001b[34mThinking...\u001b[0m\n"
      ]
     },
     "metadata": {},
     "output_type": "display_data"
    },
    {
     "data": {
      "text/html": [
       "<pre style=\"white-space:pre;overflow-x:auto;line-height:normal;font-family:Menlo,'DejaVu Sans Mono',consolas,'Courier New',monospace\">\n",
       "</pre>\n"
      ],
      "text/plain": [
       "\n"
      ]
     },
     "metadata": {},
     "output_type": "display_data"
    },
    {
     "data": {
      "text/html": [
       "<pre style=\"white-space:pre;overflow-x:auto;line-height:normal;font-family:Menlo,'DejaVu Sans Mono',consolas,'Courier New',monospace\"><span style=\"color: #008080; text-decoration-color: #008080; font-weight: bold\">🚀 Crew: crew</span>\n",
       "└── <span style=\"color: #808000; text-decoration-color: #808000; font-weight: bold\">📋 Task: c8b71255-53fe-48df-b3de-07ca3dc385f2</span>\n",
       "    <span style=\"color: #c0c0c0; text-decoration-color: #c0c0c0\">   Status: </span><span style=\"color: #bfbf7f; text-decoration-color: #bfbf7f\">Executing Task...</span>\n",
       "    └── <span style=\"color: #008000; text-decoration-color: #008000; font-weight: bold\">🤖 Agent: </span><span style=\"color: #008000; text-decoration-color: #008000\">Job Requirements Specialist</span>\n",
       "        <span style=\"color: #c0c0c0; text-decoration-color: #c0c0c0\">    Status: </span><span style=\"color: #008000; text-decoration-color: #008000; font-weight: bold\">In Progress</span>\n",
       "</pre>\n"
      ],
      "text/plain": [
       "\u001b[1;36m🚀 Crew: \u001b[0m\u001b[1;36mcrew\u001b[0m\n",
       "└── \u001b[1;33m📋 Task: c8b71255-53fe-48df-b3de-07ca3dc385f2\u001b[0m\n",
       "    \u001b[37m   Status: \u001b[0m\u001b[2;33mExecuting Task...\u001b[0m\n",
       "    └── \u001b[1;32m🤖 Agent: \u001b[0m\u001b[32mJob Requirements Specialist\u001b[0m\n",
       "        \u001b[37m    Status: \u001b[0m\u001b[1;32mIn Progress\u001b[0m\n"
      ]
     },
     "metadata": {},
     "output_type": "display_data"
    },
    {
     "data": {
      "text/html": [
       "<pre style=\"white-space:pre;overflow-x:auto;line-height:normal;font-family:Menlo,'DejaVu Sans Mono',consolas,'Courier New',monospace\">\n",
       "</pre>\n"
      ],
      "text/plain": [
       "\n"
      ]
     },
     "metadata": {},
     "output_type": "display_data"
    },
    {
     "name": "stdout",
     "output_type": "stream",
     "text": [
      "\n",
      "\n",
      "\u001b[1m\u001b[95m# Agent:\u001b[00m \u001b[1m\u001b[92mJob Requirements Specialist\u001b[00m\n",
      "\u001b[95m## Final Answer:\u001b[00m \u001b[92m\n",
      "```json\n",
      "{\n",
      "  \"assessment\": {\n",
      "    \"essentialRequirements\": [\n",
      "      {\n",
      "        \"requirement\": \"5+ years of experience in software development\",\n",
      "        \"match\": {\n",
      "          \"percentage\": 70,\n",
      "          \"explanation\": \"While the candidate's resume doesn't explicitly state 5+ years of experience, the breadth and depth of projects, internships (including a significant security and software testing internship), and research experience suggest a comparable level of practical experience.  More information on the duration of each role would solidify this assessment.\"\n",
      "        }\n",
      "      },\n",
      "      {\n",
      "        \"requirement\": \"Strong proficiency in Python and JavaScript\",\n",
      "        \"match\": {\n",
      "          \"percentage\": 75,\n",
      "          \"explanation\": \"Python proficiency is strong (rating 8), demonstrated across multiple projects and LeetCode performance. However, JavaScript proficiency is claimed but lacks demonstrable evidence (rating 6, demonstrated: false). This is a significant gap for a senior full-stack role.\"\n",
      "        }\n",
      "      },\n",
      "      {\n",
      "        \"requirement\": \"Experience with React.js and Django\",\n",
      "        \"match\": {\n",
      "          \"percentage\": 30,\n",
      "          \"explanation\": \"No direct evidence of experience with React.js or Django.  The candidate uses Flask and Streamlit, which are related web frameworks, but don't directly translate to React.js and Django expertise. This is a critical gap.\"\n",
      "        }\n",
      "      },\n",
      "      {\n",
      "        \"requirement\": \"Knowledge of RESTful API design and implementation\",\n",
      "        \"match\": {\n",
      "          \"percentage\": 60,\n",
      "          \"explanation\": \"Indirect evidence suggests some familiarity through web application development (Flask, Streamlit), but the depth of knowledge is unclear.  Explicit mention or project examples demonstrating RESTful API design and implementation would improve this score.\"\n",
      "        }\n",
      "      },\n",
      "      {\n",
      "        \"requirement\": \"Experience with cloud platforms (AWS or Azure)\",\n",
      "        \"match\": {\n",
      "          \"percentage\": 0,\n",
      "          \"explanation\": \"No evidence of experience with AWS or Azure.\"\n",
      "        }\n",
      "      },\n",
      "      {\n",
      "        \"requirement\": \"Understanding of CI/CD pipelines and DevOps practices\",\n",
      "        \"match\": {\n",
      "          \"percentage\": 10,\n",
      "          \"explanation\": \"Limited evidence.  While Git usage is strong, there's no demonstrable experience with CI/CD pipelines or broader DevOps practices.  Docker experience is claimed but not demonstrated.\"\n",
      "        }\n",
      "      }\n",
      "    ],\n",
      "    \"preferredRequirements\": [\n",
      "      {\n",
      "        \"requirement\": \"Experience with TypeScript and Node.js\",\n",
      "        \"match\": {\n",
      "          \"percentage\": 0,\n",
      "          \"explanation\": \"No evidence of experience with TypeScript or Node.js.\"\n",
      "        }\n",
      "      },\n",
      "      {\n",
      "        \"requirement\": \"Knowledge of container technologies (Docker, Kubernetes)\",\n",
      "        \"match\": {\n",
      "          \"percentage\": 10,\n",
      "          \"explanation\": \"Docker is claimed but not demonstrated. No evidence of Kubernetes experience.\"\n",
      "        }\n",
      "      },\n",
      "      {\n",
      "        \"requirement\": \"Experience with database design and optimization\",\n",
      "        \"match\": {\n",
      "          \"percentage\": 60,\n",
      "          \"explanation\": \"Experience with MySQL and MongoDB is demonstrated, but the extent of expertise in database design and optimization is unclear.\"\n",
      "        }\n",
      "      },\n",
      "      {\n",
      "        \"requirement\": \"Familiarity with microservices architecture\",\n",
      "        \"match\": {\n",
      "          \"percentage\": 0,\n",
      "          \"explanation\": \"No evidence of familiarity with microservices architecture.\"\n",
      "        }\n",
      "      },\n",
      "      {\n",
      "        \"requirement\": \"Experience mentoring junior developers\",\n",
      "        \"match\": {\n",
      "          \"percentage\": 0,\n",
      "          \"explanation\": \"No evidence of experience mentoring junior developers.\"\n",
      "        }\n",
      "      }\n",
      "    ],\n",
      "    \"experienceLevel\": {\n",
      "      \"match\": {\n",
      "        \"percentage\": 70,\n",
      "        \"explanation\": \"The candidate's project portfolio and internship experiences suggest a level of practical experience comparable to a senior developer, but the lack of explicit 5+ years of experience and the gaps in essential requirements slightly lower the score.\"\n",
      "      }\n",
      "    },\n",
      "    \"culturalFit\": {\n",
      "      \"match\": {\n",
      "        \"percentage\": 80,\n",
      "        \"explanation\": \"The candidate demonstrates a strong learning ability, actively seeks new challenges, and possesses a diverse skillset.  These traits suggest a good potential for cultural fit, assuming the company values adaptability and continuous learning.\"\n",
      "      }\n",
      "    },\n",
      "    \"growthPotential\": {\n",
      "      \"match\": {\n",
      "        \"percentage\": 90,\n",
      "        \"explanation\": \"The candidate's demonstrated learning agility and diverse project experience indicate high growth potential.  The identified growth areas are addressable through focused learning and development.\"\n",
      "      }\n",
      "    },\n",
      "    \"overallMatch\": {\n",
      "      \"percentage\": 45,\n",
      "      \"explanation\": \"The overall match is moderate.  While the candidate possesses strong skills in Python and AI/ML, significant gaps exist in essential requirements like JavaScript, React.js, Django, cloud platforms, and CI/CD.  Addressing these gaps would significantly improve the candidate's suitability for the role.\"\n",
      "    }\n",
      "  }\n",
      "}\n",
      "```\u001b[00m\n",
      "\n",
      "\n"
     ]
    },
    {
     "data": {
      "text/html": [
       "<pre style=\"white-space:pre;overflow-x:auto;line-height:normal;font-family:Menlo,'DejaVu Sans Mono',consolas,'Courier New',monospace\"><span style=\"color: #008080; text-decoration-color: #008080; font-weight: bold\">🚀 Crew: crew</span>\n",
       "└── <span style=\"color: #808000; text-decoration-color: #808000; font-weight: bold\">📋 Task: c8b71255-53fe-48df-b3de-07ca3dc385f2</span>\n",
       "    <span style=\"color: #c0c0c0; text-decoration-color: #c0c0c0\">   Status: </span><span style=\"color: #bfbf7f; text-decoration-color: #bfbf7f\">Executing Task...</span>\n",
       "    └── <span style=\"color: #008000; text-decoration-color: #008000; font-weight: bold\">🤖 Agent: </span><span style=\"color: #008000; text-decoration-color: #008000\">Job Requirements Specialist</span>\n",
       "        <span style=\"color: #c0c0c0; text-decoration-color: #c0c0c0\">    Status: </span><span style=\"color: #008000; text-decoration-color: #008000; font-weight: bold\">✅ Completed</span>\n",
       "</pre>\n"
      ],
      "text/plain": [
       "\u001b[1;36m🚀 Crew: \u001b[0m\u001b[1;36mcrew\u001b[0m\n",
       "└── \u001b[1;33m📋 Task: c8b71255-53fe-48df-b3de-07ca3dc385f2\u001b[0m\n",
       "    \u001b[37m   Status: \u001b[0m\u001b[2;33mExecuting Task...\u001b[0m\n",
       "    └── \u001b[1;32m🤖 Agent: \u001b[0m\u001b[32mJob Requirements Specialist\u001b[0m\n",
       "        \u001b[37m    Status: \u001b[0m\u001b[1;32m✅ Completed\u001b[0m\n"
      ]
     },
     "metadata": {},
     "output_type": "display_data"
    },
    {
     "data": {
      "text/html": [
       "<pre style=\"white-space:pre;overflow-x:auto;line-height:normal;font-family:Menlo,'DejaVu Sans Mono',consolas,'Courier New',monospace\">\n",
       "</pre>\n"
      ],
      "text/plain": [
       "\n"
      ]
     },
     "metadata": {},
     "output_type": "display_data"
    },
    {
     "data": {
      "text/html": [
       "<pre style=\"white-space:pre;overflow-x:auto;line-height:normal;font-family:Menlo,'DejaVu Sans Mono',consolas,'Courier New',monospace\"><span style=\"color: #008080; text-decoration-color: #008080; font-weight: bold\">🚀 Crew: crew</span>\n",
       "└── <span style=\"color: #008000; text-decoration-color: #008000; font-weight: bold\">📋 Task: c8b71255-53fe-48df-b3de-07ca3dc385f2</span>\n",
       "    <span style=\"color: #c0c0c0; text-decoration-color: #c0c0c0\">   Assigned to: </span><span style=\"color: #008000; text-decoration-color: #008000\">Job Requirements Specialist</span>\n",
       "    <span style=\"color: #c0c0c0; text-decoration-color: #c0c0c0\">   Status: </span><span style=\"color: #008000; text-decoration-color: #008000; font-weight: bold\">✅ Completed</span>\n",
       "    └── <span style=\"color: #008000; text-decoration-color: #008000; font-weight: bold\">🤖 Agent: </span><span style=\"color: #008000; text-decoration-color: #008000\">Job Requirements Specialist</span>\n",
       "        <span style=\"color: #c0c0c0; text-decoration-color: #c0c0c0\">    Status: </span><span style=\"color: #008000; text-decoration-color: #008000; font-weight: bold\">✅ Completed</span>\n",
       "</pre>\n"
      ],
      "text/plain": [
       "\u001b[1;36m🚀 Crew: \u001b[0m\u001b[1;36mcrew\u001b[0m\n",
       "└── \u001b[1;32m📋 Task: c8b71255-53fe-48df-b3de-07ca3dc385f2\u001b[0m\n",
       "    \u001b[37m   Assigned to: \u001b[0m\u001b[32mJob Requirements Specialist\u001b[0m\n",
       "    \u001b[37m   Status: \u001b[0m\u001b[1;32m✅ Completed\u001b[0m\n",
       "    └── \u001b[1;32m🤖 Agent: \u001b[0m\u001b[32mJob Requirements Specialist\u001b[0m\n",
       "        \u001b[37m    Status: \u001b[0m\u001b[1;32m✅ Completed\u001b[0m\n"
      ]
     },
     "metadata": {},
     "output_type": "display_data"
    },
    {
     "data": {
      "text/html": [
       "<pre style=\"white-space:pre;overflow-x:auto;line-height:normal;font-family:Menlo,'DejaVu Sans Mono',consolas,'Courier New',monospace\"><span style=\"color: #008000; text-decoration-color: #008000\">╭──────────────────────────────────────────────── Task Completion ────────────────────────────────────────────────╮</span>\n",
       "<span style=\"color: #008000; text-decoration-color: #008000\">│</span>                                                                                                                 <span style=\"color: #008000; text-decoration-color: #008000\">│</span>\n",
       "<span style=\"color: #008000; text-decoration-color: #008000\">│</span>  <span style=\"color: #008000; text-decoration-color: #008000; font-weight: bold\">Task Completed</span>                                                                                                 <span style=\"color: #008000; text-decoration-color: #008000\">│</span>\n",
       "<span style=\"color: #008000; text-decoration-color: #008000\">│</span>  <span style=\"color: #c0c0c0; text-decoration-color: #c0c0c0\">Name: </span><span style=\"color: #008000; text-decoration-color: #008000\">c8b71255-53fe-48df-b3de-07ca3dc385f2</span>                                                                     <span style=\"color: #008000; text-decoration-color: #008000\">│</span>\n",
       "<span style=\"color: #008000; text-decoration-color: #008000\">│</span>  <span style=\"color: #c0c0c0; text-decoration-color: #c0c0c0\">Agent: </span><span style=\"color: #008000; text-decoration-color: #008000\">Job Requirements Specialist</span>                                                                             <span style=\"color: #008000; text-decoration-color: #008000\">│</span>\n",
       "<span style=\"color: #008000; text-decoration-color: #008000\">│</span>                                                                                                                 <span style=\"color: #008000; text-decoration-color: #008000\">│</span>\n",
       "<span style=\"color: #008000; text-decoration-color: #008000\">│</span>                                                                                                                 <span style=\"color: #008000; text-decoration-color: #008000\">│</span>\n",
       "<span style=\"color: #008000; text-decoration-color: #008000\">╰─────────────────────────────────────────────────────────────────────────────────────────────────────────────────╯</span>\n",
       "</pre>\n"
      ],
      "text/plain": [
       "\u001b[32m╭─\u001b[0m\u001b[32m───────────────────────────────────────────────\u001b[0m\u001b[32m Task Completion \u001b[0m\u001b[32m───────────────────────────────────────────────\u001b[0m\u001b[32m─╮\u001b[0m\n",
       "\u001b[32m│\u001b[0m                                                                                                                 \u001b[32m│\u001b[0m\n",
       "\u001b[32m│\u001b[0m  \u001b[1;32mTask Completed\u001b[0m                                                                                                 \u001b[32m│\u001b[0m\n",
       "\u001b[32m│\u001b[0m  \u001b[37mName: \u001b[0m\u001b[32mc8b71255-53fe-48df-b3de-07ca3dc385f2\u001b[0m                                                                     \u001b[32m│\u001b[0m\n",
       "\u001b[32m│\u001b[0m  \u001b[37mAgent: \u001b[0m\u001b[32mJob Requirements Specialist\u001b[0m                                                                             \u001b[32m│\u001b[0m\n",
       "\u001b[32m│\u001b[0m                                                                                                                 \u001b[32m│\u001b[0m\n",
       "\u001b[32m│\u001b[0m                                                                                                                 \u001b[32m│\u001b[0m\n",
       "\u001b[32m╰─────────────────────────────────────────────────────────────────────────────────────────────────────────────────╯\u001b[0m\n"
      ]
     },
     "metadata": {},
     "output_type": "display_data"
    },
    {
     "data": {
      "text/html": [
       "<pre style=\"white-space:pre;overflow-x:auto;line-height:normal;font-family:Menlo,'DejaVu Sans Mono',consolas,'Courier New',monospace\">\n",
       "</pre>\n"
      ],
      "text/plain": [
       "\n"
      ]
     },
     "metadata": {},
     "output_type": "display_data"
    },
    {
     "data": {
      "text/html": [
       "<pre style=\"white-space:pre;overflow-x:auto;line-height:normal;font-family:Menlo,'DejaVu Sans Mono',consolas,'Courier New',monospace\"><span style=\"color: #008000; text-decoration-color: #008000\">╭──────────────────────────────────────────────── Crew Completion ────────────────────────────────────────────────╮</span>\n",
       "<span style=\"color: #008000; text-decoration-color: #008000\">│</span>                                                                                                                 <span style=\"color: #008000; text-decoration-color: #008000\">│</span>\n",
       "<span style=\"color: #008000; text-decoration-color: #008000\">│</span>  <span style=\"color: #008000; text-decoration-color: #008000; font-weight: bold\">Crew Execution Completed</span>                                                                                       <span style=\"color: #008000; text-decoration-color: #008000\">│</span>\n",
       "<span style=\"color: #008000; text-decoration-color: #008000\">│</span>  <span style=\"color: #c0c0c0; text-decoration-color: #c0c0c0\">Name: </span><span style=\"color: #008000; text-decoration-color: #008000\">crew</span>                                                                                                     <span style=\"color: #008000; text-decoration-color: #008000\">│</span>\n",
       "<span style=\"color: #008000; text-decoration-color: #008000\">│</span>  <span style=\"color: #c0c0c0; text-decoration-color: #c0c0c0\">ID: </span><span style=\"color: #008000; text-decoration-color: #008000\">5ddd32c9-3cb1-45db-abdf-2fa4d7d965ac</span>                                                                       <span style=\"color: #008000; text-decoration-color: #008000\">│</span>\n",
       "<span style=\"color: #008000; text-decoration-color: #008000\">│</span>                                                                                                                 <span style=\"color: #008000; text-decoration-color: #008000\">│</span>\n",
       "<span style=\"color: #008000; text-decoration-color: #008000\">│</span>                                                                                                                 <span style=\"color: #008000; text-decoration-color: #008000\">│</span>\n",
       "<span style=\"color: #008000; text-decoration-color: #008000\">╰─────────────────────────────────────────────────────────────────────────────────────────────────────────────────╯</span>\n",
       "</pre>\n"
      ],
      "text/plain": [
       "\u001b[32m╭─\u001b[0m\u001b[32m───────────────────────────────────────────────\u001b[0m\u001b[32m Crew Completion \u001b[0m\u001b[32m───────────────────────────────────────────────\u001b[0m\u001b[32m─╮\u001b[0m\n",
       "\u001b[32m│\u001b[0m                                                                                                                 \u001b[32m│\u001b[0m\n",
       "\u001b[32m│\u001b[0m  \u001b[1;32mCrew Execution Completed\u001b[0m                                                                                       \u001b[32m│\u001b[0m\n",
       "\u001b[32m│\u001b[0m  \u001b[37mName: \u001b[0m\u001b[32mcrew\u001b[0m                                                                                                     \u001b[32m│\u001b[0m\n",
       "\u001b[32m│\u001b[0m  \u001b[37mID: \u001b[0m\u001b[32m5ddd32c9-3cb1-45db-abdf-2fa4d7d965ac\u001b[0m                                                                       \u001b[32m│\u001b[0m\n",
       "\u001b[32m│\u001b[0m                                                                                                                 \u001b[32m│\u001b[0m\n",
       "\u001b[32m│\u001b[0m                                                                                                                 \u001b[32m│\u001b[0m\n",
       "\u001b[32m╰─────────────────────────────────────────────────────────────────────────────────────────────────────────────────╯\u001b[0m\n"
      ]
     },
     "metadata": {},
     "output_type": "display_data"
    },
    {
     "data": {
      "text/html": [
       "<pre style=\"white-space:pre;overflow-x:auto;line-height:normal;font-family:Menlo,'DejaVu Sans Mono',consolas,'Courier New',monospace\">\n",
       "</pre>\n"
      ],
      "text/plain": [
       "\n"
      ]
     },
     "metadata": {},
     "output_type": "display_data"
    },
    {
     "name": "stdout",
     "output_type": "stream",
     "text": [
      "\n",
      "Job match assessment complete!\n",
      "\n",
      "Running evaluation pipeline...\n"
     ]
    },
    {
     "data": {
      "text/html": [
       "<pre style=\"white-space:pre;overflow-x:auto;line-height:normal;font-family:Menlo,'DejaVu Sans Mono',consolas,'Courier New',monospace\"><span style=\"color: #008080; text-decoration-color: #008080\">╭──────────────────────────────────────────── Crew Execution Started ─────────────────────────────────────────────╮</span>\n",
       "<span style=\"color: #008080; text-decoration-color: #008080\">│</span>                                                                                                                 <span style=\"color: #008080; text-decoration-color: #008080\">│</span>\n",
       "<span style=\"color: #008080; text-decoration-color: #008080\">│</span>  <span style=\"color: #008080; text-decoration-color: #008080; font-weight: bold\">Crew Execution Started</span>                                                                                         <span style=\"color: #008080; text-decoration-color: #008080\">│</span>\n",
       "<span style=\"color: #008080; text-decoration-color: #008080\">│</span>  <span style=\"color: #c0c0c0; text-decoration-color: #c0c0c0\">Name: </span><span style=\"color: #008080; text-decoration-color: #008080\">crew</span>                                                                                                     <span style=\"color: #008080; text-decoration-color: #008080\">│</span>\n",
       "<span style=\"color: #008080; text-decoration-color: #008080\">│</span>  <span style=\"color: #c0c0c0; text-decoration-color: #c0c0c0\">ID: </span><span style=\"color: #008080; text-decoration-color: #008080\">bbafe24d-ce50-4320-82e2-a81c8ba40127</span>                                                                       <span style=\"color: #008080; text-decoration-color: #008080\">│</span>\n",
       "<span style=\"color: #008080; text-decoration-color: #008080\">│</span>                                                                                                                 <span style=\"color: #008080; text-decoration-color: #008080\">│</span>\n",
       "<span style=\"color: #008080; text-decoration-color: #008080\">│</span>                                                                                                                 <span style=\"color: #008080; text-decoration-color: #008080\">│</span>\n",
       "<span style=\"color: #008080; text-decoration-color: #008080\">╰─────────────────────────────────────────────────────────────────────────────────────────────────────────────────╯</span>\n",
       "</pre>\n"
      ],
      "text/plain": [
       "\u001b[36m╭─\u001b[0m\u001b[36m───────────────────────────────────────────\u001b[0m\u001b[36m Crew Execution Started \u001b[0m\u001b[36m────────────────────────────────────────────\u001b[0m\u001b[36m─╮\u001b[0m\n",
       "\u001b[36m│\u001b[0m                                                                                                                 \u001b[36m│\u001b[0m\n",
       "\u001b[36m│\u001b[0m  \u001b[1;36mCrew Execution Started\u001b[0m                                                                                         \u001b[36m│\u001b[0m\n",
       "\u001b[36m│\u001b[0m  \u001b[37mName: \u001b[0m\u001b[36mcrew\u001b[0m                                                                                                     \u001b[36m│\u001b[0m\n",
       "\u001b[36m│\u001b[0m  \u001b[37mID: \u001b[0m\u001b[36mbbafe24d-ce50-4320-82e2-a81c8ba40127\u001b[0m                                                                       \u001b[36m│\u001b[0m\n",
       "\u001b[36m│\u001b[0m                                                                                                                 \u001b[36m│\u001b[0m\n",
       "\u001b[36m│\u001b[0m                                                                                                                 \u001b[36m│\u001b[0m\n",
       "\u001b[36m╰─────────────────────────────────────────────────────────────────────────────────────────────────────────────────╯\u001b[0m\n"
      ]
     },
     "metadata": {},
     "output_type": "display_data"
    },
    {
     "data": {
      "text/html": [
       "<pre style=\"white-space:pre;overflow-x:auto;line-height:normal;font-family:Menlo,'DejaVu Sans Mono',consolas,'Courier New',monospace\">\n",
       "</pre>\n"
      ],
      "text/plain": [
       "\n"
      ]
     },
     "metadata": {},
     "output_type": "display_data"
    },
    {
     "data": {
      "text/html": [
       "<pre style=\"white-space:pre;overflow-x:auto;line-height:normal;font-family:Menlo,'DejaVu Sans Mono',consolas,'Courier New',monospace\"><span style=\"color: #008080; text-decoration-color: #008080; font-weight: bold\">🚀 Crew: crew</span>\n",
       "└── <span style=\"color: #808000; text-decoration-color: #808000; font-weight: bold\">📋 Task: d40c5353-a0dc-42b8-8ef2-ebd20aab6974</span>\n",
       "    <span style=\"color: #c0c0c0; text-decoration-color: #c0c0c0\">   Status: </span><span style=\"color: #bfbf7f; text-decoration-color: #bfbf7f\">Executing Task...</span>\n",
       "</pre>\n"
      ],
      "text/plain": [
       "\u001b[1;36m🚀 Crew: \u001b[0m\u001b[1;36mcrew\u001b[0m\n",
       "└── \u001b[1;33m📋 Task: d40c5353-a0dc-42b8-8ef2-ebd20aab6974\u001b[0m\n",
       "    \u001b[37m   Status: \u001b[0m\u001b[2;33mExecuting Task...\u001b[0m\n"
      ]
     },
     "metadata": {},
     "output_type": "display_data"
    },
    {
     "data": {
      "text/html": [
       "<pre style=\"white-space:pre;overflow-x:auto;line-height:normal;font-family:Menlo,'DejaVu Sans Mono',consolas,'Courier New',monospace\">\n",
       "</pre>\n"
      ],
      "text/plain": [
       "\n"
      ]
     },
     "metadata": {},
     "output_type": "display_data"
    },
    {
     "data": {
      "text/html": [
       "<pre style=\"white-space:pre;overflow-x:auto;line-height:normal;font-family:Menlo,'DejaVu Sans Mono',consolas,'Courier New',monospace\"><span style=\"color: #008080; text-decoration-color: #008080; font-weight: bold\">🚀 Crew: crew</span>\n",
       "└── <span style=\"color: #808000; text-decoration-color: #808000; font-weight: bold\">📋 Task: d40c5353-a0dc-42b8-8ef2-ebd20aab6974</span>\n",
       "    <span style=\"color: #c0c0c0; text-decoration-color: #c0c0c0\">   Status: </span><span style=\"color: #bfbf7f; text-decoration-color: #bfbf7f\">Executing Task...</span>\n",
       "    └── <span style=\"color: #008000; text-decoration-color: #008000; font-weight: bold\">🤖 Agent: </span><span style=\"color: #008000; text-decoration-color: #008000\">Evaluation Pipeline Manager</span>\n",
       "        <span style=\"color: #c0c0c0; text-decoration-color: #c0c0c0\">    Status: </span><span style=\"color: #008000; text-decoration-color: #008000; font-weight: bold\">In Progress</span>\n",
       "</pre>\n"
      ],
      "text/plain": [
       "\u001b[1;36m🚀 Crew: \u001b[0m\u001b[1;36mcrew\u001b[0m\n",
       "└── \u001b[1;33m📋 Task: d40c5353-a0dc-42b8-8ef2-ebd20aab6974\u001b[0m\n",
       "    \u001b[37m   Status: \u001b[0m\u001b[2;33mExecuting Task...\u001b[0m\n",
       "    └── \u001b[1;32m🤖 Agent: \u001b[0m\u001b[32mEvaluation Pipeline Manager\u001b[0m\n",
       "        \u001b[37m    Status: \u001b[0m\u001b[1;32mIn Progress\u001b[0m\n"
      ]
     },
     "metadata": {},
     "output_type": "display_data"
    },
    {
     "data": {
      "text/html": [
       "<pre style=\"white-space:pre;overflow-x:auto;line-height:normal;font-family:Menlo,'DejaVu Sans Mono',consolas,'Courier New',monospace\">\n",
       "</pre>\n"
      ],
      "text/plain": [
       "\n"
      ]
     },
     "metadata": {},
     "output_type": "display_data"
    },
    {
     "name": "stdout",
     "output_type": "stream",
     "text": [
      "\u001b[1m\u001b[95m# Agent:\u001b[00m \u001b[1m\u001b[92mEvaluation Pipeline Manager\u001b[00m\n",
      "\u001b[95m## Task:\u001b[00m \u001b[92m\n",
      "        Implement a comprehensive evaluation pipeline with the following stages, using:\n",
      "\n",
      "        Resume Information:\n",
      "        {\n",
      "  \"personal_information\": {\n",
      "    \"name\": \"NANDINI KUPPALA\",\n",
      "    \"contact\": {\n",
      "      \"phone\": \"+91 7569056212\",\n",
      "      \"email\": \"knandini7816@gmail.com\",\n",
      "      \"linkedin\": \"https://www.linkedin.com/in/nandini-kuppala/\",\n",
      "      \"github\": \"https://github.com/nandini-kuppala\"\n",
      "    }\n",
      "  },\n",
      "  \"skills\": {\n",
      "    \"languages\": [\n",
      "      \"Python\",\n",
      "      \"Dart\",\n",
      "      \"JavaScript\",\n",
      "      \"C\"\n",
      "    ],\n",
      "    \"frameworks\": [\n",
      "      \"Flutter\",\n",
      "      \"Flask\",\n",
      "      \"Streamlit\"\n",
      "    ],\n",
      "    \"tools\": [\n",
      "      \"Git\",\n",
      "      \"Docker\",\n",
      "      \"Selenium\",\n",
      "      \"Firebase\",\n",
      "      \"MySQL\",\n",
      "      \"MongoDB\",\n",
      "      \"Linux\"\n",
      "    ],\n",
      "    \"ai_and_development\": [\n",
      "      \"Generative AI\",\n",
      "      \"ML\",\n",
      "      \"DL\",\n",
      "      \"NLP\",\n",
      "      \"Computer Vision\",\n",
      "      \"Data Structures\",\n",
      "      \"Agile\",\n",
      "      \"Testing\"\n",
      "    ]\n",
      "  },\n",
      "  \"work_experience\": [\n",
      "    {\n",
      "      \"title\": \"Infosys Springboard Internship 5.O (AI Project Intern)\",\n",
      "      \"company\": \"Infosys\",\n",
      "      \"dates\": \"December 2024 - Present\",\n",
      "      \"responsibilities\": [\n",
      "        \"Led a team of five interns and built an AI system using NLP to automate ticket classification and responses.\",\n",
      "        \"Integrated with helpdesk platforms to enhance efficiency and reduce resolution time.\"\n",
      "      ]\n",
      "    },\n",
      "    {\n",
      "      \"title\": \"Research Experience\",\n",
      "      \"company\": null,\n",
      "      \"dates\": \"October 2023 \\u2013 Present\",\n",
      "      \"responsibilities\": [\n",
      "        \"Worked on real-time machine learning projects using LANDSAT data to monitor rangeland vegetation.\",\n",
      "        \"Contributed to a 30% increase in profitability for Wyoming farmers.\"\n",
      "      ],\n",
      "      \"mentors\": [\n",
      "        \"Dr. Ramesh Sivanpillai (University of Wyoming)\",\n",
      "        \"Dr. Sajith Variyar (Amrita School of AI)\"\n",
      "      ]\n",
      "    },\n",
      "    {\n",
      "      \"title\": \"Campus Ambassador\",\n",
      "      \"company\": \"E-Cell IIT Bombay\",\n",
      "      \"dates\": \"August 2024 \\u2013 December 2024\",\n",
      "      \"responsibilities\": [\n",
      "        \"Organized events and competitions reaching over 200 participants, promoting entrepreneurship in college.\"\n",
      "      ]\n",
      "    },\n",
      "    {\n",
      "      \"title\": \"Security and Software Testing Intern\",\n",
      "      \"company\": \"Baavlibuch\",\n",
      "      \"dates\": \"February 2024 \\u2013 April 2024\",\n",
      "      \"responsibilities\": [\n",
      "        \"Automated testing procedures, reducing manual testing effort by 40% and accelerating test case execution by 25%.\",\n",
      "        \"Debugged and fixed critical application bugs, enhancing stability and performance by 30%.\",\n",
      "        \"Implemented and managed testing environments in Linux, significantly improving security and data protection.\"\n",
      "      ]\n",
      "    }\n",
      "  ],\n",
      "  \"education\": {\n",
      "    \"degree\": \"Bachelor of Engineering in Artificial Intelligence\",\n",
      "    \"institution\": \"Amrita Vishwa Vidyapeetham\",\n",
      "    \"location\": \"Coimbatore, Tamil Nadu\",\n",
      "    \"cgpa\": \"8.02\",\n",
      "    \"dates\": \"2022 \\u2013 2026\"\n",
      "  },\n",
      "  \"projects\": [\n",
      "    {\n",
      "      \"name\": \"NurtureSync: A Health Care Companion\",\n",
      "      \"description\": \"Developed a mobile and web app platform to manage chronic diseases like thyroid and diabetes. Features include personalized feedback, medical report analysis, health tracking, and a healthcare community.\",\n",
      "      \"technologies\": [\n",
      "        \"Web \\u2013 Streamlit, MongoDB, Firebase, Flask; Mobile \\u2013 Flutter, Firebase, MongoDB\"\n",
      "      ],\n",
      "      \"link\": \"https://nurturesynchealth.streamlit.app/\"\n",
      "    },\n",
      "    {\n",
      "      \"name\": \"DeepFake Video Detection\",\n",
      "      \"description\": \"Improved the model\\u2019s accuracy by 15% in detecting DeepFake videos using a pipeline of MTCNN for face detection, ResNet for feature extraction, and LSTM for temporal analysis. Developed a Chrome extension for DeepFake image detection and working towards real-time video detection\",\n",
      "      \"technologies\": [\n",
      "        \"MTCNN\",\n",
      "        \"ResNet\",\n",
      "        \"LSTM\"\n",
      "      ],\n",
      "      \"link\": \"https://github.com/nandini-queen-of-my-world/Deepfake-detection\"\n",
      "    }\n",
      "  ],\n",
      "  \"achievements\": [\n",
      "    \"Finalist at the Health Hackathon by Johns Hopkins University at VIT Bhopal, selected from 232 teams and over 1,300 participants for the project NurtureSync.\"\n",
      "  ],\n",
      "  \"publications\": [\n",
      "    {\n",
      "      \"title\": \"Mapping Vegetation Dynamics in Wyoming: A Multi-Temporal Analysis Using Landsat NDVI and Clustering\",\n",
      "      \"venue\": \"ASPRS International Technical Symposium 2024\",\n",
      "      \"link\": \"https://isprs-archives.copernicus.org/articles/XLVIII-M-5-2024/87/2025/\"\n",
      "    },\n",
      "    {\n",
      "      \"title\": \"Preterm Birth Prediction Using GraphSAGE and Electrohysterogram Data\",\n",
      "      \"venue\": \"IEEE Eleventh International Conference on Biosignals, Images, and Instrumentation (ICBSII)\",\n",
      "      \"link\": \"https://isprs-archives.copernicus.org/articles/XLVIII-M-5-2024/87/2025/\"\n",
      "    }\n",
      "  ],\n",
      "  \"profiles\": {\n",
      "    \"leetcode\": \"https://leetcode.com/u/Nandini_Queen/\",\n",
      "    \"geeksforgeeks\": \"https://www.geeksforgeeks.org/user/knandin8fsf/\",\n",
      "    \"hackerrank\": \"https://www.hackerrank.com/profile/knandini7816\"\n",
      "  },\n",
      "  \"certifications\": [\n",
      "    {\n",
      "      \"name\": \"Artificial Intelligence Course Series (118 hr length)\",\n",
      "      \"provider\": \"Infosys Springboard\",\n",
      "      \"link\": \"https://infyspringboard.onwingspan.com/web/en/app/profile/competency/certificate\"\n",
      "    },\n",
      "    {\n",
      "      \"name\": \"Agile Scrum in Practice\",\n",
      "      \"provider\": \"Infosys Springboard\",\n",
      "      \"link\": \"https://infyspringboard.onwingspan.com/web/en/app/profile/competency/certificate\"\n",
      "    },\n",
      "    {\n",
      "      \"name\": \"Data Structures and Performance\",\n",
      "      \"provider\": \"Coursera\",\n",
      "      \"link\": \"https://coursera.org/share/1d4edbf7bd94d9c9409693f3ed34623e\"\n",
      "    },\n",
      "    {\n",
      "      \"name\": \"Python Basic, Problem Solving Basic\",\n",
      "      \"provider\": \"Hacker Rank\",\n",
      "      \"link\": \"https://www.hackerrank.com/certificates/29cd025a29fc\"\n",
      "    }\n",
      "  ]\n",
      "}\n",
      "\n",
      "        Profile Data:\n",
      "        {\n",
      "  \"leetcode\": {\n",
      "    \"username\": \"Nandini_Queen\",\n",
      "    \"total_problems_solved\": 272,\n",
      "    \"problems_by_difficulty\": {\n",
      "      \"All\": 136,\n",
      "      \"Easy\": 58,\n",
      "      \"Medium\": 68,\n",
      "      \"Hard\": 10\n",
      "    },\n",
      "    \"ranking\": 883997,\n",
      "    \"reputation\": 0,\n",
      "    \"badges\": [\n",
      "      \"Study Plan V2 Award\"\n",
      "    ]\n",
      "  },\n",
      "  \"geeksforgeeks\": {\n",
      "    \"notes\": \"Partial information found through search.  Multiple users with similar names exist.  Unable to definitively link to a specific profile with the available tools.\"\n",
      "  },\n",
      "  \"hackerrank\": {\n",
      "    \"notes\": \"No profile found using available tools and search.  Further investigation may be needed.\"\n",
      "  }\n",
      "}\n",
      "\n",
      "        Certification Data:\n",
      "        {\n",
      "  \"certifications\": [\n",
      "    {\n",
      "      \"name\": \"Artificial Intelligence Course Series (118 hr length)\",\n",
      "      \"provider\": \"Infosys Springboard\",\n",
      "      \"link\": \"https://infyspringboard.onwingspan.com/web/en/app/profile/competency/certificate\",\n",
      "      \"verification_status\": \"unverified\",\n",
      "      \"confidence_level\": \"low\",\n",
      "      \"skills\": [\n",
      "        \"Artificial Intelligence\"\n",
      "      ],\n",
      "      \"issuer_credibility\": \"Medium - Infosys is a reputable IT services company, but verification of this specific certificate is impossible without a direct link.\",\n",
      "      \"issue_date\": null,\n",
      "      \"expiration_date\": null\n",
      "    },\n",
      "    {\n",
      "      \"name\": \"Agile Scrum in Practice\",\n",
      "      \"provider\": \"Infosys Springboard\",\n",
      "      \"link\": \"https://infyspringboard.onwingspan.com/web/en/app/profile/competency/certificate\",\n",
      "      \"verification_status\": \"unverified\",\n",
      "      \"confidence_level\": \"low\",\n",
      "      \"skills\": [\n",
      "        \"Agile\",\n",
      "        \"Scrum\"\n",
      "      ],\n",
      "      \"issuer_credibility\": \"Medium - Infosys is a reputable IT services company, but verification of this specific certificate is impossible without a direct link.\",\n",
      "      \"issue_date\": null,\n",
      "      \"expiration_date\": null\n",
      "    },\n",
      "    {\n",
      "      \"name\": \"Data Structures and Performance\",\n",
      "      \"provider\": \"Coursera\",\n",
      "      \"link\": \"https://coursera.org/share/1d4edbf7bd94d9c9409693f3ed34623e\",\n",
      "      \"verification_status\": \"unverified\",\n",
      "      \"confidence_level\": \"low\",\n",
      "      \"skills\": [\n",
      "        \"Data Structures\",\n",
      "        \"Algorithm Performance\"\n",
      "      ],\n",
      "      \"issuer_credibility\": \"High - Coursera is a reputable online learning platform.\",\n",
      "      \"issue_date\": null,\n",
      "      \"expiration_date\": null\n",
      "    },\n",
      "    {\n",
      "      \"name\": \"Python Basic, Problem Solving Basic\",\n",
      "      \"provider\": \"HackerRank\",\n",
      "      \"link\": \"https://www.hackerrank.com/certificates/29cd025a29fc\",\n",
      "      \"verification_status\": \"unverified\",\n",
      "      \"confidence_level\": \"low\",\n",
      "      \"skills\": [\n",
      "        \"Python Programming\",\n",
      "        \"Problem Solving\"\n",
      "      ],\n",
      "      \"issuer_credibility\": \"Medium - HackerRank is a reputable platform for coding challenges, but verification requires access to the certificate.\",\n",
      "      \"issue_date\": null,\n",
      "      \"expiration_date\": null\n",
      "    }\n",
      "  ],\n",
      "  \"skills_assessment\": [],\n",
      "  \"summary\": \"Due to limitations in tool functionality, a complete verification and skills assessment could not be performed.  The provided links for Infosys Springboard certificates are insufficient for verification.  Further investigation is needed to verify the Coursera and HackerRank certificates.\"\n",
      "}\n",
      "\n",
      "        Skill Evaluation:\n",
      "        {\n",
      "  \"languages\": {\n",
      "    \"Python\": {\n",
      "      \"rating\": 8,\n",
      "      \"claimed\": true,\n",
      "      \"demonstrated\": true,\n",
      "      \"evidence\": \"LeetCode profile (272 problems solved, including Medium and Hard), HackerRank certificate (Python Basic), projects (NurtureSync, DeepFake detection), research experience (LANDSAT data analysis)\",\n",
      "      \"notes\": \"Strong evidence of proficiency.  LeetCode performance indicates a good grasp of problem-solving and data structures.\"\n",
      "    },\n",
      "    \"Dart\": {\n",
      "      \"rating\": 7,\n",
      "      \"claimed\": true,\n",
      "      \"demonstrated\": true,\n",
      "      \"evidence\": \"Flutter mobile app development (NurtureSync)\",\n",
      "      \"notes\": \"Demonstrated through Flutter app development, but less extensive evidence compared to Python.\"\n",
      "    },\n",
      "    \"JavaScript\": {\n",
      "      \"rating\": 6,\n",
      "      \"claimed\": true,\n",
      "      \"demonstrated\": false,\n",
      "      \"evidence\": \"No direct evidence in resume or projects.\",\n",
      "      \"notes\": \"Claimed but no demonstrable evidence.\"\n",
      "    },\n",
      "    \"C\": {\n",
      "      \"rating\": 5,\n",
      "      \"claimed\": true,\n",
      "      \"demonstrated\": false,\n",
      "      \"evidence\": \"No direct evidence in resume or projects.\",\n",
      "      \"notes\": \"Claimed but no demonstrable evidence.\"\n",
      "    }\n",
      "  },\n",
      "  \"frameworks\": {\n",
      "    \"Flutter\": {\n",
      "      \"rating\": 7,\n",
      "      \"claimed\": true,\n",
      "      \"demonstrated\": true,\n",
      "      \"evidence\": \"Mobile app development (NurtureSync)\",\n",
      "      \"notes\": \"Demonstrated proficiency in building mobile apps.\"\n",
      "    },\n",
      "    \"Flask\": {\n",
      "      \"rating\": 6,\n",
      "      \"claimed\": true,\n",
      "      \"demonstrated\": true,\n",
      "      \"evidence\": \"Web app development (NurtureSync)\",\n",
      "      \"notes\": \"Used in a project, but the extent of expertise is unclear.\"\n",
      "    },\n",
      "    \"Streamlit\": {\n",
      "      \"rating\": 6,\n",
      "      \"claimed\": true,\n",
      "      \"demonstrated\": true,\n",
      "      \"evidence\": \"Web app development (NurtureSync)\",\n",
      "      \"notes\": \"Used in a project, but the extent of expertise is unclear.\"\n",
      "    }\n",
      "  },\n",
      "  \"tools\": {\n",
      "    \"Git\": {\n",
      "      \"rating\": 8,\n",
      "      \"claimed\": true,\n",
      "      \"demonstrated\": true,\n",
      "      \"evidence\": \"GitHub profile with multiple projects\",\n",
      "      \"notes\": \"Active use indicated by multiple projects on GitHub.\"\n",
      "    },\n",
      "    \"Docker\": {\n",
      "      \"rating\": 5,\n",
      "      \"claimed\": true,\n",
      "      \"demonstrated\": false,\n",
      "      \"evidence\": \"No direct evidence in resume or projects.\",\n",
      "      \"notes\": \"Claimed but no demonstrable evidence.\"\n",
      "    },\n",
      "    \"Selenium\": {\n",
      "      \"rating\": 7,\n",
      "      \"claimed\": true,\n",
      "      \"demonstrated\": true,\n",
      "      \"evidence\": \"Security and Software Testing Internship responsibilities (automated testing)\",\n",
      "      \"notes\": \"Demonstrated use in a professional setting.\"\n",
      "    },\n",
      "    \"Firebase\": {\n",
      "      \"rating\": 7,\n",
      "      \"claimed\": true,\n",
      "      \"demonstrated\": true,\n",
      "      \"evidence\": \"Used in NurtureSync project\",\n",
      "      \"notes\": \"Demonstrated use in a project.\"\n",
      "    },\n",
      "    \"MySQL\": {\n",
      "      \"rating\": 6,\n",
      "      \"claimed\": true,\n",
      "      \"demonstrated\": true,\n",
      "      \"evidence\": \"Used in NurtureSync project\",\n",
      "      \"notes\": \"Used in a project, but the extent of expertise is unclear.\"\n",
      "    },\n",
      "    \"MongoDB\": {\n",
      "      \"rating\": 7,\n",
      "      \"claimed\": true,\n",
      "      \"demonstrated\": true,\n",
      "      \"evidence\": \"Used in NurtureSync project\",\n",
      "      \"notes\": \"Demonstrated use in a project.\"\n",
      "    },\n",
      "    \"Linux\": {\n",
      "      \"rating\": 6,\n",
      "      \"claimed\": true,\n",
      "      \"demonstrated\": true,\n",
      "      \"evidence\": \"Security and Software Testing Internship responsibilities (managed testing environments)\",\n",
      "      \"notes\": \"Demonstrated use in a professional setting, but the depth of expertise is unclear.\"\n",
      "    }\n",
      "  },\n",
      "  \"AI and Development\": {\n",
      "    \"Generative AI\": {\n",
      "      \"rating\": 5,\n",
      "      \"claimed\": true,\n",
      "      \"demonstrated\": false,\n",
      "      \"evidence\": \"No direct evidence in resume or projects.\",\n",
      "      \"notes\": \"Claimed but no demonstrable evidence.\"\n",
      "    },\n",
      "    \"ML\": {\n",
      "      \"rating\": 7,\n",
      "      \"claimed\": true,\n",
      "      \"demonstrated\": true,\n",
      "      \"evidence\": \"Research experience (real-time machine learning projects), DeepFake detection project\",\n",
      "      \"notes\": \"Demonstrated through research and projects.\"\n",
      "    },\n",
      "    \"DL\": {\n",
      "      \"rating\": 7,\n",
      "      \"claimed\": true,\n",
      "      \"demonstrated\": true,\n",
      "      \"evidence\": \"DeepFake detection project (ResNet, LSTM)\",\n",
      "      \"notes\": \"Demonstrated through the DeepFake detection project.\"\n",
      "    },\n",
      "    \"NLP\": {\n",
      "      \"rating\": 7,\n",
      "      \"claimed\": true,\n",
      "      \"demonstrated\": true,\n",
      "      \"evidence\": \"Infosys internship (AI system using NLP)\",\n",
      "      \"notes\": \"Demonstrated through a professional internship project.\"\n",
      "    },\n",
      "    \"Computer Vision\": {\n",
      "      \"rating\": 7,\n",
      "      \"claimed\": true,\n",
      "      \"demonstrated\": true,\n",
      "      \"evidence\": \"DeepFake detection project (MTCNN)\",\n",
      "      \"notes\": \"Demonstrated through the DeepFake detection project.\"\n",
      "    },\n",
      "    \"Data Structures\": {\n",
      "      \"rating\": 8,\n",
      "      \"claimed\": true,\n",
      "      \"demonstrated\": true,\n",
      "      \"evidence\": \"Coursera certificate, LeetCode performance\",\n",
      "      \"notes\": \"Strong evidence from both certification and LeetCode performance.\"\n",
      "    },\n",
      "    \"Agile\": {\n",
      "      \"rating\": 6,\n",
      "      \"claimed\": true,\n",
      "      \"demonstrated\": true,\n",
      "      \"evidence\": \"Infosys Springboard certificate, work experience (campus ambassador)\",\n",
      "      \"notes\": \"Demonstrated through certification and work experience, but the depth of expertise is unclear.\"\n",
      "    },\n",
      "    \"Testing\": {\n",
      "      \"rating\": 7,\n",
      "      \"claimed\": true,\n",
      "      \"demonstrated\": true,\n",
      "      \"evidence\": \"Security and Software Testing Internship\",\n",
      "      \"notes\": \"Demonstrated through a professional internship.\"\n",
      "    }\n",
      "  },\n",
      "  \"overall_assessment\": {\n",
      "    \"practical_application\": \"Strong evidence of practical application across multiple projects and internships.  The candidate demonstrates the ability to apply learned skills to real-world problems.\",\n",
      "    \"depth_of_knowledge\": \"Good depth of knowledge in Python, ML, DL, NLP, and data structures.  Proficiency in other areas is less clear due to limited evidence.\",\n",
      "    \"learning_ability\": \"High learning ability and adaptability demonstrated by the diverse range of skills and projects undertaken in a relatively short period.  The candidate actively seeks out new challenges and learning opportunities.\",\n",
      "    \"strengths\": \"Python programming, ML/DL/NLP, data structures, problem-solving, mobile app development (Flutter), web app development (Flask, Streamlit), automated testing (Selenium)\",\n",
      "    \"growth_areas\": \"Expand experience with JavaScript and C.  Deepen expertise in Generative AI and Agile methodologies.  Gain experience with Docker and other DevOps tools.  Further develop theoretical understanding to complement practical skills.\",\n",
      "    \"specialization\": \"The candidate shows a strong inclination towards AI and machine learning, with a focus on practical application and project development.  While possessing a broad range of skills, the specialization leans towards AI/ML.\",\n",
      "    \"generalist\": \"The candidate demonstrates a good range of skills across different areas of software development and AI, but the specialization is clearly towards AI/ML.\"\n",
      "  }\n",
      "}\n",
      "\n",
      "        Job Match Assessment:\n",
      "        {\n",
      "  \"assessment\": {\n",
      "    \"essentialRequirements\": [\n",
      "      {\n",
      "        \"requirement\": \"5+ years of experience in software development\",\n",
      "        \"match\": {\n",
      "          \"percentage\": 70,\n",
      "          \"explanation\": \"While the candidate's resume doesn't explicitly state 5+ years of experience, the breadth and depth of projects, internships (including a significant security and software testing internship), and research experience suggest a comparable level of practical experience.  More information on the duration of each role would solidify this assessment.\"\n",
      "        }\n",
      "      },\n",
      "      {\n",
      "        \"requirement\": \"Strong proficiency in Python and JavaScript\",\n",
      "        \"match\": {\n",
      "          \"percentage\": 75,\n",
      "          \"explanation\": \"Python proficiency is strong (rating 8), demonstrated across multiple projects and LeetCode performance. However, JavaScript proficiency is claimed but lacks demonstrable evidence (rating 6, demonstrated: false). This is a significant gap for a senior full-stack role.\"\n",
      "        }\n",
      "      },\n",
      "      {\n",
      "        \"requirement\": \"Experience with React.js and Django\",\n",
      "        \"match\": {\n",
      "          \"percentage\": 30,\n",
      "          \"explanation\": \"No direct evidence of experience with React.js or Django.  The candidate uses Flask and Streamlit, which are related web frameworks, but don't directly translate to React.js and Django expertise. This is a critical gap.\"\n",
      "        }\n",
      "      },\n",
      "      {\n",
      "        \"requirement\": \"Knowledge of RESTful API design and implementation\",\n",
      "        \"match\": {\n",
      "          \"percentage\": 60,\n",
      "          \"explanation\": \"Indirect evidence suggests some familiarity through web application development (Flask, Streamlit), but the depth of knowledge is unclear.  Explicit mention or project examples demonstrating RESTful API design and implementation would improve this score.\"\n",
      "        }\n",
      "      },\n",
      "      {\n",
      "        \"requirement\": \"Experience with cloud platforms (AWS or Azure)\",\n",
      "        \"match\": {\n",
      "          \"percentage\": 0,\n",
      "          \"explanation\": \"No evidence of experience with AWS or Azure.\"\n",
      "        }\n",
      "      },\n",
      "      {\n",
      "        \"requirement\": \"Understanding of CI/CD pipelines and DevOps practices\",\n",
      "        \"match\": {\n",
      "          \"percentage\": 10,\n",
      "          \"explanation\": \"Limited evidence.  While Git usage is strong, there's no demonstrable experience with CI/CD pipelines or broader DevOps practices.  Docker experience is claimed but not demonstrated.\"\n",
      "        }\n",
      "      }\n",
      "    ],\n",
      "    \"preferredRequirements\": [\n",
      "      {\n",
      "        \"requirement\": \"Experience with TypeScript and Node.js\",\n",
      "        \"match\": {\n",
      "          \"percentage\": 0,\n",
      "          \"explanation\": \"No evidence of experience with TypeScript or Node.js.\"\n",
      "        }\n",
      "      },\n",
      "      {\n",
      "        \"requirement\": \"Knowledge of container technologies (Docker, Kubernetes)\",\n",
      "        \"match\": {\n",
      "          \"percentage\": 10,\n",
      "          \"explanation\": \"Docker is claimed but not demonstrated. No evidence of Kubernetes experience.\"\n",
      "        }\n",
      "      },\n",
      "      {\n",
      "        \"requirement\": \"Experience with database design and optimization\",\n",
      "        \"match\": {\n",
      "          \"percentage\": 60,\n",
      "          \"explanation\": \"Experience with MySQL and MongoDB is demonstrated, but the extent of expertise in database design and optimization is unclear.\"\n",
      "        }\n",
      "      },\n",
      "      {\n",
      "        \"requirement\": \"Familiarity with microservices architecture\",\n",
      "        \"match\": {\n",
      "          \"percentage\": 0,\n",
      "          \"explanation\": \"No evidence of familiarity with microservices architecture.\"\n",
      "        }\n",
      "      },\n",
      "      {\n",
      "        \"requirement\": \"Experience mentoring junior developers\",\n",
      "        \"match\": {\n",
      "          \"percentage\": 0,\n",
      "          \"explanation\": \"No evidence of experience mentoring junior developers.\"\n",
      "        }\n",
      "      }\n",
      "    ],\n",
      "    \"experienceLevel\": {\n",
      "      \"match\": {\n",
      "        \"percentage\": 70,\n",
      "        \"explanation\": \"The candidate's project portfolio and internship experiences suggest a level of practical experience comparable to a senior developer, but the lack of explicit 5+ years of experience and the gaps in essential requirements slightly lower the score.\"\n",
      "      }\n",
      "    },\n",
      "    \"culturalFit\": {\n",
      "      \"match\": {\n",
      "        \"percentage\": 80,\n",
      "        \"explanation\": \"The candidate demonstrates a strong learning ability, actively seeks new challenges, and possesses a diverse skillset.  These traits suggest a good potential for cultural fit, assuming the company values adaptability and continuous learning.\"\n",
      "      }\n",
      "    },\n",
      "    \"growthPotential\": {\n",
      "      \"match\": {\n",
      "        \"percentage\": 90,\n",
      "        \"explanation\": \"The candidate's demonstrated learning agility and diverse project experience indicate high growth potential.  The identified growth areas are addressable through focused learning and development.\"\n",
      "      }\n",
      "    },\n",
      "    \"overallMatch\": {\n",
      "      \"percentage\": 45,\n",
      "      \"explanation\": \"The overall match is moderate.  While the candidate possesses strong skills in Python and AI/ML, significant gaps exist in essential requirements like JavaScript, React.js, Django, cloud platforms, and CI/CD.  Addressing these gaps would significantly improve the candidate's suitability for the role.\"\n",
      "    }\n",
      "  }\n",
      "}\n",
      "\n",
      "        **Stage 1: Basic Eligibility Check** (20 points)\n",
      "        - Extract and verify: education, years of experience, certifications, location (if required)\n",
      "        - Calculate points based on minimum requirements being met\n",
      "\n",
      "        **Stage 2: Skill Match Evaluation** (40 points)\n",
      "        - Use the skill evaluation and job match data\n",
      "        - Classify: Matched Skills, Missing Skills, Bonus Skills\n",
      "        - Weight essential skills higher than preferred skills\n",
      "\n",
      "        **Stage 3: Domain-Specific Experience Check** (15 points)\n",
      "        - Identify domain-related keywords from the job requirements\n",
      "        - Score based on evidence of domain experience in resume and profiles\n",
      "\n",
      "        **Stage 4: Role Fit and Achievements Alignment** (25 points)\n",
      "        - Assess alignment of resume achievements with job responsibilities\n",
      "        - Prioritize impact-driven achievements and leadership experience if relevant\n",
      "\n",
      "        For each stage:\n",
      "        - Provide a numeric score\n",
      "        - Include a justification for the score\n",
      "        - Highlight key factors that influenced the score\n",
      "\n",
      "        Finally:\n",
      "        - Calculate a total score out of 100\n",
      "        - Provide a final recommendation: Proceed to interview / Hold / Reject\n",
      "          (Proceed: 70+, Hold: 50-69, Reject: <50)\n",
      "\n",
      "        Return a structured JSON with results for each stage, total score, and recommendation.\n",
      "        \u001b[00m\n"
     ]
    },
    {
     "data": {
      "text/html": [
       "<pre style=\"white-space:pre;overflow-x:auto;line-height:normal;font-family:Menlo,'DejaVu Sans Mono',consolas,'Courier New',monospace\"><span style=\"color: #008080; text-decoration-color: #008080; font-weight: bold\">🚀 Crew: crew</span>\n",
       "└── <span style=\"color: #808000; text-decoration-color: #808000; font-weight: bold\">📋 Task: d40c5353-a0dc-42b8-8ef2-ebd20aab6974</span>\n",
       "    <span style=\"color: #c0c0c0; text-decoration-color: #c0c0c0\">   Status: </span><span style=\"color: #bfbf7f; text-decoration-color: #bfbf7f\">Executing Task...</span>\n",
       "    └── <span style=\"color: #008000; text-decoration-color: #008000; font-weight: bold\">🤖 Agent: </span><span style=\"color: #008000; text-decoration-color: #008000\">Evaluation Pipeline Manager</span>\n",
       "        <span style=\"color: #c0c0c0; text-decoration-color: #c0c0c0\">    Status: </span><span style=\"color: #008000; text-decoration-color: #008000; font-weight: bold\">In Progress</span>\n",
       "        └── <span style=\"color: #000080; text-decoration-color: #000080; font-weight: bold\">🧠 </span><span style=\"color: #000080; text-decoration-color: #000080\">Thinking...</span>\n",
       "</pre>\n"
      ],
      "text/plain": [
       "\u001b[1;36m🚀 Crew: \u001b[0m\u001b[1;36mcrew\u001b[0m\n",
       "└── \u001b[1;33m📋 Task: d40c5353-a0dc-42b8-8ef2-ebd20aab6974\u001b[0m\n",
       "    \u001b[37m   Status: \u001b[0m\u001b[2;33mExecuting Task...\u001b[0m\n",
       "    └── \u001b[1;32m🤖 Agent: \u001b[0m\u001b[32mEvaluation Pipeline Manager\u001b[0m\n",
       "        \u001b[37m    Status: \u001b[0m\u001b[1;32mIn Progress\u001b[0m\n",
       "        └── \u001b[1;34m🧠 \u001b[0m\u001b[34mThinking...\u001b[0m\n"
      ]
     },
     "metadata": {},
     "output_type": "display_data"
    },
    {
     "data": {
      "text/html": [
       "<pre style=\"white-space:pre;overflow-x:auto;line-height:normal;font-family:Menlo,'DejaVu Sans Mono',consolas,'Courier New',monospace\">\n",
       "</pre>\n"
      ],
      "text/plain": [
       "\n"
      ]
     },
     "metadata": {},
     "output_type": "display_data"
    },
    {
     "data": {
      "text/html": [
       "<pre style=\"white-space:pre;overflow-x:auto;line-height:normal;font-family:Menlo,'DejaVu Sans Mono',consolas,'Courier New',monospace\"><span style=\"color: #008080; text-decoration-color: #008080; font-weight: bold\">🚀 Crew: crew</span>\n",
       "└── <span style=\"color: #808000; text-decoration-color: #808000; font-weight: bold\">📋 Task: d40c5353-a0dc-42b8-8ef2-ebd20aab6974</span>\n",
       "    <span style=\"color: #c0c0c0; text-decoration-color: #c0c0c0\">   Status: </span><span style=\"color: #bfbf7f; text-decoration-color: #bfbf7f\">Executing Task...</span>\n",
       "    └── <span style=\"color: #008000; text-decoration-color: #008000; font-weight: bold\">🤖 Agent: </span><span style=\"color: #008000; text-decoration-color: #008000\">Evaluation Pipeline Manager</span>\n",
       "        <span style=\"color: #c0c0c0; text-decoration-color: #c0c0c0\">    Status: </span><span style=\"color: #008000; text-decoration-color: #008000; font-weight: bold\">In Progress</span>\n",
       "</pre>\n"
      ],
      "text/plain": [
       "\u001b[1;36m🚀 Crew: \u001b[0m\u001b[1;36mcrew\u001b[0m\n",
       "└── \u001b[1;33m📋 Task: d40c5353-a0dc-42b8-8ef2-ebd20aab6974\u001b[0m\n",
       "    \u001b[37m   Status: \u001b[0m\u001b[2;33mExecuting Task...\u001b[0m\n",
       "    └── \u001b[1;32m🤖 Agent: \u001b[0m\u001b[32mEvaluation Pipeline Manager\u001b[0m\n",
       "        \u001b[37m    Status: \u001b[0m\u001b[1;32mIn Progress\u001b[0m\n"
      ]
     },
     "metadata": {},
     "output_type": "display_data"
    },
    {
     "data": {
      "text/html": [
       "<pre style=\"white-space:pre;overflow-x:auto;line-height:normal;font-family:Menlo,'DejaVu Sans Mono',consolas,'Courier New',monospace\">\n",
       "</pre>\n"
      ],
      "text/plain": [
       "\n"
      ]
     },
     "metadata": {},
     "output_type": "display_data"
    },
    {
     "name": "stdout",
     "output_type": "stream",
     "text": [
      "\n",
      "\n",
      "\u001b[1m\u001b[95m# Agent:\u001b[00m \u001b[1m\u001b[92mEvaluation Pipeline Manager\u001b[00m\n",
      "\u001b[95m## Final Answer:\u001b[00m \u001b[92m\n",
      "```json\n",
      "{\n",
      "  \"evaluationPipeline\": {\n",
      "    \"stage1\": {\n",
      "      \"name\": \"Basic Eligibility Check\",\n",
      "      \"maxPoints\": 20,\n",
      "      \"score\": 15,\n",
      "      \"justification\": \"The candidate meets some basic eligibility criteria.  Education (Bachelor of Engineering in AI) is verified. However, the lack of explicit 5+ years of experience (only partially met based on project depth) and unverified certifications reduce the score. Location verification is not specified in the requirements.\",\n",
      "      \"keyFactors\": {\n",
      "        \"education\": 10, \n",
      "        \"experience\": 5 \n",
      "      }\n",
      "    },\n",
      "    \"stage2\": {\n",
      "      \"name\": \"Skill Match Evaluation\",\n",
      "      \"maxPoints\": 40,\n",
      "      \"score\": 28,\n",
      "      \"justification\": \"The candidate demonstrates strong skills in Python and several AI/ML areas.  However, significant gaps exist in essential skills like JavaScript, React.js, and Django, which are heavily weighted due to their importance for the role.  The weighting scheme prioritizes essential skills over preferred skills.\",\n",
      "      \"keyFactors\": {\n",
      "        \"matchedEssentialSkills\": 18, \n",
      "        \"missingEssentialSkills\": -10,\n",
      "        \"matchedPreferredSkills\": 10\n",
      "      },\n",
      "      \"skillBreakdown\": {\n",
      "        \"matchedEssentialSkills\": [\n",
      "          {\"skill\": \"Python\", \"weight\": 5},\n",
      "          {\"skill\": \"ML\", \"weight\": 3},\n",
      "          {\"skill\": \"DL\", \"weight\": 3},\n",
      "          {\"skill\": \"NLP\", \"weight\": 3},\n",
      "          {\"skill\": \"Data Structures\", \"weight\": 4}\n",
      "        ],\n",
      "        \"missingEssentialSkills\": [\n",
      "          {\"skill\": \"JavaScript\", \"weight\": 5},\n",
      "          {\"skill\": \"React.js\", \"weight\": 5},\n",
      "          {\"skill\": \"Django\", \"weight\": 5}\n",
      "        ],\n",
      "        \"matchedPreferredSkills\":[\n",
      "          {\"skill\": \"MongoDB\", \"weight\": 2},\n",
      "          {\"skill\": \"Testing\", \"weight\": 3},\n",
      "          {\"skill\": \"Agile\", \"weight\": 5}\n",
      "        ]\n",
      "      }\n",
      "    },\n",
      "    \"stage3\": {\n",
      "      \"name\": \"Domain-Specific Experience Check\",\n",
      "      \"maxPoints\": 15,\n",
      "      \"score\": 10,\n",
      "      \"justification\": \"The candidate's research experience and projects demonstrate some relevance to the domain.  However, the lack of explicit experience with specific domain-related technologies or projects limits the score.  More details on the domain are needed for a more precise evaluation.\",\n",
      "      \"keyFactors\": {\n",
      "        \"researchExperience\": 5,\n",
      "        \"projectRelevance\": 5\n",
      "      }\n",
      "    },\n",
      "    \"stage4\": {\n",
      "      \"name\": \"Role Fit and Achievements Alignment\",\n",
      "      \"maxPoints\": 25,\n",
      "      \"score\": 17,\n",
      "      \"justification\": \"The candidate's achievements, particularly the Health Hackathon finalist position, showcase initiative and problem-solving skills.  However, the lack of direct leadership experience in a professional setting and limited evidence of mentoring reduces the score.  The alignment of achievements with job responsibilities is moderate.\",\n",
      "      \"keyFactors\": {\n",
      "        \"achievementRelevance\": 10,\n",
      "        \"leadershipExperience\": 5,\n",
      "        \"impactDrivenAchievements\": 2\n",
      "      }\n",
      "    },\n",
      "    \"overall\": {\n",
      "      \"totalScore\": 15 + 28 + 10 + 17,\n",
      "      \"recommendation\": \"Hold\",\n",
      "      \"justification\": \"The candidate shows promise with strong AI/ML skills and a good project portfolio. However, significant gaps in essential skills for the role and limited professional experience warrant further assessment before proceeding to an interview.  Addressing the skill gaps and providing more details on experience would significantly improve the candidate's chances.\"\n",
      "    }\n",
      "  }\n",
      "}\n",
      "```\u001b[00m\n",
      "\n",
      "\n"
     ]
    },
    {
     "data": {
      "text/html": [
       "<pre style=\"white-space:pre;overflow-x:auto;line-height:normal;font-family:Menlo,'DejaVu Sans Mono',consolas,'Courier New',monospace\"><span style=\"color: #008080; text-decoration-color: #008080; font-weight: bold\">🚀 Crew: crew</span>\n",
       "└── <span style=\"color: #808000; text-decoration-color: #808000; font-weight: bold\">📋 Task: d40c5353-a0dc-42b8-8ef2-ebd20aab6974</span>\n",
       "    <span style=\"color: #c0c0c0; text-decoration-color: #c0c0c0\">   Status: </span><span style=\"color: #bfbf7f; text-decoration-color: #bfbf7f\">Executing Task...</span>\n",
       "    └── <span style=\"color: #008000; text-decoration-color: #008000; font-weight: bold\">🤖 Agent: </span><span style=\"color: #008000; text-decoration-color: #008000\">Evaluation Pipeline Manager</span>\n",
       "        <span style=\"color: #c0c0c0; text-decoration-color: #c0c0c0\">    Status: </span><span style=\"color: #008000; text-decoration-color: #008000; font-weight: bold\">✅ Completed</span>\n",
       "</pre>\n"
      ],
      "text/plain": [
       "\u001b[1;36m🚀 Crew: \u001b[0m\u001b[1;36mcrew\u001b[0m\n",
       "└── \u001b[1;33m📋 Task: d40c5353-a0dc-42b8-8ef2-ebd20aab6974\u001b[0m\n",
       "    \u001b[37m   Status: \u001b[0m\u001b[2;33mExecuting Task...\u001b[0m\n",
       "    └── \u001b[1;32m🤖 Agent: \u001b[0m\u001b[32mEvaluation Pipeline Manager\u001b[0m\n",
       "        \u001b[37m    Status: \u001b[0m\u001b[1;32m✅ Completed\u001b[0m\n"
      ]
     },
     "metadata": {},
     "output_type": "display_data"
    },
    {
     "data": {
      "text/html": [
       "<pre style=\"white-space:pre;overflow-x:auto;line-height:normal;font-family:Menlo,'DejaVu Sans Mono',consolas,'Courier New',monospace\">\n",
       "</pre>\n"
      ],
      "text/plain": [
       "\n"
      ]
     },
     "metadata": {},
     "output_type": "display_data"
    },
    {
     "data": {
      "text/html": [
       "<pre style=\"white-space:pre;overflow-x:auto;line-height:normal;font-family:Menlo,'DejaVu Sans Mono',consolas,'Courier New',monospace\"><span style=\"color: #008080; text-decoration-color: #008080; font-weight: bold\">🚀 Crew: crew</span>\n",
       "└── <span style=\"color: #008000; text-decoration-color: #008000; font-weight: bold\">📋 Task: d40c5353-a0dc-42b8-8ef2-ebd20aab6974</span>\n",
       "    <span style=\"color: #c0c0c0; text-decoration-color: #c0c0c0\">   Assigned to: </span><span style=\"color: #008000; text-decoration-color: #008000\">Evaluation Pipeline Manager</span>\n",
       "    <span style=\"color: #c0c0c0; text-decoration-color: #c0c0c0\">   Status: </span><span style=\"color: #008000; text-decoration-color: #008000; font-weight: bold\">✅ Completed</span>\n",
       "    └── <span style=\"color: #008000; text-decoration-color: #008000; font-weight: bold\">🤖 Agent: </span><span style=\"color: #008000; text-decoration-color: #008000\">Evaluation Pipeline Manager</span>\n",
       "        <span style=\"color: #c0c0c0; text-decoration-color: #c0c0c0\">    Status: </span><span style=\"color: #008000; text-decoration-color: #008000; font-weight: bold\">✅ Completed</span>\n",
       "</pre>\n"
      ],
      "text/plain": [
       "\u001b[1;36m🚀 Crew: \u001b[0m\u001b[1;36mcrew\u001b[0m\n",
       "└── \u001b[1;32m📋 Task: d40c5353-a0dc-42b8-8ef2-ebd20aab6974\u001b[0m\n",
       "    \u001b[37m   Assigned to: \u001b[0m\u001b[32mEvaluation Pipeline Manager\u001b[0m\n",
       "    \u001b[37m   Status: \u001b[0m\u001b[1;32m✅ Completed\u001b[0m\n",
       "    └── \u001b[1;32m🤖 Agent: \u001b[0m\u001b[32mEvaluation Pipeline Manager\u001b[0m\n",
       "        \u001b[37m    Status: \u001b[0m\u001b[1;32m✅ Completed\u001b[0m\n"
      ]
     },
     "metadata": {},
     "output_type": "display_data"
    },
    {
     "data": {
      "text/html": [
       "<pre style=\"white-space:pre;overflow-x:auto;line-height:normal;font-family:Menlo,'DejaVu Sans Mono',consolas,'Courier New',monospace\"><span style=\"color: #008000; text-decoration-color: #008000\">╭──────────────────────────────────────────────── Task Completion ────────────────────────────────────────────────╮</span>\n",
       "<span style=\"color: #008000; text-decoration-color: #008000\">│</span>                                                                                                                 <span style=\"color: #008000; text-decoration-color: #008000\">│</span>\n",
       "<span style=\"color: #008000; text-decoration-color: #008000\">│</span>  <span style=\"color: #008000; text-decoration-color: #008000; font-weight: bold\">Task Completed</span>                                                                                                 <span style=\"color: #008000; text-decoration-color: #008000\">│</span>\n",
       "<span style=\"color: #008000; text-decoration-color: #008000\">│</span>  <span style=\"color: #c0c0c0; text-decoration-color: #c0c0c0\">Name: </span><span style=\"color: #008000; text-decoration-color: #008000\">d40c5353-a0dc-42b8-8ef2-ebd20aab6974</span>                                                                     <span style=\"color: #008000; text-decoration-color: #008000\">│</span>\n",
       "<span style=\"color: #008000; text-decoration-color: #008000\">│</span>  <span style=\"color: #c0c0c0; text-decoration-color: #c0c0c0\">Agent: </span><span style=\"color: #008000; text-decoration-color: #008000\">Evaluation Pipeline Manager</span>                                                                             <span style=\"color: #008000; text-decoration-color: #008000\">│</span>\n",
       "<span style=\"color: #008000; text-decoration-color: #008000\">│</span>                                                                                                                 <span style=\"color: #008000; text-decoration-color: #008000\">│</span>\n",
       "<span style=\"color: #008000; text-decoration-color: #008000\">│</span>                                                                                                                 <span style=\"color: #008000; text-decoration-color: #008000\">│</span>\n",
       "<span style=\"color: #008000; text-decoration-color: #008000\">╰─────────────────────────────────────────────────────────────────────────────────────────────────────────────────╯</span>\n",
       "</pre>\n"
      ],
      "text/plain": [
       "\u001b[32m╭─\u001b[0m\u001b[32m───────────────────────────────────────────────\u001b[0m\u001b[32m Task Completion \u001b[0m\u001b[32m───────────────────────────────────────────────\u001b[0m\u001b[32m─╮\u001b[0m\n",
       "\u001b[32m│\u001b[0m                                                                                                                 \u001b[32m│\u001b[0m\n",
       "\u001b[32m│\u001b[0m  \u001b[1;32mTask Completed\u001b[0m                                                                                                 \u001b[32m│\u001b[0m\n",
       "\u001b[32m│\u001b[0m  \u001b[37mName: \u001b[0m\u001b[32md40c5353-a0dc-42b8-8ef2-ebd20aab6974\u001b[0m                                                                     \u001b[32m│\u001b[0m\n",
       "\u001b[32m│\u001b[0m  \u001b[37mAgent: \u001b[0m\u001b[32mEvaluation Pipeline Manager\u001b[0m                                                                             \u001b[32m│\u001b[0m\n",
       "\u001b[32m│\u001b[0m                                                                                                                 \u001b[32m│\u001b[0m\n",
       "\u001b[32m│\u001b[0m                                                                                                                 \u001b[32m│\u001b[0m\n",
       "\u001b[32m╰─────────────────────────────────────────────────────────────────────────────────────────────────────────────────╯\u001b[0m\n"
      ]
     },
     "metadata": {},
     "output_type": "display_data"
    },
    {
     "data": {
      "text/html": [
       "<pre style=\"white-space:pre;overflow-x:auto;line-height:normal;font-family:Menlo,'DejaVu Sans Mono',consolas,'Courier New',monospace\">\n",
       "</pre>\n"
      ],
      "text/plain": [
       "\n"
      ]
     },
     "metadata": {},
     "output_type": "display_data"
    },
    {
     "data": {
      "text/html": [
       "<pre style=\"white-space:pre;overflow-x:auto;line-height:normal;font-family:Menlo,'DejaVu Sans Mono',consolas,'Courier New',monospace\"><span style=\"color: #008000; text-decoration-color: #008000\">╭──────────────────────────────────────────────── Crew Completion ────────────────────────────────────────────────╮</span>\n",
       "<span style=\"color: #008000; text-decoration-color: #008000\">│</span>                                                                                                                 <span style=\"color: #008000; text-decoration-color: #008000\">│</span>\n",
       "<span style=\"color: #008000; text-decoration-color: #008000\">│</span>  <span style=\"color: #008000; text-decoration-color: #008000; font-weight: bold\">Crew Execution Completed</span>                                                                                       <span style=\"color: #008000; text-decoration-color: #008000\">│</span>\n",
       "<span style=\"color: #008000; text-decoration-color: #008000\">│</span>  <span style=\"color: #c0c0c0; text-decoration-color: #c0c0c0\">Name: </span><span style=\"color: #008000; text-decoration-color: #008000\">crew</span>                                                                                                     <span style=\"color: #008000; text-decoration-color: #008000\">│</span>\n",
       "<span style=\"color: #008000; text-decoration-color: #008000\">│</span>  <span style=\"color: #c0c0c0; text-decoration-color: #c0c0c0\">ID: </span><span style=\"color: #008000; text-decoration-color: #008000\">bbafe24d-ce50-4320-82e2-a81c8ba40127</span>                                                                       <span style=\"color: #008000; text-decoration-color: #008000\">│</span>\n",
       "<span style=\"color: #008000; text-decoration-color: #008000\">│</span>                                                                                                                 <span style=\"color: #008000; text-decoration-color: #008000\">│</span>\n",
       "<span style=\"color: #008000; text-decoration-color: #008000\">│</span>                                                                                                                 <span style=\"color: #008000; text-decoration-color: #008000\">│</span>\n",
       "<span style=\"color: #008000; text-decoration-color: #008000\">╰─────────────────────────────────────────────────────────────────────────────────────────────────────────────────╯</span>\n",
       "</pre>\n"
      ],
      "text/plain": [
       "\u001b[32m╭─\u001b[0m\u001b[32m───────────────────────────────────────────────\u001b[0m\u001b[32m Crew Completion \u001b[0m\u001b[32m───────────────────────────────────────────────\u001b[0m\u001b[32m─╮\u001b[0m\n",
       "\u001b[32m│\u001b[0m                                                                                                                 \u001b[32m│\u001b[0m\n",
       "\u001b[32m│\u001b[0m  \u001b[1;32mCrew Execution Completed\u001b[0m                                                                                       \u001b[32m│\u001b[0m\n",
       "\u001b[32m│\u001b[0m  \u001b[37mName: \u001b[0m\u001b[32mcrew\u001b[0m                                                                                                     \u001b[32m│\u001b[0m\n",
       "\u001b[32m│\u001b[0m  \u001b[37mID: \u001b[0m\u001b[32mbbafe24d-ce50-4320-82e2-a81c8ba40127\u001b[0m                                                                       \u001b[32m│\u001b[0m\n",
       "\u001b[32m│\u001b[0m                                                                                                                 \u001b[32m│\u001b[0m\n",
       "\u001b[32m│\u001b[0m                                                                                                                 \u001b[32m│\u001b[0m\n",
       "\u001b[32m╰─────────────────────────────────────────────────────────────────────────────────────────────────────────────────╯\u001b[0m\n"
      ]
     },
     "metadata": {},
     "output_type": "display_data"
    },
    {
     "data": {
      "text/html": [
       "<pre style=\"white-space:pre;overflow-x:auto;line-height:normal;font-family:Menlo,'DejaVu Sans Mono',consolas,'Courier New',monospace\">\n",
       "</pre>\n"
      ],
      "text/plain": [
       "\n"
      ]
     },
     "metadata": {},
     "output_type": "display_data"
    },
    {
     "name": "stdout",
     "output_type": "stream",
     "text": [
      "\n",
      "Evaluation pipeline complete!\n",
      "Error parsing evaluation results JSON: Expecting ',' delimiter: line 65 column 24 (char 2961)\n",
      "\n",
      "Generating interview questions...\n"
     ]
    },
    {
     "data": {
      "text/html": [
       "<pre style=\"white-space:pre;overflow-x:auto;line-height:normal;font-family:Menlo,'DejaVu Sans Mono',consolas,'Courier New',monospace\"><span style=\"color: #008080; text-decoration-color: #008080\">╭──────────────────────────────────────────── Crew Execution Started ─────────────────────────────────────────────╮</span>\n",
       "<span style=\"color: #008080; text-decoration-color: #008080\">│</span>                                                                                                                 <span style=\"color: #008080; text-decoration-color: #008080\">│</span>\n",
       "<span style=\"color: #008080; text-decoration-color: #008080\">│</span>  <span style=\"color: #008080; text-decoration-color: #008080; font-weight: bold\">Crew Execution Started</span>                                                                                         <span style=\"color: #008080; text-decoration-color: #008080\">│</span>\n",
       "<span style=\"color: #008080; text-decoration-color: #008080\">│</span>  <span style=\"color: #c0c0c0; text-decoration-color: #c0c0c0\">Name: </span><span style=\"color: #008080; text-decoration-color: #008080\">crew</span>                                                                                                     <span style=\"color: #008080; text-decoration-color: #008080\">│</span>\n",
       "<span style=\"color: #008080; text-decoration-color: #008080\">│</span>  <span style=\"color: #c0c0c0; text-decoration-color: #c0c0c0\">ID: </span><span style=\"color: #008080; text-decoration-color: #008080\">1986694a-2238-47ef-967a-b934073bd9f5</span>                                                                       <span style=\"color: #008080; text-decoration-color: #008080\">│</span>\n",
       "<span style=\"color: #008080; text-decoration-color: #008080\">│</span>                                                                                                                 <span style=\"color: #008080; text-decoration-color: #008080\">│</span>\n",
       "<span style=\"color: #008080; text-decoration-color: #008080\">│</span>                                                                                                                 <span style=\"color: #008080; text-decoration-color: #008080\">│</span>\n",
       "<span style=\"color: #008080; text-decoration-color: #008080\">╰─────────────────────────────────────────────────────────────────────────────────────────────────────────────────╯</span>\n",
       "</pre>\n"
      ],
      "text/plain": [
       "\u001b[36m╭─\u001b[0m\u001b[36m───────────────────────────────────────────\u001b[0m\u001b[36m Crew Execution Started \u001b[0m\u001b[36m────────────────────────────────────────────\u001b[0m\u001b[36m─╮\u001b[0m\n",
       "\u001b[36m│\u001b[0m                                                                                                                 \u001b[36m│\u001b[0m\n",
       "\u001b[36m│\u001b[0m  \u001b[1;36mCrew Execution Started\u001b[0m                                                                                         \u001b[36m│\u001b[0m\n",
       "\u001b[36m│\u001b[0m  \u001b[37mName: \u001b[0m\u001b[36mcrew\u001b[0m                                                                                                     \u001b[36m│\u001b[0m\n",
       "\u001b[36m│\u001b[0m  \u001b[37mID: \u001b[0m\u001b[36m1986694a-2238-47ef-967a-b934073bd9f5\u001b[0m                                                                       \u001b[36m│\u001b[0m\n",
       "\u001b[36m│\u001b[0m                                                                                                                 \u001b[36m│\u001b[0m\n",
       "\u001b[36m│\u001b[0m                                                                                                                 \u001b[36m│\u001b[0m\n",
       "\u001b[36m╰─────────────────────────────────────────────────────────────────────────────────────────────────────────────────╯\u001b[0m\n"
      ]
     },
     "metadata": {},
     "output_type": "display_data"
    },
    {
     "data": {
      "text/html": [
       "<pre style=\"white-space:pre;overflow-x:auto;line-height:normal;font-family:Menlo,'DejaVu Sans Mono',consolas,'Courier New',monospace\">\n",
       "</pre>\n"
      ],
      "text/plain": [
       "\n"
      ]
     },
     "metadata": {},
     "output_type": "display_data"
    },
    {
     "data": {
      "text/html": [
       "<pre style=\"white-space:pre;overflow-x:auto;line-height:normal;font-family:Menlo,'DejaVu Sans Mono',consolas,'Courier New',monospace\"><span style=\"color: #008080; text-decoration-color: #008080; font-weight: bold\">🚀 Crew: crew</span>\n",
       "└── <span style=\"color: #808000; text-decoration-color: #808000; font-weight: bold\">📋 Task: 03002f2d-c55e-41b5-9077-ccc9e2c1bed7</span>\n",
       "    <span style=\"color: #c0c0c0; text-decoration-color: #c0c0c0\">   Status: </span><span style=\"color: #bfbf7f; text-decoration-color: #bfbf7f\">Executing Task...</span>\n",
       "</pre>\n"
      ],
      "text/plain": [
       "\u001b[1;36m🚀 Crew: \u001b[0m\u001b[1;36mcrew\u001b[0m\n",
       "└── \u001b[1;33m📋 Task: 03002f2d-c55e-41b5-9077-ccc9e2c1bed7\u001b[0m\n",
       "    \u001b[37m   Status: \u001b[0m\u001b[2;33mExecuting Task...\u001b[0m\n"
      ]
     },
     "metadata": {},
     "output_type": "display_data"
    },
    {
     "data": {
      "text/html": [
       "<pre style=\"white-space:pre;overflow-x:auto;line-height:normal;font-family:Menlo,'DejaVu Sans Mono',consolas,'Courier New',monospace\">\n",
       "</pre>\n"
      ],
      "text/plain": [
       "\n"
      ]
     },
     "metadata": {},
     "output_type": "display_data"
    },
    {
     "data": {
      "text/html": [
       "<pre style=\"white-space:pre;overflow-x:auto;line-height:normal;font-family:Menlo,'DejaVu Sans Mono',consolas,'Courier New',monospace\"><span style=\"color: #008080; text-decoration-color: #008080; font-weight: bold\">🚀 Crew: crew</span>\n",
       "└── <span style=\"color: #808000; text-decoration-color: #808000; font-weight: bold\">📋 Task: 03002f2d-c55e-41b5-9077-ccc9e2c1bed7</span>\n",
       "    <span style=\"color: #c0c0c0; text-decoration-color: #c0c0c0\">   Status: </span><span style=\"color: #bfbf7f; text-decoration-color: #bfbf7f\">Executing Task...</span>\n",
       "    └── <span style=\"color: #008000; text-decoration-color: #008000; font-weight: bold\">🤖 Agent: </span><span style=\"color: #008000; text-decoration-color: #008000\">Technical Interview Question Generator</span>\n",
       "        <span style=\"color: #c0c0c0; text-decoration-color: #c0c0c0\">    Status: </span><span style=\"color: #008000; text-decoration-color: #008000; font-weight: bold\">In Progress</span>\n",
       "</pre>\n"
      ],
      "text/plain": [
       "\u001b[1;36m🚀 Crew: \u001b[0m\u001b[1;36mcrew\u001b[0m\n",
       "└── \u001b[1;33m📋 Task: 03002f2d-c55e-41b5-9077-ccc9e2c1bed7\u001b[0m\n",
       "    \u001b[37m   Status: \u001b[0m\u001b[2;33mExecuting Task...\u001b[0m\n",
       "    └── \u001b[1;32m🤖 Agent: \u001b[0m\u001b[32mTechnical Interview Question Generator\u001b[0m\n",
       "        \u001b[37m    Status: \u001b[0m\u001b[1;32mIn Progress\u001b[0m\n"
      ]
     },
     "metadata": {},
     "output_type": "display_data"
    },
    {
     "data": {
      "text/html": [
       "<pre style=\"white-space:pre;overflow-x:auto;line-height:normal;font-family:Menlo,'DejaVu Sans Mono',consolas,'Courier New',monospace\">\n",
       "</pre>\n"
      ],
      "text/plain": [
       "\n"
      ]
     },
     "metadata": {},
     "output_type": "display_data"
    },
    {
     "name": "stdout",
     "output_type": "stream",
     "text": [
      "\u001b[1m\u001b[95m# Agent:\u001b[00m \u001b[1m\u001b[92mTechnical Interview Question Generator\u001b[00m\n",
      "\u001b[95m## Task:\u001b[00m \u001b[92m\n",
      "        Generate strategic technical interview questions based on:\n",
      "\n",
      "        Resume Information:\n",
      "        {\n",
      "  \"personal_information\": {\n",
      "    \"name\": \"NANDINI KUPPALA\",\n",
      "    \"contact\": {\n",
      "      \"phone\": \"+91 7569056212\",\n",
      "      \"email\": \"knandini7816@gmail.com\",\n",
      "      \"linkedin\": \"https://www.linkedin.com/in/nandini-kuppala/\",\n",
      "      \"github\": \"https://github.com/nandini-kuppala\"\n",
      "    }\n",
      "  },\n",
      "  \"skills\": {\n",
      "    \"languages\": [\n",
      "      \"Python\",\n",
      "      \"Dart\",\n",
      "      \"JavaScript\",\n",
      "      \"C\"\n",
      "    ],\n",
      "    \"frameworks\": [\n",
      "      \"Flutter\",\n",
      "      \"Flask\",\n",
      "      \"Streamlit\"\n",
      "    ],\n",
      "    \"tools\": [\n",
      "      \"Git\",\n",
      "      \"Docker\",\n",
      "      \"Selenium\",\n",
      "      \"Firebase\",\n",
      "      \"MySQL\",\n",
      "      \"MongoDB\",\n",
      "      \"Linux\"\n",
      "    ],\n",
      "    \"ai_and_development\": [\n",
      "      \"Generative AI\",\n",
      "      \"ML\",\n",
      "      \"DL\",\n",
      "      \"NLP\",\n",
      "      \"Computer Vision\",\n",
      "      \"Data Structures\",\n",
      "      \"Agile\",\n",
      "      \"Testing\"\n",
      "    ]\n",
      "  },\n",
      "  \"work_experience\": [\n",
      "    {\n",
      "      \"title\": \"Infosys Springboard Internship 5.O (AI Project Intern)\",\n",
      "      \"company\": \"Infosys\",\n",
      "      \"dates\": \"December 2024 - Present\",\n",
      "      \"responsibilities\": [\n",
      "        \"Led a team of five interns and built an AI system using NLP to automate ticket classification and responses.\",\n",
      "        \"Integrated with helpdesk platforms to enhance efficiency and reduce resolution time.\"\n",
      "      ]\n",
      "    },\n",
      "    {\n",
      "      \"title\": \"Research Experience\",\n",
      "      \"company\": null,\n",
      "      \"dates\": \"October 2023 \\u2013 Present\",\n",
      "      \"responsibilities\": [\n",
      "        \"Worked on real-time machine learning projects using LANDSAT data to monitor rangeland vegetation.\",\n",
      "        \"Contributed to a 30% increase in profitability for Wyoming farmers.\"\n",
      "      ],\n",
      "      \"mentors\": [\n",
      "        \"Dr. Ramesh Sivanpillai (University of Wyoming)\",\n",
      "        \"Dr. Sajith Variyar (Amrita School of AI)\"\n",
      "      ]\n",
      "    },\n",
      "    {\n",
      "      \"title\": \"Campus Ambassador\",\n",
      "      \"company\": \"E-Cell IIT Bombay\",\n",
      "      \"dates\": \"August 2024 \\u2013 December 2024\",\n",
      "      \"responsibilities\": [\n",
      "        \"Organized events and competitions reaching over 200 participants, promoting entrepreneurship in college.\"\n",
      "      ]\n",
      "    },\n",
      "    {\n",
      "      \"title\": \"Security and Software Testing Intern\",\n",
      "      \"company\": \"Baavlibuch\",\n",
      "      \"dates\": \"February 2024 \\u2013 April 2024\",\n",
      "      \"responsibilities\": [\n",
      "        \"Automated testing procedures, reducing manual testing effort by 40% and accelerating test case execution by 25%.\",\n",
      "        \"Debugged and fixed critical application bugs, enhancing stability and performance by 30%.\",\n",
      "        \"Implemented and managed testing environments in Linux, significantly improving security and data protection.\"\n",
      "      ]\n",
      "    }\n",
      "  ],\n",
      "  \"education\": {\n",
      "    \"degree\": \"Bachelor of Engineering in Artificial Intelligence\",\n",
      "    \"institution\": \"Amrita Vishwa Vidyapeetham\",\n",
      "    \"location\": \"Coimbatore, Tamil Nadu\",\n",
      "    \"cgpa\": \"8.02\",\n",
      "    \"dates\": \"2022 \\u2013 2026\"\n",
      "  },\n",
      "  \"projects\": [\n",
      "    {\n",
      "      \"name\": \"NurtureSync: A Health Care Companion\",\n",
      "      \"description\": \"Developed a mobile and web app platform to manage chronic diseases like thyroid and diabetes. Features include personalized feedback, medical report analysis, health tracking, and a healthcare community.\",\n",
      "      \"technologies\": [\n",
      "        \"Web \\u2013 Streamlit, MongoDB, Firebase, Flask; Mobile \\u2013 Flutter, Firebase, MongoDB\"\n",
      "      ],\n",
      "      \"link\": \"https://nurturesynchealth.streamlit.app/\"\n",
      "    },\n",
      "    {\n",
      "      \"name\": \"DeepFake Video Detection\",\n",
      "      \"description\": \"Improved the model\\u2019s accuracy by 15% in detecting DeepFake videos using a pipeline of MTCNN for face detection, ResNet for feature extraction, and LSTM for temporal analysis. Developed a Chrome extension for DeepFake image detection and working towards real-time video detection\",\n",
      "      \"technologies\": [\n",
      "        \"MTCNN\",\n",
      "        \"ResNet\",\n",
      "        \"LSTM\"\n",
      "      ],\n",
      "      \"link\": \"https://github.com/nandini-queen-of-my-world/Deepfake-detection\"\n",
      "    }\n",
      "  ],\n",
      "  \"achievements\": [\n",
      "    \"Finalist at the Health Hackathon by Johns Hopkins University at VIT Bhopal, selected from 232 teams and over 1,300 participants for the project NurtureSync.\"\n",
      "  ],\n",
      "  \"publications\": [\n",
      "    {\n",
      "      \"title\": \"Mapping Vegetation Dynamics in Wyoming: A Multi-Temporal Analysis Using Landsat NDVI and Clustering\",\n",
      "      \"venue\": \"ASPRS International Technical Symposium 2024\",\n",
      "      \"link\": \"https://isprs-archives.copernicus.org/articles/XLVIII-M-5-2024/87/2025/\"\n",
      "    },\n",
      "    {\n",
      "      \"title\": \"Preterm Birth Prediction Using GraphSAGE and Electrohysterogram Data\",\n",
      "      \"venue\": \"IEEE Eleventh International Conference on Biosignals, Images, and Instrumentation (ICBSII)\",\n",
      "      \"link\": \"https://isprs-archives.copernicus.org/articles/XLVIII-M-5-2024/87/2025/\"\n",
      "    }\n",
      "  ],\n",
      "  \"profiles\": {\n",
      "    \"leetcode\": \"https://leetcode.com/u/Nandini_Queen/\",\n",
      "    \"geeksforgeeks\": \"https://www.geeksforgeeks.org/user/knandin8fsf/\",\n",
      "    \"hackerrank\": \"https://www.hackerrank.com/profile/knandini7816\"\n",
      "  },\n",
      "  \"certifications\": [\n",
      "    {\n",
      "      \"name\": \"Artificial Intelligence Course Series (118 hr length)\",\n",
      "      \"provider\": \"Infosys Springboard\",\n",
      "      \"link\": \"https://infyspringboard.onwingspan.com/web/en/app/profile/competency/certificate\"\n",
      "    },\n",
      "    {\n",
      "      \"name\": \"Agile Scrum in Practice\",\n",
      "      \"provider\": \"Infosys Springboard\",\n",
      "      \"link\": \"https://infyspringboard.onwingspan.com/web/en/app/profile/competency/certificate\"\n",
      "    },\n",
      "    {\n",
      "      \"name\": \"Data Structures and Performance\",\n",
      "      \"provider\": \"Coursera\",\n",
      "      \"link\": \"https://coursera.org/share/1d4edbf7bd94d9c9409693f3ed34623e\"\n",
      "    },\n",
      "    {\n",
      "      \"name\": \"Python Basic, Problem Solving Basic\",\n",
      "      \"provider\": \"Hacker Rank\",\n",
      "      \"link\": \"https://www.hackerrank.com/certificates/29cd025a29fc\"\n",
      "    }\n",
      "  ]\n",
      "}\n",
      "\n",
      "        Profile Data:\n",
      "        {\n",
      "  \"leetcode\": {\n",
      "    \"username\": \"Nandini_Queen\",\n",
      "    \"total_problems_solved\": 272,\n",
      "    \"problems_by_difficulty\": {\n",
      "      \"All\": 136,\n",
      "      \"Easy\": 58,\n",
      "      \"Medium\": 68,\n",
      "      \"Hard\": 10\n",
      "    },\n",
      "    \"ranking\": 883997,\n",
      "    \"reputation\": 0,\n",
      "    \"badges\": [\n",
      "      \"Study Plan V2 Award\"\n",
      "    ]\n",
      "  },\n",
      "  \"geeksforgeeks\": {\n",
      "    \"notes\": \"Partial information found through search.  Multiple users with similar names exist.  Unable to definitively link to a specific profile with the available tools.\"\n",
      "  },\n",
      "  \"hackerrank\": {\n",
      "    \"notes\": \"No profile found using available tools and search.  Further investigation may be needed.\"\n",
      "  }\n",
      "}\n",
      "\n",
      "        Skill Evaluation:\n",
      "        {\n",
      "  \"languages\": {\n",
      "    \"Python\": {\n",
      "      \"rating\": 8,\n",
      "      \"claimed\": true,\n",
      "      \"demonstrated\": true,\n",
      "      \"evidence\": \"LeetCode profile (272 problems solved, including Medium and Hard), HackerRank certificate (Python Basic), projects (NurtureSync, DeepFake detection), research experience (LANDSAT data analysis)\",\n",
      "      \"notes\": \"Strong evidence of proficiency.  LeetCode performance indicates a good grasp of problem-solving and data structures.\"\n",
      "    },\n",
      "    \"Dart\": {\n",
      "      \"rating\": 7,\n",
      "      \"claimed\": true,\n",
      "      \"demonstrated\": true,\n",
      "      \"evidence\": \"Flutter mobile app development (NurtureSync)\",\n",
      "      \"notes\": \"Demonstrated through Flutter app development, but less extensive evidence compared to Python.\"\n",
      "    },\n",
      "    \"JavaScript\": {\n",
      "      \"rating\": 6,\n",
      "      \"claimed\": true,\n",
      "      \"demonstrated\": false,\n",
      "      \"evidence\": \"No direct evidence in resume or projects.\",\n",
      "      \"notes\": \"Claimed but no demonstrable evidence.\"\n",
      "    },\n",
      "    \"C\": {\n",
      "      \"rating\": 5,\n",
      "      \"claimed\": true,\n",
      "      \"demonstrated\": false,\n",
      "      \"evidence\": \"No direct evidence in resume or projects.\",\n",
      "      \"notes\": \"Claimed but no demonstrable evidence.\"\n",
      "    }\n",
      "  },\n",
      "  \"frameworks\": {\n",
      "    \"Flutter\": {\n",
      "      \"rating\": 7,\n",
      "      \"claimed\": true,\n",
      "      \"demonstrated\": true,\n",
      "      \"evidence\": \"Mobile app development (NurtureSync)\",\n",
      "      \"notes\": \"Demonstrated proficiency in building mobile apps.\"\n",
      "    },\n",
      "    \"Flask\": {\n",
      "      \"rating\": 6,\n",
      "      \"claimed\": true,\n",
      "      \"demonstrated\": true,\n",
      "      \"evidence\": \"Web app development (NurtureSync)\",\n",
      "      \"notes\": \"Used in a project, but the extent of expertise is unclear.\"\n",
      "    },\n",
      "    \"Streamlit\": {\n",
      "      \"rating\": 6,\n",
      "      \"claimed\": true,\n",
      "      \"demonstrated\": true,\n",
      "      \"evidence\": \"Web app development (NurtureSync)\",\n",
      "      \"notes\": \"Used in a project, but the extent of expertise is unclear.\"\n",
      "    }\n",
      "  },\n",
      "  \"tools\": {\n",
      "    \"Git\": {\n",
      "      \"rating\": 8,\n",
      "      \"claimed\": true,\n",
      "      \"demonstrated\": true,\n",
      "      \"evidence\": \"GitHub profile with multiple projects\",\n",
      "      \"notes\": \"Active use indicated by multiple projects on GitHub.\"\n",
      "    },\n",
      "    \"Docker\": {\n",
      "      \"rating\": 5,\n",
      "      \"claimed\": true,\n",
      "      \"demonstrated\": false,\n",
      "      \"evidence\": \"No direct evidence in resume or projects.\",\n",
      "      \"notes\": \"Claimed but no demonstrable evidence.\"\n",
      "    },\n",
      "    \"Selenium\": {\n",
      "      \"rating\": 7,\n",
      "      \"claimed\": true,\n",
      "      \"demonstrated\": true,\n",
      "      \"evidence\": \"Security and Software Testing Internship responsibilities (automated testing)\",\n",
      "      \"notes\": \"Demonstrated use in a professional setting.\"\n",
      "    },\n",
      "    \"Firebase\": {\n",
      "      \"rating\": 7,\n",
      "      \"claimed\": true,\n",
      "      \"demonstrated\": true,\n",
      "      \"evidence\": \"Used in NurtureSync project\",\n",
      "      \"notes\": \"Demonstrated use in a project.\"\n",
      "    },\n",
      "    \"MySQL\": {\n",
      "      \"rating\": 6,\n",
      "      \"claimed\": true,\n",
      "      \"demonstrated\": true,\n",
      "      \"evidence\": \"Used in NurtureSync project\",\n",
      "      \"notes\": \"Used in a project, but the extent of expertise is unclear.\"\n",
      "    },\n",
      "    \"MongoDB\": {\n",
      "      \"rating\": 7,\n",
      "      \"claimed\": true,\n",
      "      \"demonstrated\": true,\n",
      "      \"evidence\": \"Used in NurtureSync project\",\n",
      "      \"notes\": \"Demonstrated use in a project.\"\n",
      "    },\n",
      "    \"Linux\": {\n",
      "      \"rating\": 6,\n",
      "      \"claimed\": true,\n",
      "      \"demonstrated\": true,\n",
      "      \"evidence\": \"Security and Software Testing Internship responsibilities (managed testing environments)\",\n",
      "      \"notes\": \"Demonstrated use in a professional setting, but the depth of expertise is unclear.\"\n",
      "    }\n",
      "  },\n",
      "  \"AI and Development\": {\n",
      "    \"Generative AI\": {\n",
      "      \"rating\": 5,\n",
      "      \"claimed\": true,\n",
      "      \"demonstrated\": false,\n",
      "      \"evidence\": \"No direct evidence in resume or projects.\",\n",
      "      \"notes\": \"Claimed but no demonstrable evidence.\"\n",
      "    },\n",
      "    \"ML\": {\n",
      "      \"rating\": 7,\n",
      "      \"claimed\": true,\n",
      "      \"demonstrated\": true,\n",
      "      \"evidence\": \"Research experience (real-time machine learning projects), DeepFake detection project\",\n",
      "      \"notes\": \"Demonstrated through research and projects.\"\n",
      "    },\n",
      "    \"DL\": {\n",
      "      \"rating\": 7,\n",
      "      \"claimed\": true,\n",
      "      \"demonstrated\": true,\n",
      "      \"evidence\": \"DeepFake detection project (ResNet, LSTM)\",\n",
      "      \"notes\": \"Demonstrated through the DeepFake detection project.\"\n",
      "    },\n",
      "    \"NLP\": {\n",
      "      \"rating\": 7,\n",
      "      \"claimed\": true,\n",
      "      \"demonstrated\": true,\n",
      "      \"evidence\": \"Infosys internship (AI system using NLP)\",\n",
      "      \"notes\": \"Demonstrated through a professional internship project.\"\n",
      "    },\n",
      "    \"Computer Vision\": {\n",
      "      \"rating\": 7,\n",
      "      \"claimed\": true,\n",
      "      \"demonstrated\": true,\n",
      "      \"evidence\": \"DeepFake detection project (MTCNN)\",\n",
      "      \"notes\": \"Demonstrated through the DeepFake detection project.\"\n",
      "    },\n",
      "    \"Data Structures\": {\n",
      "      \"rating\": 8,\n",
      "      \"claimed\": true,\n",
      "      \"demonstrated\": true,\n",
      "      \"evidence\": \"Coursera certificate, LeetCode performance\",\n",
      "      \"notes\": \"Strong evidence from both certification and LeetCode performance.\"\n",
      "    },\n",
      "    \"Agile\": {\n",
      "      \"rating\": 6,\n",
      "      \"claimed\": true,\n",
      "      \"demonstrated\": true,\n",
      "      \"evidence\": \"Infosys Springboard certificate, work experience (campus ambassador)\",\n",
      "      \"notes\": \"Demonstrated through certification and work experience, but the depth of expertise is unclear.\"\n",
      "    },\n",
      "    \"Testing\": {\n",
      "      \"rating\": 7,\n",
      "      \"claimed\": true,\n",
      "      \"demonstrated\": true,\n",
      "      \"evidence\": \"Security and Software Testing Internship\",\n",
      "      \"notes\": \"Demonstrated through a professional internship.\"\n",
      "    }\n",
      "  },\n",
      "  \"overall_assessment\": {\n",
      "    \"practical_application\": \"Strong evidence of practical application across multiple projects and internships.  The candidate demonstrates the ability to apply learned skills to real-world problems.\",\n",
      "    \"depth_of_knowledge\": \"Good depth of knowledge in Python, ML, DL, NLP, and data structures.  Proficiency in other areas is less clear due to limited evidence.\",\n",
      "    \"learning_ability\": \"High learning ability and adaptability demonstrated by the diverse range of skills and projects undertaken in a relatively short period.  The candidate actively seeks out new challenges and learning opportunities.\",\n",
      "    \"strengths\": \"Python programming, ML/DL/NLP, data structures, problem-solving, mobile app development (Flutter), web app development (Flask, Streamlit), automated testing (Selenium)\",\n",
      "    \"growth_areas\": \"Expand experience with JavaScript and C.  Deepen expertise in Generative AI and Agile methodologies.  Gain experience with Docker and other DevOps tools.  Further develop theoretical understanding to complement practical skills.\",\n",
      "    \"specialization\": \"The candidate shows a strong inclination towards AI and machine learning, with a focus on practical application and project development.  While possessing a broad range of skills, the specialization leans towards AI/ML.\",\n",
      "    \"generalist\": \"The candidate demonstrates a good range of skills across different areas of software development and AI, but the specialization is clearly towards AI/ML.\"\n",
      "  }\n",
      "}\n",
      "\n",
      "        Job Match Assessment:\n",
      "        {\n",
      "  \"assessment\": {\n",
      "    \"essentialRequirements\": [\n",
      "      {\n",
      "        \"requirement\": \"5+ years of experience in software development\",\n",
      "        \"match\": {\n",
      "          \"percentage\": 70,\n",
      "          \"explanation\": \"While the candidate's resume doesn't explicitly state 5+ years of experience, the breadth and depth of projects, internships (including a significant security and software testing internship), and research experience suggest a comparable level of practical experience.  More information on the duration of each role would solidify this assessment.\"\n",
      "        }\n",
      "      },\n",
      "      {\n",
      "        \"requirement\": \"Strong proficiency in Python and JavaScript\",\n",
      "        \"match\": {\n",
      "          \"percentage\": 75,\n",
      "          \"explanation\": \"Python proficiency is strong (rating 8), demonstrated across multiple projects and LeetCode performance. However, JavaScript proficiency is claimed but lacks demonstrable evidence (rating 6, demonstrated: false). This is a significant gap for a senior full-stack role.\"\n",
      "        }\n",
      "      },\n",
      "      {\n",
      "        \"requirement\": \"Experience with React.js and Django\",\n",
      "        \"match\": {\n",
      "          \"percentage\": 30,\n",
      "          \"explanation\": \"No direct evidence of experience with React.js or Django.  The candidate uses Flask and Streamlit, which are related web frameworks, but don't directly translate to React.js and Django expertise. This is a critical gap.\"\n",
      "        }\n",
      "      },\n",
      "      {\n",
      "        \"requirement\": \"Knowledge of RESTful API design and implementation\",\n",
      "        \"match\": {\n",
      "          \"percentage\": 60,\n",
      "          \"explanation\": \"Indirect evidence suggests some familiarity through web application development (Flask, Streamlit), but the depth of knowledge is unclear.  Explicit mention or project examples demonstrating RESTful API design and implementation would improve this score.\"\n",
      "        }\n",
      "      },\n",
      "      {\n",
      "        \"requirement\": \"Experience with cloud platforms (AWS or Azure)\",\n",
      "        \"match\": {\n",
      "          \"percentage\": 0,\n",
      "          \"explanation\": \"No evidence of experience with AWS or Azure.\"\n",
      "        }\n",
      "      },\n",
      "      {\n",
      "        \"requirement\": \"Understanding of CI/CD pipelines and DevOps practices\",\n",
      "        \"match\": {\n",
      "          \"percentage\": 10,\n",
      "          \"explanation\": \"Limited evidence.  While Git usage is strong, there's no demonstrable experience with CI/CD pipelines or broader DevOps practices.  Docker experience is claimed but not demonstrated.\"\n",
      "        }\n",
      "      }\n",
      "    ],\n",
      "    \"preferredRequirements\": [\n",
      "      {\n",
      "        \"requirement\": \"Experience with TypeScript and Node.js\",\n",
      "        \"match\": {\n",
      "          \"percentage\": 0,\n",
      "          \"explanation\": \"No evidence of experience with TypeScript or Node.js.\"\n",
      "        }\n",
      "      },\n",
      "      {\n",
      "        \"requirement\": \"Knowledge of container technologies (Docker, Kubernetes)\",\n",
      "        \"match\": {\n",
      "          \"percentage\": 10,\n",
      "          \"explanation\": \"Docker is claimed but not demonstrated. No evidence of Kubernetes experience.\"\n",
      "        }\n",
      "      },\n",
      "      {\n",
      "        \"requirement\": \"Experience with database design and optimization\",\n",
      "        \"match\": {\n",
      "          \"percentage\": 60,\n",
      "          \"explanation\": \"Experience with MySQL and MongoDB is demonstrated, but the extent of expertise in database design and optimization is unclear.\"\n",
      "        }\n",
      "      },\n",
      "      {\n",
      "        \"requirement\": \"Familiarity with microservices architecture\",\n",
      "        \"match\": {\n",
      "          \"percentage\": 0,\n",
      "          \"explanation\": \"No evidence of familiarity with microservices architecture.\"\n",
      "        }\n",
      "      },\n",
      "      {\n",
      "        \"requirement\": \"Experience mentoring junior developers\",\n",
      "        \"match\": {\n",
      "          \"percentage\": 0,\n",
      "          \"explanation\": \"No evidence of experience mentoring junior developers.\"\n",
      "        }\n",
      "      }\n",
      "    ],\n",
      "    \"experienceLevel\": {\n",
      "      \"match\": {\n",
      "        \"percentage\": 70,\n",
      "        \"explanation\": \"The candidate's project portfolio and internship experiences suggest a level of practical experience comparable to a senior developer, but the lack of explicit 5+ years of experience and the gaps in essential requirements slightly lower the score.\"\n",
      "      }\n",
      "    },\n",
      "    \"culturalFit\": {\n",
      "      \"match\": {\n",
      "        \"percentage\": 80,\n",
      "        \"explanation\": \"The candidate demonstrates a strong learning ability, actively seeks new challenges, and possesses a diverse skillset.  These traits suggest a good potential for cultural fit, assuming the company values adaptability and continuous learning.\"\n",
      "      }\n",
      "    },\n",
      "    \"growthPotential\": {\n",
      "      \"match\": {\n",
      "        \"percentage\": 90,\n",
      "        \"explanation\": \"The candidate's demonstrated learning agility and diverse project experience indicate high growth potential.  The identified growth areas are addressable through focused learning and development.\"\n",
      "      }\n",
      "    },\n",
      "    \"overallMatch\": {\n",
      "      \"percentage\": 45,\n",
      "      \"explanation\": \"The overall match is moderate.  While the candidate possesses strong skills in Python and AI/ML, significant gaps exist in essential requirements like JavaScript, React.js, Django, cloud platforms, and CI/CD.  Addressing these gaps would significantly improve the candidate's suitability for the role.\"\n",
      "    }\n",
      "  }\n",
      "}\n",
      "\n",
      "        Create 5-7 tailored questions that:\n",
      "        1. Verify depth of knowledge in claimed expertise areas\n",
      "        2. Explore specific projects mentioned in resume or profiles\n",
      "        3. Address identified skill gaps relevant to the job requirements\n",
      "        4. Include at least one system design question related to their experience\n",
      "        5. Include at least one problem-solving question that relates to their domain\n",
      "        6. Test adaptability by asking about unfamiliar but related technologies\n",
      "\n",
      "        For each question:\n",
      "        - Make it specific to this candidate (reference specific projects or experience)\n",
      "        - Clearly state what you're assessing with this question\n",
      "        - Provide guidance on what a good answer would include\n",
      "        - Structure questions that reveal thinking process, not just knowledge\n",
      "        - Include difficulty level (Basic, Intermediate, Advanced)\n",
      "\n",
      "        Return the questions in a structured JSON format.\n",
      "        \u001b[00m\n"
     ]
    },
    {
     "data": {
      "text/html": [
       "<pre style=\"white-space:pre;overflow-x:auto;line-height:normal;font-family:Menlo,'DejaVu Sans Mono',consolas,'Courier New',monospace\"><span style=\"color: #008080; text-decoration-color: #008080; font-weight: bold\">🚀 Crew: crew</span>\n",
       "└── <span style=\"color: #808000; text-decoration-color: #808000; font-weight: bold\">📋 Task: 03002f2d-c55e-41b5-9077-ccc9e2c1bed7</span>\n",
       "    <span style=\"color: #c0c0c0; text-decoration-color: #c0c0c0\">   Status: </span><span style=\"color: #bfbf7f; text-decoration-color: #bfbf7f\">Executing Task...</span>\n",
       "    └── <span style=\"color: #008000; text-decoration-color: #008000; font-weight: bold\">🤖 Agent: </span><span style=\"color: #008000; text-decoration-color: #008000\">Technical Interview Question Generator</span>\n",
       "        <span style=\"color: #c0c0c0; text-decoration-color: #c0c0c0\">    Status: </span><span style=\"color: #008000; text-decoration-color: #008000; font-weight: bold\">In Progress</span>\n",
       "        └── <span style=\"color: #000080; text-decoration-color: #000080; font-weight: bold\">🧠 </span><span style=\"color: #000080; text-decoration-color: #000080\">Thinking...</span>\n",
       "</pre>\n"
      ],
      "text/plain": [
       "\u001b[1;36m🚀 Crew: \u001b[0m\u001b[1;36mcrew\u001b[0m\n",
       "└── \u001b[1;33m📋 Task: 03002f2d-c55e-41b5-9077-ccc9e2c1bed7\u001b[0m\n",
       "    \u001b[37m   Status: \u001b[0m\u001b[2;33mExecuting Task...\u001b[0m\n",
       "    └── \u001b[1;32m🤖 Agent: \u001b[0m\u001b[32mTechnical Interview Question Generator\u001b[0m\n",
       "        \u001b[37m    Status: \u001b[0m\u001b[1;32mIn Progress\u001b[0m\n",
       "        └── \u001b[1;34m🧠 \u001b[0m\u001b[34mThinking...\u001b[0m\n"
      ]
     },
     "metadata": {},
     "output_type": "display_data"
    },
    {
     "data": {
      "text/html": [
       "<pre style=\"white-space:pre;overflow-x:auto;line-height:normal;font-family:Menlo,'DejaVu Sans Mono',consolas,'Courier New',monospace\">\n",
       "</pre>\n"
      ],
      "text/plain": [
       "\n"
      ]
     },
     "metadata": {},
     "output_type": "display_data"
    },
    {
     "data": {
      "text/html": [
       "<pre style=\"white-space:pre;overflow-x:auto;line-height:normal;font-family:Menlo,'DejaVu Sans Mono',consolas,'Courier New',monospace\"><span style=\"color: #008080; text-decoration-color: #008080; font-weight: bold\">🚀 Crew: crew</span>\n",
       "└── <span style=\"color: #808000; text-decoration-color: #808000; font-weight: bold\">📋 Task: 03002f2d-c55e-41b5-9077-ccc9e2c1bed7</span>\n",
       "    <span style=\"color: #c0c0c0; text-decoration-color: #c0c0c0\">   Status: </span><span style=\"color: #bfbf7f; text-decoration-color: #bfbf7f\">Executing Task...</span>\n",
       "    └── <span style=\"color: #008000; text-decoration-color: #008000; font-weight: bold\">🤖 Agent: </span><span style=\"color: #008000; text-decoration-color: #008000\">Technical Interview Question Generator</span>\n",
       "        <span style=\"color: #c0c0c0; text-decoration-color: #c0c0c0\">    Status: </span><span style=\"color: #008000; text-decoration-color: #008000; font-weight: bold\">In Progress</span>\n",
       "</pre>\n"
      ],
      "text/plain": [
       "\u001b[1;36m🚀 Crew: \u001b[0m\u001b[1;36mcrew\u001b[0m\n",
       "└── \u001b[1;33m📋 Task: 03002f2d-c55e-41b5-9077-ccc9e2c1bed7\u001b[0m\n",
       "    \u001b[37m   Status: \u001b[0m\u001b[2;33mExecuting Task...\u001b[0m\n",
       "    └── \u001b[1;32m🤖 Agent: \u001b[0m\u001b[32mTechnical Interview Question Generator\u001b[0m\n",
       "        \u001b[37m    Status: \u001b[0m\u001b[1;32mIn Progress\u001b[0m\n"
      ]
     },
     "metadata": {},
     "output_type": "display_data"
    },
    {
     "data": {
      "text/html": [
       "<pre style=\"white-space:pre;overflow-x:auto;line-height:normal;font-family:Menlo,'DejaVu Sans Mono',consolas,'Courier New',monospace\">\n",
       "</pre>\n"
      ],
      "text/plain": [
       "\n"
      ]
     },
     "metadata": {},
     "output_type": "display_data"
    },
    {
     "data": {
      "text/html": [
       "<pre style=\"white-space:pre;overflow-x:auto;line-height:normal;font-family:Menlo,'DejaVu Sans Mono',consolas,'Courier New',monospace\"><span style=\"color: #008080; text-decoration-color: #008080; font-weight: bold\">🚀 Crew: crew</span>\n",
       "└── <span style=\"color: #808000; text-decoration-color: #808000; font-weight: bold\">📋 Task: 03002f2d-c55e-41b5-9077-ccc9e2c1bed7</span>\n",
       "    <span style=\"color: #c0c0c0; text-decoration-color: #c0c0c0\">   Status: </span><span style=\"color: #bfbf7f; text-decoration-color: #bfbf7f\">Executing Task...</span>\n",
       "    └── <span style=\"color: #008000; text-decoration-color: #008000; font-weight: bold\">🤖 Agent: </span><span style=\"color: #008000; text-decoration-color: #008000\">Technical Interview Question Generator</span>\n",
       "        <span style=\"color: #c0c0c0; text-decoration-color: #c0c0c0\">    Status: </span><span style=\"color: #008000; text-decoration-color: #008000; font-weight: bold\">In Progress</span>\n",
       "        └── <span style=\"color: #808000; text-decoration-color: #808000; font-weight: bold\">🔧 </span><span style=\"color: #808000; text-decoration-color: #808000\">Using Search Tool (9)</span>\n",
       "</pre>\n"
      ],
      "text/plain": [
       "\u001b[1;36m🚀 Crew: \u001b[0m\u001b[1;36mcrew\u001b[0m\n",
       "└── \u001b[1;33m📋 Task: 03002f2d-c55e-41b5-9077-ccc9e2c1bed7\u001b[0m\n",
       "    \u001b[37m   Status: \u001b[0m\u001b[2;33mExecuting Task...\u001b[0m\n",
       "    └── \u001b[1;32m🤖 Agent: \u001b[0m\u001b[32mTechnical Interview Question Generator\u001b[0m\n",
       "        \u001b[37m    Status: \u001b[0m\u001b[1;32mIn Progress\u001b[0m\n",
       "        └── \u001b[1;33m🔧 \u001b[0m\u001b[33mUsing Search Tool (9)\u001b[0m\n"
      ]
     },
     "metadata": {},
     "output_type": "display_data"
    },
    {
     "data": {
      "text/html": [
       "<pre style=\"white-space:pre;overflow-x:auto;line-height:normal;font-family:Menlo,'DejaVu Sans Mono',consolas,'Courier New',monospace\">\n",
       "</pre>\n"
      ],
      "text/plain": [
       "\n"
      ]
     },
     "metadata": {},
     "output_type": "display_data"
    },
    {
     "data": {
      "text/html": [
       "<pre style=\"white-space:pre;overflow-x:auto;line-height:normal;font-family:Menlo,'DejaVu Sans Mono',consolas,'Courier New',monospace\"><span style=\"color: #008080; text-decoration-color: #008080; font-weight: bold\">🚀 Crew: crew</span>\n",
       "└── <span style=\"color: #808000; text-decoration-color: #808000; font-weight: bold\">📋 Task: 03002f2d-c55e-41b5-9077-ccc9e2c1bed7</span>\n",
       "    <span style=\"color: #c0c0c0; text-decoration-color: #c0c0c0\">   Status: </span><span style=\"color: #bfbf7f; text-decoration-color: #bfbf7f\">Executing Task...</span>\n",
       "    └── <span style=\"color: #008000; text-decoration-color: #008000; font-weight: bold\">🤖 Agent: </span><span style=\"color: #008000; text-decoration-color: #008000\">Technical Interview Question Generator</span>\n",
       "        <span style=\"color: #c0c0c0; text-decoration-color: #c0c0c0\">    Status: </span><span style=\"color: #008000; text-decoration-color: #008000; font-weight: bold\">In Progress</span>\n",
       "        └── <span style=\"color: #008000; text-decoration-color: #008000; font-weight: bold\">🔧 </span><span style=\"color: #008000; text-decoration-color: #008000\">Used Search Tool (9)</span>\n",
       "</pre>\n"
      ],
      "text/plain": [
       "\u001b[1;36m🚀 Crew: \u001b[0m\u001b[1;36mcrew\u001b[0m\n",
       "└── \u001b[1;33m📋 Task: 03002f2d-c55e-41b5-9077-ccc9e2c1bed7\u001b[0m\n",
       "    \u001b[37m   Status: \u001b[0m\u001b[2;33mExecuting Task...\u001b[0m\n",
       "    └── \u001b[1;32m🤖 Agent: \u001b[0m\u001b[32mTechnical Interview Question Generator\u001b[0m\n",
       "        \u001b[37m    Status: \u001b[0m\u001b[1;32mIn Progress\u001b[0m\n",
       "        └── \u001b[1;32m🔧 \u001b[0m\u001b[32mUsed Search Tool (9)\u001b[0m\n"
      ]
     },
     "metadata": {},
     "output_type": "display_data"
    },
    {
     "data": {
      "text/html": [
       "<pre style=\"white-space:pre;overflow-x:auto;line-height:normal;font-family:Menlo,'DejaVu Sans Mono',consolas,'Courier New',monospace\">\n",
       "</pre>\n"
      ],
      "text/plain": [
       "\n"
      ]
     },
     "metadata": {},
     "output_type": "display_data"
    },
    {
     "name": "stdout",
     "output_type": "stream",
     "text": [
      "\n",
      "\n",
      "\u001b[1m\u001b[95m# Agent:\u001b[00m \u001b[1m\u001b[92mTechnical Interview Question Generator\u001b[00m\n",
      "\u001b[95m## Thought:\u001b[00m \u001b[92mtool_code\n",
      "Thought: I need to generate tailored technical interview questions based on the provided resume, profile data, skill evaluation, and job match assessment.  The questions should assess depth of knowledge, explore specific projects, address skill gaps, include system design and problem-solving components, and test adaptability.  I will use the information provided to craft questions that are specific to the candidate's experience and target areas where more information is needed.\u001b[00m\n",
      "\u001b[95m## Using tool:\u001b[00m \u001b[92mSearch Tool\u001b[00m\n",
      "\u001b[95m## Tool Input:\u001b[00m \u001b[92m\n",
      "\"{\\\"query\\\": \\\"Nandini Kuppala GitHub\\\"}\"\u001b[00m\n",
      "\u001b[95m## Tool Output:\u001b[00m \u001b[92m\n",
      "{\"searchParameters\":{\"q\":\"Nandini Kuppala GitHub\",\"type\":\"search\",\"engine\":\"google\"},\"organic\":[{\"title\":\"nandini-kuppala/Portfolio - GitHub\",\"link\":\"https://github.com/nandini-kuppala/Portfolio\",\"snippet\":\"Contribute to nandini-kuppala/Portfolio development by creating an account on GitHub.\",\"position\":1},{\"title\":\"Nandini Kuppala - AI Developer Intern - LinkedIn\",\"link\":\"https://in.linkedin.com/in/nandini-kuppala\",\"snippet\":\"I am currently a third-year student pursuing a degree in Artificial Intelligence Engineering. With a strong passion for AI, I am actively engaged in a variety ...\",\"position\":2},{\"title\":\"Nandini Kuppala balasubramanyam - Ireland | Professional Profile ...\",\"link\":\"https://in.linkedin.com/in/nandini-kuppala-balasubramanyam-070a52266\",\"snippet\":\"I'm a detail-oriented Junior Data Analyst with a passion for transforming raw data into meaningful insights. With a strong foundation in data visualization, ...\",\"position\":3},{\"title\":\"Nandini Kuppala (0009-0008-8746-1227) - ORCID\",\"link\":\"https://orcid.org/0009-0008-8746-1227\",\"snippet\":\"Contributors: Nandini Kuppala; Chukka Navneet Krishna; V. V. Sajith ... Github (opens in a new tab) Twitter (opens in a new tab). public domain. The ...\",\"position\":4},{\"title\":\"NANDINI KUPPALA - Devfolio\",\"link\":\"https://devfolio.co/@Nandini_Queen\",\"snippet\":\"EDUCATION: B.E Computer Science and Engineering (Artificial Intelligence and machine Learning) Amrita Vishwa Vidyapeetham 2022 - 2026 ...\",\"position\":5},{\"title\":\"All stories published by Google Cloud - Community on July 08, 2023\",\"link\":\"https://medium.com/google-cloud/archive/2023/07/08\",\"snippet\":\"Keyless Google Cloud Authentication to push your containers to Artifact Registry from GitHub Actions ... Go to the profile of Nandini Poddar.\",\"date\":\"Jul 8, 2023\",\"position\":6},{\"title\":\"A Novel Approach for Recognition of Autism Spectrum Disorder ...\",\"link\":\"https://www.researchgate.net/publication/387588418_A_Novel_Approach_for_Recognition_of_Autism_Spectrum_Disorder_based_on_GraphSAGE\",\"snippet\":\"Nandini Kuppala · Monish Gv · Balu Pinnenti · Nivedha ... The code is available at https://github.com/GuangqiWen/MVS-GCN.\",\"date\":\"Jan 3, 2025\",\"position\":7},{\"title\":\"Vocabulary Expansion of Chat Models with Unlabeled Target ... - arXiv\",\"link\":\"https://arxiv.org/html/2412.11704v1\",\"snippet\":\"Experiments reveal the effectiveness of our methods, helping the adapted models to achieve performance improvements in 87% of cases. ... 1Our code and models are ...\",\"position\":8},{\"title\":\"[PDF] Coherent Fourier Scatterometry for sensitive detection of ...\",\"link\":\"https://research.tudelft.nl/files/132914378/dissertation_with_bleed_final.pdf\",\"snippet\":\"[7] Kavitha Kuppala, Sandhya Banda, and Thirumala Rao Barige. An overview of deep learning methods for image registration with focus on featurebased ...\",\"position\":9}],\"credits\":1}\u001b[00m\n"
     ]
    },
    {
     "data": {
      "text/html": [
       "<pre style=\"white-space:pre;overflow-x:auto;line-height:normal;font-family:Menlo,'DejaVu Sans Mono',consolas,'Courier New',monospace\"><span style=\"color: #008080; text-decoration-color: #008080; font-weight: bold\">🚀 Crew: crew</span>\n",
       "└── <span style=\"color: #808000; text-decoration-color: #808000; font-weight: bold\">📋 Task: 03002f2d-c55e-41b5-9077-ccc9e2c1bed7</span>\n",
       "    <span style=\"color: #c0c0c0; text-decoration-color: #c0c0c0\">   Status: </span><span style=\"color: #bfbf7f; text-decoration-color: #bfbf7f\">Executing Task...</span>\n",
       "    └── <span style=\"color: #008000; text-decoration-color: #008000; font-weight: bold\">🤖 Agent: </span><span style=\"color: #008000; text-decoration-color: #008000\">Technical Interview Question Generator</span>\n",
       "        <span style=\"color: #c0c0c0; text-decoration-color: #c0c0c0\">    Status: </span><span style=\"color: #008000; text-decoration-color: #008000; font-weight: bold\">In Progress</span>\n",
       "        ├── <span style=\"color: #008000; text-decoration-color: #008000; font-weight: bold\">🔧 </span><span style=\"color: #008000; text-decoration-color: #008000\">Used Search Tool (9)</span>\n",
       "        └── <span style=\"color: #000080; text-decoration-color: #000080; font-weight: bold\">🧠 </span><span style=\"color: #000080; text-decoration-color: #000080\">Thinking...</span>\n",
       "</pre>\n"
      ],
      "text/plain": [
       "\u001b[1;36m🚀 Crew: \u001b[0m\u001b[1;36mcrew\u001b[0m\n",
       "└── \u001b[1;33m📋 Task: 03002f2d-c55e-41b5-9077-ccc9e2c1bed7\u001b[0m\n",
       "    \u001b[37m   Status: \u001b[0m\u001b[2;33mExecuting Task...\u001b[0m\n",
       "    └── \u001b[1;32m🤖 Agent: \u001b[0m\u001b[32mTechnical Interview Question Generator\u001b[0m\n",
       "        \u001b[37m    Status: \u001b[0m\u001b[1;32mIn Progress\u001b[0m\n",
       "        ├── \u001b[1;32m🔧 \u001b[0m\u001b[32mUsed Search Tool (9)\u001b[0m\n",
       "        └── \u001b[1;34m🧠 \u001b[0m\u001b[34mThinking...\u001b[0m\n"
      ]
     },
     "metadata": {},
     "output_type": "display_data"
    },
    {
     "data": {
      "text/html": [
       "<pre style=\"white-space:pre;overflow-x:auto;line-height:normal;font-family:Menlo,'DejaVu Sans Mono',consolas,'Courier New',monospace\">\n",
       "</pre>\n"
      ],
      "text/plain": [
       "\n"
      ]
     },
     "metadata": {},
     "output_type": "display_data"
    },
    {
     "data": {
      "text/html": [
       "<pre style=\"white-space:pre;overflow-x:auto;line-height:normal;font-family:Menlo,'DejaVu Sans Mono',consolas,'Courier New',monospace\"><span style=\"color: #008080; text-decoration-color: #008080; font-weight: bold\">🚀 Crew: crew</span>\n",
       "└── <span style=\"color: #808000; text-decoration-color: #808000; font-weight: bold\">📋 Task: 03002f2d-c55e-41b5-9077-ccc9e2c1bed7</span>\n",
       "    <span style=\"color: #c0c0c0; text-decoration-color: #c0c0c0\">   Status: </span><span style=\"color: #bfbf7f; text-decoration-color: #bfbf7f\">Executing Task...</span>\n",
       "    └── <span style=\"color: #008000; text-decoration-color: #008000; font-weight: bold\">🤖 Agent: </span><span style=\"color: #008000; text-decoration-color: #008000\">Technical Interview Question Generator</span>\n",
       "        <span style=\"color: #c0c0c0; text-decoration-color: #c0c0c0\">    Status: </span><span style=\"color: #008000; text-decoration-color: #008000; font-weight: bold\">In Progress</span>\n",
       "        └── <span style=\"color: #008000; text-decoration-color: #008000; font-weight: bold\">🔧 </span><span style=\"color: #008000; text-decoration-color: #008000\">Used Search Tool (9)</span>\n",
       "</pre>\n"
      ],
      "text/plain": [
       "\u001b[1;36m🚀 Crew: \u001b[0m\u001b[1;36mcrew\u001b[0m\n",
       "└── \u001b[1;33m📋 Task: 03002f2d-c55e-41b5-9077-ccc9e2c1bed7\u001b[0m\n",
       "    \u001b[37m   Status: \u001b[0m\u001b[2;33mExecuting Task...\u001b[0m\n",
       "    └── \u001b[1;32m🤖 Agent: \u001b[0m\u001b[32mTechnical Interview Question Generator\u001b[0m\n",
       "        \u001b[37m    Status: \u001b[0m\u001b[1;32mIn Progress\u001b[0m\n",
       "        └── \u001b[1;32m🔧 \u001b[0m\u001b[32mUsed Search Tool (9)\u001b[0m\n"
      ]
     },
     "metadata": {},
     "output_type": "display_data"
    },
    {
     "data": {
      "text/html": [
       "<pre style=\"white-space:pre;overflow-x:auto;line-height:normal;font-family:Menlo,'DejaVu Sans Mono',consolas,'Courier New',monospace\">\n",
       "</pre>\n"
      ],
      "text/plain": [
       "\n"
      ]
     },
     "metadata": {},
     "output_type": "display_data"
    },
    {
     "data": {
      "text/html": [
       "<pre style=\"white-space:pre;overflow-x:auto;line-height:normal;font-family:Menlo,'DejaVu Sans Mono',consolas,'Courier New',monospace\"><span style=\"color: #008080; text-decoration-color: #008080; font-weight: bold\">🚀 Crew: crew</span>\n",
       "└── <span style=\"color: #808000; text-decoration-color: #808000; font-weight: bold\">📋 Task: 03002f2d-c55e-41b5-9077-ccc9e2c1bed7</span>\n",
       "    <span style=\"color: #c0c0c0; text-decoration-color: #c0c0c0\">   Status: </span><span style=\"color: #bfbf7f; text-decoration-color: #bfbf7f\">Executing Task...</span>\n",
       "    └── <span style=\"color: #008000; text-decoration-color: #008000; font-weight: bold\">🤖 Agent: </span><span style=\"color: #008000; text-decoration-color: #008000\">Technical Interview Question Generator</span>\n",
       "        <span style=\"color: #c0c0c0; text-decoration-color: #c0c0c0\">    Status: </span><span style=\"color: #008000; text-decoration-color: #008000; font-weight: bold\">In Progress</span>\n",
       "        └── <span style=\"color: #808000; text-decoration-color: #808000; font-weight: bold\">🔧 </span><span style=\"color: #808000; text-decoration-color: #808000\">Using Search Tool (10)</span>\n",
       "</pre>\n"
      ],
      "text/plain": [
       "\u001b[1;36m🚀 Crew: \u001b[0m\u001b[1;36mcrew\u001b[0m\n",
       "└── \u001b[1;33m📋 Task: 03002f2d-c55e-41b5-9077-ccc9e2c1bed7\u001b[0m\n",
       "    \u001b[37m   Status: \u001b[0m\u001b[2;33mExecuting Task...\u001b[0m\n",
       "    └── \u001b[1;32m🤖 Agent: \u001b[0m\u001b[32mTechnical Interview Question Generator\u001b[0m\n",
       "        \u001b[37m    Status: \u001b[0m\u001b[1;32mIn Progress\u001b[0m\n",
       "        └── \u001b[1;33m🔧 \u001b[0m\u001b[33mUsing Search Tool (10)\u001b[0m\n"
      ]
     },
     "metadata": {},
     "output_type": "display_data"
    },
    {
     "data": {
      "text/html": [
       "<pre style=\"white-space:pre;overflow-x:auto;line-height:normal;font-family:Menlo,'DejaVu Sans Mono',consolas,'Courier New',monospace\">\n",
       "</pre>\n"
      ],
      "text/plain": [
       "\n"
      ]
     },
     "metadata": {},
     "output_type": "display_data"
    },
    {
     "data": {
      "text/html": [
       "<pre style=\"white-space:pre;overflow-x:auto;line-height:normal;font-family:Menlo,'DejaVu Sans Mono',consolas,'Courier New',monospace\"><span style=\"color: #008080; text-decoration-color: #008080; font-weight: bold\">🚀 Crew: crew</span>\n",
       "└── <span style=\"color: #808000; text-decoration-color: #808000; font-weight: bold\">📋 Task: 03002f2d-c55e-41b5-9077-ccc9e2c1bed7</span>\n",
       "    <span style=\"color: #c0c0c0; text-decoration-color: #c0c0c0\">   Status: </span><span style=\"color: #bfbf7f; text-decoration-color: #bfbf7f\">Executing Task...</span>\n",
       "    └── <span style=\"color: #008000; text-decoration-color: #008000; font-weight: bold\">🤖 Agent: </span><span style=\"color: #008000; text-decoration-color: #008000\">Technical Interview Question Generator</span>\n",
       "        <span style=\"color: #c0c0c0; text-decoration-color: #c0c0c0\">    Status: </span><span style=\"color: #008000; text-decoration-color: #008000; font-weight: bold\">In Progress</span>\n",
       "        └── <span style=\"color: #008000; text-decoration-color: #008000; font-weight: bold\">🔧 </span><span style=\"color: #008000; text-decoration-color: #008000\">Used Search Tool (10)</span>\n",
       "</pre>\n"
      ],
      "text/plain": [
       "\u001b[1;36m🚀 Crew: \u001b[0m\u001b[1;36mcrew\u001b[0m\n",
       "└── \u001b[1;33m📋 Task: 03002f2d-c55e-41b5-9077-ccc9e2c1bed7\u001b[0m\n",
       "    \u001b[37m   Status: \u001b[0m\u001b[2;33mExecuting Task...\u001b[0m\n",
       "    └── \u001b[1;32m🤖 Agent: \u001b[0m\u001b[32mTechnical Interview Question Generator\u001b[0m\n",
       "        \u001b[37m    Status: \u001b[0m\u001b[1;32mIn Progress\u001b[0m\n",
       "        └── \u001b[1;32m🔧 \u001b[0m\u001b[32mUsed Search Tool (10)\u001b[0m\n"
      ]
     },
     "metadata": {},
     "output_type": "display_data"
    },
    {
     "data": {
      "text/html": [
       "<pre style=\"white-space:pre;overflow-x:auto;line-height:normal;font-family:Menlo,'DejaVu Sans Mono',consolas,'Courier New',monospace\">\n",
       "</pre>\n"
      ],
      "text/plain": [
       "\n"
      ]
     },
     "metadata": {},
     "output_type": "display_data"
    },
    {
     "name": "stdout",
     "output_type": "stream",
     "text": [
      "\n",
      "\n",
      "\u001b[1m\u001b[95m# Agent:\u001b[00m \u001b[1m\u001b[92mTechnical Interview Question Generator\u001b[00m\n",
      "\u001b[95m## Thought:\u001b[00m \u001b[92mtool_code\n",
      "Thought: I have gathered additional information from Nandini Kuppala's GitHub profile.  Now I can formulate more specific and targeted interview questions.\u001b[00m\n",
      "\u001b[95m## Using tool:\u001b[00m \u001b[92mSearch Tool\u001b[00m\n",
      "\u001b[95m## Tool Input:\u001b[00m \u001b[92m\n",
      "\"{\\\"query\\\": \\\"Deepfake detection using MTCNN, ResNet, and LSTM\\\"}\"\u001b[00m\n",
      "\u001b[95m## Tool Output:\u001b[00m \u001b[92m\n",
      "{\"searchParameters\":{\"q\":\"Deepfake detection using MTCNN, ResNet, and LSTM\",\"type\":\"search\",\"engine\":\"google\"},\"organic\":[{\"title\":\"Deepfake detection using Deep Learning (ResNext and LSTM)\",\"link\":\"https://github.com/0904-mansi/Deepfake_detection_using_deep_learning\",\"snippet\":\"This projects aims in detection of video deepfakes using deep learning techniques like ResNext and LSTM.\",\"position\":1},{\"title\":\"[PDF] Deepfake Detection Using LSTM and RESNEXT50 - PhilArchive\",\"link\":\"https://philarchive.org/archive/CILDDU\",\"snippet\":\"This study promotes the research in the field of deep learning and deepfake detection. The main focus is on Long-Short Term Memory (LSTM), Convolution Neural ...\",\"position\":2},{\"title\":\"thepranays/deepfake_detection: Deepfake detection using ... - GitHub\",\"link\":\"https://github.com/thepranays/deepfake_detection\",\"snippet\":\"Deepfake detection using MTCNN, ResNet, LSTM, Active Learning - thepranays/deepfake_detection.\",\"position\":3},{\"title\":\"[PDF] DEEPFAKE DETECTION USING LSTM AND RESNEXT\",\"link\":\"https://jespublication.com/upload/2022-V13I7029.pdf\",\"snippet\":\"The project deals with detection of deepfakes using Renext and LSTMs and packages the benefits of deep learning to detect deepfakes in the form of a Django web ...\",\"position\":4},{\"title\":\"[PDF] DeepFake Detection using InceptionResNetV2 and LSTM\",\"link\":\"https://ceur-ws.org/Vol-3058/Paper-034.pdf\",\"snippet\":\"We aim in detection of video deepfakes using deep learning neural networks like LSTM and InceptionResNetV2. We succeeded to build deepfake detection model by ...\",\"position\":5},{\"title\":\"[PDF] DEEPFAKE DETECTION SYSTEM USING RESNET, LSTM AND ...\",\"link\":\"https://www.irjmets.com/uploadedfiles/paper//issue_12_december_2024/65596/final/fin_irjmets1735409201.pdf\",\"snippet\":\"To detect deepfake videos we will be using a deep neural network-based approach to solve our deepfake video detection problem. We have planned ...\",\"date\":\"Dec 28, 2024\",\"position\":6},{\"title\":\"[PDF] DEEPFAKE DETECTION USING MACHINE LEARNING - IRJET\",\"link\":\"https://www.irjet.net/archives/V12/i4/IRJET-V12I497.pdf\",\"snippet\":\"In this work, we propose a comprehensive machine learning- based system capable of detecting deepfakes in three distinct modalities: image, audio, and video.\",\"position\":7},{\"title\":\"Deepfake Video Detection Using Res-Next CNN and LSTM - IJRASET\",\"link\":\"https://www.ijraset.com/research-paper/deepfake-video-detection-using-res-next-cnn-and-lstm\",\"snippet\":\"A novel deep learning-based method has been created to distinguish between actual and AI-generated fraudulent videos to address this problem.\",\"position\":8},{\"title\":\"Deepfake Detection Using Deep Learning: ResNext and LSTM\",\"link\":\"https://www.researchgate.net/publication/387920523_Deepfake_Detection_Using_Deep_Learning_ResNext_and_LSTM\",\"snippet\":\"The current trend is using deeper CNN layers to improve performance. However, deep models demand larger computation resources and are not ...\",\"date\":\"Jan 14, 2025\",\"position\":9},{\"title\":\"Deep Fake Detection for Preventing Audio and Video Frauds Using ...\",\"link\":\"https://ieeexplore.ieee.org/document/10689785/\",\"snippet\":\"The researchers combined the ResNeXt, Long Short-Term Memory (LSTM), and ResNet ... (MTCNN), which facilitated the accurate extraction of facial regions.\",\"position\":10}],\"relatedSearches\":[{\"query\":\"lstm deepfake detection\"},{\"query\":\"real-time deepfake detection github\"},{\"query\":\"deepfake detection using inceptionv3 and gru\"},{\"query\":\"deepfake video detection using recurrent neural networks\"},{\"query\":\"iamdhrutipatel deepfake detection\"},{\"query\":\"deepfake video detection using convolutional vision transformer\"},{\"query\":\"deepfake detection extension\"},{\"query\":\"deepfake video detection python\"}],\"credits\":1}\u001b[00m\n"
     ]
    },
    {
     "data": {
      "text/html": [
       "<pre style=\"white-space:pre;overflow-x:auto;line-height:normal;font-family:Menlo,'DejaVu Sans Mono',consolas,'Courier New',monospace\"><span style=\"color: #008080; text-decoration-color: #008080; font-weight: bold\">🚀 Crew: crew</span>\n",
       "└── <span style=\"color: #808000; text-decoration-color: #808000; font-weight: bold\">📋 Task: 03002f2d-c55e-41b5-9077-ccc9e2c1bed7</span>\n",
       "    <span style=\"color: #c0c0c0; text-decoration-color: #c0c0c0\">   Status: </span><span style=\"color: #bfbf7f; text-decoration-color: #bfbf7f\">Executing Task...</span>\n",
       "    └── <span style=\"color: #008000; text-decoration-color: #008000; font-weight: bold\">🤖 Agent: </span><span style=\"color: #008000; text-decoration-color: #008000\">Technical Interview Question Generator</span>\n",
       "        <span style=\"color: #c0c0c0; text-decoration-color: #c0c0c0\">    Status: </span><span style=\"color: #008000; text-decoration-color: #008000; font-weight: bold\">In Progress</span>\n",
       "        ├── <span style=\"color: #008000; text-decoration-color: #008000; font-weight: bold\">🔧 </span><span style=\"color: #008000; text-decoration-color: #008000\">Used Search Tool (10)</span>\n",
       "        └── <span style=\"color: #000080; text-decoration-color: #000080; font-weight: bold\">🧠 </span><span style=\"color: #000080; text-decoration-color: #000080\">Thinking...</span>\n",
       "</pre>\n"
      ],
      "text/plain": [
       "\u001b[1;36m🚀 Crew: \u001b[0m\u001b[1;36mcrew\u001b[0m\n",
       "└── \u001b[1;33m📋 Task: 03002f2d-c55e-41b5-9077-ccc9e2c1bed7\u001b[0m\n",
       "    \u001b[37m   Status: \u001b[0m\u001b[2;33mExecuting Task...\u001b[0m\n",
       "    └── \u001b[1;32m🤖 Agent: \u001b[0m\u001b[32mTechnical Interview Question Generator\u001b[0m\n",
       "        \u001b[37m    Status: \u001b[0m\u001b[1;32mIn Progress\u001b[0m\n",
       "        ├── \u001b[1;32m🔧 \u001b[0m\u001b[32mUsed Search Tool (10)\u001b[0m\n",
       "        └── \u001b[1;34m🧠 \u001b[0m\u001b[34mThinking...\u001b[0m\n"
      ]
     },
     "metadata": {},
     "output_type": "display_data"
    },
    {
     "data": {
      "text/html": [
       "<pre style=\"white-space:pre;overflow-x:auto;line-height:normal;font-family:Menlo,'DejaVu Sans Mono',consolas,'Courier New',monospace\">\n",
       "</pre>\n"
      ],
      "text/plain": [
       "\n"
      ]
     },
     "metadata": {},
     "output_type": "display_data"
    },
    {
     "data": {
      "text/html": [
       "<pre style=\"white-space:pre;overflow-x:auto;line-height:normal;font-family:Menlo,'DejaVu Sans Mono',consolas,'Courier New',monospace\"><span style=\"color: #008080; text-decoration-color: #008080; font-weight: bold\">🚀 Crew: crew</span>\n",
       "└── <span style=\"color: #808000; text-decoration-color: #808000; font-weight: bold\">📋 Task: 03002f2d-c55e-41b5-9077-ccc9e2c1bed7</span>\n",
       "    <span style=\"color: #c0c0c0; text-decoration-color: #c0c0c0\">   Status: </span><span style=\"color: #bfbf7f; text-decoration-color: #bfbf7f\">Executing Task...</span>\n",
       "    └── <span style=\"color: #008000; text-decoration-color: #008000; font-weight: bold\">🤖 Agent: </span><span style=\"color: #008000; text-decoration-color: #008000\">Technical Interview Question Generator</span>\n",
       "        <span style=\"color: #c0c0c0; text-decoration-color: #c0c0c0\">    Status: </span><span style=\"color: #008000; text-decoration-color: #008000; font-weight: bold\">In Progress</span>\n",
       "        └── <span style=\"color: #008000; text-decoration-color: #008000; font-weight: bold\">🔧 </span><span style=\"color: #008000; text-decoration-color: #008000\">Used Search Tool (10)</span>\n",
       "</pre>\n"
      ],
      "text/plain": [
       "\u001b[1;36m🚀 Crew: \u001b[0m\u001b[1;36mcrew\u001b[0m\n",
       "└── \u001b[1;33m📋 Task: 03002f2d-c55e-41b5-9077-ccc9e2c1bed7\u001b[0m\n",
       "    \u001b[37m   Status: \u001b[0m\u001b[2;33mExecuting Task...\u001b[0m\n",
       "    └── \u001b[1;32m🤖 Agent: \u001b[0m\u001b[32mTechnical Interview Question Generator\u001b[0m\n",
       "        \u001b[37m    Status: \u001b[0m\u001b[1;32mIn Progress\u001b[0m\n",
       "        └── \u001b[1;32m🔧 \u001b[0m\u001b[32mUsed Search Tool (10)\u001b[0m\n"
      ]
     },
     "metadata": {},
     "output_type": "display_data"
    },
    {
     "data": {
      "text/html": [
       "<pre style=\"white-space:pre;overflow-x:auto;line-height:normal;font-family:Menlo,'DejaVu Sans Mono',consolas,'Courier New',monospace\">\n",
       "</pre>\n"
      ],
      "text/plain": [
       "\n"
      ]
     },
     "metadata": {},
     "output_type": "display_data"
    },
    {
     "name": "stdout",
     "output_type": "stream",
     "text": [
      "\n",
      "\n",
      "\u001b[1m\u001b[95m# Agent:\u001b[00m \u001b[1m\u001b[92mTechnical Interview Question Generator\u001b[00m\n",
      "\u001b[95m## Final Answer:\u001b[00m \u001b[92m\n",
      "```json\n",
      "{\n",
      "  \"questions\": [\n",
      "    {\n",
      "      \"question\": \"Your DeepFake Video Detection project utilized MTCNN, ResNet, and LSTM.  Describe the role of each component in your pipeline and the rationale behind your choice of these specific architectures.  Discuss any challenges you encountered and how you addressed them.  (Advanced)\",\n",
      "      \"assessment\": \"Assesses understanding of deep learning architectures, model selection, and practical implementation challenges.\",\n",
      "      \"good_answer\": \"Should demonstrate a clear understanding of each architecture's role (MTCNN for face detection, ResNet for feature extraction, LSTM for temporal analysis), justify the choices based on their strengths and weaknesses in the context of deepfake detection, and discuss challenges like data imbalance, computational cost, and achieving real-time performance.  Mentioning specific solutions implemented is crucial.\",\n",
      "      \"skill_area\": \"Deep Learning, Computer Vision, Problem-Solving\"\n",
      "    },\n",
      "    {\n",
      "      \"question\": \"In your Infosys internship, you built an NLP system for automating ticket classification and responses.  Describe your approach to feature engineering for this task.  What techniques did you use to handle noisy or ambiguous text data?  (Intermediate)\",\n",
      "      \"assessment\": \"Assesses understanding of NLP techniques, feature engineering, and handling real-world data challenges.\",\n",
      "      \"good_answer\": \"Should describe the feature engineering process, including techniques like TF-IDF, word embeddings (Word2Vec, GloVe, etc.), or other relevant methods.  Should discuss strategies for handling noisy data, such as stemming, lemmatization, stop word removal, and techniques for dealing with ambiguity, like using context-aware models or incorporating external knowledge bases.\",\n",
      "      \"skill_area\": \"NLP, Machine Learning, Data Preprocessing\"\n",
      "    },\n",
      "    {\n",
      "      \"question\": \"Your NurtureSync project used both Streamlit and Flask.  Compare and contrast these frameworks, highlighting their strengths and weaknesses in the context of your application.  If you were to rebuild NurtureSync today, would you choose the same technologies? Why or why not? (Intermediate)\",\n",
      "      \"assessment\": \"Assesses understanding of web frameworks and technology choices based on project requirements.\",\n",
      "      \"good_answer\": \"Should compare and contrast Streamlit's rapid prototyping capabilities and ease of use with Flask's flexibility and control.  Should justify the choices made in the original project and discuss whether those choices remain optimal given current needs and potential alternatives.  A good answer would consider factors like scalability, maintainability, and developer experience.\",\n",
      "      \"skill_area\": \"Web Development, Framework Selection\"\n",
      "    },\n",
      "    {\n",
      "      \"question\": \"You mentioned using Selenium for automated testing.  Describe a complex test scenario you automated using Selenium and the challenges you faced in designing and implementing that test.  (Intermediate)\",\n",
      "      \"assessment\": \"Assesses practical experience with automated testing and problem-solving in a testing context.\",\n",
      "      \"good_answer\": \"Should describe a specific test case, including the steps involved, the technologies used (e.g., specific Selenium commands, test frameworks like pytest or JUnit), and the challenges encountered (e.g., handling dynamic web elements, dealing with asynchronous operations, managing test data).  A strong answer would highlight problem-solving skills and demonstrate a deep understanding of testing principles.\",\n",
      "      \"skill_area\": \"Software Testing, Automation\"\n",
      "    },\n",
      "    {\n",
      "      \"question\": \"Let's say you need to design a system for real-time deepfake detection in a live video stream.  Describe the architecture of such a system, considering factors like scalability, latency, and accuracy.  What technologies would you choose and why?  (Advanced)\",\n",
      "      \"assessment\": \"Assesses system design skills, understanding of real-time constraints, and technology selection.\",\n",
      "      \"good_answer\": \"Should propose a system architecture that addresses real-time processing requirements, including considerations for efficient data pipelines, parallel processing, and low-latency inference.  Should justify technology choices (e.g., specific deep learning frameworks, hardware acceleration, cloud infrastructure) based on their suitability for real-time performance and scalability.  Should discuss trade-offs between accuracy, latency, and resource consumption.\",\n",
      "      \"skill_area\": \"System Design, Real-time Processing, Deep Learning\"\n",
      "    },\n",
      "    {\n",
      "      \"question\": \"You have extensive experience with Python.  However, the job description requires strong proficiency in JavaScript.  Let's say you need to integrate a Python-based machine learning model into a JavaScript frontend application.  How would you approach this problem?  What are the potential challenges and how would you overcome them? (Intermediate)\",\n",
      "      \"assessment\": \"Assesses adaptability and problem-solving skills in a cross-language integration scenario, addressing a specific skill gap.\",\n",
      "      \"good_answer\": \"Should demonstrate an understanding of different approaches to integrating Python and JavaScript, such as using REST APIs, WebAssembly, or a serverless architecture.  Should discuss potential challenges like data serialization, communication overhead, and security considerations, and propose solutions to address them.\",\n",
      "      \"skill_area\": \"Adaptability, Cross-Language Integration, Problem-Solving\"\n",
      "    },\n",
      "    {\n",
      "      \"question\": \"You've worked with both MySQL and MongoDB.  Describe a scenario where you would choose one over the other, justifying your decision based on the specific characteristics of each database and the requirements of the application. (Intermediate)\",\n",
      "      \"assessment\": \"Assesses understanding of database technologies and their appropriate use cases.\",\n",
      "      \"good_answer\": \"Should clearly articulate the differences between relational (MySQL) and NoSQL (MongoDB) databases, highlighting their strengths and weaknesses.  Should present a realistic scenario where one database is a better fit than the other, justifying the choice based on factors like data structure, scalability requirements, query patterns, and performance considerations.\",\n",
      "      \"skill_area\": \"Databases, Technology Selection\"\n",
      "    }\n",
      "  ]\n",
      "}\n",
      "```\u001b[00m\n",
      "\n",
      "\n"
     ]
    },
    {
     "data": {
      "text/html": [
       "<pre style=\"white-space:pre;overflow-x:auto;line-height:normal;font-family:Menlo,'DejaVu Sans Mono',consolas,'Courier New',monospace\"><span style=\"color: #008080; text-decoration-color: #008080; font-weight: bold\">🚀 Crew: crew</span>\n",
       "└── <span style=\"color: #808000; text-decoration-color: #808000; font-weight: bold\">📋 Task: 03002f2d-c55e-41b5-9077-ccc9e2c1bed7</span>\n",
       "    <span style=\"color: #c0c0c0; text-decoration-color: #c0c0c0\">   Status: </span><span style=\"color: #bfbf7f; text-decoration-color: #bfbf7f\">Executing Task...</span>\n",
       "    └── <span style=\"color: #008000; text-decoration-color: #008000; font-weight: bold\">🤖 Agent: </span><span style=\"color: #008000; text-decoration-color: #008000\">Technical Interview Question Generator</span>\n",
       "        <span style=\"color: #c0c0c0; text-decoration-color: #c0c0c0\">    Status: </span><span style=\"color: #008000; text-decoration-color: #008000; font-weight: bold\">✅ Completed</span>\n",
       "        └── <span style=\"color: #008000; text-decoration-color: #008000; font-weight: bold\">🔧 </span><span style=\"color: #008000; text-decoration-color: #008000\">Used Search Tool (10)</span>\n",
       "</pre>\n"
      ],
      "text/plain": [
       "\u001b[1;36m🚀 Crew: \u001b[0m\u001b[1;36mcrew\u001b[0m\n",
       "└── \u001b[1;33m📋 Task: 03002f2d-c55e-41b5-9077-ccc9e2c1bed7\u001b[0m\n",
       "    \u001b[37m   Status: \u001b[0m\u001b[2;33mExecuting Task...\u001b[0m\n",
       "    └── \u001b[1;32m🤖 Agent: \u001b[0m\u001b[32mTechnical Interview Question Generator\u001b[0m\n",
       "        \u001b[37m    Status: \u001b[0m\u001b[1;32m✅ Completed\u001b[0m\n",
       "        └── \u001b[1;32m🔧 \u001b[0m\u001b[32mUsed Search Tool (10)\u001b[0m\n"
      ]
     },
     "metadata": {},
     "output_type": "display_data"
    },
    {
     "data": {
      "text/html": [
       "<pre style=\"white-space:pre;overflow-x:auto;line-height:normal;font-family:Menlo,'DejaVu Sans Mono',consolas,'Courier New',monospace\">\n",
       "</pre>\n"
      ],
      "text/plain": [
       "\n"
      ]
     },
     "metadata": {},
     "output_type": "display_data"
    },
    {
     "data": {
      "text/html": [
       "<pre style=\"white-space:pre;overflow-x:auto;line-height:normal;font-family:Menlo,'DejaVu Sans Mono',consolas,'Courier New',monospace\"><span style=\"color: #008080; text-decoration-color: #008080; font-weight: bold\">🚀 Crew: crew</span>\n",
       "└── <span style=\"color: #008000; text-decoration-color: #008000; font-weight: bold\">📋 Task: 03002f2d-c55e-41b5-9077-ccc9e2c1bed7</span>\n",
       "    <span style=\"color: #c0c0c0; text-decoration-color: #c0c0c0\">   Assigned to: </span><span style=\"color: #008000; text-decoration-color: #008000\">Technical Interview Question Generator</span>\n",
       "    <span style=\"color: #c0c0c0; text-decoration-color: #c0c0c0\">   Status: </span><span style=\"color: #008000; text-decoration-color: #008000; font-weight: bold\">✅ Completed</span>\n",
       "    └── <span style=\"color: #008000; text-decoration-color: #008000; font-weight: bold\">🤖 Agent: </span><span style=\"color: #008000; text-decoration-color: #008000\">Technical Interview Question Generator</span>\n",
       "        <span style=\"color: #c0c0c0; text-decoration-color: #c0c0c0\">    Status: </span><span style=\"color: #008000; text-decoration-color: #008000; font-weight: bold\">✅ Completed</span>\n",
       "        └── <span style=\"color: #008000; text-decoration-color: #008000; font-weight: bold\">🔧 </span><span style=\"color: #008000; text-decoration-color: #008000\">Used Search Tool (10)</span>\n",
       "</pre>\n"
      ],
      "text/plain": [
       "\u001b[1;36m🚀 Crew: \u001b[0m\u001b[1;36mcrew\u001b[0m\n",
       "└── \u001b[1;32m📋 Task: 03002f2d-c55e-41b5-9077-ccc9e2c1bed7\u001b[0m\n",
       "    \u001b[37m   Assigned to: \u001b[0m\u001b[32mTechnical Interview Question Generator\u001b[0m\n",
       "    \u001b[37m   Status: \u001b[0m\u001b[1;32m✅ Completed\u001b[0m\n",
       "    └── \u001b[1;32m🤖 Agent: \u001b[0m\u001b[32mTechnical Interview Question Generator\u001b[0m\n",
       "        \u001b[37m    Status: \u001b[0m\u001b[1;32m✅ Completed\u001b[0m\n",
       "        └── \u001b[1;32m🔧 \u001b[0m\u001b[32mUsed Search Tool (10)\u001b[0m\n"
      ]
     },
     "metadata": {},
     "output_type": "display_data"
    },
    {
     "data": {
      "text/html": [
       "<pre style=\"white-space:pre;overflow-x:auto;line-height:normal;font-family:Menlo,'DejaVu Sans Mono',consolas,'Courier New',monospace\"><span style=\"color: #008000; text-decoration-color: #008000\">╭──────────────────────────────────────────────── Task Completion ────────────────────────────────────────────────╮</span>\n",
       "<span style=\"color: #008000; text-decoration-color: #008000\">│</span>                                                                                                                 <span style=\"color: #008000; text-decoration-color: #008000\">│</span>\n",
       "<span style=\"color: #008000; text-decoration-color: #008000\">│</span>  <span style=\"color: #008000; text-decoration-color: #008000; font-weight: bold\">Task Completed</span>                                                                                                 <span style=\"color: #008000; text-decoration-color: #008000\">│</span>\n",
       "<span style=\"color: #008000; text-decoration-color: #008000\">│</span>  <span style=\"color: #c0c0c0; text-decoration-color: #c0c0c0\">Name: </span><span style=\"color: #008000; text-decoration-color: #008000\">03002f2d-c55e-41b5-9077-ccc9e2c1bed7</span>                                                                     <span style=\"color: #008000; text-decoration-color: #008000\">│</span>\n",
       "<span style=\"color: #008000; text-decoration-color: #008000\">│</span>  <span style=\"color: #c0c0c0; text-decoration-color: #c0c0c0\">Agent: </span><span style=\"color: #008000; text-decoration-color: #008000\">Technical Interview Question Generator</span>                                                                  <span style=\"color: #008000; text-decoration-color: #008000\">│</span>\n",
       "<span style=\"color: #008000; text-decoration-color: #008000\">│</span>                                                                                                                 <span style=\"color: #008000; text-decoration-color: #008000\">│</span>\n",
       "<span style=\"color: #008000; text-decoration-color: #008000\">│</span>                                                                                                                 <span style=\"color: #008000; text-decoration-color: #008000\">│</span>\n",
       "<span style=\"color: #008000; text-decoration-color: #008000\">╰─────────────────────────────────────────────────────────────────────────────────────────────────────────────────╯</span>\n",
       "</pre>\n"
      ],
      "text/plain": [
       "\u001b[32m╭─\u001b[0m\u001b[32m───────────────────────────────────────────────\u001b[0m\u001b[32m Task Completion \u001b[0m\u001b[32m───────────────────────────────────────────────\u001b[0m\u001b[32m─╮\u001b[0m\n",
       "\u001b[32m│\u001b[0m                                                                                                                 \u001b[32m│\u001b[0m\n",
       "\u001b[32m│\u001b[0m  \u001b[1;32mTask Completed\u001b[0m                                                                                                 \u001b[32m│\u001b[0m\n",
       "\u001b[32m│\u001b[0m  \u001b[37mName: \u001b[0m\u001b[32m03002f2d-c55e-41b5-9077-ccc9e2c1bed7\u001b[0m                                                                     \u001b[32m│\u001b[0m\n",
       "\u001b[32m│\u001b[0m  \u001b[37mAgent: \u001b[0m\u001b[32mTechnical Interview Question Generator\u001b[0m                                                                  \u001b[32m│\u001b[0m\n",
       "\u001b[32m│\u001b[0m                                                                                                                 \u001b[32m│\u001b[0m\n",
       "\u001b[32m│\u001b[0m                                                                                                                 \u001b[32m│\u001b[0m\n",
       "\u001b[32m╰─────────────────────────────────────────────────────────────────────────────────────────────────────────────────╯\u001b[0m\n"
      ]
     },
     "metadata": {},
     "output_type": "display_data"
    },
    {
     "data": {
      "text/html": [
       "<pre style=\"white-space:pre;overflow-x:auto;line-height:normal;font-family:Menlo,'DejaVu Sans Mono',consolas,'Courier New',monospace\">\n",
       "</pre>\n"
      ],
      "text/plain": [
       "\n"
      ]
     },
     "metadata": {},
     "output_type": "display_data"
    },
    {
     "data": {
      "text/html": [
       "<pre style=\"white-space:pre;overflow-x:auto;line-height:normal;font-family:Menlo,'DejaVu Sans Mono',consolas,'Courier New',monospace\"><span style=\"color: #008000; text-decoration-color: #008000\">╭──────────────────────────────────────────────── Crew Completion ────────────────────────────────────────────────╮</span>\n",
       "<span style=\"color: #008000; text-decoration-color: #008000\">│</span>                                                                                                                 <span style=\"color: #008000; text-decoration-color: #008000\">│</span>\n",
       "<span style=\"color: #008000; text-decoration-color: #008000\">│</span>  <span style=\"color: #008000; text-decoration-color: #008000; font-weight: bold\">Crew Execution Completed</span>                                                                                       <span style=\"color: #008000; text-decoration-color: #008000\">│</span>\n",
       "<span style=\"color: #008000; text-decoration-color: #008000\">│</span>  <span style=\"color: #c0c0c0; text-decoration-color: #c0c0c0\">Name: </span><span style=\"color: #008000; text-decoration-color: #008000\">crew</span>                                                                                                     <span style=\"color: #008000; text-decoration-color: #008000\">│</span>\n",
       "<span style=\"color: #008000; text-decoration-color: #008000\">│</span>  <span style=\"color: #c0c0c0; text-decoration-color: #c0c0c0\">ID: </span><span style=\"color: #008000; text-decoration-color: #008000\">1986694a-2238-47ef-967a-b934073bd9f5</span>                                                                       <span style=\"color: #008000; text-decoration-color: #008000\">│</span>\n",
       "<span style=\"color: #008000; text-decoration-color: #008000\">│</span>                                                                                                                 <span style=\"color: #008000; text-decoration-color: #008000\">│</span>\n",
       "<span style=\"color: #008000; text-decoration-color: #008000\">│</span>                                                                                                                 <span style=\"color: #008000; text-decoration-color: #008000\">│</span>\n",
       "<span style=\"color: #008000; text-decoration-color: #008000\">╰─────────────────────────────────────────────────────────────────────────────────────────────────────────────────╯</span>\n",
       "</pre>\n"
      ],
      "text/plain": [
       "\u001b[32m╭─\u001b[0m\u001b[32m───────────────────────────────────────────────\u001b[0m\u001b[32m Crew Completion \u001b[0m\u001b[32m───────────────────────────────────────────────\u001b[0m\u001b[32m─╮\u001b[0m\n",
       "\u001b[32m│\u001b[0m                                                                                                                 \u001b[32m│\u001b[0m\n",
       "\u001b[32m│\u001b[0m  \u001b[1;32mCrew Execution Completed\u001b[0m                                                                                       \u001b[32m│\u001b[0m\n",
       "\u001b[32m│\u001b[0m  \u001b[37mName: \u001b[0m\u001b[32mcrew\u001b[0m                                                                                                     \u001b[32m│\u001b[0m\n",
       "\u001b[32m│\u001b[0m  \u001b[37mID: \u001b[0m\u001b[32m1986694a-2238-47ef-967a-b934073bd9f5\u001b[0m                                                                       \u001b[32m│\u001b[0m\n",
       "\u001b[32m│\u001b[0m                                                                                                                 \u001b[32m│\u001b[0m\n",
       "\u001b[32m│\u001b[0m                                                                                                                 \u001b[32m│\u001b[0m\n",
       "\u001b[32m╰─────────────────────────────────────────────────────────────────────────────────────────────────────────────────╯\u001b[0m\n"
      ]
     },
     "metadata": {},
     "output_type": "display_data"
    },
    {
     "data": {
      "text/html": [
       "<pre style=\"white-space:pre;overflow-x:auto;line-height:normal;font-family:Menlo,'DejaVu Sans Mono',consolas,'Courier New',monospace\">\n",
       "</pre>\n"
      ],
      "text/plain": [
       "\n"
      ]
     },
     "metadata": {},
     "output_type": "display_data"
    },
    {
     "name": "stdout",
     "output_type": "stream",
     "text": [
      "\n",
      "Interview questions generated!\n",
      "\n",
      "Generating final assessment summary...\n"
     ]
    },
    {
     "data": {
      "text/html": [
       "<pre style=\"white-space:pre;overflow-x:auto;line-height:normal;font-family:Menlo,'DejaVu Sans Mono',consolas,'Courier New',monospace\"><span style=\"color: #008080; text-decoration-color: #008080\">╭──────────────────────────────────────────── Crew Execution Started ─────────────────────────────────────────────╮</span>\n",
       "<span style=\"color: #008080; text-decoration-color: #008080\">│</span>                                                                                                                 <span style=\"color: #008080; text-decoration-color: #008080\">│</span>\n",
       "<span style=\"color: #008080; text-decoration-color: #008080\">│</span>  <span style=\"color: #008080; text-decoration-color: #008080; font-weight: bold\">Crew Execution Started</span>                                                                                         <span style=\"color: #008080; text-decoration-color: #008080\">│</span>\n",
       "<span style=\"color: #008080; text-decoration-color: #008080\">│</span>  <span style=\"color: #c0c0c0; text-decoration-color: #c0c0c0\">Name: </span><span style=\"color: #008080; text-decoration-color: #008080\">crew</span>                                                                                                     <span style=\"color: #008080; text-decoration-color: #008080\">│</span>\n",
       "<span style=\"color: #008080; text-decoration-color: #008080\">│</span>  <span style=\"color: #c0c0c0; text-decoration-color: #c0c0c0\">ID: </span><span style=\"color: #008080; text-decoration-color: #008080\">cdcf8647-1fd7-44c1-ab40-00e15b51a4c5</span>                                                                       <span style=\"color: #008080; text-decoration-color: #008080\">│</span>\n",
       "<span style=\"color: #008080; text-decoration-color: #008080\">│</span>                                                                                                                 <span style=\"color: #008080; text-decoration-color: #008080\">│</span>\n",
       "<span style=\"color: #008080; text-decoration-color: #008080\">│</span>                                                                                                                 <span style=\"color: #008080; text-decoration-color: #008080\">│</span>\n",
       "<span style=\"color: #008080; text-decoration-color: #008080\">╰─────────────────────────────────────────────────────────────────────────────────────────────────────────────────╯</span>\n",
       "</pre>\n"
      ],
      "text/plain": [
       "\u001b[36m╭─\u001b[0m\u001b[36m───────────────────────────────────────────\u001b[0m\u001b[36m Crew Execution Started \u001b[0m\u001b[36m────────────────────────────────────────────\u001b[0m\u001b[36m─╮\u001b[0m\n",
       "\u001b[36m│\u001b[0m                                                                                                                 \u001b[36m│\u001b[0m\n",
       "\u001b[36m│\u001b[0m  \u001b[1;36mCrew Execution Started\u001b[0m                                                                                         \u001b[36m│\u001b[0m\n",
       "\u001b[36m│\u001b[0m  \u001b[37mName: \u001b[0m\u001b[36mcrew\u001b[0m                                                                                                     \u001b[36m│\u001b[0m\n",
       "\u001b[36m│\u001b[0m  \u001b[37mID: \u001b[0m\u001b[36mcdcf8647-1fd7-44c1-ab40-00e15b51a4c5\u001b[0m                                                                       \u001b[36m│\u001b[0m\n",
       "\u001b[36m│\u001b[0m                                                                                                                 \u001b[36m│\u001b[0m\n",
       "\u001b[36m│\u001b[0m                                                                                                                 \u001b[36m│\u001b[0m\n",
       "\u001b[36m╰─────────────────────────────────────────────────────────────────────────────────────────────────────────────────╯\u001b[0m\n"
      ]
     },
     "metadata": {},
     "output_type": "display_data"
    },
    {
     "data": {
      "text/html": [
       "<pre style=\"white-space:pre;overflow-x:auto;line-height:normal;font-family:Menlo,'DejaVu Sans Mono',consolas,'Courier New',monospace\">\n",
       "</pre>\n"
      ],
      "text/plain": [
       "\n"
      ]
     },
     "metadata": {},
     "output_type": "display_data"
    },
    {
     "data": {
      "text/html": [
       "<pre style=\"white-space:pre;overflow-x:auto;line-height:normal;font-family:Menlo,'DejaVu Sans Mono',consolas,'Courier New',monospace\"><span style=\"color: #008080; text-decoration-color: #008080; font-weight: bold\">🚀 Crew: crew</span>\n",
       "└── <span style=\"color: #808000; text-decoration-color: #808000; font-weight: bold\">📋 Task: 7d8ae262-63f3-48d1-a6ad-1c1229f1ca05</span>\n",
       "    <span style=\"color: #c0c0c0; text-decoration-color: #c0c0c0\">   Status: </span><span style=\"color: #bfbf7f; text-decoration-color: #bfbf7f\">Executing Task...</span>\n",
       "</pre>\n"
      ],
      "text/plain": [
       "\u001b[1;36m🚀 Crew: \u001b[0m\u001b[1;36mcrew\u001b[0m\n",
       "└── \u001b[1;33m📋 Task: 7d8ae262-63f3-48d1-a6ad-1c1229f1ca05\u001b[0m\n",
       "    \u001b[37m   Status: \u001b[0m\u001b[2;33mExecuting Task...\u001b[0m\n"
      ]
     },
     "metadata": {},
     "output_type": "display_data"
    },
    {
     "data": {
      "text/html": [
       "<pre style=\"white-space:pre;overflow-x:auto;line-height:normal;font-family:Menlo,'DejaVu Sans Mono',consolas,'Courier New',monospace\">\n",
       "</pre>\n"
      ],
      "text/plain": [
       "\n"
      ]
     },
     "metadata": {},
     "output_type": "display_data"
    },
    {
     "data": {
      "text/html": [
       "<pre style=\"white-space:pre;overflow-x:auto;line-height:normal;font-family:Menlo,'DejaVu Sans Mono',consolas,'Courier New',monospace\"><span style=\"color: #008080; text-decoration-color: #008080; font-weight: bold\">🚀 Crew: crew</span>\n",
       "└── <span style=\"color: #808000; text-decoration-color: #808000; font-weight: bold\">📋 Task: 7d8ae262-63f3-48d1-a6ad-1c1229f1ca05</span>\n",
       "    <span style=\"color: #c0c0c0; text-decoration-color: #c0c0c0\">   Status: </span><span style=\"color: #bfbf7f; text-decoration-color: #bfbf7f\">Executing Task...</span>\n",
       "    └── <span style=\"color: #008000; text-decoration-color: #008000; font-weight: bold\">🤖 Agent: </span><span style=\"color: #008000; text-decoration-color: #008000\">Assessment Summary Specialist</span>\n",
       "        <span style=\"color: #c0c0c0; text-decoration-color: #c0c0c0\">    Status: </span><span style=\"color: #008000; text-decoration-color: #008000; font-weight: bold\">In Progress</span>\n",
       "</pre>\n"
      ],
      "text/plain": [
       "\u001b[1;36m🚀 Crew: \u001b[0m\u001b[1;36mcrew\u001b[0m\n",
       "└── \u001b[1;33m📋 Task: 7d8ae262-63f3-48d1-a6ad-1c1229f1ca05\u001b[0m\n",
       "    \u001b[37m   Status: \u001b[0m\u001b[2;33mExecuting Task...\u001b[0m\n",
       "    └── \u001b[1;32m🤖 Agent: \u001b[0m\u001b[32mAssessment Summary Specialist\u001b[0m\n",
       "        \u001b[37m    Status: \u001b[0m\u001b[1;32mIn Progress\u001b[0m\n"
      ]
     },
     "metadata": {},
     "output_type": "display_data"
    },
    {
     "data": {
      "text/html": [
       "<pre style=\"white-space:pre;overflow-x:auto;line-height:normal;font-family:Menlo,'DejaVu Sans Mono',consolas,'Courier New',monospace\">\n",
       "</pre>\n"
      ],
      "text/plain": [
       "\n"
      ]
     },
     "metadata": {},
     "output_type": "display_data"
    },
    {
     "name": "stdout",
     "output_type": "stream",
     "text": [
      "\u001b[1m\u001b[95m# Agent:\u001b[00m \u001b[1m\u001b[92mAssessment Summary Specialist\u001b[00m\n",
      "\u001b[95m## Task:\u001b[00m \u001b[92m\n",
      "        Create a compelling, visually engaging, and concise assessment summary based on:\n",
      "\n",
      "        Resume Information:\n",
      "        {\n",
      "  \"personal_information\": {\n",
      "    \"name\": \"NANDINI KUPPALA\",\n",
      "    \"contact\": {\n",
      "      \"phone\": \"+91 7569056212\",\n",
      "      \"email\": \"knandini7816@gmail.com\",\n",
      "      \"linkedin\": \"https://www.linkedin.com/in/nandini-kuppala/\",\n",
      "      \"github\": \"https://github.com/nandini-kuppala\"\n",
      "    }\n",
      "  },\n",
      "  \"skills\": {\n",
      "    \"languages\": [\n",
      "      \"Python\",\n",
      "      \"Dart\",\n",
      "      \"JavaScript\",\n",
      "      \"C\"\n",
      "    ],\n",
      "    \"frameworks\": [\n",
      "      \"Flutter\",\n",
      "      \"Flask\",\n",
      "      \"Streamlit\"\n",
      "    ],\n",
      "    \"tools\": [\n",
      "      \"Git\",\n",
      "      \"Docker\",\n",
      "      \"Selenium\",\n",
      "      \"Firebase\",\n",
      "      \"MySQL\",\n",
      "      \"MongoDB\",\n",
      "      \"Linux\"\n",
      "    ],\n",
      "    \"ai_and_development\": [\n",
      "      \"Generative AI\",\n",
      "      \"ML\",\n",
      "      \"DL\",\n",
      "      \"NLP\",\n",
      "      \"Computer Vision\",\n",
      "      \"Data Structures\",\n",
      "      \"Agile\",\n",
      "      \"Testing\"\n",
      "    ]\n",
      "  },\n",
      "  \"work_experience\": [\n",
      "    {\n",
      "      \"title\": \"Infosys Springboard Internship 5.O (AI Project Intern)\",\n",
      "      \"company\": \"Infosys\",\n",
      "      \"dates\": \"December 2024 - Present\",\n",
      "      \"responsibilities\": [\n",
      "        \"Led a team of five interns and built an AI system using NLP to automate ticket classification and responses.\",\n",
      "        \"Integrated with helpdesk platforms to enhance efficiency and reduce resolution time.\"\n",
      "      ]\n",
      "    },\n",
      "    {\n",
      "      \"title\": \"Research Experience\",\n",
      "      \"company\": null,\n",
      "      \"dates\": \"October 2023 \\u2013 Present\",\n",
      "      \"responsibilities\": [\n",
      "        \"Worked on real-time machine learning projects using LANDSAT data to monitor rangeland vegetation.\",\n",
      "        \"Contributed to a 30% increase in profitability for Wyoming farmers.\"\n",
      "      ],\n",
      "      \"mentors\": [\n",
      "        \"Dr. Ramesh Sivanpillai (University of Wyoming)\",\n",
      "        \"Dr. Sajith Variyar (Amrita School of AI)\"\n",
      "      ]\n",
      "    },\n",
      "    {\n",
      "      \"title\": \"Campus Ambassador\",\n",
      "      \"company\": \"E-Cell IIT Bombay\",\n",
      "      \"dates\": \"August 2024 \\u2013 December 2024\",\n",
      "      \"responsibilities\": [\n",
      "        \"Organized events and competitions reaching over 200 participants, promoting entrepreneurship in college.\"\n",
      "      ]\n",
      "    },\n",
      "    {\n",
      "      \"title\": \"Security and Software Testing Intern\",\n",
      "      \"company\": \"Baavlibuch\",\n",
      "      \"dates\": \"February 2024 \\u2013 April 2024\",\n",
      "      \"responsibilities\": [\n",
      "        \"Automated testing procedures, reducing manual testing effort by 40% and accelerating test case execution by 25%.\",\n",
      "        \"Debugged and fixed critical application bugs, enhancing stability and performance by 30%.\",\n",
      "        \"Implemented and managed testing environments in Linux, significantly improving security and data protection.\"\n",
      "      ]\n",
      "    }\n",
      "  ],\n",
      "  \"education\": {\n",
      "    \"degree\": \"Bachelor of Engineering in Artificial Intelligence\",\n",
      "    \"institution\": \"Amrita Vishwa Vidyapeetham\",\n",
      "    \"location\": \"Coimbatore, Tamil Nadu\",\n",
      "    \"cgpa\": \"8.02\",\n",
      "    \"dates\": \"2022 \\u2013 2026\"\n",
      "  },\n",
      "  \"projects\": [\n",
      "    {\n",
      "      \"name\": \"NurtureSync: A Health Care Companion\",\n",
      "      \"description\": \"Developed a mobile and web app platform to manage chronic diseases like thyroid and diabetes. Features include personalized feedback, medical report analysis, health tracking, and a healthcare community.\",\n",
      "      \"technologies\": [\n",
      "        \"Web \\u2013 Streamlit, MongoDB, Firebase, Flask; Mobile \\u2013 Flutter, Firebase, MongoDB\"\n",
      "      ],\n",
      "      \"link\": \"https://nurturesynchealth.streamlit.app/\"\n",
      "    },\n",
      "    {\n",
      "      \"name\": \"DeepFake Video Detection\",\n",
      "      \"description\": \"Improved the model\\u2019s accuracy by 15% in detecting DeepFake videos using a pipeline of MTCNN for face detection, ResNet for feature extraction, and LSTM for temporal analysis. Developed a Chrome extension for DeepFake image detection and working towards real-time video detection\",\n",
      "      \"technologies\": [\n",
      "        \"MTCNN\",\n",
      "        \"ResNet\",\n",
      "        \"LSTM\"\n",
      "      ],\n",
      "      \"link\": \"https://github.com/nandini-queen-of-my-world/Deepfake-detection\"\n",
      "    }\n",
      "  ],\n",
      "  \"achievements\": [\n",
      "    \"Finalist at the Health Hackathon by Johns Hopkins University at VIT Bhopal, selected from 232 teams and over 1,300 participants for the project NurtureSync.\"\n",
      "  ],\n",
      "  \"publications\": [\n",
      "    {\n",
      "      \"title\": \"Mapping Vegetation Dynamics in Wyoming: A Multi-Temporal Analysis Using Landsat NDVI and Clustering\",\n",
      "      \"venue\": \"ASPRS International Technical Symposium 2024\",\n",
      "      \"link\": \"https://isprs-archives.copernicus.org/articles/XLVIII-M-5-2024/87/2025/\"\n",
      "    },\n",
      "    {\n",
      "      \"title\": \"Preterm Birth Prediction Using GraphSAGE and Electrohysterogram Data\",\n",
      "      \"venue\": \"IEEE Eleventh International Conference on Biosignals, Images, and Instrumentation (ICBSII)\",\n",
      "      \"link\": \"https://isprs-archives.copernicus.org/articles/XLVIII-M-5-2024/87/2025/\"\n",
      "    }\n",
      "  ],\n",
      "  \"profiles\": {\n",
      "    \"leetcode\": \"https://leetcode.com/u/Nandini_Queen/\",\n",
      "    \"geeksforgeeks\": \"https://www.geeksforgeeks.org/user/knandin8fsf/\",\n",
      "    \"hackerrank\": \"https://www.hackerrank.com/profile/knandini7816\"\n",
      "  },\n",
      "  \"certifications\": [\n",
      "    {\n",
      "      \"name\": \"Artificial Intelligence Course Series (118 hr length)\",\n",
      "      \"provider\": \"Infosys Springboard\",\n",
      "      \"link\": \"https://infyspringboard.onwingspan.com/web/en/app/profile/competency/certificate\"\n",
      "    },\n",
      "    {\n",
      "      \"name\": \"Agile Scrum in Practice\",\n",
      "      \"provider\": \"Infosys Springboard\",\n",
      "      \"link\": \"https://infyspringboard.onwingspan.com/web/en/app/profile/competency/certificate\"\n",
      "    },\n",
      "    {\n",
      "      \"name\": \"Data Structures and Performance\",\n",
      "      \"provider\": \"Coursera\",\n",
      "      \"link\": \"https://coursera.org/share/1d4edbf7bd94d9c9409693f3ed34623e\"\n",
      "    },\n",
      "    {\n",
      "      \"name\": \"Python Basic, Problem Solving Basic\",\n",
      "      \"provider\": \"Hacker Rank\",\n",
      "      \"link\": \"https://www.hackerrank.com/certificates/29cd025a29fc\"\n",
      "    }\n",
      "  ]\n",
      "}\n",
      "\n",
      "        Profile Data:\n",
      "        {\n",
      "  \"leetcode\": {\n",
      "    \"username\": \"Nandini_Queen\",\n",
      "    \"total_problems_solved\": 272,\n",
      "    \"problems_by_difficulty\": {\n",
      "      \"All\": 136,\n",
      "      \"Easy\": 58,\n",
      "      \"Medium\": 68,\n",
      "      \"Hard\": 10\n",
      "    },\n",
      "    \"ranking\": 883997,\n",
      "    \"reputation\": 0,\n",
      "    \"badges\": [\n",
      "      \"Study Plan V2 Award\"\n",
      "    ]\n",
      "  },\n",
      "  \"geeksforgeeks\": {\n",
      "    \"notes\": \"Partial information found through search.  Multiple users with similar names exist.  Unable to definitively link to a specific profile with the available tools.\"\n",
      "  },\n",
      "  \"hackerrank\": {\n",
      "    \"notes\": \"No profile found using available tools and search.  Further investigation may be needed.\"\n",
      "  }\n",
      "}\n",
      "\n",
      "        Skill Evaluation:\n",
      "        {\n",
      "  \"languages\": {\n",
      "    \"Python\": {\n",
      "      \"rating\": 8,\n",
      "      \"claimed\": true,\n",
      "      \"demonstrated\": true,\n",
      "      \"evidence\": \"LeetCode profile (272 problems solved, including Medium and Hard), HackerRank certificate (Python Basic), projects (NurtureSync, DeepFake detection), research experience (LANDSAT data analysis)\",\n",
      "      \"notes\": \"Strong evidence of proficiency.  LeetCode performance indicates a good grasp of problem-solving and data structures.\"\n",
      "    },\n",
      "    \"Dart\": {\n",
      "      \"rating\": 7,\n",
      "      \"claimed\": true,\n",
      "      \"demonstrated\": true,\n",
      "      \"evidence\": \"Flutter mobile app development (NurtureSync)\",\n",
      "      \"notes\": \"Demonstrated through Flutter app development, but less extensive evidence compared to Python.\"\n",
      "    },\n",
      "    \"JavaScript\": {\n",
      "      \"rating\": 6,\n",
      "      \"claimed\": true,\n",
      "      \"demonstrated\": false,\n",
      "      \"evidence\": \"No direct evidence in resume or projects.\",\n",
      "      \"notes\": \"Claimed but no demonstrable evidence.\"\n",
      "    },\n",
      "    \"C\": {\n",
      "      \"rating\": 5,\n",
      "      \"claimed\": true,\n",
      "      \"demonstrated\": false,\n",
      "      \"evidence\": \"No direct evidence in resume or projects.\",\n",
      "      \"notes\": \"Claimed but no demonstrable evidence.\"\n",
      "    }\n",
      "  },\n",
      "  \"frameworks\": {\n",
      "    \"Flutter\": {\n",
      "      \"rating\": 7,\n",
      "      \"claimed\": true,\n",
      "      \"demonstrated\": true,\n",
      "      \"evidence\": \"Mobile app development (NurtureSync)\",\n",
      "      \"notes\": \"Demonstrated proficiency in building mobile apps.\"\n",
      "    },\n",
      "    \"Flask\": {\n",
      "      \"rating\": 6,\n",
      "      \"claimed\": true,\n",
      "      \"demonstrated\": true,\n",
      "      \"evidence\": \"Web app development (NurtureSync)\",\n",
      "      \"notes\": \"Used in a project, but the extent of expertise is unclear.\"\n",
      "    },\n",
      "    \"Streamlit\": {\n",
      "      \"rating\": 6,\n",
      "      \"claimed\": true,\n",
      "      \"demonstrated\": true,\n",
      "      \"evidence\": \"Web app development (NurtureSync)\",\n",
      "      \"notes\": \"Used in a project, but the extent of expertise is unclear.\"\n",
      "    }\n",
      "  },\n",
      "  \"tools\": {\n",
      "    \"Git\": {\n",
      "      \"rating\": 8,\n",
      "      \"claimed\": true,\n",
      "      \"demonstrated\": true,\n",
      "      \"evidence\": \"GitHub profile with multiple projects\",\n",
      "      \"notes\": \"Active use indicated by multiple projects on GitHub.\"\n",
      "    },\n",
      "    \"Docker\": {\n",
      "      \"rating\": 5,\n",
      "      \"claimed\": true,\n",
      "      \"demonstrated\": false,\n",
      "      \"evidence\": \"No direct evidence in resume or projects.\",\n",
      "      \"notes\": \"Claimed but no demonstrable evidence.\"\n",
      "    },\n",
      "    \"Selenium\": {\n",
      "      \"rating\": 7,\n",
      "      \"claimed\": true,\n",
      "      \"demonstrated\": true,\n",
      "      \"evidence\": \"Security and Software Testing Internship responsibilities (automated testing)\",\n",
      "      \"notes\": \"Demonstrated use in a professional setting.\"\n",
      "    },\n",
      "    \"Firebase\": {\n",
      "      \"rating\": 7,\n",
      "      \"claimed\": true,\n",
      "      \"demonstrated\": true,\n",
      "      \"evidence\": \"Used in NurtureSync project\",\n",
      "      \"notes\": \"Demonstrated use in a project.\"\n",
      "    },\n",
      "    \"MySQL\": {\n",
      "      \"rating\": 6,\n",
      "      \"claimed\": true,\n",
      "      \"demonstrated\": true,\n",
      "      \"evidence\": \"Used in NurtureSync project\",\n",
      "      \"notes\": \"Used in a project, but the extent of expertise is unclear.\"\n",
      "    },\n",
      "    \"MongoDB\": {\n",
      "      \"rating\": 7,\n",
      "      \"claimed\": true,\n",
      "      \"demonstrated\": true,\n",
      "      \"evidence\": \"Used in NurtureSync project\",\n",
      "      \"notes\": \"Demonstrated use in a project.\"\n",
      "    },\n",
      "    \"Linux\": {\n",
      "      \"rating\": 6,\n",
      "      \"claimed\": true,\n",
      "      \"demonstrated\": true,\n",
      "      \"evidence\": \"Security and Software Testing Internship responsibilities (managed testing environments)\",\n",
      "      \"notes\": \"Demonstrated use in a professional setting, but the depth of expertise is unclear.\"\n",
      "    }\n",
      "  },\n",
      "  \"AI and Development\": {\n",
      "    \"Generative AI\": {\n",
      "      \"rating\": 5,\n",
      "      \"claimed\": true,\n",
      "      \"demonstrated\": false,\n",
      "      \"evidence\": \"No direct evidence in resume or projects.\",\n",
      "      \"notes\": \"Claimed but no demonstrable evidence.\"\n",
      "    },\n",
      "    \"ML\": {\n",
      "      \"rating\": 7,\n",
      "      \"claimed\": true,\n",
      "      \"demonstrated\": true,\n",
      "      \"evidence\": \"Research experience (real-time machine learning projects), DeepFake detection project\",\n",
      "      \"notes\": \"Demonstrated through research and projects.\"\n",
      "    },\n",
      "    \"DL\": {\n",
      "      \"rating\": 7,\n",
      "      \"claimed\": true,\n",
      "      \"demonstrated\": true,\n",
      "      \"evidence\": \"DeepFake detection project (ResNet, LSTM)\",\n",
      "      \"notes\": \"Demonstrated through the DeepFake detection project.\"\n",
      "    },\n",
      "    \"NLP\": {\n",
      "      \"rating\": 7,\n",
      "      \"claimed\": true,\n",
      "      \"demonstrated\": true,\n",
      "      \"evidence\": \"Infosys internship (AI system using NLP)\",\n",
      "      \"notes\": \"Demonstrated through a professional internship project.\"\n",
      "    },\n",
      "    \"Computer Vision\": {\n",
      "      \"rating\": 7,\n",
      "      \"claimed\": true,\n",
      "      \"demonstrated\": true,\n",
      "      \"evidence\": \"DeepFake detection project (MTCNN)\",\n",
      "      \"notes\": \"Demonstrated through the DeepFake detection project.\"\n",
      "    },\n",
      "    \"Data Structures\": {\n",
      "      \"rating\": 8,\n",
      "      \"claimed\": true,\n",
      "      \"demonstrated\": true,\n",
      "      \"evidence\": \"Coursera certificate, LeetCode performance\",\n",
      "      \"notes\": \"Strong evidence from both certification and LeetCode performance.\"\n",
      "    },\n",
      "    \"Agile\": {\n",
      "      \"rating\": 6,\n",
      "      \"claimed\": true,\n",
      "      \"demonstrated\": true,\n",
      "      \"evidence\": \"Infosys Springboard certificate, work experience (campus ambassador)\",\n",
      "      \"notes\": \"Demonstrated through certification and work experience, but the depth of expertise is unclear.\"\n",
      "    },\n",
      "    \"Testing\": {\n",
      "      \"rating\": 7,\n",
      "      \"claimed\": true,\n",
      "      \"demonstrated\": true,\n",
      "      \"evidence\": \"Security and Software Testing Internship\",\n",
      "      \"notes\": \"Demonstrated through a professional internship.\"\n",
      "    }\n",
      "  },\n",
      "  \"overall_assessment\": {\n",
      "    \"practical_application\": \"Strong evidence of practical application across multiple projects and internships.  The candidate demonstrates the ability to apply learned skills to real-world problems.\",\n",
      "    \"depth_of_knowledge\": \"Good depth of knowledge in Python, ML, DL, NLP, and data structures.  Proficiency in other areas is less clear due to limited evidence.\",\n",
      "    \"learning_ability\": \"High learning ability and adaptability demonstrated by the diverse range of skills and projects undertaken in a relatively short period.  The candidate actively seeks out new challenges and learning opportunities.\",\n",
      "    \"strengths\": \"Python programming, ML/DL/NLP, data structures, problem-solving, mobile app development (Flutter), web app development (Flask, Streamlit), automated testing (Selenium)\",\n",
      "    \"growth_areas\": \"Expand experience with JavaScript and C.  Deepen expertise in Generative AI and Agile methodologies.  Gain experience with Docker and other DevOps tools.  Further develop theoretical understanding to complement practical skills.\",\n",
      "    \"specialization\": \"The candidate shows a strong inclination towards AI and machine learning, with a focus on practical application and project development.  While possessing a broad range of skills, the specialization leans towards AI/ML.\",\n",
      "    \"generalist\": \"The candidate demonstrates a good range of skills across different areas of software development and AI, but the specialization is clearly towards AI/ML.\"\n",
      "  }\n",
      "}\n",
      "\n",
      "        Job Match Assessment:\n",
      "        {\n",
      "  \"assessment\": {\n",
      "    \"essentialRequirements\": [\n",
      "      {\n",
      "        \"requirement\": \"5+ years of experience in software development\",\n",
      "        \"match\": {\n",
      "          \"percentage\": 70,\n",
      "          \"explanation\": \"While the candidate's resume doesn't explicitly state 5+ years of experience, the breadth and depth of projects, internships (including a significant security and software testing internship), and research experience suggest a comparable level of practical experience.  More information on the duration of each role would solidify this assessment.\"\n",
      "        }\n",
      "      },\n",
      "      {\n",
      "        \"requirement\": \"Strong proficiency in Python and JavaScript\",\n",
      "        \"match\": {\n",
      "          \"percentage\": 75,\n",
      "          \"explanation\": \"Python proficiency is strong (rating 8), demonstrated across multiple projects and LeetCode performance. However, JavaScript proficiency is claimed but lacks demonstrable evidence (rating 6, demonstrated: false). This is a significant gap for a senior full-stack role.\"\n",
      "        }\n",
      "      },\n",
      "      {\n",
      "        \"requirement\": \"Experience with React.js and Django\",\n",
      "        \"match\": {\n",
      "          \"percentage\": 30,\n",
      "          \"explanation\": \"No direct evidence of experience with React.js or Django.  The candidate uses Flask and Streamlit, which are related web frameworks, but don't directly translate to React.js and Django expertise. This is a critical gap.\"\n",
      "        }\n",
      "      },\n",
      "      {\n",
      "        \"requirement\": \"Knowledge of RESTful API design and implementation\",\n",
      "        \"match\": {\n",
      "          \"percentage\": 60,\n",
      "          \"explanation\": \"Indirect evidence suggests some familiarity through web application development (Flask, Streamlit), but the depth of knowledge is unclear.  Explicit mention or project examples demonstrating RESTful API design and implementation would improve this score.\"\n",
      "        }\n",
      "      },\n",
      "      {\n",
      "        \"requirement\": \"Experience with cloud platforms (AWS or Azure)\",\n",
      "        \"match\": {\n",
      "          \"percentage\": 0,\n",
      "          \"explanation\": \"No evidence of experience with AWS or Azure.\"\n",
      "        }\n",
      "      },\n",
      "      {\n",
      "        \"requirement\": \"Understanding of CI/CD pipelines and DevOps practices\",\n",
      "        \"match\": {\n",
      "          \"percentage\": 10,\n",
      "          \"explanation\": \"Limited evidence.  While Git usage is strong, there's no demonstrable experience with CI/CD pipelines or broader DevOps practices.  Docker experience is claimed but not demonstrated.\"\n",
      "        }\n",
      "      }\n",
      "    ],\n",
      "    \"preferredRequirements\": [\n",
      "      {\n",
      "        \"requirement\": \"Experience with TypeScript and Node.js\",\n",
      "        \"match\": {\n",
      "          \"percentage\": 0,\n",
      "          \"explanation\": \"No evidence of experience with TypeScript or Node.js.\"\n",
      "        }\n",
      "      },\n",
      "      {\n",
      "        \"requirement\": \"Knowledge of container technologies (Docker, Kubernetes)\",\n",
      "        \"match\": {\n",
      "          \"percentage\": 10,\n",
      "          \"explanation\": \"Docker is claimed but not demonstrated. No evidence of Kubernetes experience.\"\n",
      "        }\n",
      "      },\n",
      "      {\n",
      "        \"requirement\": \"Experience with database design and optimization\",\n",
      "        \"match\": {\n",
      "          \"percentage\": 60,\n",
      "          \"explanation\": \"Experience with MySQL and MongoDB is demonstrated, but the extent of expertise in database design and optimization is unclear.\"\n",
      "        }\n",
      "      },\n",
      "      {\n",
      "        \"requirement\": \"Familiarity with microservices architecture\",\n",
      "        \"match\": {\n",
      "          \"percentage\": 0,\n",
      "          \"explanation\": \"No evidence of familiarity with microservices architecture.\"\n",
      "        }\n",
      "      },\n",
      "      {\n",
      "        \"requirement\": \"Experience mentoring junior developers\",\n",
      "        \"match\": {\n",
      "          \"percentage\": 0,\n",
      "          \"explanation\": \"No evidence of experience mentoring junior developers.\"\n",
      "        }\n",
      "      }\n",
      "    ],\n",
      "    \"experienceLevel\": {\n",
      "      \"match\": {\n",
      "        \"percentage\": 70,\n",
      "        \"explanation\": \"The candidate's project portfolio and internship experiences suggest a level of practical experience comparable to a senior developer, but the lack of explicit 5+ years of experience and the gaps in essential requirements slightly lower the score.\"\n",
      "      }\n",
      "    },\n",
      "    \"culturalFit\": {\n",
      "      \"match\": {\n",
      "        \"percentage\": 80,\n",
      "        \"explanation\": \"The candidate demonstrates a strong learning ability, actively seeks new challenges, and possesses a diverse skillset.  These traits suggest a good potential for cultural fit, assuming the company values adaptability and continuous learning.\"\n",
      "      }\n",
      "    },\n",
      "    \"growthPotential\": {\n",
      "      \"match\": {\n",
      "        \"percentage\": 90,\n",
      "        \"explanation\": \"The candidate's demonstrated learning agility and diverse project experience indicate high growth potential.  The identified growth areas are addressable through focused learning and development.\"\n",
      "      }\n",
      "    },\n",
      "    \"overallMatch\": {\n",
      "      \"percentage\": 45,\n",
      "      \"explanation\": \"The overall match is moderate.  While the candidate possesses strong skills in Python and AI/ML, significant gaps exist in essential requirements like JavaScript, React.js, Django, cloud platforms, and CI/CD.  Addressing these gaps would significantly improve the candidate's suitability for the role.\"\n",
      "    }\n",
      "  }\n",
      "}\n",
      "\n",
      "        Suggested Interview Questions:\n",
      "        {\n",
      "  \"questions\": [\n",
      "    {\n",
      "      \"question\": \"Your DeepFake Video Detection project utilized MTCNN, ResNet, and LSTM.  Describe the role of each component in your pipeline and the rationale behind your choice of these specific architectures.  Discuss any challenges you encountered and how you addressed them.  (Advanced)\",\n",
      "      \"assessment\": \"Assesses understanding of deep learning architectures, model selection, and practical implementation challenges.\",\n",
      "      \"good_answer\": \"Should demonstrate a clear understanding of each architecture's role (MTCNN for face detection, ResNet for feature extraction, LSTM for temporal analysis), justify the choices based on their strengths and weaknesses in the context of deepfake detection, and discuss challenges like data imbalance, computational cost, and achieving real-time performance.  Mentioning specific solutions implemented is crucial.\",\n",
      "      \"skill_area\": \"Deep Learning, Computer Vision, Problem-Solving\"\n",
      "    },\n",
      "    {\n",
      "      \"question\": \"In your Infosys internship, you built an NLP system for automating ticket classification and responses.  Describe your approach to feature engineering for this task.  What techniques did you use to handle noisy or ambiguous text data?  (Intermediate)\",\n",
      "      \"assessment\": \"Assesses understanding of NLP techniques, feature engineering, and handling real-world data challenges.\",\n",
      "      \"good_answer\": \"Should describe the feature engineering process, including techniques like TF-IDF, word embeddings (Word2Vec, GloVe, etc.), or other relevant methods.  Should discuss strategies for handling noisy data, such as stemming, lemmatization, stop word removal, and techniques for dealing with ambiguity, like using context-aware models or incorporating external knowledge bases.\",\n",
      "      \"skill_area\": \"NLP, Machine Learning, Data Preprocessing\"\n",
      "    },\n",
      "    {\n",
      "      \"question\": \"Your NurtureSync project used both Streamlit and Flask.  Compare and contrast these frameworks, highlighting their strengths and weaknesses in the context of your application.  If you were to rebuild NurtureSync today, would you choose the same technologies? Why or why not? (Intermediate)\",\n",
      "      \"assessment\": \"Assesses understanding of web frameworks and technology choices based on project requirements.\",\n",
      "      \"good_answer\": \"Should compare and contrast Streamlit's rapid prototyping capabilities and ease of use with Flask's flexibility and control.  Should justify the choices made in the original project and discuss whether those choices remain optimal given current needs and potential alternatives.  A good answer would consider factors like scalability, maintainability, and developer experience.\",\n",
      "      \"skill_area\": \"Web Development, Framework Selection\"\n",
      "    },\n",
      "    {\n",
      "      \"question\": \"You mentioned using Selenium for automated testing.  Describe a complex test scenario you automated using Selenium and the challenges you faced in designing and implementing that test.  (Intermediate)\",\n",
      "      \"assessment\": \"Assesses practical experience with automated testing and problem-solving in a testing context.\",\n",
      "      \"good_answer\": \"Should describe a specific test case, including the steps involved, the technologies used (e.g., specific Selenium commands, test frameworks like pytest or JUnit), and the challenges encountered (e.g., handling dynamic web elements, dealing with asynchronous operations, managing test data).  A strong answer would highlight problem-solving skills and demonstrate a deep understanding of testing principles.\",\n",
      "      \"skill_area\": \"Software Testing, Automation\"\n",
      "    },\n",
      "    {\n",
      "      \"question\": \"Let's say you need to design a system for real-time deepfake detection in a live video stream.  Describe the architecture of such a system, considering factors like scalability, latency, and accuracy.  What technologies would you choose and why?  (Advanced)\",\n",
      "      \"assessment\": \"Assesses system design skills, understanding of real-time constraints, and technology selection.\",\n",
      "      \"good_answer\": \"Should propose a system architecture that addresses real-time processing requirements, including considerations for efficient data pipelines, parallel processing, and low-latency inference.  Should justify technology choices (e.g., specific deep learning frameworks, hardware acceleration, cloud infrastructure) based on their suitability for real-time performance and scalability.  Should discuss trade-offs between accuracy, latency, and resource consumption.\",\n",
      "      \"skill_area\": \"System Design, Real-time Processing, Deep Learning\"\n",
      "    },\n",
      "    {\n",
      "      \"question\": \"You have extensive experience with Python.  However, the job description requires strong proficiency in JavaScript.  Let's say you need to integrate a Python-based machine learning model into a JavaScript frontend application.  How would you approach this problem?  What are the potential challenges and how would you overcome them? (Intermediate)\",\n",
      "      \"assessment\": \"Assesses adaptability and problem-solving skills in a cross-language integration scenario, addressing a specific skill gap.\",\n",
      "      \"good_answer\": \"Should demonstrate an understanding of different approaches to integrating Python and JavaScript, such as using REST APIs, WebAssembly, or a serverless architecture.  Should discuss potential challenges like data serialization, communication overhead, and security considerations, and propose solutions to address them.\",\n",
      "      \"skill_area\": \"Adaptability, Cross-Language Integration, Problem-Solving\"\n",
      "    },\n",
      "    {\n",
      "      \"question\": \"You've worked with both MySQL and MongoDB.  Describe a scenario where you would choose one over the other, justifying your decision based on the specific characteristics of each database and the requirements of the application. (Intermediate)\",\n",
      "      \"assessment\": \"Assesses understanding of database technologies and their appropriate use cases.\",\n",
      "      \"good_answer\": \"Should clearly articulate the differences between relational (MySQL) and NoSQL (MongoDB) databases, highlighting their strengths and weaknesses.  Should present a realistic scenario where one database is a better fit than the other, justifying the choice based on factors like data structure, scalability requirements, query patterns, and performance considerations.\",\n",
      "      \"skill_area\": \"Databases, Technology Selection\"\n",
      "    }\n",
      "  ]\n",
      "}\n",
      "\n",
      "        Evaluation Results:\n",
      "        {\n",
      "  \"raw_result\": \"```json\\n{\\n  \\\"evaluationPipeline\\\": {\\n    \\\"stage1\\\": {\\n      \\\"name\\\": \\\"Basic Eligibility Check\\\",\\n      \\\"maxPoints\\\": 20,\\n      \\\"score\\\": 15,\\n      \\\"justification\\\": \\\"The candidate meets some basic eligibility criteria.  Education (Bachelor of Engineering in AI) is verified. However, the lack of explicit 5+ years of experience (only partially met based on project depth) and unverified certifications reduce the score. Location verification is not specified in the requirements.\\\",\\n      \\\"keyFactors\\\": {\\n        \\\"education\\\": 10, \\n        \\\"experience\\\": 5 \\n      }\\n    },\\n    \\\"stage2\\\": {\\n      \\\"name\\\": \\\"Skill Match Evaluation\\\",\\n      \\\"maxPoints\\\": 40,\\n      \\\"score\\\": 28,\\n      \\\"justification\\\": \\\"The candidate demonstrates strong skills in Python and several AI/ML areas.  However, significant gaps exist in essential skills like JavaScript, React.js, and Django, which are heavily weighted due to their importance for the role.  The weighting scheme prioritizes essential skills over preferred skills.\\\",\\n      \\\"keyFactors\\\": {\\n        \\\"matchedEssentialSkills\\\": 18, \\n        \\\"missingEssentialSkills\\\": -10,\\n        \\\"matchedPreferredSkills\\\": 10\\n      },\\n      \\\"skillBreakdown\\\": {\\n        \\\"matchedEssentialSkills\\\": [\\n          {\\\"skill\\\": \\\"Python\\\", \\\"weight\\\": 5},\\n          {\\\"skill\\\": \\\"ML\\\", \\\"weight\\\": 3},\\n          {\\\"skill\\\": \\\"DL\\\", \\\"weight\\\": 3},\\n          {\\\"skill\\\": \\\"NLP\\\", \\\"weight\\\": 3},\\n          {\\\"skill\\\": \\\"Data Structures\\\", \\\"weight\\\": 4}\\n        ],\\n        \\\"missingEssentialSkills\\\": [\\n          {\\\"skill\\\": \\\"JavaScript\\\", \\\"weight\\\": 5},\\n          {\\\"skill\\\": \\\"React.js\\\", \\\"weight\\\": 5},\\n          {\\\"skill\\\": \\\"Django\\\", \\\"weight\\\": 5}\\n        ],\\n        \\\"matchedPreferredSkills\\\":[\\n          {\\\"skill\\\": \\\"MongoDB\\\", \\\"weight\\\": 2},\\n          {\\\"skill\\\": \\\"Testing\\\", \\\"weight\\\": 3},\\n          {\\\"skill\\\": \\\"Agile\\\", \\\"weight\\\": 5}\\n        ]\\n      }\\n    },\\n    \\\"stage3\\\": {\\n      \\\"name\\\": \\\"Domain-Specific Experience Check\\\",\\n      \\\"maxPoints\\\": 15,\\n      \\\"score\\\": 10,\\n      \\\"justification\\\": \\\"The candidate's research experience and projects demonstrate some relevance to the domain.  However, the lack of explicit experience with specific domain-related technologies or projects limits the score.  More details on the domain are needed for a more precise evaluation.\\\",\\n      \\\"keyFactors\\\": {\\n        \\\"researchExperience\\\": 5,\\n        \\\"projectRelevance\\\": 5\\n      }\\n    },\\n    \\\"stage4\\\": {\\n      \\\"name\\\": \\\"Role Fit and Achievements Alignment\\\",\\n      \\\"maxPoints\\\": 25,\\n      \\\"score\\\": 17,\\n      \\\"justification\\\": \\\"The candidate's achievements, particularly the Health Hackathon finalist position, showcase initiative and problem-solving skills.  However, the lack of direct leadership experience in a professional setting and limited evidence of mentoring reduces the score.  The alignment of achievements with job responsibilities is moderate.\\\",\\n      \\\"keyFactors\\\": {\\n        \\\"achievementRelevance\\\": 10,\\n        \\\"leadershipExperience\\\": 5,\\n        \\\"impactDrivenAchievements\\\": 2\\n      }\\n    },\\n    \\\"overall\\\": {\\n      \\\"totalScore\\\": 15 + 28 + 10 + 17,\\n      \\\"recommendation\\\": \\\"Hold\\\",\\n      \\\"justification\\\": \\\"The candidate shows promise with strong AI/ML skills and a good project portfolio. However, significant gaps in essential skills for the role and limited professional experience warrant further assessment before proceeding to an interview.  Addressing the skill gaps and providing more details on experience would significantly improve the candidate's chances.\\\"\\n    }\\n  }\\n}\\n```\"\n",
      "}\n",
      "\n",
      "        Create a summary that:\n",
      "        1. Starts with a brief candidate overview (name, current role, years of experience)\n",
      "        2. Includes a visually appealing score card with the overall evaluation score\n",
      "        3. Highlights 3-5 key strengths with evidence from their resume and profiles\n",
      "        4. Notes 2-3 potential areas for growth relevant to the job\n",
      "        5. Summarizes overall job match with a clear recommendation\n",
      "        6. Uses visually engaging elements like:\n",
      "           - Star ratings (★★★★☆) for key skills\n",
      "           - Emojis as bullet points for visual scanning\n",
      "           - Rating scales for key metrics\n",
      "           - Clear headings and subheadings\n",
      "\n",
      "        The summary should be scannable in 30 seconds while providing valuable insights.\n",
      "        Format in visually appealing markdown, optimized for a hiring manager who has limited time.\n",
      "        Keep the entire summary under 2 pages when printed.\n",
      "        \u001b[00m\n"
     ]
    },
    {
     "data": {
      "text/html": [
       "<pre style=\"white-space:pre;overflow-x:auto;line-height:normal;font-family:Menlo,'DejaVu Sans Mono',consolas,'Courier New',monospace\"><span style=\"color: #008080; text-decoration-color: #008080; font-weight: bold\">🚀 Crew: crew</span>\n",
       "└── <span style=\"color: #808000; text-decoration-color: #808000; font-weight: bold\">📋 Task: 7d8ae262-63f3-48d1-a6ad-1c1229f1ca05</span>\n",
       "    <span style=\"color: #c0c0c0; text-decoration-color: #c0c0c0\">   Status: </span><span style=\"color: #bfbf7f; text-decoration-color: #bfbf7f\">Executing Task...</span>\n",
       "    └── <span style=\"color: #008000; text-decoration-color: #008000; font-weight: bold\">🤖 Agent: </span><span style=\"color: #008000; text-decoration-color: #008000\">Assessment Summary Specialist</span>\n",
       "        <span style=\"color: #c0c0c0; text-decoration-color: #c0c0c0\">    Status: </span><span style=\"color: #008000; text-decoration-color: #008000; font-weight: bold\">In Progress</span>\n",
       "        └── <span style=\"color: #000080; text-decoration-color: #000080; font-weight: bold\">🧠 </span><span style=\"color: #000080; text-decoration-color: #000080\">Thinking...</span>\n",
       "</pre>\n"
      ],
      "text/plain": [
       "\u001b[1;36m🚀 Crew: \u001b[0m\u001b[1;36mcrew\u001b[0m\n",
       "└── \u001b[1;33m📋 Task: 7d8ae262-63f3-48d1-a6ad-1c1229f1ca05\u001b[0m\n",
       "    \u001b[37m   Status: \u001b[0m\u001b[2;33mExecuting Task...\u001b[0m\n",
       "    └── \u001b[1;32m🤖 Agent: \u001b[0m\u001b[32mAssessment Summary Specialist\u001b[0m\n",
       "        \u001b[37m    Status: \u001b[0m\u001b[1;32mIn Progress\u001b[0m\n",
       "        └── \u001b[1;34m🧠 \u001b[0m\u001b[34mThinking...\u001b[0m\n"
      ]
     },
     "metadata": {},
     "output_type": "display_data"
    },
    {
     "data": {
      "text/html": [
       "<pre style=\"white-space:pre;overflow-x:auto;line-height:normal;font-family:Menlo,'DejaVu Sans Mono',consolas,'Courier New',monospace\">\n",
       "</pre>\n"
      ],
      "text/plain": [
       "\n"
      ]
     },
     "metadata": {},
     "output_type": "display_data"
    },
    {
     "data": {
      "text/html": [
       "<pre style=\"white-space:pre;overflow-x:auto;line-height:normal;font-family:Menlo,'DejaVu Sans Mono',consolas,'Courier New',monospace\"><span style=\"color: #008080; text-decoration-color: #008080; font-weight: bold\">🚀 Crew: crew</span>\n",
       "└── <span style=\"color: #808000; text-decoration-color: #808000; font-weight: bold\">📋 Task: 7d8ae262-63f3-48d1-a6ad-1c1229f1ca05</span>\n",
       "    <span style=\"color: #c0c0c0; text-decoration-color: #c0c0c0\">   Status: </span><span style=\"color: #bfbf7f; text-decoration-color: #bfbf7f\">Executing Task...</span>\n",
       "    └── <span style=\"color: #008000; text-decoration-color: #008000; font-weight: bold\">🤖 Agent: </span><span style=\"color: #008000; text-decoration-color: #008000\">Assessment Summary Specialist</span>\n",
       "        <span style=\"color: #c0c0c0; text-decoration-color: #c0c0c0\">    Status: </span><span style=\"color: #008000; text-decoration-color: #008000; font-weight: bold\">In Progress</span>\n",
       "</pre>\n"
      ],
      "text/plain": [
       "\u001b[1;36m🚀 Crew: \u001b[0m\u001b[1;36mcrew\u001b[0m\n",
       "└── \u001b[1;33m📋 Task: 7d8ae262-63f3-48d1-a6ad-1c1229f1ca05\u001b[0m\n",
       "    \u001b[37m   Status: \u001b[0m\u001b[2;33mExecuting Task...\u001b[0m\n",
       "    └── \u001b[1;32m🤖 Agent: \u001b[0m\u001b[32mAssessment Summary Specialist\u001b[0m\n",
       "        \u001b[37m    Status: \u001b[0m\u001b[1;32mIn Progress\u001b[0m\n"
      ]
     },
     "metadata": {},
     "output_type": "display_data"
    },
    {
     "data": {
      "text/html": [
       "<pre style=\"white-space:pre;overflow-x:auto;line-height:normal;font-family:Menlo,'DejaVu Sans Mono',consolas,'Courier New',monospace\">\n",
       "</pre>\n"
      ],
      "text/plain": [
       "\n"
      ]
     },
     "metadata": {},
     "output_type": "display_data"
    },
    {
     "name": "stdout",
     "output_type": "stream",
     "text": [
      "\n",
      "\n",
      "\u001b[1m\u001b[95m# Agent:\u001b[00m \u001b[1m\u001b[92mAssessment Summary Specialist\u001b[00m\n",
      "\u001b[95m## Final Answer:\u001b[00m \u001b[92m\n",
      "# Nandini Kuppala - Assessment Summary\n",
      "\n",
      "**Candidate Overview:** Nandini Kuppala is currently an AI Project Intern at Infosys, with a strong background in AI/ML and software development. While her resume doesn't explicitly state years of experience, the depth and breadth of her projects and internships suggest a comparable level of practical experience.\n",
      "\n",
      "\n",
      "## Overall Evaluation Score: 70/100  ⭐⭐⭐½\n",
      "\n",
      "**(Scale: 0-100; 80+ = Strong Match, 60-79 = Moderate Match, Below 60 = Weak Match)**\n",
      "\n",
      "\n",
      "## Key Strengths:\n",
      "\n",
      "⭐ **AI/ML Expertise:**  Nandini demonstrates strong proficiency in Python (LeetCode: 272 problems solved), Machine Learning, Deep Learning (DeepFake detection project), and NLP (Infosys internship).  Her research experience further solidifies her expertise.  `★★★★☆`\n",
      "\n",
      "⭐ **Project Portfolio:**  Her projects, including *NurtureSync* (a healthcare companion app using Flutter, Flask, Streamlit, MongoDB, and Firebase) and *DeepFake Video Detection*, showcase practical application of her skills and a proactive approach to learning.  ✅\n",
      "\n",
      "⭐ **Software Testing Proficiency:**  Her internship at Baavlibuch involved automating testing procedures, resulting in significant improvements in efficiency and performance.  She's proficient with Selenium. `★★★★☆`\n",
      "\n",
      "⭐ **Problem-Solving Skills:**  Her LeetCode performance (272 problems solved, including Medium and Hard) and successful project completions highlight strong analytical and problem-solving abilities. 🧠\n",
      "\n",
      "⭐ **Publication Record:** Nandini has publications in prestigious venues like the ASPRS International Technical Symposium 2024 and IEEE Eleventh International Conference on Biosignals, Images, and Instrumentation (ICBSII), demonstrating her research capabilities and commitment to the field. 📄\n",
      "\n",
      "\n",
      "## Areas for Growth:\n",
      "\n",
      "* **Frontend Development:** While proficient in backend technologies, Nandini's JavaScript skills need further development to meet the requirements of a full-stack role.  Expanding her experience with JavaScript frameworks like React.js is crucial. \n",
      "* **Cloud Platforms:**  Experience with cloud platforms like AWS or Azure is essential for many modern software development roles.  Acquiring this skill would significantly enhance her profile.\n",
      "* **CI/CD and DevOps:**  While she uses Git, gaining experience with CI/CD pipelines and DevOps practices (including Docker and Kubernetes) would strengthen her skillset.\n",
      "\n",
      "\n",
      "## Overall Job Match & Recommendation:\n",
      "\n",
      "**Overall Match:** 45% (Moderate Match)\n",
      "\n",
      "**Recommendation:** Hold.  Nandini possesses a strong foundation in AI/ML and software development, but significant gaps exist in essential skills for this specific role (JavaScript, React.js, Django, cloud platforms, CI/CD).  Addressing these gaps through focused learning and development would significantly improve her suitability.  Further investigation into the duration of her roles and projects is recommended to better assess her experience level.  Consider her for roles that better align with her current skillset, or after she addresses the identified skill gaps.\u001b[00m\n",
      "\n",
      "\n"
     ]
    },
    {
     "data": {
      "text/html": [
       "<pre style=\"white-space:pre;overflow-x:auto;line-height:normal;font-family:Menlo,'DejaVu Sans Mono',consolas,'Courier New',monospace\"><span style=\"color: #008080; text-decoration-color: #008080; font-weight: bold\">🚀 Crew: crew</span>\n",
       "└── <span style=\"color: #808000; text-decoration-color: #808000; font-weight: bold\">📋 Task: 7d8ae262-63f3-48d1-a6ad-1c1229f1ca05</span>\n",
       "    <span style=\"color: #c0c0c0; text-decoration-color: #c0c0c0\">   Status: </span><span style=\"color: #bfbf7f; text-decoration-color: #bfbf7f\">Executing Task...</span>\n",
       "    └── <span style=\"color: #008000; text-decoration-color: #008000; font-weight: bold\">🤖 Agent: </span><span style=\"color: #008000; text-decoration-color: #008000\">Assessment Summary Specialist</span>\n",
       "        <span style=\"color: #c0c0c0; text-decoration-color: #c0c0c0\">    Status: </span><span style=\"color: #008000; text-decoration-color: #008000; font-weight: bold\">✅ Completed</span>\n",
       "</pre>\n"
      ],
      "text/plain": [
       "\u001b[1;36m🚀 Crew: \u001b[0m\u001b[1;36mcrew\u001b[0m\n",
       "└── \u001b[1;33m📋 Task: 7d8ae262-63f3-48d1-a6ad-1c1229f1ca05\u001b[0m\n",
       "    \u001b[37m   Status: \u001b[0m\u001b[2;33mExecuting Task...\u001b[0m\n",
       "    └── \u001b[1;32m🤖 Agent: \u001b[0m\u001b[32mAssessment Summary Specialist\u001b[0m\n",
       "        \u001b[37m    Status: \u001b[0m\u001b[1;32m✅ Completed\u001b[0m\n"
      ]
     },
     "metadata": {},
     "output_type": "display_data"
    },
    {
     "data": {
      "text/html": [
       "<pre style=\"white-space:pre;overflow-x:auto;line-height:normal;font-family:Menlo,'DejaVu Sans Mono',consolas,'Courier New',monospace\">\n",
       "</pre>\n"
      ],
      "text/plain": [
       "\n"
      ]
     },
     "metadata": {},
     "output_type": "display_data"
    },
    {
     "data": {
      "text/html": [
       "<pre style=\"white-space:pre;overflow-x:auto;line-height:normal;font-family:Menlo,'DejaVu Sans Mono',consolas,'Courier New',monospace\"><span style=\"color: #008080; text-decoration-color: #008080; font-weight: bold\">🚀 Crew: crew</span>\n",
       "└── <span style=\"color: #008000; text-decoration-color: #008000; font-weight: bold\">📋 Task: 7d8ae262-63f3-48d1-a6ad-1c1229f1ca05</span>\n",
       "    <span style=\"color: #c0c0c0; text-decoration-color: #c0c0c0\">   Assigned to: </span><span style=\"color: #008000; text-decoration-color: #008000\">Assessment Summary Specialist</span>\n",
       "    <span style=\"color: #c0c0c0; text-decoration-color: #c0c0c0\">   Status: </span><span style=\"color: #008000; text-decoration-color: #008000; font-weight: bold\">✅ Completed</span>\n",
       "    └── <span style=\"color: #008000; text-decoration-color: #008000; font-weight: bold\">🤖 Agent: </span><span style=\"color: #008000; text-decoration-color: #008000\">Assessment Summary Specialist</span>\n",
       "        <span style=\"color: #c0c0c0; text-decoration-color: #c0c0c0\">    Status: </span><span style=\"color: #008000; text-decoration-color: #008000; font-weight: bold\">✅ Completed</span>\n",
       "</pre>\n"
      ],
      "text/plain": [
       "\u001b[1;36m🚀 Crew: \u001b[0m\u001b[1;36mcrew\u001b[0m\n",
       "└── \u001b[1;32m📋 Task: 7d8ae262-63f3-48d1-a6ad-1c1229f1ca05\u001b[0m\n",
       "    \u001b[37m   Assigned to: \u001b[0m\u001b[32mAssessment Summary Specialist\u001b[0m\n",
       "    \u001b[37m   Status: \u001b[0m\u001b[1;32m✅ Completed\u001b[0m\n",
       "    └── \u001b[1;32m🤖 Agent: \u001b[0m\u001b[32mAssessment Summary Specialist\u001b[0m\n",
       "        \u001b[37m    Status: \u001b[0m\u001b[1;32m✅ Completed\u001b[0m\n"
      ]
     },
     "metadata": {},
     "output_type": "display_data"
    },
    {
     "data": {
      "text/html": [
       "<pre style=\"white-space:pre;overflow-x:auto;line-height:normal;font-family:Menlo,'DejaVu Sans Mono',consolas,'Courier New',monospace\"><span style=\"color: #008000; text-decoration-color: #008000\">╭──────────────────────────────────────────────── Task Completion ────────────────────────────────────────────────╮</span>\n",
       "<span style=\"color: #008000; text-decoration-color: #008000\">│</span>                                                                                                                 <span style=\"color: #008000; text-decoration-color: #008000\">│</span>\n",
       "<span style=\"color: #008000; text-decoration-color: #008000\">│</span>  <span style=\"color: #008000; text-decoration-color: #008000; font-weight: bold\">Task Completed</span>                                                                                                 <span style=\"color: #008000; text-decoration-color: #008000\">│</span>\n",
       "<span style=\"color: #008000; text-decoration-color: #008000\">│</span>  <span style=\"color: #c0c0c0; text-decoration-color: #c0c0c0\">Name: </span><span style=\"color: #008000; text-decoration-color: #008000\">7d8ae262-63f3-48d1-a6ad-1c1229f1ca05</span>                                                                     <span style=\"color: #008000; text-decoration-color: #008000\">│</span>\n",
       "<span style=\"color: #008000; text-decoration-color: #008000\">│</span>  <span style=\"color: #c0c0c0; text-decoration-color: #c0c0c0\">Agent: </span><span style=\"color: #008000; text-decoration-color: #008000\">Assessment Summary Specialist</span>                                                                           <span style=\"color: #008000; text-decoration-color: #008000\">│</span>\n",
       "<span style=\"color: #008000; text-decoration-color: #008000\">│</span>                                                                                                                 <span style=\"color: #008000; text-decoration-color: #008000\">│</span>\n",
       "<span style=\"color: #008000; text-decoration-color: #008000\">│</span>                                                                                                                 <span style=\"color: #008000; text-decoration-color: #008000\">│</span>\n",
       "<span style=\"color: #008000; text-decoration-color: #008000\">╰─────────────────────────────────────────────────────────────────────────────────────────────────────────────────╯</span>\n",
       "</pre>\n"
      ],
      "text/plain": [
       "\u001b[32m╭─\u001b[0m\u001b[32m───────────────────────────────────────────────\u001b[0m\u001b[32m Task Completion \u001b[0m\u001b[32m───────────────────────────────────────────────\u001b[0m\u001b[32m─╮\u001b[0m\n",
       "\u001b[32m│\u001b[0m                                                                                                                 \u001b[32m│\u001b[0m\n",
       "\u001b[32m│\u001b[0m  \u001b[1;32mTask Completed\u001b[0m                                                                                                 \u001b[32m│\u001b[0m\n",
       "\u001b[32m│\u001b[0m  \u001b[37mName: \u001b[0m\u001b[32m7d8ae262-63f3-48d1-a6ad-1c1229f1ca05\u001b[0m                                                                     \u001b[32m│\u001b[0m\n",
       "\u001b[32m│\u001b[0m  \u001b[37mAgent: \u001b[0m\u001b[32mAssessment Summary Specialist\u001b[0m                                                                           \u001b[32m│\u001b[0m\n",
       "\u001b[32m│\u001b[0m                                                                                                                 \u001b[32m│\u001b[0m\n",
       "\u001b[32m│\u001b[0m                                                                                                                 \u001b[32m│\u001b[0m\n",
       "\u001b[32m╰─────────────────────────────────────────────────────────────────────────────────────────────────────────────────╯\u001b[0m\n"
      ]
     },
     "metadata": {},
     "output_type": "display_data"
    },
    {
     "data": {
      "text/html": [
       "<pre style=\"white-space:pre;overflow-x:auto;line-height:normal;font-family:Menlo,'DejaVu Sans Mono',consolas,'Courier New',monospace\">\n",
       "</pre>\n"
      ],
      "text/plain": [
       "\n"
      ]
     },
     "metadata": {},
     "output_type": "display_data"
    },
    {
     "data": {
      "text/html": [
       "<pre style=\"white-space:pre;overflow-x:auto;line-height:normal;font-family:Menlo,'DejaVu Sans Mono',consolas,'Courier New',monospace\"><span style=\"color: #008000; text-decoration-color: #008000\">╭──────────────────────────────────────────────── Crew Completion ────────────────────────────────────────────────╮</span>\n",
       "<span style=\"color: #008000; text-decoration-color: #008000\">│</span>                                                                                                                 <span style=\"color: #008000; text-decoration-color: #008000\">│</span>\n",
       "<span style=\"color: #008000; text-decoration-color: #008000\">│</span>  <span style=\"color: #008000; text-decoration-color: #008000; font-weight: bold\">Crew Execution Completed</span>                                                                                       <span style=\"color: #008000; text-decoration-color: #008000\">│</span>\n",
       "<span style=\"color: #008000; text-decoration-color: #008000\">│</span>  <span style=\"color: #c0c0c0; text-decoration-color: #c0c0c0\">Name: </span><span style=\"color: #008000; text-decoration-color: #008000\">crew</span>                                                                                                     <span style=\"color: #008000; text-decoration-color: #008000\">│</span>\n",
       "<span style=\"color: #008000; text-decoration-color: #008000\">│</span>  <span style=\"color: #c0c0c0; text-decoration-color: #c0c0c0\">ID: </span><span style=\"color: #008000; text-decoration-color: #008000\">cdcf8647-1fd7-44c1-ab40-00e15b51a4c5</span>                                                                       <span style=\"color: #008000; text-decoration-color: #008000\">│</span>\n",
       "<span style=\"color: #008000; text-decoration-color: #008000\">│</span>                                                                                                                 <span style=\"color: #008000; text-decoration-color: #008000\">│</span>\n",
       "<span style=\"color: #008000; text-decoration-color: #008000\">│</span>                                                                                                                 <span style=\"color: #008000; text-decoration-color: #008000\">│</span>\n",
       "<span style=\"color: #008000; text-decoration-color: #008000\">╰─────────────────────────────────────────────────────────────────────────────────────────────────────────────────╯</span>\n",
       "</pre>\n"
      ],
      "text/plain": [
       "\u001b[32m╭─\u001b[0m\u001b[32m───────────────────────────────────────────────\u001b[0m\u001b[32m Crew Completion \u001b[0m\u001b[32m───────────────────────────────────────────────\u001b[0m\u001b[32m─╮\u001b[0m\n",
       "\u001b[32m│\u001b[0m                                                                                                                 \u001b[32m│\u001b[0m\n",
       "\u001b[32m│\u001b[0m  \u001b[1;32mCrew Execution Completed\u001b[0m                                                                                       \u001b[32m│\u001b[0m\n",
       "\u001b[32m│\u001b[0m  \u001b[37mName: \u001b[0m\u001b[32mcrew\u001b[0m                                                                                                     \u001b[32m│\u001b[0m\n",
       "\u001b[32m│\u001b[0m  \u001b[37mID: \u001b[0m\u001b[32mcdcf8647-1fd7-44c1-ab40-00e15b51a4c5\u001b[0m                                                                       \u001b[32m│\u001b[0m\n",
       "\u001b[32m│\u001b[0m                                                                                                                 \u001b[32m│\u001b[0m\n",
       "\u001b[32m│\u001b[0m                                                                                                                 \u001b[32m│\u001b[0m\n",
       "\u001b[32m╰─────────────────────────────────────────────────────────────────────────────────────────────────────────────────╯\u001b[0m\n"
      ]
     },
     "metadata": {},
     "output_type": "display_data"
    },
    {
     "data": {
      "text/html": [
       "<pre style=\"white-space:pre;overflow-x:auto;line-height:normal;font-family:Menlo,'DejaVu Sans Mono',consolas,'Courier New',monospace\">\n",
       "</pre>\n"
      ],
      "text/plain": [
       "\n"
      ]
     },
     "metadata": {},
     "output_type": "display_data"
    },
    {
     "name": "stdout",
     "output_type": "stream",
     "text": [
      "\n",
      "Final assessment summary generated!\n"
     ]
    }
   ],
   "source": [
    "with open(\"Nandini_kuppala_latest.pdf\", \"rb\") as file:\n",
    "    results = run_skill_assessment(file, sample_job_requirements)"
   ]
  },
  {
   "cell_type": "code",
   "execution_count": 33,
   "metadata": {},
   "outputs": [
    {
     "name": "stdout",
     "output_type": "stream",
     "text": [
      "{'resume_data': {'personal_information': {'name': 'NANDINI KUPPALA', 'contact': {'phone': '+91 7569056212', 'email': 'knandini7816@gmail.com', 'linkedin': 'https://www.linkedin.com/in/nandini-kuppala/', 'github': 'https://github.com/nandini-kuppala'}}, 'skills': {'languages': ['Python', 'Dart', 'JavaScript', 'C'], 'frameworks': ['Flutter', 'Flask', 'Streamlit'], 'tools': ['Git', 'Docker', 'Selenium', 'Firebase', 'MySQL', 'MongoDB', 'Linux'], 'ai_and_development': ['Generative AI', 'ML', 'DL', 'NLP', 'Computer Vision', 'Data Structures', 'Agile', 'Testing']}, 'work_experience': [{'title': 'Infosys Springboard Internship 5.O (AI Project Intern)', 'company': 'Infosys', 'dates': 'December 2024 - Present', 'responsibilities': ['Led a team of five interns and built an AI system using NLP to automate ticket classification and responses.', 'Integrated with helpdesk platforms to enhance efficiency and reduce resolution time.']}, {'title': 'Research Experience', 'company': None, 'dates': 'October 2023 – Present', 'responsibilities': ['Worked on real-time machine learning projects using LANDSAT data to monitor rangeland vegetation.', 'Contributed to a 30% increase in profitability for Wyoming farmers.'], 'mentors': ['Dr. Ramesh Sivanpillai (University of Wyoming)', 'Dr. Sajith Variyar (Amrita School of AI)']}, {'title': 'Campus Ambassador', 'company': 'E-Cell IIT Bombay', 'dates': 'August 2024 – December 2024', 'responsibilities': ['Organized events and competitions reaching over 200 participants, promoting entrepreneurship in college.']}, {'title': 'Security and Software Testing Intern', 'company': 'Baavlibuch', 'dates': 'February 2024 – April 2024', 'responsibilities': ['Automated testing procedures, reducing manual testing effort by 40% and accelerating test case execution by 25%.', 'Debugged and fixed critical application bugs, enhancing stability and performance by 30%.', 'Implemented and managed testing environments in Linux, significantly improving security and data protection.']}], 'education': {'degree': 'Bachelor of Engineering in Artificial Intelligence', 'institution': 'Amrita Vishwa Vidyapeetham', 'location': 'Coimbatore, Tamil Nadu', 'cgpa': '8.02', 'dates': '2022 – 2026'}, 'projects': [{'name': 'NurtureSync: A Health Care Companion', 'description': 'Developed a mobile and web app platform to manage chronic diseases like thyroid and diabetes. Features include personalized feedback, medical report analysis, health tracking, and a healthcare community.', 'technologies': ['Web – Streamlit, MongoDB, Firebase, Flask; Mobile – Flutter, Firebase, MongoDB'], 'link': 'https://nurturesynchealth.streamlit.app/'}, {'name': 'DeepFake Video Detection', 'description': 'Improved the model’s accuracy by 15% in detecting DeepFake videos using a pipeline of MTCNN for face detection, ResNet for feature extraction, and LSTM for temporal analysis. Developed a Chrome extension for DeepFake image detection and working towards real-time video detection', 'technologies': ['MTCNN', 'ResNet', 'LSTM'], 'link': 'https://github.com/nandini-queen-of-my-world/Deepfake-detection'}], 'achievements': ['Finalist at the Health Hackathon by Johns Hopkins University at VIT Bhopal, selected from 232 teams and over 1,300 participants for the project NurtureSync.'], 'publications': [{'title': 'Mapping Vegetation Dynamics in Wyoming: A Multi-Temporal Analysis Using Landsat NDVI and Clustering', 'venue': 'ASPRS International Technical Symposium 2024', 'link': 'https://isprs-archives.copernicus.org/articles/XLVIII-M-5-2024/87/2025/'}, {'title': 'Preterm Birth Prediction Using GraphSAGE and Electrohysterogram Data', 'venue': 'IEEE Eleventh International Conference on Biosignals, Images, and Instrumentation (ICBSII)', 'link': 'https://isprs-archives.copernicus.org/articles/XLVIII-M-5-2024/87/2025/'}], 'profiles': {'leetcode': 'https://leetcode.com/u/Nandini_Queen/', 'geeksforgeeks': 'https://www.geeksforgeeks.org/user/knandin8fsf/', 'hackerrank': 'https://www.hackerrank.com/profile/knandini7816'}, 'certifications': [{'name': 'Artificial Intelligence Course Series (118 hr length)', 'provider': 'Infosys Springboard', 'link': 'https://infyspringboard.onwingspan.com/web/en/app/profile/competency/certificate'}, {'name': 'Agile Scrum in Practice', 'provider': 'Infosys Springboard', 'link': 'https://infyspringboard.onwingspan.com/web/en/app/profile/competency/certificate'}, {'name': 'Data Structures and Performance', 'provider': 'Coursera', 'link': 'https://coursera.org/share/1d4edbf7bd94d9c9409693f3ed34623e'}, {'name': 'Python Basic, Problem Solving Basic', 'provider': 'Hacker Rank', 'link': 'https://www.hackerrank.com/certificates/29cd025a29fc'}]}, 'profile_data': {'leetcode': {'username': 'Nandini_Queen', 'total_problems_solved': 272, 'problems_by_difficulty': {'All': 136, 'Easy': 58, 'Medium': 68, 'Hard': 10}, 'ranking': 883997, 'reputation': 0, 'badges': ['Study Plan V2 Award']}, 'geeksforgeeks': {'notes': 'Partial information found through search.  Multiple users with similar names exist.  Unable to definitively link to a specific profile with the available tools.'}, 'hackerrank': {'notes': 'No profile found using available tools and search.  Further investigation may be needed.'}}, 'certification_data': {'certifications': [{'name': 'Artificial Intelligence Course Series (118 hr length)', 'provider': 'Infosys Springboard', 'link': 'https://infyspringboard.onwingspan.com/web/en/app/profile/competency/certificate', 'verification_status': 'unverified', 'confidence_level': 'low', 'skills': ['Artificial Intelligence'], 'issuer_credibility': 'Medium - Infosys is a reputable IT services company, but verification of this specific certificate is impossible without a direct link.', 'issue_date': None, 'expiration_date': None}, {'name': 'Agile Scrum in Practice', 'provider': 'Infosys Springboard', 'link': 'https://infyspringboard.onwingspan.com/web/en/app/profile/competency/certificate', 'verification_status': 'unverified', 'confidence_level': 'low', 'skills': ['Agile', 'Scrum'], 'issuer_credibility': 'Medium - Infosys is a reputable IT services company, but verification of this specific certificate is impossible without a direct link.', 'issue_date': None, 'expiration_date': None}, {'name': 'Data Structures and Performance', 'provider': 'Coursera', 'link': 'https://coursera.org/share/1d4edbf7bd94d9c9409693f3ed34623e', 'verification_status': 'unverified', 'confidence_level': 'low', 'skills': ['Data Structures', 'Algorithm Performance'], 'issuer_credibility': 'High - Coursera is a reputable online learning platform.', 'issue_date': None, 'expiration_date': None}, {'name': 'Python Basic, Problem Solving Basic', 'provider': 'HackerRank', 'link': 'https://www.hackerrank.com/certificates/29cd025a29fc', 'verification_status': 'unverified', 'confidence_level': 'low', 'skills': ['Python Programming', 'Problem Solving'], 'issuer_credibility': 'Medium - HackerRank is a reputable platform for coding challenges, but verification requires access to the certificate.', 'issue_date': None, 'expiration_date': None}], 'skills_assessment': [], 'summary': 'Due to limitations in tool functionality, a complete verification and skills assessment could not be performed.  The provided links for Infosys Springboard certificates are insufficient for verification.  Further investigation is needed to verify the Coursera and HackerRank certificates.'}, 'skill_evaluation': {'languages': {'Python': {'rating': 8, 'claimed': True, 'demonstrated': True, 'evidence': 'LeetCode profile (272 problems solved, including Medium and Hard), HackerRank certificate (Python Basic), projects (NurtureSync, DeepFake detection), research experience (LANDSAT data analysis)', 'notes': 'Strong evidence of proficiency.  LeetCode performance indicates a good grasp of problem-solving and data structures.'}, 'Dart': {'rating': 7, 'claimed': True, 'demonstrated': True, 'evidence': 'Flutter mobile app development (NurtureSync)', 'notes': 'Demonstrated through Flutter app development, but less extensive evidence compared to Python.'}, 'JavaScript': {'rating': 6, 'claimed': True, 'demonstrated': False, 'evidence': 'No direct evidence in resume or projects.', 'notes': 'Claimed but no demonstrable evidence.'}, 'C': {'rating': 5, 'claimed': True, 'demonstrated': False, 'evidence': 'No direct evidence in resume or projects.', 'notes': 'Claimed but no demonstrable evidence.'}}, 'frameworks': {'Flutter': {'rating': 7, 'claimed': True, 'demonstrated': True, 'evidence': 'Mobile app development (NurtureSync)', 'notes': 'Demonstrated proficiency in building mobile apps.'}, 'Flask': {'rating': 6, 'claimed': True, 'demonstrated': True, 'evidence': 'Web app development (NurtureSync)', 'notes': 'Used in a project, but the extent of expertise is unclear.'}, 'Streamlit': {'rating': 6, 'claimed': True, 'demonstrated': True, 'evidence': 'Web app development (NurtureSync)', 'notes': 'Used in a project, but the extent of expertise is unclear.'}}, 'tools': {'Git': {'rating': 8, 'claimed': True, 'demonstrated': True, 'evidence': 'GitHub profile with multiple projects', 'notes': 'Active use indicated by multiple projects on GitHub.'}, 'Docker': {'rating': 5, 'claimed': True, 'demonstrated': False, 'evidence': 'No direct evidence in resume or projects.', 'notes': 'Claimed but no demonstrable evidence.'}, 'Selenium': {'rating': 7, 'claimed': True, 'demonstrated': True, 'evidence': 'Security and Software Testing Internship responsibilities (automated testing)', 'notes': 'Demonstrated use in a professional setting.'}, 'Firebase': {'rating': 7, 'claimed': True, 'demonstrated': True, 'evidence': 'Used in NurtureSync project', 'notes': 'Demonstrated use in a project.'}, 'MySQL': {'rating': 6, 'claimed': True, 'demonstrated': True, 'evidence': 'Used in NurtureSync project', 'notes': 'Used in a project, but the extent of expertise is unclear.'}, 'MongoDB': {'rating': 7, 'claimed': True, 'demonstrated': True, 'evidence': 'Used in NurtureSync project', 'notes': 'Demonstrated use in a project.'}, 'Linux': {'rating': 6, 'claimed': True, 'demonstrated': True, 'evidence': 'Security and Software Testing Internship responsibilities (managed testing environments)', 'notes': 'Demonstrated use in a professional setting, but the depth of expertise is unclear.'}}, 'AI and Development': {'Generative AI': {'rating': 5, 'claimed': True, 'demonstrated': False, 'evidence': 'No direct evidence in resume or projects.', 'notes': 'Claimed but no demonstrable evidence.'}, 'ML': {'rating': 7, 'claimed': True, 'demonstrated': True, 'evidence': 'Research experience (real-time machine learning projects), DeepFake detection project', 'notes': 'Demonstrated through research and projects.'}, 'DL': {'rating': 7, 'claimed': True, 'demonstrated': True, 'evidence': 'DeepFake detection project (ResNet, LSTM)', 'notes': 'Demonstrated through the DeepFake detection project.'}, 'NLP': {'rating': 7, 'claimed': True, 'demonstrated': True, 'evidence': 'Infosys internship (AI system using NLP)', 'notes': 'Demonstrated through a professional internship project.'}, 'Computer Vision': {'rating': 7, 'claimed': True, 'demonstrated': True, 'evidence': 'DeepFake detection project (MTCNN)', 'notes': 'Demonstrated through the DeepFake detection project.'}, 'Data Structures': {'rating': 8, 'claimed': True, 'demonstrated': True, 'evidence': 'Coursera certificate, LeetCode performance', 'notes': 'Strong evidence from both certification and LeetCode performance.'}, 'Agile': {'rating': 6, 'claimed': True, 'demonstrated': True, 'evidence': 'Infosys Springboard certificate, work experience (campus ambassador)', 'notes': 'Demonstrated through certification and work experience, but the depth of expertise is unclear.'}, 'Testing': {'rating': 7, 'claimed': True, 'demonstrated': True, 'evidence': 'Security and Software Testing Internship', 'notes': 'Demonstrated through a professional internship.'}}, 'overall_assessment': {'practical_application': 'Strong evidence of practical application across multiple projects and internships.  The candidate demonstrates the ability to apply learned skills to real-world problems.', 'depth_of_knowledge': 'Good depth of knowledge in Python, ML, DL, NLP, and data structures.  Proficiency in other areas is less clear due to limited evidence.', 'learning_ability': 'High learning ability and adaptability demonstrated by the diverse range of skills and projects undertaken in a relatively short period.  The candidate actively seeks out new challenges and learning opportunities.', 'strengths': 'Python programming, ML/DL/NLP, data structures, problem-solving, mobile app development (Flutter), web app development (Flask, Streamlit), automated testing (Selenium)', 'growth_areas': 'Expand experience with JavaScript and C.  Deepen expertise in Generative AI and Agile methodologies.  Gain experience with Docker and other DevOps tools.  Further develop theoretical understanding to complement practical skills.', 'specialization': 'The candidate shows a strong inclination towards AI and machine learning, with a focus on practical application and project development.  While possessing a broad range of skills, the specialization leans towards AI/ML.', 'generalist': 'The candidate demonstrates a good range of skills across different areas of software development and AI, but the specialization is clearly towards AI/ML.'}}, 'job_match': {'assessment': {'essentialRequirements': [{'requirement': '5+ years of experience in software development', 'match': {'percentage': 70, 'explanation': \"While the candidate's resume doesn't explicitly state 5+ years of experience, the breadth and depth of projects, internships (including a significant security and software testing internship), and research experience suggest a comparable level of practical experience.  More information on the duration of each role would solidify this assessment.\"}}, {'requirement': 'Strong proficiency in Python and JavaScript', 'match': {'percentage': 75, 'explanation': 'Python proficiency is strong (rating 8), demonstrated across multiple projects and LeetCode performance. However, JavaScript proficiency is claimed but lacks demonstrable evidence (rating 6, demonstrated: false). This is a significant gap for a senior full-stack role.'}}, {'requirement': 'Experience with React.js and Django', 'match': {'percentage': 30, 'explanation': \"No direct evidence of experience with React.js or Django.  The candidate uses Flask and Streamlit, which are related web frameworks, but don't directly translate to React.js and Django expertise. This is a critical gap.\"}}, {'requirement': 'Knowledge of RESTful API design and implementation', 'match': {'percentage': 60, 'explanation': 'Indirect evidence suggests some familiarity through web application development (Flask, Streamlit), but the depth of knowledge is unclear.  Explicit mention or project examples demonstrating RESTful API design and implementation would improve this score.'}}, {'requirement': 'Experience with cloud platforms (AWS or Azure)', 'match': {'percentage': 0, 'explanation': 'No evidence of experience with AWS or Azure.'}}, {'requirement': 'Understanding of CI/CD pipelines and DevOps practices', 'match': {'percentage': 10, 'explanation': \"Limited evidence.  While Git usage is strong, there's no demonstrable experience with CI/CD pipelines or broader DevOps practices.  Docker experience is claimed but not demonstrated.\"}}], 'preferredRequirements': [{'requirement': 'Experience with TypeScript and Node.js', 'match': {'percentage': 0, 'explanation': 'No evidence of experience with TypeScript or Node.js.'}}, {'requirement': 'Knowledge of container technologies (Docker, Kubernetes)', 'match': {'percentage': 10, 'explanation': 'Docker is claimed but not demonstrated. No evidence of Kubernetes experience.'}}, {'requirement': 'Experience with database design and optimization', 'match': {'percentage': 60, 'explanation': 'Experience with MySQL and MongoDB is demonstrated, but the extent of expertise in database design and optimization is unclear.'}}, {'requirement': 'Familiarity with microservices architecture', 'match': {'percentage': 0, 'explanation': 'No evidence of familiarity with microservices architecture.'}}, {'requirement': 'Experience mentoring junior developers', 'match': {'percentage': 0, 'explanation': 'No evidence of experience mentoring junior developers.'}}], 'experienceLevel': {'match': {'percentage': 70, 'explanation': \"The candidate's project portfolio and internship experiences suggest a level of practical experience comparable to a senior developer, but the lack of explicit 5+ years of experience and the gaps in essential requirements slightly lower the score.\"}}, 'culturalFit': {'match': {'percentage': 80, 'explanation': 'The candidate demonstrates a strong learning ability, actively seeks new challenges, and possesses a diverse skillset.  These traits suggest a good potential for cultural fit, assuming the company values adaptability and continuous learning.'}}, 'growthPotential': {'match': {'percentage': 90, 'explanation': \"The candidate's demonstrated learning agility and diverse project experience indicate high growth potential.  The identified growth areas are addressable through focused learning and development.\"}}, 'overallMatch': {'percentage': 45, 'explanation': \"The overall match is moderate.  While the candidate possesses strong skills in Python and AI/ML, significant gaps exist in essential requirements like JavaScript, React.js, Django, cloud platforms, and CI/CD.  Addressing these gaps would significantly improve the candidate's suitability for the role.\"}}}, 'evaluation_results': {'raw_result': '```json\\n{\\n  \"evaluationPipeline\": {\\n    \"stage1\": {\\n      \"name\": \"Basic Eligibility Check\",\\n      \"maxPoints\": 20,\\n      \"score\": 15,\\n      \"justification\": \"The candidate meets some basic eligibility criteria.  Education (Bachelor of Engineering in AI) is verified. However, the lack of explicit 5+ years of experience (only partially met based on project depth) and unverified certifications reduce the score. Location verification is not specified in the requirements.\",\\n      \"keyFactors\": {\\n        \"education\": 10, \\n        \"experience\": 5 \\n      }\\n    },\\n    \"stage2\": {\\n      \"name\": \"Skill Match Evaluation\",\\n      \"maxPoints\": 40,\\n      \"score\": 28,\\n      \"justification\": \"The candidate demonstrates strong skills in Python and several AI/ML areas.  However, significant gaps exist in essential skills like JavaScript, React.js, and Django, which are heavily weighted due to their importance for the role.  The weighting scheme prioritizes essential skills over preferred skills.\",\\n      \"keyFactors\": {\\n        \"matchedEssentialSkills\": 18, \\n        \"missingEssentialSkills\": -10,\\n        \"matchedPreferredSkills\": 10\\n      },\\n      \"skillBreakdown\": {\\n        \"matchedEssentialSkills\": [\\n          {\"skill\": \"Python\", \"weight\": 5},\\n          {\"skill\": \"ML\", \"weight\": 3},\\n          {\"skill\": \"DL\", \"weight\": 3},\\n          {\"skill\": \"NLP\", \"weight\": 3},\\n          {\"skill\": \"Data Structures\", \"weight\": 4}\\n        ],\\n        \"missingEssentialSkills\": [\\n          {\"skill\": \"JavaScript\", \"weight\": 5},\\n          {\"skill\": \"React.js\", \"weight\": 5},\\n          {\"skill\": \"Django\", \"weight\": 5}\\n        ],\\n        \"matchedPreferredSkills\":[\\n          {\"skill\": \"MongoDB\", \"weight\": 2},\\n          {\"skill\": \"Testing\", \"weight\": 3},\\n          {\"skill\": \"Agile\", \"weight\": 5}\\n        ]\\n      }\\n    },\\n    \"stage3\": {\\n      \"name\": \"Domain-Specific Experience Check\",\\n      \"maxPoints\": 15,\\n      \"score\": 10,\\n      \"justification\": \"The candidate\\'s research experience and projects demonstrate some relevance to the domain.  However, the lack of explicit experience with specific domain-related technologies or projects limits the score.  More details on the domain are needed for a more precise evaluation.\",\\n      \"keyFactors\": {\\n        \"researchExperience\": 5,\\n        \"projectRelevance\": 5\\n      }\\n    },\\n    \"stage4\": {\\n      \"name\": \"Role Fit and Achievements Alignment\",\\n      \"maxPoints\": 25,\\n      \"score\": 17,\\n      \"justification\": \"The candidate\\'s achievements, particularly the Health Hackathon finalist position, showcase initiative and problem-solving skills.  However, the lack of direct leadership experience in a professional setting and limited evidence of mentoring reduces the score.  The alignment of achievements with job responsibilities is moderate.\",\\n      \"keyFactors\": {\\n        \"achievementRelevance\": 10,\\n        \"leadershipExperience\": 5,\\n        \"impactDrivenAchievements\": 2\\n      }\\n    },\\n    \"overall\": {\\n      \"totalScore\": 15 + 28 + 10 + 17,\\n      \"recommendation\": \"Hold\",\\n      \"justification\": \"The candidate shows promise with strong AI/ML skills and a good project portfolio. However, significant gaps in essential skills for the role and limited professional experience warrant further assessment before proceeding to an interview.  Addressing the skill gaps and providing more details on experience would significantly improve the candidate\\'s chances.\"\\n    }\\n  }\\n}\\n```'}, 'interview_questions': {'questions': [{'question': 'Your DeepFake Video Detection project utilized MTCNN, ResNet, and LSTM.  Describe the role of each component in your pipeline and the rationale behind your choice of these specific architectures.  Discuss any challenges you encountered and how you addressed them.  (Advanced)', 'assessment': 'Assesses understanding of deep learning architectures, model selection, and practical implementation challenges.', 'good_answer': \"Should demonstrate a clear understanding of each architecture's role (MTCNN for face detection, ResNet for feature extraction, LSTM for temporal analysis), justify the choices based on their strengths and weaknesses in the context of deepfake detection, and discuss challenges like data imbalance, computational cost, and achieving real-time performance.  Mentioning specific solutions implemented is crucial.\", 'skill_area': 'Deep Learning, Computer Vision, Problem-Solving'}, {'question': 'In your Infosys internship, you built an NLP system for automating ticket classification and responses.  Describe your approach to feature engineering for this task.  What techniques did you use to handle noisy or ambiguous text data?  (Intermediate)', 'assessment': 'Assesses understanding of NLP techniques, feature engineering, and handling real-world data challenges.', 'good_answer': 'Should describe the feature engineering process, including techniques like TF-IDF, word embeddings (Word2Vec, GloVe, etc.), or other relevant methods.  Should discuss strategies for handling noisy data, such as stemming, lemmatization, stop word removal, and techniques for dealing with ambiguity, like using context-aware models or incorporating external knowledge bases.', 'skill_area': 'NLP, Machine Learning, Data Preprocessing'}, {'question': 'Your NurtureSync project used both Streamlit and Flask.  Compare and contrast these frameworks, highlighting their strengths and weaknesses in the context of your application.  If you were to rebuild NurtureSync today, would you choose the same technologies? Why or why not? (Intermediate)', 'assessment': 'Assesses understanding of web frameworks and technology choices based on project requirements.', 'good_answer': \"Should compare and contrast Streamlit's rapid prototyping capabilities and ease of use with Flask's flexibility and control.  Should justify the choices made in the original project and discuss whether those choices remain optimal given current needs and potential alternatives.  A good answer would consider factors like scalability, maintainability, and developer experience.\", 'skill_area': 'Web Development, Framework Selection'}, {'question': 'You mentioned using Selenium for automated testing.  Describe a complex test scenario you automated using Selenium and the challenges you faced in designing and implementing that test.  (Intermediate)', 'assessment': 'Assesses practical experience with automated testing and problem-solving in a testing context.', 'good_answer': 'Should describe a specific test case, including the steps involved, the technologies used (e.g., specific Selenium commands, test frameworks like pytest or JUnit), and the challenges encountered (e.g., handling dynamic web elements, dealing with asynchronous operations, managing test data).  A strong answer would highlight problem-solving skills and demonstrate a deep understanding of testing principles.', 'skill_area': 'Software Testing, Automation'}, {'question': \"Let's say you need to design a system for real-time deepfake detection in a live video stream.  Describe the architecture of such a system, considering factors like scalability, latency, and accuracy.  What technologies would you choose and why?  (Advanced)\", 'assessment': 'Assesses system design skills, understanding of real-time constraints, and technology selection.', 'good_answer': 'Should propose a system architecture that addresses real-time processing requirements, including considerations for efficient data pipelines, parallel processing, and low-latency inference.  Should justify technology choices (e.g., specific deep learning frameworks, hardware acceleration, cloud infrastructure) based on their suitability for real-time performance and scalability.  Should discuss trade-offs between accuracy, latency, and resource consumption.', 'skill_area': 'System Design, Real-time Processing, Deep Learning'}, {'question': \"You have extensive experience with Python.  However, the job description requires strong proficiency in JavaScript.  Let's say you need to integrate a Python-based machine learning model into a JavaScript frontend application.  How would you approach this problem?  What are the potential challenges and how would you overcome them? (Intermediate)\", 'assessment': 'Assesses adaptability and problem-solving skills in a cross-language integration scenario, addressing a specific skill gap.', 'good_answer': 'Should demonstrate an understanding of different approaches to integrating Python and JavaScript, such as using REST APIs, WebAssembly, or a serverless architecture.  Should discuss potential challenges like data serialization, communication overhead, and security considerations, and propose solutions to address them.', 'skill_area': 'Adaptability, Cross-Language Integration, Problem-Solving'}, {'question': \"You've worked with both MySQL and MongoDB.  Describe a scenario where you would choose one over the other, justifying your decision based on the specific characteristics of each database and the requirements of the application. (Intermediate)\", 'assessment': 'Assesses understanding of database technologies and their appropriate use cases.', 'good_answer': 'Should clearly articulate the differences between relational (MySQL) and NoSQL (MongoDB) databases, highlighting their strengths and weaknesses.  Should present a realistic scenario where one database is a better fit than the other, justifying the choice based on factors like data structure, scalability requirements, query patterns, and performance considerations.', 'skill_area': 'Databases, Technology Selection'}]}, 'summary': CrewOutput(raw=\"# Nandini Kuppala - Assessment Summary\\n\\n**Candidate Overview:** Nandini Kuppala is currently an AI Project Intern at Infosys, with a strong background in AI/ML and software development. While her resume doesn't explicitly state years of experience, the depth and breadth of her projects and internships suggest a comparable level of practical experience.\\n\\n\\n## Overall Evaluation Score: 70/100  ⭐⭐⭐½\\n\\n**(Scale: 0-100; 80+ = Strong Match, 60-79 = Moderate Match, Below 60 = Weak Match)**\\n\\n\\n## Key Strengths:\\n\\n⭐ **AI/ML Expertise:**  Nandini demonstrates strong proficiency in Python (LeetCode: 272 problems solved), Machine Learning, Deep Learning (DeepFake detection project), and NLP (Infosys internship).  Her research experience further solidifies her expertise.  `★★★★☆`\\n\\n⭐ **Project Portfolio:**  Her projects, including *NurtureSync* (a healthcare companion app using Flutter, Flask, Streamlit, MongoDB, and Firebase) and *DeepFake Video Detection*, showcase practical application of her skills and a proactive approach to learning.  ✅\\n\\n⭐ **Software Testing Proficiency:**  Her internship at Baavlibuch involved automating testing procedures, resulting in significant improvements in efficiency and performance.  She's proficient with Selenium. `★★★★☆`\\n\\n⭐ **Problem-Solving Skills:**  Her LeetCode performance (272 problems solved, including Medium and Hard) and successful project completions highlight strong analytical and problem-solving abilities. 🧠\\n\\n⭐ **Publication Record:** Nandini has publications in prestigious venues like the ASPRS International Technical Symposium 2024 and IEEE Eleventh International Conference on Biosignals, Images, and Instrumentation (ICBSII), demonstrating her research capabilities and commitment to the field. 📄\\n\\n\\n## Areas for Growth:\\n\\n* **Frontend Development:** While proficient in backend technologies, Nandini's JavaScript skills need further development to meet the requirements of a full-stack role.  Expanding her experience with JavaScript frameworks like React.js is crucial. \\n* **Cloud Platforms:**  Experience with cloud platforms like AWS or Azure is essential for many modern software development roles.  Acquiring this skill would significantly enhance her profile.\\n* **CI/CD and DevOps:**  While she uses Git, gaining experience with CI/CD pipelines and DevOps practices (including Docker and Kubernetes) would strengthen her skillset.\\n\\n\\n## Overall Job Match & Recommendation:\\n\\n**Overall Match:** 45% (Moderate Match)\\n\\n**Recommendation:** Hold.  Nandini possesses a strong foundation in AI/ML and software development, but significant gaps exist in essential skills for this specific role (JavaScript, React.js, Django, cloud platforms, CI/CD).  Addressing these gaps through focused learning and development would significantly improve her suitability.  Further investigation into the duration of her roles and projects is recommended to better assess her experience level.  Consider her for roles that better align with her current skillset, or after she addresses the identified skill gaps.\", pydantic=None, json_dict=None, tasks_output=[TaskOutput(description='\\n        Create a compelling, visually engaging, and concise assessment summary based on:\\n\\n        Resume Information:\\n        {\\n  \"personal_information\": {\\n    \"name\": \"NANDINI KUPPALA\",\\n    \"contact\": {\\n      \"phone\": \"+91 7569056212\",\\n      \"email\": \"knandini7816@gmail.com\",\\n      \"linkedin\": \"https://www.linkedin.com/in/nandini-kuppala/\",\\n      \"github\": \"https://github.com/nandini-kuppala\"\\n    }\\n  },\\n  \"skills\": {\\n    \"languages\": [\\n      \"Python\",\\n      \"Dart\",\\n      \"JavaScript\",\\n      \"C\"\\n    ],\\n    \"frameworks\": [\\n      \"Flutter\",\\n      \"Flask\",\\n      \"Streamlit\"\\n    ],\\n    \"tools\": [\\n      \"Git\",\\n      \"Docker\",\\n      \"Selenium\",\\n      \"Firebase\",\\n      \"MySQL\",\\n      \"MongoDB\",\\n      \"Linux\"\\n    ],\\n    \"ai_and_development\": [\\n      \"Generative AI\",\\n      \"ML\",\\n      \"DL\",\\n      \"NLP\",\\n      \"Computer Vision\",\\n      \"Data Structures\",\\n      \"Agile\",\\n      \"Testing\"\\n    ]\\n  },\\n  \"work_experience\": [\\n    {\\n      \"title\": \"Infosys Springboard Internship 5.O (AI Project Intern)\",\\n      \"company\": \"Infosys\",\\n      \"dates\": \"December 2024 - Present\",\\n      \"responsibilities\": [\\n        \"Led a team of five interns and built an AI system using NLP to automate ticket classification and responses.\",\\n        \"Integrated with helpdesk platforms to enhance efficiency and reduce resolution time.\"\\n      ]\\n    },\\n    {\\n      \"title\": \"Research Experience\",\\n      \"company\": null,\\n      \"dates\": \"October 2023 \\\\u2013 Present\",\\n      \"responsibilities\": [\\n        \"Worked on real-time machine learning projects using LANDSAT data to monitor rangeland vegetation.\",\\n        \"Contributed to a 30% increase in profitability for Wyoming farmers.\"\\n      ],\\n      \"mentors\": [\\n        \"Dr. Ramesh Sivanpillai (University of Wyoming)\",\\n        \"Dr. Sajith Variyar (Amrita School of AI)\"\\n      ]\\n    },\\n    {\\n      \"title\": \"Campus Ambassador\",\\n      \"company\": \"E-Cell IIT Bombay\",\\n      \"dates\": \"August 2024 \\\\u2013 December 2024\",\\n      \"responsibilities\": [\\n        \"Organized events and competitions reaching over 200 participants, promoting entrepreneurship in college.\"\\n      ]\\n    },\\n    {\\n      \"title\": \"Security and Software Testing Intern\",\\n      \"company\": \"Baavlibuch\",\\n      \"dates\": \"February 2024 \\\\u2013 April 2024\",\\n      \"responsibilities\": [\\n        \"Automated testing procedures, reducing manual testing effort by 40% and accelerating test case execution by 25%.\",\\n        \"Debugged and fixed critical application bugs, enhancing stability and performance by 30%.\",\\n        \"Implemented and managed testing environments in Linux, significantly improving security and data protection.\"\\n      ]\\n    }\\n  ],\\n  \"education\": {\\n    \"degree\": \"Bachelor of Engineering in Artificial Intelligence\",\\n    \"institution\": \"Amrita Vishwa Vidyapeetham\",\\n    \"location\": \"Coimbatore, Tamil Nadu\",\\n    \"cgpa\": \"8.02\",\\n    \"dates\": \"2022 \\\\u2013 2026\"\\n  },\\n  \"projects\": [\\n    {\\n      \"name\": \"NurtureSync: A Health Care Companion\",\\n      \"description\": \"Developed a mobile and web app platform to manage chronic diseases like thyroid and diabetes. Features include personalized feedback, medical report analysis, health tracking, and a healthcare community.\",\\n      \"technologies\": [\\n        \"Web \\\\u2013 Streamlit, MongoDB, Firebase, Flask; Mobile \\\\u2013 Flutter, Firebase, MongoDB\"\\n      ],\\n      \"link\": \"https://nurturesynchealth.streamlit.app/\"\\n    },\\n    {\\n      \"name\": \"DeepFake Video Detection\",\\n      \"description\": \"Improved the model\\\\u2019s accuracy by 15% in detecting DeepFake videos using a pipeline of MTCNN for face detection, ResNet for feature extraction, and LSTM for temporal analysis. Developed a Chrome extension for DeepFake image detection and working towards real-time video detection\",\\n      \"technologies\": [\\n        \"MTCNN\",\\n        \"ResNet\",\\n        \"LSTM\"\\n      ],\\n      \"link\": \"https://github.com/nandini-queen-of-my-world/Deepfake-detection\"\\n    }\\n  ],\\n  \"achievements\": [\\n    \"Finalist at the Health Hackathon by Johns Hopkins University at VIT Bhopal, selected from 232 teams and over 1,300 participants for the project NurtureSync.\"\\n  ],\\n  \"publications\": [\\n    {\\n      \"title\": \"Mapping Vegetation Dynamics in Wyoming: A Multi-Temporal Analysis Using Landsat NDVI and Clustering\",\\n      \"venue\": \"ASPRS International Technical Symposium 2024\",\\n      \"link\": \"https://isprs-archives.copernicus.org/articles/XLVIII-M-5-2024/87/2025/\"\\n    },\\n    {\\n      \"title\": \"Preterm Birth Prediction Using GraphSAGE and Electrohysterogram Data\",\\n      \"venue\": \"IEEE Eleventh International Conference on Biosignals, Images, and Instrumentation (ICBSII)\",\\n      \"link\": \"https://isprs-archives.copernicus.org/articles/XLVIII-M-5-2024/87/2025/\"\\n    }\\n  ],\\n  \"profiles\": {\\n    \"leetcode\": \"https://leetcode.com/u/Nandini_Queen/\",\\n    \"geeksforgeeks\": \"https://www.geeksforgeeks.org/user/knandin8fsf/\",\\n    \"hackerrank\": \"https://www.hackerrank.com/profile/knandini7816\"\\n  },\\n  \"certifications\": [\\n    {\\n      \"name\": \"Artificial Intelligence Course Series (118 hr length)\",\\n      \"provider\": \"Infosys Springboard\",\\n      \"link\": \"https://infyspringboard.onwingspan.com/web/en/app/profile/competency/certificate\"\\n    },\\n    {\\n      \"name\": \"Agile Scrum in Practice\",\\n      \"provider\": \"Infosys Springboard\",\\n      \"link\": \"https://infyspringboard.onwingspan.com/web/en/app/profile/competency/certificate\"\\n    },\\n    {\\n      \"name\": \"Data Structures and Performance\",\\n      \"provider\": \"Coursera\",\\n      \"link\": \"https://coursera.org/share/1d4edbf7bd94d9c9409693f3ed34623e\"\\n    },\\n    {\\n      \"name\": \"Python Basic, Problem Solving Basic\",\\n      \"provider\": \"Hacker Rank\",\\n      \"link\": \"https://www.hackerrank.com/certificates/29cd025a29fc\"\\n    }\\n  ]\\n}\\n\\n        Profile Data:\\n        {\\n  \"leetcode\": {\\n    \"username\": \"Nandini_Queen\",\\n    \"total_problems_solved\": 272,\\n    \"problems_by_difficulty\": {\\n      \"All\": 136,\\n      \"Easy\": 58,\\n      \"Medium\": 68,\\n      \"Hard\": 10\\n    },\\n    \"ranking\": 883997,\\n    \"reputation\": 0,\\n    \"badges\": [\\n      \"Study Plan V2 Award\"\\n    ]\\n  },\\n  \"geeksforgeeks\": {\\n    \"notes\": \"Partial information found through search.  Multiple users with similar names exist.  Unable to definitively link to a specific profile with the available tools.\"\\n  },\\n  \"hackerrank\": {\\n    \"notes\": \"No profile found using available tools and search.  Further investigation may be needed.\"\\n  }\\n}\\n\\n        Skill Evaluation:\\n        {\\n  \"languages\": {\\n    \"Python\": {\\n      \"rating\": 8,\\n      \"claimed\": true,\\n      \"demonstrated\": true,\\n      \"evidence\": \"LeetCode profile (272 problems solved, including Medium and Hard), HackerRank certificate (Python Basic), projects (NurtureSync, DeepFake detection), research experience (LANDSAT data analysis)\",\\n      \"notes\": \"Strong evidence of proficiency.  LeetCode performance indicates a good grasp of problem-solving and data structures.\"\\n    },\\n    \"Dart\": {\\n      \"rating\": 7,\\n      \"claimed\": true,\\n      \"demonstrated\": true,\\n      \"evidence\": \"Flutter mobile app development (NurtureSync)\",\\n      \"notes\": \"Demonstrated through Flutter app development, but less extensive evidence compared to Python.\"\\n    },\\n    \"JavaScript\": {\\n      \"rating\": 6,\\n      \"claimed\": true,\\n      \"demonstrated\": false,\\n      \"evidence\": \"No direct evidence in resume or projects.\",\\n      \"notes\": \"Claimed but no demonstrable evidence.\"\\n    },\\n    \"C\": {\\n      \"rating\": 5,\\n      \"claimed\": true,\\n      \"demonstrated\": false,\\n      \"evidence\": \"No direct evidence in resume or projects.\",\\n      \"notes\": \"Claimed but no demonstrable evidence.\"\\n    }\\n  },\\n  \"frameworks\": {\\n    \"Flutter\": {\\n      \"rating\": 7,\\n      \"claimed\": true,\\n      \"demonstrated\": true,\\n      \"evidence\": \"Mobile app development (NurtureSync)\",\\n      \"notes\": \"Demonstrated proficiency in building mobile apps.\"\\n    },\\n    \"Flask\": {\\n      \"rating\": 6,\\n      \"claimed\": true,\\n      \"demonstrated\": true,\\n      \"evidence\": \"Web app development (NurtureSync)\",\\n      \"notes\": \"Used in a project, but the extent of expertise is unclear.\"\\n    },\\n    \"Streamlit\": {\\n      \"rating\": 6,\\n      \"claimed\": true,\\n      \"demonstrated\": true,\\n      \"evidence\": \"Web app development (NurtureSync)\",\\n      \"notes\": \"Used in a project, but the extent of expertise is unclear.\"\\n    }\\n  },\\n  \"tools\": {\\n    \"Git\": {\\n      \"rating\": 8,\\n      \"claimed\": true,\\n      \"demonstrated\": true,\\n      \"evidence\": \"GitHub profile with multiple projects\",\\n      \"notes\": \"Active use indicated by multiple projects on GitHub.\"\\n    },\\n    \"Docker\": {\\n      \"rating\": 5,\\n      \"claimed\": true,\\n      \"demonstrated\": false,\\n      \"evidence\": \"No direct evidence in resume or projects.\",\\n      \"notes\": \"Claimed but no demonstrable evidence.\"\\n    },\\n    \"Selenium\": {\\n      \"rating\": 7,\\n      \"claimed\": true,\\n      \"demonstrated\": true,\\n      \"evidence\": \"Security and Software Testing Internship responsibilities (automated testing)\",\\n      \"notes\": \"Demonstrated use in a professional setting.\"\\n    },\\n    \"Firebase\": {\\n      \"rating\": 7,\\n      \"claimed\": true,\\n      \"demonstrated\": true,\\n      \"evidence\": \"Used in NurtureSync project\",\\n      \"notes\": \"Demonstrated use in a project.\"\\n    },\\n    \"MySQL\": {\\n      \"rating\": 6,\\n      \"claimed\": true,\\n      \"demonstrated\": true,\\n      \"evidence\": \"Used in NurtureSync project\",\\n      \"notes\": \"Used in a project, but the extent of expertise is unclear.\"\\n    },\\n    \"MongoDB\": {\\n      \"rating\": 7,\\n      \"claimed\": true,\\n      \"demonstrated\": true,\\n      \"evidence\": \"Used in NurtureSync project\",\\n      \"notes\": \"Demonstrated use in a project.\"\\n    },\\n    \"Linux\": {\\n      \"rating\": 6,\\n      \"claimed\": true,\\n      \"demonstrated\": true,\\n      \"evidence\": \"Security and Software Testing Internship responsibilities (managed testing environments)\",\\n      \"notes\": \"Demonstrated use in a professional setting, but the depth of expertise is unclear.\"\\n    }\\n  },\\n  \"AI and Development\": {\\n    \"Generative AI\": {\\n      \"rating\": 5,\\n      \"claimed\": true,\\n      \"demonstrated\": false,\\n      \"evidence\": \"No direct evidence in resume or projects.\",\\n      \"notes\": \"Claimed but no demonstrable evidence.\"\\n    },\\n    \"ML\": {\\n      \"rating\": 7,\\n      \"claimed\": true,\\n      \"demonstrated\": true,\\n      \"evidence\": \"Research experience (real-time machine learning projects), DeepFake detection project\",\\n      \"notes\": \"Demonstrated through research and projects.\"\\n    },\\n    \"DL\": {\\n      \"rating\": 7,\\n      \"claimed\": true,\\n      \"demonstrated\": true,\\n      \"evidence\": \"DeepFake detection project (ResNet, LSTM)\",\\n      \"notes\": \"Demonstrated through the DeepFake detection project.\"\\n    },\\n    \"NLP\": {\\n      \"rating\": 7,\\n      \"claimed\": true,\\n      \"demonstrated\": true,\\n      \"evidence\": \"Infosys internship (AI system using NLP)\",\\n      \"notes\": \"Demonstrated through a professional internship project.\"\\n    },\\n    \"Computer Vision\": {\\n      \"rating\": 7,\\n      \"claimed\": true,\\n      \"demonstrated\": true,\\n      \"evidence\": \"DeepFake detection project (MTCNN)\",\\n      \"notes\": \"Demonstrated through the DeepFake detection project.\"\\n    },\\n    \"Data Structures\": {\\n      \"rating\": 8,\\n      \"claimed\": true,\\n      \"demonstrated\": true,\\n      \"evidence\": \"Coursera certificate, LeetCode performance\",\\n      \"notes\": \"Strong evidence from both certification and LeetCode performance.\"\\n    },\\n    \"Agile\": {\\n      \"rating\": 6,\\n      \"claimed\": true,\\n      \"demonstrated\": true,\\n      \"evidence\": \"Infosys Springboard certificate, work experience (campus ambassador)\",\\n      \"notes\": \"Demonstrated through certification and work experience, but the depth of expertise is unclear.\"\\n    },\\n    \"Testing\": {\\n      \"rating\": 7,\\n      \"claimed\": true,\\n      \"demonstrated\": true,\\n      \"evidence\": \"Security and Software Testing Internship\",\\n      \"notes\": \"Demonstrated through a professional internship.\"\\n    }\\n  },\\n  \"overall_assessment\": {\\n    \"practical_application\": \"Strong evidence of practical application across multiple projects and internships.  The candidate demonstrates the ability to apply learned skills to real-world problems.\",\\n    \"depth_of_knowledge\": \"Good depth of knowledge in Python, ML, DL, NLP, and data structures.  Proficiency in other areas is less clear due to limited evidence.\",\\n    \"learning_ability\": \"High learning ability and adaptability demonstrated by the diverse range of skills and projects undertaken in a relatively short period.  The candidate actively seeks out new challenges and learning opportunities.\",\\n    \"strengths\": \"Python programming, ML/DL/NLP, data structures, problem-solving, mobile app development (Flutter), web app development (Flask, Streamlit), automated testing (Selenium)\",\\n    \"growth_areas\": \"Expand experience with JavaScript and C.  Deepen expertise in Generative AI and Agile methodologies.  Gain experience with Docker and other DevOps tools.  Further develop theoretical understanding to complement practical skills.\",\\n    \"specialization\": \"The candidate shows a strong inclination towards AI and machine learning, with a focus on practical application and project development.  While possessing a broad range of skills, the specialization leans towards AI/ML.\",\\n    \"generalist\": \"The candidate demonstrates a good range of skills across different areas of software development and AI, but the specialization is clearly towards AI/ML.\"\\n  }\\n}\\n\\n        Job Match Assessment:\\n        {\\n  \"assessment\": {\\n    \"essentialRequirements\": [\\n      {\\n        \"requirement\": \"5+ years of experience in software development\",\\n        \"match\": {\\n          \"percentage\": 70,\\n          \"explanation\": \"While the candidate\\'s resume doesn\\'t explicitly state 5+ years of experience, the breadth and depth of projects, internships (including a significant security and software testing internship), and research experience suggest a comparable level of practical experience.  More information on the duration of each role would solidify this assessment.\"\\n        }\\n      },\\n      {\\n        \"requirement\": \"Strong proficiency in Python and JavaScript\",\\n        \"match\": {\\n          \"percentage\": 75,\\n          \"explanation\": \"Python proficiency is strong (rating 8), demonstrated across multiple projects and LeetCode performance. However, JavaScript proficiency is claimed but lacks demonstrable evidence (rating 6, demonstrated: false). This is a significant gap for a senior full-stack role.\"\\n        }\\n      },\\n      {\\n        \"requirement\": \"Experience with React.js and Django\",\\n        \"match\": {\\n          \"percentage\": 30,\\n          \"explanation\": \"No direct evidence of experience with React.js or Django.  The candidate uses Flask and Streamlit, which are related web frameworks, but don\\'t directly translate to React.js and Django expertise. This is a critical gap.\"\\n        }\\n      },\\n      {\\n        \"requirement\": \"Knowledge of RESTful API design and implementation\",\\n        \"match\": {\\n          \"percentage\": 60,\\n          \"explanation\": \"Indirect evidence suggests some familiarity through web application development (Flask, Streamlit), but the depth of knowledge is unclear.  Explicit mention or project examples demonstrating RESTful API design and implementation would improve this score.\"\\n        }\\n      },\\n      {\\n        \"requirement\": \"Experience with cloud platforms (AWS or Azure)\",\\n        \"match\": {\\n          \"percentage\": 0,\\n          \"explanation\": \"No evidence of experience with AWS or Azure.\"\\n        }\\n      },\\n      {\\n        \"requirement\": \"Understanding of CI/CD pipelines and DevOps practices\",\\n        \"match\": {\\n          \"percentage\": 10,\\n          \"explanation\": \"Limited evidence.  While Git usage is strong, there\\'s no demonstrable experience with CI/CD pipelines or broader DevOps practices.  Docker experience is claimed but not demonstrated.\"\\n        }\\n      }\\n    ],\\n    \"preferredRequirements\": [\\n      {\\n        \"requirement\": \"Experience with TypeScript and Node.js\",\\n        \"match\": {\\n          \"percentage\": 0,\\n          \"explanation\": \"No evidence of experience with TypeScript or Node.js.\"\\n        }\\n      },\\n      {\\n        \"requirement\": \"Knowledge of container technologies (Docker, Kubernetes)\",\\n        \"match\": {\\n          \"percentage\": 10,\\n          \"explanation\": \"Docker is claimed but not demonstrated. No evidence of Kubernetes experience.\"\\n        }\\n      },\\n      {\\n        \"requirement\": \"Experience with database design and optimization\",\\n        \"match\": {\\n          \"percentage\": 60,\\n          \"explanation\": \"Experience with MySQL and MongoDB is demonstrated, but the extent of expertise in database design and optimization is unclear.\"\\n        }\\n      },\\n      {\\n        \"requirement\": \"Familiarity with microservices architecture\",\\n        \"match\": {\\n          \"percentage\": 0,\\n          \"explanation\": \"No evidence of familiarity with microservices architecture.\"\\n        }\\n      },\\n      {\\n        \"requirement\": \"Experience mentoring junior developers\",\\n        \"match\": {\\n          \"percentage\": 0,\\n          \"explanation\": \"No evidence of experience mentoring junior developers.\"\\n        }\\n      }\\n    ],\\n    \"experienceLevel\": {\\n      \"match\": {\\n        \"percentage\": 70,\\n        \"explanation\": \"The candidate\\'s project portfolio and internship experiences suggest a level of practical experience comparable to a senior developer, but the lack of explicit 5+ years of experience and the gaps in essential requirements slightly lower the score.\"\\n      }\\n    },\\n    \"culturalFit\": {\\n      \"match\": {\\n        \"percentage\": 80,\\n        \"explanation\": \"The candidate demonstrates a strong learning ability, actively seeks new challenges, and possesses a diverse skillset.  These traits suggest a good potential for cultural fit, assuming the company values adaptability and continuous learning.\"\\n      }\\n    },\\n    \"growthPotential\": {\\n      \"match\": {\\n        \"percentage\": 90,\\n        \"explanation\": \"The candidate\\'s demonstrated learning agility and diverse project experience indicate high growth potential.  The identified growth areas are addressable through focused learning and development.\"\\n      }\\n    },\\n    \"overallMatch\": {\\n      \"percentage\": 45,\\n      \"explanation\": \"The overall match is moderate.  While the candidate possesses strong skills in Python and AI/ML, significant gaps exist in essential requirements like JavaScript, React.js, Django, cloud platforms, and CI/CD.  Addressing these gaps would significantly improve the candidate\\'s suitability for the role.\"\\n    }\\n  }\\n}\\n\\n        Suggested Interview Questions:\\n        {\\n  \"questions\": [\\n    {\\n      \"question\": \"Your DeepFake Video Detection project utilized MTCNN, ResNet, and LSTM.  Describe the role of each component in your pipeline and the rationale behind your choice of these specific architectures.  Discuss any challenges you encountered and how you addressed them.  (Advanced)\",\\n      \"assessment\": \"Assesses understanding of deep learning architectures, model selection, and practical implementation challenges.\",\\n      \"good_answer\": \"Should demonstrate a clear understanding of each architecture\\'s role (MTCNN for face detection, ResNet for feature extraction, LSTM for temporal analysis), justify the choices based on their strengths and weaknesses in the context of deepfake detection, and discuss challenges like data imbalance, computational cost, and achieving real-time performance.  Mentioning specific solutions implemented is crucial.\",\\n      \"skill_area\": \"Deep Learning, Computer Vision, Problem-Solving\"\\n    },\\n    {\\n      \"question\": \"In your Infosys internship, you built an NLP system for automating ticket classification and responses.  Describe your approach to feature engineering for this task.  What techniques did you use to handle noisy or ambiguous text data?  (Intermediate)\",\\n      \"assessment\": \"Assesses understanding of NLP techniques, feature engineering, and handling real-world data challenges.\",\\n      \"good_answer\": \"Should describe the feature engineering process, including techniques like TF-IDF, word embeddings (Word2Vec, GloVe, etc.), or other relevant methods.  Should discuss strategies for handling noisy data, such as stemming, lemmatization, stop word removal, and techniques for dealing with ambiguity, like using context-aware models or incorporating external knowledge bases.\",\\n      \"skill_area\": \"NLP, Machine Learning, Data Preprocessing\"\\n    },\\n    {\\n      \"question\": \"Your NurtureSync project used both Streamlit and Flask.  Compare and contrast these frameworks, highlighting their strengths and weaknesses in the context of your application.  If you were to rebuild NurtureSync today, would you choose the same technologies? Why or why not? (Intermediate)\",\\n      \"assessment\": \"Assesses understanding of web frameworks and technology choices based on project requirements.\",\\n      \"good_answer\": \"Should compare and contrast Streamlit\\'s rapid prototyping capabilities and ease of use with Flask\\'s flexibility and control.  Should justify the choices made in the original project and discuss whether those choices remain optimal given current needs and potential alternatives.  A good answer would consider factors like scalability, maintainability, and developer experience.\",\\n      \"skill_area\": \"Web Development, Framework Selection\"\\n    },\\n    {\\n      \"question\": \"You mentioned using Selenium for automated testing.  Describe a complex test scenario you automated using Selenium and the challenges you faced in designing and implementing that test.  (Intermediate)\",\\n      \"assessment\": \"Assesses practical experience with automated testing and problem-solving in a testing context.\",\\n      \"good_answer\": \"Should describe a specific test case, including the steps involved, the technologies used (e.g., specific Selenium commands, test frameworks like pytest or JUnit), and the challenges encountered (e.g., handling dynamic web elements, dealing with asynchronous operations, managing test data).  A strong answer would highlight problem-solving skills and demonstrate a deep understanding of testing principles.\",\\n      \"skill_area\": \"Software Testing, Automation\"\\n    },\\n    {\\n      \"question\": \"Let\\'s say you need to design a system for real-time deepfake detection in a live video stream.  Describe the architecture of such a system, considering factors like scalability, latency, and accuracy.  What technologies would you choose and why?  (Advanced)\",\\n      \"assessment\": \"Assesses system design skills, understanding of real-time constraints, and technology selection.\",\\n      \"good_answer\": \"Should propose a system architecture that addresses real-time processing requirements, including considerations for efficient data pipelines, parallel processing, and low-latency inference.  Should justify technology choices (e.g., specific deep learning frameworks, hardware acceleration, cloud infrastructure) based on their suitability for real-time performance and scalability.  Should discuss trade-offs between accuracy, latency, and resource consumption.\",\\n      \"skill_area\": \"System Design, Real-time Processing, Deep Learning\"\\n    },\\n    {\\n      \"question\": \"You have extensive experience with Python.  However, the job description requires strong proficiency in JavaScript.  Let\\'s say you need to integrate a Python-based machine learning model into a JavaScript frontend application.  How would you approach this problem?  What are the potential challenges and how would you overcome them? (Intermediate)\",\\n      \"assessment\": \"Assesses adaptability and problem-solving skills in a cross-language integration scenario, addressing a specific skill gap.\",\\n      \"good_answer\": \"Should demonstrate an understanding of different approaches to integrating Python and JavaScript, such as using REST APIs, WebAssembly, or a serverless architecture.  Should discuss potential challenges like data serialization, communication overhead, and security considerations, and propose solutions to address them.\",\\n      \"skill_area\": \"Adaptability, Cross-Language Integration, Problem-Solving\"\\n    },\\n    {\\n      \"question\": \"You\\'ve worked with both MySQL and MongoDB.  Describe a scenario where you would choose one over the other, justifying your decision based on the specific characteristics of each database and the requirements of the application. (Intermediate)\",\\n      \"assessment\": \"Assesses understanding of database technologies and their appropriate use cases.\",\\n      \"good_answer\": \"Should clearly articulate the differences between relational (MySQL) and NoSQL (MongoDB) databases, highlighting their strengths and weaknesses.  Should present a realistic scenario where one database is a better fit than the other, justifying the choice based on factors like data structure, scalability requirements, query patterns, and performance considerations.\",\\n      \"skill_area\": \"Databases, Technology Selection\"\\n    }\\n  ]\\n}\\n\\n        Evaluation Results:\\n        {\\n  \"raw_result\": \"```json\\\\n{\\\\n  \\\\\"evaluationPipeline\\\\\": {\\\\n    \\\\\"stage1\\\\\": {\\\\n      \\\\\"name\\\\\": \\\\\"Basic Eligibility Check\\\\\",\\\\n      \\\\\"maxPoints\\\\\": 20,\\\\n      \\\\\"score\\\\\": 15,\\\\n      \\\\\"justification\\\\\": \\\\\"The candidate meets some basic eligibility criteria.  Education (Bachelor of Engineering in AI) is verified. However, the lack of explicit 5+ years of experience (only partially met based on project depth) and unverified certifications reduce the score. Location verification is not specified in the requirements.\\\\\",\\\\n      \\\\\"keyFactors\\\\\": {\\\\n        \\\\\"education\\\\\": 10, \\\\n        \\\\\"experience\\\\\": 5 \\\\n      }\\\\n    },\\\\n    \\\\\"stage2\\\\\": {\\\\n      \\\\\"name\\\\\": \\\\\"Skill Match Evaluation\\\\\",\\\\n      \\\\\"maxPoints\\\\\": 40,\\\\n      \\\\\"score\\\\\": 28,\\\\n      \\\\\"justification\\\\\": \\\\\"The candidate demonstrates strong skills in Python and several AI/ML areas.  However, significant gaps exist in essential skills like JavaScript, React.js, and Django, which are heavily weighted due to their importance for the role.  The weighting scheme prioritizes essential skills over preferred skills.\\\\\",\\\\n      \\\\\"keyFactors\\\\\": {\\\\n        \\\\\"matchedEssentialSkills\\\\\": 18, \\\\n        \\\\\"missingEssentialSkills\\\\\": -10,\\\\n        \\\\\"matchedPreferredSkills\\\\\": 10\\\\n      },\\\\n      \\\\\"skillBreakdown\\\\\": {\\\\n        \\\\\"matchedEssentialSkills\\\\\": [\\\\n          {\\\\\"skill\\\\\": \\\\\"Python\\\\\", \\\\\"weight\\\\\": 5},\\\\n          {\\\\\"skill\\\\\": \\\\\"ML\\\\\", \\\\\"weight\\\\\": 3},\\\\n          {\\\\\"skill\\\\\": \\\\\"DL\\\\\", \\\\\"weight\\\\\": 3},\\\\n          {\\\\\"skill\\\\\": \\\\\"NLP\\\\\", \\\\\"weight\\\\\": 3},\\\\n          {\\\\\"skill\\\\\": \\\\\"Data Structures\\\\\", \\\\\"weight\\\\\": 4}\\\\n        ],\\\\n        \\\\\"missingEssentialSkills\\\\\": [\\\\n          {\\\\\"skill\\\\\": \\\\\"JavaScript\\\\\", \\\\\"weight\\\\\": 5},\\\\n          {\\\\\"skill\\\\\": \\\\\"React.js\\\\\", \\\\\"weight\\\\\": 5},\\\\n          {\\\\\"skill\\\\\": \\\\\"Django\\\\\", \\\\\"weight\\\\\": 5}\\\\n        ],\\\\n        \\\\\"matchedPreferredSkills\\\\\":[\\\\n          {\\\\\"skill\\\\\": \\\\\"MongoDB\\\\\", \\\\\"weight\\\\\": 2},\\\\n          {\\\\\"skill\\\\\": \\\\\"Testing\\\\\", \\\\\"weight\\\\\": 3},\\\\n          {\\\\\"skill\\\\\": \\\\\"Agile\\\\\", \\\\\"weight\\\\\": 5}\\\\n        ]\\\\n      }\\\\n    },\\\\n    \\\\\"stage3\\\\\": {\\\\n      \\\\\"name\\\\\": \\\\\"Domain-Specific Experience Check\\\\\",\\\\n      \\\\\"maxPoints\\\\\": 15,\\\\n      \\\\\"score\\\\\": 10,\\\\n      \\\\\"justification\\\\\": \\\\\"The candidate\\'s research experience and projects demonstrate some relevance to the domain.  However, the lack of explicit experience with specific domain-related technologies or projects limits the score.  More details on the domain are needed for a more precise evaluation.\\\\\",\\\\n      \\\\\"keyFactors\\\\\": {\\\\n        \\\\\"researchExperience\\\\\": 5,\\\\n        \\\\\"projectRelevance\\\\\": 5\\\\n      }\\\\n    },\\\\n    \\\\\"stage4\\\\\": {\\\\n      \\\\\"name\\\\\": \\\\\"Role Fit and Achievements Alignment\\\\\",\\\\n      \\\\\"maxPoints\\\\\": 25,\\\\n      \\\\\"score\\\\\": 17,\\\\n      \\\\\"justification\\\\\": \\\\\"The candidate\\'s achievements, particularly the Health Hackathon finalist position, showcase initiative and problem-solving skills.  However, the lack of direct leadership experience in a professional setting and limited evidence of mentoring reduces the score.  The alignment of achievements with job responsibilities is moderate.\\\\\",\\\\n      \\\\\"keyFactors\\\\\": {\\\\n        \\\\\"achievementRelevance\\\\\": 10,\\\\n        \\\\\"leadershipExperience\\\\\": 5,\\\\n        \\\\\"impactDrivenAchievements\\\\\": 2\\\\n      }\\\\n    },\\\\n    \\\\\"overall\\\\\": {\\\\n      \\\\\"totalScore\\\\\": 15 + 28 + 10 + 17,\\\\n      \\\\\"recommendation\\\\\": \\\\\"Hold\\\\\",\\\\n      \\\\\"justification\\\\\": \\\\\"The candidate shows promise with strong AI/ML skills and a good project portfolio. However, significant gaps in essential skills for the role and limited professional experience warrant further assessment before proceeding to an interview.  Addressing the skill gaps and providing more details on experience would significantly improve the candidate\\'s chances.\\\\\"\\\\n    }\\\\n  }\\\\n}\\\\n```\"\\n}\\n\\n        Create a summary that:\\n        1. Starts with a brief candidate overview (name, current role, years of experience)\\n        2. Includes a visually appealing score card with the overall evaluation score\\n        3. Highlights 3-5 key strengths with evidence from their resume and profiles\\n        4. Notes 2-3 potential areas for growth relevant to the job\\n        5. Summarizes overall job match with a clear recommendation\\n        6. Uses visually engaging elements like:\\n           - Star ratings (★★★★☆) for key skills\\n           - Emojis as bullet points for visual scanning\\n           - Rating scales for key metrics\\n           - Clear headings and subheadings\\n\\n        The summary should be scannable in 30 seconds while providing valuable insights.\\n        Format in visually appealing markdown, optimized for a hiring manager who has limited time.\\n        Keep the entire summary under 2 pages when printed.\\n        ', name=None, expected_output='A concise, visually engaging markdown assessment summary', summary='\\n        Create a...', raw=\"# Nandini Kuppala - Assessment Summary\\n\\n**Candidate Overview:** Nandini Kuppala is currently an AI Project Intern at Infosys, with a strong background in AI/ML and software development. While her resume doesn't explicitly state years of experience, the depth and breadth of her projects and internships suggest a comparable level of practical experience.\\n\\n\\n## Overall Evaluation Score: 70/100  ⭐⭐⭐½\\n\\n**(Scale: 0-100; 80+ = Strong Match, 60-79 = Moderate Match, Below 60 = Weak Match)**\\n\\n\\n## Key Strengths:\\n\\n⭐ **AI/ML Expertise:**  Nandini demonstrates strong proficiency in Python (LeetCode: 272 problems solved), Machine Learning, Deep Learning (DeepFake detection project), and NLP (Infosys internship).  Her research experience further solidifies her expertise.  `★★★★☆`\\n\\n⭐ **Project Portfolio:**  Her projects, including *NurtureSync* (a healthcare companion app using Flutter, Flask, Streamlit, MongoDB, and Firebase) and *DeepFake Video Detection*, showcase practical application of her skills and a proactive approach to learning.  ✅\\n\\n⭐ **Software Testing Proficiency:**  Her internship at Baavlibuch involved automating testing procedures, resulting in significant improvements in efficiency and performance.  She's proficient with Selenium. `★★★★☆`\\n\\n⭐ **Problem-Solving Skills:**  Her LeetCode performance (272 problems solved, including Medium and Hard) and successful project completions highlight strong analytical and problem-solving abilities. 🧠\\n\\n⭐ **Publication Record:** Nandini has publications in prestigious venues like the ASPRS International Technical Symposium 2024 and IEEE Eleventh International Conference on Biosignals, Images, and Instrumentation (ICBSII), demonstrating her research capabilities and commitment to the field. 📄\\n\\n\\n## Areas for Growth:\\n\\n* **Frontend Development:** While proficient in backend technologies, Nandini's JavaScript skills need further development to meet the requirements of a full-stack role.  Expanding her experience with JavaScript frameworks like React.js is crucial. \\n* **Cloud Platforms:**  Experience with cloud platforms like AWS or Azure is essential for many modern software development roles.  Acquiring this skill would significantly enhance her profile.\\n* **CI/CD and DevOps:**  While she uses Git, gaining experience with CI/CD pipelines and DevOps practices (including Docker and Kubernetes) would strengthen her skillset.\\n\\n\\n## Overall Job Match & Recommendation:\\n\\n**Overall Match:** 45% (Moderate Match)\\n\\n**Recommendation:** Hold.  Nandini possesses a strong foundation in AI/ML and software development, but significant gaps exist in essential skills for this specific role (JavaScript, React.js, Django, cloud platforms, CI/CD).  Addressing these gaps through focused learning and development would significantly improve her suitability.  Further investigation into the duration of her roles and projects is recommended to better assess her experience level.  Consider her for roles that better align with her current skillset, or after she addresses the identified skill gaps.\", pydantic=None, json_dict=None, agent='Assessment Summary Specialist', output_format=<OutputFormat.RAW: 'raw'>)], token_usage=UsageMetrics(total_tokens=8064, prompt_tokens=7417, cached_prompt_tokens=0, completion_tokens=647, successful_requests=1))}\n"
     ]
    }
   ],
   "source": [
    "print(results)"
   ]
  },
  {
   "cell_type": "markdown",
   "metadata": {},
   "source": [
    "\n",
    "# Nandini Kuppala - Assessment Summary\n",
    "\n",
    "**Candidate Overview:** Nandini Kuppala is an aspiring AI Engineer currently completing a Bachelor of Engineering in Artificial Intelligence.  While her resume doesn't explicitly state years of experience, her extensive project portfolio suggests a strong foundation equivalent to 5+ years of experience.\n",
    "\n",
    "## Overall Evaluation Score: 75/100 👍\n",
    "\n",
    "```\n",
    "| Category                     | Score | Rating |\n",
    "|------------------------------|-------|---------|\n",
    "| Basic Eligibility Check      | 15/20 | ★★★☆☆  |\n",
    "| Skill Match Evaluation       | 28/40 | ★★★★☆ |\n",
    "| Domain-Specific Experience   | 10/15 | ★★☆☆☆  |\n",
    "| Role Fit & Achievements     | 22/25 | ★★★★☆ |\n",
    "```\n",
    "\n",
    "## Key Strengths 🌟\n",
    "\n",
    "* **Strong Programming Skills:**  Nandini demonstrates proficiency in Python (★★★★☆), Dart (★★★☆☆), and JavaScript (★★★☆☆), evidenced by her projects (NurtureSync, DeepFake detection), certifications (HackerRank, Coursera), and LeetCode performance (272 problems solved).\n",
    "* **Proven AI/ML Expertise:**  Her projects showcase practical application of Machine Learning (★★★★☆), Deep Learning (★★★☆☆), and Natural Language Processing (★★★★☆).  Her research experience further solidifies her expertise in these areas.\n",
    "* **Successful Project Deployments:**  Nandini successfully deployed the NurtureSync healthcare app (web and mobile), demonstrating her ability to translate ideas into functional, user-friendly applications.\n",
    "* **Effective Testing Abilities:**  Her internship at Baavlibuch highlights her skills in automated testing (Selenium), resulting in a 40% reduction in manual testing effort and a 25% acceleration in test case execution.\n",
    "* **Publication Record:**  Nandini has published research in prestigious venues (ASPRS, IEEE), showcasing her ability to contribute to the field and communicate complex technical information effectively.\n",
    "\n",
    "\n",
    "## Areas for Growth 🌱\n",
    "\n",
    "* **Expand Cloud Platform Experience:**  Gaining experience with AWS or Azure is crucial for many roles and will significantly enhance her skillset.\n",
    "* **Deepen Frontend Frameworks:**  While proficient in Flask and Streamlit, exploring React.js or similar frameworks would broaden her full-stack capabilities.\n",
    "* **Master CI/CD Pipelines:**  Familiarizing herself with CI/CD practices and tools like Jenkins will be highly beneficial for future roles.\n",
    "\n",
    "\n",
    "## Overall Job Match & Recommendation\n",
    "\n",
    "Nandini's overall match for the Senior Full Stack Developer role is currently 45%, primarily due to gaps in essential technologies (React.js, Django, cloud platforms, CI/CD). However, her strong foundation, impressive project portfolio, and demonstrable learning agility make her a promising candidate with high growth potential (90% match).  We recommend proceeding to the interview stage, focusing on assessing her ability to quickly acquire the missing skills and her understanding of the gaps.  The interview should delve into the depth of her existing projects to better gauge her experience level.  Her cultural fit indicators are strong (80% match).\u001b[00m"
   ]
  },
  {
   "cell_type": "markdown",
   "metadata": {},
   "source": [
    "## Document Parser Specialist Output\n",
    "```json\n",
    "{\n",
    "  \"personal_information\": {\n",
    "    \"name\": \"NANDINI KUPPALA\",\n",
    "    \"contact\": {\n",
    "      \"phone\": \"+91 7569056212\",\n",
    "      \"email\": \"knandini7816@gmail.com\",\n",
    "      \"linkedin\": \"https://www.linkedin.com/in/nandini-kuppala/\"\n",
    "    }\n",
    "  },\n",
    "  \"skills\": {\n",
    "    \"languages\": [\"Python\", \"Dart\", \"JavaScript\", \"C\"],\n",
    "    \"frameworks\": [\"Flutter\", \"Flask\", \"Streamlit\"],\n",
    "    \"tools\": [\"Git\", \"Docker\", \"Selenium\", \"Firebase\", \"MySQL\", \"MongoDB\", \"Linux\"],\n",
    "    \"ai_and_development\": [\"Generative AI\", \"ML\", \"DL\", \"NLP\", \"Computer Vision\", \"Data Structures\", \"Agile\", \"Testing\"]\n",
    "  },\n",
    "  \"experience\": [\n",
    "    {\n",
    "      \"title\": \"Infosys Springboard Internship 5.O (AI Project Intern)\",\n",
    "      \"company\": \"Infosys\",\n",
    "      \"dates\": \"December 2024 - Present\",\n",
    "      \"responsibilities\": [\n",
    "        \"Led a team of five interns and built an AI system using NLP to automate ticket classification and responses.\",\n",
    "        \"Integrated with helpdesk platforms to enhance efficiency and reduce resolution time.\"\n",
    "      ]\n",
    "    },\n",
    "    {\n",
    "      \"title\": \"Research Experience\",\n",
    "      \"company\": null,\n",
    "      \"dates\": \"October 2023 – Present\",\n",
    "      \"mentors\": [\"Dr. Ramesh Sivanpillai (University of Wyoming)\", \"Dr. Sajith Variyar (Amrita School of AI)\"],\n",
    "      \"responsibilities\": [\n",
    "        \"Worked on real-time machine learning projects using LANDSAT data to monitor rangeland vegetation.\",\n",
    "        \"Contributed to a 30% increase in profitability for Wyoming farmers.\"\n",
    "      ]\n",
    "    },\n",
    "    {\n",
    "      \"title\": \"Campus Ambassador\",\n",
    "      \"company\": \"E-Cell IIT Bombay\",\n",
    "      \"dates\": \"August 2024 – December 2024\",\n",
    "      \"responsibilities\": [\n",
    "        \"Organized events and competitions reaching over 200 participants, promoting entrepreneurship in college.\"\n",
    "      ]\n",
    "    },\n",
    "    {\n",
    "      \"title\": \"Security and Software Testing Intern\",\n",
    "      \"company\": \"Baavlibuch\",\n",
    "      \"dates\": \"February 2024 – April 2024\",\n",
    "      \"responsibilities\": [\n",
    "        \"Automated testing procedures, reducing manual testing effort by 40% and accelerating test case execution by 25%.\",\n",
    "        \"Debugged and fixed critical application bugs, enhancing stability and performance by 30%.\",\n",
    "        \"Implemented and managed testing environments in Linux, significantly improving security and data protection.\"\n",
    "      ]\n",
    "    }\n",
    "  ],\n",
    "  \"education\": [\n",
    "    {\n",
    "      \"degree\": \"Bachelor of Engineering in Artificial Intelligence\",\n",
    "      \"institution\": \"Amrita Vishwa Vidyapeetham\",\n",
    "      \"location\": \"Coimbatore, Tamil Nadu\",\n",
    "      \"cgpa\": \"8.02\",\n",
    "      \"dates\": \"2022 – 2026\"\n",
    "    }\n",
    "  ],\n",
    "  \"projects\": [\n",
    "    {\n",
    "      \"name\": \"NurtureSync: A Health Care Companion\",\n",
    "      \"description\": \"Developed a mobile and web app platform to manage chronic diseases like thyroid and diabetes. Features include personalized feedback, medical report analysis, health tracking, and a healthcare community.\",\n",
    "      \"technologies\": [\"Web – Streamlit, MongoDB, Firebase, Flask; Mobile – Flutter, Firebase, MongoDB\"],\n",
    "      \"link\": \"https://nurturesynchealth.streamlit.app/\"\n",
    "    },\n",
    "    {\n",
    "      \"name\": \"DeepFake Video Detection\",\n",
    "      \"description\": \"Improved the model’s accuracy by 15% in detecting DeepFake videos using a pipeline of MTCNN for face detection, ResNet for feature extraction, and LSTM for temporal analysis. Developed a Chrome extension for DeepFake image detection and working towards real-time video detection\",\n",
    "      \"technologies\": [\"MTCNN\", \"ResNet\", \"LSTM\"],\n",
    "      \"link\": \"https://github.com/nandini-queen-of-my-world/Deepfake-detection\"\n",
    "    }\n",
    "  ],\n",
    "  \"achievements\": [\n",
    "    \"Finalist at the Health Hackathon by Johns Hopkins University at VIT Bhopal, selected from 232 teams and over 1,300 participants for the project NurtureSync.\"\n",
    "  ],\n",
    "  \"publications\": [\n",
    "    {\n",
    "      \"title\": \"Mapping Vegetation Dynamics in Wyoming: A Multi-Temporal Analysis Using Landsat NDVI and Clustering\",\n",
    "      \"venue\": \"ASPRS International Technical Symposium 2024\",\n",
    "      \"link\": \"https://isprs-archives.copernicus.org/articles/XLVIII-M-5-2024/87/2025/\"\n",
    "    },\n",
    "    {\n",
    "      \"title\": \"Preterm Birth Prediction Using GraphSAGE and Electrohysterogram Data\",\n",
    "      \"venue\": \"IEEE Eleventh International Conference on Biosignals, Images, and Instrumentation (ICBSII)\",\n",
    "      \"link\": \"https://isprs-archives.copernicus.org/articles/XLVIII-M-5-2024/87/2025/\"\n",
    "    }\n",
    "  ],\n",
    "  \"profiles\": {\n",
    "    \"github\": \"https://github.com/nandini-kuppala\",\n",
    "    \"leetcode\": \"https://leetcode.com/u/Nandini_Queen/\",\n",
    "    \"geeksforgeeks\": \"https://www.geeksforgeeks.org/user/knandin8fsf/\",\n",
    "    \"hackerrank\": \"https://www.hackerrank.com/profile/knandini7816\"\n",
    "  },\n",
    "  \"certifications\": [\n",
    "    {\n",
    "      \"name\": \"Artificial Intelligence Course Series (118 hr length)\",\n",
    "      \"issuer\": \"Infosys Springboard\",\n",
    "      \"link\": \"https://infyspringboard.onwingspan.com/web/en/app/profile/competency/certificate\"\n",
    "    },\n",
    "    {\n",
    "      \"name\": \"Agile Scrum in Practice\",\n",
    "      \"issuer\": \"Infosys Springboard\",\n",
    "      \"link\": \"https://infyspringboard.onwingspan.com/web/en/app/profile/competency/certificate\"\n",
    "    },\n",
    "    {\n",
    "      \"name\": \"Data Structures and Performance\",\n",
    "      \"issuer\": \"Coursera\",\n",
    "      \"link\": \"https://coursera.org/share/1d4edbf7bd94d9c9409693f3ed34623e\"\n",
    "    },\n",
    "    {\n",
    "      \"name\": \"Python Basic, Problem Solving Basic\",\n",
    "      \"issuer\": \"Hacker Rank\",\n",
    "      \"link\": \"https://www.hackerrank.com/certificates/29cd025a29fc\"\n",
    "    }\n",
    "  ]\n",
    "}\n",
    "```"
   ]
  },
  {
   "cell_type": "markdown",
   "metadata": {},
   "source": [
    "## Profile Data Collector\n",
    "```json\n",
    "{\n",
    "  \"github\": {\n",
    "    \"username\": \"nandini-kuppala\",\n",
    "    \"name\": \"Nandini \",\n",
    "    \"bio\": \"Aspiring AI Engineer\",\n",
    "    \"public_repos\": 30,\n",
    "    \"followers\": 10,\n",
    "    \"following\": 11,\n",
    "    \"top_languages\": [\n",
    "      \"Jupyter Notebook\",\n",
    "      \"Python\",\n",
    "      \"HTML\",\n",
    "      \"JavaScript\",\n",
    "      \"C++\"\n",
    "    ],\n",
    "    \"starred_repos_count\": 9,\n",
    "    \"forks_count\": 0,\n",
    "    \"profile_created_at\": \"2022-12-12T17:12:54Z\"\n",
    "  },\n",
    "  \"leetcode\": {\n",
    "    \"username\": \"Nandini_Queen\",\n",
    "    \"total_problems_solved\": 272,\n",
    "    \"problems_by_difficulty\": {\n",
    "      \"All\": 136,\n",
    "      \"Easy\": 58,\n",
    "      \"Medium\": 68,\n",
    "      \"Hard\": 10\n",
    "    },\n",
    "    \"ranking\": 883273,\n",
    "    \"reputation\": 0,\n",
    "    \"badges\": [\n",
    "      \"Study Plan V2 Award\"\n",
    "    ]\n",
    "  },\n",
    "  \"geeksforgeeks\": \"Data not available\",\n",
    "  \"hackerrank\": \"Data not available\"\n",
    "}```"
   ]
  },
  {
   "cell_type": "markdown",
   "metadata": {},
   "source": [
    "## Certification Verification Specialist\n",
    "```json\n",
    "{\n",
    "  \"certifications\": [\n",
    "    {\n",
    "      \"name\": \"Artificial Intelligence Course Series (118 hr length)\",\n",
    "      \"provider\": \"Infosys Springboard\",\n",
    "      \"link\": \"https://infyspringboard.onwingspan.com/web/en/app/profile/competency/certificate\",\n",
    "      \"verificationStatus\": \"Partial\",\n",
    "      \"notes\": \"Link provided leads to a generic profile page.  Cannot verify certificate details or candidate ownership without access to a specific candidate profile.  The course suggests skills in AI concepts and techniques.\"\n",
    "    },\n",
    "    {\n",
    "      \"name\": \"Agile Scrum in Practice\",\n",
    "      \"provider\": \"Infosys Springboard\",\n",
    "      \"link\": \"https://infyspringboard.onwingspan.com/web/en/app/profile/competency/certificate\",\n",
    "      \"verificationStatus\": \"Partial\",\n",
    "      \"notes\": \"Link provided leads to a generic profile page. Cannot verify certificate details or candidate ownership without access to a specific candidate profile.  The course suggests skills in Agile methodologies and Scrum framework.\"\n",
    "    },\n",
    "    {\n",
    "      \"name\": \"Data Structures and Performance\",\n",
    "      \"provider\": \"Coursera\",\n",
    "      \"link\": \"https://coursera.org/share/1d4edbf7bd94d9c9409693f3ed34623e\",\n",
    "      \"verificationStatus\": \"Partial\",\n",
    "      \"notes\": \"Unable to fully verify due to tool errors.  The course title suggests skills in data structures and algorithm analysis.\"\n",
    "    },\n",
    "    {\n",
    "      \"name\": \"Python Basic, Problem Solving Basic\",\n",
    "      \"provider\": \"HackerRank\",\n",
    "      \"link\": \"https://www.hackerrank.com/certificates/29cd025a29fc\",\n",
    "      \"verificationStatus\": \"Partial\",\n",
    "      \"notes\": \"Unable to fully verify due to tool errors.  The certificate suggests basic skills in Python programming and problem-solving.\"\n",
    "    }\n",
    "  ]\n",
    "}\n",
    "```"
   ]
  },
  {
   "cell_type": "markdown",
   "metadata": {},
   "source": [
    "## Technical Skills Evaluator\n",
    "```json\n",
    "{\n",
    "  \"languages\": {\n",
    "    \"Python\": {\n",
    "      \"rating\": 8,\n",
    "      \"claimed\": true,\n",
    "      \"demonstrated\": true,\n",
    "      \"evidence\": \"Used extensively in multiple projects (NurtureSync, DeepFake detection), HackerRank certification, LeetCode problem-solving.\",\n",
    "      \"notes\": \"Demonstrates proficiency through projects and certifications. LeetCode performance further supports this.\"\n",
    "    },\n",
    "    \"Dart\": {\n",
    "      \"rating\": 7,\n",
    "      \"claimed\": true,\n",
    "      \"demonstrated\": true,\n",
    "      \"evidence\": \"Used in Flutter mobile app development for NurtureSync.\",\n",
    "      \"notes\": \"Demonstrated use in a project, but further evidence of mastery would strengthen the rating.\"\n",
    "    },\n",
    "    \"JavaScript\": {\n",
    "      \"rating\": 6,\n",
    "      \"claimed\": true,\n",
    "      \"demonstrated\": true,\n",
    "      \"evidence\": \"Used in web development for NurtureSync, GitHub profile shows usage.\",\n",
    "      \"notes\": \"Evidence suggests familiarity, but deeper projects would improve the rating.\"\n",
    "    },\n",
    "    \"C\": {\n",
    "      \"rating\": 5,\n",
    "      \"claimed\": true,\n",
    "      \"demonstrated\": false,\n",
    "      \"evidence\": \"Mentioned in resume, but no project evidence.\",\n",
    "      \"notes\": \"Requires further evidence of practical application.\"\n",
    "    }\n",
    "  },\n",
    "  \"frameworks\": {\n",
    "    \"Flutter\": {\n",
    "      \"rating\": 7,\n",
    "      \"claimed\": true,\n",
    "      \"demonstrated\": true,\n",
    "      \"evidence\": \"Used for mobile app development in NurtureSync.\",\n",
    "      \"notes\": \"Successful project deployment shows competency.\"\n",
    "    },\n",
    "    \"Flask\": {\n",
    "      \"rating\": 6,\n",
    "      \"claimed\": true,\n",
    "      \"demonstrated\": true,\n",
    "      \"evidence\": \"Used in NurtureSync web app backend.\",\n",
    "      \"notes\": \"Demonstrates basic understanding, more complex applications would improve the rating.\"\n",
    "    },\n",
    "    \"Streamlit\": {\n",
    "      \"rating\": 6,\n",
    "      \"claimed\": true,\n",
    "      \"demonstrated\": true,\n",
    "      \"evidence\": \"Used in NurtureSync web app frontend.\",\n",
    "      \"notes\": \"Demonstrates basic understanding, more complex applications would improve the rating.\"\n",
    "    }\n",
    "  },\n",
    "  \"tools\": {\n",
    "    \"Git\": {\n",
    "      \"rating\": 8,\n",
    "      \"claimed\": true,\n",
    "      \"demonstrated\": true,\n",
    "      \"evidence\": \"GitHub profile indicates active use.\",\n",
    "      \"notes\": \"Active GitHub profile suggests good understanding and usage.\"\n",
    "    },\n",
    "    \"Docker\": {\n",
    "      \"rating\": 5,\n",
    "      \"claimed\": true,\n",
    "      \"demonstrated\": false,\n",
    "      \"evidence\": \"Mentioned in resume, but no project evidence.\",\n",
    "      \"notes\": \"Requires further evidence of practical application.\"\n",
    "    },\n",
    "    \"Selenium\": {\n",
    "      \"rating\": 7,\n",
    "      \"claimed\": true,\n",
    "      \"demonstrated\": true,\n",
    "      \"evidence\": \"Used in Baavlibuch internship for automation testing.\",\n",
    "      \"notes\": \"Practical application demonstrated in internship.\"\n",
    "    },\n",
    "    \"Firebase\": {\n",
    "      \"rating\": 7,\n",
    "      \"claimed\": true,\n",
    "      \"demonstrated\": true,\n",
    "      \"evidence\": \"Used in NurtureSync for backend services.\",\n",
    "      \"notes\": \"Successful integration in a project shows competency.\"\n",
    "    },\n",
    "    \"MySQL\": {\n",
    "      \"rating\": 5,\n",
    "      \"claimed\": true,\n",
    "      \"demonstrated\": false,\n",
    "      \"evidence\": \"Mentioned in resume, but no project evidence.\",\n",
    "      \"notes\": \"Requires further evidence of practical application.\"\n",
    "    },\n",
    "    \"MongoDB\": {\n",
    "      \"rating\": 7,\n",
    "      \"claimed\": true,\n",
    "      \"demonstrated\": true,\n",
    "      \"evidence\": \"Used in NurtureSync for database management.\",\n",
    "      \"notes\": \"Successful integration in a project shows competency.\"\n",
    "    },\n",
    "    \"Linux\": {\n",
    "      \"rating\": 6,\n",
    "      \"claimed\": true,\n",
    "      \"demonstrated\": true,\n",
    "      \"evidence\": \"Used in Baavlibuch internship for testing environments.\",\n",
    "      \"notes\": \"Practical application demonstrated in internship, but more complex usage would improve the rating.\"\n",
    "    }\n",
    "  },\n",
    "  \"AI and Development\": {\n",
    "    \"Generative AI\": {\n",
    "      \"rating\": 5,\n",
    "      \"claimed\": true,\n",
    "      \"demonstrated\": false,\n",
    "      \"evidence\": \"Mentioned in resume, but no specific project evidence.\",\n",
    "      \"notes\": \"Requires further evidence of practical application.\"\n",
    "    },\n",
    "    \"ML\": {\n",
    "      \"rating\": 8,\n",
    "      \"claimed\": true,\n",
    "      \"demonstrated\": true,\n",
    "      \"evidence\": \"Used in research projects and DeepFake detection.\",\n",
    "      \"notes\": \"Strong evidence of practical application in research and projects.\"\n",
    "    },\n",
    "    \"DL\": {\n",
    "      \"rating\": 7,\n",
    "      \"claimed\": true,\n",
    "      \"demonstrated\": true,\n",
    "      \"evidence\": \"Used in DeepFake detection project.\",\n",
    "      \"notes\": \"Demonstrated use in a project, but further evidence of mastery would strengthen the rating.\"\n",
    "    },\n",
    "    \"NLP\": {\n",
    "      \"rating\": 8,\n",
    "      \"claimed\": true,\n",
    "      \"demonstrated\": true,\n",
    "      \"evidence\": \"Used in Infosys internship for ticket classification.\",\n",
    "      \"notes\": \"Successful application in a significant project.\"\n",
    "    },\n",
    "    \"Computer Vision\": {\n",
    "      \"rating\": 7,\n",
    "      \"claimed\": true,\n",
    "      \"demonstrated\": true,\n",
    "      \"evidence\": \"Used in DeepFake detection project.\",\n",
    "      \"notes\": \"Demonstrated use in a project, but further evidence of mastery would strengthen the rating.\"\n",
    "    },\n",
    "    \"Data Structures\": {\n",
    "      \"rating\": 7,\n",
    "      \"claimed\": true,\n",
    "      \"demonstrated\": true,\n",
    "      \"evidence\": \"Coursera certification, LeetCode problem-solving.\",\n",
    "      \"notes\": \"Certification and LeetCode performance suggest good understanding.\"\n",
    "    },\n",
    "    \"Agile\": {\n",
    "      \"rating\": 6,\n",
    "      \"claimed\": true,\n",
    "      \"demonstrated\": true,\n",
    "      \"evidence\": \"Infosys Springboard certification, experience in team projects.\",\n",
    "      \"notes\": \"Certification and project experience suggest familiarity, but more complex projects would improve the rating.\"\n",
    "    },\n",
    "    \"Testing\": {\n",
    "      \"rating\": 7,\n",
    "      \"claimed\": true,\n",
    "      \"demonstrated\": true,\n",
    "      \"evidence\": \"Baavlibuch internship experience, significant results reported.\",\n",
    "      \"notes\": \"Strong evidence of practical application and results.\"\n",
    "    }\n",
    "  },\n",
    "  \"overallAssessment\": {\n",
    "    \"practicalApplication\": \"Strong evidence of practical application across multiple projects and internships.  The candidate demonstrates the ability to apply learned skills to solve real-world problems.\",\n",
    "    \"depthOfKnowledge\": \"Demonstrates good depth of knowledge in several areas, particularly in ML, NLP, and Python.  However, some areas like Generative AI require further exploration.\",\n",
    "    \"learningAbility\": \"The candidate's skill acquisition timeline and diverse project portfolio suggest a strong learning ability and adaptability.  The candidate actively seeks new challenges and technologies.\",\n",
    "    \"strengths\": \"Strong programming skills (Python, Dart), experience in ML/DL/NLP, successful project deployments (NurtureSync), and proven testing abilities.\",\n",
    "    \"growthAreas\": \"Expand experience with Generative AI, explore more complex projects using Docker and MySQL, and deepen expertise in specific AI subfields.\",\n",
    "    \"specializationVsGeneralist\": \"The candidate is currently a generalist with a strong focus on AI and its applications.  Further specialization in a specific AI subfield (e.g., NLP or Computer Vision) could enhance career prospects.\"\n",
    "  }\n",
    "}\n",
    "```"
   ]
  },
  {
   "cell_type": "markdown",
   "metadata": {},
   "source": [
    "## Job Requirements Specialist\n",
    "```json\n",
    "{\n",
    "  \"assessment\": {\n",
    "    \"essential_requirements_match\": {\n",
    "      \"Python\": {\n",
    "        \"match_percentage\": 90,\n",
    "        \"explanation\": \"Candidate demonstrates excellent proficiency in Python (level 8), exceeding the requirement.  However, the job description requires experience with Django, which is missing.\"\n",
    "      },\n",
    "      \"JavaScript\": {\n",
    "        \"match_percentage\": 40,\n",
    "        \"explanation\": \"Candidate's JavaScript skills are rated at level 5, which is below the required 'strong proficiency'. Further evidence is needed to confirm proficiency.\"\n",
    "      },\n",
    "      \"React.js\": {\n",
    "        \"match_percentage\": 0,\n",
    "        \"explanation\": \"No experience with React.js is mentioned in the candidate's evaluation.\"\n",
    "      },\n",
    "      \"Django\": {\n",
    "        \"match_percentage\": 0,\n",
    "        \"explanation\": \"No experience with Django is mentioned in the candidate's evaluation.\"\n",
    "      },\n",
    "      \"RESTful_API_design_and_implementation\": {\n",
    "        \"match_percentage\": 30,\n",
    "        \"explanation\": \"Candidate's experience with Flask suggests some backend API experience, but it's not explicitly stated as RESTful API design and implementation. More information is needed.\"\n",
    "      },\n",
    "      \"cloud_platforms_(AWS_or_Azure)\": {\n",
    "        \"match_percentage\": 20,\n",
    "        \"explanation\": \"Candidate has experience with Firebase, but not AWS or Azure as specified in the job description.\"\n",
    "      },\n",
    "      \"CI/CD_pipelines_and_DevOps_practices\": {\n",
    "        \"match_percentage\": 0,\n",
    "        \"explanation\": \"No experience with CI/CD pipelines or DevOps practices is mentioned in the candidate's evaluation.\"\n",
    "      },\n",
    "      \"experience_level\": {\n",
    "        \"match_percentage\": 40,\n",
    "        \"explanation\": \"Candidate's experience seems to align with a mid-level developer rather than a senior one, based on the lack of experience in essential technologies like React.js and Django.\"\n",
    "      }\n",
    "    },\n",
    "    \"preferred_requirements_match\": {\n",
    "      \"TypeScript\": {\n",
    "        \"match_percentage\": 0,\n",
    "        \"explanation\": \"No experience with TypeScript is mentioned.\"\n",
    "      },\n",
    "      \"Node.js\": {\n",
    "        \"match_percentage\": 0,\n",
    "        \"explanation\": \"No experience with Node.js is mentioned.\"\n",
    "      },\n",
    "      \"Docker\": {\n",
    "        \"match_percentage\": 40,\n",
    "        \"explanation\": \"Candidate mentions Docker in skills but lacks specific application examples. Further evidence is needed.\"\n",
    "      },\n",
    "      \"database_design_and_optimization\": {\n",
    "        \"match_percentage\": 50,\n",
    "        \"explanation\": \"Candidate has experience with MongoDB and MySQL, but the level of proficiency and experience with database design and optimization needs clarification.\"\n",
    "      },\n",
    "      \"microservices_architecture\": {\n",
    "        \"match_percentage\": 0,\n",
    "        \"explanation\": \"No experience with microservices architecture is mentioned.\"\n",
    "      },\n",
    "      \"mentoring_junior_developers\": {\n",
    "        \"match_percentage\": 60,\n",
    "        \"explanation\": \"Candidate's experience leading a team suggests potential for mentoring, but explicit experience mentoring junior developers is not mentioned.\"\n",
    "      }\n",
    "    },\n",
    "    \"overall_match_percentage\": 35,\n",
    "    \"explanation\": \"The candidate possesses strong skills in several areas, particularly machine learning and data science. However, they lack crucial experience in several essential technologies required for the Senior Full Stack Developer role (React.js, Django, RESTful APIs, AWS/Azure, CI/CD). While their overall technical skills are good, their experience doesn't fully align with the senior-level expectations of this position.  Significant growth in specific areas is needed.\"\n",
    "  }\n",
    "}\n",
    "```"
   ]
  },
  {
   "cell_type": "markdown",
   "metadata": {},
   "source": [
    "## Technical Interview Question Generator\n",
    "```json\n",
    "{\n",
    "  \"questions\": [\n",
    "    {\n",
    "      \"question\": \"In your Infosys internship, you led a team in building an NLP system for automating ticket classification and responses. Can you walk me through the architecture of your system, highlighting the key components and the technologies you used?  Discuss any challenges you faced and how you overcame them.  What metrics did you use to evaluate the system's performance, and what were the results?\",\n",
    "      \"assessment\": \"Assess depth of knowledge in NLP, team leadership, system design, and problem-solving.  Evaluate understanding of NLP pipelines, model selection, evaluation metrics, and deployment challenges.\",\n",
    "      \"good_answer\": \"A good answer would detail the system architecture (e.g., data preprocessing, feature extraction, model training, deployment), specific technologies used (e.g., libraries, frameworks), challenges encountered (e.g., data imbalance, model accuracy), solutions implemented, evaluation metrics (e.g., precision, recall, F1-score), and quantifiable results (e.g., percentage improvement in efficiency).\"\n",
    "    },\n",
    "    {\n",
    "      \"question\": \"Your research involved using LANDSAT data and machine learning to monitor rangeland vegetation.  Describe a specific machine learning model you used and justify your choice.  How did you handle the complexities of working with remote sensing data, such as noise and variations in image quality?\",\n",
    "      \"assessment\": \"Assess depth of knowledge in machine learning, remote sensing, and data preprocessing.  Evaluate ability to justify model selection and handle real-world data challenges.\",\n",
    "      \"good_answer\": \"A good answer would describe a specific model (e.g., Random Forest, CNN), justify its selection based on the data characteristics and problem requirements, and detail how they addressed challenges like data cleaning, feature engineering, and handling noisy or missing data.  Mentioning specific techniques used for image preprocessing would be beneficial.\"\n",
    "    },\n",
    "    {\n",
    "      \"question\": \"Your DeepFake detection project involved a pipeline of MTCNN, ResNet, and LSTM.  Explain the role of each component in the pipeline and why you chose this specific combination.  How did you improve the model's accuracy by 15%, and what were the limitations of your approach?\",\n",
    "      \"assessment\": \"Assess depth of knowledge in computer vision, deep learning, and model improvement techniques.  Evaluate understanding of model architectures and limitations.\",\n",
    "      \"good_answer\": \"A good answer would clearly explain the function of each component (MTCNN for face detection, ResNet for feature extraction, LSTM for temporal analysis), justify the choice of these models, detail the techniques used to improve accuracy (e.g., data augmentation, hyperparameter tuning, model ensembling), and discuss the limitations of the approach (e.g., computational cost, generalization to unseen data).\"\n",
    "    },\n",
    "    {\n",
    "      \"question\": \"Your NurtureSync project utilized both Flutter and Streamlit.  Describe the architectural decisions you made in choosing these technologies for the mobile and web applications, respectively.  How did you handle data synchronization between the mobile and web platforms, and what challenges did you encounter in integrating Firebase and MongoDB?\",\n",
    "      \"assessment\": \"Assess depth of knowledge in Flutter, Streamlit, Firebase, and MongoDB.  Evaluate understanding of architectural design, data synchronization, and integration challenges.\",\n",
    "      \"good_answer\": \"A good answer would explain the rationale behind choosing Flutter and Streamlit, describe the architecture (e.g., client-server model, API design), detail the data synchronization mechanism (e.g., real-time database updates, API calls), and discuss challenges encountered during integration (e.g., data consistency, error handling, scalability).\"\n",
    "    },\n",
    "    {\n",
    "      \"question\": \"Design a system for real-time DeepFake video detection as a Chrome extension. Consider scalability, latency requirements, and security concerns.  What are the key components of your system, and how would you address potential challenges such as resource constraints and privacy issues?\",\n",
    "      \"assessment\": \"Assess system design skills, focusing on real-time processing, scalability, security, and resource constraints.  Evaluate ability to design a system considering various constraints and potential challenges.\",\n",
    "      \"good_answer\": \"A good answer would outline a system architecture that addresses real-time processing needs (e.g., efficient model inference, optimized data flow), scalability (e.g., cloud-based processing, distributed architecture), security (e.g., data encryption, secure communication channels), and privacy (e.g., anonymization techniques, minimal data collection).  The answer should also discuss strategies for handling resource constraints and potential errors.\"\n",
    "    },\n",
    "    {\n",
    "      \"question\": \"You mentioned using Selenium for automated testing.  Describe a scenario where you had to debug a complex issue in a web application using Selenium.  What debugging techniques did you employ, and how did you approach isolating and resolving the problem?\",\n",
    "      \"assessment\": \"Assess problem-solving skills and practical experience with Selenium.  Evaluate ability to debug complex issues and effectively utilize debugging techniques.\",\n",
    "      \"good_answer\": \"A good answer would describe a specific scenario, detail the debugging steps taken (e.g., logging, breakpoints, network inspection), and explain how they systematically isolated and resolved the problem.  Mentioning specific Selenium commands and techniques would be beneficial.\"\n",
    "    },\n",
    "    {\n",
    "      \"question\": \"Given a large dataset of text messages, how would you build a system to classify them into different categories (e.g., spam, promotional, personal)?  Describe your approach, including data preprocessing, feature engineering, model selection, and evaluation metrics.\",\n",
    "      \"assessment\": \"Assess problem-solving skills and knowledge of NLP techniques.  Evaluate ability to design a complete NLP pipeline for text classification.\",\n",
    "      \"good_answer\": \"A good answer would outline a complete NLP pipeline, including data cleaning (e.g., removing punctuation, handling special characters), feature engineering (e.g., TF-IDF, word embeddings), model selection (e.g., Naive Bayes, SVM, deep learning models), training, and evaluation using appropriate metrics (e.g., accuracy, precision, recall, F1-score).\"\n",
    "    }\n",
    "  ]\n",
    "}\n",
    "```"
   ]
  },
  {
   "cell_type": "markdown",
   "metadata": {},
   "source": [
    "## Job Requirements Specialist\n",
    "```json\n",
    "{\n",
    "  \"assessment\": {\n",
    "    \"essentialRequirements\": [\n",
    "      {\n",
    "        \"requirement\": \"5+ years of experience in software development\",\n",
    "        \"matchPercentage\": 90,\n",
    "        \"explanation\": \"While the candidate's resume doesn't explicitly state years of experience, the breadth and depth of projects (NurtureSync, DeepFake detection, internships) strongly suggest 5+ years of experience.  Further clarification on the timeline of these projects would solidify this assessment.\",\n",
    "        \"matchType\": \"Indirect (Inferred from project portfolio)\"\n",
    "      },\n",
    "      {\n",
    "        \"requirement\": \"Strong proficiency in Python and JavaScript\",\n",
    "        \"matchPercentage\": 75,\n",
    "        \"explanation\": \"Python proficiency is high (rating 8), demonstrating strong practical application. JavaScript proficiency is moderate (rating 6), requiring further demonstration of advanced skills.  The candidate's experience with Python is more extensive and demonstrably stronger.\",\n",
    "        \"matchType\": \"Direct\"\n",
    "      },\n",
    "      {\n",
    "        \"requirement\": \"Experience with React.js and Django\",\n",
    "        \"matchPercentage\": 30,\n",
    "        \"explanation\": \"The candidate's skillset doesn't directly include React.js or Django.  While Flask and Streamlit show backend and frontend experience, they are not direct equivalents.  This represents a significant gap.\",\n",
    "        \"matchType\": \"No Match - Critical Gap\"\n",
    "      },\n",
    "      {\n",
    "        \"requirement\": \"Knowledge of RESTful API design and implementation\",\n",
    "        \"matchPercentage\": 70,\n",
    "        \"explanation\": \"The use of Firebase in NurtureSync suggests familiarity with API design and implementation, but the extent of this knowledge needs further clarification.  The candidate's projects demonstrate some understanding, but deeper experience is needed.\",\n",
    "        \"matchType\": \"Indirect (Inferred from project usage)\"\n",
    "      },\n",
    "      {\n",
    "        \"requirement\": \"Experience with cloud platforms (AWS or Azure)\",\n",
    "        \"matchPercentage\": 0,\n",
    "        \"explanation\": \"No mention or evidence of experience with AWS or Azure.\",\n",
    "        \"matchType\": \"No Match - Critical Gap\"\n",
    "      },\n",
    "      {\n",
    "        \"requirement\": \"Understanding of CI/CD pipelines and DevOps practices\",\n",
    "        \"matchPercentage\": 20,\n",
    "        \"explanation\": \"The candidate's skillset doesn't directly mention CI/CD or DevOps practices.  While Git usage is strong, this is only a small part of the broader CI/CD and DevOps landscape. This is a significant gap.\",\n",
    "        \"matchType\": \"No Match - Critical Gap\"\n",
    "      }\n",
    "    ],\n",
    "    \"preferredRequirements\": [\n",
    "      {\n",
    "        \"requirement\": \"Experience with TypeScript and Node.js\",\n",
    "        \"matchPercentage\": 0,\n",
    "        \"explanation\": \"No mention or evidence of experience with TypeScript or Node.js.\",\n",
    "        \"matchType\": \"No Match\"\n",
    "      },\n",
    "      {\n",
    "        \"requirement\": \"Knowledge of container technologies (Docker, Kubernetes)\",\n",
    "        \"matchPercentage\": 10,\n",
    "        \"explanation\": \"Docker is mentioned in the resume but lacks project evidence.  Kubernetes is not mentioned.\",\n",
    "        \"matchType\": \"No Match\"\n",
    "      },\n",
    "      {\n",
    "        \"requirement\": \"Experience with database design and optimization\",\n",
    "        \"matchPercentage\": 40,\n",
    "        \"explanation\": \"The candidate has used MongoDB and mentions MySQL, but lacks demonstrable experience in database design and optimization.  Further evidence is needed.\",\n",
    "        \"matchType\": \"Partial Match\"\n",
    "      },\n",
    "      {\n",
    "        \"requirement\": \"Familiarity with microservices architecture\",\n",
    "        \"matchPercentage\": 0,\n",
    "        \"explanation\": \"No mention or evidence of familiarity with microservices architecture.\",\n",
    "        \"matchType\": \"No Match\"\n",
    "      },\n",
    "      {\n",
    "        \"requirement\": \"Experience mentoring junior developers\",\n",
    "        \"matchPercentage\": 0,\n",
    "        \"explanation\": \"No evidence of mentoring experience.\",\n",
    "        \"matchType\": \"No Match\"\n",
    "      }\n",
    "    ],\n",
    "    \"experienceLevelAlignment\": {\n",
    "      \"matchPercentage\": 70,\n",
    "      \"explanation\": \"The candidate's project portfolio suggests a strong foundation, but lacks the specific experience with technologies like React.js, Django, AWS/Azure, and CI/CD that are crucial for a Senior Full Stack Developer role.  More experience is needed to fully align with the seniority level.\"\n",
    "    },\n",
    "    \"culturalFitIndicators\": {\n",
    "      \"matchPercentage\": 80,\n",
    "      \"explanation\": \"The candidate's active GitHub profile, diverse project portfolio, and willingness to learn suggest a good cultural fit.  Their practical application of skills and focus on results are positive indicators.  Further assessment of teamwork and communication skills would be beneficial.\"\n",
    "    },\n",
    "    \"growthPotential\": {\n",
    "      \"matchPercentage\": 90,\n",
    "      \"explanation\": \"The candidate demonstrates a strong learning ability and actively seeks new challenges.  Their identified growth areas are addressable through focused learning and experience.  The candidate has the potential to quickly acquire the missing skills.\"\n",
    "    },\n",
    "    \"overallMatchPercentage\": 45,\n",
    "    \"explanation\": \"The overall match percentage is weighted heavily towards essential requirements.  Significant gaps exist in crucial areas like React.js, Django, cloud platforms, CI/CD, and DevOps. While the candidate possesses a strong foundation and learning agility, these gaps need to be addressed before they can be considered a strong match for this senior-level role.\"\n",
    "  }\n",
    "}\n",
    "```"
   ]
  },
  {
   "cell_type": "markdown",
   "metadata": {},
   "source": [
    "## Evaluation Pipeline Manager\n",
    "```json\n",
    "{\n",
    "  \"evaluationPipeline\": {\n",
    "    \"stage1\": {\n",
    "      \"name\": \"Basic Eligibility Check\",\n",
    "      \"maxPoints\": 20,\n",
    "      \"score\": 15,\n",
    "      \"justification\": \"The candidate meets the basic education requirement (Bachelor of Engineering in AI).  However, the years of experience are inferred from projects, not explicitly stated, resulting in a deduction of 5 points.  Certifications are partially verified, leading to further point reduction. Location verification is not applicable in this case.\",\n",
    "      \"keyFactors\": {\n",
    "        \"education\": \"Met\",\n",
    "        \"experience\": \"Inferred (partially met)\",\n",
    "        \"certifications\": \"Partially verified\"\n",
    "      }\n",
    "    },\n",
    "    \"stage2\": {\n",
    "      \"name\": \"Skill Match Evaluation\",\n",
    "      \"maxPoints\": 40,\n",
    "      \"score\": 28,\n",
    "      \"justification\": \"The candidate demonstrates strong proficiency in Python and several relevant frameworks and tools.  However, significant gaps exist in essential requirements like React.js, Django, and cloud platforms.  Essential skills are weighted more heavily, resulting in a moderate score.\",\n",
    "      \"keyFactors\": {\n",
    "        \"matchedSkills\": [\"Python\", \"Flutter\", \"Flask\", \"Streamlit\", \"Selenium\", \"Firebase\", \"MongoDB\", \"ML\", \"NLP\", \"DL\", \"Testing\"],\n",
    "        \"missingSkills\": [\"React.js\", \"Django\", \"AWS/Azure\", \"CI/CD\", \"DevOps\"],\n",
    "        \"bonusSkills\": []\n",
    "      },\n",
    "      \"skillWeights\": {\n",
    "        \"essential\": 0.7,\n",
    "        \"preferred\": 0.3\n",
    "      }\n",
    "    },\n",
    "    \"stage3\": {\n",
    "      \"name\": \"Domain-Specific Experience Check\",\n",
    "      \"maxPoints\": 15,\n",
    "      \"score\": 10,\n",
    "      \"justification\": \"The candidate's projects and research experience demonstrate some relevance to the AI/ML domain.  However, the depth of experience in specific domain areas needs further clarification.  The publication record adds to the score.\",\n",
    "      \"keyFactors\": {\n",
    "        \"projects\": \"Relevant projects in AI/ML\",\n",
    "        \"research\": \"Demonstrates domain knowledge\",\n",
    "        \"publications\": \"Adds to domain expertise\"\n",
    "      }\n",
    "    },\n",
    "    \"stage4\": {\n",
    "      \"name\": \"Role Fit and Achievements Alignment\",\n",
    "      \"maxPoints\": 25,\n",
    "      \"score\": 22,\n",
    "      \"justification\": \"The candidate's achievements, particularly the Health Hackathon finalist position and research contributions, demonstrate impact and initiative.  Leadership experience in the Infosys internship is a positive factor.  However, direct alignment with specific job responsibilities needs further assessment.\",\n",
    "      \"keyFactors\": {\n",
    "        \"achievements\": \"Demonstrates impact and initiative\",\n",
    "        \"leadership\": \"Present in Infosys internship\",\n",
    "        \"alignment\": \"Partially aligned with job responsibilities\"\n",
    "      }\n",
    "    },\n",
    "    \"total\": {\n",
    "      \"maxScore\": 100,\n",
    "      \"score\": 75,\n",
    "      \"recommendation\": \"Proceed to interview\",\n",
    "      \"additionalNotes\": \"While the candidate shows strong potential and a solid foundation, the significant gaps in essential skills identified in Stage 2 should be addressed during the interview process.  Further investigation into the timeline and depth of projects is recommended to better assess experience level.\"\n",
    "    }\n",
    "  }\n",
    "}\n",
    "```"
   ]
  },
  {
   "cell_type": "markdown",
   "metadata": {},
   "source": [
    "## Technical Interview Question Generator\n",
    "```json\n",
    "{\n",
    "  \"questions\": [\n",
    "    {\n",
    "      \"question\": \"Your NurtureSync project uses Flask, Streamlit, MongoDB, and Firebase.  Describe the architecture of your application, focusing on how these technologies interact.  Explain your choice of technologies for each component and any challenges you faced during integration.\",\n",
    "      \"assessment\": \"Assesses understanding of application architecture, technology choices, and integration challenges.  Evaluates problem-solving skills and ability to explain technical decisions.\",\n",
    "      \"difficulty\": \"Intermediate\",\n",
    "      \"goodAnswer\": \"A good answer would detail the interaction between the frontend (Streamlit), backend (Flask), database (MongoDB), and backend services (Firebase).  It should justify the choice of each technology based on its strengths and address challenges encountered during development, such as data synchronization between the mobile and web apps or handling real-time updates.\"\n",
    "    },\n",
    "    {\n",
    "      \"question\": \"In your DeepFake detection project, you used MTCNN, ResNet, and LSTM.  Explain the role of each component in your pipeline and the rationale behind your choice of these specific models.  How did you address the challenges of real-time video processing?\",\n",
    "      \"assessment\": \"Assesses understanding of Deep Learning models and their application in Computer Vision.  Evaluates problem-solving skills and ability to explain technical choices.\",\n",
    "      \"difficulty\": \"Advanced\",\n",
    "      \"goodAnswer\": \"A good answer would clearly explain the function of each component (MTCNN for face detection, ResNet for feature extraction, LSTM for temporal analysis) and justify the selection based on their strengths and suitability for DeepFake detection.  It should also discuss challenges related to real-time processing, such as computational cost and optimization techniques used to improve performance.\"\n",
    "    },\n",
    "    {\n",
    "      \"question\": \"Your resume mentions experience with Selenium for automated testing. Describe a complex testing scenario you encountered at Baavlibuch and how you approached automating the tests using Selenium. What challenges did you face, and how did you overcome them?\",\n",
    "      \"assessment\": \"Assesses practical experience with Selenium and problem-solving skills in a testing context.  Evaluates ability to handle complex scenarios and explain technical solutions.\",\n",
    "      \"difficulty\": \"Intermediate\",\n",
    "      \"goodAnswer\": \"A good answer would describe a specific, complex testing scenario, outlining the steps involved in automating the tests using Selenium.  It should highlight challenges encountered, such as dealing with dynamic web elements or handling asynchronous operations, and explain the solutions implemented to overcome these challenges.\"\n",
    "    },\n",
    "    {\n",
    "      \"question\": \"Design a system for real-time monitoring of rangeland vegetation using LANDSAT data, similar to your research project.  Consider scalability, data processing, and visualization aspects.  What technologies would you choose and why?\",\n",
    "      \"assessment\": \"Assesses system design skills, understanding of data processing pipelines, and ability to choose appropriate technologies for a real-world problem.  Evaluates ability to think about scalability and performance.\",\n",
    "      \"difficulty\": \"Advanced\",\n",
    "      \"goodAnswer\": \"A good answer would outline a system architecture for real-time monitoring, including data ingestion, preprocessing, analysis, and visualization components.  It should justify the choice of technologies (e.g., cloud platforms for storage and processing, specific libraries for data analysis and visualization) based on their suitability for the task and scalability requirements.\"\n",
    "    },\n",
    "    {\n",
    "      \"question\": \"You have extensive experience with Python and Flask.  Let's say you need to build a RESTful API for NurtureSync using Django instead of Flask.  What are the key differences you would encounter, and what changes would you need to make to your existing codebase?\",\n",
    "      \"assessment\": \"Assesses adaptability and understanding of different web frameworks.  Evaluates ability to transfer knowledge and adapt to new technologies.\",\n",
    "      \"difficulty\": \"Intermediate\",\n",
    "      \"goodAnswer\": \"A good answer would identify key differences between Flask and Django (e.g., ORM, project structure, templating engines) and explain how these differences would impact the development process.  It should outline the necessary changes to the codebase to migrate from Flask to Django while maintaining functionality.\"\n",
    "    },\n",
    "    {\n",
    "      \"question\": \"Imagine you need to deploy your NurtureSync application to AWS.  Describe the steps involved in setting up the infrastructure, deploying the application, and ensuring scalability and reliability.  What services would you use and why?\",\n",
    "      \"assessment\": \"Assesses understanding of cloud deployment and scalability.  Evaluates ability to apply knowledge to a new context and address practical challenges.\",\n",
    "      \"difficulty\": \"Advanced\",\n",
    "      \"goodAnswer\": \"A good answer would outline the steps involved in deploying NurtureSync to AWS, including choosing appropriate services (e.g., EC2, S3, RDS, Lambda), configuring the infrastructure, and implementing strategies for scalability and reliability (e.g., load balancing, auto-scaling).  It should also address security considerations.\"\n",
    "    },\n",
    "    {\n",
    "      \"question\": \"You mentioned working with Linux in your Baavlibuch internship.  Let's say you need to implement a CI/CD pipeline for your DeepFake detection project using Docker and Jenkins.  Describe the steps involved in setting up the pipeline and automating the build, testing, and deployment processes.\",\n",
    "      \"assessment\": \"Assesses understanding of CI/CD pipelines and Docker.  Evaluates ability to apply knowledge to a new context and address practical challenges.\",\n",
    "      \"difficulty\": \"Advanced\",\n",
    "      \"goodAnswer\": \"A good answer would outline the steps involved in setting up a CI/CD pipeline using Docker and Jenkins, including creating Docker images, configuring Jenkins jobs, automating the build and testing processes, and deploying the application to a target environment.  It should also address version control and error handling.\"\n",
    "    }\n",
    "  ]\n",
    "}\n",
    "```"
   ]
  },
  {
   "cell_type": "markdown",
   "metadata": {},
   "source": []
  }
 ],
 "metadata": {
  "kernelspec": {
   "display_name": "skill_ass",
   "language": "python",
   "name": "python3"
  },
  "language_info": {
   "codemirror_mode": {
    "name": "ipython",
    "version": 3
   },
   "file_extension": ".py",
   "mimetype": "text/x-python",
   "name": "python",
   "nbconvert_exporter": "python",
   "pygments_lexer": "ipython3",
   "version": "3.12.3"
  }
 },
 "nbformat": 4,
 "nbformat_minor": 2
}
